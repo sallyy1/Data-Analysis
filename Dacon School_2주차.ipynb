{
 "cells": [
  {
   "cell_type": "markdown",
   "metadata": {},
   "source": [
    "https://dacon.io/competitions/official/21265/overview/"
   ]
  },
  {
   "cell_type": "markdown",
   "metadata": {},
   "source": [
    "# 1주차"
   ]
  },
  {
   "cell_type": "markdown",
   "metadata": {},
   "source": [
    "# Library"
   ]
  },
  {
   "cell_type": "code",
   "execution_count": 2,
   "metadata": {
    "ExecuteTime": {
     "end_time": "2020-11-15T10:36:38.290607Z",
     "start_time": "2020-11-15T10:36:38.288606Z"
    },
    "run_control": {
     "marked": false
    }
   },
   "outputs": [],
   "source": [
    "# import matplotlib.font_manager as fm\n",
    "\n",
    "# # 설치된 폰트 출력\n",
    "# font_list = [font.name for font in fm.fontManager.ttflist]\n",
    "# font_list"
   ]
  },
  {
   "cell_type": "code",
   "execution_count": 3,
   "metadata": {
    "ExecuteTime": {
     "end_time": "2020-11-15T10:36:39.481873Z",
     "start_time": "2020-11-15T10:36:38.294608Z"
    }
   },
   "outputs": [],
   "source": [
    "import warnings\n",
    "warnings.filterwarnings('ignore')\n",
    "import pandas as pd\n",
    "from tqdm import tqdm\n",
    "import matplotlib.pyplot as plt\n",
    "import seaborn as sns\n",
    "import random\n",
    "import numpy as np\n",
    "\n",
    "\n",
    "%matplotlib inline\n",
    "plt.rcParams['axes.unicode_minus'] = False\n",
    "plt.rcParams['font.family'] = 'Hancom Gothic'"
   ]
  },
  {
   "cell_type": "markdown",
   "metadata": {},
   "source": [
    "# Data Load\n",
    "|columns|information|\n",
    "|----|-------|\n",
    "|transaction_id| 인덱스\n",
    "|apartment_id| 아파트 아이디\n",
    "|city| 도시\n",
    "|dong| 동\n",
    "|jibun| 지번\n",
    "|apt| 아파트 단지 이름\n",
    "|addr_kr| 주소\n",
    "|exclusive_use_area| 전용 면적\n",
    "|year_of_completion| 설립일자\n",
    "|transaction_year_month| 거래년월\n",
    "|transaction_date| 거래 날짜\n",
    "|floor| 층\n",
    "|transaction_real_price| 실거래가"
   ]
  },
  {
   "cell_type": "code",
   "execution_count": 4,
   "metadata": {
    "ExecuteTime": {
     "end_time": "2020-11-15T10:36:40.837195Z",
     "start_time": "2020-11-15T10:36:39.482874Z"
    }
   },
   "outputs": [
    {
     "ename": "FileNotFoundError",
     "evalue": "[Errno 2] No such file or directory: 'train.csv'",
     "output_type": "error",
     "traceback": [
      "\u001b[0;31m---------------------------------------------------------------------------\u001b[0m",
      "\u001b[0;31mFileNotFoundError\u001b[0m                         Traceback (most recent call last)",
      "\u001b[0;32m<ipython-input-4-221a484df036>\u001b[0m in \u001b[0;36m<module>\u001b[0;34m\u001b[0m\n\u001b[0;32m----> 1\u001b[0;31m \u001b[0mtrain\u001b[0m \u001b[0;34m=\u001b[0m \u001b[0mpd\u001b[0m\u001b[0;34m.\u001b[0m\u001b[0mread_csv\u001b[0m\u001b[0;34m(\u001b[0m\u001b[0;34m'train.csv'\u001b[0m\u001b[0;34m)\u001b[0m\u001b[0;34m\u001b[0m\u001b[0;34m\u001b[0m\u001b[0m\n\u001b[0m\u001b[1;32m      2\u001b[0m \u001b[0mday_care_center\u001b[0m \u001b[0;34m=\u001b[0m \u001b[0mpd\u001b[0m\u001b[0;34m.\u001b[0m\u001b[0mread_csv\u001b[0m\u001b[0;34m(\u001b[0m\u001b[0;34m'day_care_center.csv'\u001b[0m\u001b[0;34m)\u001b[0m\u001b[0;34m\u001b[0m\u001b[0;34m\u001b[0m\u001b[0m\n\u001b[1;32m      3\u001b[0m \u001b[0mpark\u001b[0m\u001b[0;34m=\u001b[0m\u001b[0mpd\u001b[0m\u001b[0;34m.\u001b[0m\u001b[0mread_csv\u001b[0m\u001b[0;34m(\u001b[0m\u001b[0;34m'park.csv'\u001b[0m\u001b[0;34m)\u001b[0m\u001b[0;34m\u001b[0m\u001b[0;34m\u001b[0m\u001b[0m\n",
      "\u001b[0;32m~/opt/anaconda3/lib/python3.8/site-packages/pandas/io/parsers.py\u001b[0m in \u001b[0;36mread_csv\u001b[0;34m(filepath_or_buffer, sep, delimiter, header, names, index_col, usecols, squeeze, prefix, mangle_dupe_cols, dtype, engine, converters, true_values, false_values, skipinitialspace, skiprows, skipfooter, nrows, na_values, keep_default_na, na_filter, verbose, skip_blank_lines, parse_dates, infer_datetime_format, keep_date_col, date_parser, dayfirst, cache_dates, iterator, chunksize, compression, thousands, decimal, lineterminator, quotechar, quoting, doublequote, escapechar, comment, encoding, dialect, error_bad_lines, warn_bad_lines, delim_whitespace, low_memory, memory_map, float_precision)\u001b[0m\n\u001b[1;32m    686\u001b[0m     )\n\u001b[1;32m    687\u001b[0m \u001b[0;34m\u001b[0m\u001b[0m\n\u001b[0;32m--> 688\u001b[0;31m     \u001b[0;32mreturn\u001b[0m \u001b[0m_read\u001b[0m\u001b[0;34m(\u001b[0m\u001b[0mfilepath_or_buffer\u001b[0m\u001b[0;34m,\u001b[0m \u001b[0mkwds\u001b[0m\u001b[0;34m)\u001b[0m\u001b[0;34m\u001b[0m\u001b[0;34m\u001b[0m\u001b[0m\n\u001b[0m\u001b[1;32m    689\u001b[0m \u001b[0;34m\u001b[0m\u001b[0m\n\u001b[1;32m    690\u001b[0m \u001b[0;34m\u001b[0m\u001b[0m\n",
      "\u001b[0;32m~/opt/anaconda3/lib/python3.8/site-packages/pandas/io/parsers.py\u001b[0m in \u001b[0;36m_read\u001b[0;34m(filepath_or_buffer, kwds)\u001b[0m\n\u001b[1;32m    452\u001b[0m \u001b[0;34m\u001b[0m\u001b[0m\n\u001b[1;32m    453\u001b[0m     \u001b[0;31m# Create the parser.\u001b[0m\u001b[0;34m\u001b[0m\u001b[0;34m\u001b[0m\u001b[0;34m\u001b[0m\u001b[0m\n\u001b[0;32m--> 454\u001b[0;31m     \u001b[0mparser\u001b[0m \u001b[0;34m=\u001b[0m \u001b[0mTextFileReader\u001b[0m\u001b[0;34m(\u001b[0m\u001b[0mfp_or_buf\u001b[0m\u001b[0;34m,\u001b[0m \u001b[0;34m**\u001b[0m\u001b[0mkwds\u001b[0m\u001b[0;34m)\u001b[0m\u001b[0;34m\u001b[0m\u001b[0;34m\u001b[0m\u001b[0m\n\u001b[0m\u001b[1;32m    455\u001b[0m \u001b[0;34m\u001b[0m\u001b[0m\n\u001b[1;32m    456\u001b[0m     \u001b[0;32mif\u001b[0m \u001b[0mchunksize\u001b[0m \u001b[0;32mor\u001b[0m \u001b[0miterator\u001b[0m\u001b[0;34m:\u001b[0m\u001b[0;34m\u001b[0m\u001b[0;34m\u001b[0m\u001b[0m\n",
      "\u001b[0;32m~/opt/anaconda3/lib/python3.8/site-packages/pandas/io/parsers.py\u001b[0m in \u001b[0;36m__init__\u001b[0;34m(self, f, engine, **kwds)\u001b[0m\n\u001b[1;32m    946\u001b[0m             \u001b[0mself\u001b[0m\u001b[0;34m.\u001b[0m\u001b[0moptions\u001b[0m\u001b[0;34m[\u001b[0m\u001b[0;34m\"has_index_names\"\u001b[0m\u001b[0;34m]\u001b[0m \u001b[0;34m=\u001b[0m \u001b[0mkwds\u001b[0m\u001b[0;34m[\u001b[0m\u001b[0;34m\"has_index_names\"\u001b[0m\u001b[0;34m]\u001b[0m\u001b[0;34m\u001b[0m\u001b[0;34m\u001b[0m\u001b[0m\n\u001b[1;32m    947\u001b[0m \u001b[0;34m\u001b[0m\u001b[0m\n\u001b[0;32m--> 948\u001b[0;31m         \u001b[0mself\u001b[0m\u001b[0;34m.\u001b[0m\u001b[0m_make_engine\u001b[0m\u001b[0;34m(\u001b[0m\u001b[0mself\u001b[0m\u001b[0;34m.\u001b[0m\u001b[0mengine\u001b[0m\u001b[0;34m)\u001b[0m\u001b[0;34m\u001b[0m\u001b[0;34m\u001b[0m\u001b[0m\n\u001b[0m\u001b[1;32m    949\u001b[0m \u001b[0;34m\u001b[0m\u001b[0m\n\u001b[1;32m    950\u001b[0m     \u001b[0;32mdef\u001b[0m \u001b[0mclose\u001b[0m\u001b[0;34m(\u001b[0m\u001b[0mself\u001b[0m\u001b[0;34m)\u001b[0m\u001b[0;34m:\u001b[0m\u001b[0;34m\u001b[0m\u001b[0;34m\u001b[0m\u001b[0m\n",
      "\u001b[0;32m~/opt/anaconda3/lib/python3.8/site-packages/pandas/io/parsers.py\u001b[0m in \u001b[0;36m_make_engine\u001b[0;34m(self, engine)\u001b[0m\n\u001b[1;32m   1178\u001b[0m     \u001b[0;32mdef\u001b[0m \u001b[0m_make_engine\u001b[0m\u001b[0;34m(\u001b[0m\u001b[0mself\u001b[0m\u001b[0;34m,\u001b[0m \u001b[0mengine\u001b[0m\u001b[0;34m=\u001b[0m\u001b[0;34m\"c\"\u001b[0m\u001b[0;34m)\u001b[0m\u001b[0;34m:\u001b[0m\u001b[0;34m\u001b[0m\u001b[0;34m\u001b[0m\u001b[0m\n\u001b[1;32m   1179\u001b[0m         \u001b[0;32mif\u001b[0m \u001b[0mengine\u001b[0m \u001b[0;34m==\u001b[0m \u001b[0;34m\"c\"\u001b[0m\u001b[0;34m:\u001b[0m\u001b[0;34m\u001b[0m\u001b[0;34m\u001b[0m\u001b[0m\n\u001b[0;32m-> 1180\u001b[0;31m             \u001b[0mself\u001b[0m\u001b[0;34m.\u001b[0m\u001b[0m_engine\u001b[0m \u001b[0;34m=\u001b[0m \u001b[0mCParserWrapper\u001b[0m\u001b[0;34m(\u001b[0m\u001b[0mself\u001b[0m\u001b[0;34m.\u001b[0m\u001b[0mf\u001b[0m\u001b[0;34m,\u001b[0m \u001b[0;34m**\u001b[0m\u001b[0mself\u001b[0m\u001b[0;34m.\u001b[0m\u001b[0moptions\u001b[0m\u001b[0;34m)\u001b[0m\u001b[0;34m\u001b[0m\u001b[0;34m\u001b[0m\u001b[0m\n\u001b[0m\u001b[1;32m   1181\u001b[0m         \u001b[0;32melse\u001b[0m\u001b[0;34m:\u001b[0m\u001b[0;34m\u001b[0m\u001b[0;34m\u001b[0m\u001b[0m\n\u001b[1;32m   1182\u001b[0m             \u001b[0;32mif\u001b[0m \u001b[0mengine\u001b[0m \u001b[0;34m==\u001b[0m \u001b[0;34m\"python\"\u001b[0m\u001b[0;34m:\u001b[0m\u001b[0;34m\u001b[0m\u001b[0;34m\u001b[0m\u001b[0m\n",
      "\u001b[0;32m~/opt/anaconda3/lib/python3.8/site-packages/pandas/io/parsers.py\u001b[0m in \u001b[0;36m__init__\u001b[0;34m(self, src, **kwds)\u001b[0m\n\u001b[1;32m   2008\u001b[0m         \u001b[0mkwds\u001b[0m\u001b[0;34m[\u001b[0m\u001b[0;34m\"usecols\"\u001b[0m\u001b[0;34m]\u001b[0m \u001b[0;34m=\u001b[0m \u001b[0mself\u001b[0m\u001b[0;34m.\u001b[0m\u001b[0musecols\u001b[0m\u001b[0;34m\u001b[0m\u001b[0;34m\u001b[0m\u001b[0m\n\u001b[1;32m   2009\u001b[0m \u001b[0;34m\u001b[0m\u001b[0m\n\u001b[0;32m-> 2010\u001b[0;31m         \u001b[0mself\u001b[0m\u001b[0;34m.\u001b[0m\u001b[0m_reader\u001b[0m \u001b[0;34m=\u001b[0m \u001b[0mparsers\u001b[0m\u001b[0;34m.\u001b[0m\u001b[0mTextReader\u001b[0m\u001b[0;34m(\u001b[0m\u001b[0msrc\u001b[0m\u001b[0;34m,\u001b[0m \u001b[0;34m**\u001b[0m\u001b[0mkwds\u001b[0m\u001b[0;34m)\u001b[0m\u001b[0;34m\u001b[0m\u001b[0;34m\u001b[0m\u001b[0m\n\u001b[0m\u001b[1;32m   2011\u001b[0m         \u001b[0mself\u001b[0m\u001b[0;34m.\u001b[0m\u001b[0munnamed_cols\u001b[0m \u001b[0;34m=\u001b[0m \u001b[0mself\u001b[0m\u001b[0;34m.\u001b[0m\u001b[0m_reader\u001b[0m\u001b[0;34m.\u001b[0m\u001b[0munnamed_cols\u001b[0m\u001b[0;34m\u001b[0m\u001b[0;34m\u001b[0m\u001b[0m\n\u001b[1;32m   2012\u001b[0m \u001b[0;34m\u001b[0m\u001b[0m\n",
      "\u001b[0;32mpandas/_libs/parsers.pyx\u001b[0m in \u001b[0;36mpandas._libs.parsers.TextReader.__cinit__\u001b[0;34m()\u001b[0m\n",
      "\u001b[0;32mpandas/_libs/parsers.pyx\u001b[0m in \u001b[0;36mpandas._libs.parsers.TextReader._setup_parser_source\u001b[0;34m()\u001b[0m\n",
      "\u001b[0;31mFileNotFoundError\u001b[0m: [Errno 2] No such file or directory: 'train.csv'"
     ]
    }
   ],
   "source": [
    "train = pd.read_csv('train.csv')\n",
    "day_care_center = pd.read_csv('day_care_center.csv')\n",
    "park=pd.read_csv('park.csv')"
   ]
  },
  {
   "cell_type": "markdown",
   "metadata": {},
   "source": [
    "# 데이터 확인"
   ]
  },
  {
   "cell_type": "markdown",
   "metadata": {
    "ExecuteTime": {
     "end_time": "2020-11-09T18:22:08.513808Z",
     "start_time": "2020-11-09T18:22:08.482810Z"
    }
   },
   "source": [
    "## 컬럼 확인\n"
   ]
  },
  {
   "cell_type": "code",
   "execution_count": 5,
   "metadata": {
    "ExecuteTime": {
     "end_time": "2020-11-15T10:36:40.843196Z",
     "start_time": "2020-11-15T10:36:40.838195Z"
    },
    "scrolled": true
   },
   "outputs": [
    {
     "name": "stdout",
     "output_type": "stream",
     "text": [
      "['transaction_id', 'apartment_id', 'city', 'dong', 'jibun', 'apt', 'addr_kr', 'exclusive_use_area', 'year_of_completion', 'transaction_year_month', 'transaction_date', 'floor', 'transaction_real_price']\n"
     ]
    }
   ],
   "source": [
    "print(list(train.columns))"
   ]
  },
  {
   "cell_type": "code",
   "execution_count": 6,
   "metadata": {
    "ExecuteTime": {
     "end_time": "2020-11-15T10:36:40.938218Z",
     "start_time": "2020-11-15T10:36:40.844197Z"
    }
   },
   "outputs": [],
   "source": [
    "train = train.drop(['transaction_id'], axis=1)"
   ]
  },
  {
   "cell_type": "markdown",
   "metadata": {},
   "source": [
    "##  결측값 확인"
   ]
  },
  {
   "cell_type": "code",
   "execution_count": 7,
   "metadata": {
    "ExecuteTime": {
     "end_time": "2020-11-15T10:36:41.150264Z",
     "start_time": "2020-11-15T10:36:40.939218Z"
    }
   },
   "outputs": [
    {
     "data": {
      "text/plain": [
       "apartment_id              0\n",
       "city                      0\n",
       "dong                      0\n",
       "jibun                     0\n",
       "apt                       0\n",
       "addr_kr                   0\n",
       "exclusive_use_area        0\n",
       "year_of_completion        0\n",
       "transaction_year_month    0\n",
       "transaction_date          0\n",
       "floor                     0\n",
       "transaction_real_price    0\n",
       "dtype: int64"
      ]
     },
     "execution_count": 7,
     "metadata": {},
     "output_type": "execute_result"
    }
   ],
   "source": [
    "train.isnull().sum()            "
   ]
  },
  {
   "cell_type": "markdown",
   "metadata": {
    "ExecuteTime": {
     "end_time": "2020-11-09T18:23:10.819001Z",
     "start_time": "2020-11-09T18:23:10.816999Z"
    }
   },
   "source": [
    "## 상위 5개 확인"
   ]
  },
  {
   "cell_type": "code",
   "execution_count": 8,
   "metadata": {
    "ExecuteTime": {
     "end_time": "2020-11-15T10:36:41.166269Z",
     "start_time": "2020-11-15T10:36:41.152265Z"
    }
   },
   "outputs": [
    {
     "data": {
      "text/html": [
       "<div>\n",
       "<style scoped>\n",
       "    .dataframe tbody tr th:only-of-type {\n",
       "        vertical-align: middle;\n",
       "    }\n",
       "\n",
       "    .dataframe tbody tr th {\n",
       "        vertical-align: top;\n",
       "    }\n",
       "\n",
       "    .dataframe thead th {\n",
       "        text-align: right;\n",
       "    }\n",
       "</style>\n",
       "<table border=\"1\" class=\"dataframe\">\n",
       "  <thead>\n",
       "    <tr style=\"text-align: right;\">\n",
       "      <th></th>\n",
       "      <th>apartment_id</th>\n",
       "      <th>city</th>\n",
       "      <th>dong</th>\n",
       "      <th>jibun</th>\n",
       "      <th>apt</th>\n",
       "      <th>addr_kr</th>\n",
       "      <th>exclusive_use_area</th>\n",
       "      <th>year_of_completion</th>\n",
       "      <th>transaction_year_month</th>\n",
       "      <th>transaction_date</th>\n",
       "      <th>floor</th>\n",
       "      <th>transaction_real_price</th>\n",
       "    </tr>\n",
       "  </thead>\n",
       "  <tbody>\n",
       "    <tr>\n",
       "      <th>0</th>\n",
       "      <td>7622</td>\n",
       "      <td>서울특별시</td>\n",
       "      <td>신교동</td>\n",
       "      <td>6-13</td>\n",
       "      <td>신현(101동)</td>\n",
       "      <td>신교동 6-13 신현(101동)</td>\n",
       "      <td>84.82</td>\n",
       "      <td>2002</td>\n",
       "      <td>200801</td>\n",
       "      <td>21~31</td>\n",
       "      <td>2</td>\n",
       "      <td>37500</td>\n",
       "    </tr>\n",
       "    <tr>\n",
       "      <th>1</th>\n",
       "      <td>5399</td>\n",
       "      <td>서울특별시</td>\n",
       "      <td>필운동</td>\n",
       "      <td>142</td>\n",
       "      <td>사직파크맨션</td>\n",
       "      <td>필운동 142 사직파크맨션</td>\n",
       "      <td>99.17</td>\n",
       "      <td>1973</td>\n",
       "      <td>200801</td>\n",
       "      <td>1~10</td>\n",
       "      <td>6</td>\n",
       "      <td>20000</td>\n",
       "    </tr>\n",
       "    <tr>\n",
       "      <th>2</th>\n",
       "      <td>3578</td>\n",
       "      <td>서울특별시</td>\n",
       "      <td>필운동</td>\n",
       "      <td>174-1</td>\n",
       "      <td>두레엘리시안</td>\n",
       "      <td>필운동 174-1 두레엘리시안</td>\n",
       "      <td>84.74</td>\n",
       "      <td>2007</td>\n",
       "      <td>200801</td>\n",
       "      <td>1~10</td>\n",
       "      <td>6</td>\n",
       "      <td>38500</td>\n",
       "    </tr>\n",
       "    <tr>\n",
       "      <th>3</th>\n",
       "      <td>10957</td>\n",
       "      <td>서울특별시</td>\n",
       "      <td>내수동</td>\n",
       "      <td>95</td>\n",
       "      <td>파크팰리스</td>\n",
       "      <td>내수동 95 파크팰리스</td>\n",
       "      <td>146.39</td>\n",
       "      <td>2003</td>\n",
       "      <td>200801</td>\n",
       "      <td>11~20</td>\n",
       "      <td>15</td>\n",
       "      <td>118000</td>\n",
       "    </tr>\n",
       "    <tr>\n",
       "      <th>4</th>\n",
       "      <td>10639</td>\n",
       "      <td>서울특별시</td>\n",
       "      <td>내수동</td>\n",
       "      <td>110-15</td>\n",
       "      <td>킹스매너</td>\n",
       "      <td>내수동 110-15 킹스매너</td>\n",
       "      <td>194.43</td>\n",
       "      <td>2004</td>\n",
       "      <td>200801</td>\n",
       "      <td>21~31</td>\n",
       "      <td>3</td>\n",
       "      <td>120000</td>\n",
       "    </tr>\n",
       "  </tbody>\n",
       "</table>\n",
       "</div>"
      ],
      "text/plain": [
       "   apartment_id   city dong   jibun       apt            addr_kr  \\\n",
       "0          7622  서울특별시  신교동    6-13  신현(101동)  신교동 6-13 신현(101동)   \n",
       "1          5399  서울특별시  필운동     142    사직파크맨션     필운동 142 사직파크맨션   \n",
       "2          3578  서울특별시  필운동   174-1    두레엘리시안   필운동 174-1 두레엘리시안   \n",
       "3         10957  서울특별시  내수동      95     파크팰리스       내수동 95 파크팰리스   \n",
       "4         10639  서울특별시  내수동  110-15      킹스매너    내수동 110-15 킹스매너   \n",
       "\n",
       "   exclusive_use_area  year_of_completion  transaction_year_month  \\\n",
       "0               84.82                2002                  200801   \n",
       "1               99.17                1973                  200801   \n",
       "2               84.74                2007                  200801   \n",
       "3              146.39                2003                  200801   \n",
       "4              194.43                2004                  200801   \n",
       "\n",
       "  transaction_date  floor  transaction_real_price  \n",
       "0            21~31      2                   37500  \n",
       "1             1~10      6                   20000  \n",
       "2             1~10      6                   38500  \n",
       "3            11~20     15                  118000  \n",
       "4            21~31      3                  120000  "
      ]
     },
     "execution_count": 8,
     "metadata": {},
     "output_type": "execute_result"
    }
   ],
   "source": [
    "train.head()"
   ]
  },
  {
   "cell_type": "code",
   "execution_count": 9,
   "metadata": {
    "ExecuteTime": {
     "end_time": "2020-11-15T10:36:41.178271Z",
     "start_time": "2020-11-15T10:36:41.168268Z"
    }
   },
   "outputs": [
    {
     "data": {
      "text/html": [
       "<div>\n",
       "<style scoped>\n",
       "    .dataframe tbody tr th:only-of-type {\n",
       "        vertical-align: middle;\n",
       "    }\n",
       "\n",
       "    .dataframe tbody tr th {\n",
       "        vertical-align: top;\n",
       "    }\n",
       "\n",
       "    .dataframe thead th {\n",
       "        text-align: right;\n",
       "    }\n",
       "</style>\n",
       "<table border=\"1\" class=\"dataframe\">\n",
       "  <thead>\n",
       "    <tr style=\"text-align: right;\">\n",
       "      <th></th>\n",
       "      <th>city</th>\n",
       "      <th>gu</th>\n",
       "      <th>day_care_name</th>\n",
       "      <th>day_care_type</th>\n",
       "      <th>day_care_baby_num</th>\n",
       "      <th>teacher_num</th>\n",
       "      <th>nursing_room_num</th>\n",
       "      <th>playground_num</th>\n",
       "      <th>CCTV_num</th>\n",
       "      <th>is_commuting_vehicle</th>\n",
       "      <th>reference_date</th>\n",
       "    </tr>\n",
       "  </thead>\n",
       "  <tbody>\n",
       "    <tr>\n",
       "      <th>0</th>\n",
       "      <td>서울특별시</td>\n",
       "      <td>서대문구</td>\n",
       "      <td>가람어린이집</td>\n",
       "      <td>국공립</td>\n",
       "      <td>70</td>\n",
       "      <td>11.0</td>\n",
       "      <td>5.0</td>\n",
       "      <td>1.0</td>\n",
       "      <td>7.0</td>\n",
       "      <td>N</td>\n",
       "      <td>2018-07-31</td>\n",
       "    </tr>\n",
       "    <tr>\n",
       "      <th>1</th>\n",
       "      <td>서울특별시</td>\n",
       "      <td>서대문구</td>\n",
       "      <td>가좌제일어린이집</td>\n",
       "      <td>국공립</td>\n",
       "      <td>88</td>\n",
       "      <td>22.0</td>\n",
       "      <td>5.0</td>\n",
       "      <td>2.0</td>\n",
       "      <td>10.0</td>\n",
       "      <td>N</td>\n",
       "      <td>2018-07-31</td>\n",
       "    </tr>\n",
       "    <tr>\n",
       "      <th>2</th>\n",
       "      <td>서울특별시</td>\n",
       "      <td>서대문구</td>\n",
       "      <td>경찰청어린이집</td>\n",
       "      <td>직장</td>\n",
       "      <td>90</td>\n",
       "      <td>23.0</td>\n",
       "      <td>6.0</td>\n",
       "      <td>1.0</td>\n",
       "      <td>32.0</td>\n",
       "      <td>N</td>\n",
       "      <td>2018-07-31</td>\n",
       "    </tr>\n",
       "    <tr>\n",
       "      <th>3</th>\n",
       "      <td>서울특별시</td>\n",
       "      <td>서대문구</td>\n",
       "      <td>고운햇살어린이집</td>\n",
       "      <td>가정</td>\n",
       "      <td>18</td>\n",
       "      <td>5.0</td>\n",
       "      <td>3.0</td>\n",
       "      <td>0.0</td>\n",
       "      <td>4.0</td>\n",
       "      <td>N</td>\n",
       "      <td>2018-07-31</td>\n",
       "    </tr>\n",
       "    <tr>\n",
       "      <th>4</th>\n",
       "      <td>서울특별시</td>\n",
       "      <td>서대문구</td>\n",
       "      <td>고은어린이집</td>\n",
       "      <td>국공립</td>\n",
       "      <td>93</td>\n",
       "      <td>20.0</td>\n",
       "      <td>7.0</td>\n",
       "      <td>2.0</td>\n",
       "      <td>10.0</td>\n",
       "      <td>N</td>\n",
       "      <td>2018-07-31</td>\n",
       "    </tr>\n",
       "  </tbody>\n",
       "</table>\n",
       "</div>"
      ],
      "text/plain": [
       "    city    gu day_care_name day_care_type  day_care_baby_num  teacher_num  \\\n",
       "0  서울특별시  서대문구        가람어린이집           국공립                 70         11.0   \n",
       "1  서울특별시  서대문구      가좌제일어린이집           국공립                 88         22.0   \n",
       "2  서울특별시  서대문구       경찰청어린이집            직장                 90         23.0   \n",
       "3  서울특별시  서대문구      고운햇살어린이집            가정                 18          5.0   \n",
       "4  서울특별시  서대문구        고은어린이집           국공립                 93         20.0   \n",
       "\n",
       "   nursing_room_num  playground_num  CCTV_num is_commuting_vehicle  \\\n",
       "0               5.0             1.0       7.0                    N   \n",
       "1               5.0             2.0      10.0                    N   \n",
       "2               6.0             1.0      32.0                    N   \n",
       "3               3.0             0.0       4.0                    N   \n",
       "4               7.0             2.0      10.0                    N   \n",
       "\n",
       "  reference_date  \n",
       "0     2018-07-31  \n",
       "1     2018-07-31  \n",
       "2     2018-07-31  \n",
       "3     2018-07-31  \n",
       "4     2018-07-31  "
      ]
     },
     "execution_count": 9,
     "metadata": {},
     "output_type": "execute_result"
    }
   ],
   "source": [
    "day_care_center.head()"
   ]
  },
  {
   "cell_type": "code",
   "execution_count": 10,
   "metadata": {
    "ExecuteTime": {
     "end_time": "2020-11-15T10:36:41.191274Z",
     "start_time": "2020-11-15T10:36:41.179271Z"
    }
   },
   "outputs": [
    {
     "data": {
      "text/html": [
       "<div>\n",
       "<style scoped>\n",
       "    .dataframe tbody tr th:only-of-type {\n",
       "        vertical-align: middle;\n",
       "    }\n",
       "\n",
       "    .dataframe tbody tr th {\n",
       "        vertical-align: top;\n",
       "    }\n",
       "\n",
       "    .dataframe thead th {\n",
       "        text-align: right;\n",
       "    }\n",
       "</style>\n",
       "<table border=\"1\" class=\"dataframe\">\n",
       "  <thead>\n",
       "    <tr style=\"text-align: right;\">\n",
       "      <th></th>\n",
       "      <th>city</th>\n",
       "      <th>gu</th>\n",
       "      <th>dong</th>\n",
       "      <th>park_name</th>\n",
       "      <th>park_type</th>\n",
       "      <th>park_area</th>\n",
       "      <th>park_exercise_facility</th>\n",
       "      <th>park_entertainment_facility</th>\n",
       "      <th>park_benefit_facility</th>\n",
       "      <th>park_cultural_facitiy</th>\n",
       "      <th>park_facility_other</th>\n",
       "      <th>park_open_year</th>\n",
       "      <th>reference_date</th>\n",
       "    </tr>\n",
       "  </thead>\n",
       "  <tbody>\n",
       "    <tr>\n",
       "      <th>0</th>\n",
       "      <td>부산광역시</td>\n",
       "      <td>남구</td>\n",
       "      <td>대연동</td>\n",
       "      <td>대연공원</td>\n",
       "      <td>근린공원</td>\n",
       "      <td>55227.0</td>\n",
       "      <td>NaN</td>\n",
       "      <td>NaN</td>\n",
       "      <td>NaN</td>\n",
       "      <td>NaN</td>\n",
       "      <td>NaN</td>\n",
       "      <td>1944.0</td>\n",
       "      <td>2018-08-14</td>\n",
       "    </tr>\n",
       "    <tr>\n",
       "      <th>1</th>\n",
       "      <td>부산광역시</td>\n",
       "      <td>남구</td>\n",
       "      <td>대연동</td>\n",
       "      <td>당곡공원</td>\n",
       "      <td>역사공원</td>\n",
       "      <td>75465.0</td>\n",
       "      <td>NaN</td>\n",
       "      <td>NaN</td>\n",
       "      <td>NaN</td>\n",
       "      <td>NaN</td>\n",
       "      <td>NaN</td>\n",
       "      <td>1944.0</td>\n",
       "      <td>2018-08-14</td>\n",
       "    </tr>\n",
       "    <tr>\n",
       "      <th>2</th>\n",
       "      <td>부산광역시</td>\n",
       "      <td>남구</td>\n",
       "      <td>대연동</td>\n",
       "      <td>대일어린이공원</td>\n",
       "      <td>어린이공원</td>\n",
       "      <td>422.1</td>\n",
       "      <td>NaN</td>\n",
       "      <td>NaN</td>\n",
       "      <td>NaN</td>\n",
       "      <td>NaN</td>\n",
       "      <td>NaN</td>\n",
       "      <td>1965.0</td>\n",
       "      <td>2018-08-14</td>\n",
       "    </tr>\n",
       "    <tr>\n",
       "      <th>3</th>\n",
       "      <td>부산광역시</td>\n",
       "      <td>남구</td>\n",
       "      <td>대연동</td>\n",
       "      <td>못골어린이공원</td>\n",
       "      <td>어린이공원</td>\n",
       "      <td>499.8</td>\n",
       "      <td>NaN</td>\n",
       "      <td>NaN</td>\n",
       "      <td>NaN</td>\n",
       "      <td>NaN</td>\n",
       "      <td>NaN</td>\n",
       "      <td>1968.0</td>\n",
       "      <td>2018-08-14</td>\n",
       "    </tr>\n",
       "    <tr>\n",
       "      <th>4</th>\n",
       "      <td>부산광역시</td>\n",
       "      <td>남구</td>\n",
       "      <td>용호동</td>\n",
       "      <td>솔밭어린이공원</td>\n",
       "      <td>어린이공원</td>\n",
       "      <td>1500.2</td>\n",
       "      <td>NaN</td>\n",
       "      <td>NaN</td>\n",
       "      <td>NaN</td>\n",
       "      <td>NaN</td>\n",
       "      <td>NaN</td>\n",
       "      <td>1970.0</td>\n",
       "      <td>2018-08-14</td>\n",
       "    </tr>\n",
       "  </tbody>\n",
       "</table>\n",
       "</div>"
      ],
      "text/plain": [
       "    city  gu dong park_name park_type  park_area park_exercise_facility  \\\n",
       "0  부산광역시  남구  대연동      대연공원      근린공원    55227.0                    NaN   \n",
       "1  부산광역시  남구  대연동      당곡공원      역사공원    75465.0                    NaN   \n",
       "2  부산광역시  남구  대연동   대일어린이공원     어린이공원      422.1                    NaN   \n",
       "3  부산광역시  남구  대연동   못골어린이공원     어린이공원      499.8                    NaN   \n",
       "4  부산광역시  남구  용호동   솔밭어린이공원     어린이공원     1500.2                    NaN   \n",
       "\n",
       "  park_entertainment_facility park_benefit_facility park_cultural_facitiy  \\\n",
       "0                         NaN                   NaN                   NaN   \n",
       "1                         NaN                   NaN                   NaN   \n",
       "2                         NaN                   NaN                   NaN   \n",
       "3                         NaN                   NaN                   NaN   \n",
       "4                         NaN                   NaN                   NaN   \n",
       "\n",
       "  park_facility_other  park_open_year reference_date  \n",
       "0                 NaN          1944.0     2018-08-14  \n",
       "1                 NaN          1944.0     2018-08-14  \n",
       "2                 NaN          1965.0     2018-08-14  \n",
       "3                 NaN          1968.0     2018-08-14  \n",
       "4                 NaN          1970.0     2018-08-14  "
      ]
     },
     "execution_count": 10,
     "metadata": {},
     "output_type": "execute_result"
    }
   ],
   "source": [
    "park.head()"
   ]
  },
  {
   "cell_type": "markdown",
   "metadata": {},
   "source": [
    "## 기본 통계치 요약\n",
    "- 범주형, 수치형 데이터를 나누어 데이터를 들여다본다."
   ]
  },
  {
   "cell_type": "code",
   "execution_count": 11,
   "metadata": {
    "ExecuteTime": {
     "end_time": "2020-11-15T10:36:41.411324Z",
     "start_time": "2020-11-15T10:36:41.193274Z"
    },
    "scrolled": true
   },
   "outputs": [
    {
     "name": "stdout",
     "output_type": "stream",
     "text": [
      "<class 'pandas.core.frame.DataFrame'>\n",
      "RangeIndex: 1216553 entries, 0 to 1216552\n",
      "Data columns (total 12 columns):\n",
      " #   Column                  Non-Null Count    Dtype  \n",
      "---  ------                  --------------    -----  \n",
      " 0   apartment_id            1216553 non-null  int64  \n",
      " 1   city                    1216553 non-null  object \n",
      " 2   dong                    1216553 non-null  object \n",
      " 3   jibun                   1216553 non-null  object \n",
      " 4   apt                     1216553 non-null  object \n",
      " 5   addr_kr                 1216553 non-null  object \n",
      " 6   exclusive_use_area      1216553 non-null  float64\n",
      " 7   year_of_completion      1216553 non-null  int64  \n",
      " 8   transaction_year_month  1216553 non-null  int64  \n",
      " 9   transaction_date        1216553 non-null  object \n",
      " 10  floor                   1216553 non-null  int64  \n",
      " 11  transaction_real_price  1216553 non-null  int64  \n",
      "dtypes: float64(1), int64(5), object(6)\n",
      "memory usage: 111.4+ MB\n"
     ]
    }
   ],
   "source": [
    "train.info()"
   ]
  },
  {
   "cell_type": "code",
   "execution_count": 12,
   "metadata": {
    "ExecuteTime": {
     "end_time": "2020-11-15T10:36:41.632377Z",
     "start_time": "2020-11-15T10:36:41.413324Z"
    },
    "scrolled": true
   },
   "outputs": [
    {
     "data": {
      "text/html": [
       "<div>\n",
       "<style scoped>\n",
       "    .dataframe tbody tr th:only-of-type {\n",
       "        vertical-align: middle;\n",
       "    }\n",
       "\n",
       "    .dataframe tbody tr th {\n",
       "        vertical-align: top;\n",
       "    }\n",
       "\n",
       "    .dataframe thead th {\n",
       "        text-align: right;\n",
       "    }\n",
       "</style>\n",
       "<table border=\"1\" class=\"dataframe\">\n",
       "  <thead>\n",
       "    <tr style=\"text-align: right;\">\n",
       "      <th></th>\n",
       "      <th>exclusive_use_area</th>\n",
       "      <th>floor</th>\n",
       "      <th>transaction_real_price</th>\n",
       "    </tr>\n",
       "  </thead>\n",
       "  <tbody>\n",
       "    <tr>\n",
       "      <th>count</th>\n",
       "      <td>1.216553e+06</td>\n",
       "      <td>1.216553e+06</td>\n",
       "      <td>1.216553e+06</td>\n",
       "    </tr>\n",
       "    <tr>\n",
       "      <th>mean</th>\n",
       "      <td>7.816549e+01</td>\n",
       "      <td>9.343291e+00</td>\n",
       "      <td>3.822769e+04</td>\n",
       "    </tr>\n",
       "    <tr>\n",
       "      <th>std</th>\n",
       "      <td>2.915113e+01</td>\n",
       "      <td>6.606500e+00</td>\n",
       "      <td>3.104898e+04</td>\n",
       "    </tr>\n",
       "    <tr>\n",
       "      <th>min</th>\n",
       "      <td>9.260000e+00</td>\n",
       "      <td>-4.000000e+00</td>\n",
       "      <td>1.000000e+02</td>\n",
       "    </tr>\n",
       "    <tr>\n",
       "      <th>25%</th>\n",
       "      <td>5.976000e+01</td>\n",
       "      <td>4.000000e+00</td>\n",
       "      <td>1.900000e+04</td>\n",
       "    </tr>\n",
       "    <tr>\n",
       "      <th>50%</th>\n",
       "      <td>8.241000e+01</td>\n",
       "      <td>8.000000e+00</td>\n",
       "      <td>3.090000e+04</td>\n",
       "    </tr>\n",
       "    <tr>\n",
       "      <th>75%</th>\n",
       "      <td>8.497000e+01</td>\n",
       "      <td>1.300000e+01</td>\n",
       "      <td>4.700000e+04</td>\n",
       "    </tr>\n",
       "    <tr>\n",
       "      <th>max</th>\n",
       "      <td>4.243200e+02</td>\n",
       "      <td>8.000000e+01</td>\n",
       "      <td>8.200000e+05</td>\n",
       "    </tr>\n",
       "  </tbody>\n",
       "</table>\n",
       "</div>"
      ],
      "text/plain": [
       "       exclusive_use_area         floor  transaction_real_price\n",
       "count        1.216553e+06  1.216553e+06            1.216553e+06\n",
       "mean         7.816549e+01  9.343291e+00            3.822769e+04\n",
       "std          2.915113e+01  6.606500e+00            3.104898e+04\n",
       "min          9.260000e+00 -4.000000e+00            1.000000e+02\n",
       "25%          5.976000e+01  4.000000e+00            1.900000e+04\n",
       "50%          8.241000e+01  8.000000e+00            3.090000e+04\n",
       "75%          8.497000e+01  1.300000e+01            4.700000e+04\n",
       "max          4.243200e+02  8.000000e+01            8.200000e+05"
      ]
     },
     "execution_count": 12,
     "metadata": {},
     "output_type": "execute_result"
    }
   ],
   "source": [
    "train.describe()[['exclusive_use_area', 'floor', 'transaction_real_price']]"
   ]
  },
  {
   "cell_type": "markdown",
   "metadata": {},
   "source": [
    "## 컬럼 하나씩 보기"
   ]
  },
  {
   "cell_type": "code",
   "execution_count": 13,
   "metadata": {
    "ExecuteTime": {
     "end_time": "2020-11-15T10:36:41.638377Z",
     "start_time": "2020-11-15T10:36:41.633375Z"
    }
   },
   "outputs": [
    {
     "data": {
      "text/plain": [
       "Index(['apartment_id', 'city', 'dong', 'jibun', 'apt', 'addr_kr',\n",
       "       'exclusive_use_area', 'year_of_completion', 'transaction_year_month',\n",
       "       'transaction_date', 'floor', 'transaction_real_price'],\n",
       "      dtype='object')"
      ]
     },
     "execution_count": 13,
     "metadata": {},
     "output_type": "execute_result"
    }
   ],
   "source": [
    "train.columns"
   ]
  },
  {
   "cell_type": "code",
   "execution_count": null,
   "metadata": {
    "ExecuteTime": {
     "end_time": "2020-11-15T10:36:41.661383Z",
     "start_time": "2020-11-15T10:36:41.640377Z"
    }
   },
   "outputs": [],
   "source": [
    "train['apartment_id'].value_counts() # 총 12533개 (Length)의 데이터"
   ]
  },
  {
   "cell_type": "markdown",
   "metadata": {},
   "source": [
    "- 서울과 부산 분포 100% 기준으로 파악"
   ]
  },
  {
   "cell_type": "code",
   "execution_count": 5,
   "metadata": {
    "ExecuteTime": {
     "end_time": "2020-11-15T10:36:41.773407Z",
     "start_time": "2020-11-15T10:36:41.662382Z"
    }
   },
   "outputs": [
    {
     "ename": "NameError",
     "evalue": "name 'train' is not defined",
     "output_type": "error",
     "traceback": [
      "\u001b[0;31m---------------------------------------------------------------------------\u001b[0m",
      "\u001b[0;31mNameError\u001b[0m                                 Traceback (most recent call last)",
      "\u001b[0;32m<ipython-input-5-0b1c919ce9df>\u001b[0m in \u001b[0;36m<module>\u001b[0;34m\u001b[0m\n\u001b[0;32m----> 1\u001b[0;31m \u001b[0mtrain\u001b[0m\u001b[0;34m[\u001b[0m\u001b[0;34m'city'\u001b[0m\u001b[0;34m]\u001b[0m\u001b[0;34m.\u001b[0m\u001b[0mvalue_counts\u001b[0m\u001b[0;34m(\u001b[0m\u001b[0mnormalize\u001b[0m\u001b[0;34m=\u001b[0m\u001b[0;32mTrue\u001b[0m\u001b[0;34m)\u001b[0m\u001b[0;34m*\u001b[0m\u001b[0;36m100\u001b[0m \u001b[0;31m# (%) 기준으로 보기 좋음\u001b[0m\u001b[0;34m\u001b[0m\u001b[0;34m\u001b[0m\u001b[0m\n\u001b[0m",
      "\u001b[0;31mNameError\u001b[0m: name 'train' is not defined"
     ]
    }
   ],
   "source": [
    "train['city'].value_counts(normalize=True)*100 # (%) 기준으로 보기 좋음"
   ]
  },
  {
   "cell_type": "markdown",
   "metadata": {},
   "source": [
    "- 겹치는 속성 파악"
   ]
  },
  {
   "cell_type": "code",
   "execution_count": 16,
   "metadata": {
    "ExecuteTime": {
     "end_time": "2020-11-15T10:36:41.855429Z",
     "start_time": "2020-11-15T10:36:41.774408Z"
    }
   },
   "outputs": [
    {
     "data": {
      "text/plain": [
       "상계동    29346\n",
       "좌동     23255\n",
       "화명동    21511\n",
       "용호동    17398\n",
       "중계동    17079\n",
       "       ...  \n",
       "누상동        2\n",
       "주성동        2\n",
       "구수동        1\n",
       "옥인동        1\n",
       "효제동        1\n",
       "Name: dong, Length: 473, dtype: int64"
      ]
     },
     "execution_count": 16,
     "metadata": {},
     "output_type": "execute_result"
    }
   ],
   "source": [
    "# 서울과 부산 겹치는 부분이 존재할 수 있음.\n",
    "train['dong'].value_counts() # 473개의 'dong' 데이터 -> 겹침 o"
   ]
  },
  {
   "cell_type": "code",
   "execution_count": 17,
   "metadata": {
    "ExecuteTime": {
     "end_time": "2020-11-15T10:36:41.958451Z",
     "start_time": "2020-11-15T10:36:41.859428Z"
    }
   },
   "outputs": [
    {
     "data": {
      "text/plain": [
       "176-30    6594\n",
       "17        3709\n",
       "944       3615\n",
       "53        3566\n",
       "479       3435\n",
       "          ... \n",
       "770-37       1\n",
       "747-35       1\n",
       "1536-2       1\n",
       "186-21       1\n",
       "791-22       1\n",
       "Name: jibun, Length: 8961, dtype: int64"
      ]
     },
     "execution_count": 17,
     "metadata": {},
     "output_type": "execute_result"
    }
   ],
   "source": [
    "# 지번 또한 서울과 부산 겹치는 부분이 존재할 수 있음.\n",
    "train['jibun'].value_counts() # 8961개의 'jibun' 데이터 -> 겹침 o"
   ]
  },
  {
   "cell_type": "code",
   "execution_count": 18,
   "metadata": {
    "ExecuteTime": {
     "end_time": "2020-11-15T10:36:42.050474Z",
     "start_time": "2020-11-15T10:36:41.960451Z"
    }
   },
   "outputs": [
    {
     "data": {
      "text/plain": [
       "현대          13154\n",
       "한신           9766\n",
       "삼성           6729\n",
       "대우           6216\n",
       "신동아          5851\n",
       "            ...  \n",
       "(743-18)        1\n",
       "부에나비스타          1\n",
       "(745-70)        1\n",
       "영일아트빌           1\n",
       "다대에코하임          1\n",
       "Name: apt, Length: 10440, dtype: int64"
      ]
     },
     "execution_count": 18,
     "metadata": {},
     "output_type": "execute_result"
    }
   ],
   "source": [
    "# 아파트 또한 서울과 부산 겹치는 부분이 존재할 수 있음\n",
    "train['apt'].value_counts() # 10440개의 'apt' 데이터 -> 겹침 o"
   ]
  },
  {
   "cell_type": "code",
   "execution_count": 19,
   "metadata": {
    "ExecuteTime": {
     "end_time": "2020-11-15T10:36:42.135493Z",
     "start_time": "2020-11-15T10:36:42.051474Z"
    }
   },
   "outputs": [
    {
     "data": {
      "text/plain": [
       "용호동 944 오륙도에스케이뷰       3220\n",
       "신천동 17 파크리오            3094\n",
       "다대동 1550 몰운대           2886\n",
       "미아동 1353 에스케이북한산시티     2572\n",
       "다대동 1624 다대동롯데캐슬몰운대    2536\n",
       "                       ... \n",
       "등촌동 670-2 등촌동성원           1\n",
       "구로동 793-34 송림주택           1\n",
       "서초동 1496-24 트라움하우스3       1\n",
       "삼성동 5-3 골든카운티             1\n",
       "구로동 744-47 (744-47)       1\n",
       "Name: addr_kr, Length: 12533, dtype: int64"
      ]
     },
     "execution_count": 19,
     "metadata": {},
     "output_type": "execute_result"
    }
   ],
   "source": [
    "# 겹치는 부분이 존재하지 않을 가능성이 높음 (주소)\n",
    "train['addr_kr'].value_counts() # 12533개의 'addr_kr' 데이터 -> 겹치지 x"
   ]
  },
  {
   "cell_type": "markdown",
   "metadata": {},
   "source": [
    "- 거래 연도/달/날짜에 따른 집값 실거래값 EDA"
   ]
  },
  {
   "cell_type": "code",
   "execution_count": 20,
   "metadata": {
    "ExecuteTime": {
     "end_time": "2020-11-15T10:36:42.149496Z",
     "start_time": "2020-11-15T10:36:42.136493Z"
    },
    "scrolled": true
   },
   "outputs": [
    {
     "data": {
      "text/plain": [
       "2004    71809\n",
       "2003    62520\n",
       "2005    61832\n",
       "1999    58578\n",
       "1996    56892\n",
       "2006    49669\n",
       "2002    49142\n",
       "1988    48215\n",
       "1998    47765\n",
       "1997    47108\n",
       "2000    46116\n",
       "2001    44627\n",
       "2008    41203\n",
       "1993    39943\n",
       "1992    38863\n",
       "1995    37201\n",
       "2007    34989\n",
       "1994    32455\n",
       "1989    27149\n",
       "2009    23890\n",
       "2011    22032\n",
       "1991    21365\n",
       "2010    21070\n",
       "1986    20209\n",
       "2012    18877\n",
       "1987    18160\n",
       "1983    16551\n",
       "2013    15743\n",
       "2014    15359\n",
       "1990    15158\n",
       "1984    14357\n",
       "1982    12826\n",
       "1985    12798\n",
       "1980    12488\n",
       "1979     9666\n",
       "1981     9233\n",
       "1978     9038\n",
       "2015     8357\n",
       "2016     4873\n",
       "1977     3468\n",
       "1976     3044\n",
       "1975     2930\n",
       "1974     2430\n",
       "2017     1967\n",
       "1971     1675\n",
       "1969      603\n",
       "1970      580\n",
       "1973      529\n",
       "1972      494\n",
       "1962      427\n",
       "1968      183\n",
       "1966       42\n",
       "1961       22\n",
       "1967       20\n",
       "1965       13\n",
       "Name: year_of_completion, dtype: int64"
      ]
     },
     "execution_count": 20,
     "metadata": {},
     "output_type": "execute_result"
    }
   ],
   "source": [
    "# 최근에 완공 된 건물은 집 값이 비싸지 않을까 ?\n",
    "train['year_of_completion'].value_counts()"
   ]
  },
  {
   "cell_type": "code",
   "execution_count": 21,
   "metadata": {
    "ExecuteTime": {
     "end_time": "2020-11-15T10:36:42.164498Z",
     "start_time": "2020-11-15T10:36:42.151496Z"
    }
   },
   "outputs": [
    {
     "data": {
      "text/plain": [
       "201503    22444\n",
       "201610    19072\n",
       "201606    18296\n",
       "201705    18080\n",
       "201504    17970\n",
       "          ...  \n",
       "201201     4351\n",
       "201207     4003\n",
       "201208     3920\n",
       "200811     3433\n",
       "200812     3400\n",
       "Name: transaction_year_month, Length: 119, dtype: int64"
      ]
     },
     "execution_count": 21,
     "metadata": {},
     "output_type": "execute_result"
    }
   ],
   "source": [
    "# 거래 날짜를 통해 실거래가의 신뢰도를 구할 수 있지 않을까??\n",
    "train['transaction_year_month'].value_counts()"
   ]
  },
  {
   "cell_type": "code",
   "execution_count": 22,
   "metadata": {
    "ExecuteTime": {
     "end_time": "2020-11-15T10:36:42.255519Z",
     "start_time": "2020-11-15T10:36:42.165499Z"
    }
   },
   "outputs": [
    {
     "data": {
      "text/plain": [
       "11~20    408385\n",
       "1~10     391715\n",
       "21~31    250588\n",
       "21~30    134017\n",
       "21~28     22199\n",
       "21~29      9649\n",
       "Name: transaction_date, dtype: int64"
      ]
     },
     "execution_count": 22,
     "metadata": {},
     "output_type": "execute_result"
    }
   ],
   "source": [
    "# 위와 동일\n",
    "train['transaction_date'].value_counts()"
   ]
  },
  {
   "cell_type": "code",
   "execution_count": 23,
   "metadata": {
    "ExecuteTime": {
     "end_time": "2020-11-15T10:36:42.271523Z",
     "start_time": "2020-11-15T10:36:42.257519Z"
    },
    "scrolled": true
   },
   "outputs": [
    {
     "data": {
      "text/plain": [
       " 5     88676\n",
       " 4     88399\n",
       " 3     85549\n",
       " 2     82589\n",
       " 1     74927\n",
       "       ...  \n",
       " 78        4\n",
       " 80        4\n",
       "-4         4\n",
       " 76        3\n",
       " 79        2\n",
       "Name: floor, Length: 84, dtype: int64"
      ]
     },
     "execution_count": 23,
     "metadata": {},
     "output_type": "execute_result"
    }
   ],
   "source": [
    "# 층수가 높으면, 낮으면 가격에 어떤 영향을 미칠까?\n",
    "train['floor'].value_counts()"
   ]
  },
  {
   "cell_type": "markdown",
   "metadata": {},
   "source": [
    "# 데이터 시각화"
   ]
  },
  {
   "cell_type": "markdown",
   "metadata": {},
   "source": [
    "- seaborn - vilolinplot"
   ]
  },
  {
   "cell_type": "code",
   "execution_count": 24,
   "metadata": {
    "ExecuteTime": {
     "end_time": "2020-11-15T10:36:50.795522Z",
     "start_time": "2020-11-15T10:36:42.272523Z"
    },
    "run_control": {
     "marked": false
    },
    "scrolled": false
   },
   "outputs": [
    {
     "data": {
      "image/png": "[encoded data removed]",
      "text/plain": [
       "<Figure size 648x648 with 1 Axes>"
      ]
     },
     "metadata": {
      "needs_background": "light"
     },
     "output_type": "display_data"
    }
   ],
   "source": [
    "sns.violinplot('city', 'transaction_real_price', data=train.sample(frac=1, random_state=42))\n",
    "plt.gcf().set_size_inches(9,9)"
   ]
  },
  {
   "cell_type": "markdown",
   "metadata": {},
   "source": [
    "- seaborn - catplot\n",
    "(cf)시간에 따른 변화, 비용에 따른, 인원수에 따른, 가격에 따른 팁 etc 관계형을 나타내는 플롯 -> relplot\n",
    "-Categorical (범주형 데이터) 관련 플롯 -> catplot\n",
    "(예제 코드)\n",
    "- 1. stripplot(default) -> sns.catplot(x='day, y='total_bill', data=tips) # 요일 별 요금정산금액 그래프\n",
    "- 2. swarmplot -> sns.catplot(x='day, y='total_bill', data=tips, kind='swarm') # 퍼지게 그려 -> 데이터 개수를 셀 수 있음\n",
    "- 3. boxplot -> sns.catplot(x='day, y='total_bill', data=tips, kind='swarm') # 50%(평균) 및 상위/하위 25%, 10% 사분위수 & 이상치\n",
    "- 4. violinplot -> sns catplot(x='day, y='total_bill', data=tips, kind='violin') # 왼쪽 VS 오른쪽 구분해 파악 가능\n",
    "- 5. boxenplot -> sns catplot(x='day, y='total_bill', data=tips, kind='boxen') # box를 더 자세하게 그림\n",
    "- 6. pointplot -> kind='point'\n",
    "- 7. barplot -> kind='bar'\n",
    "- 8. countplot -> kind='count' # 개수를 못세는 데이터는 불가능"
   ]
  },
  {
   "cell_type": "code",
   "execution_count": 25,
   "metadata": {
    "ExecuteTime": {
     "end_time": "2020-11-15T10:37:02.353880Z",
     "start_time": "2020-11-15T10:36:50.796522Z"
    },
    "collapsed": true
   },
   "outputs": [
    {
     "data": {
      "image/png": "[encoded data removed]",
      "text/plain": [
       "<Figure size 1440x648 with 1 Axes>"
      ]
     },
     "metadata": {
      "needs_background": "light"
     },
     "output_type": "display_data"
    }
   ],
   "source": [
    "train['exclusive_use_area_10']=train['exclusive_use_area']//10 # 'exclusive_use_area' : 전용면적\n",
    "sns.catplot('exclusive_use_area_10','transaction_real_price', data=train.sample(frac=1, random_state=42))\n",
    "plt.gcf().set_size_inches(20,9)\n",
    "train.drop(['exclusive_use_area_10'], axis=1, inplace=True)"
   ]
  },
  {
   "cell_type": "code",
   "execution_count": 26,
   "metadata": {
    "ExecuteTime": {
     "end_time": "2020-11-15T10:37:13.560508Z",
     "start_time": "2020-11-15T10:37:02.354880Z"
    }
   },
   "outputs": [
    {
     "data": {
      "image/png": "[encoded data removed]",
      "text/plain": [
       "<Figure size 1440x648 with 1 Axes>"
      ]
     },
     "metadata": {
      "needs_background": "light"
     },
     "output_type": "display_data"
    }
   ],
   "source": [
    "train['floor_5']=train['floor']//5\n",
    "sns.catplot('floor_5','transaction_real_price', data=train.sample(frac=1, random_state=42))\n",
    "plt.gcf().set_size_inches(20,9)\n",
    "train.drop(['floor_5'], axis=1, inplace=True)"
   ]
  },
  {
   "cell_type": "markdown",
   "metadata": {},
   "source": [
    "# 상관관계"
   ]
  },
  {
   "cell_type": "code",
   "execution_count": 27,
   "metadata": {
    "ExecuteTime": {
     "end_time": "2020-11-15T10:37:13.795561Z",
     "start_time": "2020-11-15T10:37:13.561509Z"
    }
   },
   "outputs": [
    {
     "data": {
      "image/png": "[encoded data removed]",
      "text/plain": [
       "<Figure size 720x720 with 2 Axes>"
      ]
     },
     "metadata": {
      "needs_background": "light"
     },
     "output_type": "display_data"
    }
   ],
   "source": [
    "plt.figure(figsize=(10,10))\n",
    "sns.heatmap(train.corr().iloc[1:, 1:])\n",
    "plt.show()"
   ]
  },
  {
   "cell_type": "markdown",
   "metadata": {},
   "source": [
    "# 데이터 전처리\n",
    "- 부산과 서울에는 겹치는 동, 지번, 등이 존재한다. 이를 구분해줘야한다.\n",
    "\n"
   ]
  },
  {
   "cell_type": "markdown",
   "metadata": {},
   "source": [
    "## 일단 컬럼별로 겹치는것이 있는지 확인해본다."
   ]
  },
  {
   "cell_type": "code",
   "execution_count": 28,
   "metadata": {
    "ExecuteTime": {
     "end_time": "2020-11-15T10:37:13.800562Z",
     "start_time": "2020-11-15T10:37:13.796560Z"
    }
   },
   "outputs": [
    {
     "data": {
      "text/plain": [
       "Index(['apartment_id', 'city', 'dong', 'jibun', 'apt', 'addr_kr',\n",
       "       'exclusive_use_area', 'year_of_completion', 'transaction_year_month',\n",
       "       'transaction_date', 'floor', 'transaction_real_price'],\n",
       "      dtype='object')"
      ]
     },
     "execution_count": 28,
     "metadata": {},
     "output_type": "execute_result"
    }
   ],
   "source": [
    "train.columns"
   ]
  },
  {
   "cell_type": "code",
   "execution_count": 29,
   "metadata": {
    "ExecuteTime": {
     "end_time": "2020-11-15T10:37:15.303898Z",
     "start_time": "2020-11-15T10:37:13.803562Z"
    },
    "scrolled": true
   },
   "outputs": [
    {
     "name": "stdout",
     "output_type": "stream",
     "text": [
      "apartment_id    :     0 개\n",
      "dong            :     4 개\n",
      "{'사직동', '중동', '송정동', '부암동'} \n",
      "\n",
      "jibun           :   981 개\n",
      "{'168-8', '203-19', '947', '87-1', '529', '55-4', '114-1', '206', '23-3', '1281', '178-7', '192-9', '302-3', '184-3', '97-8', '360-2', '418-22', '109-4', '110-2', '497', '1057-1', '441-1', '657', '1660', '1307', '160', '239', '869', '56', '1124', '1527', '460', '1024', '9-3', '850', '20-1', '551', '338-1', '223-6', '581', '840', '802-3', '64-15', '182-4', '396-8', '426', '442-1', '101-1', '413-8', '75-1', '607', '1030', '1049', '49-8', '253', '224-2', '954', '209', '99-1', '970', '1502', '11-5', '875', '887-1', '925-1', '653', '611', '1022', '490', '412-1', '277-2', '322-1', '437', '149', '402-10', '630', '532', '740-5', '8-1', '470-2', '221-1', '46-1', '352-4', '749', '1282', '172', '407', '91-10', '65-1', '101-7', '535-7', '530-5', '123-1', '2-6', '182-1', '1298', '187-5', '53-1', '622', '885', '180-7', '777', '236-7', '420-9', '190', '39', '774', '313', '84-2', '355', '720', '656', '311-1', '363-1', '96-1', '842', '333', '319', '1662', '762-3', '42-10', '925', '407-2', '892', '785', '36', '180', '276', '5-3', '651', '194-1', '654', '245-1', '346-1', '177-2', '79', '117-6', '343-1', '607-17', '820-1', '1', '5-1', '487-1', '104-2', '885-1', '258-7', '18-2', '338-2', '1357', '391-2', '113-2', '457-1', '6-1', '568-6', '35-4', '631-1', '7-1', '29-2', '112', '266', '323', '11-1', '802-4', '422-7', '1278', '370-4', '350-6', '962', '48-2', '160-2', '71-1', '739-1', '956', '1361', '676-23', '453-2', '177-6', '69', '658', '181-30', '102', '190-1', '410', '1257', '141-1', '445-4', '1333', '441', '330', '808', '18', '184-1', '183', '171', '116-5', '93-1', '596', '198', '534-1', '1128', '173-1', '360-16', '632', '334', '25', '380', '390-24', '463-1', '62-1', '707', '350-3', '365-11', '129', '64-29', '79-1', '561', '204-11', '1-5', '894-1', '196', '659-1', '109-9', '48-5', '508', '569-1', '223', '30-1', '39-1', '1321', '472', '349', '16-12', '32', '3-19', '488-3', '458-1', '143-1', '23', '725', '492-5', '3-4', '299', '681', '100-12', '515-1', '378-6', '1251', '163', '119-1', '64-4', '447-2', '122-10', '86-2', '160-1', '70-5', '168', '1641', '46-5', '494-4', '200-4', '117-3', '600', '255-1', '498-2', '793', '201-1', '440', '50-1', '316', '395-1', '4-3', '474-1', '1125', '356-3', '645-1', '159', '987-6', '447-3', '34-2', '3', '648', '512-2', '32-8', '1006-1', '862', '589', '1303', '773', '16-6', '31-2', '48-12', '71', '335-10', '43', '780', '18-1', '877-4', '198-3', '56-2', '753', '113-1', '1150', '365-4', '44-8', '367', '154', '198-5', '547-11', '733', '337', '50-2', '64', '420-16', '342-3', '350', '351-5', '57', '679', '36-2', '218-1', '384-2', '957-6', '585-6', '388-5', '585', '101', '166', '42-4', '52-1', '37', '44-10', '765', '1019', '378', '29-7', '317', '361', '1513', '106-11', '444-3', '177-7', '13-1', '776-3', '551-11', '268', '661-2', '108-2', '171-59', '517-6', '510-2', '169-1', '1274', '21-1', '478-4', '49', '1515-2', '199-1', '547-1', '796', '693', '365-1', '40-1', '141-2', '582', '347-13', '77-1', '332-6', '425', '536', '572', '457', '131', '33-7', '17', '1123', '11-2', '200', '105-3', '179-8', '365', '100', '36-5', '93-6', '344-1', '191-6', '30-8', '854', '35-7', '120', '1054', '202', '381-4', '384-5', '64-5', '519-1', '588', '290', '1326', '15-5', '1293', '713', '148-2', '438-4', '315', '337-3', '450', '465-2', '380-1', '27-2', '585-7', '372-13', '730-2', '721', '161-7', '120-10', '506', '7', '449-2', '177-8', '945', '1515', '500', '889-6', '30-18', '717', '48', '36-1', '385-2', '917-1', '797-3', '1510', '537-9', '533', '122-1', '178-8', '1336', '307-9', '1434-2', '19-1', '94', '414-10', '47', '739', '618-1', '104-1', '361-1', '115-4', '351-1', '251-1', '473-1', '51', '643', '90', '381', '13-2', '877-6', '1322', '189-22', '1477-1', '777-1', '67', '382-1', '944', '1000', '541-1', '63-3', '293-10', '319-6', '395-7', '900-1', '116', '360-5', '140', '86-5', '958', '32-5', '106-1', '1088', '1110', '249-3', '33-1', '628-1', '307', '1315', '21', '282', '271-2', '934', '11-21', '529-2', '109-11', '587', '244-6', '838', '669', '887', '1300', '302', '797', '137', '395-6', '45', '949', '1643', '144-3', '455-1', '783', '376-5', '258', '891', '668', '762', '419', '849-1', '432-1', '903', '220-1', '213-3', '113-23', '42-1', '111-1', '405', '285', '97-1', '255', '45-8', '584-1', '768-1', '408-23', '46-3', '208-1', '88-4', '1323', '104-5', '144', '998', '1735', '49-6', '191-3', '192-3', '39-7', '92-3', '26-4', '1059-1', '35-8', '922', '530', '34-1', '92', '295', '106', '34-10', '81-2', '726', '1-7', '1053-4', '598', '72-4', '674', '45-1', '851', '123', '40-39', '354-2', '108-1', '878-26', '888', '369', '883', '43-4', '5', '1041', '377-1', '24-4', '195', '182-10', '50-6', '442-5', '858', '415-1', '69-5', '1055', '45-2', '212', '8', '116-10', '170-1', '1154', '585-25', '728', '731', '763', '135', '723', '303-1', '884', '20', '1818', '518', '100-1', '1374', '394-2', '517', '162-1', '485-2', '1217', '390', '736', '872', '175', '341-1', '609-1', '205-2', '1119', '75', '50-7', '1070', '198-1', '270', '56-1', '14-1', '162-4', '77-7', '952-1', '400', '1051', '806', '402', '74-2', '286', '109-1', '1023', '1136', '358-18', '1271', '176-8', '715-12', '116-24', '93-8', '1-46', '322', '76', '394', '473', '53', '1475', '305', '713-1', '326', '222-7', '47-4', '19-2', '955', '12-2', '227-5', '81-8', '509', '77-21', '515', '110-8', '31', '506-1', '757', '336-4', '110-37', '46', '64-1', '113', '546-1', '346-11', '130-1', '730', '9-21', '767', '391', '148-1', '29-5', '1027-1', '382-3', '231-1', '34-3', '252-1', '1029', '139', '78', '245', '953', '362', '505', '739-5', '805-1', '11', '328-3', '6-4', '179-9', '395', '893-9', '718', '52', '1296', '143', '174-1', '1466-17', '190-2', '251', '202-5', '747-12', '151', '52-17', '755', '1026-1', '48-7', '694-1', '121', '418-3', '1-4', '619-7', '15-1', '97-6', '1145', '1318', '36-29', '591-1', '732', '3-28', '793-6', '888-1', '772', '597', '106-10', '602-3', '1028', '161-1', '326-9', '51-1', '577', '85', '550-7', '355-1', '119', '220', '83-2', '3-1', '810', '65-2', '41', '438', '346-3', '41-1', '55', '752', '1529', '40-4', '86-6', '94-2', '4', '421', '1310', '1020', '510-11', '455', '807-4', '819', '37-1', '401', '107-2', '2', '24-1', '595', '126-2', '173', '385', '269-7', '418-5', '1053', '1014-1', '178-10', '279-15', '939', '4-1', '446-4', '512', '67-1', '1065', '784-1', '35-12', '159-10', '1155', '887-7', '10', '14', '3-2', '542', '107-1', '754', '472-8', '300', '30-9', '195-1', '399-1', '128-2', '408', '490-9', '66', '126-5', '444-41', '467', '97-10', '137-1', '439-1', '80-14', '963-1', '435-1', '466-3', '22-2', '561-1', '1152', '25-1', '38', '91-2', '279', '940', '9', '336', '584', '227', '224-1', '465-1', '47-1', '359-1', '314', '1466-2', '100-2', '304', '1-10', '632-4', '759', '89-6', '710', '788', '54', '1010-1', '668-1', '450-1', '565', '501', '401-1', '358-7', '116-26', '740', '1059', '433-1', '128-11', '77-9', '32-42', '344', '96', '1295', '182', '58-34', '185-2', '670', '57-1', '764-4', '1362', '147-29', '260-6', '893-2', '382-14', '227-1', '236-2', '1275', '2-1', '461-1', '792', '22', '1550', '811', '118-3', '631', '1330', '448-1', '541', '38-12', '525', '23-1', '415-14', '148-7', '60-6', '12-3', '35-2', '938', '1286', '1302', '791', '974', '9-1', '40', '128-1', '111', '244-8', '35-10', '957', '557', '335-1', '271-4', '871', '1087-4', '406', '158-5', '68', '98-8', '635-9', '90-1', '832', '417', '410-13', '604-11', '649', '735', '484-2', '378-3', '577-4', '373', '86-3', '756', '230-2', '685', '128', '122-7', '188-2', '832-5', '58', '94-1', '684', '172-3', '924', '567', '32-3', '893-12', '148-4', '38-1', '558', '1017', '794', '413-1', '165-1', '440-1', '340', '343', '1218-1', '1317', '1297', '555-1', '161', '197', '1331', '1272', '32-2', '843', '152', '789', '764', '845', '142-1', '802', '1273', '454-2', '350-1', '876', '927-1', '512-5', '1025', '328', '744-18', '767-1', '65', '34', '409', '516', '184-4'} \n",
      "\n",
      "apt             :   253 개\n",
      "{'한진', '삼성파크', '동림', '효성', '조광', '럭키', '에스케이뷰', '삼호', '평화', '신도', '두산2', '대림', '보람더하임', '두산위브센티움', '상아', '현대타워', '롯데낙천대', '삼우빌라', '대림e편한세상', '진흥', '동원베네스트', 'SK VIEW', '백조', '동양', '현대빌라', '삼익', '현대1차', '오성', '대우2', '쌍용', '현대2차', '강남', '동일', '현대아트빌', '크로바', '청광', '삼풍아파트', '개나리', '중앙하이츠2', '온누리', '대성', '동부', '로얄빌리지', '청구', '장미3', '대림2', '삼성타운', '일광', '해성', '중앙하이츠1', '상록', '혜성', '미주', '새한', '스타파크아파트', '동산', '벽산블루밍', '대우그린', '화신', '로얄', '동보', '정림', '건영2', '제일', '대우푸르지오', '목화', '청송', '코오롱', '파크뷰', '건영', '한신', '무지개', '삼신', '한빛', '동방', '무학', '서원', '시영', '영화', '동호', '신화타워', '은하', '드림', '고려', '한아름', '대림3', '한성', '삼정코아', '삼진', '삼창', '롯데2', '세진', '경일', '주공2', '대성맨션', '삼성하이츠', '미광', '한화꿈에그린', '한신2', '문화', '월드빌리지', '공작', '세영', '롯데', '유원', '대신빌라', '장원', '부영', '삼산', '한독', '경남', '동신', '금호어울림', '영림', '대방', '경남아너스빌', '풍전', '풍림', '에이스', '삼보', '하림빌라트', '선경', '세화', '우영', '현대아이파크', '해태', '삼부', '경보이리스힐', '주공4', '현대', '대흥', '한라비발디', '국제', '푸른마을', '삼성', '한신타워', '거성리젠시', '갤러리하우스', '건영1', '엘리시아', '덕산', '현대3', '우신', '진주', '청암', '대진', '진성', '수정', '영일', '진달래', '에버그린', '신선', '대산', '리치빌', '미도', '신동아', '거성', '유림', '우성', '동산빌라', '선우', '금호', '금성', '중앙하이츠', '참누리아파트', '화랑', '서희스타힐스', '쌍용예가', '크로바맨션', '성우', '한양', '광남', '한림', '태경', '대동', '한솔', '지오빌', '유정', '정원', '현대타운', '신우', '성원상떼빌', '삼정그린코아', '롯데캐슬', '대원', '그린빌', '쌍용스윗닷홈', '유진맨션', '청성', '태영', '중앙', '신원', '정우', '동원', '아시아선수촌아파트', '리츠빌', '성암', '삼환', '청운', '반도보라빌', '벨로스', '삼성맨션', '산호', '명진', '송림주택', '삼익아파트', '대원아파트', '화인', '무궁화', '한일유앤아이', '청호', '세종그랑시아', '송림빌라', '한신1', '동진', '초원', '파크빌', '동남', '동일하이빌', '에스케이', '홍익', '동성', '한라', '신일', '현대2', '대호', '성원', '성지', '현대4', '현대하이페리온', '삼일', '한효', '동아', '오페라하우스', '성해', '우림', '장미', '신성', '해오름', '뉴서울', '양지', '태림', '삼정', '반도', '대우', '금강', '성림', '우성2차', '보람', '한영', '동우', '한일', '영남'} \n",
      "\n"
     ]
    },
    {
     "name": "stdout",
     "output_type": "stream",
     "text": [
      "addr_kr         :     0 개\n"
     ]
    }
   ],
   "source": [
    "for column in ['apartment_id', 'dong', 'jibun', 'apt', 'addr_kr']:\n",
    "    busan_element = train[train['city']=='부산광역시'][column].unique()\n",
    "    seoul_element = train[train['city']=='서울특별시'][column].unique()\n",
    "    inter_element = set(busan_element)&set(seoul_element)\n",
    "    print('{:15s} : {:5d} 개'.format(column, len(inter_element)))\n",
    "    if len(inter_element)>0:\n",
    "        print(inter_element,'\\n')"
   ]
  },
  {
   "cell_type": "markdown",
   "metadata": {},
   "source": [
    "## dong, jibun, apt 에서 겹치는 것이 존재한다.\n",
    "- 서로 다른 것을 의미하는 것이 같은 데이터를 가지는 것은 좋지 않다.\n",
    "- 구분해준다."
   ]
  },
  {
   "cell_type": "code",
   "execution_count": 440,
   "metadata": {
    "ExecuteTime": {
     "end_time": "2020-11-15T12:49:31.869832Z",
     "start_time": "2020-11-15T12:49:31.851829Z"
    }
   },
   "outputs": [],
   "source": [
    "test = pd.read_csv('test.csv')"
   ]
  },
  {
   "cell_type": "code",
   "execution_count": 441,
   "metadata": {
    "ExecuteTime": {
     "end_time": "2020-11-15T12:49:32.573992Z",
     "start_time": "2020-11-15T12:49:32.000862Z"
    },
    "scrolled": true
   },
   "outputs": [
    {
     "name": "stderr",
     "output_type": "stream",
     "text": [
      "100%|███████████████████████████████████████████████████████████████████████████████████| 4/4 [00:00<00:00, 399.91it/s]\n",
      "100%|███████████████████████████████████████████████████████████████████████████████| 192/192 [00:00<00:00, 477.50it/s]\n",
      "100%|█████████████████████████████████████████████████████████████████████████████████| 68/68 [00:00<00:00, 482.16it/s]\n"
     ]
    }
   ],
   "source": [
    "# for column in ['dong', 'jibun', 'apt']:\n",
    "#     busan_element = train[train['city']=='부산광역시'][column].unique()\n",
    "#     seoul_element = train[train['city']=='서울특별시'][column].unique()\n",
    "#     inter_element = set(busan_element)&set(seoul_element)\n",
    "    \n",
    "#     for element in tqdm(list(inter_element)):\n",
    "#         train.loc[(train['city']=='부산광역시') & (train[column] == element), column] = '부산_{}'.format(element)\n",
    "#         train.loc[(train['city']=='서울특별시') & (train[column] == element), column] = '서울_{}'.format(element)\n",
    "for column in ['dong', 'jibun', 'apt']:\n",
    "    busan_element = test[test['city']=='부산광역시'][column].unique()\n",
    "    seoul_element = test[test['city']=='서울특별시'][column].unique()\n",
    "    inter_element = set(busan_element)&set(seoul_element)\n",
    "    \n",
    "    for element in tqdm(list(inter_element)):\n",
    "        test.loc[(test['city']=='부산광역시') & (test[column] == element), column] = '부산_{}'.format(element)\n",
    "        test.loc[(test['city']=='서울특별시') & (test[column] == element), column] = '서울_{}'.format(element)\n",
    "        "
   ]
  },
  {
   "cell_type": "code",
   "execution_count": 417,
   "metadata": {
    "ExecuteTime": {
     "end_time": "2020-11-15T12:43:40.625833Z",
     "start_time": "2020-11-15T12:43:39.347549Z"
    }
   },
   "outputs": [],
   "source": [
    "train = pd.read_csv('전처리완료.csv')"
   ]
  },
  {
   "cell_type": "markdown",
   "metadata": {},
   "source": [
    "## 2주차 추가"
   ]
  },
  {
   "cell_type": "code",
   "execution_count": 418,
   "metadata": {
    "ExecuteTime": {
     "end_time": "2020-11-15T12:43:40.653841Z",
     "start_time": "2020-11-15T12:43:40.626834Z"
    }
   },
   "outputs": [
    {
     "name": "stdout",
     "output_type": "stream",
     "text": [
      "city                            0.000000\n",
      "gu                              0.220751\n",
      "dong                            0.000000\n",
      "park_name                       0.000000\n",
      "park_type                       0.000000\n",
      "park_area                       0.000000\n",
      "park_exercise_facility         79.617366\n",
      "park_entertainment_facility    67.991170\n",
      "park_benefit_facility          80.426784\n",
      "park_cultural_facitiy          94.701987\n",
      "park_facility_other            87.122884\n",
      "park_open_year                 31.052244\n",
      "reference_date                  0.000000\n",
      "dtype: float64 \n",
      "\n",
      "\n",
      "city                     0.000000\n",
      "gu                       0.000000\n",
      "day_care_name            0.000000\n",
      "day_care_type            0.000000\n",
      "day_care_baby_num        0.000000\n",
      "teacher_num              2.979738\n",
      "nursing_room_num        42.365250\n",
      "playground_num          51.979870\n",
      "CCTV_num                30.075487\n",
      "is_commuting_vehicle     6.568666\n",
      "reference_date           0.000000\n",
      "dtype: float64\n"
     ]
    }
   ],
   "source": [
    "park=pd.read_csv('park.csv')\n",
    "day_care_center=pd.read_csv('day_care_center.csv')\n",
    "print(park.isnull().sum()/len(park)*100,'\\n\\n')\n",
    "print(day_care_center.isnull().sum()/len(day_care_center)*100)"
   ]
  },
  {
   "cell_type": "code",
   "execution_count": 419,
   "metadata": {
    "ExecuteTime": {
     "end_time": "2020-11-15T12:43:40.661842Z",
     "start_time": "2020-11-15T12:43:40.655841Z"
    }
   },
   "outputs": [],
   "source": [
    "park = park.drop(['park_exercise_facility', 'park_entertainment_facility', 'park_benefit_facility', 'park_cultural_facitiy','park_facility_other',\n",
    "          'park_open_year'], axis=1)\n",
    "day_care_center = day_care_center.drop(['nursing_room_num', 'playground_num', 'CCTV_num', 'is_commuting_vehicle'], axis=1)\n",
    "day_care_center['teacher_num']=day_care_center['teacher_num'].fillna(day_care_center['teacher_num'].mean())"
   ]
  },
  {
   "cell_type": "code",
   "execution_count": 420,
   "metadata": {
    "ExecuteTime": {
     "end_time": "2020-11-15T12:43:40.670844Z",
     "start_time": "2020-11-15T12:43:40.662842Z"
    }
   },
   "outputs": [],
   "source": [
    "park_dong_mean = park.groupby('dong').mean().reset_index()\n",
    "day_care_gu_mean = day_care_center.groupby('gu').mean().reset_index()"
   ]
  },
  {
   "cell_type": "code",
   "execution_count": 421,
   "metadata": {
    "ExecuteTime": {
     "end_time": "2020-11-15T12:43:40.683847Z",
     "start_time": "2020-11-15T12:43:40.671843Z"
    },
    "scrolled": true
   },
   "outputs": [
    {
     "data": {
      "text/html": [
       "<div>\n",
       "<style scoped>\n",
       "    .dataframe tbody tr th:only-of-type {\n",
       "        vertical-align: middle;\n",
       "    }\n",
       "\n",
       "    .dataframe tbody tr th {\n",
       "        vertical-align: top;\n",
       "    }\n",
       "\n",
       "    .dataframe thead th {\n",
       "        text-align: right;\n",
       "    }\n",
       "</style>\n",
       "<table border=\"1\" class=\"dataframe\">\n",
       "  <thead>\n",
       "    <tr style=\"text-align: right;\">\n",
       "      <th></th>\n",
       "      <th>gu</th>\n",
       "      <th>day_care_baby_num</th>\n",
       "      <th>teacher_num</th>\n",
       "    </tr>\n",
       "  </thead>\n",
       "  <tbody>\n",
       "    <tr>\n",
       "      <th>0</th>\n",
       "      <td>강남구</td>\n",
       "      <td>52.040359</td>\n",
       "      <td>9.013514</td>\n",
       "    </tr>\n",
       "    <tr>\n",
       "      <th>1</th>\n",
       "      <td>강동구</td>\n",
       "      <td>48.816176</td>\n",
       "      <td>9.889706</td>\n",
       "    </tr>\n",
       "    <tr>\n",
       "      <th>2</th>\n",
       "      <td>강북구</td>\n",
       "      <td>51.311377</td>\n",
       "      <td>10.023952</td>\n",
       "    </tr>\n",
       "    <tr>\n",
       "      <th>3</th>\n",
       "      <td>강서구</td>\n",
       "      <td>40.583751</td>\n",
       "      <td>8.038114</td>\n",
       "    </tr>\n",
       "    <tr>\n",
       "      <th>4</th>\n",
       "      <td>관악구</td>\n",
       "      <td>42.594096</td>\n",
       "      <td>9.088561</td>\n",
       "    </tr>\n",
       "    <tr>\n",
       "      <th>5</th>\n",
       "      <td>광진구</td>\n",
       "      <td>44.558376</td>\n",
       "      <td>9.467005</td>\n",
       "    </tr>\n",
       "    <tr>\n",
       "      <th>6</th>\n",
       "      <td>구로구</td>\n",
       "      <td>40.317365</td>\n",
       "      <td>8.374251</td>\n",
       "    </tr>\n",
       "    <tr>\n",
       "      <th>7</th>\n",
       "      <td>금정구</td>\n",
       "      <td>49.537736</td>\n",
       "      <td>9.990566</td>\n",
       "    </tr>\n",
       "    <tr>\n",
       "      <th>8</th>\n",
       "      <td>금천구</td>\n",
       "      <td>47.922619</td>\n",
       "      <td>9.898810</td>\n",
       "    </tr>\n",
       "    <tr>\n",
       "      <th>9</th>\n",
       "      <td>기장군</td>\n",
       "      <td>43.196629</td>\n",
       "      <td>8.584270</td>\n",
       "    </tr>\n",
       "    <tr>\n",
       "      <th>10</th>\n",
       "      <td>남구</td>\n",
       "      <td>46.685315</td>\n",
       "      <td>8.412587</td>\n",
       "    </tr>\n",
       "    <tr>\n",
       "      <th>11</th>\n",
       "      <td>노원구</td>\n",
       "      <td>30.002188</td>\n",
       "      <td>7.118221</td>\n",
       "    </tr>\n",
       "    <tr>\n",
       "      <th>12</th>\n",
       "      <td>도봉구</td>\n",
       "      <td>40.466667</td>\n",
       "      <td>8.192157</td>\n",
       "    </tr>\n",
       "    <tr>\n",
       "      <th>13</th>\n",
       "      <td>동구</td>\n",
       "      <td>56.769231</td>\n",
       "      <td>9.948718</td>\n",
       "    </tr>\n",
       "    <tr>\n",
       "      <th>14</th>\n",
       "      <td>동래구</td>\n",
       "      <td>50.750000</td>\n",
       "      <td>9.112903</td>\n",
       "    </tr>\n",
       "    <tr>\n",
       "      <th>15</th>\n",
       "      <td>동작구</td>\n",
       "      <td>42.944444</td>\n",
       "      <td>8.487179</td>\n",
       "    </tr>\n",
       "    <tr>\n",
       "      <th>16</th>\n",
       "      <td>부산진구</td>\n",
       "      <td>43.909091</td>\n",
       "      <td>8.333333</td>\n",
       "    </tr>\n",
       "    <tr>\n",
       "      <th>17</th>\n",
       "      <td>북구</td>\n",
       "      <td>43.053191</td>\n",
       "      <td>8.191489</td>\n",
       "    </tr>\n",
       "    <tr>\n",
       "      <th>18</th>\n",
       "      <td>사상구</td>\n",
       "      <td>42.291339</td>\n",
       "      <td>7.559055</td>\n",
       "    </tr>\n",
       "    <tr>\n",
       "      <th>19</th>\n",
       "      <td>사하구</td>\n",
       "      <td>49.197044</td>\n",
       "      <td>9.280788</td>\n",
       "    </tr>\n",
       "    <tr>\n",
       "      <th>20</th>\n",
       "      <td>서구</td>\n",
       "      <td>49.950000</td>\n",
       "      <td>9.600000</td>\n",
       "    </tr>\n",
       "    <tr>\n",
       "      <th>21</th>\n",
       "      <td>서대문구</td>\n",
       "      <td>46.519481</td>\n",
       "      <td>9.805195</td>\n",
       "    </tr>\n",
       "    <tr>\n",
       "      <th>22</th>\n",
       "      <td>서초구</td>\n",
       "      <td>51.578431</td>\n",
       "      <td>10.921569</td>\n",
       "    </tr>\n",
       "    <tr>\n",
       "      <th>23</th>\n",
       "      <td>성동구</td>\n",
       "      <td>44.559783</td>\n",
       "      <td>14.342391</td>\n",
       "    </tr>\n",
       "    <tr>\n",
       "      <th>24</th>\n",
       "      <td>송파구</td>\n",
       "      <td>41.188264</td>\n",
       "      <td>8.706601</td>\n",
       "    </tr>\n",
       "    <tr>\n",
       "      <th>25</th>\n",
       "      <td>수영구</td>\n",
       "      <td>51.038961</td>\n",
       "      <td>9.259740</td>\n",
       "    </tr>\n",
       "    <tr>\n",
       "      <th>26</th>\n",
       "      <td>양천구</td>\n",
       "      <td>39.430380</td>\n",
       "      <td>8.041139</td>\n",
       "    </tr>\n",
       "    <tr>\n",
       "      <th>27</th>\n",
       "      <td>연제구</td>\n",
       "      <td>49.567010</td>\n",
       "      <td>9.742268</td>\n",
       "    </tr>\n",
       "    <tr>\n",
       "      <th>28</th>\n",
       "      <td>영도구</td>\n",
       "      <td>56.081633</td>\n",
       "      <td>9.897959</td>\n",
       "    </tr>\n",
       "    <tr>\n",
       "      <th>29</th>\n",
       "      <td>영등포구</td>\n",
       "      <td>45.131579</td>\n",
       "      <td>9.244361</td>\n",
       "    </tr>\n",
       "    <tr>\n",
       "      <th>30</th>\n",
       "      <td>은평구</td>\n",
       "      <td>49.508834</td>\n",
       "      <td>9.240283</td>\n",
       "    </tr>\n",
       "    <tr>\n",
       "      <th>31</th>\n",
       "      <td>종로구</td>\n",
       "      <td>62.846154</td>\n",
       "      <td>13.410256</td>\n",
       "    </tr>\n",
       "    <tr>\n",
       "      <th>32</th>\n",
       "      <td>중구</td>\n",
       "      <td>64.666667</td>\n",
       "      <td>13.617284</td>\n",
       "    </tr>\n",
       "    <tr>\n",
       "      <th>33</th>\n",
       "      <td>중랑구</td>\n",
       "      <td>47.657025</td>\n",
       "      <td>9.760331</td>\n",
       "    </tr>\n",
       "    <tr>\n",
       "      <th>34</th>\n",
       "      <td>해운대구</td>\n",
       "      <td>45.847534</td>\n",
       "      <td>8.515695</td>\n",
       "    </tr>\n",
       "  </tbody>\n",
       "</table>\n",
       "</div>"
      ],
      "text/plain": [
       "      gu  day_care_baby_num  teacher_num\n",
       "0    강남구          52.040359     9.013514\n",
       "1    강동구          48.816176     9.889706\n",
       "2    강북구          51.311377    10.023952\n",
       "3    강서구          40.583751     8.038114\n",
       "4    관악구          42.594096     9.088561\n",
       "5    광진구          44.558376     9.467005\n",
       "6    구로구          40.317365     8.374251\n",
       "7    금정구          49.537736     9.990566\n",
       "8    금천구          47.922619     9.898810\n",
       "9    기장군          43.196629     8.584270\n",
       "10    남구          46.685315     8.412587\n",
       "11   노원구          30.002188     7.118221\n",
       "12   도봉구          40.466667     8.192157\n",
       "13    동구          56.769231     9.948718\n",
       "14   동래구          50.750000     9.112903\n",
       "15   동작구          42.944444     8.487179\n",
       "16  부산진구          43.909091     8.333333\n",
       "17    북구          43.053191     8.191489\n",
       "18   사상구          42.291339     7.559055\n",
       "19   사하구          49.197044     9.280788\n",
       "20    서구          49.950000     9.600000\n",
       "21  서대문구          46.519481     9.805195\n",
       "22   서초구          51.578431    10.921569\n",
       "23   성동구          44.559783    14.342391\n",
       "24   송파구          41.188264     8.706601\n",
       "25   수영구          51.038961     9.259740\n",
       "26   양천구          39.430380     8.041139\n",
       "27   연제구          49.567010     9.742268\n",
       "28   영도구          56.081633     9.897959\n",
       "29  영등포구          45.131579     9.244361\n",
       "30   은평구          49.508834     9.240283\n",
       "31   종로구          62.846154    13.410256\n",
       "32    중구          64.666667    13.617284\n",
       "33   중랑구          47.657025     9.760331\n",
       "34  해운대구          45.847534     8.515695"
      ]
     },
     "execution_count": 421,
     "metadata": {},
     "output_type": "execute_result"
    }
   ],
   "source": [
    "day_care_gu_mean"
   ]
  },
  {
   "cell_type": "code",
   "execution_count": 425,
   "metadata": {
    "ExecuteTime": {
     "end_time": "2020-11-15T12:43:44.690305Z",
     "start_time": "2020-11-15T12:43:44.661299Z"
    }
   },
   "outputs": [],
   "source": [
    "for gu, care_baby, teacher in zip(day_care_gu_mean['gu'].values, day_care_gu_mean['day_care_baby_num'].values, day_care_gu_mean['teacher_num'].values):\n",
    "    park.loc[(park['gu']==gu), 'day_care_baby_num_mean'] = care_baby\n",
    "    park.loc[(park['gu']==gu), 'teacher_mean'] = teacher"
   ]
  },
  {
   "cell_type": "code",
   "execution_count": 426,
   "metadata": {
    "ExecuteTime": {
     "end_time": "2020-11-15T12:43:45.272444Z",
     "start_time": "2020-11-15T12:43:45.268435Z"
    }
   },
   "outputs": [],
   "source": [
    "park['day_care_baby_num_mean']  = park['day_care_baby_num_mean'].fillna(park['day_care_baby_num_mean'].mean())\n",
    "park['teacher_mean']  = park['teacher_mean'].fillna(park['teacher_mean'].mean())"
   ]
  },
  {
   "cell_type": "code",
   "execution_count": 427,
   "metadata": {
    "ExecuteTime": {
     "end_time": "2020-11-15T12:43:45.541496Z",
     "start_time": "2020-11-15T12:43:45.536495Z"
    }
   },
   "outputs": [],
   "source": [
    "park_groupby = park.groupby(by='dong').mean().reset_index().iloc[:]"
   ]
  },
  {
   "cell_type": "code",
   "execution_count": 432,
   "metadata": {
    "ExecuteTime": {
     "end_time": "2020-11-15T12:45:38.217643Z",
     "start_time": "2020-11-15T12:44:55.580734Z"
    }
   },
   "outputs": [
    {
     "name": "stderr",
     "output_type": "stream",
     "text": [
      "237it [00:42,  5.56it/s]\n"
     ]
    }
   ],
   "source": [
    "for dong, park_area, day_care_baby_num_mean, teacher_mean in tqdm(zip(park_groupby['dong'].values, park_groupby['park_area'].values, park_groupby['day_care_baby_num_mean'].values, park_groupby['teacher_mean'].values)):\n",
    "    train.loc[train['dong']==dong, 'day_care_baby_num_mean'] = day_care_baby_num_mean\n",
    "    train.loc[train['dong']==dong, 'park_area'] = park_area\n",
    "    train.loc[train['dong']==dong, 'teacher_num'] = teacher_mean\n"
   ]
  },
  {
   "cell_type": "code",
   "execution_count": 434,
   "metadata": {
    "ExecuteTime": {
     "end_time": "2020-11-15T12:48:18.947266Z",
     "start_time": "2020-11-15T12:48:18.944257Z"
    }
   },
   "outputs": [],
   "source": [
    "# # 수업 때 볼 것\n",
    "# np.array(['_' in k for k in train['apt'].values]).sum()+\\\n",
    "# np.array(['_' in k for k in train['apt'].values]).sum()+\\\n",
    "# np.array(['_' in k for k in train['apt'].values]).sum()"
   ]
  },
  {
   "cell_type": "code",
   "execution_count": 435,
   "metadata": {
    "ExecuteTime": {
     "end_time": "2020-11-15T12:48:19.141301Z",
     "start_time": "2020-11-15T12:48:19.139300Z"
    },
    "scrolled": false
   },
   "outputs": [],
   "source": [
    "# train[(train['jibun']=='176-30')]['addr_kr'].value_counts()"
   ]
  },
  {
   "cell_type": "code",
   "execution_count": 436,
   "metadata": {
    "ExecuteTime": {
     "end_time": "2020-11-15T12:48:19.301336Z",
     "start_time": "2020-11-15T12:48:19.298335Z"
    }
   },
   "outputs": [],
   "source": [
    "# busan_dong=train[train['city']=='부산광역시']['dong'].unique()\n",
    "# seoul_dong=train[train['city']=='서울특별시']['dong'].unique()\n",
    "# print(list(set(busan_dong)&set(seoul_dong)))\n",
    "\n",
    "\n",
    "# train.loc[(train['city']=='부산광역시') & (train['dong']=='송정동'), 'dong'] = '부산송정동'\n",
    "# train.loc[(train['city']=='부산광역시') & (train['dong']=='사직동'), 'dong'] = '부산사직동'\n",
    "# train.loc[(train['city']=='부산광역시') & (train['dong']=='부암동'), 'dong'] = '부산부암동'\n",
    "# train.loc[(train['city']=='부산광역시') & (train['dong']=='중동'), 'dong'] = '부산중동'\n",
    "\n",
    "# train.loc[(train['city']=='서울특별시') & (train['dong']=='송정동'), 'dong'] = '서울송정동'\n",
    "# train.loc[(train['city']=='서울특별시') & (train['dong']=='사직동'), 'dong'] = '서울사직동'\n",
    "# train.loc[(train['city']=='서울특별시') & (train['dong']=='부암동'), 'dong'] = '서울부암동'\n",
    "# train.loc[(train['city']=='서울특별시') & (train['dong']=='중동'), 'dong'] = '서울중동'"
   ]
  },
  {
   "cell_type": "code",
   "execution_count": 437,
   "metadata": {
    "ExecuteTime": {
     "end_time": "2020-11-15T12:48:20.556617Z",
     "start_time": "2020-11-15T12:48:20.554617Z"
    }
   },
   "outputs": [],
   "source": [
    "from sklearn.preprocessing import LabelEncoder"
   ]
  },
  {
   "cell_type": "code",
   "execution_count": 438,
   "metadata": {
    "ExecuteTime": {
     "end_time": "2020-11-15T12:48:21.170754Z",
     "start_time": "2020-11-15T12:48:21.167754Z"
    }
   },
   "outputs": [],
   "source": [
    "LE = LabelEncoder()"
   ]
  },
  {
   "cell_type": "code",
   "execution_count": 442,
   "metadata": {
    "ExecuteTime": {
     "end_time": "2020-11-15T12:49:46.425846Z",
     "start_time": "2020-11-15T12:49:43.875024Z"
    },
    "run_control": {
     "marked": false
    }
   },
   "outputs": [],
   "source": [
    "\n",
    "LE.fit(list(train['city'])+list(test['city']))\n",
    "train['city'] = LE.transform(train['city'])\n",
    "test['city'] = LE.transform(test['city'])\n",
    "LE.fit(list(train['dong'])+list(test['dong']))\n",
    "train['dong'] = LE.transform(train['dong'])\n",
    "test['dong'] = LE.transform(test['dong'])\n",
    "LE.fit(list(train['jibun'])+list(test['jibun']))\n",
    "train['jibun'] = LE.transform(train['jibun'])\n",
    "test['jibun'] = LE.transform(test['jibun'])\n",
    "LE.fit(list(train['apt'])+list(test['apt']))\n",
    "train['apt'] = LE.transform(train['apt'])\n",
    "test['apt'] = LE.transform(test['apt'])\n",
    "LE.fit(list(train['addr_kr'])+list(test['addr_kr']))\n",
    "train['addr_kr'] = LE.transform(train['addr_kr'])\n",
    "test['addr_kr'] = LE.transform(test['addr_kr'])\n",
    "\n",
    "\n",
    "train['year_of_completion'] = 2017-train['year_of_completion'].values\n",
    "test['year_of_completion'] = 2017-test['year_of_completion'].values\n",
    "\n",
    "train['transaction_year'] = 2017 - np.array([int(str(k)[:4]) for k in train['transaction_year_month'].values])\n",
    "test['transaction_year'] = 2017 - np.array([int(str(k)[:4]) for k in test['transaction_year_month'].values])\n",
    "train['transaction_month'] = np.array([int(str(k)[4:]) for k in train['transaction_year_month'].values])\n",
    "test['transaction_month'] = np.array([int(str(k)[4:]) for k in test['transaction_year_month'].values])\n",
    "\n",
    "\n",
    "LE.fit(list(train['transaction_year_month'])+list(test['transaction_year_month']))\n",
    "train['transaction_year_month'] = LE.transform(train['transaction_year_month'])\n",
    "test['transaction_year_month'] = LE.transform(test['transaction_year_month'])\n",
    "\n",
    "LE.fit(list(train['transaction_date'])+list(test['transaction_date']))\n",
    "train['transaction_date'] = LE.transform(train['transaction_date'])\n",
    "test['transaction_date'] = LE.transform(test['transaction_date'])"
   ]
  },
  {
   "cell_type": "code",
   "execution_count": 445,
   "metadata": {
    "ExecuteTime": {
     "end_time": "2020-11-15T12:49:54.016095Z",
     "start_time": "2020-11-15T12:49:54.012094Z"
    },
    "scrolled": true
   },
   "outputs": [],
   "source": [
    "# from sklearn.preprocessing import LabelEncoder\n",
    "# LE = LabelEncoder()\n",
    "# LE\n",
    "# train['city'] = LE.fit_transform(train['city'])\n",
    "# train['dong'] = LE.fit_transform(train['dong'])\n",
    "# train['jibun'] = LE.fit_transform(train['jibun'])\n",
    "# train['apt'] = LE.fit_transform(train['apt'])\n",
    "# train['addr_kr'] = LE.fit_transform(train['addr_kr'])\n",
    "# train['year_of_completion'] = 2017-train['year_of_completion'].values\n",
    "# train['transaction_year'] = 2017 - np.array([int(str(k)[:4]) for k in train['transaction_year_month'].values])\n",
    "# train['transaction_month'] = np.array([int(str(k)[4:]) for k in train['transaction_year_month'].values])\n",
    "# train['transaction_year_month'] = LE.fit_transform(train['transaction_year_month'])\n",
    "# train['transaction_date'] = LE.fit_transform(train['transaction_date'])\n"
   ]
  },
  {
   "cell_type": "markdown",
   "metadata": {
    "run_control": {
     "marked": false
    }
   },
   "source": [
    "# 2주차"
   ]
  },
  {
   "cell_type": "code",
   "execution_count": 447,
   "metadata": {
    "ExecuteTime": {
     "end_time": "2020-11-15T12:49:57.220368Z",
     "start_time": "2020-11-15T12:49:57.216359Z"
    }
   },
   "outputs": [],
   "source": [
    "from sklearn.model_selection import train_test_split\n",
    "from sklearn.metrics import mean_squared_error"
   ]
  },
  {
   "cell_type": "markdown",
   "metadata": {},
   "source": [
    "### feature 중요도 출력"
   ]
  },
  {
   "cell_type": "code",
   "execution_count": 466,
   "metadata": {
    "ExecuteTime": {
     "end_time": "2020-11-15T12:59:17.041861Z",
     "start_time": "2020-11-15T12:59:17.037868Z"
    }
   },
   "outputs": [],
   "source": [
    "\n",
    "def show_feature_importance(model, data):\n",
    "    df=pd.DataFrame({'column':list(data.columns),\n",
    "              'score':list(model.feature_importances_),\n",
    "             })\n",
    "    plt.figure(figsize=(20,10))\n",
    "    sns.barplot(x=\"score\", y=\"column\", data=df)\n",
    "    plt.yticks(size=20)\n",
    "    plt.xticks(size=20)\n",
    "    plt.xlabel('score', size=20)\n",
    "    plt.ylabel('column', size=20)\n",
    "    plt.show()"
   ]
  },
  {
   "cell_type": "markdown",
   "metadata": {},
   "source": [
    "### 데이터 분리"
   ]
  },
  {
   "cell_type": "code",
   "execution_count": 463,
   "metadata": {
    "ExecuteTime": {
     "end_time": "2020-11-15T12:51:26.726566Z",
     "start_time": "2020-11-15T12:51:26.265463Z"
    }
   },
   "outputs": [],
   "source": [
    "# 범주형 데이터.\n",
    "category_columns = ['apartment_id', 'city', 'dong', 'jibun', 'apt', 'addr_kr']\n",
    "for column in category_columns:\n",
    "    train[column] = train[column].astype('int')                     # 범주형시 category. (lightgbm)\n",
    "    \n",
    "drop_column = ['transaction_real_price']\n",
    "\n",
    "X_data = train.drop(drop_column, axis=1)\n",
    "y_data = train['transaction_real_price'].values\n",
    "X_train, X_valid, y_train, y_valid = train_test_split(X_data, y_data, test_size=0.2, random_state=42)"
   ]
  },
  {
   "cell_type": "markdown",
   "metadata": {},
   "source": [
    "# RandomForest\n",
    "- 결측값이 있으면 자동으로 대체 못함.\n",
    "- 결측값을 꼭 처리 해줘야함."
   ]
  },
  {
   "cell_type": "code",
   "execution_count": 310,
   "metadata": {
    "ExecuteTime": {
     "end_time": "2020-11-15T12:28:03.075123Z",
     "start_time": "2020-11-15T12:26:22.676936Z"
    },
    "scrolled": true
   },
   "outputs": [
    {
     "name": "stderr",
     "output_type": "stream",
     "text": [
      "[Parallel(n_jobs=-1)]: Done  26 tasks      | elapsed:   33.4s\n",
      "[Parallel(n_jobs=-1)]: Done 100 out of 100 | elapsed:  1.6min finished\n",
      "[Parallel(n_jobs=12)]: Done  26 tasks      | elapsed:    0.7s\n"
     ]
    },
    {
     "name": "stdout",
     "output_type": "stream",
     "text": [
      "4115.02060828408\n"
     ]
    },
    {
     "name": "stderr",
     "output_type": "stream",
     "text": [
      "[Parallel(n_jobs=12)]: Done 100 out of 100 | elapsed:    2.2s finished\n"
     ]
    }
   ],
   "source": [
    "from sklearn.ensemble import RandomForestRegressor\n",
    "\n",
    "\n",
    "rf = RandomForestRegressor(\n",
    "        n_estimators=100,\n",
    "        criterion='mse',\n",
    "        max_depth=None,\n",
    "        min_samples_split=2,\n",
    "        min_samples_leaf=1,\n",
    "        min_weight_fraction_leaf=0.0,\n",
    "        min_impurity_decrease=0.0,\n",
    "        n_jobs=-1,\n",
    "        random_state=42,\n",
    "        verbose=1,\n",
    ")\n",
    "rf.fit(X_train.iloc[:,(X_train.isnull().sum()==0).values], y_train)\n",
    "print(np.sqrt(mean_squared_error(y_valid,rf.predict(X_valid.iloc[:,(X_train.isnull().sum()==0).values]))))"
   ]
  },
  {
   "cell_type": "code",
   "execution_count": 306,
   "metadata": {
    "ExecuteTime": {
     "end_time": "2020-11-15T12:21:58.530676Z",
     "start_time": "2020-11-15T12:21:58.206584Z"
    },
    "scrolled": false
   },
   "outputs": [
    {
     "data": {
      "image/png": "[encoded data removed]",
      "text/plain": [
       "<Figure size 1440x720 with 1 Axes>"
      ]
     },
     "metadata": {
      "needs_background": "light"
     },
     "output_type": "display_data"
    }
   ],
   "source": [
    "show_feature_importance(rf, X_train.iloc[:,(X_train.isnull().sum()==0).values])"
   ]
  },
  {
   "cell_type": "markdown",
   "metadata": {},
   "source": [
    "# XGBoost"
   ]
  },
  {
   "cell_type": "code",
   "execution_count": 450,
   "metadata": {
    "ExecuteTime": {
     "end_time": "2020-11-15T12:50:06.464087Z",
     "start_time": "2020-11-15T12:50:06.461087Z"
    }
   },
   "outputs": [],
   "source": [
    "import xgboost as xgb"
   ]
  },
  {
   "cell_type": "code",
   "execution_count": 451,
   "metadata": {
    "ExecuteTime": {
     "end_time": "2020-11-15T12:50:06.588116Z",
     "start_time": "2020-11-15T12:50:06.585115Z"
    }
   },
   "outputs": [],
   "source": [
    "xgb_model=xgb.XGBRegressor(\n",
    "        max_depth=3,\n",
    "        learning_rate=0.5,\n",
    "        n_estimators=10,\n",
    "        verbosity=1,\n",
    "        silent=1,\n",
    "        objective='reg:linear',\n",
    "        booster='gbtree',\n",
    "        n_jobs=1,\n",
    "        nthread=None,\n",
    "        gamma=0,\n",
    "        min_child_weight=1,\n",
    "        max_delta_step=0,\n",
    "        subsample=1,\n",
    "        colsample_bytree=1,\n",
    "        colsample_bylevel=1,\n",
    "        colsample_bynode=1,\n",
    "        reg_alpha=0,\n",
    "        reg_lambda=1,\n",
    "        scale_pos_weight=1,\n",
    "        random_state=42,\n",
    "        seed=42,\n",
    "        missing=None,\n",
    "        importance_type='gain',\n",
    ")"
   ]
  },
  {
   "cell_type": "code",
   "execution_count": 452,
   "metadata": {
    "ExecuteTime": {
     "end_time": "2020-11-15T12:50:20.659994Z",
     "start_time": "2020-11-15T12:50:10.405979Z"
    },
    "scrolled": true
   },
   "outputs": [
    {
     "name": "stdout",
     "output_type": "stream",
     "text": [
      "[0]\tvalidation_0-rmse:30504.3\tvalidation_1-rmse:30527.1\n",
      "[1]\tvalidation_0-rmse:22218.3\tvalidation_1-rmse:22244.6\n",
      "[2]\tvalidation_0-rmse:18819.4\tvalidation_1-rmse:18841.2\n",
      "[3]\tvalidation_0-rmse:17198.8\tvalidation_1-rmse:17225.3\n",
      "[4]\tvalidation_0-rmse:16306.8\tvalidation_1-rmse:16322.9\n",
      "[5]\tvalidation_0-rmse:15391.6\tvalidation_1-rmse:15402.8\n",
      "[6]\tvalidation_0-rmse:14930.2\tvalidation_1-rmse:14982.9\n",
      "[7]\tvalidation_0-rmse:14645.9\tvalidation_1-rmse:14699.2\n",
      "[8]\tvalidation_0-rmse:14329.8\tvalidation_1-rmse:14379.1\n",
      "[9]\tvalidation_0-rmse:14147.5\tvalidation_1-rmse:14198\n"
     ]
    },
    {
     "data": {
      "text/plain": [
       "XGBRegressor(base_score=0.5, booster='gbtree', colsample_bylevel=1,\n",
       "       colsample_bynode=1, colsample_bytree=1, gamma=0,\n",
       "       importance_type='gain', learning_rate=0.5, max_delta_step=0,\n",
       "       max_depth=3, min_child_weight=1, missing=None, n_estimators=10,\n",
       "       n_jobs=1, nthread=None, objective='reg:linear', random_state=42,\n",
       "       reg_alpha=0, reg_lambda=1, scale_pos_weight=1, seed=42, silent=1,\n",
       "       subsample=1, verbosity=1)"
      ]
     },
     "execution_count": 452,
     "metadata": {},
     "output_type": "execute_result"
    }
   ],
   "source": [
    "xgb_model.fit(X_train, y_train, eval_set=[(X_train, y_train),(X_valid, y_valid)], eval_metric='rmse')"
   ]
  },
  {
   "cell_type": "code",
   "execution_count": 454,
   "metadata": {
    "ExecuteTime": {
     "end_time": "2020-11-15T12:50:30.690684Z",
     "start_time": "2020-11-15T12:50:30.542652Z"
    }
   },
   "outputs": [
    {
     "data": {
      "image/png": "[encoded data removed]",
      "text/plain": [
       "<Figure size 1440x720 with 1 Axes>"
      ]
     },
     "metadata": {
      "needs_background": "light"
     },
     "output_type": "display_data"
    }
   ],
   "source": [
    "show_feature_importance(xgb_model, X_valid)"
   ]
  },
  {
   "cell_type": "markdown",
   "metadata": {},
   "source": [
    "# LightGBM\n"
   ]
  },
  {
   "cell_type": "code",
   "execution_count": 455,
   "metadata": {
    "ExecuteTime": {
     "end_time": "2020-11-15T12:50:41.397045Z",
     "start_time": "2020-11-15T12:50:41.393044Z"
    }
   },
   "outputs": [],
   "source": [
    "import lightgbm as lgb\n",
    "from sklearn.model_selection import train_test_split"
   ]
  },
  {
   "cell_type": "code",
   "execution_count": 456,
   "metadata": {
    "ExecuteTime": {
     "end_time": "2020-11-15T12:50:41.794133Z",
     "start_time": "2020-11-15T12:50:41.790133Z"
    }
   },
   "outputs": [],
   "source": [
    "from lightgbm import LGBMRegressor"
   ]
  },
  {
   "cell_type": "code",
   "execution_count": 457,
   "metadata": {
    "ExecuteTime": {
     "end_time": "2020-11-15T12:50:41.997211Z",
     "start_time": "2020-11-15T12:50:41.994179Z"
    }
   },
   "outputs": [],
   "source": [
    "lgbm_model = LGBMRegressor(\n",
    "    boosting_type='gbdt',\n",
    "    num_leaves=31,\n",
    "    max_depth=-1,\n",
    "    learning_rate=0.1,\n",
    "    n_estimators=100,\n",
    "    objective=None,\n",
    "    subsample=1.0,\n",
    "    colsample_bytree=1.0,\n",
    "    reg_alpha=0.0,\n",
    "    reg_lambda=0.0,\n",
    "    random_state=42,\n",
    "    n_jobs=-1,\n",
    "#         max_bin=2*9\n",
    ")\n"
   ]
  },
  {
   "cell_type": "code",
   "execution_count": 464,
   "metadata": {
    "ExecuteTime": {
     "end_time": "2020-11-15T12:51:47.877370Z",
     "start_time": "2020-11-15T12:51:32.308816Z"
    },
    "scrolled": true
   },
   "outputs": [
    {
     "name": "stdout",
     "output_type": "stream",
     "text": [
      "[1]\ttraining's rmse: 28457\ttraining's l2: 8.09801e+08\tvalid_1's rmse: 28437.1\tvalid_1's l2: 8.08667e+08\n",
      "[2]\ttraining's rmse: 26141.9\ttraining's l2: 6.834e+08\tvalid_1's rmse: 26129.5\tvalid_1's l2: 6.82748e+08\n",
      "[3]\ttraining's rmse: 24082.2\ttraining's l2: 5.79951e+08\tvalid_1's rmse: 24077.8\tvalid_1's l2: 5.7974e+08\n",
      "[4]\ttraining's rmse: 22258.8\ttraining's l2: 4.95455e+08\tvalid_1's rmse: 22261.3\tvalid_1's l2: 4.95564e+08\n",
      "[5]\ttraining's rmse: 20635.5\ttraining's l2: 4.25823e+08\tvalid_1's rmse: 20642.7\tvalid_1's l2: 4.26123e+08\n",
      "[6]\ttraining's rmse: 19183.5\ttraining's l2: 3.68007e+08\tvalid_1's rmse: 19195.4\tvalid_1's l2: 3.68465e+08\n",
      "[7]\ttraining's rmse: 17895.4\ttraining's l2: 3.20244e+08\tvalid_1's rmse: 17911\tvalid_1's l2: 3.20803e+08\n",
      "[8]\ttraining's rmse: 16742.6\ttraining's l2: 2.80316e+08\tvalid_1's rmse: 16762\tvalid_1's l2: 2.80966e+08\n",
      "[9]\ttraining's rmse: 15702.8\ttraining's l2: 2.46579e+08\tvalid_1's rmse: 15727.4\tvalid_1's l2: 2.47351e+08\n",
      "[10]\ttraining's rmse: 14790.4\ttraining's l2: 2.18756e+08\tvalid_1's rmse: 14820.2\tvalid_1's l2: 2.19637e+08\n",
      "[11]\ttraining's rmse: 13974.9\ttraining's l2: 1.95299e+08\tvalid_1's rmse: 14010.1\tvalid_1's l2: 1.96284e+08\n",
      "[12]\ttraining's rmse: 13240.3\ttraining's l2: 1.75305e+08\tvalid_1's rmse: 13280.3\tvalid_1's l2: 1.76366e+08\n",
      "[13]\ttraining's rmse: 12580.7\ttraining's l2: 1.58274e+08\tvalid_1's rmse: 12624.9\tvalid_1's l2: 1.59389e+08\n",
      "[14]\ttraining's rmse: 11983.5\ttraining's l2: 1.43603e+08\tvalid_1's rmse: 12033.4\tvalid_1's l2: 1.44804e+08\n",
      "[15]\ttraining's rmse: 11456.3\ttraining's l2: 1.31247e+08\tvalid_1's rmse: 11518.2\tvalid_1's l2: 1.32668e+08\n",
      "[16]\ttraining's rmse: 10977.6\ttraining's l2: 1.20508e+08\tvalid_1's rmse: 11047\tvalid_1's l2: 1.22036e+08\n",
      "[17]\ttraining's rmse: 10560\ttraining's l2: 1.11513e+08\tvalid_1's rmse: 10641.4\tvalid_1's l2: 1.13239e+08\n",
      "[18]\ttraining's rmse: 10144\ttraining's l2: 1.029e+08\tvalid_1's rmse: 10232.7\tvalid_1's l2: 1.04708e+08\n",
      "[19]\ttraining's rmse: 9805.26\ttraining's l2: 9.61431e+07\tvalid_1's rmse: 9900.84\tvalid_1's l2: 9.80267e+07\n",
      "[20]\ttraining's rmse: 9498.37\ttraining's l2: 9.02189e+07\tvalid_1's rmse: 9600.14\tvalid_1's l2: 9.21626e+07\n",
      "[21]\ttraining's rmse: 9194.28\ttraining's l2: 8.45347e+07\tvalid_1's rmse: 9301.72\tvalid_1's l2: 8.65219e+07\n",
      "[22]\ttraining's rmse: 8936.79\ttraining's l2: 7.98662e+07\tvalid_1's rmse: 9049.65\tvalid_1's l2: 8.18962e+07\n",
      "[23]\ttraining's rmse: 8708.18\ttraining's l2: 7.58323e+07\tvalid_1's rmse: 8830.86\tvalid_1's l2: 7.7984e+07\n",
      "[24]\ttraining's rmse: 8477.49\ttraining's l2: 7.18678e+07\tvalid_1's rmse: 8607.72\tvalid_1's l2: 7.40928e+07\n",
      "[25]\ttraining's rmse: 8285.09\ttraining's l2: 6.86426e+07\tvalid_1's rmse: 8421.92\tvalid_1's l2: 7.09288e+07\n",
      "[26]\ttraining's rmse: 8110.12\ttraining's l2: 6.5774e+07\tvalid_1's rmse: 8255.66\tvalid_1's l2: 6.8156e+07\n",
      "[27]\ttraining's rmse: 7961.52\ttraining's l2: 6.33859e+07\tvalid_1's rmse: 8115.67\tvalid_1's l2: 6.58642e+07\n",
      "[28]\ttraining's rmse: 7811.72\ttraining's l2: 6.1023e+07\tvalid_1's rmse: 7974.96\tvalid_1's l2: 6.36e+07\n",
      "[29]\ttraining's rmse: 7658.63\ttraining's l2: 5.86546e+07\tvalid_1's rmse: 7828.45\tvalid_1's l2: 6.12847e+07\n",
      "[30]\ttraining's rmse: 7529.56\ttraining's l2: 5.66943e+07\tvalid_1's rmse: 7704.51\tvalid_1's l2: 5.93595e+07\n",
      "[31]\ttraining's rmse: 7417.47\ttraining's l2: 5.50189e+07\tvalid_1's rmse: 7595.65\tvalid_1's l2: 5.76939e+07\n",
      "[32]\ttraining's rmse: 7320.67\ttraining's l2: 5.35922e+07\tvalid_1's rmse: 7505.29\tvalid_1's l2: 5.63294e+07\n",
      "[33]\ttraining's rmse: 7206.1\ttraining's l2: 5.19279e+07\tvalid_1's rmse: 7395.15\tvalid_1's l2: 5.46882e+07\n",
      "[34]\ttraining's rmse: 7108.54\ttraining's l2: 5.05314e+07\tvalid_1's rmse: 7299.33\tvalid_1's l2: 5.32803e+07\n",
      "[35]\ttraining's rmse: 7022.18\ttraining's l2: 4.9311e+07\tvalid_1's rmse: 7221.12\tvalid_1's l2: 5.21446e+07\n",
      "[36]\ttraining's rmse: 6941.27\ttraining's l2: 4.81813e+07\tvalid_1's rmse: 7142.89\tvalid_1's l2: 5.10209e+07\n",
      "[37]\ttraining's rmse: 6862.79\ttraining's l2: 4.70978e+07\tvalid_1's rmse: 7067.37\tvalid_1's l2: 4.99478e+07\n",
      "[38]\ttraining's rmse: 6779.31\ttraining's l2: 4.59591e+07\tvalid_1's rmse: 6987.85\tvalid_1's l2: 4.88301e+07\n",
      "[39]\ttraining's rmse: 6712.81\ttraining's l2: 4.50618e+07\tvalid_1's rmse: 6925.29\tvalid_1's l2: 4.79597e+07\n",
      "[40]\ttraining's rmse: 6646.61\ttraining's l2: 4.41775e+07\tvalid_1's rmse: 6858.17\tvalid_1's l2: 4.70345e+07\n",
      "[41]\ttraining's rmse: 6569.19\ttraining's l2: 4.31543e+07\tvalid_1's rmse: 6782.91\tvalid_1's l2: 4.60078e+07\n",
      "[42]\ttraining's rmse: 6509.21\ttraining's l2: 4.23698e+07\tvalid_1's rmse: 6719.11\tvalid_1's l2: 4.51464e+07\n",
      "[43]\ttraining's rmse: 6443.91\ttraining's l2: 4.1524e+07\tvalid_1's rmse: 6657.09\tvalid_1's l2: 4.43169e+07\n",
      "[44]\ttraining's rmse: 6384.77\ttraining's l2: 4.07653e+07\tvalid_1's rmse: 6599.89\tvalid_1's l2: 4.35586e+07\n",
      "[45]\ttraining's rmse: 6327.69\ttraining's l2: 4.00397e+07\tvalid_1's rmse: 6544.18\tvalid_1's l2: 4.28263e+07\n",
      "[46]\ttraining's rmse: 6275.16\ttraining's l2: 3.93777e+07\tvalid_1's rmse: 6493.95\tvalid_1's l2: 4.21714e+07\n",
      "[47]\ttraining's rmse: 6212.43\ttraining's l2: 3.85943e+07\tvalid_1's rmse: 6434.52\tvalid_1's l2: 4.1403e+07\n",
      "[48]\ttraining's rmse: 6169.81\ttraining's l2: 3.80666e+07\tvalid_1's rmse: 6395.3\tvalid_1's l2: 4.08998e+07\n",
      "[49]\ttraining's rmse: 6125.28\ttraining's l2: 3.7519e+07\tvalid_1's rmse: 6348.77\tvalid_1's l2: 4.03069e+07\n",
      "[50]\ttraining's rmse: 6074.63\ttraining's l2: 3.69011e+07\tvalid_1's rmse: 6303.37\tvalid_1's l2: 3.97324e+07\n",
      "[51]\ttraining's rmse: 6025.23\ttraining's l2: 3.63034e+07\tvalid_1's rmse: 6254.01\tvalid_1's l2: 3.91126e+07\n",
      "[52]\ttraining's rmse: 5989.21\ttraining's l2: 3.58706e+07\tvalid_1's rmse: 6223.02\tvalid_1's l2: 3.8726e+07\n",
      "[53]\ttraining's rmse: 5956.43\ttraining's l2: 3.54791e+07\tvalid_1's rmse: 6189.02\tvalid_1's l2: 3.8304e+07\n",
      "[54]\ttraining's rmse: 5923.43\ttraining's l2: 3.5087e+07\tvalid_1's rmse: 6156.24\tvalid_1's l2: 3.78993e+07\n",
      "[55]\ttraining's rmse: 5879.94\ttraining's l2: 3.45737e+07\tvalid_1's rmse: 6112.46\tvalid_1's l2: 3.73622e+07\n",
      "[56]\ttraining's rmse: 5839.84\ttraining's l2: 3.41037e+07\tvalid_1's rmse: 6073.87\tvalid_1's l2: 3.68919e+07\n",
      "[57]\ttraining's rmse: 5808.55\ttraining's l2: 3.37392e+07\tvalid_1's rmse: 6044.19\tvalid_1's l2: 3.65322e+07\n",
      "[58]\ttraining's rmse: 5782.09\ttraining's l2: 3.34326e+07\tvalid_1's rmse: 6020.21\tvalid_1's l2: 3.62429e+07\n",
      "[59]\ttraining's rmse: 5745.31\ttraining's l2: 3.30086e+07\tvalid_1's rmse: 5983.71\tvalid_1's l2: 3.58048e+07\n",
      "[60]\ttraining's rmse: 5718.58\ttraining's l2: 3.27021e+07\tvalid_1's rmse: 5962.45\tvalid_1's l2: 3.55509e+07\n",
      "[61]\ttraining's rmse: 5687.18\ttraining's l2: 3.2344e+07\tvalid_1's rmse: 5926.62\tvalid_1's l2: 3.51249e+07\n",
      "[62]\ttraining's rmse: 5659.3\ttraining's l2: 3.20277e+07\tvalid_1's rmse: 5894.78\tvalid_1's l2: 3.47485e+07\n",
      "[63]\ttraining's rmse: 5634.1\ttraining's l2: 3.1743e+07\tvalid_1's rmse: 5869.91\tvalid_1's l2: 3.44559e+07\n",
      "[64]\ttraining's rmse: 5601.53\ttraining's l2: 3.13771e+07\tvalid_1's rmse: 5838.19\tvalid_1's l2: 3.40845e+07\n",
      "[65]\ttraining's rmse: 5576.99\ttraining's l2: 3.11029e+07\tvalid_1's rmse: 5814.13\tvalid_1's l2: 3.38042e+07\n",
      "[66]\ttraining's rmse: 5556.3\ttraining's l2: 3.08724e+07\tvalid_1's rmse: 5793.66\tvalid_1's l2: 3.35665e+07\n",
      "[67]\ttraining's rmse: 5528.97\ttraining's l2: 3.05695e+07\tvalid_1's rmse: 5767.54\tvalid_1's l2: 3.32646e+07\n",
      "[68]\ttraining's rmse: 5497.78\ttraining's l2: 3.02256e+07\tvalid_1's rmse: 5739.7\tvalid_1's l2: 3.29441e+07\n",
      "[69]\ttraining's rmse: 5469.96\ttraining's l2: 2.99205e+07\tvalid_1's rmse: 5708.01\tvalid_1's l2: 3.25814e+07\n",
      "[70]\ttraining's rmse: 5452.25\ttraining's l2: 2.9727e+07\tvalid_1's rmse: 5689.3\tvalid_1's l2: 3.23681e+07\n",
      "[71]\ttraining's rmse: 5428.02\ttraining's l2: 2.94634e+07\tvalid_1's rmse: 5667.87\tvalid_1's l2: 3.21247e+07\n",
      "[72]\ttraining's rmse: 5410.68\ttraining's l2: 2.92755e+07\tvalid_1's rmse: 5651.74\tvalid_1's l2: 3.19421e+07\n",
      "[73]\ttraining's rmse: 5382.23\ttraining's l2: 2.89684e+07\tvalid_1's rmse: 5625.96\tvalid_1's l2: 3.16514e+07\n",
      "[74]\ttraining's rmse: 5357.86\ttraining's l2: 2.87067e+07\tvalid_1's rmse: 5602.16\tvalid_1's l2: 3.13842e+07\n",
      "[75]\ttraining's rmse: 5343.16\ttraining's l2: 2.85494e+07\tvalid_1's rmse: 5586\tvalid_1's l2: 3.12034e+07\n",
      "[76]\ttraining's rmse: 5326.38\ttraining's l2: 2.83704e+07\tvalid_1's rmse: 5570.4\tvalid_1's l2: 3.10294e+07\n",
      "[77]\ttraining's rmse: 5307.05\ttraining's l2: 2.81647e+07\tvalid_1's rmse: 5552.63\tvalid_1's l2: 3.08317e+07\n",
      "[78]\ttraining's rmse: 5291.27\ttraining's l2: 2.79975e+07\tvalid_1's rmse: 5536.75\tvalid_1's l2: 3.06556e+07\n",
      "[79]\ttraining's rmse: 5279.11\ttraining's l2: 2.7869e+07\tvalid_1's rmse: 5523.67\tvalid_1's l2: 3.05109e+07\n"
     ]
    },
    {
     "name": "stdout",
     "output_type": "stream",
     "text": [
      "[80]\ttraining's rmse: 5264.6\ttraining's l2: 2.7716e+07\tvalid_1's rmse: 5510.17\tvalid_1's l2: 3.0362e+07\n",
      "[81]\ttraining's rmse: 5246.69\ttraining's l2: 2.75278e+07\tvalid_1's rmse: 5493.76\tvalid_1's l2: 3.01814e+07\n",
      "[82]\ttraining's rmse: 5229.21\ttraining's l2: 2.73447e+07\tvalid_1's rmse: 5478.47\tvalid_1's l2: 3.00136e+07\n",
      "[83]\ttraining's rmse: 5212.38\ttraining's l2: 2.71689e+07\tvalid_1's rmse: 5463.38\tvalid_1's l2: 2.98485e+07\n",
      "[84]\ttraining's rmse: 5195.27\ttraining's l2: 2.69908e+07\tvalid_1's rmse: 5442.99\tvalid_1's l2: 2.96261e+07\n",
      "[85]\ttraining's rmse: 5185.51\ttraining's l2: 2.68895e+07\tvalid_1's rmse: 5435.38\tvalid_1's l2: 2.95434e+07\n",
      "[86]\ttraining's rmse: 5170.32\ttraining's l2: 2.67322e+07\tvalid_1's rmse: 5418.93\tvalid_1's l2: 2.93648e+07\n",
      "[87]\ttraining's rmse: 5159.26\ttraining's l2: 2.6618e+07\tvalid_1's rmse: 5407.52\tvalid_1's l2: 2.92413e+07\n",
      "[88]\ttraining's rmse: 5149.8\ttraining's l2: 2.65204e+07\tvalid_1's rmse: 5398.15\tvalid_1's l2: 2.91401e+07\n",
      "[89]\ttraining's rmse: 5136.17\ttraining's l2: 2.63803e+07\tvalid_1's rmse: 5385.21\tvalid_1's l2: 2.90005e+07\n",
      "[90]\ttraining's rmse: 5123.89\ttraining's l2: 2.62542e+07\tvalid_1's rmse: 5374.77\tvalid_1's l2: 2.88882e+07\n",
      "[91]\ttraining's rmse: 5111.86\ttraining's l2: 2.61312e+07\tvalid_1's rmse: 5362.29\tvalid_1's l2: 2.87541e+07\n",
      "[92]\ttraining's rmse: 5088.02\ttraining's l2: 2.58879e+07\tvalid_1's rmse: 5337.4\tvalid_1's l2: 2.84878e+07\n",
      "[93]\ttraining's rmse: 5075.03\ttraining's l2: 2.5756e+07\tvalid_1's rmse: 5328.56\tvalid_1's l2: 2.83935e+07\n",
      "[94]\ttraining's rmse: 5066.94\ttraining's l2: 2.56739e+07\tvalid_1's rmse: 5321.54\tvalid_1's l2: 2.83187e+07\n",
      "[95]\ttraining's rmse: 5055.37\ttraining's l2: 2.55568e+07\tvalid_1's rmse: 5311.14\tvalid_1's l2: 2.82082e+07\n",
      "[96]\ttraining's rmse: 5046.47\ttraining's l2: 2.54669e+07\tvalid_1's rmse: 5302.8\tvalid_1's l2: 2.81197e+07\n",
      "[97]\ttraining's rmse: 5025.36\ttraining's l2: 2.52542e+07\tvalid_1's rmse: 5279.92\tvalid_1's l2: 2.78775e+07\n",
      "[98]\ttraining's rmse: 5008.53\ttraining's l2: 2.50853e+07\tvalid_1's rmse: 5263.13\tvalid_1's l2: 2.77005e+07\n",
      "[99]\ttraining's rmse: 4996.86\ttraining's l2: 2.49686e+07\tvalid_1's rmse: 5252.68\tvalid_1's l2: 2.75906e+07\n",
      "[100]\ttraining's rmse: 4982.99\ttraining's l2: 2.48302e+07\tvalid_1's rmse: 5243.03\tvalid_1's l2: 2.74894e+07\n"
     ]
    },
    {
     "data": {
      "text/plain": [
       "LGBMRegressor(boosting_type='gbdt', class_weight=None, colsample_bytree=1.0,\n",
       "       importance_type='split', learning_rate=0.1, max_depth=-1,\n",
       "       min_child_samples=20, min_child_weight=0.001, min_split_gain=0.0,\n",
       "       n_estimators=100, n_jobs=-1, num_leaves=31, objective=None,\n",
       "       random_state=42, reg_alpha=0.0, reg_lambda=0.0, silent=True,\n",
       "       subsample=1.0, subsample_for_bin=200000, subsample_freq=0)"
      ]
     },
     "execution_count": 464,
     "metadata": {},
     "output_type": "execute_result"
    }
   ],
   "source": [
    "lgbm_model.fit(X_train, y_train, eval_set=[(X_train, y_train), (X_valid, y_valid)], eval_metric='rmse', verbose=1)"
   ]
  },
  {
   "cell_type": "code",
   "execution_count": 465,
   "metadata": {
    "ExecuteTime": {
     "end_time": "2020-11-15T12:51:54.633880Z",
     "start_time": "2020-11-15T12:51:54.487848Z"
    }
   },
   "outputs": [
    {
     "data": {
      "image/png": "[encoded data removed]",
      "text/plain": [
       "<Figure size 1440x720 with 1 Axes>"
      ]
     },
     "metadata": {
      "needs_background": "light"
     },
     "output_type": "display_data"
    }
   ],
   "source": [
    "show_feature_importance(lgbm_model, X_valid)"
   ]
  }
 ],
 "metadata": {
  "hide_input": false,
  "kernelspec": {
   "display_name": "Python 3",
   "language": "python",
   "name": "python3"
  },
  "language_info": {
   "codemirror_mode": {
    "name": "ipython",
    "version": 3
   },
   "file_extension": ".py",
   "mimetype": "text/x-python",
   "name": "python",
   "nbconvert_exporter": "python",
   "pygments_lexer": "ipython3",
   "version": "3.8.3"
  },
  "toc": {
   "base_numbering": 1,
   "nav_menu": {},
   "number_sections": true,
   "sideBar": true,
   "skip_h1_title": false,
   "title_cell": "Table of Contents",
   "title_sidebar": "Contents",
   "toc_cell": false,
   "toc_position": {},
   "toc_section_display": true,
   "toc_window_display": false
  }
 },
 "nbformat": 4,
 "nbformat_minor": 2
}
