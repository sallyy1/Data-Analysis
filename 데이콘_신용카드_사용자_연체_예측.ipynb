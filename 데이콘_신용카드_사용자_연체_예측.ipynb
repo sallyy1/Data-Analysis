{
 "cells": [
  {
   "cell_type": "markdown",
   "metadata": {
    "id": "R8fMKR1K5FfW"
   },
   "source": [
    "# **라이브러리 불러오기**"
   ]
  },
  {
   "cell_type": "code",
   "execution_count": null,
   "metadata": {
    "colab": {
     "base_uri": "https://localhost:8080/"
    },
    "id": "lmBarACu5OWk",
    "outputId": "3a4d868c-eacc-44be-b41d-bae3342c3e33"
   },
   "outputs": [
    {
     "name": "stdout",
     "output_type": "stream",
     "text": [
      "Collecting catboost\n",
      "\u001b[?25l  Downloading https://files.pythonhosted.org/packages/47/80/8e9c57ec32dfed6ba2922bc5c96462cbf8596ce1a6f5de532ad1e43e53fe/catboost-0.25.1-cp37-none-manylinux1_x86_64.whl (67.3MB)\n",
      "\u001b[K     |████████████████████████████████| 67.3MB 52kB/s \n",
      "\u001b[?25hRequirement already satisfied: numpy>=1.16.0 in /usr/local/lib/python3.7/dist-packages (from catboost) (1.19.5)\n",
      "Requirement already satisfied: scipy in /usr/local/lib/python3.7/dist-packages (from catboost) (1.4.1)\n",
      "Requirement already satisfied: graphviz in /usr/local/lib/python3.7/dist-packages (from catboost) (0.10.1)\n",
      "Requirement already satisfied: six in /usr/local/lib/python3.7/dist-packages (from catboost) (1.15.0)\n",
      "Requirement already satisfied: plotly in /usr/local/lib/python3.7/dist-packages (from catboost) (4.4.1)\n",
      "Requirement already satisfied: matplotlib in /usr/local/lib/python3.7/dist-packages (from catboost) (3.2.2)\n",
      "Requirement already satisfied: pandas>=0.24.0 in /usr/local/lib/python3.7/dist-packages (from catboost) (1.1.5)\n",
      "Requirement already satisfied: retrying>=1.3.3 in /usr/local/lib/python3.7/dist-packages (from plotly->catboost) (1.3.3)\n",
      "Requirement already satisfied: python-dateutil>=2.1 in /usr/local/lib/python3.7/dist-packages (from matplotlib->catboost) (2.8.1)\n",
      "Requirement already satisfied: pyparsing!=2.0.4,!=2.1.2,!=2.1.6,>=2.0.1 in /usr/local/lib/python3.7/dist-packages (from matplotlib->catboost) (2.4.7)\n",
      "Requirement already satisfied: kiwisolver>=1.0.1 in /usr/local/lib/python3.7/dist-packages (from matplotlib->catboost) (1.3.1)\n",
      "Requirement already satisfied: cycler>=0.10 in /usr/local/lib/python3.7/dist-packages (from matplotlib->catboost) (0.10.0)\n",
      "Requirement already satisfied: pytz>=2017.2 in /usr/local/lib/python3.7/dist-packages (from pandas>=0.24.0->catboost) (2018.9)\n",
      "Installing collected packages: catboost\n",
      "Successfully installed catboost-0.25.1\n"
     ]
    }
   ],
   "source": [
    "!pip install catboost"
   ]
  },
  {
   "cell_type": "code",
   "execution_count": null,
   "metadata": {
    "id": "85notOL55Ffj"
   },
   "outputs": [],
   "source": [
    "import warnings\n",
    "warnings.filterwarnings('ignore')\n",
    "import numpy as np\n",
    "import pandas as pd   \n",
    "import matplotlib.pyplot as plt\n",
    "import seaborn as sns\n",
    "import itertools\n",
    "\n",
    "from sklearn.model_selection import train_test_split\n",
    "from sklearn.metrics import accuracy_score, confusion_matrix, log_loss\n",
    "\n",
    "from sklearn.linear_model import LogisticRegression\n",
    "from sklearn.tree import DecisionTreeClassifier\n",
    "\n",
    "from xgboost import XGBClassifier\n",
    "from lightgbm import LGBMClassifier\n",
    "from catboost import CatBoostClassifier\n",
    "from sklearn import svm\n",
    "from sklearn.ensemble import RandomForestClassifier"
   ]
  },
  {
   "cell_type": "code",
   "execution_count": null,
   "metadata": {
    "id": "fLPz8yLk5Ffn"
   },
   "outputs": [],
   "source": [
    "#import os\n",
    "#os.chdir('../open')\n",
    "\n",
    "\n"
   ]
  },
  {
   "cell_type": "code",
   "execution_count": null,
   "metadata": {
    "id": "eRBU_vSr5Ffp"
   },
   "outputs": [],
   "source": [
    "train=pd.read_csv('train.csv')\n",
    "test=pd.read_csv('test.csv')\n",
    "submission=pd.read_csv('sample_submission.csv')"
   ]
  },
  {
   "cell_type": "markdown",
   "metadata": {
    "id": "ZldCso6r5Ffr"
   },
   "source": [
    "# **[데이터 살펴보기]**"
   ]
  },
  {
   "cell_type": "code",
   "execution_count": null,
   "metadata": {
    "colab": {
     "base_uri": "https://localhost:8080/"
    },
    "id": "dd_OyHu17W9j",
    "outputId": "1b86fb67-3d48-4600-fe6e-da7cac205f40"
   },
   "outputs": [
    {
     "name": "stdout",
     "output_type": "stream",
     "text": [
      "<class 'pandas.core.frame.DataFrame'>\n",
      "RangeIndex: 26457 entries, 0 to 26456\n",
      "Data columns (total 20 columns):\n",
      " #   Column         Non-Null Count  Dtype  \n",
      "---  ------         --------------  -----  \n",
      " 0   index          26457 non-null  int64  \n",
      " 1   gender         26457 non-null  object \n",
      " 2   car            26457 non-null  object \n",
      " 3   reality        26457 non-null  object \n",
      " 4   child_num      26457 non-null  int64  \n",
      " 5   income_total   26457 non-null  float64\n",
      " 6   income_type    26457 non-null  object \n",
      " 7   edu_type       26457 non-null  object \n",
      " 8   family_type    26457 non-null  object \n",
      " 9   house_type     26457 non-null  object \n",
      " 10  DAYS_BIRTH     26457 non-null  int64  \n",
      " 11  DAYS_EMPLOYED  26457 non-null  int64  \n",
      " 12  FLAG_MOBIL     26457 non-null  int64  \n",
      " 13  work_phone     26457 non-null  int64  \n",
      " 14  phone          26457 non-null  int64  \n",
      " 15  email          26457 non-null  int64  \n",
      " 16  occyp_type     18286 non-null  object \n",
      " 17  family_size    26457 non-null  float64\n",
      " 18  begin_month    26457 non-null  float64\n",
      " 19  credit         26457 non-null  float64\n",
      "dtypes: float64(4), int64(8), object(8)\n",
      "memory usage: 4.0+ MB\n"
     ]
    }
   ],
   "source": [
    "train.info()"
   ]
  },
  {
   "cell_type": "code",
   "execution_count": null,
   "metadata": {
    "colab": {
     "base_uri": "https://localhost:8080/",
     "height": 307
    },
    "id": "Xskg9FIk7-y5",
    "outputId": "f57e3798-90cd-4f1b-a5bc-7bc98ae777a1"
   },
   "outputs": [
    {
     "data": {
      "text/html": [
       "<div>\n",
       "<style scoped>\n",
       "    .dataframe tbody tr th:only-of-type {\n",
       "        vertical-align: middle;\n",
       "    }\n",
       "\n",
       "    .dataframe tbody tr th {\n",
       "        vertical-align: top;\n",
       "    }\n",
       "\n",
       "    .dataframe thead th {\n",
       "        text-align: right;\n",
       "    }\n",
       "</style>\n",
       "<table border=\"1\" class=\"dataframe\">\n",
       "  <thead>\n",
       "    <tr style=\"text-align: right;\">\n",
       "      <th></th>\n",
       "      <th>index</th>\n",
       "      <th>child_num</th>\n",
       "      <th>income_total</th>\n",
       "      <th>DAYS_BIRTH</th>\n",
       "      <th>DAYS_EMPLOYED</th>\n",
       "      <th>FLAG_MOBIL</th>\n",
       "      <th>work_phone</th>\n",
       "      <th>phone</th>\n",
       "      <th>email</th>\n",
       "      <th>family_size</th>\n",
       "      <th>begin_month</th>\n",
       "      <th>credit</th>\n",
       "    </tr>\n",
       "  </thead>\n",
       "  <tbody>\n",
       "    <tr>\n",
       "      <th>count</th>\n",
       "      <td>26457.000000</td>\n",
       "      <td>26457.000000</td>\n",
       "      <td>2.645700e+04</td>\n",
       "      <td>26457.000000</td>\n",
       "      <td>26457.000000</td>\n",
       "      <td>26457.0</td>\n",
       "      <td>26457.000000</td>\n",
       "      <td>26457.000000</td>\n",
       "      <td>26457.000000</td>\n",
       "      <td>26457.000000</td>\n",
       "      <td>26457.000000</td>\n",
       "      <td>26457.000000</td>\n",
       "    </tr>\n",
       "    <tr>\n",
       "      <th>mean</th>\n",
       "      <td>13228.000000</td>\n",
       "      <td>0.428658</td>\n",
       "      <td>1.873065e+05</td>\n",
       "      <td>-15958.053899</td>\n",
       "      <td>59068.750728</td>\n",
       "      <td>1.0</td>\n",
       "      <td>0.224742</td>\n",
       "      <td>0.294251</td>\n",
       "      <td>0.091280</td>\n",
       "      <td>2.196848</td>\n",
       "      <td>-26.123294</td>\n",
       "      <td>1.519560</td>\n",
       "    </tr>\n",
       "    <tr>\n",
       "      <th>std</th>\n",
       "      <td>7637.622372</td>\n",
       "      <td>0.747326</td>\n",
       "      <td>1.018784e+05</td>\n",
       "      <td>4201.589022</td>\n",
       "      <td>137475.427503</td>\n",
       "      <td>0.0</td>\n",
       "      <td>0.417420</td>\n",
       "      <td>0.455714</td>\n",
       "      <td>0.288013</td>\n",
       "      <td>0.916717</td>\n",
       "      <td>16.559550</td>\n",
       "      <td>0.702283</td>\n",
       "    </tr>\n",
       "    <tr>\n",
       "      <th>min</th>\n",
       "      <td>0.000000</td>\n",
       "      <td>0.000000</td>\n",
       "      <td>2.700000e+04</td>\n",
       "      <td>-25152.000000</td>\n",
       "      <td>-15713.000000</td>\n",
       "      <td>1.0</td>\n",
       "      <td>0.000000</td>\n",
       "      <td>0.000000</td>\n",
       "      <td>0.000000</td>\n",
       "      <td>1.000000</td>\n",
       "      <td>-60.000000</td>\n",
       "      <td>0.000000</td>\n",
       "    </tr>\n",
       "    <tr>\n",
       "      <th>25%</th>\n",
       "      <td>6614.000000</td>\n",
       "      <td>0.000000</td>\n",
       "      <td>1.215000e+05</td>\n",
       "      <td>-19431.000000</td>\n",
       "      <td>-3153.000000</td>\n",
       "      <td>1.0</td>\n",
       "      <td>0.000000</td>\n",
       "      <td>0.000000</td>\n",
       "      <td>0.000000</td>\n",
       "      <td>2.000000</td>\n",
       "      <td>-39.000000</td>\n",
       "      <td>1.000000</td>\n",
       "    </tr>\n",
       "    <tr>\n",
       "      <th>50%</th>\n",
       "      <td>13228.000000</td>\n",
       "      <td>0.000000</td>\n",
       "      <td>1.575000e+05</td>\n",
       "      <td>-15547.000000</td>\n",
       "      <td>-1539.000000</td>\n",
       "      <td>1.0</td>\n",
       "      <td>0.000000</td>\n",
       "      <td>0.000000</td>\n",
       "      <td>0.000000</td>\n",
       "      <td>2.000000</td>\n",
       "      <td>-24.000000</td>\n",
       "      <td>2.000000</td>\n",
       "    </tr>\n",
       "    <tr>\n",
       "      <th>75%</th>\n",
       "      <td>19842.000000</td>\n",
       "      <td>1.000000</td>\n",
       "      <td>2.250000e+05</td>\n",
       "      <td>-12446.000000</td>\n",
       "      <td>-407.000000</td>\n",
       "      <td>1.0</td>\n",
       "      <td>0.000000</td>\n",
       "      <td>1.000000</td>\n",
       "      <td>0.000000</td>\n",
       "      <td>3.000000</td>\n",
       "      <td>-12.000000</td>\n",
       "      <td>2.000000</td>\n",
       "    </tr>\n",
       "    <tr>\n",
       "      <th>max</th>\n",
       "      <td>26456.000000</td>\n",
       "      <td>19.000000</td>\n",
       "      <td>1.575000e+06</td>\n",
       "      <td>-7705.000000</td>\n",
       "      <td>365243.000000</td>\n",
       "      <td>1.0</td>\n",
       "      <td>1.000000</td>\n",
       "      <td>1.000000</td>\n",
       "      <td>1.000000</td>\n",
       "      <td>20.000000</td>\n",
       "      <td>0.000000</td>\n",
       "      <td>2.000000</td>\n",
       "    </tr>\n",
       "  </tbody>\n",
       "</table>\n",
       "</div>"
      ],
      "text/plain": [
       "              index     child_num  ...   begin_month        credit\n",
       "count  26457.000000  26457.000000  ...  26457.000000  26457.000000\n",
       "mean   13228.000000      0.428658  ...    -26.123294      1.519560\n",
       "std     7637.622372      0.747326  ...     16.559550      0.702283\n",
       "min        0.000000      0.000000  ...    -60.000000      0.000000\n",
       "25%     6614.000000      0.000000  ...    -39.000000      1.000000\n",
       "50%    13228.000000      0.000000  ...    -24.000000      2.000000\n",
       "75%    19842.000000      1.000000  ...    -12.000000      2.000000\n",
       "max    26456.000000     19.000000  ...      0.000000      2.000000\n",
       "\n",
       "[8 rows x 12 columns]"
      ]
     },
     "execution_count": 15,
     "metadata": {
      "tags": []
     },
     "output_type": "execute_result"
    }
   ],
   "source": [
    "train.describe()"
   ]
  },
  {
   "cell_type": "code",
   "execution_count": null,
   "metadata": {
    "colab": {
     "base_uri": "https://localhost:8080/"
    },
    "id": "WT2YWvF991MV",
    "outputId": "eb848924-2799-45e7-e302-91a9153b6e14"
   },
   "outputs": [
    {
     "data": {
      "text/plain": [
       "Index(['index', 'child_num', 'income_total', 'DAYS_BIRTH', 'DAYS_EMPLOYED',\n",
       "       'FLAG_MOBIL', 'work_phone', 'phone', 'email', 'family_size',\n",
       "       'begin_month', 'credit'],\n",
       "      dtype='object')"
      ]
     },
     "execution_count": 24,
     "metadata": {
      "tags": []
     },
     "output_type": "execute_result"
    }
   ],
   "source": [
    "train.describe().columns"
   ]
  },
  {
   "cell_type": "code",
   "execution_count": null,
   "metadata": {
    "id": "J74z_o2z7gps"
   },
   "outputs": [],
   "source": [
    "temp = train['DAYS_BIRTH']//365"
   ]
  },
  {
   "cell_type": "code",
   "execution_count": null,
   "metadata": {
    "colab": {
     "base_uri": "https://localhost:8080/"
    },
    "id": "Jm7Donlg77tF",
    "outputId": "864415a2-aad0-4276-e5df-1540c9c0873a"
   },
   "outputs": [
    {
     "data": {
      "text/plain": [
       "count    26457.000000\n",
       "mean       -44.211248\n",
       "std         11.512586\n",
       "min        -69.000000\n",
       "25%        -54.000000\n",
       "50%        -43.000000\n",
       "75%        -35.000000\n",
       "max        -22.000000\n",
       "Name: DAYS_BIRTH, dtype: float64"
      ]
     },
     "execution_count": 19,
     "metadata": {
      "tags": []
     },
     "output_type": "execute_result"
    }
   ],
   "source": [
    "temp.describe()"
   ]
  },
  {
   "cell_type": "code",
   "execution_count": null,
   "metadata": {
    "colab": {
     "base_uri": "https://localhost:8080/"
    },
    "id": "vcWwd5VE77xT",
    "outputId": "3e6c3c56-099c-48cb-d69d-60662cd688f0"
   },
   "outputs": [
    {
     "data": {
      "text/plain": [
       "count    26457.000000\n",
       "mean       161.303247\n",
       "std        376.583727\n",
       "min        -44.000000\n",
       "25%         -9.000000\n",
       "50%         -5.000000\n",
       "75%         -2.000000\n",
       "max       1000.000000\n",
       "Name: DAYS_EMPLOYED, dtype: float64"
      ]
     },
     "execution_count": 20,
     "metadata": {
      "tags": []
     },
     "output_type": "execute_result"
    }
   ],
   "source": [
    "temp2 = train['DAYS_EMPLOYED'] // 365\n",
    "temp2.describe()"
   ]
  },
  {
   "cell_type": "code",
   "execution_count": null,
   "metadata": {
    "colab": {
     "base_uri": "https://localhost:8080/",
     "height": 1000
    },
    "id": "RSa7pxe_8k96",
    "outputId": "3e6566e5-e0b7-464c-bf30-d384a9991f1a"
   },
   "outputs": [
    {
     "data": {
      "image/png": "[encoded data removed]",
      "text/plain": [
       "<Figure size 432x288 with 1 Axes>"
      ]
     },
     "metadata": {
      "needs_background": "light",
      "tags": []
     },
     "output_type": "display_data"
    },
    {
     "data": {
      "image/png": "[encoded data removed]",
      "text/plain": [
       "<Figure size 432x288 with 1 Axes>"
      ]
     },
     "metadata": {
      "needs_background": "light",
      "tags": []
     },
     "output_type": "display_data"
    },
    {
     "data": {
      "image/png": "[encoded data removed]",
      "text/plain": [
       "<Figure size 432x288 with 1 Axes>"
      ]
     },
     "metadata": {
      "needs_background": "light",
      "tags": []
     },
     "output_type": "display_data"
    },
    {
     "data": {
      "image/png": "[encoded data removed]",
      "text/plain": [
       "<Figure size 432x288 with 1 Axes>"
      ]
     },
     "metadata": {
      "needs_background": "light",
      "tags": []
     },
     "output_type": "display_data"
    },
    {
     "data": {
      "image/png": "[encoded data removed]",
      "text/plain": [
       "<Figure size 432x288 with 1 Axes>"
      ]
     },
     "metadata": {
      "needs_background": "light",
      "tags": []
     },
     "output_type": "display_data"
    },
    {
     "data": {
      "image/png": "[encoded data removed]",
      "text/plain": [
       "<Figure size 432x288 with 1 Axes>"
      ]
     },
     "metadata": {
      "needs_background": "light",
      "tags": []
     },
     "output_type": "display_data"
    },
    {
     "data": {
      "image/png": "[encoded data removed]",
      "text/plain": [
       "<Figure size 432x288 with 1 Axes>"
      ]
     },
     "metadata": {
      "needs_background": "light",
      "tags": []
     },
     "output_type": "display_data"
    },
    {
     "data": {
      "image/png": "[encoded data removed]",
      "text/plain": [
       "<Figure size 432x288 with 1 Axes>"
      ]
     },
     "metadata": {
      "needs_background": "light",
      "tags": []
     },
     "output_type": "display_data"
    },
    {
     "data": {
      "image/png": "[encoded data removed]",
      "text/plain": [
       "<Figure size 432x288 with 1 Axes>"
      ]
     },
     "metadata": {
      "needs_background": "light",
      "tags": []
     },
     "output_type": "display_data"
    },
    {
     "data": {
      "image/png": "[encoded data removed]",
      "text/plain": [
       "<Figure size 432x288 with 1 Axes>"
      ]
     },
     "metadata": {
      "needs_background": "light",
      "tags": []
     },
     "output_type": "display_data"
    },
    {
     "data": {
      "image/png": "[encoded data removed]",
      "text/plain": [
       "<Figure size 432x288 with 1 Axes>"
      ]
     },
     "metadata": {
      "needs_background": "light",
      "tags": []
     },
     "output_type": "display_data"
    },
    {
     "data": {
      "image/png": "[encoded data removed]",
      "text/plain": [
       "<Figure size 432x288 with 1 Axes>"
      ]
     },
     "metadata": {
      "needs_background": "light",
      "tags": []
     },
     "output_type": "display_data"
    }
   ],
   "source": [
    "#단변수 탐색은 seaborn 패키지의 distplot 함수를 이용하면 매우 편합니다.\n",
    "\n",
    "\n",
    "\n",
    "#우선 이와 같이 전체 변수 중에서 범주형 변수와 기타 인덱스 변수, 종속변수들을 제외하고 수치형 변수만 골라냅니다.\n",
    "\n",
    "numerical_feature = ['index', 'child_num', 'income_total', 'DAYS_BIRTH', 'DAYS_EMPLOYED',\n",
    "       'FLAG_MOBIL', 'work_phone', 'phone', 'email', 'family_size',\n",
    "       'begin_month', 'credit']\n",
    "\n",
    "numerical_feature = np.sort(numerical_feature)\n",
    "#numerical_feature\n",
    "#변수별로 for문을 돌면서 distplot을 그립니다\n",
    "\n",
    "\n",
    "\n",
    "for col in numerical_feature:\n",
    "    sns.distplot(train.loc[train[col].notnull(), col])\n",
    "    plt.title(col)\n",
    "    plt.show()\n",
    "\n",
    "\n",
    "#출처: https://3months.tistory.com/325 [Deep Play]"
   ]
  },
  {
   "cell_type": "code",
   "execution_count": null,
   "metadata": {
    "colab": {
     "base_uri": "https://localhost:8080/"
    },
    "id": "cWbW9qmW_drt",
    "outputId": "3d11499e-bda1-4519-dbb9-cfaa4f6ee6ce"
   },
   "outputs": [
    {
     "data": {
      "text/plain": [
       "count     26457.000000\n",
       "mean      59068.750728\n",
       "std      137475.427503\n",
       "min      -15713.000000\n",
       "25%       -3153.000000\n",
       "50%       -1539.000000\n",
       "75%        -407.000000\n",
       "max      365243.000000\n",
       "Name: DAYS_EMPLOYED, dtype: float64"
      ]
     },
     "execution_count": 27,
     "metadata": {
      "tags": []
     },
     "output_type": "execute_result"
    }
   ],
   "source": [
    "temp = train['DAYS_EMPLOYED']\n",
    "temp.describe()"
   ]
  },
  {
   "cell_type": "code",
   "execution_count": null,
   "metadata": {
    "colab": {
     "base_uri": "https://localhost:8080/"
    },
    "id": "JyWsH2Au_lqH",
    "outputId": "0a5f55eb-401a-4422-b92b-2f20f4020469"
   },
   "outputs": [
    {
     "data": {
      "text/plain": [
       "0"
      ]
     },
     "execution_count": 29,
     "metadata": {
      "tags": []
     },
     "output_type": "execute_result"
    }
   ],
   "source": [
    "temp.isnull().sum()"
   ]
  },
  {
   "cell_type": "code",
   "execution_count": null,
   "metadata": {
    "colab": {
     "base_uri": "https://localhost:8080/"
    },
    "id": "J60J9h35_yg-",
    "outputId": "63d6114d-8626-46d8-863a-0945773fa6ad"
   },
   "outputs": [
    {
     "data": {
      "text/plain": [
       "count    26457.000000\n",
       "mean         0.091280\n",
       "std          0.288013\n",
       "min          0.000000\n",
       "25%          0.000000\n",
       "50%          0.000000\n",
       "75%          0.000000\n",
       "max          1.000000\n",
       "Name: email, dtype: float64"
      ]
     },
     "execution_count": 30,
     "metadata": {
      "tags": []
     },
     "output_type": "execute_result"
    }
   ],
   "source": [
    "temp2 = train['email']\n",
    "temp2.describe()"
   ]
  },
  {
   "cell_type": "code",
   "execution_count": null,
   "metadata": {
    "colab": {
     "base_uri": "https://localhost:8080/"
    },
    "id": "-aqCmkq7_7wL",
    "outputId": "1bcf25b2-e8da-4b16-9cad-1b7f2eb7a118"
   },
   "outputs": [
    {
     "data": {
      "text/plain": [
       "0"
      ]
     },
     "execution_count": 31,
     "metadata": {
      "tags": []
     },
     "output_type": "execute_result"
    }
   ],
   "source": [
    "temp2.isnull().sum()"
   ]
  },
  {
   "cell_type": "code",
   "execution_count": null,
   "metadata": {
    "colab": {
     "base_uri": "https://localhost:8080/"
    },
    "id": "QeZYz9gvA5IH",
    "outputId": "1cadf975-3fb0-4f54-cfb5-0b2ccb96fb3c"
   },
   "outputs": [
    {
     "data": {
      "text/plain": [
       "0"
      ]
     },
     "execution_count": 33,
     "metadata": {
      "tags": []
     },
     "output_type": "execute_result"
    }
   ],
   "source": [
    "train['phone'].isnull().sum()\n"
   ]
  },
  {
   "cell_type": "code",
   "execution_count": null,
   "metadata": {
    "colab": {
     "base_uri": "https://localhost:8080/"
    },
    "id": "Nk-CBjCXBImo",
    "outputId": "1c36c9bc-7d1d-495b-da8d-c3d70b598d6b"
   },
   "outputs": [
    {
     "data": {
      "text/plain": [
       "0"
      ]
     },
     "execution_count": 34,
     "metadata": {
      "tags": []
     },
     "output_type": "execute_result"
    }
   ],
   "source": [
    "train['work_phone'].isnull().sum()"
   ]
  },
  {
   "cell_type": "markdown",
   "metadata": {
    "id": "DdhU-abV-lne"
   },
   "source": [
    "## 느낀점\n",
    "- 1번. 'DAYS_EMPLOYED'\n",
    "- 음수에서 한 봉오리, 양수에서 한 봉오리 해서 2개가 보임 ? -> 고용중/백수로 1/0으로 구분해보기\n",
    "\n",
    "--\n",
    "- 2번. FLAG_MOBIL & email & phone & work_phone\n",
    "- 핸드폰 소유 여부를 나타내는 categorical 변수이고, 결측치도 없는데 int형 변수로 취급되어 있음 -> categorical 범주형으로 변경해주기\n"
   ]
  },
  {
   "cell_type": "code",
   "execution_count": null,
   "metadata": {
    "colab": {
     "base_uri": "https://localhost:8080/",
     "height": 367
    },
    "id": "HT8Sw5AG5Ffs",
    "outputId": "1cc5172e-eec7-4ab8-f06f-03a7e814c3e0"
   },
   "outputs": [
    {
     "data": {
      "text/html": [
       "<div>\n",
       "<style scoped>\n",
       "    .dataframe tbody tr th:only-of-type {\n",
       "        vertical-align: middle;\n",
       "    }\n",
       "\n",
       "    .dataframe tbody tr th {\n",
       "        vertical-align: top;\n",
       "    }\n",
       "\n",
       "    .dataframe thead th {\n",
       "        text-align: right;\n",
       "    }\n",
       "</style>\n",
       "<table border=\"1\" class=\"dataframe\">\n",
       "  <thead>\n",
       "    <tr style=\"text-align: right;\">\n",
       "      <th></th>\n",
       "      <th>index</th>\n",
       "      <th>gender</th>\n",
       "      <th>car</th>\n",
       "      <th>reality</th>\n",
       "      <th>child_num</th>\n",
       "      <th>income_total</th>\n",
       "      <th>income_type</th>\n",
       "      <th>edu_type</th>\n",
       "      <th>family_type</th>\n",
       "      <th>house_type</th>\n",
       "      <th>DAYS_BIRTH</th>\n",
       "      <th>DAYS_EMPLOYED</th>\n",
       "      <th>FLAG_MOBIL</th>\n",
       "      <th>work_phone</th>\n",
       "      <th>phone</th>\n",
       "      <th>email</th>\n",
       "      <th>occyp_type</th>\n",
       "      <th>family_size</th>\n",
       "      <th>begin_month</th>\n",
       "      <th>credit</th>\n",
       "    </tr>\n",
       "  </thead>\n",
       "  <tbody>\n",
       "    <tr>\n",
       "      <th>0</th>\n",
       "      <td>0</td>\n",
       "      <td>F</td>\n",
       "      <td>N</td>\n",
       "      <td>N</td>\n",
       "      <td>0</td>\n",
       "      <td>202500.0</td>\n",
       "      <td>Commercial associate</td>\n",
       "      <td>Higher education</td>\n",
       "      <td>Married</td>\n",
       "      <td>Municipal apartment</td>\n",
       "      <td>-13899</td>\n",
       "      <td>-4709</td>\n",
       "      <td>1</td>\n",
       "      <td>0</td>\n",
       "      <td>0</td>\n",
       "      <td>0</td>\n",
       "      <td>NaN</td>\n",
       "      <td>2.0</td>\n",
       "      <td>-6.0</td>\n",
       "      <td>1.0</td>\n",
       "    </tr>\n",
       "    <tr>\n",
       "      <th>1</th>\n",
       "      <td>1</td>\n",
       "      <td>F</td>\n",
       "      <td>N</td>\n",
       "      <td>Y</td>\n",
       "      <td>1</td>\n",
       "      <td>247500.0</td>\n",
       "      <td>Commercial associate</td>\n",
       "      <td>Secondary / secondary special</td>\n",
       "      <td>Civil marriage</td>\n",
       "      <td>House / apartment</td>\n",
       "      <td>-11380</td>\n",
       "      <td>-1540</td>\n",
       "      <td>1</td>\n",
       "      <td>0</td>\n",
       "      <td>0</td>\n",
       "      <td>1</td>\n",
       "      <td>Laborers</td>\n",
       "      <td>3.0</td>\n",
       "      <td>-5.0</td>\n",
       "      <td>1.0</td>\n",
       "    </tr>\n",
       "    <tr>\n",
       "      <th>2</th>\n",
       "      <td>2</td>\n",
       "      <td>M</td>\n",
       "      <td>Y</td>\n",
       "      <td>Y</td>\n",
       "      <td>0</td>\n",
       "      <td>450000.0</td>\n",
       "      <td>Working</td>\n",
       "      <td>Higher education</td>\n",
       "      <td>Married</td>\n",
       "      <td>House / apartment</td>\n",
       "      <td>-19087</td>\n",
       "      <td>-4434</td>\n",
       "      <td>1</td>\n",
       "      <td>0</td>\n",
       "      <td>1</td>\n",
       "      <td>0</td>\n",
       "      <td>Managers</td>\n",
       "      <td>2.0</td>\n",
       "      <td>-22.0</td>\n",
       "      <td>2.0</td>\n",
       "    </tr>\n",
       "    <tr>\n",
       "      <th>3</th>\n",
       "      <td>3</td>\n",
       "      <td>F</td>\n",
       "      <td>N</td>\n",
       "      <td>Y</td>\n",
       "      <td>0</td>\n",
       "      <td>202500.0</td>\n",
       "      <td>Commercial associate</td>\n",
       "      <td>Secondary / secondary special</td>\n",
       "      <td>Married</td>\n",
       "      <td>House / apartment</td>\n",
       "      <td>-15088</td>\n",
       "      <td>-2092</td>\n",
       "      <td>1</td>\n",
       "      <td>0</td>\n",
       "      <td>1</td>\n",
       "      <td>0</td>\n",
       "      <td>Sales staff</td>\n",
       "      <td>2.0</td>\n",
       "      <td>-37.0</td>\n",
       "      <td>0.0</td>\n",
       "    </tr>\n",
       "    <tr>\n",
       "      <th>4</th>\n",
       "      <td>4</td>\n",
       "      <td>F</td>\n",
       "      <td>Y</td>\n",
       "      <td>Y</td>\n",
       "      <td>0</td>\n",
       "      <td>157500.0</td>\n",
       "      <td>State servant</td>\n",
       "      <td>Higher education</td>\n",
       "      <td>Married</td>\n",
       "      <td>House / apartment</td>\n",
       "      <td>-15037</td>\n",
       "      <td>-2105</td>\n",
       "      <td>1</td>\n",
       "      <td>0</td>\n",
       "      <td>0</td>\n",
       "      <td>0</td>\n",
       "      <td>Managers</td>\n",
       "      <td>2.0</td>\n",
       "      <td>-26.0</td>\n",
       "      <td>2.0</td>\n",
       "    </tr>\n",
       "  </tbody>\n",
       "</table>\n",
       "</div>"
      ],
      "text/plain": [
       "   index gender car reality  ...   occyp_type  family_size begin_month credit\n",
       "0      0      F   N       N  ...          NaN          2.0        -6.0    1.0\n",
       "1      1      F   N       Y  ...     Laborers          3.0        -5.0    1.0\n",
       "2      2      M   Y       Y  ...     Managers          2.0       -22.0    2.0\n",
       "3      3      F   N       Y  ...  Sales staff          2.0       -37.0    0.0\n",
       "4      4      F   Y       Y  ...     Managers          2.0       -26.0    2.0\n",
       "\n",
       "[5 rows x 20 columns]"
      ]
     },
     "execution_count": 13,
     "metadata": {
      "tags": []
     },
     "output_type": "execute_result"
    }
   ],
   "source": [
    "train.head()"
   ]
  },
  {
   "cell_type": "code",
   "execution_count": null,
   "metadata": {
    "id": "KN2RTaIW5Ffu",
    "outputId": "9b72cb9e-ae51-49c6-96f3-ae06abf2f783"
   },
   "outputs": [
    {
     "data": {
      "text/html": [
       "<div>\n",
       "<style scoped>\n",
       "    .dataframe tbody tr th:only-of-type {\n",
       "        vertical-align: middle;\n",
       "    }\n",
       "\n",
       "    .dataframe tbody tr th {\n",
       "        vertical-align: top;\n",
       "    }\n",
       "\n",
       "    .dataframe thead th {\n",
       "        text-align: right;\n",
       "    }\n",
       "</style>\n",
       "<table border=\"1\" class=\"dataframe\">\n",
       "  <thead>\n",
       "    <tr style=\"text-align: right;\">\n",
       "      <th></th>\n",
       "      <th>index</th>\n",
       "      <th>gender</th>\n",
       "      <th>car</th>\n",
       "      <th>reality</th>\n",
       "      <th>child_num</th>\n",
       "      <th>income_total</th>\n",
       "      <th>income_type</th>\n",
       "      <th>edu_type</th>\n",
       "      <th>family_type</th>\n",
       "      <th>house_type</th>\n",
       "      <th>DAYS_BIRTH</th>\n",
       "      <th>DAYS_EMPLOYED</th>\n",
       "      <th>FLAG_MOBIL</th>\n",
       "      <th>work_phone</th>\n",
       "      <th>phone</th>\n",
       "      <th>email</th>\n",
       "      <th>occyp_type</th>\n",
       "      <th>family_size</th>\n",
       "      <th>begin_month</th>\n",
       "    </tr>\n",
       "  </thead>\n",
       "  <tbody>\n",
       "    <tr>\n",
       "      <th>0</th>\n",
       "      <td>26457</td>\n",
       "      <td>M</td>\n",
       "      <td>Y</td>\n",
       "      <td>N</td>\n",
       "      <td>0</td>\n",
       "      <td>112500.0</td>\n",
       "      <td>Pensioner</td>\n",
       "      <td>Secondary / secondary special</td>\n",
       "      <td>Civil marriage</td>\n",
       "      <td>House / apartment</td>\n",
       "      <td>-21990</td>\n",
       "      <td>365243</td>\n",
       "      <td>1</td>\n",
       "      <td>0</td>\n",
       "      <td>1</td>\n",
       "      <td>0</td>\n",
       "      <td>NaN</td>\n",
       "      <td>2.0</td>\n",
       "      <td>-60.0</td>\n",
       "    </tr>\n",
       "    <tr>\n",
       "      <th>1</th>\n",
       "      <td>26458</td>\n",
       "      <td>F</td>\n",
       "      <td>N</td>\n",
       "      <td>Y</td>\n",
       "      <td>0</td>\n",
       "      <td>135000.0</td>\n",
       "      <td>State servant</td>\n",
       "      <td>Higher education</td>\n",
       "      <td>Married</td>\n",
       "      <td>House / apartment</td>\n",
       "      <td>-18964</td>\n",
       "      <td>-8671</td>\n",
       "      <td>1</td>\n",
       "      <td>0</td>\n",
       "      <td>1</td>\n",
       "      <td>0</td>\n",
       "      <td>Core staff</td>\n",
       "      <td>2.0</td>\n",
       "      <td>-36.0</td>\n",
       "    </tr>\n",
       "    <tr>\n",
       "      <th>2</th>\n",
       "      <td>26459</td>\n",
       "      <td>F</td>\n",
       "      <td>N</td>\n",
       "      <td>Y</td>\n",
       "      <td>0</td>\n",
       "      <td>69372.0</td>\n",
       "      <td>Working</td>\n",
       "      <td>Secondary / secondary special</td>\n",
       "      <td>Married</td>\n",
       "      <td>House / apartment</td>\n",
       "      <td>-15887</td>\n",
       "      <td>-217</td>\n",
       "      <td>1</td>\n",
       "      <td>1</td>\n",
       "      <td>1</td>\n",
       "      <td>0</td>\n",
       "      <td>Laborers</td>\n",
       "      <td>2.0</td>\n",
       "      <td>-40.0</td>\n",
       "    </tr>\n",
       "    <tr>\n",
       "      <th>3</th>\n",
       "      <td>26460</td>\n",
       "      <td>M</td>\n",
       "      <td>Y</td>\n",
       "      <td>N</td>\n",
       "      <td>0</td>\n",
       "      <td>112500.0</td>\n",
       "      <td>Commercial associate</td>\n",
       "      <td>Secondary / secondary special</td>\n",
       "      <td>Married</td>\n",
       "      <td>House / apartment</td>\n",
       "      <td>-19270</td>\n",
       "      <td>-2531</td>\n",
       "      <td>1</td>\n",
       "      <td>1</td>\n",
       "      <td>0</td>\n",
       "      <td>0</td>\n",
       "      <td>Drivers</td>\n",
       "      <td>2.0</td>\n",
       "      <td>-41.0</td>\n",
       "    </tr>\n",
       "    <tr>\n",
       "      <th>4</th>\n",
       "      <td>26461</td>\n",
       "      <td>F</td>\n",
       "      <td>Y</td>\n",
       "      <td>Y</td>\n",
       "      <td>0</td>\n",
       "      <td>225000.0</td>\n",
       "      <td>State servant</td>\n",
       "      <td>Higher education</td>\n",
       "      <td>Married</td>\n",
       "      <td>House / apartment</td>\n",
       "      <td>-17822</td>\n",
       "      <td>-9385</td>\n",
       "      <td>1</td>\n",
       "      <td>1</td>\n",
       "      <td>0</td>\n",
       "      <td>0</td>\n",
       "      <td>Managers</td>\n",
       "      <td>2.0</td>\n",
       "      <td>-8.0</td>\n",
       "    </tr>\n",
       "  </tbody>\n",
       "</table>\n",
       "</div>"
      ],
      "text/plain": [
       "   index gender car reality  child_num  income_total           income_type  \\\n",
       "0  26457      M   Y       N          0      112500.0             Pensioner   \n",
       "1  26458      F   N       Y          0      135000.0         State servant   \n",
       "2  26459      F   N       Y          0       69372.0               Working   \n",
       "3  26460      M   Y       N          0      112500.0  Commercial associate   \n",
       "4  26461      F   Y       Y          0      225000.0         State servant   \n",
       "\n",
       "                        edu_type     family_type         house_type  \\\n",
       "0  Secondary / secondary special  Civil marriage  House / apartment   \n",
       "1               Higher education         Married  House / apartment   \n",
       "2  Secondary / secondary special         Married  House / apartment   \n",
       "3  Secondary / secondary special         Married  House / apartment   \n",
       "4               Higher education         Married  House / apartment   \n",
       "\n",
       "   DAYS_BIRTH  DAYS_EMPLOYED  FLAG_MOBIL  work_phone  phone  email  \\\n",
       "0      -21990         365243           1           0      1      0   \n",
       "1      -18964          -8671           1           0      1      0   \n",
       "2      -15887           -217           1           1      1      0   \n",
       "3      -19270          -2531           1           1      0      0   \n",
       "4      -17822          -9385           1           1      0      0   \n",
       "\n",
       "   occyp_type  family_size  begin_month  \n",
       "0         NaN          2.0        -60.0  \n",
       "1  Core staff          2.0        -36.0  \n",
       "2    Laborers          2.0        -40.0  \n",
       "3     Drivers          2.0        -41.0  \n",
       "4    Managers          2.0         -8.0  "
      ]
     },
     "execution_count": 5,
     "metadata": {
      "tags": []
     },
     "output_type": "execute_result"
    }
   ],
   "source": [
    "test.head()"
   ]
  },
  {
   "cell_type": "code",
   "execution_count": null,
   "metadata": {
    "id": "2aMtmjiD5Ffv",
    "outputId": "4536df07-0bcd-4020-8755-364c94b21c14"
   },
   "outputs": [
    {
     "data": {
      "text/plain": [
       "(26457, 20)"
      ]
     },
     "execution_count": 6,
     "metadata": {
      "tags": []
     },
     "output_type": "execute_result"
    }
   ],
   "source": [
    "train.shape"
   ]
  },
  {
   "cell_type": "code",
   "execution_count": null,
   "metadata": {
    "id": "c5TF59S05Ffv",
    "outputId": "e02b77a4-092a-4321-f655-0e3ac3944988"
   },
   "outputs": [
    {
     "data": {
      "text/plain": [
       "(10000, 19)"
      ]
     },
     "execution_count": 7,
     "metadata": {
      "tags": []
     },
     "output_type": "execute_result"
    }
   ],
   "source": [
    "test.shape"
   ]
  },
  {
   "cell_type": "code",
   "execution_count": null,
   "metadata": {
    "id": "dwPGmCri5Ffw",
    "outputId": "58534fcb-4931-4c9a-f4b0-8a1bfc11a7fb"
   },
   "outputs": [
    {
     "name": "stdout",
     "output_type": "stream",
     "text": [
      "<class 'pandas.core.frame.DataFrame'>\n",
      "RangeIndex: 26457 entries, 0 to 26456\n",
      "Data columns (total 20 columns):\n",
      " #   Column         Non-Null Count  Dtype  \n",
      "---  ------         --------------  -----  \n",
      " 0   index          26457 non-null  int64  \n",
      " 1   gender         26457 non-null  object \n",
      " 2   car            26457 non-null  object \n",
      " 3   reality        26457 non-null  object \n",
      " 4   child_num      26457 non-null  int64  \n",
      " 5   income_total   26457 non-null  float64\n",
      " 6   income_type    26457 non-null  object \n",
      " 7   edu_type       26457 non-null  object \n",
      " 8   family_type    26457 non-null  object \n",
      " 9   house_type     26457 non-null  object \n",
      " 10  DAYS_BIRTH     26457 non-null  int64  \n",
      " 11  DAYS_EMPLOYED  26457 non-null  int64  \n",
      " 12  FLAG_MOBIL     26457 non-null  int64  \n",
      " 13  work_phone     26457 non-null  int64  \n",
      " 14  phone          26457 non-null  int64  \n",
      " 15  email          26457 non-null  int64  \n",
      " 16  occyp_type     18286 non-null  object \n",
      " 17  family_size    26457 non-null  float64\n",
      " 18  begin_month    26457 non-null  float64\n",
      " 19  credit         26457 non-null  float64\n",
      "dtypes: float64(4), int64(8), object(8)\n",
      "memory usage: 4.0+ MB\n"
     ]
    }
   ],
   "source": [
    "train.info()"
   ]
  },
  {
   "cell_type": "markdown",
   "metadata": {
    "id": "AF6A_hAAAj0b"
   },
   "source": [
    "## 처리"
   ]
  },
  {
   "cell_type": "code",
   "execution_count": null,
   "metadata": {
    "id": "_o98y9X_AmEC"
   },
   "outputs": [],
   "source": [
    "train['FLAG_MOBIL'] = train['FLAG_MOBIL'].astype(object)\n",
    "train['email'] = train['email'].astype(object)\n",
    "train['phone'] = train['phone'].astype(object)\n",
    "train['work_phone'] = train['work_phone'].astype(object)"
   ]
  },
  {
   "cell_type": "code",
   "execution_count": null,
   "metadata": {
    "id": "9_cmkYRUCu3w"
   },
   "outputs": [],
   "source": [
    "DAYS_EMPLOYED_copy = list(train['DAYS_EMPLOYED'])\n",
    "\n",
    "train['DAYS_EMPLOYED'] = [1 if values < 0 else 0 for values in DAYS_EMPLOYED_copy]"
   ]
  },
  {
   "cell_type": "code",
   "execution_count": null,
   "metadata": {
    "colab": {
     "base_uri": "https://localhost:8080/"
    },
    "id": "syo5NFeBDTMu",
    "outputId": "1125e8c8-ee61-4eff-a2e6-c71c50476935"
   },
   "outputs": [
    {
     "data": {
      "text/plain": [
       "[-4709,\n",
       " -1540,\n",
       " -4434,\n",
       " -2092,\n",
       " -2105,\n",
       " -4996,\n",
       " -1978,\n",
       " -5420,\n",
       " -1466,\n",
       " -1308,\n",
       " -2213,\n",
       " -91,\n",
       " -2162,\n",
       " -2474,\n",
       " 365243,\n",
       " -4056,\n",
       " -4553,\n",
       " -984,\n",
       " 365243,\n",
       " -6031,\n",
       " -1753,\n",
       " 365243,\n",
       " -1357,\n",
       " -444,\n",
       " 365243,\n",
       " -3694,\n",
       " -3353,\n",
       " -3500,\n",
       " -2325,\n",
       " -1711,\n",
       " -227,\n",
       " -3452,\n",
       " -1628,\n",
       " -346,\n",
       " -1630,\n",
       " -2433,\n",
       " -1022,\n",
       " -1646,\n",
       " -3472,\n",
       " -1600,\n",
       " -2426,\n",
       " -433,\n",
       " -554,\n",
       " -1876,\n",
       " -199,\n",
       " -3200,\n",
       " 365243,\n",
       " -3482,\n",
       " 365243,\n",
       " -2010,\n",
       " -1101,\n",
       " -1101,\n",
       " 365243,\n",
       " -3965,\n",
       " -422,\n",
       " -3010,\n",
       " -9391,\n",
       " -642,\n",
       " 365243,\n",
       " 365243,\n",
       " 365243,\n",
       " -1371,\n",
       " -3153,\n",
       " -3337,\n",
       " -716,\n",
       " -4936,\n",
       " -2783,\n",
       " -1216,\n",
       " -1610,\n",
       " -2969,\n",
       " -1928,\n",
       " -3787,\n",
       " -1081,\n",
       " 365243,\n",
       " -219,\n",
       " -5500,\n",
       " -586,\n",
       " -520,\n",
       " -231,\n",
       " -1672,\n",
       " -212,\n",
       " -962,\n",
       " -1423,\n",
       " -1700,\n",
       " 365243,\n",
       " -1215,\n",
       " -451,\n",
       " -235,\n",
       " -5427,\n",
       " -4145,\n",
       " -9404,\n",
       " -2988,\n",
       " -691,\n",
       " -3629,\n",
       " 365243,\n",
       " 365243,\n",
       " -2087,\n",
       " -1212,\n",
       " -588,\n",
       " -12332,\n",
       " -8491,\n",
       " -3046,\n",
       " -604,\n",
       " -3720,\n",
       " -2537,\n",
       " -2606,\n",
       " -1959,\n",
       " -1678,\n",
       " -683,\n",
       " -2234,\n",
       " -164,\n",
       " -2371,\n",
       " -201,\n",
       " -1138,\n",
       " -2944,\n",
       " 365243,\n",
       " -2751,\n",
       " -674,\n",
       " -5756,\n",
       " -1854,\n",
       " 365243,\n",
       " -9988,\n",
       " -4120,\n",
       " -6226,\n",
       " -3357,\n",
       " -4039,\n",
       " -4983,\n",
       " -410,\n",
       " -5221,\n",
       " -1749,\n",
       " -3234,\n",
       " -5330,\n",
       " -429,\n",
       " -2574,\n",
       " 365243,\n",
       " -196,\n",
       " -399,\n",
       " -3246,\n",
       " 365243,\n",
       " -982,\n",
       " -1680,\n",
       " -3000,\n",
       " -1934,\n",
       " -1071,\n",
       " -1322,\n",
       " -11940,\n",
       " -7400,\n",
       " -709,\n",
       " -808,\n",
       " -2379,\n",
       " -2828,\n",
       " -314,\n",
       " -574,\n",
       " -3476,\n",
       " -10993,\n",
       " 365243,\n",
       " -880,\n",
       " -1447,\n",
       " -2355,\n",
       " 365243,\n",
       " -1266,\n",
       " -839,\n",
       " -2045,\n",
       " 365243,\n",
       " -829,\n",
       " -895,\n",
       " 365243,\n",
       " -119,\n",
       " -9870,\n",
       " -3792,\n",
       " -678,\n",
       " -869,\n",
       " -8091,\n",
       " 365243,\n",
       " -1040,\n",
       " -1376,\n",
       " -9957,\n",
       " -1415,\n",
       " 365243,\n",
       " -2026,\n",
       " -4814,\n",
       " 365243,\n",
       " -961,\n",
       " 365243,\n",
       " -995,\n",
       " -2227,\n",
       " -1809,\n",
       " -4239,\n",
       " 365243,\n",
       " -4574,\n",
       " 365243,\n",
       " 365243,\n",
       " -1628,\n",
       " -2574,\n",
       " -1650,\n",
       " -552,\n",
       " -2289,\n",
       " -2554,\n",
       " -5394,\n",
       " -658,\n",
       " -1953,\n",
       " -3717,\n",
       " -4447,\n",
       " -4031,\n",
       " -1207,\n",
       " -673,\n",
       " -2745,\n",
       " -1345,\n",
       " -2721,\n",
       " 365243,\n",
       " -1672,\n",
       " -2380,\n",
       " -354,\n",
       " -2045,\n",
       " 365243,\n",
       " -2011,\n",
       " -7310,\n",
       " 365243,\n",
       " 365243,\n",
       " -2836,\n",
       " 365243,\n",
       " -1925,\n",
       " -1830,\n",
       " -1128,\n",
       " -5792,\n",
       " -4491,\n",
       " -1327,\n",
       " -3246,\n",
       " -1221,\n",
       " 365243,\n",
       " -11062,\n",
       " 365243,\n",
       " -492,\n",
       " -7679,\n",
       " -923,\n",
       " -401,\n",
       " -1321,\n",
       " -6649,\n",
       " -158,\n",
       " -140,\n",
       " -4174,\n",
       " -3141,\n",
       " -1353,\n",
       " -762,\n",
       " -5239,\n",
       " -3380,\n",
       " -7514,\n",
       " -3021,\n",
       " -626,\n",
       " -1063,\n",
       " -2267,\n",
       " 365243,\n",
       " -3480,\n",
       " -6835,\n",
       " -734,\n",
       " -3485,\n",
       " -3560,\n",
       " 365243,\n",
       " -3291,\n",
       " -4596,\n",
       " -1882,\n",
       " -6586,\n",
       " -2326,\n",
       " -2665,\n",
       " 365243,\n",
       " -1346,\n",
       " -2971,\n",
       " 365243,\n",
       " -1539,\n",
       " -1963,\n",
       " -1631,\n",
       " -1792,\n",
       " 365243,\n",
       " -561,\n",
       " -169,\n",
       " -3574,\n",
       " 365243,\n",
       " -149,\n",
       " -7049,\n",
       " 365243,\n",
       " -2685,\n",
       " 365243,\n",
       " 365243,\n",
       " -2682,\n",
       " 365243,\n",
       " -4081,\n",
       " -5639,\n",
       " -869,\n",
       " -923,\n",
       " -727,\n",
       " -4549,\n",
       " -801,\n",
       " -2139,\n",
       " 365243,\n",
       " -1156,\n",
       " -1991,\n",
       " -1550,\n",
       " -840,\n",
       " -1206,\n",
       " -2086,\n",
       " -2879,\n",
       " -1565,\n",
       " -703,\n",
       " -1009,\n",
       " 365243,\n",
       " -4827,\n",
       " -3680,\n",
       " -4305,\n",
       " -2990,\n",
       " -4904,\n",
       " -3627,\n",
       " -1292,\n",
       " -889,\n",
       " -8671,\n",
       " -5507,\n",
       " -3992,\n",
       " -4090,\n",
       " 365243,\n",
       " -2052,\n",
       " -399,\n",
       " -1285,\n",
       " -2578,\n",
       " -1003,\n",
       " -731,\n",
       " -3185,\n",
       " -663,\n",
       " -401,\n",
       " -6383,\n",
       " -1630,\n",
       " -302,\n",
       " -12332,\n",
       " -611,\n",
       " -10773,\n",
       " -169,\n",
       " -991,\n",
       " -8284,\n",
       " -1218,\n",
       " -3347,\n",
       " 365243,\n",
       " -157,\n",
       " -1986,\n",
       " -101,\n",
       " -1974,\n",
       " 365243,\n",
       " -2299,\n",
       " 365243,\n",
       " -1774,\n",
       " -1589,\n",
       " -1509,\n",
       " -765,\n",
       " -1431,\n",
       " -10121,\n",
       " -399,\n",
       " -1953,\n",
       " -3577,\n",
       " -1193,\n",
       " -1387,\n",
       " 365243,\n",
       " 365243,\n",
       " -3170,\n",
       " -3000,\n",
       " -5469,\n",
       " 365243,\n",
       " -2866,\n",
       " 365243,\n",
       " 365243,\n",
       " -4493,\n",
       " -7369,\n",
       " -1782,\n",
       " -3840,\n",
       " -3731,\n",
       " -796,\n",
       " -1100,\n",
       " -521,\n",
       " -2537,\n",
       " 365243,\n",
       " -5176,\n",
       " -597,\n",
       " -2349,\n",
       " -1661,\n",
       " -12278,\n",
       " -7415,\n",
       " -1245,\n",
       " 365243,\n",
       " -1905,\n",
       " -1192,\n",
       " -3076,\n",
       " -4631,\n",
       " -979,\n",
       " -1308,\n",
       " 365243,\n",
       " -3088,\n",
       " -217,\n",
       " -1100,\n",
       " -521,\n",
       " -2324,\n",
       " 365243,\n",
       " 365243,\n",
       " -2686,\n",
       " 365243,\n",
       " -672,\n",
       " -2864,\n",
       " 365243,\n",
       " 365243,\n",
       " -200,\n",
       " -3785,\n",
       " 365243,\n",
       " 365243,\n",
       " -991,\n",
       " -2877,\n",
       " -7401,\n",
       " 365243,\n",
       " -1816,\n",
       " 365243,\n",
       " -285,\n",
       " -4369,\n",
       " -1912,\n",
       " -196,\n",
       " -295,\n",
       " -3185,\n",
       " -1467,\n",
       " -1322,\n",
       " -430,\n",
       " -4423,\n",
       " -1958,\n",
       " 365243,\n",
       " -3804,\n",
       " -3153,\n",
       " -10050,\n",
       " 365243,\n",
       " -2165,\n",
       " -1172,\n",
       " -2871,\n",
       " -211,\n",
       " -3273,\n",
       " 365243,\n",
       " -1556,\n",
       " -1078,\n",
       " -3092,\n",
       " 365243,\n",
       " 365243,\n",
       " -2495,\n",
       " -5269,\n",
       " -2044,\n",
       " -703,\n",
       " -5370,\n",
       " 365243,\n",
       " 365243,\n",
       " -1539,\n",
       " 365243,\n",
       " -3242,\n",
       " -8553,\n",
       " -3059,\n",
       " 365243,\n",
       " -198,\n",
       " -339,\n",
       " -7593,\n",
       " -3000,\n",
       " -1610,\n",
       " -157,\n",
       " -2355,\n",
       " -1101,\n",
       " -1323,\n",
       " -1632,\n",
       " -1233,\n",
       " -1730,\n",
       " -2250,\n",
       " -1315,\n",
       " -4630,\n",
       " -1131,\n",
       " -11494,\n",
       " -1858,\n",
       " 365243,\n",
       " -431,\n",
       " -6712,\n",
       " -803,\n",
       " -3535,\n",
       " 365243,\n",
       " -3273,\n",
       " -1160,\n",
       " -731,\n",
       " -4663,\n",
       " -4357,\n",
       " -165,\n",
       " 365243,\n",
       " -3437,\n",
       " -1448,\n",
       " -1557,\n",
       " -2174,\n",
       " -98,\n",
       " -1565,\n",
       " -4614,\n",
       " -2758,\n",
       " 365243,\n",
       " -4887,\n",
       " -1962,\n",
       " -1138,\n",
       " -1235,\n",
       " -315,\n",
       " 365243,\n",
       " 365243,\n",
       " 365243,\n",
       " 365243,\n",
       " -230,\n",
       " -837,\n",
       " -1235,\n",
       " -7401,\n",
       " 365243,\n",
       " 365243,\n",
       " 365243,\n",
       " -888,\n",
       " -3335,\n",
       " -1478,\n",
       " -908,\n",
       " -622,\n",
       " 365243,\n",
       " -919,\n",
       " 365243,\n",
       " -9052,\n",
       " -801,\n",
       " 365243,\n",
       " -309,\n",
       " -1812,\n",
       " -4219,\n",
       " 365243,\n",
       " -858,\n",
       " -1842,\n",
       " -1649,\n",
       " -1282,\n",
       " 365243,\n",
       " -1203,\n",
       " -6400,\n",
       " -622,\n",
       " -5726,\n",
       " -9269,\n",
       " -2628,\n",
       " -1628,\n",
       " -2197,\n",
       " -1904,\n",
       " -1923,\n",
       " -1353,\n",
       " -1493,\n",
       " -515,\n",
       " -3595,\n",
       " 365243,\n",
       " -1649,\n",
       " 365243,\n",
       " -1912,\n",
       " -1842,\n",
       " -561,\n",
       " -6904,\n",
       " -560,\n",
       " -1022,\n",
       " -2654,\n",
       " -1204,\n",
       " -1518,\n",
       " -2316,\n",
       " 365243,\n",
       " -553,\n",
       " -2384,\n",
       " -1305,\n",
       " -3195,\n",
       " -5190,\n",
       " -3484,\n",
       " -2361,\n",
       " -1710,\n",
       " -1022,\n",
       " -5500,\n",
       " 365243,\n",
       " -2842,\n",
       " 365243,\n",
       " -671,\n",
       " 365243,\n",
       " -3243,\n",
       " -5788,\n",
       " 365243,\n",
       " -4117,\n",
       " -882,\n",
       " 365243,\n",
       " -2969,\n",
       " -4239,\n",
       " -2324,\n",
       " -962,\n",
       " -5155,\n",
       " -1923,\n",
       " -992,\n",
       " -614,\n",
       " -1670,\n",
       " 365243,\n",
       " -1184,\n",
       " -1904,\n",
       " -1520,\n",
       " 365243,\n",
       " 365243,\n",
       " -3010,\n",
       " -978,\n",
       " -5587,\n",
       " 365243,\n",
       " -1287,\n",
       " 365243,\n",
       " -3034,\n",
       " -2043,\n",
       " 365243,\n",
       " -2665,\n",
       " 365243,\n",
       " -2452,\n",
       " -7835,\n",
       " -127,\n",
       " 365243,\n",
       " -2175,\n",
       " -1359,\n",
       " -2470,\n",
       " -1107,\n",
       " -5014,\n",
       " -2545,\n",
       " -407,\n",
       " -622,\n",
       " -563,\n",
       " 365243,\n",
       " -461,\n",
       " -2554,\n",
       " 365243,\n",
       " -3030,\n",
       " 365243,\n",
       " -581,\n",
       " -259,\n",
       " -1350,\n",
       " -6849,\n",
       " -1437,\n",
       " 365243,\n",
       " 365243,\n",
       " 365243,\n",
       " -901,\n",
       " -354,\n",
       " -720,\n",
       " -1159,\n",
       " -3050,\n",
       " -696,\n",
       " -854,\n",
       " -3243,\n",
       " -4019,\n",
       " -2773,\n",
       " -1724,\n",
       " -2987,\n",
       " -122,\n",
       " -3079,\n",
       " -193,\n",
       " -3234,\n",
       " -4327,\n",
       " 365243,\n",
       " -4469,\n",
       " 365243,\n",
       " -961,\n",
       " -3453,\n",
       " -6067,\n",
       " -4690,\n",
       " -596,\n",
       " -2212,\n",
       " -734,\n",
       " 365243,\n",
       " -857,\n",
       " -1362,\n",
       " -2196,\n",
       " -3694,\n",
       " 365243,\n",
       " -7127,\n",
       " -2987,\n",
       " -1292,\n",
       " -3110,\n",
       " -9683,\n",
       " 365243,\n",
       " -3339,\n",
       " -181,\n",
       " -96,\n",
       " -2754,\n",
       " 365243,\n",
       " -1854,\n",
       " -7401,\n",
       " -1569,\n",
       " -2349,\n",
       " -1740,\n",
       " -3647,\n",
       " -2875,\n",
       " -2135,\n",
       " -9858,\n",
       " -1966,\n",
       " -2011,\n",
       " -2086,\n",
       " -4039,\n",
       " -3680,\n",
       " -1410,\n",
       " -7346,\n",
       " 365243,\n",
       " -5179,\n",
       " -1953,\n",
       " -5711,\n",
       " -1740,\n",
       " -2959,\n",
       " -3805,\n",
       " -3099,\n",
       " -110,\n",
       " -3337,\n",
       " -4599,\n",
       " -2339,\n",
       " -10490,\n",
       " -4904,\n",
       " 365243,\n",
       " -2054,\n",
       " -2773,\n",
       " -863,\n",
       " -801,\n",
       " -6039,\n",
       " -622,\n",
       " -286,\n",
       " 365243,\n",
       " 365243,\n",
       " 365243,\n",
       " -3234,\n",
       " 365243,\n",
       " 365243,\n",
       " 365243,\n",
       " -674,\n",
       " -1050,\n",
       " 365243,\n",
       " 365243,\n",
       " -1213,\n",
       " -2607,\n",
       " -2055,\n",
       " -1373,\n",
       " -3805,\n",
       " -2102,\n",
       " -3870,\n",
       " 365243,\n",
       " -3093,\n",
       " -1133,\n",
       " -492,\n",
       " -1565,\n",
       " -444,\n",
       " 365243,\n",
       " -3883,\n",
       " -2811,\n",
       " -1392,\n",
       " -380,\n",
       " -4004,\n",
       " 365243,\n",
       " -3837,\n",
       " -2829,\n",
       " -200,\n",
       " -2531,\n",
       " 365243,\n",
       " -2164,\n",
       " 365243,\n",
       " -964,\n",
       " 365243,\n",
       " -7048,\n",
       " -1751,\n",
       " -195,\n",
       " -9925,\n",
       " -109,\n",
       " -3489,\n",
       " -221,\n",
       " -321,\n",
       " -1350,\n",
       " -1172,\n",
       " -882,\n",
       " -546,\n",
       " -1912,\n",
       " -2417,\n",
       " 365243,\n",
       " -2426,\n",
       " 365243,\n",
       " -807,\n",
       " 365243,\n",
       " 365243,\n",
       " -599,\n",
       " -890,\n",
       " -1527,\n",
       " -2646,\n",
       " 365243,\n",
       " -3684,\n",
       " -412,\n",
       " -9029,\n",
       " -786,\n",
       " -3541,\n",
       " -2530,\n",
       " -1632,\n",
       " 365243,\n",
       " 365243,\n",
       " -2682,\n",
       " -2805,\n",
       " -1160,\n",
       " -3292,\n",
       " -4397,\n",
       " -921,\n",
       " -925,\n",
       " -7080,\n",
       " 365243,\n",
       " -2026,\n",
       " -1437,\n",
       " -3472,\n",
       " -7838,\n",
       " -1696,\n",
       " -1101,\n",
       " 365243,\n",
       " -1070,\n",
       " 365243,\n",
       " -2564,\n",
       " -7553,\n",
       " -171,\n",
       " 365243,\n",
       " 365243,\n",
       " -1285,\n",
       " -7379,\n",
       " -349,\n",
       " -2758,\n",
       " -464,\n",
       " -2357,\n",
       " 365243,\n",
       " -5788,\n",
       " -1741,\n",
       " 365243,\n",
       " -422,\n",
       " -2407,\n",
       " -1022,\n",
       " -2104,\n",
       " -593,\n",
       " -1749,\n",
       " -4813,\n",
       " -2027,\n",
       " -1350,\n",
       " -1379,\n",
       " 365243,\n",
       " -1900,\n",
       " -6884,\n",
       " -2165,\n",
       " -121,\n",
       " 365243,\n",
       " -3488,\n",
       " -1214,\n",
       " -444,\n",
       " -1678,\n",
       " -8171,\n",
       " -3243,\n",
       " -2324,\n",
       " -693,\n",
       " -857,\n",
       " 365243,\n",
       " -1261,\n",
       " -1565,\n",
       " -4663,\n",
       " -2966,\n",
       " 365243,\n",
       " -3913,\n",
       " -3993,\n",
       " -764,\n",
       " -1557,\n",
       " 365243,\n",
       " -8375,\n",
       " -2988,\n",
       " 365243,\n",
       " 365243,\n",
       " -1194,\n",
       " 365243,\n",
       " -3403,\n",
       " -1195,\n",
       " -993,\n",
       " -135,\n",
       " -1748,\n",
       " -2196,\n",
       " -1447,\n",
       " -229,\n",
       " -1495,\n",
       " 365243,\n",
       " -5466,\n",
       " -704,\n",
       " -2578,\n",
       " -2696,\n",
       " -4663,\n",
       " -4546,\n",
       " 365243,\n",
       " -5520,\n",
       " -1631,\n",
       " -980,\n",
       " -1236,\n",
       " 365243,\n",
       " -4452,\n",
       " -2026,\n",
       " -5581,\n",
       " -3234,\n",
       " -1204,\n",
       " -3573,\n",
       " -837,\n",
       " -2317,\n",
       " -248,\n",
       " -2351,\n",
       " -6558,\n",
       " -3458,\n",
       " -1688,\n",
       " -2441,\n",
       " -2170,\n",
       " -933,\n",
       " -7536,\n",
       " -3034,\n",
       " -444,\n",
       " -1236,\n",
       " 365243,\n",
       " -198,\n",
       " -2415,\n",
       " -1953,\n",
       " -1587,\n",
       " -354,\n",
       " -995,\n",
       " -2287,\n",
       " -200,\n",
       " -827,\n",
       " -412,\n",
       " -1518,\n",
       " -3420,\n",
       " -139,\n",
       " -306,\n",
       " -7264,\n",
       " -928,\n",
       " -734,\n",
       " -626,\n",
       " -302,\n",
       " 365243,\n",
       " -3716,\n",
       " -3630,\n",
       " -3476,\n",
       " -2170,\n",
       " -6105,\n",
       " -156,\n",
       " 365243,\n",
       " -10600,\n",
       " -203,\n",
       " -195,\n",
       " -949,\n",
       " -250,\n",
       " -3500,\n",
       " -513,\n",
       " -3174,\n",
       " -2433,\n",
       " -712,\n",
       " -11940,\n",
       " 365243,\n",
       " -1160,\n",
       " 365243,\n",
       " -913,\n",
       " -900,\n",
       " -2441,\n",
       " -7851,\n",
       " -2696,\n",
       " -622,\n",
       " 365243,\n",
       " -2659,\n",
       " -1140,\n",
       " 365243,\n",
       " 365243,\n",
       " -638,\n",
       " -2357,\n",
       " -4707,\n",
       " -5355,\n",
       " -9575,\n",
       " -1151,\n",
       " -714,\n",
       " -218,\n",
       " 365243,\n",
       " -96,\n",
       " -5764,\n",
       " -747,\n",
       " -2939,\n",
       " -3170,\n",
       " 365243,\n",
       " -1962,\n",
       " 365243,\n",
       " -2847,\n",
       " -3611,\n",
       " -3717,\n",
       " 365243,\n",
       " -1283,\n",
       " -1679,\n",
       " 365243,\n",
       " -7369,\n",
       " -341,\n",
       " -501,\n",
       " -3626,\n",
       " -1151,\n",
       " -4491,\n",
       " -1318,\n",
       " 365243,\n",
       " 365243,\n",
       " 365243,\n",
       " -1904,\n",
       " -4881,\n",
       " -2866,\n",
       " -1401,\n",
       " 365243,\n",
       " -1583,\n",
       " -1734,\n",
       " -672,\n",
       " ...]"
      ]
     },
     "execution_count": 54,
     "metadata": {
      "tags": []
     },
     "output_type": "execute_result"
    }
   ],
   "source": [
    "DAYS_EMPLOYED_copy"
   ]
  },
  {
   "cell_type": "code",
   "execution_count": null,
   "metadata": {
    "colab": {
     "base_uri": "https://localhost:8080/"
    },
    "id": "5OdCL3llDqdG",
    "outputId": "7b1d3c8a-c817-489c-c8af-db35f6470f3c"
   },
   "outputs": [
    {
     "data": {
      "text/plain": [
       "count    26457.000000\n",
       "mean         0.832256\n",
       "std          0.373646\n",
       "min          0.000000\n",
       "25%          1.000000\n",
       "50%          1.000000\n",
       "75%          1.000000\n",
       "max          1.000000\n",
       "Name: DAYS_EMPLOYED, dtype: float64"
      ]
     },
     "execution_count": 55,
     "metadata": {
      "tags": []
     },
     "output_type": "execute_result"
    }
   ],
   "source": [
    "train['DAYS_EMPLOYED'].describe()"
   ]
  },
  {
   "cell_type": "code",
   "execution_count": null,
   "metadata": {
    "id": "9y8z-34EEV_i"
   },
   "outputs": [],
   "source": [
    "# 범주형 변수로 추가 변환\n",
    "train['DAYS_EMPLOYED'] = train['DAYS_EMPLOYED'].astype(object)"
   ]
  },
  {
   "cell_type": "markdown",
   "metadata": {
    "id": "Hf8CKjkxEHUO"
   },
   "source": [
    "## 추가 고민\n"
   ]
  },
  {
   "cell_type": "code",
   "execution_count": null,
   "metadata": {
    "colab": {
     "base_uri": "https://localhost:8080/",
     "height": 287
    },
    "id": "s1tnz5AcEGnf",
    "outputId": "3bf750d3-f69e-4840-b90a-e49078b307df"
   },
   "outputs": [
    {
     "data": {
      "text/html": [
       "<div>\n",
       "<style scoped>\n",
       "    .dataframe tbody tr th:only-of-type {\n",
       "        vertical-align: middle;\n",
       "    }\n",
       "\n",
       "    .dataframe tbody tr th {\n",
       "        vertical-align: top;\n",
       "    }\n",
       "\n",
       "    .dataframe thead th {\n",
       "        text-align: right;\n",
       "    }\n",
       "</style>\n",
       "<table border=\"1\" class=\"dataframe\">\n",
       "  <thead>\n",
       "    <tr style=\"text-align: right;\">\n",
       "      <th></th>\n",
       "      <th>index</th>\n",
       "      <th>child_num</th>\n",
       "      <th>income_total</th>\n",
       "      <th>DAYS_BIRTH</th>\n",
       "      <th>family_size</th>\n",
       "      <th>begin_month</th>\n",
       "      <th>credit</th>\n",
       "    </tr>\n",
       "  </thead>\n",
       "  <tbody>\n",
       "    <tr>\n",
       "      <th>count</th>\n",
       "      <td>26457.000000</td>\n",
       "      <td>26457.000000</td>\n",
       "      <td>2.645700e+04</td>\n",
       "      <td>26457.000000</td>\n",
       "      <td>26457.000000</td>\n",
       "      <td>26457.000000</td>\n",
       "      <td>26457.000000</td>\n",
       "    </tr>\n",
       "    <tr>\n",
       "      <th>mean</th>\n",
       "      <td>13228.000000</td>\n",
       "      <td>0.428658</td>\n",
       "      <td>1.873065e+05</td>\n",
       "      <td>-15958.053899</td>\n",
       "      <td>2.196848</td>\n",
       "      <td>-26.123294</td>\n",
       "      <td>1.519560</td>\n",
       "    </tr>\n",
       "    <tr>\n",
       "      <th>std</th>\n",
       "      <td>7637.622372</td>\n",
       "      <td>0.747326</td>\n",
       "      <td>1.018784e+05</td>\n",
       "      <td>4201.589022</td>\n",
       "      <td>0.916717</td>\n",
       "      <td>16.559550</td>\n",
       "      <td>0.702283</td>\n",
       "    </tr>\n",
       "    <tr>\n",
       "      <th>min</th>\n",
       "      <td>0.000000</td>\n",
       "      <td>0.000000</td>\n",
       "      <td>2.700000e+04</td>\n",
       "      <td>-25152.000000</td>\n",
       "      <td>1.000000</td>\n",
       "      <td>-60.000000</td>\n",
       "      <td>0.000000</td>\n",
       "    </tr>\n",
       "    <tr>\n",
       "      <th>25%</th>\n",
       "      <td>6614.000000</td>\n",
       "      <td>0.000000</td>\n",
       "      <td>1.215000e+05</td>\n",
       "      <td>-19431.000000</td>\n",
       "      <td>2.000000</td>\n",
       "      <td>-39.000000</td>\n",
       "      <td>1.000000</td>\n",
       "    </tr>\n",
       "    <tr>\n",
       "      <th>50%</th>\n",
       "      <td>13228.000000</td>\n",
       "      <td>0.000000</td>\n",
       "      <td>1.575000e+05</td>\n",
       "      <td>-15547.000000</td>\n",
       "      <td>2.000000</td>\n",
       "      <td>-24.000000</td>\n",
       "      <td>2.000000</td>\n",
       "    </tr>\n",
       "    <tr>\n",
       "      <th>75%</th>\n",
       "      <td>19842.000000</td>\n",
       "      <td>1.000000</td>\n",
       "      <td>2.250000e+05</td>\n",
       "      <td>-12446.000000</td>\n",
       "      <td>3.000000</td>\n",
       "      <td>-12.000000</td>\n",
       "      <td>2.000000</td>\n",
       "    </tr>\n",
       "    <tr>\n",
       "      <th>max</th>\n",
       "      <td>26456.000000</td>\n",
       "      <td>19.000000</td>\n",
       "      <td>1.575000e+06</td>\n",
       "      <td>-7705.000000</td>\n",
       "      <td>20.000000</td>\n",
       "      <td>0.000000</td>\n",
       "      <td>2.000000</td>\n",
       "    </tr>\n",
       "  </tbody>\n",
       "</table>\n",
       "</div>"
      ],
      "text/plain": [
       "              index     child_num  ...   begin_month        credit\n",
       "count  26457.000000  26457.000000  ...  26457.000000  26457.000000\n",
       "mean   13228.000000      0.428658  ...    -26.123294      1.519560\n",
       "std     7637.622372      0.747326  ...     16.559550      0.702283\n",
       "min        0.000000      0.000000  ...    -60.000000      0.000000\n",
       "25%     6614.000000      0.000000  ...    -39.000000      1.000000\n",
       "50%    13228.000000      0.000000  ...    -24.000000      2.000000\n",
       "75%    19842.000000      1.000000  ...    -12.000000      2.000000\n",
       "max    26456.000000     19.000000  ...      0.000000      2.000000\n",
       "\n",
       "[8 rows x 7 columns]"
      ]
     },
     "execution_count": 58,
     "metadata": {
      "tags": []
     },
     "output_type": "execute_result"
    }
   ],
   "source": [
    "train.describe()"
   ]
  },
  {
   "cell_type": "code",
   "execution_count": null,
   "metadata": {
    "colab": {
     "base_uri": "https://localhost:8080/"
    },
    "id": "BC00aGHTEldX",
    "outputId": "115db74e-c453-42b7-b536-59adf3096fa7"
   },
   "outputs": [
    {
     "data": {
      "text/plain": [
       "0"
      ]
     },
     "execution_count": 59,
     "metadata": {
      "tags": []
     },
     "output_type": "execute_result"
    }
   ],
   "source": [
    "# begin_month\n",
    "\n",
    "train['begin_month'].isnull().sum()"
   ]
  },
  {
   "cell_type": "code",
   "execution_count": null,
   "metadata": {
    "colab": {
     "base_uri": "https://localhost:8080/"
    },
    "id": "Q6ftk5YgEsz5",
    "outputId": "97ba6575-d1a0-46da-e999-13cef58531c7"
   },
   "outputs": [
    {
     "data": {
      "text/plain": [
       "0"
      ]
     },
     "execution_count": 60,
     "metadata": {
      "tags": []
     },
     "output_type": "execute_result"
    }
   ],
   "source": [
    "# child_num\n",
    "\n",
    "train['child_num'].isnull().sum()"
   ]
  },
  {
   "cell_type": "code",
   "execution_count": null,
   "metadata": {
    "colab": {
     "base_uri": "https://localhost:8080/",
     "height": 1000
    },
    "id": "3K58apr1E6Aq",
    "outputId": "b90c1b27-10e5-4011-ce4e-3b151e853555"
   },
   "outputs": [
    {
     "data": {
      "image/png": "[encoded data removed]",
      "text/plain": [
       "<Figure size 432x288 with 1 Axes>"
      ]
     },
     "metadata": {
      "needs_background": "light",
      "tags": []
     },
     "output_type": "display_data"
    },
    {
     "data": {
      "image/png": "[encoded data removed]",
      "text/plain": [
       "<Figure size 432x288 with 1 Axes>"
      ]
     },
     "metadata": {
      "needs_background": "light",
      "tags": []
     },
     "output_type": "display_data"
    },
    {
     "data": {
      "image/png": "[encoded data removed]",
      "text/plain": [
       "<Figure size 432x288 with 1 Axes>"
      ]
     },
     "metadata": {
      "needs_background": "light",
      "tags": []
     },
     "output_type": "display_data"
    },
    {
     "data": {
      "image/png": "[encoded data removed]",
      "text/plain": [
       "<Figure size 432x288 with 1 Axes>"
      ]
     },
     "metadata": {
      "needs_background": "light",
      "tags": []
     },
     "output_type": "display_data"
    },
    {
     "data": {
      "image/png": "[encoded data removed]",
      "text/plain": [
       "<Figure size 432x288 with 1 Axes>"
      ]
     },
     "metadata": {
      "needs_background": "light",
      "tags": []
     },
     "output_type": "display_data"
    },
    {
     "data": {
      "image/png": "[encoded data removed]",
      "text/plain": [
       "<Figure size 432x288 with 1 Axes>"
      ]
     },
     "metadata": {
      "needs_background": "light",
      "tags": []
     },
     "output_type": "display_data"
    },
    {
     "data": {
      "image/png": "[encoded data removed]",
      "text/plain": [
       "<Figure size 432x288 with 1 Axes>"
      ]
     },
     "metadata": {
      "needs_background": "light",
      "tags": []
     },
     "output_type": "display_data"
    }
   ],
   "source": [
    "numerical_feature = ['index',\t'child_num',\t'income_total',\t'DAYS_BIRTH',\t'family_size',\t'begin_month',\t'credit']\n",
    "\n",
    "numerical_feature = np.sort(numerical_feature)\n",
    "#numerical_feature\n",
    "#변수별로 for문을 돌면서 distplot을 그립니다\n",
    "\n",
    "\n",
    "\n",
    "for col in numerical_feature:\n",
    "    sns.distplot(train.loc[train[col].notnull(), col])\n",
    "    plt.title(col)\n",
    "    plt.show()"
   ]
  },
  {
   "cell_type": "markdown",
   "metadata": {
    "id": "e-9GNCJyFWzN"
   },
   "source": [
    "## 의문 (추후)\n",
    "\n",
    "- 'begin_month'와\t'credit'의 상관관계 ?\n",
    "- 'child_num'와 'credit'의 상관관계 ?\n",
    "- 'income_total'와 'credit'의 상관관계 ?"
   ]
  },
  {
   "cell_type": "markdown",
   "metadata": {
    "id": "oGGxOWmDF2oL"
   },
   "source": [
    "## 처리 (test 데이터에도 동일한 처리 반복)"
   ]
  },
  {
   "cell_type": "code",
   "execution_count": null,
   "metadata": {
    "id": "VZSrTye8F2ok"
   },
   "outputs": [],
   "source": [
    "test['FLAG_MOBIL'] = test['FLAG_MOBIL'].astype(object)\n",
    "test['email'] = test['email'].astype(object)\n",
    "test['phone'] = test['phone'].astype(object)\n",
    "test['work_phone'] = test['work_phone'].astype(object)"
   ]
  },
  {
   "cell_type": "code",
   "execution_count": null,
   "metadata": {
    "id": "DtxUG7pnF2ol"
   },
   "outputs": [],
   "source": [
    "DAYS_EMPLOYED_copy2 = list(test['DAYS_EMPLOYED'])\n",
    "\n",
    "test['DAYS_EMPLOYED'] = [1 if values < 0 else 0 for values in DAYS_EMPLOYED_copy2]"
   ]
  },
  {
   "cell_type": "code",
   "execution_count": null,
   "metadata": {
    "colab": {
     "base_uri": "https://localhost:8080/"
    },
    "id": "qZBvEEIoF2om",
    "outputId": "2f568d59-dfa5-410d-f0d3-026a4c52544c"
   },
   "outputs": [
    {
     "data": {
      "text/plain": [
       "[365243,\n",
       " -8671,\n",
       " -217,\n",
       " -2531,\n",
       " -9385,\n",
       " -2104,\n",
       " -2010,\n",
       " 365243,\n",
       " -4451,\n",
       " -3504,\n",
       " 365243,\n",
       " -1028,\n",
       " -1064,\n",
       " 365243,\n",
       " 365243,\n",
       " 365243,\n",
       " 365243,\n",
       " 365243,\n",
       " 365243,\n",
       " -481,\n",
       " -5190,\n",
       " -1478,\n",
       " -1619,\n",
       " -6014,\n",
       " -1345,\n",
       " -235,\n",
       " -1292,\n",
       " 365243,\n",
       " -6276,\n",
       " 365243,\n",
       " -233,\n",
       " -2506,\n",
       " 365243,\n",
       " 365243,\n",
       " -3092,\n",
       " -1565,\n",
       " -1342,\n",
       " 365243,\n",
       " -1589,\n",
       " 365243,\n",
       " -3447,\n",
       " -2602,\n",
       " 365243,\n",
       " -472,\n",
       " -5119,\n",
       " -2988,\n",
       " -127,\n",
       " -3596,\n",
       " -2967,\n",
       " -1194,\n",
       " 365243,\n",
       " 365243,\n",
       " -2746,\n",
       " -1202,\n",
       " -316,\n",
       " 365243,\n",
       " -3079,\n",
       " -137,\n",
       " -1155,\n",
       " 365243,\n",
       " -1921,\n",
       " -2321,\n",
       " -3303,\n",
       " -2078,\n",
       " -5006,\n",
       " -3718,\n",
       " -238,\n",
       " -1193,\n",
       " 365243,\n",
       " -3332,\n",
       " -1085,\n",
       " -652,\n",
       " -11494,\n",
       " -5107,\n",
       " -2967,\n",
       " 365243,\n",
       " 365243,\n",
       " -2747,\n",
       " -1628,\n",
       " -2778,\n",
       " -3999,\n",
       " -596,\n",
       " 365243,\n",
       " 365243,\n",
       " 365243,\n",
       " 365243,\n",
       " -117,\n",
       " -338,\n",
       " -3900,\n",
       " -3243,\n",
       " -2849,\n",
       " -1458,\n",
       " -3017,\n",
       " -1610,\n",
       " -1616,\n",
       " -3900,\n",
       " -3337,\n",
       " -6237,\n",
       " -2696,\n",
       " -1430,\n",
       " -2417,\n",
       " -2177,\n",
       " -7280,\n",
       " -8172,\n",
       " -1682,\n",
       " -1846,\n",
       " -400,\n",
       " -1137,\n",
       " -2133,\n",
       " 365243,\n",
       " 365243,\n",
       " -3778,\n",
       " -2593,\n",
       " 365243,\n",
       " -531,\n",
       " 365243,\n",
       " -1175,\n",
       " -3541,\n",
       " -2451,\n",
       " -339,\n",
       " -2987,\n",
       " 365243,\n",
       " -3891,\n",
       " -3839,\n",
       " -808,\n",
       " -1077,\n",
       " -2045,\n",
       " 365243,\n",
       " -2257,\n",
       " -3322,\n",
       " -15038,\n",
       " -6099,\n",
       " 365243,\n",
       " -2616,\n",
       " -1346,\n",
       " -317,\n",
       " 365243,\n",
       " 365243,\n",
       " -4331,\n",
       " -7004,\n",
       " 365243,\n",
       " 365243,\n",
       " -4487,\n",
       " -2635,\n",
       " -5311,\n",
       " -235,\n",
       " -1005,\n",
       " 365243,\n",
       " 365243,\n",
       " -393,\n",
       " 365243,\n",
       " -5950,\n",
       " -3227,\n",
       " -155,\n",
       " -2625,\n",
       " -1539,\n",
       " -2696,\n",
       " -8033,\n",
       " -703,\n",
       " -2569,\n",
       " -3595,\n",
       " 365243,\n",
       " -3673,\n",
       " 365243,\n",
       " -1325,\n",
       " -5239,\n",
       " -12870,\n",
       " 365243,\n",
       " 365243,\n",
       " -349,\n",
       " -5553,\n",
       " -2747,\n",
       " -2713,\n",
       " 365243,\n",
       " -1101,\n",
       " -1802,\n",
       " -3334,\n",
       " -2971,\n",
       " -1677,\n",
       " -2330,\n",
       " -734,\n",
       " -5639,\n",
       " 365243,\n",
       " -5239,\n",
       " -2087,\n",
       " -9029,\n",
       " 365243,\n",
       " -3893,\n",
       " -6237,\n",
       " -2676,\n",
       " 365243,\n",
       " -2745,\n",
       " -1904,\n",
       " -298,\n",
       " -1928,\n",
       " -674,\n",
       " -3119,\n",
       " 365243,\n",
       " -3046,\n",
       " -958,\n",
       " -6342,\n",
       " -2331,\n",
       " -347,\n",
       " -6801,\n",
       " -852,\n",
       " -818,\n",
       " 365243,\n",
       " -285,\n",
       " -4584,\n",
       " 365243,\n",
       " 365243,\n",
       " -3904,\n",
       " 365243,\n",
       " -165,\n",
       " 365243,\n",
       " -793,\n",
       " -131,\n",
       " -2574,\n",
       " -1235,\n",
       " -1782,\n",
       " -5386,\n",
       " -5921,\n",
       " -672,\n",
       " -1422,\n",
       " -7500,\n",
       " 365243,\n",
       " -1430,\n",
       " -1740,\n",
       " -919,\n",
       " -3573,\n",
       " 365243,\n",
       " -1711,\n",
       " -2230,\n",
       " -1648,\n",
       " -410,\n",
       " -1101,\n",
       " -3019,\n",
       " -5239,\n",
       " -5364,\n",
       " 365243,\n",
       " -8808,\n",
       " 365243,\n",
       " 365243,\n",
       " -1661,\n",
       " -1626,\n",
       " 365243,\n",
       " -1175,\n",
       " -321,\n",
       " -3099,\n",
       " -263,\n",
       " -1346,\n",
       " 365243,\n",
       " -2713,\n",
       " 365243,\n",
       " -118,\n",
       " -6853,\n",
       " -377,\n",
       " -1072,\n",
       " -1748,\n",
       " -5355,\n",
       " -1325,\n",
       " -1700,\n",
       " -2277,\n",
       " -1904,\n",
       " -1716,\n",
       " -1246,\n",
       " -3458,\n",
       " -1416,\n",
       " -1615,\n",
       " -2499,\n",
       " -1410,\n",
       " 365243,\n",
       " -536,\n",
       " -979,\n",
       " -2622,\n",
       " -826,\n",
       " -7100,\n",
       " 365243,\n",
       " -1782,\n",
       " -3988,\n",
       " -925,\n",
       " 365243,\n",
       " -2256,\n",
       " -344,\n",
       " -3017,\n",
       " -4936,\n",
       " 365243,\n",
       " -720,\n",
       " 365243,\n",
       " -3693,\n",
       " -1751,\n",
       " -2712,\n",
       " -6099,\n",
       " -4663,\n",
       " -566,\n",
       " -3638,\n",
       " 365243,\n",
       " -380,\n",
       " -5326,\n",
       " -875,\n",
       " -1727,\n",
       " -1140,\n",
       " -1194,\n",
       " -3079,\n",
       " -104,\n",
       " -1128,\n",
       " -4479,\n",
       " -3806,\n",
       " -468,\n",
       " 365243,\n",
       " -2765,\n",
       " -2057,\n",
       " -1596,\n",
       " 365243,\n",
       " -1236,\n",
       " -10110,\n",
       " -8639,\n",
       " -4097,\n",
       " -2207,\n",
       " -674,\n",
       " -1847,\n",
       " -980,\n",
       " -3092,\n",
       " -1596,\n",
       " -2827,\n",
       " -2265,\n",
       " -3208,\n",
       " -3902,\n",
       " -6099,\n",
       " -1071,\n",
       " -1014,\n",
       " -3243,\n",
       " 365243,\n",
       " -7379,\n",
       " -2415,\n",
       " -5453,\n",
       " -1616,\n",
       " -1016,\n",
       " -5740,\n",
       " -2057,\n",
       " -3084,\n",
       " -839,\n",
       " 365243,\n",
       " -819,\n",
       " -3904,\n",
       " -3873,\n",
       " -3017,\n",
       " -1678,\n",
       " -124,\n",
       " 365243,\n",
       " -2057,\n",
       " -3174,\n",
       " -1477,\n",
       " -818,\n",
       " -5460,\n",
       " 365243,\n",
       " -1656,\n",
       " -221,\n",
       " -3287,\n",
       " -808,\n",
       " -4354,\n",
       " -515,\n",
       " -1707,\n",
       " -2167,\n",
       " -1023,\n",
       " -1645,\n",
       " -7640,\n",
       " -3193,\n",
       " -165,\n",
       " -626,\n",
       " -716,\n",
       " -197,\n",
       " -3239,\n",
       " -1326,\n",
       " -2874,\n",
       " -309,\n",
       " -3574,\n",
       " -3000,\n",
       " -667,\n",
       " 365243,\n",
       " -8509,\n",
       " -992,\n",
       " -8862,\n",
       " 365243,\n",
       " -3515,\n",
       " -2454,\n",
       " -1677,\n",
       " -3375,\n",
       " -2734,\n",
       " -6237,\n",
       " -1135,\n",
       " -3335,\n",
       " -155,\n",
       " -1371,\n",
       " -9582,\n",
       " -250,\n",
       " -1603,\n",
       " -7733,\n",
       " -9975,\n",
       " -1585,\n",
       " -1250,\n",
       " -3327,\n",
       " -2316,\n",
       " -3235,\n",
       " -3742,\n",
       " 365243,\n",
       " -2796,\n",
       " -413,\n",
       " -1039,\n",
       " -2481,\n",
       " -464,\n",
       " -900,\n",
       " -4814,\n",
       " -765,\n",
       " 365243,\n",
       " -666,\n",
       " -2769,\n",
       " -2426,\n",
       " -101,\n",
       " -8460,\n",
       " -1800,\n",
       " -1222,\n",
       " -2512,\n",
       " -3347,\n",
       " -2747,\n",
       " 365243,\n",
       " -1281,\n",
       " -1435,\n",
       " -10780,\n",
       " -1072,\n",
       " -502,\n",
       " -5237,\n",
       " -4029,\n",
       " -6801,\n",
       " -1126,\n",
       " -1357,\n",
       " 365243,\n",
       " 365243,\n",
       " -3078,\n",
       " 365243,\n",
       " -4392,\n",
       " -1050,\n",
       " -6123,\n",
       " -2652,\n",
       " -3153,\n",
       " -6216,\n",
       " -2391,\n",
       " -1661,\n",
       " -555,\n",
       " -1266,\n",
       " 365243,\n",
       " 365243,\n",
       " -2266,\n",
       " -1328,\n",
       " -3908,\n",
       " -939,\n",
       " -777,\n",
       " -1610,\n",
       " -3535,\n",
       " -980,\n",
       " -2878,\n",
       " -1587,\n",
       " -5330,\n",
       " -623,\n",
       " -10758,\n",
       " 365243,\n",
       " -4161,\n",
       " 365243,\n",
       " -3506,\n",
       " -978,\n",
       " 365243,\n",
       " -1648,\n",
       " -2175,\n",
       " -7804,\n",
       " -443,\n",
       " -3667,\n",
       " -2593,\n",
       " -2985,\n",
       " -1308,\n",
       " -370,\n",
       " -3509,\n",
       " -2174,\n",
       " -3344,\n",
       " -5321,\n",
       " -1160,\n",
       " -3488,\n",
       " -583,\n",
       " -2908,\n",
       " 365243,\n",
       " -2833,\n",
       " -985,\n",
       " -1776,\n",
       " -2780,\n",
       " -8647,\n",
       " -2727,\n",
       " -8041,\n",
       " -3715,\n",
       " -298,\n",
       " -1570,\n",
       " -1678,\n",
       " -2381,\n",
       " -1751,\n",
       " 365243,\n",
       " -2769,\n",
       " -1945,\n",
       " -3892,\n",
       " -3019,\n",
       " 365243,\n",
       " -3148,\n",
       " 365243,\n",
       " -367,\n",
       " -1009,\n",
       " -781,\n",
       " -2088,\n",
       " -926,\n",
       " 365243,\n",
       " -1049,\n",
       " -1057,\n",
       " -3435,\n",
       " -943,\n",
       " -1388,\n",
       " -2174,\n",
       " -3844,\n",
       " -464,\n",
       " -1493,\n",
       " -1170,\n",
       " -2440,\n",
       " -1039,\n",
       " -3868,\n",
       " -9988,\n",
       " 365243,\n",
       " -2860,\n",
       " 365243,\n",
       " -4280,\n",
       " -5064,\n",
       " -2454,\n",
       " -890,\n",
       " -2805,\n",
       " -1702,\n",
       " -1749,\n",
       " -3259,\n",
       " -201,\n",
       " -767,\n",
       " -882,\n",
       " -2087,\n",
       " -158,\n",
       " -1371,\n",
       " -962,\n",
       " -1131,\n",
       " -657,\n",
       " -3529,\n",
       " -990,\n",
       " -399,\n",
       " -1138,\n",
       " -7614,\n",
       " 365243,\n",
       " -2477,\n",
       " 365243,\n",
       " 365243,\n",
       " -620,\n",
       " -917,\n",
       " -926,\n",
       " -1493,\n",
       " -3970,\n",
       " -4242,\n",
       " 365243,\n",
       " -825,\n",
       " -1678,\n",
       " -5992,\n",
       " -1707,\n",
       " -1922,\n",
       " -1802,\n",
       " -1649,\n",
       " -3234,\n",
       " -1981,\n",
       " -3266,\n",
       " -1785,\n",
       " -187,\n",
       " -667,\n",
       " -1327,\n",
       " -2014,\n",
       " -2670,\n",
       " -5555,\n",
       " -726,\n",
       " -14810,\n",
       " -200,\n",
       " -2959,\n",
       " 365243,\n",
       " 365243,\n",
       " -7522,\n",
       " -536,\n",
       " -137,\n",
       " -1294,\n",
       " -1144,\n",
       " -897,\n",
       " -4369,\n",
       " -1682,\n",
       " -3201,\n",
       " -1131,\n",
       " -2129,\n",
       " 365243,\n",
       " 365243,\n",
       " -4023,\n",
       " -338,\n",
       " -4617,\n",
       " -638,\n",
       " -2539,\n",
       " -11884,\n",
       " -1567,\n",
       " -1537,\n",
       " 365243,\n",
       " 365243,\n",
       " -742,\n",
       " -3413,\n",
       " -110,\n",
       " -681,\n",
       " 365243,\n",
       " 365243,\n",
       " -704,\n",
       " -4304,\n",
       " -5345,\n",
       " 365243,\n",
       " -431,\n",
       " -7400,\n",
       " -1191,\n",
       " -1994,\n",
       " -6764,\n",
       " -110,\n",
       " -5148,\n",
       " -309,\n",
       " -1644,\n",
       " -2331,\n",
       " -254,\n",
       " -2174,\n",
       " 365243,\n",
       " -2520,\n",
       " -747,\n",
       " -1379,\n",
       " -5362,\n",
       " -3141,\n",
       " 365243,\n",
       " -3140,\n",
       " -1816,\n",
       " -795,\n",
       " -3140,\n",
       " 365243,\n",
       " -808,\n",
       " -3944,\n",
       " -422,\n",
       " -3080,\n",
       " 365243,\n",
       " -415,\n",
       " -1138,\n",
       " 365243,\n",
       " -1254,\n",
       " -185,\n",
       " -4887,\n",
       " -2423,\n",
       " -727,\n",
       " -200,\n",
       " -3282,\n",
       " -734,\n",
       " -7400,\n",
       " -302,\n",
       " -2446,\n",
       " -3173,\n",
       " -1769,\n",
       " 365243,\n",
       " 365243,\n",
       " -3508,\n",
       " -3078,\n",
       " -1610,\n",
       " -4854,\n",
       " -5618,\n",
       " -3291,\n",
       " -982,\n",
       " -1615,\n",
       " -2330,\n",
       " -2802,\n",
       " 365243,\n",
       " -5574,\n",
       " -3255,\n",
       " -93,\n",
       " -1401,\n",
       " -4770,\n",
       " -5082,\n",
       " -6221,\n",
       " -1562,\n",
       " -185,\n",
       " -2175,\n",
       " -3605,\n",
       " -7404,\n",
       " -5457,\n",
       " -1050,\n",
       " -2023,\n",
       " -1905,\n",
       " 365243,\n",
       " -1976,\n",
       " -339,\n",
       " -2417,\n",
       " -2209,\n",
       " -3079,\n",
       " -4174,\n",
       " -1473,\n",
       " -1524,\n",
       " -7734,\n",
       " -1600,\n",
       " -2058,\n",
       " -4633,\n",
       " -3692,\n",
       " -716,\n",
       " -218,\n",
       " -3166,\n",
       " -1401,\n",
       " -1953,\n",
       " 365243,\n",
       " -467,\n",
       " -2939,\n",
       " -5330,\n",
       " -825,\n",
       " -1931,\n",
       " -189,\n",
       " -670,\n",
       " -2484,\n",
       " 365243,\n",
       " -1866,\n",
       " -1324,\n",
       " -402,\n",
       " -775,\n",
       " -536,\n",
       " 365243,\n",
       " -4979,\n",
       " 365243,\n",
       " -2758,\n",
       " -1800,\n",
       " -1682,\n",
       " -1388,\n",
       " 365243,\n",
       " -762,\n",
       " -169,\n",
       " 365243,\n",
       " -4003,\n",
       " -3747,\n",
       " -8175,\n",
       " -816,\n",
       " 365243,\n",
       " -1626,\n",
       " -2318,\n",
       " -118,\n",
       " -3960,\n",
       " 365243,\n",
       " 365243,\n",
       " -1226,\n",
       " -2339,\n",
       " -2104,\n",
       " -11954,\n",
       " -4561,\n",
       " -1373,\n",
       " -229,\n",
       " -1688,\n",
       " -390,\n",
       " -2175,\n",
       " 365243,\n",
       " -5221,\n",
       " -763,\n",
       " -1069,\n",
       " -2687,\n",
       " 365243,\n",
       " -4145,\n",
       " -704,\n",
       " -1672,\n",
       " -2349,\n",
       " 365243,\n",
       " -2196,\n",
       " -5557,\n",
       " 365243,\n",
       " -4781,\n",
       " -5488,\n",
       " -1478,\n",
       " 365243,\n",
       " -2501,\n",
       " -2942,\n",
       " -1315,\n",
       " -3476,\n",
       " -413,\n",
       " -1138,\n",
       " -3262,\n",
       " -7979,\n",
       " -3504,\n",
       " -1028,\n",
       " -3242,\n",
       " -3172,\n",
       " 365243,\n",
       " -2437,\n",
       " -382,\n",
       " -5295,\n",
       " 365243,\n",
       " 365243,\n",
       " 365243,\n",
       " -168,\n",
       " -6639,\n",
       " -2064,\n",
       " -413,\n",
       " -7979,\n",
       " -1434,\n",
       " -5587,\n",
       " -1672,\n",
       " -5707,\n",
       " -1800,\n",
       " -2746,\n",
       " -1315,\n",
       " 365243,\n",
       " 365243,\n",
       " -2875,\n",
       " -5857,\n",
       " -1562,\n",
       " -2697,\n",
       " -2727,\n",
       " -561,\n",
       " -1064,\n",
       " 365243,\n",
       " -1384,\n",
       " -5633,\n",
       " -2060,\n",
       " -10094,\n",
       " -3407,\n",
       " 365243,\n",
       " -2884,\n",
       " -3329,\n",
       " -773,\n",
       " -5622,\n",
       " -5336,\n",
       " 365243,\n",
       " -3452,\n",
       " -362,\n",
       " -2389,\n",
       " -3779,\n",
       " -657,\n",
       " -1618,\n",
       " -882,\n",
       " 365243,\n",
       " -1160,\n",
       " -5336,\n",
       " -1921,\n",
       " -1161,\n",
       " -212,\n",
       " -5467,\n",
       " -2796,\n",
       " -430,\n",
       " -1823,\n",
       " -1531,\n",
       " 365243,\n",
       " -673,\n",
       " -3352,\n",
       " -1419,\n",
       " -3206,\n",
       " -1344,\n",
       " -2102,\n",
       " 365243,\n",
       " -1081,\n",
       " 365243,\n",
       " -1153,\n",
       " -1327,\n",
       " -1588,\n",
       " 365243,\n",
       " -900,\n",
       " 365243,\n",
       " -1093,\n",
       " 365243,\n",
       " -5416,\n",
       " -3537,\n",
       " 365243,\n",
       " -5373,\n",
       " -706,\n",
       " -2565,\n",
       " 365243,\n",
       " 365243,\n",
       " -469,\n",
       " -2326,\n",
       " -671,\n",
       " -401,\n",
       " -227,\n",
       " 365243,\n",
       " -659,\n",
       " -226,\n",
       " -9325,\n",
       " -6094,\n",
       " -2750,\n",
       " -1328,\n",
       " -3756,\n",
       " -3700,\n",
       " -2317,\n",
       " -2036,\n",
       " -5553,\n",
       " -1236,\n",
       " -3050,\n",
       " -825,\n",
       " -1625,\n",
       " -1386,\n",
       " -17,\n",
       " -6640,\n",
       " -303,\n",
       " 365243,\n",
       " -969,\n",
       " -7804,\n",
       " -4123,\n",
       " -492,\n",
       " -2901,\n",
       " -288,\n",
       " -2593,\n",
       " -8290,\n",
       " -6790,\n",
       " -2269,\n",
       " 365243,\n",
       " -7627,\n",
       " 365243,\n",
       " -401,\n",
       " -517,\n",
       " -990,\n",
       " -130,\n",
       " -719,\n",
       " -5330,\n",
       " -1726,\n",
       " -212,\n",
       " -6367,\n",
       " -2043,\n",
       " -5585,\n",
       " -2470,\n",
       " -2410,\n",
       " 365243,\n",
       " -7735,\n",
       " -798,\n",
       " -2599,\n",
       " -10121,\n",
       " -2877,\n",
       " -3776,\n",
       " -3016,\n",
       " -3695,\n",
       " -7752,\n",
       " -3500,\n",
       " -1350,\n",
       " 365243,\n",
       " -3026,\n",
       " -1539,\n",
       " -4813,\n",
       " 365243,\n",
       " -3388,\n",
       " 365243,\n",
       " 365243,\n",
       " -1160,\n",
       " 365243,\n",
       " -170,\n",
       " -3234,\n",
       " -2187,\n",
       " 365243,\n",
       " -536,\n",
       " -6409,\n",
       " -2052,\n",
       " -257,\n",
       " -766,\n",
       " -218,\n",
       " 365243,\n",
       " -6886,\n",
       " -4174,\n",
       " -7369,\n",
       " -470,\n",
       " -3673,\n",
       " -6517,\n",
       " 365243,\n",
       " -4114,\n",
       " 365243,\n",
       " -2068,\n",
       " -985,\n",
       " -1155,\n",
       " 365243,\n",
       " -302,\n",
       " -4086,\n",
       " -5189,\n",
       " -413,\n",
       " -1283,\n",
       " -4526,\n",
       " -4033,\n",
       " -2403,\n",
       " -979,\n",
       " 365243,\n",
       " -169,\n",
       " -917,\n",
       " 365243,\n",
       " -2086,\n",
       " -463,\n",
       " 365243,\n",
       " 365243,\n",
       " -1281,\n",
       " -1266,\n",
       " -808,\n",
       " -4119,\n",
       " -566,\n",
       " -587,\n",
       " -3248,\n",
       " -4219,\n",
       " ...]"
      ]
     },
     "execution_count": 64,
     "metadata": {
      "tags": []
     },
     "output_type": "execute_result"
    }
   ],
   "source": [
    "DAYS_EMPLOYED_copy2"
   ]
  },
  {
   "cell_type": "code",
   "execution_count": null,
   "metadata": {
    "colab": {
     "base_uri": "https://localhost:8080/"
    },
    "id": "TDt1PCPaF2on",
    "outputId": "f14450d9-0693-4f56-9404-0a85e56de327"
   },
   "outputs": [
    {
     "data": {
      "text/plain": [
       "count    10000.000000\n",
       "mean         0.830300\n",
       "std          0.375388\n",
       "min          0.000000\n",
       "25%          1.000000\n",
       "50%          1.000000\n",
       "75%          1.000000\n",
       "max          1.000000\n",
       "Name: DAYS_EMPLOYED, dtype: float64"
      ]
     },
     "execution_count": 65,
     "metadata": {
      "tags": []
     },
     "output_type": "execute_result"
    }
   ],
   "source": [
    "test['DAYS_EMPLOYED'].describe()"
   ]
  },
  {
   "cell_type": "code",
   "execution_count": null,
   "metadata": {
    "id": "ybTx3IuqF2oo"
   },
   "outputs": [],
   "source": [
    "# 범주형 변수로 추가 변환\n",
    "test['DAYS_EMPLOYED'] = test['DAYS_EMPLOYED'].astype(object)"
   ]
  },
  {
   "cell_type": "code",
   "execution_count": null,
   "metadata": {
    "id": "BZQ6ul5aFWXj"
   },
   "outputs": [],
   "source": []
  },
  {
   "cell_type": "markdown",
   "metadata": {
    "id": "5sMFLOWv5Ffx"
   },
   "source": [
    "# **[데이터 전처리]**"
   ]
  },
  {
   "cell_type": "code",
   "execution_count": null,
   "metadata": {
    "colab": {
     "base_uri": "https://localhost:8080/"
    },
    "id": "CQK5DMoT5Ffx",
    "outputId": "03935453-dfb3-42d6-aeb0-1259c98c2ecd"
   },
   "outputs": [
    {
     "data": {
      "text/plain": [
       "(36457, 20)"
      ]
     },
     "execution_count": 74,
     "metadata": {
      "tags": []
     },
     "output_type": "execute_result"
    }
   ],
   "source": [
    "data=pd.concat([train, test], axis=0)\n",
    "data.shape"
   ]
  },
  {
   "cell_type": "code",
   "execution_count": null,
   "metadata": {
    "colab": {
     "base_uri": "https://localhost:8080/"
    },
    "id": "WIStFOmbGq_Q",
    "outputId": "46bf8cde-bb88-4f54-b6bc-952653e6aa47"
   },
   "outputs": [
    {
     "name": "stdout",
     "output_type": "stream",
     "text": [
      "<class 'pandas.core.frame.DataFrame'>\n",
      "Int64Index: 36457 entries, 0 to 9999\n",
      "Data columns (total 20 columns):\n",
      " #   Column         Non-Null Count  Dtype  \n",
      "---  ------         --------------  -----  \n",
      " 0   index          36457 non-null  int64  \n",
      " 1   gender         36457 non-null  object \n",
      " 2   car            36457 non-null  object \n",
      " 3   reality        36457 non-null  object \n",
      " 4   child_num      36457 non-null  int64  \n",
      " 5   income_total   36457 non-null  float64\n",
      " 6   income_type    36457 non-null  object \n",
      " 7   edu_type       36457 non-null  object \n",
      " 8   family_type    36457 non-null  object \n",
      " 9   house_type     36457 non-null  object \n",
      " 10  DAYS_BIRTH     36457 non-null  int64  \n",
      " 11  DAYS_EMPLOYED  36457 non-null  object \n",
      " 12  FLAG_MOBIL     36457 non-null  object \n",
      " 13  work_phone     36457 non-null  object \n",
      " 14  phone          36457 non-null  object \n",
      " 15  email          36457 non-null  object \n",
      " 16  occyp_type     25134 non-null  object \n",
      " 17  family_size    36457 non-null  float64\n",
      " 18  begin_month    36457 non-null  float64\n",
      " 19  credit         26457 non-null  float64\n",
      "dtypes: float64(4), int64(3), object(13)\n",
      "memory usage: 5.8+ MB\n"
     ]
    }
   ],
   "source": [
    "data.info()"
   ]
  },
  {
   "cell_type": "markdown",
   "metadata": {
    "id": "5nt-6BM75Ffy"
   },
   "source": [
    "## **1. 결측치 제거** "
   ]
  },
  {
   "cell_type": "code",
   "execution_count": null,
   "metadata": {
    "colab": {
     "base_uri": "https://localhost:8080/"
    },
    "id": "5pplNOOV5Ffy",
    "outputId": "6fa02e47-bfd9-43b1-aed1-28ae59eb22c6"
   },
   "outputs": [
    {
     "data": {
      "text/plain": [
       "index                0\n",
       "gender               0\n",
       "car                  0\n",
       "reality              0\n",
       "child_num            0\n",
       "income_total         0\n",
       "income_type          0\n",
       "edu_type             0\n",
       "family_type          0\n",
       "house_type           0\n",
       "DAYS_BIRTH           0\n",
       "DAYS_EMPLOYED        0\n",
       "FLAG_MOBIL           0\n",
       "work_phone           0\n",
       "phone                0\n",
       "email                0\n",
       "occyp_type       11323\n",
       "family_size          0\n",
       "begin_month          0\n",
       "credit           10000\n",
       "dtype: int64"
      ]
     },
     "execution_count": 76,
     "metadata": {
      "tags": []
     },
     "output_type": "execute_result"
    }
   ],
   "source": [
    "data.isnull().sum()"
   ]
  },
  {
   "cell_type": "markdown",
   "metadata": {
    "id": "P9sy-GLnGXeO"
   },
   "source": [
    "## 'occyp_type'(직업 유형)이 뭔데 ?"
   ]
  },
  {
   "cell_type": "code",
   "execution_count": null,
   "metadata": {
    "id": "TbTrCO00HIeV"
   },
   "outputs": [],
   "source": []
  },
  {
   "cell_type": "markdown",
   "metadata": {
    "id": "K_kYn_81HJEL"
   },
   "source": [
    "## 범주형 별 credit 파악"
   ]
  },
  {
   "cell_type": "code",
   "execution_count": null,
   "metadata": {
    "colab": {
     "base_uri": "https://localhost:8080/",
     "height": 295
    },
    "id": "st20OPoQGWmR",
    "outputId": "9e40a5b9-3dd8-4679-9189-7a4db7827a9b"
   },
   "outputs": [
    {
     "data": {
      "text/plain": [
       "<matplotlib.axes._subplots.AxesSubplot at 0x7f8e4df6c710>"
      ]
     },
     "execution_count": 79,
     "metadata": {
      "tags": []
     },
     "output_type": "execute_result"
    },
    {
     "data": {
      "image/png": "[encoded data removed]",
      "text/plain": [
       "<Figure size 432x288 with 1 Axes>"
      ]
     },
     "metadata": {
      "needs_background": "light",
      "tags": []
     },
     "output_type": "display_data"
    }
   ],
   "source": [
    "sns.histplot(x='credit', data=data, hue='car', kde=True)\n",
    "## 그나마 조금 3 그룹 별 Y/N에 차이 있음(?)"
   ]
  },
  {
   "cell_type": "code",
   "execution_count": null,
   "metadata": {
    "colab": {
     "base_uri": "https://localhost:8080/"
    },
    "id": "vCUOR4PxHXcp",
    "outputId": "b3925ef9-c2df-4fbc-a1c0-1715cccc4e9f"
   },
   "outputs": [
    {
     "data": {
      "text/plain": [
       "N    62.025173\n",
       "Y    37.974827\n",
       "Name: car, dtype: float64"
      ]
     },
     "execution_count": 80,
     "metadata": {
      "tags": []
     },
     "output_type": "execute_result"
    }
   ],
   "source": [
    "train['car'].value_counts(normalize=True)*100"
   ]
  },
  {
   "cell_type": "code",
   "execution_count": null,
   "metadata": {
    "colab": {
     "base_uri": "https://localhost:8080/"
    },
    "id": "bEi-P5JkHjGB",
    "outputId": "557e132e-c190-42f3-e871-0d990c700a86"
   },
   "outputs": [
    {
     "data": {
      "text/plain": [
       "N    62.02924\n",
       "Y    37.97076\n",
       "Name: car, dtype: float64"
      ]
     },
     "execution_count": 81,
     "metadata": {
      "tags": []
     },
     "output_type": "execute_result"
    }
   ],
   "source": [
    "data['car'].value_counts(normalize=True)*100"
   ]
  },
  {
   "cell_type": "code",
   "execution_count": null,
   "metadata": {
    "colab": {
     "base_uri": "https://localhost:8080/",
     "height": 295
    },
    "id": "0k-fFTGXHr0Q",
    "outputId": "30710617-07e6-4dc5-c31a-0030c736359d"
   },
   "outputs": [
    {
     "data": {
      "text/plain": [
       "<matplotlib.axes._subplots.AxesSubplot at 0x7f8e4de5fa90>"
      ]
     },
     "execution_count": 82,
     "metadata": {
      "tags": []
     },
     "output_type": "execute_result"
    },
    {
     "data": {
      "image/png": "[encoded data removed]",
      "text/plain": [
       "<Figure size 432x288 with 1 Axes>"
      ]
     },
     "metadata": {
      "needs_background": "light",
      "tags": []
     },
     "output_type": "display_data"
    }
   ],
   "source": [
    "sns.histplot(x='credit', data=data, hue='gender', kde=True)\n",
    "\n",
    "## 남/여 성비 차이가 큰 것에 비해 credit에서는 5:5 정도를 보임 (??)"
   ]
  },
  {
   "cell_type": "code",
   "execution_count": null,
   "metadata": {
    "colab": {
     "base_uri": "https://localhost:8080/"
    },
    "id": "6xc0w9sZIWvf",
    "outputId": "4c785755-6e47-4373-b36a-b55c18b71d8b"
   },
   "outputs": [
    {
     "data": {
      "text/plain": [
       "F    67.010451\n",
       "M    32.989549\n",
       "Name: gender, dtype: float64"
      ]
     },
     "execution_count": 85,
     "metadata": {
      "tags": []
     },
     "output_type": "execute_result"
    }
   ],
   "source": [
    "data['gender'].value_counts(normalize=True)*100"
   ]
  },
  {
   "cell_type": "code",
   "execution_count": null,
   "metadata": {
    "colab": {
     "base_uri": "https://localhost:8080/",
     "height": 295
    },
    "id": "HKf9STz2H6pF",
    "outputId": "ac9bbc75-ecc9-45b6-ebcb-bbded53eb732"
   },
   "outputs": [
    {
     "data": {
      "text/plain": [
       "<matplotlib.axes._subplots.AxesSubplot at 0x7f8e4dd25f90>"
      ]
     },
     "execution_count": 84,
     "metadata": {
      "tags": []
     },
     "output_type": "execute_result"
    },
    {
     "data": {
      "image/png": "[encoded data removed]",
      "text/plain": [
       "<Figure size 432x288 with 1 Axes>"
      ]
     },
     "metadata": {
      "needs_background": "light",
      "tags": []
     },
     "output_type": "display_data"
    }
   ],
   "source": [
    "sns.histplot(x='credit', data=data, hue='reality', kde=True)\n",
    "\n",
    "## 이것도 구성비 차이가 큰 것에 비해 credit에서는 5:5 정도를 보임 (??)"
   ]
  },
  {
   "cell_type": "code",
   "execution_count": null,
   "metadata": {
    "colab": {
     "base_uri": "https://localhost:8080/"
    },
    "id": "aXxrRmNCIlF2",
    "outputId": "8bf8ffd5-c230-45dd-f051-a9afde8e2795"
   },
   "outputs": [
    {
     "data": {
      "text/plain": [
       "Y    67.218915\n",
       "N    32.781085\n",
       "Name: reality, dtype: float64"
      ]
     },
     "execution_count": 86,
     "metadata": {
      "tags": []
     },
     "output_type": "execute_result"
    }
   ],
   "source": [
    "data['reality'].value_counts(normalize=True)*100"
   ]
  },
  {
   "cell_type": "code",
   "execution_count": null,
   "metadata": {
    "id": "nMKY-Rx05Ffz"
   },
   "outputs": [],
   "source": [
    "data=data.drop('occyp_type', axis=1)"
   ]
  },
  {
   "cell_type": "code",
   "execution_count": null,
   "metadata": {
    "id": "4nvJTlwU5Ffz",
    "outputId": "0095cfad-8c30-4bb7-ba7e-bf75195d0386"
   },
   "outputs": [
    {
     "data": {
      "text/plain": [
       "index                0\n",
       "gender               0\n",
       "car                  0\n",
       "reality              0\n",
       "child_num            0\n",
       "income_total         0\n",
       "income_type          0\n",
       "edu_type             0\n",
       "family_type          0\n",
       "house_type           0\n",
       "DAYS_BIRTH           0\n",
       "DAYS_EMPLOYED        0\n",
       "FLAG_MOBIL           0\n",
       "work_phone           0\n",
       "phone                0\n",
       "email                0\n",
       "family_size          0\n",
       "begin_month          0\n",
       "credit           10000\n",
       "dtype: int64"
      ]
     },
     "execution_count": 12,
     "metadata": {
      "tags": []
     },
     "output_type": "execute_result"
    }
   ],
   "source": [
    "data.isnull().sum()"
   ]
  },
  {
   "cell_type": "markdown",
   "metadata": {
    "id": "Ph5DOOFRI4-b"
   },
   "source": [
    "## 현재 float형인 'family_size'와 'begin_month'를 범주형 그룹별로 나누어보기 (추후)"
   ]
  },
  {
   "cell_type": "markdown",
   "metadata": {
    "id": "WLf8p5xm5Ffz"
   },
   "source": [
    "## **2. Binary variables**"
   ]
  },
  {
   "cell_type": "code",
   "execution_count": null,
   "metadata": {
    "colab": {
     "base_uri": "https://localhost:8080/"
    },
    "id": "3W9HFSPy5Ff0",
    "outputId": "f8d82a3a-84f2-48cf-f8d3-51c90001bd86"
   },
   "outputs": [
    {
     "name": "stdout",
     "output_type": "stream",
     "text": [
      "gender :\n",
      "0    24430\n",
      "1    12027\n",
      "Name: gender, dtype: int64\n",
      "--------------\n",
      "Having a car or not : \n",
      "0    22614\n",
      "1    13843\n",
      "Name: car, dtype: int64\n",
      "--------------\n",
      "Having house reality or not: \n",
      "1    24506\n",
      "0    11951\n",
      "Name: reality, dtype: int64\n",
      "--------------\n",
      "Having a phone or not: \n",
      "0    25709\n",
      "1    10748\n",
      "Name: phone, dtype: int64\n",
      "--------------\n",
      "Having a email or not: \n",
      "0    33186\n",
      "1     3271\n",
      "Name: email, dtype: int64\n",
      "--------------\n",
      "Having a work phone or not: \n",
      "0    28235\n",
      "1     8222\n",
      "Name: work_phone, dtype: int64\n",
      "--------------\n"
     ]
    }
   ],
   "source": [
    "data['gender'] = data['gender'].replace(['F','M'],[0,1])\n",
    "print('gender :')\n",
    "print(data['gender'].value_counts())\n",
    "print('--------------')\n",
    "\n",
    "print('Having a car or not : ')\n",
    "data['car'] = data['car'].replace(['N','Y'],[0,1])\n",
    "print(data['car'].value_counts())\n",
    "print('--------------')\n",
    "\n",
    "print('Having house reality or not: ')\n",
    "data['reality'] = data['reality'].replace(['N','Y'],[0,1])\n",
    "print(data['reality'].value_counts())\n",
    "print('--------------')\n",
    "      \n",
    "print('Having a phone or not: ')\n",
    "print(data['phone'].value_counts())\n",
    "print('--------------')\n",
    "      \n",
    "\n",
    "print('Having a email or not: ')\n",
    "print(data['email'].value_counts())\n",
    "print('--------------')\n",
    "      \n",
    "\n",
    "print('Having a work phone or not: ')\n",
    "print(data['work_phone'].value_counts())\n",
    "print('--------------')"
   ]
  },
  {
   "cell_type": "markdown",
   "metadata": {
    "id": "azz3mQLZ5Ff0"
   },
   "source": [
    "## **3. Continuous variable**"
   ]
  },
  {
   "cell_type": "markdown",
   "metadata": {
    "id": "AdrdH-L-5Ff1"
   },
   "source": [
    "### (1) child_num"
   ]
  },
  {
   "cell_type": "code",
   "execution_count": null,
   "metadata": {
    "colab": {
     "base_uri": "https://localhost:8080/",
     "height": 284
    },
    "id": "JV7rwVJf5Ff1",
    "outputId": "64ad43a8-8c67-402a-bb4f-aa66093335b2"
   },
   "outputs": [
    {
     "data": {
      "text/plain": [
       "<matplotlib.axes._subplots.AxesSubplot at 0x7f8e4db99d90>"
      ]
     },
     "execution_count": 88,
     "metadata": {
      "tags": []
     },
     "output_type": "execute_result"
    },
    {
     "data": {
      "image/png": "[encoded data removed]",
      "text/plain": [
       "<Figure size 432x288 with 1 Axes>"
      ]
     },
     "metadata": {
      "needs_background": "light",
      "tags": []
     },
     "output_type": "display_data"
    }
   ],
   "source": [
    "data['child_num'].value_counts(sort=False).plot.bar()"
   ]
  },
  {
   "cell_type": "code",
   "execution_count": null,
   "metadata": {
    "id": "gYwW8qPB5Ff2"
   },
   "outputs": [],
   "source": [
    "data.loc[data['child_num'] >= 2,'child_num']=2"
   ]
  },
  {
   "cell_type": "markdown",
   "metadata": {
    "id": "lm_ELNfv5Ff4"
   },
   "source": [
    "### (2) inc"
   ]
  },
  {
   "cell_type": "code",
   "execution_count": null,
   "metadata": {
    "colab": {
     "base_uri": "https://localhost:8080/",
     "height": 464
    },
    "id": "SVkwja_l5Ff4",
    "outputId": "a77f51d1-25f1-4da1-e814-35071e827a84"
   },
   "outputs": [
    {
     "name": "stdout",
     "output_type": "stream",
     "text": [
      "(2.544, 18.18]      22460\n",
      "(18.18, 33.66]      11380\n",
      "(33.66, 49.14]       2099\n",
      "(49.14, 64.62]        274\n",
      "(64.62, 80.1]         165\n",
      "(80.1, 95.58]          58\n",
      "(95.58, 111.06]         4\n",
      "(111.06, 126.54]        3\n",
      "(126.54, 142.02]        6\n",
      "(142.02, 157.5]         8\n",
      "Name: income_total, dtype: int64\n"
     ]
    },
    {
     "data": {
      "text/plain": [
       "<matplotlib.axes._subplots.AxesSubplot at 0x7f8e4dab48d0>"
      ]
     },
     "execution_count": 90,
     "metadata": {
      "tags": []
     },
     "output_type": "execute_result"
    },
    {
     "data": {
      "image/png": "[encoded data removed]",
      "text/plain": [
       "<Figure size 432x288 with 1 Axes>"
      ]
     },
     "metadata": {
      "needs_background": "light",
      "tags": []
     },
     "output_type": "display_data"
    }
   ],
   "source": [
    "data['income_total'] = data['income_total'].astype(object)\n",
    "data['income_total'] = data['income_total']/10000 \n",
    "print(data['income_total'].value_counts(bins=10,sort=False))\n",
    "data['income_total'].plot(kind='hist',bins=50,density=True)"
   ]
  },
  {
   "cell_type": "code",
   "execution_count": null,
   "metadata": {
    "id": "i6j5Z6zY5Ff7"
   },
   "outputs": [],
   "source": [
    "count, bin_dividers =np.histogram(data['income_total'], bins=7)\n",
    "bin_names=['소득'+str(i) for i in range(7) ]\n",
    "data['income_total']=pd.cut(x=data['income_total'], bins=bin_dividers, labels=bin_names, include_lowest=True)"
   ]
  },
  {
   "cell_type": "markdown",
   "metadata": {
    "id": "_5SYG1Y75Ff-"
   },
   "source": [
    "### **(3) Type**"
   ]
  },
  {
   "cell_type": "code",
   "execution_count": null,
   "metadata": {
    "colab": {
     "base_uri": "https://localhost:8080/"
    },
    "id": "QF6t15Xp5Ff_",
    "outputId": "a7b23a24-c1a6-4986-9cbd-a577722f8534"
   },
   "outputs": [
    {
     "name": "stdout",
     "output_type": "stream",
     "text": [
      "['Commercial associate' 'Working' 'State servant' 'Pensioner' 'Student']\n",
      "['Higher education' 'Secondary / secondary special' 'Incomplete higher'\n",
      " 'Lower secondary' 'Academic degree']\n",
      "['Married' 'Civil marriage' 'Separated' 'Single / not married' 'Widow']\n",
      "['Municipal apartment' 'House / apartment' 'With parents'\n",
      " 'Co-op apartment' 'Rented apartment' 'Office apartment']\n"
     ]
    }
   ],
   "source": [
    "print(data['income_type'].unique())\n",
    "print(data['edu_type'].unique())\n",
    "print(data['family_type'].unique())\n",
    "print(data['house_type'].unique())"
   ]
  },
  {
   "cell_type": "code",
   "execution_count": null,
   "metadata": {
    "id": "Nx6jDlSU5FgA"
   },
   "outputs": [],
   "source": [
    "from sklearn import preprocessing\n",
    "label_encoder=preprocessing.LabelEncoder()\n",
    "data['income_type']=label_encoder.fit_transform(data['income_type'])\n",
    "data['edu_type']=label_encoder.fit_transform(data['edu_type'])\n",
    "data['family_type']=label_encoder.fit_transform(data['family_type'])\n",
    "data['house_type']=label_encoder.fit_transform(data['house_type'])\n",
    "data['income_total']=label_encoder.fit_transform(data['income_total'])"
   ]
  },
  {
   "cell_type": "markdown",
   "metadata": {
    "id": "oZb6pURz5FgA"
   },
   "source": [
    "## **4. Minus continuous variable**"
   ]
  },
  {
   "cell_type": "code",
   "execution_count": null,
   "metadata": {
    "id": "rjBfTNUC5FgB"
   },
   "outputs": [],
   "source": [
    "#minus 변경하고\n",
    "#구간화 함수\n",
    "def make_bin(variable, n):\n",
    "    data[variable]=-data[variable]\n",
    "    count, bin_dividers =np.histogram(data[variable], bins=n)\n",
    "    bin_names=[str(i) for i in range(n)]\n",
    "    data[variable]=pd.cut(x=data[variable], bins=bin_dividers, labels=bin_names, include_lowest=True)\n",
    "    data[variable]=label_encoder.fit_transform(data[variable])"
   ]
  },
  {
   "cell_type": "code",
   "execution_count": null,
   "metadata": {
    "colab": {
     "base_uri": "https://localhost:8080/"
    },
    "id": "r6e34PyJ5FgB",
    "outputId": "b945c417-b750-4722-e6a9-050f1d74672c"
   },
   "outputs": [
    {
     "data": {
      "text/plain": [
       "Index(['index', 'gender', 'car', 'reality', 'child_num', 'income_total',\n",
       "       'income_type', 'edu_type', 'family_type', 'house_type', 'DAYS_BIRTH',\n",
       "       'DAYS_EMPLOYED', 'FLAG_MOBIL', 'work_phone', 'phone', 'email',\n",
       "       'family_size', 'begin_month', 'credit'],\n",
       "      dtype='object')"
      ]
     },
     "execution_count": 95,
     "metadata": {
      "tags": []
     },
     "output_type": "execute_result"
    }
   ],
   "source": [
    "data.columns"
   ]
  },
  {
   "cell_type": "code",
   "execution_count": null,
   "metadata": {
    "id": "j59GcTnc5FgB"
   },
   "outputs": [],
   "source": [
    "make_bin('DAYS_BIRTH', n=10)\n",
    "make_bin('DAYS_EMPLOYED', n=6)\n",
    "make_bin('begin_month', n=4)"
   ]
  },
  {
   "cell_type": "code",
   "execution_count": null,
   "metadata": {
    "colab": {
     "base_uri": "https://localhost:8080/",
     "height": 426
    },
    "id": "H7ekJywx5FgC",
    "outputId": "21185447-b1f7-433b-d6bb-38cc3a115e1d"
   },
   "outputs": [
    {
     "data": {
      "text/html": [
       "<div>\n",
       "<style scoped>\n",
       "    .dataframe tbody tr th:only-of-type {\n",
       "        vertical-align: middle;\n",
       "    }\n",
       "\n",
       "    .dataframe tbody tr th {\n",
       "        vertical-align: top;\n",
       "    }\n",
       "\n",
       "    .dataframe thead th {\n",
       "        text-align: right;\n",
       "    }\n",
       "</style>\n",
       "<table border=\"1\" class=\"dataframe\">\n",
       "  <thead>\n",
       "    <tr style=\"text-align: right;\">\n",
       "      <th></th>\n",
       "      <th>index</th>\n",
       "      <th>gender</th>\n",
       "      <th>car</th>\n",
       "      <th>reality</th>\n",
       "      <th>child_num</th>\n",
       "      <th>income_total</th>\n",
       "      <th>income_type</th>\n",
       "      <th>edu_type</th>\n",
       "      <th>family_type</th>\n",
       "      <th>house_type</th>\n",
       "      <th>DAYS_BIRTH</th>\n",
       "      <th>DAYS_EMPLOYED</th>\n",
       "      <th>FLAG_MOBIL</th>\n",
       "      <th>work_phone</th>\n",
       "      <th>phone</th>\n",
       "      <th>email</th>\n",
       "      <th>family_size</th>\n",
       "      <th>begin_month</th>\n",
       "      <th>credit</th>\n",
       "    </tr>\n",
       "  </thead>\n",
       "  <tbody>\n",
       "    <tr>\n",
       "      <th>0</th>\n",
       "      <td>0</td>\n",
       "      <td>0</td>\n",
       "      <td>0</td>\n",
       "      <td>0</td>\n",
       "      <td>0</td>\n",
       "      <td>0</td>\n",
       "      <td>0</td>\n",
       "      <td>1</td>\n",
       "      <td>1</td>\n",
       "      <td>2</td>\n",
       "      <td>3</td>\n",
       "      <td>0</td>\n",
       "      <td>1</td>\n",
       "      <td>0</td>\n",
       "      <td>0</td>\n",
       "      <td>0</td>\n",
       "      <td>2.0</td>\n",
       "      <td>0</td>\n",
       "      <td>1.0</td>\n",
       "    </tr>\n",
       "    <tr>\n",
       "      <th>1</th>\n",
       "      <td>1</td>\n",
       "      <td>0</td>\n",
       "      <td>0</td>\n",
       "      <td>1</td>\n",
       "      <td>1</td>\n",
       "      <td>0</td>\n",
       "      <td>0</td>\n",
       "      <td>4</td>\n",
       "      <td>0</td>\n",
       "      <td>1</td>\n",
       "      <td>2</td>\n",
       "      <td>0</td>\n",
       "      <td>1</td>\n",
       "      <td>0</td>\n",
       "      <td>0</td>\n",
       "      <td>1</td>\n",
       "      <td>3.0</td>\n",
       "      <td>0</td>\n",
       "      <td>1.0</td>\n",
       "    </tr>\n",
       "    <tr>\n",
       "      <th>2</th>\n",
       "      <td>2</td>\n",
       "      <td>1</td>\n",
       "      <td>1</td>\n",
       "      <td>1</td>\n",
       "      <td>0</td>\n",
       "      <td>1</td>\n",
       "      <td>4</td>\n",
       "      <td>1</td>\n",
       "      <td>1</td>\n",
       "      <td>1</td>\n",
       "      <td>6</td>\n",
       "      <td>0</td>\n",
       "      <td>1</td>\n",
       "      <td>0</td>\n",
       "      <td>1</td>\n",
       "      <td>0</td>\n",
       "      <td>2.0</td>\n",
       "      <td>1</td>\n",
       "      <td>2.0</td>\n",
       "    </tr>\n",
       "    <tr>\n",
       "      <th>3</th>\n",
       "      <td>3</td>\n",
       "      <td>0</td>\n",
       "      <td>0</td>\n",
       "      <td>1</td>\n",
       "      <td>0</td>\n",
       "      <td>0</td>\n",
       "      <td>0</td>\n",
       "      <td>4</td>\n",
       "      <td>1</td>\n",
       "      <td>1</td>\n",
       "      <td>4</td>\n",
       "      <td>0</td>\n",
       "      <td>1</td>\n",
       "      <td>0</td>\n",
       "      <td>1</td>\n",
       "      <td>0</td>\n",
       "      <td>2.0</td>\n",
       "      <td>2</td>\n",
       "      <td>0.0</td>\n",
       "    </tr>\n",
       "    <tr>\n",
       "      <th>4</th>\n",
       "      <td>4</td>\n",
       "      <td>0</td>\n",
       "      <td>1</td>\n",
       "      <td>1</td>\n",
       "      <td>0</td>\n",
       "      <td>0</td>\n",
       "      <td>2</td>\n",
       "      <td>1</td>\n",
       "      <td>1</td>\n",
       "      <td>1</td>\n",
       "      <td>4</td>\n",
       "      <td>0</td>\n",
       "      <td>1</td>\n",
       "      <td>0</td>\n",
       "      <td>0</td>\n",
       "      <td>0</td>\n",
       "      <td>2.0</td>\n",
       "      <td>1</td>\n",
       "      <td>2.0</td>\n",
       "    </tr>\n",
       "    <tr>\n",
       "      <th>...</th>\n",
       "      <td>...</td>\n",
       "      <td>...</td>\n",
       "      <td>...</td>\n",
       "      <td>...</td>\n",
       "      <td>...</td>\n",
       "      <td>...</td>\n",
       "      <td>...</td>\n",
       "      <td>...</td>\n",
       "      <td>...</td>\n",
       "      <td>...</td>\n",
       "      <td>...</td>\n",
       "      <td>...</td>\n",
       "      <td>...</td>\n",
       "      <td>...</td>\n",
       "      <td>...</td>\n",
       "      <td>...</td>\n",
       "      <td>...</td>\n",
       "      <td>...</td>\n",
       "      <td>...</td>\n",
       "    </tr>\n",
       "    <tr>\n",
       "      <th>9995</th>\n",
       "      <td>36452</td>\n",
       "      <td>0</td>\n",
       "      <td>1</td>\n",
       "      <td>1</td>\n",
       "      <td>0</td>\n",
       "      <td>0</td>\n",
       "      <td>4</td>\n",
       "      <td>2</td>\n",
       "      <td>1</td>\n",
       "      <td>1</td>\n",
       "      <td>6</td>\n",
       "      <td>0</td>\n",
       "      <td>1</td>\n",
       "      <td>1</td>\n",
       "      <td>1</td>\n",
       "      <td>0</td>\n",
       "      <td>2.0</td>\n",
       "      <td>1</td>\n",
       "      <td>NaN</td>\n",
       "    </tr>\n",
       "    <tr>\n",
       "      <th>9996</th>\n",
       "      <td>36453</td>\n",
       "      <td>1</td>\n",
       "      <td>1</td>\n",
       "      <td>1</td>\n",
       "      <td>0</td>\n",
       "      <td>0</td>\n",
       "      <td>4</td>\n",
       "      <td>4</td>\n",
       "      <td>0</td>\n",
       "      <td>1</td>\n",
       "      <td>1</td>\n",
       "      <td>0</td>\n",
       "      <td>1</td>\n",
       "      <td>1</td>\n",
       "      <td>0</td>\n",
       "      <td>0</td>\n",
       "      <td>2.0</td>\n",
       "      <td>2</td>\n",
       "      <td>NaN</td>\n",
       "    </tr>\n",
       "    <tr>\n",
       "      <th>9997</th>\n",
       "      <td>36454</td>\n",
       "      <td>0</td>\n",
       "      <td>0</td>\n",
       "      <td>1</td>\n",
       "      <td>0</td>\n",
       "      <td>1</td>\n",
       "      <td>4</td>\n",
       "      <td>4</td>\n",
       "      <td>1</td>\n",
       "      <td>1</td>\n",
       "      <td>7</td>\n",
       "      <td>0</td>\n",
       "      <td>1</td>\n",
       "      <td>0</td>\n",
       "      <td>0</td>\n",
       "      <td>0</td>\n",
       "      <td>2.0</td>\n",
       "      <td>3</td>\n",
       "      <td>NaN</td>\n",
       "    </tr>\n",
       "    <tr>\n",
       "      <th>9998</th>\n",
       "      <td>36455</td>\n",
       "      <td>0</td>\n",
       "      <td>1</td>\n",
       "      <td>0</td>\n",
       "      <td>0</td>\n",
       "      <td>0</td>\n",
       "      <td>0</td>\n",
       "      <td>4</td>\n",
       "      <td>1</td>\n",
       "      <td>1</td>\n",
       "      <td>5</td>\n",
       "      <td>0</td>\n",
       "      <td>1</td>\n",
       "      <td>0</td>\n",
       "      <td>1</td>\n",
       "      <td>0</td>\n",
       "      <td>2.0</td>\n",
       "      <td>2</td>\n",
       "      <td>NaN</td>\n",
       "    </tr>\n",
       "    <tr>\n",
       "      <th>9999</th>\n",
       "      <td>36456</td>\n",
       "      <td>0</td>\n",
       "      <td>0</td>\n",
       "      <td>1</td>\n",
       "      <td>0</td>\n",
       "      <td>1</td>\n",
       "      <td>4</td>\n",
       "      <td>1</td>\n",
       "      <td>1</td>\n",
       "      <td>1</td>\n",
       "      <td>0</td>\n",
       "      <td>0</td>\n",
       "      <td>1</td>\n",
       "      <td>0</td>\n",
       "      <td>0</td>\n",
       "      <td>1</td>\n",
       "      <td>2.0</td>\n",
       "      <td>0</td>\n",
       "      <td>NaN</td>\n",
       "    </tr>\n",
       "  </tbody>\n",
       "</table>\n",
       "<p>36457 rows × 19 columns</p>\n",
       "</div>"
      ],
      "text/plain": [
       "      index  gender  car  reality  ...  email  family_size  begin_month  credit\n",
       "0         0       0    0        0  ...      0          2.0            0     1.0\n",
       "1         1       0    0        1  ...      1          3.0            0     1.0\n",
       "2         2       1    1        1  ...      0          2.0            1     2.0\n",
       "3         3       0    0        1  ...      0          2.0            2     0.0\n",
       "4         4       0    1        1  ...      0          2.0            1     2.0\n",
       "...     ...     ...  ...      ...  ...    ...          ...          ...     ...\n",
       "9995  36452       0    1        1  ...      0          2.0            1     NaN\n",
       "9996  36453       1    1        1  ...      0          2.0            2     NaN\n",
       "9997  36454       0    0        1  ...      0          2.0            3     NaN\n",
       "9998  36455       0    1        0  ...      0          2.0            2     NaN\n",
       "9999  36456       0    0        1  ...      1          2.0            0     NaN\n",
       "\n",
       "[36457 rows x 19 columns]"
      ]
     },
     "execution_count": 97,
     "metadata": {
      "tags": []
     },
     "output_type": "execute_result"
    }
   ],
   "source": [
    "data"
   ]
  },
  {
   "cell_type": "markdown",
   "metadata": {
    "id": "5Xf1tPb35FgC"
   },
   "source": [
    "# **[데이터 모델링]**"
   ]
  },
  {
   "cell_type": "code",
   "execution_count": null,
   "metadata": {
    "colab": {
     "base_uri": "https://localhost:8080/"
    },
    "id": "R5fO84Z25FgC",
    "outputId": "a4e2a612-df1b-4cfb-c616-c64ba8948ed7"
   },
   "outputs": [
    {
     "data": {
      "text/plain": [
       "36457"
      ]
     },
     "execution_count": 98,
     "metadata": {
      "tags": []
     },
     "output_type": "execute_result"
    }
   ],
   "source": [
    "len(data)"
   ]
  },
  {
   "cell_type": "code",
   "execution_count": null,
   "metadata": {
    "id": "4npj9uZU5FgD"
   },
   "outputs": [],
   "source": [
    "train=data[:len(data)-10000]\n",
    "test=data[len(data)-10000:]"
   ]
  },
  {
   "cell_type": "code",
   "execution_count": null,
   "metadata": {
    "colab": {
     "base_uri": "https://localhost:8080/"
    },
    "id": "takSiUHm5FgD",
    "outputId": "bf67c9b2-be84-4c72-88af-db5ae18eb1dc"
   },
   "outputs": [
    {
     "data": {
      "text/plain": [
       "(26457, 19)"
      ]
     },
     "execution_count": 100,
     "metadata": {
      "tags": []
     },
     "output_type": "execute_result"
    }
   ],
   "source": [
    "train.shape"
   ]
  },
  {
   "cell_type": "code",
   "execution_count": null,
   "metadata": {
    "colab": {
     "base_uri": "https://localhost:8080/"
    },
    "id": "Jl05IoLm5FgD",
    "outputId": "0ad09a03-e9bf-43b7-8bed-5289c6087395"
   },
   "outputs": [
    {
     "data": {
      "text/plain": [
       "(10000, 19)"
      ]
     },
     "execution_count": 101,
     "metadata": {
      "tags": []
     },
     "output_type": "execute_result"
    }
   ],
   "source": [
    "test.shape"
   ]
  },
  {
   "cell_type": "code",
   "execution_count": null,
   "metadata": {
    "id": "i7wLxQ5D5FgE"
   },
   "outputs": [],
   "source": [
    "train_x=train.drop('credit', axis=1)\n",
    "train_y=train[['credit']]\n",
    "test_x=test.drop('credit', axis=1)"
   ]
  },
  {
   "cell_type": "code",
   "execution_count": null,
   "metadata": {
    "colab": {
     "base_uri": "https://localhost:8080/"
    },
    "id": "4yfBPjVx5FgE",
    "outputId": "2058fd91-d3ba-4c96-9ec9-a7300e968d9f"
   },
   "outputs": [
    {
     "name": "stdout",
     "output_type": "stream",
     "text": [
      "(26457, 18) (26457, 1) (10000, 18)\n"
     ]
    }
   ],
   "source": [
    "print(train_x.shape, train_y.shape, test_x.shape)"
   ]
  },
  {
   "cell_type": "code",
   "execution_count": null,
   "metadata": {
    "colab": {
     "base_uri": "https://localhost:8080/"
    },
    "id": "qaLtB_me5FgF",
    "outputId": "a0898468-f1f9-4b20-d3b2-fa81139f3dfa"
   },
   "outputs": [
    {
     "name": "stdout",
     "output_type": "stream",
     "text": [
      "Train set: \n",
      "(19842, 18)\n",
      "(19842, 1)\n",
      "===========\n",
      "Validation set: \n",
      "(6615, 18)\n",
      "(6615, 1)\n",
      "log_loss: 1.0216846496807834\n"
     ]
    }
   ],
   "source": [
    "from sklearn.ensemble import RandomForestClassifier\n",
    "from sklearn.metrics import accuracy_score, log_loss\n",
    "from sklearn.metrics import f1_score\n",
    "from tensorflow.keras.utils import to_categorical\n",
    "\n",
    "X_train, X_val, y_train, y_val = train_test_split(train_x, train_y, \n",
    "                                                    stratify=train_y, test_size=0.25,\n",
    "                                                    random_state = 10086)\n",
    "\n",
    "print(\"Train set: \")\n",
    "print(X_train.shape)\n",
    "print(y_train.shape)\n",
    "print(\"===========\")\n",
    "print(\"Validation set: \")\n",
    "print(X_val.shape)\n",
    "print(y_val.shape)\n",
    "\n",
    "\n",
    "clf=RandomForestClassifier()\n",
    "clf.fit(X_train, y_train)\n",
    "y_pred=clf.predict_proba(X_val)\n",
    "\n",
    "print(f\"log_loss: {log_loss(to_categorical(y_val['credit']), y_pred)}\")"
   ]
  },
  {
   "cell_type": "code",
   "execution_count": null,
   "metadata": {
    "colab": {
     "base_uri": "https://localhost:8080/"
    },
    "id": "Y3e8mLTJ5FgF",
    "outputId": "ae81938c-4ba1-4895-fedf-bf41f7845faa"
   },
   "outputs": [
    {
     "name": "stdout",
     "output_type": "stream",
     "text": [
      "FOLD 0 : logloss:1.0333140740044047\n",
      "FOLD 1 : logloss:1.0226850625498909\n",
      "FOLD 2 : logloss:1.095757138167665\n",
      "FOLD 3 : logloss:1.0225988242866917\n",
      "FOLD 4 : logloss:1.1030794873676764\n",
      "Mean:1.0554869172752657\n"
     ]
    }
   ],
   "source": [
    "from sklearn.model_selection import KFold, StratifiedKFold\n",
    "\n",
    "def run_kfold(clf):\n",
    "    folds=StratifiedKFold(n_splits=5, shuffle=True, random_state=55)\n",
    "    outcomes=[]\n",
    "    sub=np.zeros((test_x.shape[0], 3))  \n",
    "    for n_fold, (train_index, val_index) in enumerate(folds.split(train_x, train_y)):\n",
    "        X_train, X_val = train_x.iloc[train_index], train_x.iloc[val_index]\n",
    "        y_train, y_val = train_y.iloc[train_index], train_y.iloc[val_index]\n",
    "        clf.fit(X_train, y_train)\n",
    "        \n",
    "        predictions=clf.predict_proba(X_val)\n",
    "        \n",
    "        logloss=log_loss(to_categorical(y_val['credit']), predictions)\n",
    "        outcomes.append(logloss)\n",
    "        print(f\"FOLD {n_fold} : logloss:{logloss}\")\n",
    "        \n",
    "        sub+=clf.predict_proba(test_x)\n",
    "        \n",
    "        \n",
    "    mean_outcome=np.mean(outcomes)\n",
    "    \n",
    "    print(\"Mean:{}\".format(mean_outcome))\n",
    "    return sub/folds.n_splits\n",
    "\n",
    "my_submission = run_kfold(clf)"
   ]
  },
  {
   "cell_type": "code",
   "execution_count": null,
   "metadata": {
    "colab": {
     "base_uri": "https://localhost:8080/"
    },
    "id": "CZwIwtkY5FgG",
    "outputId": "c3beaabf-ded8-473f-8068-cf767057a244"
   },
   "outputs": [
    {
     "data": {
      "text/plain": [
       "array([[0.106, 0.178, 0.716],\n",
       "       [0.09 , 0.254, 0.656],\n",
       "       [0.066, 0.28 , 0.654],\n",
       "       ...,\n",
       "       [0.058, 0.126, 0.816],\n",
       "       [0.112, 0.372, 0.516],\n",
       "       [0.132, 0.378, 0.49 ]])"
      ]
     },
     "execution_count": 106,
     "metadata": {
      "tags": []
     },
     "output_type": "execute_result"
    }
   ],
   "source": [
    "my_submission"
   ]
  },
  {
   "cell_type": "code",
   "execution_count": null,
   "metadata": {
    "colab": {
     "base_uri": "https://localhost:8080/",
     "height": 406
    },
    "id": "Y5Z2GQZ_5FgH",
    "outputId": "adde1dfd-5d69-466e-ff72-3751002c1a7c"
   },
   "outputs": [
    {
     "data": {
      "text/html": [
       "<div>\n",
       "<style scoped>\n",
       "    .dataframe tbody tr th:only-of-type {\n",
       "        vertical-align: middle;\n",
       "    }\n",
       "\n",
       "    .dataframe tbody tr th {\n",
       "        vertical-align: top;\n",
       "    }\n",
       "\n",
       "    .dataframe thead th {\n",
       "        text-align: right;\n",
       "    }\n",
       "</style>\n",
       "<table border=\"1\" class=\"dataframe\">\n",
       "  <thead>\n",
       "    <tr style=\"text-align: right;\">\n",
       "      <th></th>\n",
       "      <th>index</th>\n",
       "      <th>0</th>\n",
       "      <th>1</th>\n",
       "      <th>2</th>\n",
       "    </tr>\n",
       "  </thead>\n",
       "  <tbody>\n",
       "    <tr>\n",
       "      <th>0</th>\n",
       "      <td>26457</td>\n",
       "      <td>0</td>\n",
       "      <td>0</td>\n",
       "      <td>0</td>\n",
       "    </tr>\n",
       "    <tr>\n",
       "      <th>1</th>\n",
       "      <td>26458</td>\n",
       "      <td>0</td>\n",
       "      <td>0</td>\n",
       "      <td>0</td>\n",
       "    </tr>\n",
       "    <tr>\n",
       "      <th>2</th>\n",
       "      <td>26459</td>\n",
       "      <td>0</td>\n",
       "      <td>0</td>\n",
       "      <td>0</td>\n",
       "    </tr>\n",
       "    <tr>\n",
       "      <th>3</th>\n",
       "      <td>26460</td>\n",
       "      <td>0</td>\n",
       "      <td>0</td>\n",
       "      <td>0</td>\n",
       "    </tr>\n",
       "    <tr>\n",
       "      <th>4</th>\n",
       "      <td>26461</td>\n",
       "      <td>0</td>\n",
       "      <td>0</td>\n",
       "      <td>0</td>\n",
       "    </tr>\n",
       "    <tr>\n",
       "      <th>...</th>\n",
       "      <td>...</td>\n",
       "      <td>...</td>\n",
       "      <td>...</td>\n",
       "      <td>...</td>\n",
       "    </tr>\n",
       "    <tr>\n",
       "      <th>9995</th>\n",
       "      <td>36452</td>\n",
       "      <td>0</td>\n",
       "      <td>0</td>\n",
       "      <td>0</td>\n",
       "    </tr>\n",
       "    <tr>\n",
       "      <th>9996</th>\n",
       "      <td>36453</td>\n",
       "      <td>0</td>\n",
       "      <td>0</td>\n",
       "      <td>0</td>\n",
       "    </tr>\n",
       "    <tr>\n",
       "      <th>9997</th>\n",
       "      <td>36454</td>\n",
       "      <td>0</td>\n",
       "      <td>0</td>\n",
       "      <td>0</td>\n",
       "    </tr>\n",
       "    <tr>\n",
       "      <th>9998</th>\n",
       "      <td>36455</td>\n",
       "      <td>0</td>\n",
       "      <td>0</td>\n",
       "      <td>0</td>\n",
       "    </tr>\n",
       "    <tr>\n",
       "      <th>9999</th>\n",
       "      <td>36456</td>\n",
       "      <td>0</td>\n",
       "      <td>0</td>\n",
       "      <td>0</td>\n",
       "    </tr>\n",
       "  </tbody>\n",
       "</table>\n",
       "<p>10000 rows × 4 columns</p>\n",
       "</div>"
      ],
      "text/plain": [
       "      index  0  1  2\n",
       "0     26457  0  0  0\n",
       "1     26458  0  0  0\n",
       "2     26459  0  0  0\n",
       "3     26460  0  0  0\n",
       "4     26461  0  0  0\n",
       "...     ... .. .. ..\n",
       "9995  36452  0  0  0\n",
       "9996  36453  0  0  0\n",
       "9997  36454  0  0  0\n",
       "9998  36455  0  0  0\n",
       "9999  36456  0  0  0\n",
       "\n",
       "[10000 rows x 4 columns]"
      ]
     },
     "execution_count": 107,
     "metadata": {
      "tags": []
     },
     "output_type": "execute_result"
    }
   ],
   "source": [
    "submission"
   ]
  },
  {
   "cell_type": "code",
   "execution_count": null,
   "metadata": {
    "id": "70A5i9LY5FgH"
   },
   "outputs": [],
   "source": [
    "submission.loc[:,1:]=my_submission"
   ]
  },
  {
   "cell_type": "code",
   "execution_count": null,
   "metadata": {
    "colab": {
     "base_uri": "https://localhost:8080/",
     "height": 406
    },
    "id": "W_zoaJl05FgH",
    "outputId": "b109a016-2aa5-49b3-e69e-54d99e614f8e"
   },
   "outputs": [
    {
     "data": {
      "text/html": [
       "<div>\n",
       "<style scoped>\n",
       "    .dataframe tbody tr th:only-of-type {\n",
       "        vertical-align: middle;\n",
       "    }\n",
       "\n",
       "    .dataframe tbody tr th {\n",
       "        vertical-align: top;\n",
       "    }\n",
       "\n",
       "    .dataframe thead th {\n",
       "        text-align: right;\n",
       "    }\n",
       "</style>\n",
       "<table border=\"1\" class=\"dataframe\">\n",
       "  <thead>\n",
       "    <tr style=\"text-align: right;\">\n",
       "      <th></th>\n",
       "      <th>index</th>\n",
       "      <th>0</th>\n",
       "      <th>1</th>\n",
       "      <th>2</th>\n",
       "    </tr>\n",
       "  </thead>\n",
       "  <tbody>\n",
       "    <tr>\n",
       "      <th>0</th>\n",
       "      <td>26457</td>\n",
       "      <td>0.106</td>\n",
       "      <td>0.178</td>\n",
       "      <td>0.716</td>\n",
       "    </tr>\n",
       "    <tr>\n",
       "      <th>1</th>\n",
       "      <td>26458</td>\n",
       "      <td>0.090</td>\n",
       "      <td>0.254</td>\n",
       "      <td>0.656</td>\n",
       "    </tr>\n",
       "    <tr>\n",
       "      <th>2</th>\n",
       "      <td>26459</td>\n",
       "      <td>0.066</td>\n",
       "      <td>0.280</td>\n",
       "      <td>0.654</td>\n",
       "    </tr>\n",
       "    <tr>\n",
       "      <th>3</th>\n",
       "      <td>26460</td>\n",
       "      <td>0.100</td>\n",
       "      <td>0.198</td>\n",
       "      <td>0.702</td>\n",
       "    </tr>\n",
       "    <tr>\n",
       "      <th>4</th>\n",
       "      <td>26461</td>\n",
       "      <td>0.136</td>\n",
       "      <td>0.376</td>\n",
       "      <td>0.488</td>\n",
       "    </tr>\n",
       "    <tr>\n",
       "      <th>...</th>\n",
       "      <td>...</td>\n",
       "      <td>...</td>\n",
       "      <td>...</td>\n",
       "      <td>...</td>\n",
       "    </tr>\n",
       "    <tr>\n",
       "      <th>9995</th>\n",
       "      <td>36452</td>\n",
       "      <td>0.134</td>\n",
       "      <td>0.322</td>\n",
       "      <td>0.544</td>\n",
       "    </tr>\n",
       "    <tr>\n",
       "      <th>9996</th>\n",
       "      <td>36453</td>\n",
       "      <td>0.190</td>\n",
       "      <td>0.350</td>\n",
       "      <td>0.460</td>\n",
       "    </tr>\n",
       "    <tr>\n",
       "      <th>9997</th>\n",
       "      <td>36454</td>\n",
       "      <td>0.058</td>\n",
       "      <td>0.126</td>\n",
       "      <td>0.816</td>\n",
       "    </tr>\n",
       "    <tr>\n",
       "      <th>9998</th>\n",
       "      <td>36455</td>\n",
       "      <td>0.112</td>\n",
       "      <td>0.372</td>\n",
       "      <td>0.516</td>\n",
       "    </tr>\n",
       "    <tr>\n",
       "      <th>9999</th>\n",
       "      <td>36456</td>\n",
       "      <td>0.132</td>\n",
       "      <td>0.378</td>\n",
       "      <td>0.490</td>\n",
       "    </tr>\n",
       "  </tbody>\n",
       "</table>\n",
       "<p>10000 rows × 4 columns</p>\n",
       "</div>"
      ],
      "text/plain": [
       "      index      0      1      2\n",
       "0     26457  0.106  0.178  0.716\n",
       "1     26458  0.090  0.254  0.656\n",
       "2     26459  0.066  0.280  0.654\n",
       "3     26460  0.100  0.198  0.702\n",
       "4     26461  0.136  0.376  0.488\n",
       "...     ...    ...    ...    ...\n",
       "9995  36452  0.134  0.322  0.544\n",
       "9996  36453  0.190  0.350  0.460\n",
       "9997  36454  0.058  0.126  0.816\n",
       "9998  36455  0.112  0.372  0.516\n",
       "9999  36456  0.132  0.378  0.490\n",
       "\n",
       "[10000 rows x 4 columns]"
      ]
     },
     "execution_count": 109,
     "metadata": {
      "tags": []
     },
     "output_type": "execute_result"
    }
   ],
   "source": [
    "submission"
   ]
  },
  {
   "cell_type": "code",
   "execution_count": null,
   "metadata": {
    "id": "Xh0fFStK5FgI"
   },
   "outputs": [],
   "source": [
    "##os.chdir('../baseline')"
   ]
  },
  {
   "cell_type": "code",
   "execution_count": null,
   "metadata": {
    "id": "Savu37X75FgI"
   },
   "outputs": [],
   "source": [
    "submission.to_csv('../baseline_submission.csv', index=False) ## 제출 점수:  0.87911"
   ]
  }
 ],
 "metadata": {
  "colab": {
   "collapsed_sections": [],
   "name": "데이콘_신용카드 사용자 연체 예측.ipynb",
   "provenance": [],
   "toc_visible": true
  },
  "kernelspec": {
   "display_name": "Python 3",
   "language": "python",
   "name": "python3"
  },
  "language_info": {
   "codemirror_mode": {
    "name": "ipython",
    "version": 3
   },
   "file_extension": ".py",
   "mimetype": "text/x-python",
   "name": "python",
   "nbconvert_exporter": "python",
   "pygments_lexer": "ipython3",
   "version": "3.9.2"
  }
 },
 "nbformat": 4,
 "nbformat_minor": 1
}
