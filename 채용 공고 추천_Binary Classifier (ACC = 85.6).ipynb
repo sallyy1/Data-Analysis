{
 "cells": [
  {
   "cell_type": "code",
   "execution_count": 303,
   "metadata": {},
   "outputs": [],
   "source": [
    "import warnings\n",
    "warnings.filterwarnings('ignore')\n",
    "import pandas as pd\n",
    "from tqdm import tqdm\n",
    "import matplotlib.pyplot as plt\n",
    "import seaborn as sns\n",
    "import random\n",
    "import numpy as np\n",
    "\n",
    "\n",
    "%matplotlib inline"
   ]
  },
  {
   "cell_type": "code",
   "execution_count": 304,
   "metadata": {},
   "outputs": [],
   "source": [
    "# 데이터 로드\n",
    "train = pd.read_csv('./train_job/train.csv')\n",
    "user_tags = pd.read_csv('./train_job/user_tags.csv')\n",
    "job_tags = pd.read_csv('./train_job/job_tags.csv')\n",
    "tags = pd.read_csv('./train_job/tags.csv')\n",
    "job_companies = pd.read_csv('./train_job/job_companies.csv')"
   ]
  },
  {
   "cell_type": "code",
   "execution_count": 200,
   "metadata": {},
   "outputs": [
    {
     "name": "stdout",
     "output_type": "stream",
     "text": [
      "['userID', 'jobID', 'applied']\n"
     ]
    }
   ],
   "source": [
    "print(list(train.columns))"
   ]
  },
  {
   "cell_type": "code",
   "execution_count": 201,
   "metadata": {},
   "outputs": [
    {
     "name": "stdout",
     "output_type": "stream",
     "text": [
      "['userID', 'tagID']\n"
     ]
    }
   ],
   "source": [
    "print(list(user_tags.columns))"
   ]
  },
  {
   "cell_type": "code",
   "execution_count": 202,
   "metadata": {},
   "outputs": [
    {
     "name": "stdout",
     "output_type": "stream",
     "text": [
      "['jobID', 'tagID']\n"
     ]
    }
   ],
   "source": [
    "print(list(job_tags.columns))"
   ]
  },
  {
   "cell_type": "code",
   "execution_count": 203,
   "metadata": {},
   "outputs": [
    {
     "name": "stdout",
     "output_type": "stream",
     "text": [
      "['tagID', 'keyword']\n"
     ]
    }
   ],
   "source": [
    "print(list(tags.columns))"
   ]
  },
  {
   "cell_type": "code",
   "execution_count": 204,
   "metadata": {},
   "outputs": [
    {
     "name": "stdout",
     "output_type": "stream",
     "text": [
      "['companyID', 'jobID', 'companySize']\n"
     ]
    }
   ],
   "source": [
    "print(list(job_companies.columns))"
   ]
  },
  {
   "cell_type": "code",
   "execution_count": 205,
   "metadata": {},
   "outputs": [
    {
     "data": {
      "text/plain": [
       "userID     0\n",
       "jobID      0\n",
       "applied    0\n",
       "dtype: int64"
      ]
     },
     "execution_count": 205,
     "metadata": {},
     "output_type": "execute_result"
    }
   ],
   "source": [
    "# 결측값 확인\n",
    "train.isnull().sum()"
   ]
  },
  {
   "cell_type": "code",
   "execution_count": 206,
   "metadata": {},
   "outputs": [
    {
     "data": {
      "text/plain": [
       "userID    0\n",
       "tagID     0\n",
       "dtype: int64"
      ]
     },
     "execution_count": 206,
     "metadata": {},
     "output_type": "execute_result"
    }
   ],
   "source": [
    "user_tags.isnull().sum()"
   ]
  },
  {
   "cell_type": "code",
   "execution_count": 207,
   "metadata": {},
   "outputs": [
    {
     "data": {
      "text/plain": [
       "jobID    0\n",
       "tagID    0\n",
       "dtype: int64"
      ]
     },
     "execution_count": 207,
     "metadata": {},
     "output_type": "execute_result"
    }
   ],
   "source": [
    "job_tags.isnull().sum()"
   ]
  },
  {
   "cell_type": "code",
   "execution_count": 208,
   "metadata": {},
   "outputs": [
    {
     "data": {
      "text/plain": [
       "tagID      0\n",
       "keyword    0\n",
       "dtype: int64"
      ]
     },
     "execution_count": 208,
     "metadata": {},
     "output_type": "execute_result"
    }
   ],
   "source": [
    "tags.isnull().sum()"
   ]
  },
  {
   "cell_type": "code",
   "execution_count": 209,
   "metadata": {},
   "outputs": [
    {
     "data": {
      "text/plain": [
       "companyID       0\n",
       "jobID           0\n",
       "companySize    90\n",
       "dtype: int64"
      ]
     },
     "execution_count": 209,
     "metadata": {},
     "output_type": "execute_result"
    }
   ],
   "source": [
    "job_companies.isnull().sum() # 'companySize' 속성에 결측값 많음"
   ]
  },
  {
   "cell_type": "code",
   "execution_count": 210,
   "metadata": {},
   "outputs": [
    {
     "data": {
      "text/html": [
       "<div>\n",
       "<style scoped>\n",
       "    .dataframe tbody tr th:only-of-type {\n",
       "        vertical-align: middle;\n",
       "    }\n",
       "\n",
       "    .dataframe tbody tr th {\n",
       "        vertical-align: top;\n",
       "    }\n",
       "\n",
       "    .dataframe thead th {\n",
       "        text-align: right;\n",
       "    }\n",
       "</style>\n",
       "<table border=\"1\" class=\"dataframe\">\n",
       "  <thead>\n",
       "    <tr style=\"text-align: right;\">\n",
       "      <th></th>\n",
       "      <th>userID</th>\n",
       "      <th>jobID</th>\n",
       "      <th>applied</th>\n",
       "    </tr>\n",
       "  </thead>\n",
       "  <tbody>\n",
       "    <tr>\n",
       "      <th>0</th>\n",
       "      <td>fe292163d06253b716e9a0099b42031d</td>\n",
       "      <td>15de21c670ae7c3f6f3f1f37029303c9</td>\n",
       "      <td>0</td>\n",
       "    </tr>\n",
       "    <tr>\n",
       "      <th>1</th>\n",
       "      <td>6377fa90618fae77571e8dc90d98d409</td>\n",
       "      <td>55b37c5c270e5d84c793e486d798c01d</td>\n",
       "      <td>0</td>\n",
       "    </tr>\n",
       "    <tr>\n",
       "      <th>2</th>\n",
       "      <td>8ec0888a5b04139be0dfe942c7eb4199</td>\n",
       "      <td>0fcbc61acd0479dc77e3cccc0f5ffca7</td>\n",
       "      <td>1</td>\n",
       "    </tr>\n",
       "    <tr>\n",
       "      <th>3</th>\n",
       "      <td>f862b39f767d3a1991bdeb2ea1401c9c</td>\n",
       "      <td>3b5dca501ee1e6d8cd7b905f4e1bf723</td>\n",
       "      <td>0</td>\n",
       "    </tr>\n",
       "    <tr>\n",
       "      <th>4</th>\n",
       "      <td>cac14930c65d72c16efac2c51a6b7f71</td>\n",
       "      <td>287e03db1d99e0ec2edb90d079e142f3</td>\n",
       "      <td>0</td>\n",
       "    </tr>\n",
       "  </tbody>\n",
       "</table>\n",
       "</div>"
      ],
      "text/plain": [
       "                             userID                             jobID  applied\n",
       "0  fe292163d06253b716e9a0099b42031d  15de21c670ae7c3f6f3f1f37029303c9        0\n",
       "1  6377fa90618fae77571e8dc90d98d409  55b37c5c270e5d84c793e486d798c01d        0\n",
       "2  8ec0888a5b04139be0dfe942c7eb4199  0fcbc61acd0479dc77e3cccc0f5ffca7        1\n",
       "3  f862b39f767d3a1991bdeb2ea1401c9c  3b5dca501ee1e6d8cd7b905f4e1bf723        0\n",
       "4  cac14930c65d72c16efac2c51a6b7f71  287e03db1d99e0ec2edb90d079e142f3        0"
      ]
     },
     "execution_count": 210,
     "metadata": {},
     "output_type": "execute_result"
    }
   ],
   "source": [
    "# 상위 데이터 확인\n",
    "train.head()"
   ]
  },
  {
   "cell_type": "code",
   "execution_count": 211,
   "metadata": {
    "scrolled": true
   },
   "outputs": [
    {
     "data": {
      "text/html": [
       "<div>\n",
       "<style scoped>\n",
       "    .dataframe tbody tr th:only-of-type {\n",
       "        vertical-align: middle;\n",
       "    }\n",
       "\n",
       "    .dataframe tbody tr th {\n",
       "        vertical-align: top;\n",
       "    }\n",
       "\n",
       "    .dataframe thead th {\n",
       "        text-align: right;\n",
       "    }\n",
       "</style>\n",
       "<table border=\"1\" class=\"dataframe\">\n",
       "  <thead>\n",
       "    <tr style=\"text-align: right;\">\n",
       "      <th></th>\n",
       "      <th>userID</th>\n",
       "      <th>tagID</th>\n",
       "    </tr>\n",
       "  </thead>\n",
       "  <tbody>\n",
       "    <tr>\n",
       "      <th>0</th>\n",
       "      <td>e576423831e043f7928d9ac113abbe6f</td>\n",
       "      <td>82c2559140b95ccda9c6ca4a8b981f1e</td>\n",
       "    </tr>\n",
       "    <tr>\n",
       "      <th>1</th>\n",
       "      <td>e576423831e043f7928d9ac113abbe6f</td>\n",
       "      <td>2ba8698b79439589fdd2b0f7218d8b07</td>\n",
       "    </tr>\n",
       "    <tr>\n",
       "      <th>2</th>\n",
       "      <td>e576423831e043f7928d9ac113abbe6f</td>\n",
       "      <td>351b33587c5fdd93bd42ef7ac9995a28</td>\n",
       "    </tr>\n",
       "    <tr>\n",
       "      <th>3</th>\n",
       "      <td>e576423831e043f7928d9ac113abbe6f</td>\n",
       "      <td>81e5f81db77c596492e6f1a5a792ed53</td>\n",
       "    </tr>\n",
       "    <tr>\n",
       "      <th>4</th>\n",
       "      <td>e576423831e043f7928d9ac113abbe6f</td>\n",
       "      <td>0e095e054ee94774d6a496099eb1cf6a</td>\n",
       "    </tr>\n",
       "  </tbody>\n",
       "</table>\n",
       "</div>"
      ],
      "text/plain": [
       "                             userID                             tagID\n",
       "0  e576423831e043f7928d9ac113abbe6f  82c2559140b95ccda9c6ca4a8b981f1e\n",
       "1  e576423831e043f7928d9ac113abbe6f  2ba8698b79439589fdd2b0f7218d8b07\n",
       "2  e576423831e043f7928d9ac113abbe6f  351b33587c5fdd93bd42ef7ac9995a28\n",
       "3  e576423831e043f7928d9ac113abbe6f  81e5f81db77c596492e6f1a5a792ed53\n",
       "4  e576423831e043f7928d9ac113abbe6f  0e095e054ee94774d6a496099eb1cf6a"
      ]
     },
     "execution_count": 211,
     "metadata": {},
     "output_type": "execute_result"
    }
   ],
   "source": [
    "user_tags.head()"
   ]
  },
  {
   "cell_type": "code",
   "execution_count": 212,
   "metadata": {},
   "outputs": [
    {
     "data": {
      "text/html": [
       "<div>\n",
       "<style scoped>\n",
       "    .dataframe tbody tr th:only-of-type {\n",
       "        vertical-align: middle;\n",
       "    }\n",
       "\n",
       "    .dataframe tbody tr th {\n",
       "        vertical-align: top;\n",
       "    }\n",
       "\n",
       "    .dataframe thead th {\n",
       "        text-align: right;\n",
       "    }\n",
       "</style>\n",
       "<table border=\"1\" class=\"dataframe\">\n",
       "  <thead>\n",
       "    <tr style=\"text-align: right;\">\n",
       "      <th></th>\n",
       "      <th>jobID</th>\n",
       "      <th>tagID</th>\n",
       "    </tr>\n",
       "  </thead>\n",
       "  <tbody>\n",
       "    <tr>\n",
       "      <th>0</th>\n",
       "      <td>320722549d1751cf3f247855f937b982</td>\n",
       "      <td>d38901788c533e8286cb6400b40b386d</td>\n",
       "    </tr>\n",
       "    <tr>\n",
       "      <th>1</th>\n",
       "      <td>e744f91c29ec99f0e662c9177946c627</td>\n",
       "      <td>3948ead63a9f2944218de038d8934305</td>\n",
       "    </tr>\n",
       "    <tr>\n",
       "      <th>2</th>\n",
       "      <td>e744f91c29ec99f0e662c9177946c627</td>\n",
       "      <td>0e095e054ee94774d6a496099eb1cf6a</td>\n",
       "    </tr>\n",
       "    <tr>\n",
       "      <th>3</th>\n",
       "      <td>e820a45f1dfc7b95282d10b6087e11c0</td>\n",
       "      <td>7d771e0e8f3633ab54856925ecdefc5d</td>\n",
       "    </tr>\n",
       "    <tr>\n",
       "      <th>4</th>\n",
       "      <td>e820a45f1dfc7b95282d10b6087e11c0</td>\n",
       "      <td>6c8dba7d0df1c4a79dd07646be9a26c8</td>\n",
       "    </tr>\n",
       "  </tbody>\n",
       "</table>\n",
       "</div>"
      ],
      "text/plain": [
       "                              jobID                             tagID\n",
       "0  320722549d1751cf3f247855f937b982  d38901788c533e8286cb6400b40b386d\n",
       "1  e744f91c29ec99f0e662c9177946c627  3948ead63a9f2944218de038d8934305\n",
       "2  e744f91c29ec99f0e662c9177946c627  0e095e054ee94774d6a496099eb1cf6a\n",
       "3  e820a45f1dfc7b95282d10b6087e11c0  7d771e0e8f3633ab54856925ecdefc5d\n",
       "4  e820a45f1dfc7b95282d10b6087e11c0  6c8dba7d0df1c4a79dd07646be9a26c8"
      ]
     },
     "execution_count": 212,
     "metadata": {},
     "output_type": "execute_result"
    }
   ],
   "source": [
    "job_tags.head()"
   ]
  },
  {
   "cell_type": "code",
   "execution_count": 213,
   "metadata": {},
   "outputs": [
    {
     "data": {
      "text/html": [
       "<div>\n",
       "<style scoped>\n",
       "    .dataframe tbody tr th:only-of-type {\n",
       "        vertical-align: middle;\n",
       "    }\n",
       "\n",
       "    .dataframe tbody tr th {\n",
       "        vertical-align: top;\n",
       "    }\n",
       "\n",
       "    .dataframe thead th {\n",
       "        text-align: right;\n",
       "    }\n",
       "</style>\n",
       "<table border=\"1\" class=\"dataframe\">\n",
       "  <thead>\n",
       "    <tr style=\"text-align: right;\">\n",
       "      <th></th>\n",
       "      <th>tagID</th>\n",
       "      <th>keyword</th>\n",
       "    </tr>\n",
       "  </thead>\n",
       "  <tbody>\n",
       "    <tr>\n",
       "      <th>0</th>\n",
       "      <td>602d1305678a8d5fdb372271e980da6a</td>\n",
       "      <td>Amazon Web Services(AWS)</td>\n",
       "    </tr>\n",
       "    <tr>\n",
       "      <th>1</th>\n",
       "      <td>e3251075554389fe91d17a794861d47b</td>\n",
       "      <td>Tensorflow</td>\n",
       "    </tr>\n",
       "    <tr>\n",
       "      <th>2</th>\n",
       "      <td>a1d50185e7426cbb0acad1e6ca74b9aa</td>\n",
       "      <td>Docker</td>\n",
       "    </tr>\n",
       "    <tr>\n",
       "      <th>3</th>\n",
       "      <td>884d79963bd8bc0ae9b13a1aa71add73</td>\n",
       "      <td>Git</td>\n",
       "    </tr>\n",
       "    <tr>\n",
       "      <th>4</th>\n",
       "      <td>4122cb13c7a474c1976c9706ae36521d</td>\n",
       "      <td>Python</td>\n",
       "    </tr>\n",
       "  </tbody>\n",
       "</table>\n",
       "</div>"
      ],
      "text/plain": [
       "                              tagID                   keyword\n",
       "0  602d1305678a8d5fdb372271e980da6a  Amazon Web Services(AWS)\n",
       "1  e3251075554389fe91d17a794861d47b                Tensorflow\n",
       "2  a1d50185e7426cbb0acad1e6ca74b9aa                    Docker\n",
       "3  884d79963bd8bc0ae9b13a1aa71add73                       Git\n",
       "4  4122cb13c7a474c1976c9706ae36521d                    Python"
      ]
     },
     "execution_count": 213,
     "metadata": {},
     "output_type": "execute_result"
    }
   ],
   "source": [
    "tags.head()"
   ]
  },
  {
   "cell_type": "code",
   "execution_count": 214,
   "metadata": {},
   "outputs": [
    {
     "data": {
      "text/html": [
       "<div>\n",
       "<style scoped>\n",
       "    .dataframe tbody tr th:only-of-type {\n",
       "        vertical-align: middle;\n",
       "    }\n",
       "\n",
       "    .dataframe tbody tr th {\n",
       "        vertical-align: top;\n",
       "    }\n",
       "\n",
       "    .dataframe thead th {\n",
       "        text-align: right;\n",
       "    }\n",
       "</style>\n",
       "<table border=\"1\" class=\"dataframe\">\n",
       "  <thead>\n",
       "    <tr style=\"text-align: right;\">\n",
       "      <th></th>\n",
       "      <th>companyID</th>\n",
       "      <th>jobID</th>\n",
       "      <th>companySize</th>\n",
       "    </tr>\n",
       "  </thead>\n",
       "  <tbody>\n",
       "    <tr>\n",
       "      <th>0</th>\n",
       "      <td>00411460f7c92d2124a67ea0f4cb5f85</td>\n",
       "      <td>e5f6ad6ce374177eef023bf5d0c018b6</td>\n",
       "      <td>NaN</td>\n",
       "    </tr>\n",
       "    <tr>\n",
       "      <th>1</th>\n",
       "      <td>1905aedab9bf2477edc068a355bba31a</td>\n",
       "      <td>185e65bc40581880c4f2c82958de8cfe</td>\n",
       "      <td>11-50</td>\n",
       "    </tr>\n",
       "    <tr>\n",
       "      <th>2</th>\n",
       "      <td>89fcd07f20b6785b92134bd6c1d0fa42</td>\n",
       "      <td>0537fb40a68c18da59a35c2bfe1ca554</td>\n",
       "      <td>101-200</td>\n",
       "    </tr>\n",
       "    <tr>\n",
       "      <th>3</th>\n",
       "      <td>acf4b89d3d503d8252c9c4ba75ddbf6d</td>\n",
       "      <td>b7ee6f5f9aa5cd17ca1aea43ce848496</td>\n",
       "      <td>1-10</td>\n",
       "    </tr>\n",
       "    <tr>\n",
       "      <th>4</th>\n",
       "      <td>fb7b9ffa5462084c5f4e7e85a093e6d7</td>\n",
       "      <td>efe937780e95574250dabe07151bdc23</td>\n",
       "      <td>NaN</td>\n",
       "    </tr>\n",
       "  </tbody>\n",
       "</table>\n",
       "</div>"
      ],
      "text/plain": [
       "                          companyID                             jobID  \\\n",
       "0  00411460f7c92d2124a67ea0f4cb5f85  e5f6ad6ce374177eef023bf5d0c018b6   \n",
       "1  1905aedab9bf2477edc068a355bba31a  185e65bc40581880c4f2c82958de8cfe   \n",
       "2  89fcd07f20b6785b92134bd6c1d0fa42  0537fb40a68c18da59a35c2bfe1ca554   \n",
       "3  acf4b89d3d503d8252c9c4ba75ddbf6d  b7ee6f5f9aa5cd17ca1aea43ce848496   \n",
       "4  fb7b9ffa5462084c5f4e7e85a093e6d7  efe937780e95574250dabe07151bdc23   \n",
       "\n",
       "  companySize  \n",
       "0         NaN  \n",
       "1       11-50  \n",
       "2     101-200  \n",
       "3        1-10  \n",
       "4         NaN  "
      ]
     },
     "execution_count": 214,
     "metadata": {},
     "output_type": "execute_result"
    }
   ],
   "source": [
    "job_companies.head()"
   ]
  },
  {
   "cell_type": "code",
   "execution_count": 215,
   "metadata": {
    "scrolled": true
   },
   "outputs": [
    {
     "name": "stdout",
     "output_type": "stream",
     "text": [
      "<class 'pandas.core.frame.DataFrame'>\n",
      "RangeIndex: 6000 entries, 0 to 5999\n",
      "Data columns (total 3 columns):\n",
      " #   Column   Non-Null Count  Dtype \n",
      "---  ------   --------------  ----- \n",
      " 0   userID   6000 non-null   object\n",
      " 1   jobID    6000 non-null   object\n",
      " 2   applied  6000 non-null   int64 \n",
      "dtypes: int64(1), object(2)\n",
      "memory usage: 140.8+ KB\n"
     ]
    }
   ],
   "source": [
    "train.info()"
   ]
  },
  {
   "cell_type": "code",
   "execution_count": 216,
   "metadata": {
    "scrolled": true
   },
   "outputs": [
    {
     "name": "stdout",
     "output_type": "stream",
     "text": [
      "<class 'pandas.core.frame.DataFrame'>\n",
      "RangeIndex: 17194 entries, 0 to 17193\n",
      "Data columns (total 2 columns):\n",
      " #   Column  Non-Null Count  Dtype \n",
      "---  ------  --------------  ----- \n",
      " 0   userID  17194 non-null  object\n",
      " 1   tagID   17194 non-null  object\n",
      "dtypes: object(2)\n",
      "memory usage: 268.8+ KB\n"
     ]
    }
   ],
   "source": [
    "user_tags.info()"
   ]
  },
  {
   "cell_type": "code",
   "execution_count": 217,
   "metadata": {
    "scrolled": true
   },
   "outputs": [
    {
     "name": "stdout",
     "output_type": "stream",
     "text": [
      "<class 'pandas.core.frame.DataFrame'>\n",
      "RangeIndex: 3477 entries, 0 to 3476\n",
      "Data columns (total 2 columns):\n",
      " #   Column  Non-Null Count  Dtype \n",
      "---  ------  --------------  ----- \n",
      " 0   jobID   3477 non-null   object\n",
      " 1   tagID   3477 non-null   object\n",
      "dtypes: object(2)\n",
      "memory usage: 54.5+ KB\n"
     ]
    }
   ],
   "source": [
    "job_tags.info()"
   ]
  },
  {
   "cell_type": "code",
   "execution_count": 218,
   "metadata": {
    "scrolled": false
   },
   "outputs": [
    {
     "data": {
      "text/plain": [
       "96b9bff013acedfb1d140579e2fbeb63    50\n",
       "da0d1111d2dc5d489242e60ebcbaf988    50\n",
       "0f840be9b8db4d3fbd5ba2ce59211f55    48\n",
       "69cb3ea317a32c4e6143e665fdb20b14    44\n",
       "e5f6ad6ce374177eef023bf5d0c018b6    42\n",
       "                                    ..\n",
       "a58149d355f02887dfbe55ebb2b64ba3     1\n",
       "f29b38f160f87ae86df31cee1982066f     1\n",
       "df7f28ac89ca37bf1abd2f6c184fe1cf     1\n",
       "addfa9b7e234254d26e9c7f2af1005cb     1\n",
       "bb04af0f7ecaee4aae62035497da1387     1\n",
       "Name: jobID, Length: 708, dtype: int64"
      ]
     },
     "execution_count": 218,
     "metadata": {},
     "output_type": "execute_result"
    }
   ],
   "source": [
    "# 컬럼 하나씩 보기\n",
    "train['jobID'].value_counts()"
   ]
  },
  {
   "cell_type": "code",
   "execution_count": 219,
   "metadata": {
    "scrolled": true
   },
   "outputs": [
    {
     "data": {
      "text/plain": [
       "96b9bff013acedfb1d140579e2fbeb63    0.833333\n",
       "da0d1111d2dc5d489242e60ebcbaf988    0.833333\n",
       "0f840be9b8db4d3fbd5ba2ce59211f55    0.800000\n",
       "69cb3ea317a32c4e6143e665fdb20b14    0.733333\n",
       "e5f6ad6ce374177eef023bf5d0c018b6    0.700000\n",
       "                                      ...   \n",
       "a58149d355f02887dfbe55ebb2b64ba3    0.016667\n",
       "f29b38f160f87ae86df31cee1982066f    0.016667\n",
       "df7f28ac89ca37bf1abd2f6c184fe1cf    0.016667\n",
       "addfa9b7e234254d26e9c7f2af1005cb    0.016667\n",
       "bb04af0f7ecaee4aae62035497da1387    0.016667\n",
       "Name: jobID, Length: 708, dtype: float64"
      ]
     },
     "execution_count": 219,
     "metadata": {},
     "output_type": "execute_result"
    }
   ],
   "source": [
    "train['jobID'].value_counts(normalize=True)*100 # 공고('jobID') 별 인기는 약 8배까지 차이 남"
   ]
  },
  {
   "cell_type": "code",
   "execution_count": 220,
   "metadata": {
    "scrolled": true
   },
   "outputs": [
    {
     "data": {
      "text/plain": [
       "e17184bcb70dcf3942c54e0b537ffc6d    17\n",
       "535ab76633d94208236a2e829ea6d888    16\n",
       "27ed0fb950b856b06e1273989422e7d3    16\n",
       "68d13cf26c4b4f4f932e3eff990093ba    15\n",
       "4fac9ba115140ac4f1c22da82aa0bc7f    13\n",
       "                                    ..\n",
       "7bb060764a818184ebb1cc0d43d382aa     1\n",
       "05f971b5ec196b8c65b75d2ef8267331     1\n",
       "c203d8a151612acf12457e4d67635a95     1\n",
       "285f89b802bcb2651801455c86d78f2a     1\n",
       "c5ff2543b53f4cc0ad3819a36752467b     1\n",
       "Name: jobID, Length: 733, dtype: int64"
      ]
     },
     "execution_count": 220,
     "metadata": {},
     "output_type": "execute_result"
    }
   ],
   "source": [
    "job_tags['jobID'].value_counts() # 같은 공고가 여러번 있음 ??"
   ]
  },
  {
   "cell_type": "code",
   "execution_count": 221,
   "metadata": {
    "scrolled": false
   },
   "outputs": [
    {
     "data": {
      "text/plain": [
       "0e095e054ee94774d6a496099eb1cf6a    219\n",
       "f47330643ae134ca204bf6b2481fec47    197\n",
       "4122cb13c7a474c1976c9706ae36521d    187\n",
       "3948ead63a9f2944218de038d8934305    153\n",
       "c8ba76c279269b1c6bc8a07e38e78fa4    143\n",
       "                                   ... \n",
       "41bfd20a38bb1b0bec75acf0845530a7      1\n",
       "b710915795b9e9c02cf10d6d2bdb688c      1\n",
       "372d3f309fef061977fb2f7ba36d74d2      1\n",
       "f3173935ed8ac4bf073c1bcd63171f8a      1\n",
       "06eb61b839a0cefee4967c67ccb099dc      1\n",
       "Name: tagID, Length: 240, dtype: int64"
      ]
     },
     "execution_count": 221,
     "metadata": {},
     "output_type": "execute_result"
    }
   ],
   "source": [
    "job_tags['tagID'].value_counts()"
   ]
  },
  {
   "cell_type": "code",
   "execution_count": 222,
   "metadata": {
    "scrolled": true
   },
   "outputs": [
    {
     "data": {
      "text/plain": [
       "0e095e054ee94774d6a496099eb1cf6a    6.298533\n",
       "f47330643ae134ca204bf6b2481fec47    5.665804\n",
       "4122cb13c7a474c1976c9706ae36521d    5.378200\n",
       "3948ead63a9f2944218de038d8934305    4.400345\n",
       "c8ba76c279269b1c6bc8a07e38e78fa4    4.112741\n",
       "                                      ...   \n",
       "41bfd20a38bb1b0bec75acf0845530a7    0.028760\n",
       "b710915795b9e9c02cf10d6d2bdb688c    0.028760\n",
       "372d3f309fef061977fb2f7ba36d74d2    0.028760\n",
       "f3173935ed8ac4bf073c1bcd63171f8a    0.028760\n",
       "06eb61b839a0cefee4967c67ccb099dc    0.028760\n",
       "Name: tagID, Length: 240, dtype: float64"
      ]
     },
     "execution_count": 222,
     "metadata": {},
     "output_type": "execute_result"
    }
   ],
   "source": [
    "job_tags['tagID'].value_counts(normalize=True)*100 # 공고job 별 관심사('tagID')는 차이가 더 큼"
   ]
  },
  {
   "cell_type": "code",
   "execution_count": 223,
   "metadata": {
    "scrolled": false
   },
   "outputs": [
    {
     "data": {
      "text/plain": [
       "196"
      ]
     },
     "execution_count": 223,
     "metadata": {},
     "output_type": "execute_result"
    }
   ],
   "source": [
    "len(user_tags['userID'].unique()) # 중복 제외하면 '개발자'는 총 196 명 (데이터는 총 17194 개)"
   ]
  },
  {
   "cell_type": "code",
   "execution_count": 224,
   "metadata": {
    "scrolled": false
   },
   "outputs": [
    {
     "data": {
      "text/plain": [
       "345"
      ]
     },
     "execution_count": 224,
     "metadata": {},
     "output_type": "execute_result"
    }
   ],
   "source": [
    "len(user_tags['tagID'].unique()) # 중복 제외하면 '관심사'는 총 345 개 (데이터는 총 17194 개)"
   ]
  },
  {
   "cell_type": "code",
   "execution_count": 225,
   "metadata": {},
   "outputs": [
    {
     "data": {
      "text/plain": [
       "f47330643ae134ca204bf6b2481fec47    820\n",
       "0e095e054ee94774d6a496099eb1cf6a    796\n",
       "c8ba76c279269b1c6bc8a07e38e78fa4    701\n",
       "2ba8698b79439589fdd2b0f7218d8b07    564\n",
       "3948ead63a9f2944218de038d8934305    516\n",
       "                                   ... \n",
       "6d3a1e06d6a06349436bc054313b648c      1\n",
       "0a09c8844ba8f0936c20bd791130d6b6      1\n",
       "5fa9e41bfec0725742cc9d15ef594120      1\n",
       "fae0b27c451c728867a567e8c1bb4e53      1\n",
       "1a0a283bfe7c549dee6c638a05200e32      1\n",
       "Name: tagID, Length: 345, dtype: int64"
      ]
     },
     "execution_count": 225,
     "metadata": {},
     "output_type": "execute_result"
    }
   ],
   "source": [
    "user_tags['tagID'].value_counts()"
   ]
  },
  {
   "cell_type": "code",
   "execution_count": 226,
   "metadata": {
    "scrolled": true
   },
   "outputs": [
    {
     "data": {
      "text/plain": [
       "f47330643ae134ca204bf6b2481fec47    4.769106\n",
       "0e095e054ee94774d6a496099eb1cf6a    4.629522\n",
       "c8ba76c279269b1c6bc8a07e38e78fa4    4.077004\n",
       "2ba8698b79439589fdd2b0f7218d8b07    3.280214\n",
       "3948ead63a9f2944218de038d8934305    3.001047\n",
       "                                      ...   \n",
       "6d3a1e06d6a06349436bc054313b648c    0.005816\n",
       "0a09c8844ba8f0936c20bd791130d6b6    0.005816\n",
       "5fa9e41bfec0725742cc9d15ef594120    0.005816\n",
       "fae0b27c451c728867a567e8c1bb4e53    0.005816\n",
       "1a0a283bfe7c549dee6c638a05200e32    0.005816\n",
       "Name: tagID, Length: 345, dtype: float64"
      ]
     },
     "execution_count": 226,
     "metadata": {},
     "output_type": "execute_result"
    }
   ],
   "source": [
    "user_tags['tagID'].value_counts(normalize=True)*100 # 개발자user 별 관심사('tagID')도 차이 큼"
   ]
  },
  {
   "cell_type": "code",
   "execution_count": 227,
   "metadata": {
    "scrolled": true
   },
   "outputs": [
    {
     "data": {
      "text/plain": [
       "f69054686ba46877b6397ccdb8f51762    572\n",
       "eeedf6d4d717eba333e1b53f1b5375c8    447\n",
       "0cc8f7bf8a8d56980414a6e4bc69cdc6    358\n",
       "87c0a904d6f959e5ecbd0bdaa29d8be9    336\n",
       "5585082ed1ea25eaf73052029f2161ce    325\n",
       "                                   ... \n",
       "37b96469b46dfd9919cd984b788ceb17      5\n",
       "68a61f9415f07a4040f7afe82a058608      5\n",
       "4611b8ff403bea67637c3f1911940668      5\n",
       "15d84e9a5eceb67bcb8fb0e8c839a903      5\n",
       "4802630177809fcf861411501a443abb      4\n",
       "Name: userID, Length: 196, dtype: int64"
      ]
     },
     "execution_count": 227,
     "metadata": {},
     "output_type": "execute_result"
    }
   ],
   "source": [
    "user_tags['userID'].value_counts() # 중복 지원한 '개발자' 있음 => 최대 572 번 지원??"
   ]
  },
  {
   "cell_type": "code",
   "execution_count": 228,
   "metadata": {},
   "outputs": [],
   "source": [
    "# reset_index()\n",
    "#train2 = train('userID').reset_index()\n",
    "#train2"
   ]
  },
  {
   "cell_type": "code",
   "execution_count": 305,
   "metadata": {},
   "outputs": [],
   "source": [
    "# 데이터 결합\n",
    "for uID, tID in zip(user_tags['userID'].values, user_tags['tagID'].values):\n",
    "    train.loc[(train['userID'] == uID), 'applicated_user_tags'] = tID"
   ]
  },
  {
   "cell_type": "code",
   "execution_count": 230,
   "metadata": {
    "scrolled": true
   },
   "outputs": [
    {
     "data": {
      "text/html": [
       "<div>\n",
       "<style scoped>\n",
       "    .dataframe tbody tr th:only-of-type {\n",
       "        vertical-align: middle;\n",
       "    }\n",
       "\n",
       "    .dataframe tbody tr th {\n",
       "        vertical-align: top;\n",
       "    }\n",
       "\n",
       "    .dataframe thead th {\n",
       "        text-align: right;\n",
       "    }\n",
       "</style>\n",
       "<table border=\"1\" class=\"dataframe\">\n",
       "  <thead>\n",
       "    <tr style=\"text-align: right;\">\n",
       "      <th></th>\n",
       "      <th>userID</th>\n",
       "      <th>jobID</th>\n",
       "      <th>applied</th>\n",
       "      <th>applicated_user_tags</th>\n",
       "    </tr>\n",
       "  </thead>\n",
       "  <tbody>\n",
       "    <tr>\n",
       "      <th>0</th>\n",
       "      <td>fe292163d06253b716e9a0099b42031d</td>\n",
       "      <td>15de21c670ae7c3f6f3f1f37029303c9</td>\n",
       "      <td>0</td>\n",
       "      <td>4122cb13c7a474c1976c9706ae36521d</td>\n",
       "    </tr>\n",
       "    <tr>\n",
       "      <th>1</th>\n",
       "      <td>6377fa90618fae77571e8dc90d98d409</td>\n",
       "      <td>55b37c5c270e5d84c793e486d798c01d</td>\n",
       "      <td>0</td>\n",
       "      <td>fe70c36866add1572a8e2b96bfede7bf</td>\n",
       "    </tr>\n",
       "    <tr>\n",
       "      <th>2</th>\n",
       "      <td>8ec0888a5b04139be0dfe942c7eb4199</td>\n",
       "      <td>0fcbc61acd0479dc77e3cccc0f5ffca7</td>\n",
       "      <td>1</td>\n",
       "      <td>f91e24dfe80012e2a7984afa4480a6d6</td>\n",
       "    </tr>\n",
       "    <tr>\n",
       "      <th>3</th>\n",
       "      <td>f862b39f767d3a1991bdeb2ea1401c9c</td>\n",
       "      <td>3b5dca501ee1e6d8cd7b905f4e1bf723</td>\n",
       "      <td>0</td>\n",
       "      <td>3948ead63a9f2944218de038d8934305</td>\n",
       "    </tr>\n",
       "    <tr>\n",
       "      <th>4</th>\n",
       "      <td>cac14930c65d72c16efac2c51a6b7f71</td>\n",
       "      <td>287e03db1d99e0ec2edb90d079e142f3</td>\n",
       "      <td>0</td>\n",
       "      <td>81e5f81db77c596492e6f1a5a792ed53</td>\n",
       "    </tr>\n",
       "    <tr>\n",
       "      <th>...</th>\n",
       "      <td>...</td>\n",
       "      <td>...</td>\n",
       "      <td>...</td>\n",
       "      <td>...</td>\n",
       "    </tr>\n",
       "    <tr>\n",
       "      <th>5995</th>\n",
       "      <td>68cb94b97d00979f4e8127915885b641</td>\n",
       "      <td>b9228e0962a78b84f3d5d92f4faa000b</td>\n",
       "      <td>0</td>\n",
       "      <td>c88d8d0a6097754525e02c2246d8d27f</td>\n",
       "    </tr>\n",
       "    <tr>\n",
       "      <th>5996</th>\n",
       "      <td>c0b199d73bdf390c2f4c3150b6ee1574</td>\n",
       "      <td>e3796ae838835da0b6f6ea37bcf8bcb7</td>\n",
       "      <td>0</td>\n",
       "      <td>7bccfde7714a1ebadf06c5f4cea752c1</td>\n",
       "    </tr>\n",
       "    <tr>\n",
       "      <th>5997</th>\n",
       "      <td>3ab88dd28f749fe4ec90c0b6f9896eb5</td>\n",
       "      <td>e2a2dcc36a08a345332c751b2f2e476c</td>\n",
       "      <td>0</td>\n",
       "      <td>f47330643ae134ca204bf6b2481fec47</td>\n",
       "    </tr>\n",
       "    <tr>\n",
       "      <th>5998</th>\n",
       "      <td>75b4af0dacbc119eadf4eeb096738405</td>\n",
       "      <td>3b712de48137572f3849aabd5666a4e3</td>\n",
       "      <td>0</td>\n",
       "      <td>884d79963bd8bc0ae9b13a1aa71add73</td>\n",
       "    </tr>\n",
       "    <tr>\n",
       "      <th>5999</th>\n",
       "      <td>67adefb430df142b099bed89bd491524</td>\n",
       "      <td>65cc2c8205a05d7379fa3a6386f710e1</td>\n",
       "      <td>0</td>\n",
       "      <td>c88d8d0a6097754525e02c2246d8d27f</td>\n",
       "    </tr>\n",
       "  </tbody>\n",
       "</table>\n",
       "<p>6000 rows × 4 columns</p>\n",
       "</div>"
      ],
      "text/plain": [
       "                                userID                             jobID  \\\n",
       "0     fe292163d06253b716e9a0099b42031d  15de21c670ae7c3f6f3f1f37029303c9   \n",
       "1     6377fa90618fae77571e8dc90d98d409  55b37c5c270e5d84c793e486d798c01d   \n",
       "2     8ec0888a5b04139be0dfe942c7eb4199  0fcbc61acd0479dc77e3cccc0f5ffca7   \n",
       "3     f862b39f767d3a1991bdeb2ea1401c9c  3b5dca501ee1e6d8cd7b905f4e1bf723   \n",
       "4     cac14930c65d72c16efac2c51a6b7f71  287e03db1d99e0ec2edb90d079e142f3   \n",
       "...                                ...                               ...   \n",
       "5995  68cb94b97d00979f4e8127915885b641  b9228e0962a78b84f3d5d92f4faa000b   \n",
       "5996  c0b199d73bdf390c2f4c3150b6ee1574  e3796ae838835da0b6f6ea37bcf8bcb7   \n",
       "5997  3ab88dd28f749fe4ec90c0b6f9896eb5  e2a2dcc36a08a345332c751b2f2e476c   \n",
       "5998  75b4af0dacbc119eadf4eeb096738405  3b712de48137572f3849aabd5666a4e3   \n",
       "5999  67adefb430df142b099bed89bd491524  65cc2c8205a05d7379fa3a6386f710e1   \n",
       "\n",
       "      applied              applicated_user_tags  \n",
       "0           0  4122cb13c7a474c1976c9706ae36521d  \n",
       "1           0  fe70c36866add1572a8e2b96bfede7bf  \n",
       "2           1  f91e24dfe80012e2a7984afa4480a6d6  \n",
       "3           0  3948ead63a9f2944218de038d8934305  \n",
       "4           0  81e5f81db77c596492e6f1a5a792ed53  \n",
       "...       ...                               ...  \n",
       "5995        0  c88d8d0a6097754525e02c2246d8d27f  \n",
       "5996        0  7bccfde7714a1ebadf06c5f4cea752c1  \n",
       "5997        0  f47330643ae134ca204bf6b2481fec47  \n",
       "5998        0  884d79963bd8bc0ae9b13a1aa71add73  \n",
       "5999        0  c88d8d0a6097754525e02c2246d8d27f  \n",
       "\n",
       "[6000 rows x 4 columns]"
      ]
     },
     "execution_count": 230,
     "metadata": {},
     "output_type": "execute_result"
    }
   ],
   "source": [
    "train"
   ]
  },
  {
   "cell_type": "code",
   "execution_count": 231,
   "metadata": {
    "scrolled": true
   },
   "outputs": [
    {
     "data": {
      "text/plain": [
       "0"
      ]
     },
     "execution_count": 231,
     "metadata": {},
     "output_type": "execute_result"
    }
   ],
   "source": [
    "train['applicated_user_tags'].isnull().sum() ## okay !"
   ]
  },
  {
   "cell_type": "code",
   "execution_count": 306,
   "metadata": {},
   "outputs": [],
   "source": [
    "for jID, tID in zip(job_tags['jobID'].values, job_tags['tagID'].values):\n",
    "    train.loc[(train['jobID'] == jID), 'applicated_job_tags'] = tID"
   ]
  },
  {
   "cell_type": "code",
   "execution_count": 233,
   "metadata": {
    "scrolled": true
   },
   "outputs": [
    {
     "data": {
      "text/html": [
       "<div>\n",
       "<style scoped>\n",
       "    .dataframe tbody tr th:only-of-type {\n",
       "        vertical-align: middle;\n",
       "    }\n",
       "\n",
       "    .dataframe tbody tr th {\n",
       "        vertical-align: top;\n",
       "    }\n",
       "\n",
       "    .dataframe thead th {\n",
       "        text-align: right;\n",
       "    }\n",
       "</style>\n",
       "<table border=\"1\" class=\"dataframe\">\n",
       "  <thead>\n",
       "    <tr style=\"text-align: right;\">\n",
       "      <th></th>\n",
       "      <th>userID</th>\n",
       "      <th>jobID</th>\n",
       "      <th>applied</th>\n",
       "      <th>applicated_user_tags</th>\n",
       "      <th>applicated_job_tags</th>\n",
       "    </tr>\n",
       "  </thead>\n",
       "  <tbody>\n",
       "    <tr>\n",
       "      <th>0</th>\n",
       "      <td>fe292163d06253b716e9a0099b42031d</td>\n",
       "      <td>15de21c670ae7c3f6f3f1f37029303c9</td>\n",
       "      <td>0</td>\n",
       "      <td>4122cb13c7a474c1976c9706ae36521d</td>\n",
       "      <td>d38901788c533e8286cb6400b40b386d</td>\n",
       "    </tr>\n",
       "    <tr>\n",
       "      <th>1</th>\n",
       "      <td>6377fa90618fae77571e8dc90d98d409</td>\n",
       "      <td>55b37c5c270e5d84c793e486d798c01d</td>\n",
       "      <td>0</td>\n",
       "      <td>fe70c36866add1572a8e2b96bfede7bf</td>\n",
       "      <td>c8ba76c279269b1c6bc8a07e38e78fa4</td>\n",
       "    </tr>\n",
       "    <tr>\n",
       "      <th>2</th>\n",
       "      <td>8ec0888a5b04139be0dfe942c7eb4199</td>\n",
       "      <td>0fcbc61acd0479dc77e3cccc0f5ffca7</td>\n",
       "      <td>1</td>\n",
       "      <td>f91e24dfe80012e2a7984afa4480a6d6</td>\n",
       "      <td>6eb6e75fddec0218351dc5c0c8464104</td>\n",
       "    </tr>\n",
       "    <tr>\n",
       "      <th>3</th>\n",
       "      <td>f862b39f767d3a1991bdeb2ea1401c9c</td>\n",
       "      <td>3b5dca501ee1e6d8cd7b905f4e1bf723</td>\n",
       "      <td>0</td>\n",
       "      <td>3948ead63a9f2944218de038d8934305</td>\n",
       "      <td>6c8dba7d0df1c4a79dd07646be9a26c8</td>\n",
       "    </tr>\n",
       "    <tr>\n",
       "      <th>4</th>\n",
       "      <td>cac14930c65d72c16efac2c51a6b7f71</td>\n",
       "      <td>287e03db1d99e0ec2edb90d079e142f3</td>\n",
       "      <td>0</td>\n",
       "      <td>81e5f81db77c596492e6f1a5a792ed53</td>\n",
       "      <td>8e2cfdc275761edc592f73a076197c33</td>\n",
       "    </tr>\n",
       "    <tr>\n",
       "      <th>...</th>\n",
       "      <td>...</td>\n",
       "      <td>...</td>\n",
       "      <td>...</td>\n",
       "      <td>...</td>\n",
       "      <td>...</td>\n",
       "    </tr>\n",
       "    <tr>\n",
       "      <th>5995</th>\n",
       "      <td>68cb94b97d00979f4e8127915885b641</td>\n",
       "      <td>b9228e0962a78b84f3d5d92f4faa000b</td>\n",
       "      <td>0</td>\n",
       "      <td>c88d8d0a6097754525e02c2246d8d27f</td>\n",
       "      <td>0e095e054ee94774d6a496099eb1cf6a</td>\n",
       "    </tr>\n",
       "    <tr>\n",
       "      <th>5996</th>\n",
       "      <td>c0b199d73bdf390c2f4c3150b6ee1574</td>\n",
       "      <td>e3796ae838835da0b6f6ea37bcf8bcb7</td>\n",
       "      <td>0</td>\n",
       "      <td>7bccfde7714a1ebadf06c5f4cea752c1</td>\n",
       "      <td>0e095e054ee94774d6a496099eb1cf6a</td>\n",
       "    </tr>\n",
       "    <tr>\n",
       "      <th>5997</th>\n",
       "      <td>3ab88dd28f749fe4ec90c0b6f9896eb5</td>\n",
       "      <td>e2a2dcc36a08a345332c751b2f2e476c</td>\n",
       "      <td>0</td>\n",
       "      <td>f47330643ae134ca204bf6b2481fec47</td>\n",
       "      <td>4e2545f819e67f0615003dd7e04a6087</td>\n",
       "    </tr>\n",
       "    <tr>\n",
       "      <th>5998</th>\n",
       "      <td>75b4af0dacbc119eadf4eeb096738405</td>\n",
       "      <td>3b712de48137572f3849aabd5666a4e3</td>\n",
       "      <td>0</td>\n",
       "      <td>884d79963bd8bc0ae9b13a1aa71add73</td>\n",
       "      <td>8e2cfdc275761edc592f73a076197c33</td>\n",
       "    </tr>\n",
       "    <tr>\n",
       "      <th>5999</th>\n",
       "      <td>67adefb430df142b099bed89bd491524</td>\n",
       "      <td>65cc2c8205a05d7379fa3a6386f710e1</td>\n",
       "      <td>0</td>\n",
       "      <td>c88d8d0a6097754525e02c2246d8d27f</td>\n",
       "      <td>81e5f81db77c596492e6f1a5a792ed53</td>\n",
       "    </tr>\n",
       "  </tbody>\n",
       "</table>\n",
       "<p>6000 rows × 5 columns</p>\n",
       "</div>"
      ],
      "text/plain": [
       "                                userID                             jobID  \\\n",
       "0     fe292163d06253b716e9a0099b42031d  15de21c670ae7c3f6f3f1f37029303c9   \n",
       "1     6377fa90618fae77571e8dc90d98d409  55b37c5c270e5d84c793e486d798c01d   \n",
       "2     8ec0888a5b04139be0dfe942c7eb4199  0fcbc61acd0479dc77e3cccc0f5ffca7   \n",
       "3     f862b39f767d3a1991bdeb2ea1401c9c  3b5dca501ee1e6d8cd7b905f4e1bf723   \n",
       "4     cac14930c65d72c16efac2c51a6b7f71  287e03db1d99e0ec2edb90d079e142f3   \n",
       "...                                ...                               ...   \n",
       "5995  68cb94b97d00979f4e8127915885b641  b9228e0962a78b84f3d5d92f4faa000b   \n",
       "5996  c0b199d73bdf390c2f4c3150b6ee1574  e3796ae838835da0b6f6ea37bcf8bcb7   \n",
       "5997  3ab88dd28f749fe4ec90c0b6f9896eb5  e2a2dcc36a08a345332c751b2f2e476c   \n",
       "5998  75b4af0dacbc119eadf4eeb096738405  3b712de48137572f3849aabd5666a4e3   \n",
       "5999  67adefb430df142b099bed89bd491524  65cc2c8205a05d7379fa3a6386f710e1   \n",
       "\n",
       "      applied              applicated_user_tags  \\\n",
       "0           0  4122cb13c7a474c1976c9706ae36521d   \n",
       "1           0  fe70c36866add1572a8e2b96bfede7bf   \n",
       "2           1  f91e24dfe80012e2a7984afa4480a6d6   \n",
       "3           0  3948ead63a9f2944218de038d8934305   \n",
       "4           0  81e5f81db77c596492e6f1a5a792ed53   \n",
       "...       ...                               ...   \n",
       "5995        0  c88d8d0a6097754525e02c2246d8d27f   \n",
       "5996        0  7bccfde7714a1ebadf06c5f4cea752c1   \n",
       "5997        0  f47330643ae134ca204bf6b2481fec47   \n",
       "5998        0  884d79963bd8bc0ae9b13a1aa71add73   \n",
       "5999        0  c88d8d0a6097754525e02c2246d8d27f   \n",
       "\n",
       "                   applicated_job_tags  \n",
       "0     d38901788c533e8286cb6400b40b386d  \n",
       "1     c8ba76c279269b1c6bc8a07e38e78fa4  \n",
       "2     6eb6e75fddec0218351dc5c0c8464104  \n",
       "3     6c8dba7d0df1c4a79dd07646be9a26c8  \n",
       "4     8e2cfdc275761edc592f73a076197c33  \n",
       "...                                ...  \n",
       "5995  0e095e054ee94774d6a496099eb1cf6a  \n",
       "5996  0e095e054ee94774d6a496099eb1cf6a  \n",
       "5997  4e2545f819e67f0615003dd7e04a6087  \n",
       "5998  8e2cfdc275761edc592f73a076197c33  \n",
       "5999  81e5f81db77c596492e6f1a5a792ed53  \n",
       "\n",
       "[6000 rows x 5 columns]"
      ]
     },
     "execution_count": 233,
     "metadata": {},
     "output_type": "execute_result"
    }
   ],
   "source": [
    "train"
   ]
  },
  {
   "cell_type": "code",
   "execution_count": 234,
   "metadata": {},
   "outputs": [
    {
     "data": {
      "text/plain": [
       "0"
      ]
     },
     "execution_count": 234,
     "metadata": {},
     "output_type": "execute_result"
    }
   ],
   "source": [
    "train['applicated_job_tags'].isnull().sum() ## okay !"
   ]
  },
  {
   "cell_type": "code",
   "execution_count": 307,
   "metadata": {},
   "outputs": [],
   "source": [
    "for cID, jID in zip(job_companies['companyID'].values, job_companies['jobID'].values):\n",
    "    train.loc[(train['jobID'] == jID), 'applicated_job_company'] = cID"
   ]
  },
  {
   "cell_type": "code",
   "execution_count": 236,
   "metadata": {},
   "outputs": [
    {
     "data": {
      "text/html": [
       "<div>\n",
       "<style scoped>\n",
       "    .dataframe tbody tr th:only-of-type {\n",
       "        vertical-align: middle;\n",
       "    }\n",
       "\n",
       "    .dataframe tbody tr th {\n",
       "        vertical-align: top;\n",
       "    }\n",
       "\n",
       "    .dataframe thead th {\n",
       "        text-align: right;\n",
       "    }\n",
       "</style>\n",
       "<table border=\"1\" class=\"dataframe\">\n",
       "  <thead>\n",
       "    <tr style=\"text-align: right;\">\n",
       "      <th></th>\n",
       "      <th>userID</th>\n",
       "      <th>jobID</th>\n",
       "      <th>applied</th>\n",
       "      <th>applicated_user_tags</th>\n",
       "      <th>applicated_job_tags</th>\n",
       "      <th>applicated_job_company</th>\n",
       "    </tr>\n",
       "  </thead>\n",
       "  <tbody>\n",
       "    <tr>\n",
       "      <th>0</th>\n",
       "      <td>fe292163d06253b716e9a0099b42031d</td>\n",
       "      <td>15de21c670ae7c3f6f3f1f37029303c9</td>\n",
       "      <td>0</td>\n",
       "      <td>4122cb13c7a474c1976c9706ae36521d</td>\n",
       "      <td>d38901788c533e8286cb6400b40b386d</td>\n",
       "      <td>4f6ffe13a5d75b2d6a3923922b3922e5</td>\n",
       "    </tr>\n",
       "    <tr>\n",
       "      <th>1</th>\n",
       "      <td>6377fa90618fae77571e8dc90d98d409</td>\n",
       "      <td>55b37c5c270e5d84c793e486d798c01d</td>\n",
       "      <td>0</td>\n",
       "      <td>fe70c36866add1572a8e2b96bfede7bf</td>\n",
       "      <td>c8ba76c279269b1c6bc8a07e38e78fa4</td>\n",
       "      <td>846c260d715e5b854ffad5f70a516c88</td>\n",
       "    </tr>\n",
       "    <tr>\n",
       "      <th>2</th>\n",
       "      <td>8ec0888a5b04139be0dfe942c7eb4199</td>\n",
       "      <td>0fcbc61acd0479dc77e3cccc0f5ffca7</td>\n",
       "      <td>1</td>\n",
       "      <td>f91e24dfe80012e2a7984afa4480a6d6</td>\n",
       "      <td>6eb6e75fddec0218351dc5c0c8464104</td>\n",
       "      <td>edfbe1afcf9246bb0d40eb4d8027d90f</td>\n",
       "    </tr>\n",
       "    <tr>\n",
       "      <th>3</th>\n",
       "      <td>f862b39f767d3a1991bdeb2ea1401c9c</td>\n",
       "      <td>3b5dca501ee1e6d8cd7b905f4e1bf723</td>\n",
       "      <td>0</td>\n",
       "      <td>3948ead63a9f2944218de038d8934305</td>\n",
       "      <td>6c8dba7d0df1c4a79dd07646be9a26c8</td>\n",
       "      <td>884d79963bd8bc0ae9b13a1aa71add73</td>\n",
       "    </tr>\n",
       "    <tr>\n",
       "      <th>4</th>\n",
       "      <td>cac14930c65d72c16efac2c51a6b7f71</td>\n",
       "      <td>287e03db1d99e0ec2edb90d079e142f3</td>\n",
       "      <td>0</td>\n",
       "      <td>81e5f81db77c596492e6f1a5a792ed53</td>\n",
       "      <td>8e2cfdc275761edc592f73a076197c33</td>\n",
       "      <td>b5dc4e5d9b495d0196f61d45b26ef33e</td>\n",
       "    </tr>\n",
       "    <tr>\n",
       "      <th>...</th>\n",
       "      <td>...</td>\n",
       "      <td>...</td>\n",
       "      <td>...</td>\n",
       "      <td>...</td>\n",
       "      <td>...</td>\n",
       "      <td>...</td>\n",
       "    </tr>\n",
       "    <tr>\n",
       "      <th>5995</th>\n",
       "      <td>68cb94b97d00979f4e8127915885b641</td>\n",
       "      <td>b9228e0962a78b84f3d5d92f4faa000b</td>\n",
       "      <td>0</td>\n",
       "      <td>c88d8d0a6097754525e02c2246d8d27f</td>\n",
       "      <td>0e095e054ee94774d6a496099eb1cf6a</td>\n",
       "      <td>17c276c8e723eb46aef576537e9d56d0</td>\n",
       "    </tr>\n",
       "    <tr>\n",
       "      <th>5996</th>\n",
       "      <td>c0b199d73bdf390c2f4c3150b6ee1574</td>\n",
       "      <td>e3796ae838835da0b6f6ea37bcf8bcb7</td>\n",
       "      <td>0</td>\n",
       "      <td>7bccfde7714a1ebadf06c5f4cea752c1</td>\n",
       "      <td>0e095e054ee94774d6a496099eb1cf6a</td>\n",
       "      <td>68ce199ec2c5517597ce0a4d89620f55</td>\n",
       "    </tr>\n",
       "    <tr>\n",
       "      <th>5997</th>\n",
       "      <td>3ab88dd28f749fe4ec90c0b6f9896eb5</td>\n",
       "      <td>e2a2dcc36a08a345332c751b2f2e476c</td>\n",
       "      <td>0</td>\n",
       "      <td>f47330643ae134ca204bf6b2481fec47</td>\n",
       "      <td>4e2545f819e67f0615003dd7e04a6087</td>\n",
       "      <td>43dd49b4fdb9bede653e94468ff8df1e</td>\n",
       "    </tr>\n",
       "    <tr>\n",
       "      <th>5998</th>\n",
       "      <td>75b4af0dacbc119eadf4eeb096738405</td>\n",
       "      <td>3b712de48137572f3849aabd5666a4e3</td>\n",
       "      <td>0</td>\n",
       "      <td>884d79963bd8bc0ae9b13a1aa71add73</td>\n",
       "      <td>8e2cfdc275761edc592f73a076197c33</td>\n",
       "      <td>f33ba15effa5c10e873bf3842afb46a6</td>\n",
       "    </tr>\n",
       "    <tr>\n",
       "      <th>5999</th>\n",
       "      <td>67adefb430df142b099bed89bd491524</td>\n",
       "      <td>65cc2c8205a05d7379fa3a6386f710e1</td>\n",
       "      <td>0</td>\n",
       "      <td>c88d8d0a6097754525e02c2246d8d27f</td>\n",
       "      <td>81e5f81db77c596492e6f1a5a792ed53</td>\n",
       "      <td>9a1756fd0c741126d7bbd4b692ccbd91</td>\n",
       "    </tr>\n",
       "  </tbody>\n",
       "</table>\n",
       "<p>6000 rows × 6 columns</p>\n",
       "</div>"
      ],
      "text/plain": [
       "                                userID                             jobID  \\\n",
       "0     fe292163d06253b716e9a0099b42031d  15de21c670ae7c3f6f3f1f37029303c9   \n",
       "1     6377fa90618fae77571e8dc90d98d409  55b37c5c270e5d84c793e486d798c01d   \n",
       "2     8ec0888a5b04139be0dfe942c7eb4199  0fcbc61acd0479dc77e3cccc0f5ffca7   \n",
       "3     f862b39f767d3a1991bdeb2ea1401c9c  3b5dca501ee1e6d8cd7b905f4e1bf723   \n",
       "4     cac14930c65d72c16efac2c51a6b7f71  287e03db1d99e0ec2edb90d079e142f3   \n",
       "...                                ...                               ...   \n",
       "5995  68cb94b97d00979f4e8127915885b641  b9228e0962a78b84f3d5d92f4faa000b   \n",
       "5996  c0b199d73bdf390c2f4c3150b6ee1574  e3796ae838835da0b6f6ea37bcf8bcb7   \n",
       "5997  3ab88dd28f749fe4ec90c0b6f9896eb5  e2a2dcc36a08a345332c751b2f2e476c   \n",
       "5998  75b4af0dacbc119eadf4eeb096738405  3b712de48137572f3849aabd5666a4e3   \n",
       "5999  67adefb430df142b099bed89bd491524  65cc2c8205a05d7379fa3a6386f710e1   \n",
       "\n",
       "      applied              applicated_user_tags  \\\n",
       "0           0  4122cb13c7a474c1976c9706ae36521d   \n",
       "1           0  fe70c36866add1572a8e2b96bfede7bf   \n",
       "2           1  f91e24dfe80012e2a7984afa4480a6d6   \n",
       "3           0  3948ead63a9f2944218de038d8934305   \n",
       "4           0  81e5f81db77c596492e6f1a5a792ed53   \n",
       "...       ...                               ...   \n",
       "5995        0  c88d8d0a6097754525e02c2246d8d27f   \n",
       "5996        0  7bccfde7714a1ebadf06c5f4cea752c1   \n",
       "5997        0  f47330643ae134ca204bf6b2481fec47   \n",
       "5998        0  884d79963bd8bc0ae9b13a1aa71add73   \n",
       "5999        0  c88d8d0a6097754525e02c2246d8d27f   \n",
       "\n",
       "                   applicated_job_tags            applicated_job_company  \n",
       "0     d38901788c533e8286cb6400b40b386d  4f6ffe13a5d75b2d6a3923922b3922e5  \n",
       "1     c8ba76c279269b1c6bc8a07e38e78fa4  846c260d715e5b854ffad5f70a516c88  \n",
       "2     6eb6e75fddec0218351dc5c0c8464104  edfbe1afcf9246bb0d40eb4d8027d90f  \n",
       "3     6c8dba7d0df1c4a79dd07646be9a26c8  884d79963bd8bc0ae9b13a1aa71add73  \n",
       "4     8e2cfdc275761edc592f73a076197c33  b5dc4e5d9b495d0196f61d45b26ef33e  \n",
       "...                                ...                               ...  \n",
       "5995  0e095e054ee94774d6a496099eb1cf6a  17c276c8e723eb46aef576537e9d56d0  \n",
       "5996  0e095e054ee94774d6a496099eb1cf6a  68ce199ec2c5517597ce0a4d89620f55  \n",
       "5997  4e2545f819e67f0615003dd7e04a6087  43dd49b4fdb9bede653e94468ff8df1e  \n",
       "5998  8e2cfdc275761edc592f73a076197c33  f33ba15effa5c10e873bf3842afb46a6  \n",
       "5999  81e5f81db77c596492e6f1a5a792ed53  9a1756fd0c741126d7bbd4b692ccbd91  \n",
       "\n",
       "[6000 rows x 6 columns]"
      ]
     },
     "execution_count": 236,
     "metadata": {},
     "output_type": "execute_result"
    }
   ],
   "source": [
    "train"
   ]
  },
  {
   "cell_type": "code",
   "execution_count": 237,
   "metadata": {},
   "outputs": [
    {
     "data": {
      "text/plain": [
       "0"
      ]
     },
     "execution_count": 237,
     "metadata": {},
     "output_type": "execute_result"
    }
   ],
   "source": [
    "train['applicated_job_company'].isnull().sum() ## okay !"
   ]
  },
  {
   "cell_type": "code",
   "execution_count": null,
   "metadata": {},
   "outputs": [],
   "source": []
  },
  {
   "cell_type": "code",
   "execution_count": 238,
   "metadata": {},
   "outputs": [],
   "source": [
    "# test 데이터 불러오기 및 합치기"
   ]
  },
  {
   "cell_type": "code",
   "execution_count": 308,
   "metadata": {},
   "outputs": [],
   "source": [
    "test = pd.read_csv('test_job.csv')"
   ]
  },
  {
   "cell_type": "code",
   "execution_count": 309,
   "metadata": {},
   "outputs": [],
   "source": [
    "# 데이터 결합\n",
    "for uID, tID in zip(user_tags['userID'].values, user_tags['tagID'].values):\n",
    "    test.loc[(test['userID'] == uID), 'applicated_user_tags'] = tID"
   ]
  },
  {
   "cell_type": "code",
   "execution_count": 310,
   "metadata": {},
   "outputs": [],
   "source": [
    "for jID, tID in zip(job_tags['jobID'].values, job_tags['tagID'].values):\n",
    "    test.loc[(test['jobID'] == jID), 'applicated_job_tags'] = tID"
   ]
  },
  {
   "cell_type": "code",
   "execution_count": 311,
   "metadata": {},
   "outputs": [],
   "source": [
    "for cID, jID in zip(job_companies['companyID'].values, job_companies['jobID'].values):\n",
    "    test.loc[(test['jobID'] == jID), 'applicated_job_company'] = cID"
   ]
  },
  {
   "cell_type": "code",
   "execution_count": 312,
   "metadata": {},
   "outputs": [
    {
     "data": {
      "text/html": [
       "<div>\n",
       "<style scoped>\n",
       "    .dataframe tbody tr th:only-of-type {\n",
       "        vertical-align: middle;\n",
       "    }\n",
       "\n",
       "    .dataframe tbody tr th {\n",
       "        vertical-align: top;\n",
       "    }\n",
       "\n",
       "    .dataframe thead th {\n",
       "        text-align: right;\n",
       "    }\n",
       "</style>\n",
       "<table border=\"1\" class=\"dataframe\">\n",
       "  <thead>\n",
       "    <tr style=\"text-align: right;\">\n",
       "      <th></th>\n",
       "      <th>userID</th>\n",
       "      <th>jobID</th>\n",
       "      <th>applicated_user_tags</th>\n",
       "      <th>applicated_job_tags</th>\n",
       "      <th>applicated_job_company</th>\n",
       "    </tr>\n",
       "  </thead>\n",
       "  <tbody>\n",
       "    <tr>\n",
       "      <th>0</th>\n",
       "      <td>ebaee1af0c501f22ddfe242fc16dae53</td>\n",
       "      <td>352407221afb776e3143e8a1a0577885</td>\n",
       "      <td>1e1d184167ca7676cf665225e236a3d2</td>\n",
       "      <td>cd758e8f59dfdf06a852adad277986ca</td>\n",
       "      <td>b51a15f382ac914391a58850ab343b00</td>\n",
       "    </tr>\n",
       "    <tr>\n",
       "      <th>1</th>\n",
       "      <td>9ab05403ac7808cbfba3da26665f7a9c</td>\n",
       "      <td>96b9bff013acedfb1d140579e2fbeb63</td>\n",
       "      <td>e702e51da2c0f5be4dd354bb3e295d37</td>\n",
       "      <td>9701a1c165dd9420816bfec5edd6c2b1</td>\n",
       "      <td>9f396fe44e7c05c16873b05ec425cbad</td>\n",
       "    </tr>\n",
       "    <tr>\n",
       "      <th>2</th>\n",
       "      <td>33349e909eba71677299d2fc97e158b7</td>\n",
       "      <td>58d4d1e7b1e97b258c9ed0b37e02d087</td>\n",
       "      <td>7d771e0e8f3633ab54856925ecdefc5d</td>\n",
       "      <td>cd758e8f59dfdf06a852adad277986ca</td>\n",
       "      <td>68053af2923e00204c3ca7c6a3150cf7</td>\n",
       "    </tr>\n",
       "    <tr>\n",
       "      <th>3</th>\n",
       "      <td>ac985a9db5faeb44c94a334430ccc241</td>\n",
       "      <td>ccb0989662211f61edae2e26d58ea92f</td>\n",
       "      <td>2ba8698b79439589fdd2b0f7218d8b07</td>\n",
       "      <td>0e095e054ee94774d6a496099eb1cf6a</td>\n",
       "      <td>3b5dca501ee1e6d8cd7b905f4e1bf723</td>\n",
       "    </tr>\n",
       "    <tr>\n",
       "      <th>4</th>\n",
       "      <td>d41e0e6f6f1e29098d9d152511503ab2</td>\n",
       "      <td>4a213d37242bdcad8e7300e202e7caa4</td>\n",
       "      <td>4e2545f819e67f0615003dd7e04a6087</td>\n",
       "      <td>884d79963bd8bc0ae9b13a1aa71add73</td>\n",
       "      <td>d961e9f236177d65d21100592edb0769</td>\n",
       "    </tr>\n",
       "    <tr>\n",
       "      <th>...</th>\n",
       "      <td>...</td>\n",
       "      <td>...</td>\n",
       "      <td>...</td>\n",
       "      <td>...</td>\n",
       "      <td>...</td>\n",
       "    </tr>\n",
       "    <tr>\n",
       "      <th>2430</th>\n",
       "      <td>01ed443356f762e9132b58f8c80e131d</td>\n",
       "      <td>26e359e83860db1d11b6acca57d8ea88</td>\n",
       "      <td>2ba8698b79439589fdd2b0f7218d8b07</td>\n",
       "      <td>4122cb13c7a474c1976c9706ae36521d</td>\n",
       "      <td>3b8a614226a953a8cd9526fca6fe9ba5</td>\n",
       "    </tr>\n",
       "    <tr>\n",
       "      <th>2431</th>\n",
       "      <td>946aa0c612952da8d67dd338a43d5929</td>\n",
       "      <td>c0f168ce8900fa56e57789e2a2f2c9d0</td>\n",
       "      <td>8a3363abe792db2d8761d6403605aeb7</td>\n",
       "      <td>8a3363abe792db2d8761d6403605aeb7</td>\n",
       "      <td>d7322ed717dedf1eb4e6e52a37ea7bcd</td>\n",
       "    </tr>\n",
       "    <tr>\n",
       "      <th>2432</th>\n",
       "      <td>ce840aa9583592e71f3db26ee6e41703</td>\n",
       "      <td>8065d07da4a77621450aa84fee5656d9</td>\n",
       "      <td>bd4c9ab730f5513206b999ec0d90d1fb</td>\n",
       "      <td>38ca89564b2259401518960f7a06f94b</td>\n",
       "      <td>7b5b23f4aadf9513306bcd59afb6e4c9</td>\n",
       "    </tr>\n",
       "    <tr>\n",
       "      <th>2433</th>\n",
       "      <td>946aa0c612952da8d67dd338a43d5929</td>\n",
       "      <td>a0160709701140704575d499c997b6ca</td>\n",
       "      <td>8a3363abe792db2d8761d6403605aeb7</td>\n",
       "      <td>9a3d458322d70046f63dfd8b0153ece4</td>\n",
       "      <td>ec8ce6abb3e952a85b8551ba726a1227</td>\n",
       "    </tr>\n",
       "    <tr>\n",
       "      <th>2434</th>\n",
       "      <td>33349e909eba71677299d2fc97e158b7</td>\n",
       "      <td>192fc044e74dffea144f9ac5dc9f3395</td>\n",
       "      <td>7d771e0e8f3633ab54856925ecdefc5d</td>\n",
       "      <td>c8ba76c279269b1c6bc8a07e38e78fa4</td>\n",
       "      <td>846c260d715e5b854ffad5f70a516c88</td>\n",
       "    </tr>\n",
       "  </tbody>\n",
       "</table>\n",
       "<p>2435 rows × 5 columns</p>\n",
       "</div>"
      ],
      "text/plain": [
       "                                userID                             jobID  \\\n",
       "0     ebaee1af0c501f22ddfe242fc16dae53  352407221afb776e3143e8a1a0577885   \n",
       "1     9ab05403ac7808cbfba3da26665f7a9c  96b9bff013acedfb1d140579e2fbeb63   \n",
       "2     33349e909eba71677299d2fc97e158b7  58d4d1e7b1e97b258c9ed0b37e02d087   \n",
       "3     ac985a9db5faeb44c94a334430ccc241  ccb0989662211f61edae2e26d58ea92f   \n",
       "4     d41e0e6f6f1e29098d9d152511503ab2  4a213d37242bdcad8e7300e202e7caa4   \n",
       "...                                ...                               ...   \n",
       "2430  01ed443356f762e9132b58f8c80e131d  26e359e83860db1d11b6acca57d8ea88   \n",
       "2431  946aa0c612952da8d67dd338a43d5929  c0f168ce8900fa56e57789e2a2f2c9d0   \n",
       "2432  ce840aa9583592e71f3db26ee6e41703  8065d07da4a77621450aa84fee5656d9   \n",
       "2433  946aa0c612952da8d67dd338a43d5929  a0160709701140704575d499c997b6ca   \n",
       "2434  33349e909eba71677299d2fc97e158b7  192fc044e74dffea144f9ac5dc9f3395   \n",
       "\n",
       "                  applicated_user_tags               applicated_job_tags  \\\n",
       "0     1e1d184167ca7676cf665225e236a3d2  cd758e8f59dfdf06a852adad277986ca   \n",
       "1     e702e51da2c0f5be4dd354bb3e295d37  9701a1c165dd9420816bfec5edd6c2b1   \n",
       "2     7d771e0e8f3633ab54856925ecdefc5d  cd758e8f59dfdf06a852adad277986ca   \n",
       "3     2ba8698b79439589fdd2b0f7218d8b07  0e095e054ee94774d6a496099eb1cf6a   \n",
       "4     4e2545f819e67f0615003dd7e04a6087  884d79963bd8bc0ae9b13a1aa71add73   \n",
       "...                                ...                               ...   \n",
       "2430  2ba8698b79439589fdd2b0f7218d8b07  4122cb13c7a474c1976c9706ae36521d   \n",
       "2431  8a3363abe792db2d8761d6403605aeb7  8a3363abe792db2d8761d6403605aeb7   \n",
       "2432  bd4c9ab730f5513206b999ec0d90d1fb  38ca89564b2259401518960f7a06f94b   \n",
       "2433  8a3363abe792db2d8761d6403605aeb7  9a3d458322d70046f63dfd8b0153ece4   \n",
       "2434  7d771e0e8f3633ab54856925ecdefc5d  c8ba76c279269b1c6bc8a07e38e78fa4   \n",
       "\n",
       "                applicated_job_company  \n",
       "0     b51a15f382ac914391a58850ab343b00  \n",
       "1     9f396fe44e7c05c16873b05ec425cbad  \n",
       "2     68053af2923e00204c3ca7c6a3150cf7  \n",
       "3     3b5dca501ee1e6d8cd7b905f4e1bf723  \n",
       "4     d961e9f236177d65d21100592edb0769  \n",
       "...                                ...  \n",
       "2430  3b8a614226a953a8cd9526fca6fe9ba5  \n",
       "2431  d7322ed717dedf1eb4e6e52a37ea7bcd  \n",
       "2432  7b5b23f4aadf9513306bcd59afb6e4c9  \n",
       "2433  ec8ce6abb3e952a85b8551ba726a1227  \n",
       "2434  846c260d715e5b854ffad5f70a516c88  \n",
       "\n",
       "[2435 rows x 5 columns]"
      ]
     },
     "execution_count": 312,
     "metadata": {},
     "output_type": "execute_result"
    }
   ],
   "source": [
    "test"
   ]
  },
  {
   "cell_type": "code",
   "execution_count": 313,
   "metadata": {},
   "outputs": [
    {
     "data": {
      "text/plain": [
       "0"
      ]
     },
     "execution_count": 313,
     "metadata": {},
     "output_type": "execute_result"
    }
   ],
   "source": [
    "test['applicated_user_tags'].isnull().sum() ## okay !"
   ]
  },
  {
   "cell_type": "code",
   "execution_count": 314,
   "metadata": {},
   "outputs": [
    {
     "data": {
      "text/plain": [
       "0"
      ]
     },
     "execution_count": 314,
     "metadata": {},
     "output_type": "execute_result"
    }
   ],
   "source": [
    "test['applicated_job_tags'].isnull().sum() ## okay !"
   ]
  },
  {
   "cell_type": "code",
   "execution_count": 315,
   "metadata": {},
   "outputs": [
    {
     "data": {
      "text/plain": [
       "0"
      ]
     },
     "execution_count": 315,
     "metadata": {},
     "output_type": "execute_result"
    }
   ],
   "source": [
    "test['applicated_job_company'].isnull().sum() ## okay !"
   ]
  },
  {
   "cell_type": "code",
   "execution_count": 316,
   "metadata": {},
   "outputs": [
    {
     "name": "stdout",
     "output_type": "stream",
     "text": [
      "<class 'pandas.core.frame.DataFrame'>\n",
      "RangeIndex: 6000 entries, 0 to 5999\n",
      "Data columns (total 6 columns):\n",
      " #   Column                  Non-Null Count  Dtype \n",
      "---  ------                  --------------  ----- \n",
      " 0   userID                  6000 non-null   object\n",
      " 1   jobID                   6000 non-null   object\n",
      " 2   applied                 6000 non-null   int64 \n",
      " 3   applicated_user_tags    6000 non-null   object\n",
      " 4   applicated_job_tags     6000 non-null   object\n",
      " 5   applicated_job_company  6000 non-null   object\n",
      "dtypes: int64(1), object(5)\n",
      "memory usage: 281.4+ KB\n"
     ]
    }
   ],
   "source": [
    "# 모델링\n",
    "train.info() # 현재 지원여부('applied')는 int64 type"
   ]
  },
  {
   "cell_type": "code",
   "execution_count": 317,
   "metadata": {
    "scrolled": false
   },
   "outputs": [
    {
     "name": "stdout",
     "output_type": "stream",
     "text": [
      "<class 'pandas.core.frame.DataFrame'>\n",
      "RangeIndex: 2435 entries, 0 to 2434\n",
      "Data columns (total 5 columns):\n",
      " #   Column                  Non-Null Count  Dtype \n",
      "---  ------                  --------------  ----- \n",
      " 0   userID                  2435 non-null   object\n",
      " 1   jobID                   2435 non-null   object\n",
      " 2   applicated_user_tags    2435 non-null   object\n",
      " 3   applicated_job_tags     2435 non-null   object\n",
      " 4   applicated_job_company  2435 non-null   object\n",
      "dtypes: object(5)\n",
      "memory usage: 95.2+ KB\n"
     ]
    }
   ],
   "source": [
    "test.info()"
   ]
  },
  {
   "cell_type": "markdown",
   "metadata": {},
   "source": [
    "- CSV 파일 새로 만들어주기\n",
    "submit2 = pd.DataFrame(pred)\n",
    "submit2.to_csv('lgbm_model_submission.csv', header = True, index=False)"
   ]
  },
  {
   "cell_type": "code",
   "execution_count": null,
   "metadata": {},
   "outputs": [],
   "source": []
  },
  {
   "cell_type": "code",
   "execution_count": 322,
   "metadata": {},
   "outputs": [],
   "source": [
    "from sklearn.preprocessing import LabelEncoder"
   ]
  },
  {
   "cell_type": "code",
   "execution_count": 323,
   "metadata": {},
   "outputs": [],
   "source": [
    "# object 변수들 -> float or boolean 으로 바꿔주기\n",
    "# 범주형 변수 -> 숫자 형태로 인코딩\n",
    "\n",
    "LE = LabelEncoder()\n",
    "\n",
    "LE.fit(list(train['userID'])+list(test['userID']))\n",
    "train['userID'] = LE.transform(train['userID'])\n",
    "test['userID'] = LE.transform(test['userID'])\n",
    "\n",
    "LE.fit(list(train['jobID'])+list(test['jobID']))\n",
    "train['jobID'] = LE.transform(train['jobID'])\n",
    "test['jobID'] = LE.transform(test['jobID'])\n",
    "\n",
    "LE.fit(list(train['applicated_user_tags'])+list(test['applicated_user_tags']))\n",
    "train['applicated_user_tags'] = LE.transform(train['applicated_user_tags'])\n",
    "test['applicated_user_tags'] = LE.transform(test['applicated_user_tags'])\n",
    "\n",
    "LE.fit(list(train['applicated_job_tags'])+list(test['applicated_job_tags']))\n",
    "train['applicated_job_tags'] = LE.transform(train['applicated_job_tags'])\n",
    "test['applicated_job_tags'] = LE.transform(test['applicated_job_tags'])\n",
    "\n",
    "LE.fit(list(train['applicated_job_company'])+list(test['applicated_job_company']))\n",
    "train['applicated_job_company'] = LE.transform(train['applicated_job_company'])\n",
    "test['applicated_job_company'] = LE.transform(test['applicated_job_company'])"
   ]
  },
  {
   "cell_type": "code",
   "execution_count": null,
   "metadata": {},
   "outputs": [],
   "source": []
  },
  {
   "cell_type": "code",
   "execution_count": 191,
   "metadata": {
    "scrolled": true
   },
   "outputs": [
    {
     "name": "stdout",
     "output_type": "stream",
     "text": [
      "Collecting pip\n",
      "  Downloading pip-20.3.1-py2.py3-none-any.whl (1.5 MB)\n",
      "\u001b[K     |████████████████████████████████| 1.5 MB 2.0 MB/s eta 0:00:01\n",
      "\u001b[?25hRequirement already up-to-date: xgboost in /Users/hyun/opt/anaconda3/lib/python3.8/site-packages (1.3.0.post0)\n",
      "Requirement already satisfied, skipping upgrade: numpy in /Users/hyun/opt/anaconda3/lib/python3.8/site-packages (from xgboost) (1.18.5)\n",
      "Requirement already satisfied, skipping upgrade: scipy in /Users/hyun/opt/anaconda3/lib/python3.8/site-packages (from xgboost) (1.4.1)\n",
      "Installing collected packages: pip\n",
      "  Attempting uninstall: pip\n",
      "    Found existing installation: pip 20.2.4\n",
      "    Uninstalling pip-20.2.4:\n",
      "      Successfully uninstalled pip-20.2.4\n",
      "Successfully installed pip-20.3.1\n"
     ]
    }
   ],
   "source": [
    "!pip install --upgrade pip xgboost"
   ]
  },
  {
   "cell_type": "code",
   "execution_count": 195,
   "metadata": {},
   "outputs": [],
   "source": [
    "from sklearn.preprocessing import StandardScaler\n",
    "from sklearn.neighbors import KNeighborsClassifier\n",
    "from sklearn.linear_model import LogisticRegression\n",
    "from sklearn.ensemble import RandomForestClassifier\n",
    "from sklearn.svm import SVC\n",
    "#from xgboost import XGBClassifier\n",
    "from sklearn.ensemble import GradientBoostingClassifier\n",
    "from sklearn.ensemble import ExtraTreesClassifier\n",
    "from sklearn.ensemble import AdaBoostClassifier\n",
    "from sklearn.gaussian_process import GaussianProcessClassifier\n",
    "from sklearn.naive_bayes import GaussianNB\n",
    "from sklearn.ensemble import BaggingClassifier\n",
    "from sklearn.ensemble import VotingClassifier"
   ]
  },
  {
   "cell_type": "code",
   "execution_count": 332,
   "metadata": {},
   "outputs": [],
   "source": [
    "# Binary Classifier 모델로 다시\n",
    "\n",
    "# 데이터 결합\n",
    "drop_column = ['applied']\n",
    "\n",
    "X_data = train.drop(drop_column, axis=1)\n",
    "y_data = train['applied'].values\n",
    "\n",
    "X_train, X_valid, y_train, y_valid = train_test_split(X_data, y_data, test_size=0.2, random_state=42)"
   ]
  },
  {
   "cell_type": "code",
   "execution_count": 325,
   "metadata": {},
   "outputs": [],
   "source": []
  },
  {
   "cell_type": "code",
   "execution_count": 333,
   "metadata": {},
   "outputs": [],
   "source": [
    "scaler = StandardScaler()\n",
    "X_train = scaler.fit_transform(X_train)\n",
    "X_test = scaler.transform(X_test)"
   ]
  },
  {
   "cell_type": "code",
   "execution_count": 259,
   "metadata": {},
   "outputs": [],
   "source": [
    "# 임포트\n",
    "# 모델 튜닝 및 평가\n",
    "from sklearn.model_selection import cross_val_score\n",
    "from sklearn.model_selection import GridSearchCV\n",
    "from sklearn.model_selection import cross_val_predict\n",
    "from sklearn import model_selection"
   ]
  },
  {
   "cell_type": "markdown",
   "metadata": {},
   "source": [
    "\n",
    "ran = RandomForestClassifier(random_state=1)\n",
    "knn = KNeighborsClassifier()\n",
    "log = LogisticRegression()\n",
    "#xgb = XGBClassifier()\n",
    "gbc = GradientBoostingClassifier()\n",
    "svc = SVC(probability=True)\n",
    "ext = ExtraTreesClassifier()\n",
    "ada = AdaBoostClassifier()\n",
    "gnb = GaussianNB()\n",
    "gpc = GaussianProcessClassifier()\n",
    "bag = BaggingClassifier()\n",
    "\n",
    "- 리스트 준비\n",
    "models = [ran, knn, log, gbc, svc, ext, ada, gnb, gpc, bag]   # xgb 뺌      \n",
    "model_names = ['Random Forest', 'K Nearest Neighbour', 'Logistic Regression', 'XGBoost', 'Gradient Boosting', 'SVC', 'Extra Trees', 'AdaBoost', 'Gaussian Naive Bayes', 'Gaussian Process', 'Bagging Classifier']\n",
    "scores = {}\n",
    "\n",
    "- 이어서 연속적으로 모델을 학습 시키고 교차 검증합니다.\n",
    "for ind, mod in enumerate(models):\n",
    "    mod.fit(X_train, y_train)\n",
    "    acc = cross_val_score(mod, X_train, y_train, scoring = \"accuracy\", cv = 10)\n",
    "    scores[model_names[ind]] = acc"
   ]
  },
  {
   "cell_type": "code",
   "execution_count": 334,
   "metadata": {},
   "outputs": [],
   "source": [
    "ran = RandomForestClassifier(random_state=1)\n",
    "knn = KNeighborsClassifier()\n",
    "log = LogisticRegression()\n",
    "\n",
    "\n",
    "# 리스트 준비\n",
    "models = [ran, knn, log]  \n",
    "model_names = ['Random Forest', 'K Nearest Neighbour', 'Logistic Regression'] \n",
    "\n",
    "# 이어서 연속적으로 모델을 학습 시키고 교차 검증합니다.\n",
    "for ind, mod in enumerate(models):\n",
    "    mod.fit(X_train, y_train)\n",
    "    acc = cross_val_score(mod, X_train, y_train, scoring = \"accuracy\", cv = 10)\n",
    "    scores[model_names[ind]] = acc"
   ]
  },
  {
   "cell_type": "code",
   "execution_count": 328,
   "metadata": {},
   "outputs": [
    {
     "data": {
      "text/html": [
       "<div>\n",
       "<style scoped>\n",
       "    .dataframe tbody tr th:only-of-type {\n",
       "        vertical-align: middle;\n",
       "    }\n",
       "\n",
       "    .dataframe tbody tr th {\n",
       "        vertical-align: top;\n",
       "    }\n",
       "\n",
       "    .dataframe thead th {\n",
       "        text-align: right;\n",
       "    }\n",
       "</style>\n",
       "<table border=\"1\" class=\"dataframe\">\n",
       "  <thead>\n",
       "    <tr style=\"text-align: right;\">\n",
       "      <th></th>\n",
       "      <th>0</th>\n",
       "      <th>1</th>\n",
       "      <th>2</th>\n",
       "      <th>3</th>\n",
       "      <th>4</th>\n",
       "      <th>5</th>\n",
       "      <th>6</th>\n",
       "      <th>7</th>\n",
       "      <th>8</th>\n",
       "      <th>9</th>\n",
       "      <th>mean</th>\n",
       "    </tr>\n",
       "  </thead>\n",
       "  <tbody>\n",
       "    <tr>\n",
       "      <th>XGBoost</th>\n",
       "      <td>0.853333</td>\n",
       "      <td>0.855000</td>\n",
       "      <td>0.860000</td>\n",
       "      <td>0.856667</td>\n",
       "      <td>0.870000</td>\n",
       "      <td>0.851667</td>\n",
       "      <td>0.853333</td>\n",
       "      <td>0.856667</td>\n",
       "      <td>0.855000</td>\n",
       "      <td>0.863333</td>\n",
       "      <td>0.857500</td>\n",
       "    </tr>\n",
       "    <tr>\n",
       "      <th>Logistic Regression</th>\n",
       "      <td>0.858333</td>\n",
       "      <td>0.858333</td>\n",
       "      <td>0.858333</td>\n",
       "      <td>0.856667</td>\n",
       "      <td>0.856667</td>\n",
       "      <td>0.856667</td>\n",
       "      <td>0.856667</td>\n",
       "      <td>0.856667</td>\n",
       "      <td>0.856667</td>\n",
       "      <td>0.856667</td>\n",
       "      <td>0.857167</td>\n",
       "    </tr>\n",
       "    <tr>\n",
       "      <th>Gradient Boosting</th>\n",
       "      <td>0.858333</td>\n",
       "      <td>0.858333</td>\n",
       "      <td>0.858333</td>\n",
       "      <td>0.856667</td>\n",
       "      <td>0.856667</td>\n",
       "      <td>0.856667</td>\n",
       "      <td>0.856667</td>\n",
       "      <td>0.856667</td>\n",
       "      <td>0.856667</td>\n",
       "      <td>0.856667</td>\n",
       "      <td>0.857167</td>\n",
       "    </tr>\n",
       "    <tr>\n",
       "      <th>AdaBoost</th>\n",
       "      <td>0.858333</td>\n",
       "      <td>0.858333</td>\n",
       "      <td>0.858333</td>\n",
       "      <td>0.856667</td>\n",
       "      <td>0.856667</td>\n",
       "      <td>0.856667</td>\n",
       "      <td>0.856667</td>\n",
       "      <td>0.856667</td>\n",
       "      <td>0.856667</td>\n",
       "      <td>0.856667</td>\n",
       "      <td>0.857167</td>\n",
       "    </tr>\n",
       "    <tr>\n",
       "      <th>Extra Trees</th>\n",
       "      <td>0.853333</td>\n",
       "      <td>0.858333</td>\n",
       "      <td>0.860000</td>\n",
       "      <td>0.855000</td>\n",
       "      <td>0.856667</td>\n",
       "      <td>0.858333</td>\n",
       "      <td>0.856667</td>\n",
       "      <td>0.858333</td>\n",
       "      <td>0.855000</td>\n",
       "      <td>0.855000</td>\n",
       "      <td>0.856667</td>\n",
       "    </tr>\n",
       "    <tr>\n",
       "      <th>Random Forest</th>\n",
       "      <td>0.853333</td>\n",
       "      <td>0.858333</td>\n",
       "      <td>0.846667</td>\n",
       "      <td>0.855000</td>\n",
       "      <td>0.870000</td>\n",
       "      <td>0.851667</td>\n",
       "      <td>0.846667</td>\n",
       "      <td>0.848333</td>\n",
       "      <td>0.845000</td>\n",
       "      <td>0.851667</td>\n",
       "      <td>0.852667</td>\n",
       "    </tr>\n",
       "    <tr>\n",
       "      <th>SVC</th>\n",
       "      <td>0.850000</td>\n",
       "      <td>0.841667</td>\n",
       "      <td>0.843333</td>\n",
       "      <td>0.845000</td>\n",
       "      <td>0.868333</td>\n",
       "      <td>0.853333</td>\n",
       "      <td>0.843333</td>\n",
       "      <td>0.850000</td>\n",
       "      <td>0.850000</td>\n",
       "      <td>0.848333</td>\n",
       "      <td>0.849333</td>\n",
       "    </tr>\n",
       "    <tr>\n",
       "      <th>K Nearest Neighbour</th>\n",
       "      <td>0.831667</td>\n",
       "      <td>0.845000</td>\n",
       "      <td>0.838333</td>\n",
       "      <td>0.843333</td>\n",
       "      <td>0.846667</td>\n",
       "      <td>0.838333</td>\n",
       "      <td>0.841667</td>\n",
       "      <td>0.856667</td>\n",
       "      <td>0.850000</td>\n",
       "      <td>0.846667</td>\n",
       "      <td>0.843833</td>\n",
       "    </tr>\n",
       "  </tbody>\n",
       "</table>\n",
       "</div>"
      ],
      "text/plain": [
       "                            0         1         2         3         4  \\\n",
       "XGBoost              0.853333  0.855000  0.860000  0.856667  0.870000   \n",
       "Logistic Regression  0.858333  0.858333  0.858333  0.856667  0.856667   \n",
       "Gradient Boosting    0.858333  0.858333  0.858333  0.856667  0.856667   \n",
       "AdaBoost             0.858333  0.858333  0.858333  0.856667  0.856667   \n",
       "Extra Trees          0.853333  0.858333  0.860000  0.855000  0.856667   \n",
       "Random Forest        0.853333  0.858333  0.846667  0.855000  0.870000   \n",
       "SVC                  0.850000  0.841667  0.843333  0.845000  0.868333   \n",
       "K Nearest Neighbour  0.831667  0.845000  0.838333  0.843333  0.846667   \n",
       "\n",
       "                            5         6         7         8         9  \\\n",
       "XGBoost              0.851667  0.853333  0.856667  0.855000  0.863333   \n",
       "Logistic Regression  0.856667  0.856667  0.856667  0.856667  0.856667   \n",
       "Gradient Boosting    0.856667  0.856667  0.856667  0.856667  0.856667   \n",
       "AdaBoost             0.856667  0.856667  0.856667  0.856667  0.856667   \n",
       "Extra Trees          0.858333  0.856667  0.858333  0.855000  0.855000   \n",
       "Random Forest        0.851667  0.846667  0.848333  0.845000  0.851667   \n",
       "SVC                  0.853333  0.843333  0.850000  0.850000  0.848333   \n",
       "K Nearest Neighbour  0.838333  0.841667  0.856667  0.850000  0.846667   \n",
       "\n",
       "                         mean  \n",
       "XGBoost              0.857500  \n",
       "Logistic Regression  0.857167  \n",
       "Gradient Boosting    0.857167  \n",
       "AdaBoost             0.857167  \n",
       "Extra Trees          0.856667  \n",
       "Random Forest        0.852667  \n",
       "SVC                  0.849333  \n",
       "K Nearest Neighbour  0.843833  "
      ]
     },
     "execution_count": 328,
     "metadata": {},
     "output_type": "execute_result"
    }
   ],
   "source": [
    "# 결과 테이블을 만듭니다.\n",
    "results = pd.DataFrame(scores).T\n",
    "results['mean'] = results.mean(1)\n",
    "\n",
    "result_df = results.sort_values(by='mean', ascending=False)#.reset_index()\n",
    "result_df.head(11)"
   ]
  },
  {
   "cell_type": "code",
   "execution_count": 263,
   "metadata": {
    "scrolled": true
   },
   "outputs": [
    {
     "name": "stderr",
     "output_type": "stream",
     "text": [
      "findfont: Font family ['Hancom Gothic'] not found. Falling back to DejaVu Sans.\n"
     ]
    },
    {
     "data": {
      "image/png": "[encoded data removed]",
      "text/plain": [
       "<Figure size 432x288 with 1 Axes>"
      ]
     },
     "metadata": {
      "needs_background": "light"
     },
     "output_type": "display_data"
    }
   ],
   "source": [
    "result_df = result_df.drop(['mean'], axis=1)\n",
    "sns.boxplot(data=result_df.T, orient='h')\n",
    "plt.title('Machine Learning Algorithm Accuracy Score \\n')\n",
    "plt.xlabel('Accuracy Score (%)');"
   ]
  },
  {
   "cell_type": "code",
   "execution_count": null,
   "metadata": {},
   "outputs": [],
   "source": [
    "# 대안 1) Logistic_Regression => 점수: 33.26488706365503"
   ]
  },
  {
   "cell_type": "code",
   "execution_count": 269,
   "metadata": {},
   "outputs": [],
   "source": [
    "pred = log.predict(final_test)"
   ]
  },
  {
   "cell_type": "code",
   "execution_count": 277,
   "metadata": {},
   "outputs": [],
   "source": [
    "submit2 = pd.DataFrame(pred, columns=['applied'])\n",
    "submit2.to_csv('Logistic_Regression_submission.csv', header = True, index=False)"
   ]
  },
  {
   "cell_type": "code",
   "execution_count": null,
   "metadata": {},
   "outputs": [],
   "source": []
  },
  {
   "cell_type": "code",
   "execution_count": null,
   "metadata": {},
   "outputs": [],
   "source": [
    "# 대안 2) Random_Forest_Classifier => 점수: 85.62628336755647"
   ]
  },
  {
   "cell_type": "code",
   "execution_count": 335,
   "metadata": {},
   "outputs": [],
   "source": [
    "pred2 = ran.predict(final_test)"
   ]
  },
  {
   "cell_type": "code",
   "execution_count": 336,
   "metadata": {},
   "outputs": [],
   "source": [
    "submit3 = pd.DataFrame(pred2, columns=['applied'])\n",
    "submit3.to_csv('Random_Forest_Classifier_submission.csv', header = True, index=False)"
   ]
  },
  {
   "cell_type": "code",
   "execution_count": 337,
   "metadata": {},
   "outputs": [
    {
     "data": {
      "image/png": "[encoded data removed]",
      "text/plain": [
       "<Figure size 1440x720 with 1 Axes>"
      ]
     },
     "metadata": {
      "needs_background": "light"
     },
     "output_type": "display_data"
    }
   ],
   "source": [
    "show_feature_importance(ran, X_valid)"
   ]
  },
  {
   "cell_type": "code",
   "execution_count": null,
   "metadata": {},
   "outputs": [],
   "source": []
  },
  {
   "cell_type": "code",
   "execution_count": null,
   "metadata": {},
   "outputs": [],
   "source": [
    "# 대안 3) KNeighborsClassifier => 점수 : 85.42094455852155"
   ]
  },
  {
   "cell_type": "code",
   "execution_count": 287,
   "metadata": {},
   "outputs": [],
   "source": [
    "pred3 = knn.predict(final_test)"
   ]
  },
  {
   "cell_type": "code",
   "execution_count": 288,
   "metadata": {},
   "outputs": [],
   "source": [
    "submit4 = pd.DataFrame(pred3, columns=['applied'])\n",
    "submit4.to_csv('KNeighborsClassifier_submission.csv', header = True, index=False)"
   ]
  },
  {
   "cell_type": "code",
   "execution_count": null,
   "metadata": {},
   "outputs": [],
   "source": []
  },
  {
   "cell_type": "code",
   "execution_count": null,
   "metadata": {},
   "outputs": [],
   "source": []
  },
  {
   "cell_type": "code",
   "execution_count": null,
   "metadata": {},
   "outputs": [],
   "source": []
  },
  {
   "cell_type": "code",
   "execution_count": 292,
   "metadata": {},
   "outputs": [],
   "source": [
    "# 추가 : 랜덤 포레스트 선택 + feature drop 시도 => 점수 : 84.39425051334702\n",
    "\n",
    "X_test = test.drop('applicated_job_tags', axis=1)\n",
    "X_train = train.drop(['applied', 'applicated_job_tags'], axis=1)\n",
    "\n",
    "y_train = train['applied']"
   ]
  },
  {
   "cell_type": "code",
   "execution_count": 293,
   "metadata": {},
   "outputs": [],
   "source": [
    "final_test2 = test.drop('applicated_job_tags', axis=1)"
   ]
  },
  {
   "cell_type": "code",
   "execution_count": 297,
   "metadata": {},
   "outputs": [],
   "source": [
    "# 모델\n",
    "pred4 = ran.predict(final_test2)"
   ]
  },
  {
   "cell_type": "code",
   "execution_count": 299,
   "metadata": {
    "scrolled": true
   },
   "outputs": [
    {
     "data": {
      "text/html": [
       "<div>\n",
       "<style scoped>\n",
       "    .dataframe tbody tr th:only-of-type {\n",
       "        vertical-align: middle;\n",
       "    }\n",
       "\n",
       "    .dataframe tbody tr th {\n",
       "        vertical-align: top;\n",
       "    }\n",
       "\n",
       "    .dataframe thead th {\n",
       "        text-align: right;\n",
       "    }\n",
       "</style>\n",
       "<table border=\"1\" class=\"dataframe\">\n",
       "  <thead>\n",
       "    <tr style=\"text-align: right;\">\n",
       "      <th></th>\n",
       "      <th>userID</th>\n",
       "      <th>jobID</th>\n",
       "      <th>applicated_user_tags</th>\n",
       "      <th>applicated_job_tags</th>\n",
       "      <th>applicated_job_company</th>\n",
       "    </tr>\n",
       "  </thead>\n",
       "  <tbody>\n",
       "    <tr>\n",
       "      <th>1782</th>\n",
       "      <td>65</td>\n",
       "      <td>527</td>\n",
       "      <td>27</td>\n",
       "      <td>17</td>\n",
       "      <td>170</td>\n",
       "    </tr>\n",
       "    <tr>\n",
       "      <th>3917</th>\n",
       "      <td>34</td>\n",
       "      <td>675</td>\n",
       "      <td>57</td>\n",
       "      <td>56</td>\n",
       "      <td>158</td>\n",
       "    </tr>\n",
       "    <tr>\n",
       "      <th>221</th>\n",
       "      <td>111</td>\n",
       "      <td>171</td>\n",
       "      <td>92</td>\n",
       "      <td>104</td>\n",
       "      <td>150</td>\n",
       "    </tr>\n",
       "    <tr>\n",
       "      <th>2135</th>\n",
       "      <td>169</td>\n",
       "      <td>590</td>\n",
       "      <td>23</td>\n",
       "      <td>42</td>\n",
       "      <td>62</td>\n",
       "    </tr>\n",
       "    <tr>\n",
       "      <th>5224</th>\n",
       "      <td>184</td>\n",
       "      <td>182</td>\n",
       "      <td>35</td>\n",
       "      <td>33</td>\n",
       "      <td>222</td>\n",
       "    </tr>\n",
       "    <tr>\n",
       "      <th>...</th>\n",
       "      <td>...</td>\n",
       "      <td>...</td>\n",
       "      <td>...</td>\n",
       "      <td>...</td>\n",
       "      <td>...</td>\n",
       "    </tr>\n",
       "    <tr>\n",
       "      <th>2543</th>\n",
       "      <td>127</td>\n",
       "      <td>479</td>\n",
       "      <td>65</td>\n",
       "      <td>5</td>\n",
       "      <td>151</td>\n",
       "    </tr>\n",
       "    <tr>\n",
       "      <th>1773</th>\n",
       "      <td>112</td>\n",
       "      <td>414</td>\n",
       "      <td>91</td>\n",
       "      <td>5</td>\n",
       "      <td>111</td>\n",
       "    </tr>\n",
       "    <tr>\n",
       "      <th>2846</th>\n",
       "      <td>109</td>\n",
       "      <td>423</td>\n",
       "      <td>68</td>\n",
       "      <td>28</td>\n",
       "      <td>211</td>\n",
       "    </tr>\n",
       "    <tr>\n",
       "      <th>5799</th>\n",
       "      <td>82</td>\n",
       "      <td>478</td>\n",
       "      <td>16</td>\n",
       "      <td>55</td>\n",
       "      <td>240</td>\n",
       "    </tr>\n",
       "    <tr>\n",
       "      <th>1765</th>\n",
       "      <td>21</td>\n",
       "      <td>436</td>\n",
       "      <td>51</td>\n",
       "      <td>5</td>\n",
       "      <td>29</td>\n",
       "    </tr>\n",
       "  </tbody>\n",
       "</table>\n",
       "<p>1200 rows × 5 columns</p>\n",
       "</div>"
      ],
      "text/plain": [
       "      userID  jobID  applicated_user_tags  applicated_job_tags  \\\n",
       "1782      65    527                    27                   17   \n",
       "3917      34    675                    57                   56   \n",
       "221      111    171                    92                  104   \n",
       "2135     169    590                    23                   42   \n",
       "5224     184    182                    35                   33   \n",
       "...      ...    ...                   ...                  ...   \n",
       "2543     127    479                    65                    5   \n",
       "1773     112    414                    91                    5   \n",
       "2846     109    423                    68                   28   \n",
       "5799      82    478                    16                   55   \n",
       "1765      21    436                    51                    5   \n",
       "\n",
       "      applicated_job_company  \n",
       "1782                     170  \n",
       "3917                     158  \n",
       "221                      150  \n",
       "2135                      62  \n",
       "5224                     222  \n",
       "...                      ...  \n",
       "2543                     151  \n",
       "1773                     111  \n",
       "2846                     211  \n",
       "5799                     240  \n",
       "1765                      29  \n",
       "\n",
       "[1200 rows x 5 columns]"
      ]
     },
     "execution_count": 299,
     "metadata": {},
     "output_type": "execute_result"
    }
   ],
   "source": [
    "X_valid"
   ]
  },
  {
   "cell_type": "code",
   "execution_count": 300,
   "metadata": {},
   "outputs": [],
   "source": [
    "X_valid = X_valid.drop('applicated_job_tags', axis=1)"
   ]
  },
  {
   "cell_type": "code",
   "execution_count": 301,
   "metadata": {},
   "outputs": [
    {
     "data": {
      "image/png": "[encoded data removed]",
      "text/plain": [
       "<Figure size 1440x720 with 1 Axes>"
      ]
     },
     "metadata": {
      "needs_background": "light"
     },
     "output_type": "display_data"
    }
   ],
   "source": [
    "show_feature_importance(ran, X_valid)"
   ]
  },
  {
   "cell_type": "code",
   "execution_count": 302,
   "metadata": {},
   "outputs": [],
   "source": [
    "submit5 = pd.DataFrame(pred4, columns=['applied'])\n",
    "submit5.to_csv('Random_Forest_Classifier_feature_drop_submission.csv', header = True, index=False)"
   ]
  },
  {
   "cell_type": "code",
   "execution_count": null,
   "metadata": {},
   "outputs": [],
   "source": []
  },
  {
   "cell_type": "code",
   "execution_count": null,
   "metadata": {},
   "outputs": [],
   "source": []
  },
  {
   "cell_type": "code",
   "execution_count": null,
   "metadata": {},
   "outputs": [],
   "source": []
  },
  {
   "cell_type": "code",
   "execution_count": null,
   "metadata": {},
   "outputs": [],
   "source": []
  },
  {
   "cell_type": "markdown",
   "metadata": {},
   "source": [
    "# 임포트\n",
    "from sklearn.model_selection import train_test_split\n",
    "from sklearn.metrics import mean_squared_error\n",
    "from lightgbm import LGBMRegressor"
   ]
  },
  {
   "cell_type": "markdown",
   "metadata": {},
   "source": [
    "# 데이터 결합\n",
    "drop_column = ['applied']\n",
    "\n",
    "X_data = train.drop(drop_column, axis=1)\n",
    "y_data = train['applied'].values\n",
    "\n",
    "X_train, X_valid, y_train, y_valid = train_test_split(X_data, y_data, test_size=0.2, random_state=42)"
   ]
  },
  {
   "cell_type": "markdown",
   "metadata": {},
   "source": [
    "# 모델 선언 및 훈련 (LightGBM)\n",
    "lgbm_model = LGBMRegressor(\n",
    "    boosting_type='gbdt',\n",
    "    num_leaves=31,\n",
    "    max_depth=-1,\n",
    "    learning_rate=0.1,\n",
    "    n_estimators=20000,\n",
    "    objective='regression',\n",
    "    subsample=1.0,\n",
    "    colsample_bytree=1.0,\n",
    "    reg_alpha=0.0,\n",
    "    reg_lambda=0.0,\n",
    "    random_state=42,\n",
    "    n_jobs=-1,\n",
    "#         max_bin=2*9\n",
    ")"
   ]
  },
  {
   "cell_type": "markdown",
   "metadata": {},
   "source": [
    "lgbm_model.fit(X_train, y_train, eval_set=[(X_train, y_train), (X_valid, y_valid)], eval_metric='rmse', verbose=200,\n",
    "              early_stopping_rounds=20000)"
   ]
  },
  {
   "cell_type": "code",
   "execution_count": 289,
   "metadata": {},
   "outputs": [],
   "source": [
    "# feature_importance 확인\n",
    "\n",
    "def show_feature_importance(model, data):\n",
    "    df=pd.DataFrame({'column':list(data.columns),\n",
    "              'score':list(model.feature_importances_),\n",
    "             })\n",
    "    plt.figure(figsize=(20,10))\n",
    "    sns.barplot(x=\"score\", y=\"column\", data=df)\n",
    "    plt.yticks(size=20)\n",
    "    plt.xticks(size=20)\n",
    "    plt.xlabel('score', size=20)\n",
    "    plt.ylabel('column', size=20)\n",
    "    plt.show()"
   ]
  },
  {
   "cell_type": "markdown",
   "metadata": {},
   "source": [
    "show_feature_importance(lgbm_model, X_valid)"
   ]
  },
  {
   "cell_type": "code",
   "execution_count": 166,
   "metadata": {},
   "outputs": [],
   "source": [
    "submit = pd.read_csv('sample_output_job.csv')"
   ]
  },
  {
   "cell_type": "code",
   "execution_count": 167,
   "metadata": {},
   "outputs": [
    {
     "data": {
      "text/html": [
       "<div>\n",
       "<style scoped>\n",
       "    .dataframe tbody tr th:only-of-type {\n",
       "        vertical-align: middle;\n",
       "    }\n",
       "\n",
       "    .dataframe tbody tr th {\n",
       "        vertical-align: top;\n",
       "    }\n",
       "\n",
       "    .dataframe thead th {\n",
       "        text-align: right;\n",
       "    }\n",
       "</style>\n",
       "<table border=\"1\" class=\"dataframe\">\n",
       "  <thead>\n",
       "    <tr style=\"text-align: right;\">\n",
       "      <th></th>\n",
       "      <th>applied</th>\n",
       "    </tr>\n",
       "  </thead>\n",
       "  <tbody>\n",
       "    <tr>\n",
       "      <th>0</th>\n",
       "      <td>0</td>\n",
       "    </tr>\n",
       "    <tr>\n",
       "      <th>1</th>\n",
       "      <td>1</td>\n",
       "    </tr>\n",
       "    <tr>\n",
       "      <th>2</th>\n",
       "      <td>0</td>\n",
       "    </tr>\n",
       "    <tr>\n",
       "      <th>3</th>\n",
       "      <td>1</td>\n",
       "    </tr>\n",
       "    <tr>\n",
       "      <th>4</th>\n",
       "      <td>0</td>\n",
       "    </tr>\n",
       "    <tr>\n",
       "      <th>5</th>\n",
       "      <td>1</td>\n",
       "    </tr>\n",
       "    <tr>\n",
       "      <th>6</th>\n",
       "      <td>0</td>\n",
       "    </tr>\n",
       "    <tr>\n",
       "      <th>7</th>\n",
       "      <td>1</td>\n",
       "    </tr>\n",
       "  </tbody>\n",
       "</table>\n",
       "</div>"
      ],
      "text/plain": [
       "   applied\n",
       "0        0\n",
       "1        1\n",
       "2        0\n",
       "3        1\n",
       "4        0\n",
       "5        1\n",
       "6        0\n",
       "7        1"
      ]
     },
     "execution_count": 167,
     "metadata": {},
     "output_type": "execute_result"
    }
   ],
   "source": [
    "submit"
   ]
  },
  {
   "cell_type": "code",
   "execution_count": 168,
   "metadata": {},
   "outputs": [],
   "source": [
    "final_test = test # 변수 제거했으면 적용"
   ]
  },
  {
   "cell_type": "code",
   "execution_count": 169,
   "metadata": {},
   "outputs": [
    {
     "data": {
      "text/html": [
       "<div>\n",
       "<style scoped>\n",
       "    .dataframe tbody tr th:only-of-type {\n",
       "        vertical-align: middle;\n",
       "    }\n",
       "\n",
       "    .dataframe tbody tr th {\n",
       "        vertical-align: top;\n",
       "    }\n",
       "\n",
       "    .dataframe thead th {\n",
       "        text-align: right;\n",
       "    }\n",
       "</style>\n",
       "<table border=\"1\" class=\"dataframe\">\n",
       "  <thead>\n",
       "    <tr style=\"text-align: right;\">\n",
       "      <th></th>\n",
       "      <th>userID</th>\n",
       "      <th>jobID</th>\n",
       "      <th>applicated_user_tags</th>\n",
       "      <th>applicated_job_tags</th>\n",
       "      <th>applicated_job_company</th>\n",
       "    </tr>\n",
       "  </thead>\n",
       "  <tbody>\n",
       "    <tr>\n",
       "      <th>0</th>\n",
       "      <td>180</td>\n",
       "      <td>157</td>\n",
       "      <td>10</td>\n",
       "      <td>97</td>\n",
       "      <td>193</td>\n",
       "    </tr>\n",
       "    <tr>\n",
       "      <th>1</th>\n",
       "      <td>121</td>\n",
       "      <td>420</td>\n",
       "      <td>88</td>\n",
       "      <td>71</td>\n",
       "      <td>168</td>\n",
       "    </tr>\n",
       "    <tr>\n",
       "      <th>2</th>\n",
       "      <td>29</td>\n",
       "      <td>252</td>\n",
       "      <td>44</td>\n",
       "      <td>97</td>\n",
       "      <td>111</td>\n",
       "    </tr>\n",
       "    <tr>\n",
       "      <th>3</th>\n",
       "      <td>138</td>\n",
       "      <td>578</td>\n",
       "      <td>16</td>\n",
       "      <td>5</td>\n",
       "      <td>61</td>\n",
       "    </tr>\n",
       "    <tr>\n",
       "      <th>4</th>\n",
       "      <td>166</td>\n",
       "      <td>213</td>\n",
       "      <td>31</td>\n",
       "      <td>63</td>\n",
       "      <td>227</td>\n",
       "    </tr>\n",
       "    <tr>\n",
       "      <th>...</th>\n",
       "      <td>...</td>\n",
       "      <td>...</td>\n",
       "      <td>...</td>\n",
       "      <td>...</td>\n",
       "      <td>...</td>\n",
       "    </tr>\n",
       "    <tr>\n",
       "      <th>2430</th>\n",
       "      <td>3</td>\n",
       "      <td>110</td>\n",
       "      <td>16</td>\n",
       "      <td>33</td>\n",
       "      <td>62</td>\n",
       "    </tr>\n",
       "    <tr>\n",
       "      <th>2431</th>\n",
       "      <td>116</td>\n",
       "      <td>540</td>\n",
       "      <td>52</td>\n",
       "      <td>64</td>\n",
       "      <td>223</td>\n",
       "    </tr>\n",
       "    <tr>\n",
       "      <th>2432</th>\n",
       "      <td>162</td>\n",
       "      <td>351</td>\n",
       "      <td>70</td>\n",
       "      <td>27</td>\n",
       "      <td>130</td>\n",
       "    </tr>\n",
       "    <tr>\n",
       "      <th>2433</th>\n",
       "      <td>116</td>\n",
       "      <td>448</td>\n",
       "      <td>52</td>\n",
       "      <td>73</td>\n",
       "      <td>254</td>\n",
       "    </tr>\n",
       "    <tr>\n",
       "      <th>2434</th>\n",
       "      <td>29</td>\n",
       "      <td>69</td>\n",
       "      <td>44</td>\n",
       "      <td>96</td>\n",
       "      <td>141</td>\n",
       "    </tr>\n",
       "  </tbody>\n",
       "</table>\n",
       "<p>2435 rows × 5 columns</p>\n",
       "</div>"
      ],
      "text/plain": [
       "      userID  jobID  applicated_user_tags  applicated_job_tags  \\\n",
       "0        180    157                    10                   97   \n",
       "1        121    420                    88                   71   \n",
       "2         29    252                    44                   97   \n",
       "3        138    578                    16                    5   \n",
       "4        166    213                    31                   63   \n",
       "...      ...    ...                   ...                  ...   \n",
       "2430       3    110                    16                   33   \n",
       "2431     116    540                    52                   64   \n",
       "2432     162    351                    70                   27   \n",
       "2433     116    448                    52                   73   \n",
       "2434      29     69                    44                   96   \n",
       "\n",
       "      applicated_job_company  \n",
       "0                        193  \n",
       "1                        168  \n",
       "2                        111  \n",
       "3                         61  \n",
       "4                        227  \n",
       "...                      ...  \n",
       "2430                      62  \n",
       "2431                     223  \n",
       "2432                     130  \n",
       "2433                     254  \n",
       "2434                     141  \n",
       "\n",
       "[2435 rows x 5 columns]"
      ]
     },
     "execution_count": 169,
     "metadata": {},
     "output_type": "execute_result"
    }
   ],
   "source": [
    "final_test"
   ]
  },
  {
   "cell_type": "markdown",
   "metadata": {},
   "source": [
    "pred = lgbm_model.predict(final_test)"
   ]
  },
  {
   "cell_type": "markdown",
   "metadata": {},
   "source": [
    "#submit2['applied'] = pred\n",
    "#submit2.to_csv('lgbm_model_submission.csv', index=False)"
   ]
  }
 ],
 "metadata": {
  "kernelspec": {
   "display_name": "Python 3",
   "language": "python",
   "name": "python3"
  },
  "language_info": {
   "codemirror_mode": {
    "name": "ipython",
    "version": 3
   },
   "file_extension": ".py",
   "mimetype": "text/x-python",
   "name": "python",
   "nbconvert_exporter": "python",
   "pygments_lexer": "ipython3",
   "version": "3.8.3"
  }
 },
 "nbformat": 4,
 "nbformat_minor": 4
}
