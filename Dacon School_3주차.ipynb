{
 "cells": [
  {
   "cell_type": "markdown",
   "metadata": {},
   "source": [
    "https://dacon.io/competitions/official/21265/overview/"
   ]
  },
  {
   "cell_type": "markdown",
   "metadata": {},
   "source": [
    "# 1주차"
   ]
  },
  {
   "cell_type": "markdown",
   "metadata": {},
   "source": [
    "# Library"
   ]
  },
  {
   "cell_type": "code",
   "execution_count": 1,
   "metadata": {
    "ExecuteTime": {
     "end_time": "2020-11-22T12:02:17.380590Z",
     "start_time": "2020-11-22T12:02:17.372588Z"
    },
    "run_control": {
     "marked": false
    }
   },
   "outputs": [],
   "source": [
    "# import matplotlib.font_manager as fm\n",
    "\n",
    "# # 설치된 폰트 출력\n",
    "# font_list = [font.name for font in fm.fontManager.ttflist]\n",
    "# font_list"
   ]
  },
  {
   "cell_type": "code",
   "execution_count": 2,
   "metadata": {
    "ExecuteTime": {
     "end_time": "2020-11-22T12:02:19.051887Z",
     "start_time": "2020-11-22T12:02:17.512620Z"
    }
   },
   "outputs": [],
   "source": [
    "import warnings\n",
    "warnings.filterwarnings('ignore')\n",
    "import pandas as pd\n",
    "from tqdm import tqdm\n",
    "import matplotlib.pyplot as plt\n",
    "import seaborn as sns\n",
    "import random\n",
    "import numpy as np\n",
    "\n",
    "\n",
    "%matplotlib inline\n",
    "plt.rcParams['axes.unicode_minus'] = False\n",
    "plt.rcParams['font.family'] = 'Hancom Gothic'"
   ]
  },
  {
   "cell_type": "markdown",
   "metadata": {},
   "source": [
    "# Data Load\n",
    "|columns|information|\n",
    "|----|-------|\n",
    "|transaction_id| 인덱스\n",
    "|apartment_id| 아파트 아이디\n",
    "|city| 도시\n",
    "|dong| 동\n",
    "|jibun| 지번\n",
    "|apt| 아파트 단지 이름\n",
    "|addr_kr| 주소\n",
    "|exclusive_use_area| 전용 면적\n",
    "|year_of_completion| 설립일자\n",
    "|transaction_year_month| 거래년월\n",
    "|transaction_date| 거래 날짜\n",
    "|floor| 층\n",
    "|transaction_real_price| 실거래가"
   ]
  },
  {
   "cell_type": "code",
   "execution_count": 5,
   "metadata": {
    "ExecuteTime": {
     "end_time": "2020-11-21T12:23:21.627291Z",
     "start_time": "2020-11-21T12:23:20.301307Z"
    }
   },
   "outputs": [],
   "source": [
    "train = pd.read_csv('train.csv')\n",
    "day_care_center = pd.read_csv('day_care_center.csv')\n",
    "park=pd.read_csv('park.csv')"
   ]
  },
  {
   "cell_type": "markdown",
   "metadata": {},
   "source": [
    "# 데이터 확인"
   ]
  },
  {
   "cell_type": "markdown",
   "metadata": {
    "ExecuteTime": {
     "end_time": "2020-11-09T18:22:08.513808Z",
     "start_time": "2020-11-09T18:22:08.482810Z"
    }
   },
   "source": [
    "## 컬럼 확인\n"
   ]
  },
  {
   "cell_type": "code",
   "execution_count": 4,
   "metadata": {
    "ExecuteTime": {
     "end_time": "2020-11-19T10:32:23.560706Z",
     "start_time": "2020-11-19T10:32:23.554704Z"
    },
    "scrolled": true
   },
   "outputs": [
    {
     "name": "stdout",
     "output_type": "stream",
     "text": [
      "['transaction_id', 'apartment_id', 'city', 'dong', 'jibun', 'apt', 'addr_kr', 'exclusive_use_area', 'year_of_completion', 'transaction_year_month', 'transaction_date', 'floor', 'transaction_real_price']\n"
     ]
    }
   ],
   "source": [
    "print(list(train.columns))"
   ]
  },
  {
   "cell_type": "code",
   "execution_count": 5,
   "metadata": {
    "ExecuteTime": {
     "end_time": "2020-11-19T10:32:29.068783Z",
     "start_time": "2020-11-19T10:32:28.961760Z"
    }
   },
   "outputs": [],
   "source": [
    "train = train.drop(['transaction_id'], axis=1)"
   ]
  },
  {
   "cell_type": "markdown",
   "metadata": {},
   "source": [
    "##  결측값 확인"
   ]
  },
  {
   "cell_type": "code",
   "execution_count": 6,
   "metadata": {
    "ExecuteTime": {
     "end_time": "2020-11-19T10:32:31.558210Z",
     "start_time": "2020-11-19T10:32:31.312689Z"
    }
   },
   "outputs": [
    {
     "data": {
      "text/plain": [
       "apartment_id              0\n",
       "city                      0\n",
       "dong                      0\n",
       "jibun                     0\n",
       "apt                       0\n",
       "addr_kr                   0\n",
       "exclusive_use_area        0\n",
       "year_of_completion        0\n",
       "transaction_year_month    0\n",
       "transaction_date          0\n",
       "floor                     0\n",
       "transaction_real_price    0\n",
       "dtype: int64"
      ]
     },
     "execution_count": 6,
     "metadata": {},
     "output_type": "execute_result"
    }
   ],
   "source": [
    "train.isnull().sum()            "
   ]
  },
  {
   "cell_type": "markdown",
   "metadata": {
    "ExecuteTime": {
     "end_time": "2020-11-09T18:23:10.819001Z",
     "start_time": "2020-11-09T18:23:10.816999Z"
    }
   },
   "source": [
    "## 상위 5개 확인"
   ]
  },
  {
   "cell_type": "code",
   "execution_count": 8,
   "metadata": {
    "ExecuteTime": {
     "end_time": "2020-11-15T10:36:41.166269Z",
     "start_time": "2020-11-15T10:36:41.152265Z"
    }
   },
   "outputs": [
    {
     "data": {
      "text/html": [
       "<div>\n",
       "<style scoped>\n",
       "    .dataframe tbody tr th:only-of-type {\n",
       "        vertical-align: middle;\n",
       "    }\n",
       "\n",
       "    .dataframe tbody tr th {\n",
       "        vertical-align: top;\n",
       "    }\n",
       "\n",
       "    .dataframe thead th {\n",
       "        text-align: right;\n",
       "    }\n",
       "</style>\n",
       "<table border=\"1\" class=\"dataframe\">\n",
       "  <thead>\n",
       "    <tr style=\"text-align: right;\">\n",
       "      <th></th>\n",
       "      <th>apartment_id</th>\n",
       "      <th>city</th>\n",
       "      <th>dong</th>\n",
       "      <th>jibun</th>\n",
       "      <th>apt</th>\n",
       "      <th>addr_kr</th>\n",
       "      <th>exclusive_use_area</th>\n",
       "      <th>year_of_completion</th>\n",
       "      <th>transaction_year_month</th>\n",
       "      <th>transaction_date</th>\n",
       "      <th>floor</th>\n",
       "      <th>transaction_real_price</th>\n",
       "    </tr>\n",
       "  </thead>\n",
       "  <tbody>\n",
       "    <tr>\n",
       "      <th>0</th>\n",
       "      <td>7622</td>\n",
       "      <td>서울특별시</td>\n",
       "      <td>신교동</td>\n",
       "      <td>6-13</td>\n",
       "      <td>신현(101동)</td>\n",
       "      <td>신교동 6-13 신현(101동)</td>\n",
       "      <td>84.82</td>\n",
       "      <td>2002</td>\n",
       "      <td>200801</td>\n",
       "      <td>21~31</td>\n",
       "      <td>2</td>\n",
       "      <td>37500</td>\n",
       "    </tr>\n",
       "    <tr>\n",
       "      <th>1</th>\n",
       "      <td>5399</td>\n",
       "      <td>서울특별시</td>\n",
       "      <td>필운동</td>\n",
       "      <td>142</td>\n",
       "      <td>사직파크맨션</td>\n",
       "      <td>필운동 142 사직파크맨션</td>\n",
       "      <td>99.17</td>\n",
       "      <td>1973</td>\n",
       "      <td>200801</td>\n",
       "      <td>1~10</td>\n",
       "      <td>6</td>\n",
       "      <td>20000</td>\n",
       "    </tr>\n",
       "    <tr>\n",
       "      <th>2</th>\n",
       "      <td>3578</td>\n",
       "      <td>서울특별시</td>\n",
       "      <td>필운동</td>\n",
       "      <td>174-1</td>\n",
       "      <td>두레엘리시안</td>\n",
       "      <td>필운동 174-1 두레엘리시안</td>\n",
       "      <td>84.74</td>\n",
       "      <td>2007</td>\n",
       "      <td>200801</td>\n",
       "      <td>1~10</td>\n",
       "      <td>6</td>\n",
       "      <td>38500</td>\n",
       "    </tr>\n",
       "    <tr>\n",
       "      <th>3</th>\n",
       "      <td>10957</td>\n",
       "      <td>서울특별시</td>\n",
       "      <td>내수동</td>\n",
       "      <td>95</td>\n",
       "      <td>파크팰리스</td>\n",
       "      <td>내수동 95 파크팰리스</td>\n",
       "      <td>146.39</td>\n",
       "      <td>2003</td>\n",
       "      <td>200801</td>\n",
       "      <td>11~20</td>\n",
       "      <td>15</td>\n",
       "      <td>118000</td>\n",
       "    </tr>\n",
       "    <tr>\n",
       "      <th>4</th>\n",
       "      <td>10639</td>\n",
       "      <td>서울특별시</td>\n",
       "      <td>내수동</td>\n",
       "      <td>110-15</td>\n",
       "      <td>킹스매너</td>\n",
       "      <td>내수동 110-15 킹스매너</td>\n",
       "      <td>194.43</td>\n",
       "      <td>2004</td>\n",
       "      <td>200801</td>\n",
       "      <td>21~31</td>\n",
       "      <td>3</td>\n",
       "      <td>120000</td>\n",
       "    </tr>\n",
       "  </tbody>\n",
       "</table>\n",
       "</div>"
      ],
      "text/plain": [
       "   apartment_id   city dong   jibun       apt            addr_kr  \\\n",
       "0          7622  서울특별시  신교동    6-13  신현(101동)  신교동 6-13 신현(101동)   \n",
       "1          5399  서울특별시  필운동     142    사직파크맨션     필운동 142 사직파크맨션   \n",
       "2          3578  서울특별시  필운동   174-1    두레엘리시안   필운동 174-1 두레엘리시안   \n",
       "3         10957  서울특별시  내수동      95     파크팰리스       내수동 95 파크팰리스   \n",
       "4         10639  서울특별시  내수동  110-15      킹스매너    내수동 110-15 킹스매너   \n",
       "\n",
       "   exclusive_use_area  year_of_completion  transaction_year_month  \\\n",
       "0               84.82                2002                  200801   \n",
       "1               99.17                1973                  200801   \n",
       "2               84.74                2007                  200801   \n",
       "3              146.39                2003                  200801   \n",
       "4              194.43                2004                  200801   \n",
       "\n",
       "  transaction_date  floor  transaction_real_price  \n",
       "0            21~31      2                   37500  \n",
       "1             1~10      6                   20000  \n",
       "2             1~10      6                   38500  \n",
       "3            11~20     15                  118000  \n",
       "4            21~31      3                  120000  "
      ]
     },
     "execution_count": 8,
     "metadata": {},
     "output_type": "execute_result"
    }
   ],
   "source": [
    "train.head()"
   ]
  },
  {
   "cell_type": "code",
   "execution_count": 9,
   "metadata": {
    "ExecuteTime": {
     "end_time": "2020-11-15T10:36:41.178271Z",
     "start_time": "2020-11-15T10:36:41.168268Z"
    }
   },
   "outputs": [
    {
     "data": {
      "text/html": [
       "<div>\n",
       "<style scoped>\n",
       "    .dataframe tbody tr th:only-of-type {\n",
       "        vertical-align: middle;\n",
       "    }\n",
       "\n",
       "    .dataframe tbody tr th {\n",
       "        vertical-align: top;\n",
       "    }\n",
       "\n",
       "    .dataframe thead th {\n",
       "        text-align: right;\n",
       "    }\n",
       "</style>\n",
       "<table border=\"1\" class=\"dataframe\">\n",
       "  <thead>\n",
       "    <tr style=\"text-align: right;\">\n",
       "      <th></th>\n",
       "      <th>city</th>\n",
       "      <th>gu</th>\n",
       "      <th>day_care_name</th>\n",
       "      <th>day_care_type</th>\n",
       "      <th>day_care_baby_num</th>\n",
       "      <th>teacher_num</th>\n",
       "      <th>nursing_room_num</th>\n",
       "      <th>playground_num</th>\n",
       "      <th>CCTV_num</th>\n",
       "      <th>is_commuting_vehicle</th>\n",
       "      <th>reference_date</th>\n",
       "    </tr>\n",
       "  </thead>\n",
       "  <tbody>\n",
       "    <tr>\n",
       "      <th>0</th>\n",
       "      <td>서울특별시</td>\n",
       "      <td>서대문구</td>\n",
       "      <td>가람어린이집</td>\n",
       "      <td>국공립</td>\n",
       "      <td>70</td>\n",
       "      <td>11.0</td>\n",
       "      <td>5.0</td>\n",
       "      <td>1.0</td>\n",
       "      <td>7.0</td>\n",
       "      <td>N</td>\n",
       "      <td>2018-07-31</td>\n",
       "    </tr>\n",
       "    <tr>\n",
       "      <th>1</th>\n",
       "      <td>서울특별시</td>\n",
       "      <td>서대문구</td>\n",
       "      <td>가좌제일어린이집</td>\n",
       "      <td>국공립</td>\n",
       "      <td>88</td>\n",
       "      <td>22.0</td>\n",
       "      <td>5.0</td>\n",
       "      <td>2.0</td>\n",
       "      <td>10.0</td>\n",
       "      <td>N</td>\n",
       "      <td>2018-07-31</td>\n",
       "    </tr>\n",
       "    <tr>\n",
       "      <th>2</th>\n",
       "      <td>서울특별시</td>\n",
       "      <td>서대문구</td>\n",
       "      <td>경찰청어린이집</td>\n",
       "      <td>직장</td>\n",
       "      <td>90</td>\n",
       "      <td>23.0</td>\n",
       "      <td>6.0</td>\n",
       "      <td>1.0</td>\n",
       "      <td>32.0</td>\n",
       "      <td>N</td>\n",
       "      <td>2018-07-31</td>\n",
       "    </tr>\n",
       "    <tr>\n",
       "      <th>3</th>\n",
       "      <td>서울특별시</td>\n",
       "      <td>서대문구</td>\n",
       "      <td>고운햇살어린이집</td>\n",
       "      <td>가정</td>\n",
       "      <td>18</td>\n",
       "      <td>5.0</td>\n",
       "      <td>3.0</td>\n",
       "      <td>0.0</td>\n",
       "      <td>4.0</td>\n",
       "      <td>N</td>\n",
       "      <td>2018-07-31</td>\n",
       "    </tr>\n",
       "    <tr>\n",
       "      <th>4</th>\n",
       "      <td>서울특별시</td>\n",
       "      <td>서대문구</td>\n",
       "      <td>고은어린이집</td>\n",
       "      <td>국공립</td>\n",
       "      <td>93</td>\n",
       "      <td>20.0</td>\n",
       "      <td>7.0</td>\n",
       "      <td>2.0</td>\n",
       "      <td>10.0</td>\n",
       "      <td>N</td>\n",
       "      <td>2018-07-31</td>\n",
       "    </tr>\n",
       "  </tbody>\n",
       "</table>\n",
       "</div>"
      ],
      "text/plain": [
       "    city    gu day_care_name day_care_type  day_care_baby_num  teacher_num  \\\n",
       "0  서울특별시  서대문구        가람어린이집           국공립                 70         11.0   \n",
       "1  서울특별시  서대문구      가좌제일어린이집           국공립                 88         22.0   \n",
       "2  서울특별시  서대문구       경찰청어린이집            직장                 90         23.0   \n",
       "3  서울특별시  서대문구      고운햇살어린이집            가정                 18          5.0   \n",
       "4  서울특별시  서대문구        고은어린이집           국공립                 93         20.0   \n",
       "\n",
       "   nursing_room_num  playground_num  CCTV_num is_commuting_vehicle  \\\n",
       "0               5.0             1.0       7.0                    N   \n",
       "1               5.0             2.0      10.0                    N   \n",
       "2               6.0             1.0      32.0                    N   \n",
       "3               3.0             0.0       4.0                    N   \n",
       "4               7.0             2.0      10.0                    N   \n",
       "\n",
       "  reference_date  \n",
       "0     2018-07-31  \n",
       "1     2018-07-31  \n",
       "2     2018-07-31  \n",
       "3     2018-07-31  \n",
       "4     2018-07-31  "
      ]
     },
     "execution_count": 9,
     "metadata": {},
     "output_type": "execute_result"
    }
   ],
   "source": [
    "day_care_center.head()"
   ]
  },
  {
   "cell_type": "code",
   "execution_count": 10,
   "metadata": {
    "ExecuteTime": {
     "end_time": "2020-11-15T10:36:41.191274Z",
     "start_time": "2020-11-15T10:36:41.179271Z"
    }
   },
   "outputs": [
    {
     "data": {
      "text/html": [
       "<div>\n",
       "<style scoped>\n",
       "    .dataframe tbody tr th:only-of-type {\n",
       "        vertical-align: middle;\n",
       "    }\n",
       "\n",
       "    .dataframe tbody tr th {\n",
       "        vertical-align: top;\n",
       "    }\n",
       "\n",
       "    .dataframe thead th {\n",
       "        text-align: right;\n",
       "    }\n",
       "</style>\n",
       "<table border=\"1\" class=\"dataframe\">\n",
       "  <thead>\n",
       "    <tr style=\"text-align: right;\">\n",
       "      <th></th>\n",
       "      <th>city</th>\n",
       "      <th>gu</th>\n",
       "      <th>dong</th>\n",
       "      <th>park_name</th>\n",
       "      <th>park_type</th>\n",
       "      <th>park_area</th>\n",
       "      <th>park_exercise_facility</th>\n",
       "      <th>park_entertainment_facility</th>\n",
       "      <th>park_benefit_facility</th>\n",
       "      <th>park_cultural_facitiy</th>\n",
       "      <th>park_facility_other</th>\n",
       "      <th>park_open_year</th>\n",
       "      <th>reference_date</th>\n",
       "    </tr>\n",
       "  </thead>\n",
       "  <tbody>\n",
       "    <tr>\n",
       "      <th>0</th>\n",
       "      <td>부산광역시</td>\n",
       "      <td>남구</td>\n",
       "      <td>대연동</td>\n",
       "      <td>대연공원</td>\n",
       "      <td>근린공원</td>\n",
       "      <td>55227.0</td>\n",
       "      <td>NaN</td>\n",
       "      <td>NaN</td>\n",
       "      <td>NaN</td>\n",
       "      <td>NaN</td>\n",
       "      <td>NaN</td>\n",
       "      <td>1944.0</td>\n",
       "      <td>2018-08-14</td>\n",
       "    </tr>\n",
       "    <tr>\n",
       "      <th>1</th>\n",
       "      <td>부산광역시</td>\n",
       "      <td>남구</td>\n",
       "      <td>대연동</td>\n",
       "      <td>당곡공원</td>\n",
       "      <td>역사공원</td>\n",
       "      <td>75465.0</td>\n",
       "      <td>NaN</td>\n",
       "      <td>NaN</td>\n",
       "      <td>NaN</td>\n",
       "      <td>NaN</td>\n",
       "      <td>NaN</td>\n",
       "      <td>1944.0</td>\n",
       "      <td>2018-08-14</td>\n",
       "    </tr>\n",
       "    <tr>\n",
       "      <th>2</th>\n",
       "      <td>부산광역시</td>\n",
       "      <td>남구</td>\n",
       "      <td>대연동</td>\n",
       "      <td>대일어린이공원</td>\n",
       "      <td>어린이공원</td>\n",
       "      <td>422.1</td>\n",
       "      <td>NaN</td>\n",
       "      <td>NaN</td>\n",
       "      <td>NaN</td>\n",
       "      <td>NaN</td>\n",
       "      <td>NaN</td>\n",
       "      <td>1965.0</td>\n",
       "      <td>2018-08-14</td>\n",
       "    </tr>\n",
       "    <tr>\n",
       "      <th>3</th>\n",
       "      <td>부산광역시</td>\n",
       "      <td>남구</td>\n",
       "      <td>대연동</td>\n",
       "      <td>못골어린이공원</td>\n",
       "      <td>어린이공원</td>\n",
       "      <td>499.8</td>\n",
       "      <td>NaN</td>\n",
       "      <td>NaN</td>\n",
       "      <td>NaN</td>\n",
       "      <td>NaN</td>\n",
       "      <td>NaN</td>\n",
       "      <td>1968.0</td>\n",
       "      <td>2018-08-14</td>\n",
       "    </tr>\n",
       "    <tr>\n",
       "      <th>4</th>\n",
       "      <td>부산광역시</td>\n",
       "      <td>남구</td>\n",
       "      <td>용호동</td>\n",
       "      <td>솔밭어린이공원</td>\n",
       "      <td>어린이공원</td>\n",
       "      <td>1500.2</td>\n",
       "      <td>NaN</td>\n",
       "      <td>NaN</td>\n",
       "      <td>NaN</td>\n",
       "      <td>NaN</td>\n",
       "      <td>NaN</td>\n",
       "      <td>1970.0</td>\n",
       "      <td>2018-08-14</td>\n",
       "    </tr>\n",
       "  </tbody>\n",
       "</table>\n",
       "</div>"
      ],
      "text/plain": [
       "    city  gu dong park_name park_type  park_area park_exercise_facility  \\\n",
       "0  부산광역시  남구  대연동      대연공원      근린공원    55227.0                    NaN   \n",
       "1  부산광역시  남구  대연동      당곡공원      역사공원    75465.0                    NaN   \n",
       "2  부산광역시  남구  대연동   대일어린이공원     어린이공원      422.1                    NaN   \n",
       "3  부산광역시  남구  대연동   못골어린이공원     어린이공원      499.8                    NaN   \n",
       "4  부산광역시  남구  용호동   솔밭어린이공원     어린이공원     1500.2                    NaN   \n",
       "\n",
       "  park_entertainment_facility park_benefit_facility park_cultural_facitiy  \\\n",
       "0                         NaN                   NaN                   NaN   \n",
       "1                         NaN                   NaN                   NaN   \n",
       "2                         NaN                   NaN                   NaN   \n",
       "3                         NaN                   NaN                   NaN   \n",
       "4                         NaN                   NaN                   NaN   \n",
       "\n",
       "  park_facility_other  park_open_year reference_date  \n",
       "0                 NaN          1944.0     2018-08-14  \n",
       "1                 NaN          1944.0     2018-08-14  \n",
       "2                 NaN          1965.0     2018-08-14  \n",
       "3                 NaN          1968.0     2018-08-14  \n",
       "4                 NaN          1970.0     2018-08-14  "
      ]
     },
     "execution_count": 10,
     "metadata": {},
     "output_type": "execute_result"
    }
   ],
   "source": [
    "park.head()"
   ]
  },
  {
   "cell_type": "markdown",
   "metadata": {},
   "source": [
    "## 기본 통계치 요약\n",
    "- 범주형, 수치형 데이터를 나누어 데이터를 들여다본다."
   ]
  },
  {
   "cell_type": "code",
   "execution_count": 11,
   "metadata": {
    "ExecuteTime": {
     "end_time": "2020-11-15T10:36:41.411324Z",
     "start_time": "2020-11-15T10:36:41.193274Z"
    },
    "scrolled": true
   },
   "outputs": [
    {
     "name": "stdout",
     "output_type": "stream",
     "text": [
      "<class 'pandas.core.frame.DataFrame'>\n",
      "RangeIndex: 1216553 entries, 0 to 1216552\n",
      "Data columns (total 12 columns):\n",
      " #   Column                  Non-Null Count    Dtype  \n",
      "---  ------                  --------------    -----  \n",
      " 0   apartment_id            1216553 non-null  int64  \n",
      " 1   city                    1216553 non-null  object \n",
      " 2   dong                    1216553 non-null  object \n",
      " 3   jibun                   1216553 non-null  object \n",
      " 4   apt                     1216553 non-null  object \n",
      " 5   addr_kr                 1216553 non-null  object \n",
      " 6   exclusive_use_area      1216553 non-null  float64\n",
      " 7   year_of_completion      1216553 non-null  int64  \n",
      " 8   transaction_year_month  1216553 non-null  int64  \n",
      " 9   transaction_date        1216553 non-null  object \n",
      " 10  floor                   1216553 non-null  int64  \n",
      " 11  transaction_real_price  1216553 non-null  int64  \n",
      "dtypes: float64(1), int64(5), object(6)\n",
      "memory usage: 111.4+ MB\n"
     ]
    }
   ],
   "source": [
    "train.info()"
   ]
  },
  {
   "cell_type": "code",
   "execution_count": 12,
   "metadata": {
    "ExecuteTime": {
     "end_time": "2020-11-15T10:36:41.632377Z",
     "start_time": "2020-11-15T10:36:41.413324Z"
    },
    "scrolled": true
   },
   "outputs": [
    {
     "data": {
      "text/html": [
       "<div>\n",
       "<style scoped>\n",
       "    .dataframe tbody tr th:only-of-type {\n",
       "        vertical-align: middle;\n",
       "    }\n",
       "\n",
       "    .dataframe tbody tr th {\n",
       "        vertical-align: top;\n",
       "    }\n",
       "\n",
       "    .dataframe thead th {\n",
       "        text-align: right;\n",
       "    }\n",
       "</style>\n",
       "<table border=\"1\" class=\"dataframe\">\n",
       "  <thead>\n",
       "    <tr style=\"text-align: right;\">\n",
       "      <th></th>\n",
       "      <th>exclusive_use_area</th>\n",
       "      <th>floor</th>\n",
       "      <th>transaction_real_price</th>\n",
       "    </tr>\n",
       "  </thead>\n",
       "  <tbody>\n",
       "    <tr>\n",
       "      <th>count</th>\n",
       "      <td>1.216553e+06</td>\n",
       "      <td>1.216553e+06</td>\n",
       "      <td>1.216553e+06</td>\n",
       "    </tr>\n",
       "    <tr>\n",
       "      <th>mean</th>\n",
       "      <td>7.816549e+01</td>\n",
       "      <td>9.343291e+00</td>\n",
       "      <td>3.822769e+04</td>\n",
       "    </tr>\n",
       "    <tr>\n",
       "      <th>std</th>\n",
       "      <td>2.915113e+01</td>\n",
       "      <td>6.606500e+00</td>\n",
       "      <td>3.104898e+04</td>\n",
       "    </tr>\n",
       "    <tr>\n",
       "      <th>min</th>\n",
       "      <td>9.260000e+00</td>\n",
       "      <td>-4.000000e+00</td>\n",
       "      <td>1.000000e+02</td>\n",
       "    </tr>\n",
       "    <tr>\n",
       "      <th>25%</th>\n",
       "      <td>5.976000e+01</td>\n",
       "      <td>4.000000e+00</td>\n",
       "      <td>1.900000e+04</td>\n",
       "    </tr>\n",
       "    <tr>\n",
       "      <th>50%</th>\n",
       "      <td>8.241000e+01</td>\n",
       "      <td>8.000000e+00</td>\n",
       "      <td>3.090000e+04</td>\n",
       "    </tr>\n",
       "    <tr>\n",
       "      <th>75%</th>\n",
       "      <td>8.497000e+01</td>\n",
       "      <td>1.300000e+01</td>\n",
       "      <td>4.700000e+04</td>\n",
       "    </tr>\n",
       "    <tr>\n",
       "      <th>max</th>\n",
       "      <td>4.243200e+02</td>\n",
       "      <td>8.000000e+01</td>\n",
       "      <td>8.200000e+05</td>\n",
       "    </tr>\n",
       "  </tbody>\n",
       "</table>\n",
       "</div>"
      ],
      "text/plain": [
       "       exclusive_use_area         floor  transaction_real_price\n",
       "count        1.216553e+06  1.216553e+06            1.216553e+06\n",
       "mean         7.816549e+01  9.343291e+00            3.822769e+04\n",
       "std          2.915113e+01  6.606500e+00            3.104898e+04\n",
       "min          9.260000e+00 -4.000000e+00            1.000000e+02\n",
       "25%          5.976000e+01  4.000000e+00            1.900000e+04\n",
       "50%          8.241000e+01  8.000000e+00            3.090000e+04\n",
       "75%          8.497000e+01  1.300000e+01            4.700000e+04\n",
       "max          4.243200e+02  8.000000e+01            8.200000e+05"
      ]
     },
     "execution_count": 12,
     "metadata": {},
     "output_type": "execute_result"
    }
   ],
   "source": [
    "train.describe()[['exclusive_use_area', 'floor', 'transaction_real_price']]"
   ]
  },
  {
   "cell_type": "markdown",
   "metadata": {},
   "source": [
    "## 컬럼 하나씩 보기"
   ]
  },
  {
   "cell_type": "code",
   "execution_count": 13,
   "metadata": {
    "ExecuteTime": {
     "end_time": "2020-11-15T10:36:41.638377Z",
     "start_time": "2020-11-15T10:36:41.633375Z"
    }
   },
   "outputs": [
    {
     "data": {
      "text/plain": [
       "Index(['apartment_id', 'city', 'dong', 'jibun', 'apt', 'addr_kr',\n",
       "       'exclusive_use_area', 'year_of_completion', 'transaction_year_month',\n",
       "       'transaction_date', 'floor', 'transaction_real_price'],\n",
       "      dtype='object')"
      ]
     },
     "execution_count": 13,
     "metadata": {},
     "output_type": "execute_result"
    }
   ],
   "source": [
    "train.columns"
   ]
  },
  {
   "cell_type": "code",
   "execution_count": 14,
   "metadata": {
    "ExecuteTime": {
     "end_time": "2020-11-15T10:36:41.661383Z",
     "start_time": "2020-11-15T10:36:41.640377Z"
    }
   },
   "outputs": [
    {
     "data": {
      "text/plain": [
       "8415     3220\n",
       "10939    3094\n",
       "4449     2886\n",
       "8031     2572\n",
       "2120     2536\n",
       "         ... \n",
       "4364        1\n",
       "3701        1\n",
       "4925        1\n",
       "10719       1\n",
       "0           1\n",
       "Name: apartment_id, Length: 12533, dtype: int64"
      ]
     },
     "execution_count": 14,
     "metadata": {},
     "output_type": "execute_result"
    }
   ],
   "source": [
    "train['apartment_id'].value_counts()"
   ]
  },
  {
   "cell_type": "code",
   "execution_count": 15,
   "metadata": {
    "ExecuteTime": {
     "end_time": "2020-11-15T10:36:41.773407Z",
     "start_time": "2020-11-15T10:36:41.662382Z"
    }
   },
   "outputs": [
    {
     "data": {
      "text/plain": [
       "서울특별시    61.015426\n",
       "부산광역시    38.984574\n",
       "Name: city, dtype: float64"
      ]
     },
     "execution_count": 15,
     "metadata": {},
     "output_type": "execute_result"
    }
   ],
   "source": [
    "train['city'].value_counts(normalize=True)*100"
   ]
  },
  {
   "cell_type": "code",
   "execution_count": 16,
   "metadata": {
    "ExecuteTime": {
     "end_time": "2020-11-15T10:36:41.855429Z",
     "start_time": "2020-11-15T10:36:41.774408Z"
    }
   },
   "outputs": [
    {
     "data": {
      "text/plain": [
       "상계동    29346\n",
       "좌동     23255\n",
       "화명동    21511\n",
       "용호동    17398\n",
       "중계동    17079\n",
       "       ...  \n",
       "누상동        2\n",
       "주성동        2\n",
       "구수동        1\n",
       "옥인동        1\n",
       "효제동        1\n",
       "Name: dong, Length: 473, dtype: int64"
      ]
     },
     "execution_count": 16,
     "metadata": {},
     "output_type": "execute_result"
    }
   ],
   "source": [
    "# 서울과 부산 겹치는 부분이 존재할 수 있음.\n",
    "train['dong'].value_counts() "
   ]
  },
  {
   "cell_type": "code",
   "execution_count": 17,
   "metadata": {
    "ExecuteTime": {
     "end_time": "2020-11-15T10:36:41.958451Z",
     "start_time": "2020-11-15T10:36:41.859428Z"
    }
   },
   "outputs": [
    {
     "data": {
      "text/plain": [
       "176-30    6594\n",
       "17        3709\n",
       "944       3615\n",
       "53        3566\n",
       "479       3435\n",
       "          ... \n",
       "770-37       1\n",
       "747-35       1\n",
       "1536-2       1\n",
       "186-21       1\n",
       "791-22       1\n",
       "Name: jibun, Length: 8961, dtype: int64"
      ]
     },
     "execution_count": 17,
     "metadata": {},
     "output_type": "execute_result"
    }
   ],
   "source": [
    "# 지번 또한 서울과 부산 겹치는 부분이 존재할 수 있음.\n",
    "train['jibun'].value_counts()"
   ]
  },
  {
   "cell_type": "code",
   "execution_count": 18,
   "metadata": {
    "ExecuteTime": {
     "end_time": "2020-11-15T10:36:42.050474Z",
     "start_time": "2020-11-15T10:36:41.960451Z"
    }
   },
   "outputs": [
    {
     "data": {
      "text/plain": [
       "현대          13154\n",
       "한신           9766\n",
       "삼성           6729\n",
       "대우           6216\n",
       "신동아          5851\n",
       "            ...  \n",
       "(743-18)        1\n",
       "부에나비스타          1\n",
       "(745-70)        1\n",
       "영일아트빌           1\n",
       "다대에코하임          1\n",
       "Name: apt, Length: 10440, dtype: int64"
      ]
     },
     "execution_count": 18,
     "metadata": {},
     "output_type": "execute_result"
    }
   ],
   "source": [
    "# 아파트 또한 서울과 부산 겹치는 부분이 존재할 수 있음\n",
    "train['apt'].value_counts()"
   ]
  },
  {
   "cell_type": "code",
   "execution_count": 19,
   "metadata": {
    "ExecuteTime": {
     "end_time": "2020-11-15T10:36:42.135493Z",
     "start_time": "2020-11-15T10:36:42.051474Z"
    }
   },
   "outputs": [
    {
     "data": {
      "text/plain": [
       "용호동 944 오륙도에스케이뷰       3220\n",
       "신천동 17 파크리오            3094\n",
       "다대동 1550 몰운대           2886\n",
       "미아동 1353 에스케이북한산시티     2572\n",
       "다대동 1624 다대동롯데캐슬몰운대    2536\n",
       "                       ... \n",
       "등촌동 670-2 등촌동성원           1\n",
       "구로동 793-34 송림주택           1\n",
       "서초동 1496-24 트라움하우스3       1\n",
       "삼성동 5-3 골든카운티             1\n",
       "구로동 744-47 (744-47)       1\n",
       "Name: addr_kr, Length: 12533, dtype: int64"
      ]
     },
     "execution_count": 19,
     "metadata": {},
     "output_type": "execute_result"
    }
   ],
   "source": [
    "# 겹치는 부분이 존재하지 않을 가능성이 높음\n",
    "train['addr_kr'].value_counts()"
   ]
  },
  {
   "cell_type": "code",
   "execution_count": 20,
   "metadata": {
    "ExecuteTime": {
     "end_time": "2020-11-15T10:36:42.149496Z",
     "start_time": "2020-11-15T10:36:42.136493Z"
    },
    "scrolled": true
   },
   "outputs": [
    {
     "data": {
      "text/plain": [
       "2004    71809\n",
       "2003    62520\n",
       "2005    61832\n",
       "1999    58578\n",
       "1996    56892\n",
       "2006    49669\n",
       "2002    49142\n",
       "1988    48215\n",
       "1998    47765\n",
       "1997    47108\n",
       "2000    46116\n",
       "2001    44627\n",
       "2008    41203\n",
       "1993    39943\n",
       "1992    38863\n",
       "1995    37201\n",
       "2007    34989\n",
       "1994    32455\n",
       "1989    27149\n",
       "2009    23890\n",
       "2011    22032\n",
       "1991    21365\n",
       "2010    21070\n",
       "1986    20209\n",
       "2012    18877\n",
       "1987    18160\n",
       "1983    16551\n",
       "2013    15743\n",
       "2014    15359\n",
       "1990    15158\n",
       "1984    14357\n",
       "1982    12826\n",
       "1985    12798\n",
       "1980    12488\n",
       "1979     9666\n",
       "1981     9233\n",
       "1978     9038\n",
       "2015     8357\n",
       "2016     4873\n",
       "1977     3468\n",
       "1976     3044\n",
       "1975     2930\n",
       "1974     2430\n",
       "2017     1967\n",
       "1971     1675\n",
       "1969      603\n",
       "1970      580\n",
       "1973      529\n",
       "1972      494\n",
       "1962      427\n",
       "1968      183\n",
       "1966       42\n",
       "1961       22\n",
       "1967       20\n",
       "1965       13\n",
       "Name: year_of_completion, dtype: int64"
      ]
     },
     "execution_count": 20,
     "metadata": {},
     "output_type": "execute_result"
    }
   ],
   "source": [
    "# 최근에 완공 된 건물은 집 값이 비싸지 않을까 ?\n",
    "train['year_of_completion'].value_counts()"
   ]
  },
  {
   "cell_type": "code",
   "execution_count": 21,
   "metadata": {
    "ExecuteTime": {
     "end_time": "2020-11-15T10:36:42.164498Z",
     "start_time": "2020-11-15T10:36:42.151496Z"
    }
   },
   "outputs": [
    {
     "data": {
      "text/plain": [
       "201503    22444\n",
       "201610    19072\n",
       "201606    18296\n",
       "201705    18080\n",
       "201504    17970\n",
       "          ...  \n",
       "201201     4351\n",
       "201207     4003\n",
       "201208     3920\n",
       "200811     3433\n",
       "200812     3400\n",
       "Name: transaction_year_month, Length: 119, dtype: int64"
      ]
     },
     "execution_count": 21,
     "metadata": {},
     "output_type": "execute_result"
    }
   ],
   "source": [
    "# 거래 날짜를 통해 실거래가의 신뢰도를 구할 수 있지 않을까??\n",
    "train['transaction_year_month'].value_counts()"
   ]
  },
  {
   "cell_type": "code",
   "execution_count": 22,
   "metadata": {
    "ExecuteTime": {
     "end_time": "2020-11-15T10:36:42.255519Z",
     "start_time": "2020-11-15T10:36:42.165499Z"
    }
   },
   "outputs": [
    {
     "data": {
      "text/plain": [
       "11~20    408385\n",
       "1~10     391715\n",
       "21~31    250588\n",
       "21~30    134017\n",
       "21~28     22199\n",
       "21~29      9649\n",
       "Name: transaction_date, dtype: int64"
      ]
     },
     "execution_count": 22,
     "metadata": {},
     "output_type": "execute_result"
    }
   ],
   "source": [
    "# 위와 동일\n",
    "train['transaction_date'].value_counts()"
   ]
  },
  {
   "cell_type": "code",
   "execution_count": 23,
   "metadata": {
    "ExecuteTime": {
     "end_time": "2020-11-15T10:36:42.271523Z",
     "start_time": "2020-11-15T10:36:42.257519Z"
    },
    "scrolled": true
   },
   "outputs": [
    {
     "data": {
      "text/plain": [
       " 5     88676\n",
       " 4     88399\n",
       " 3     85549\n",
       " 2     82589\n",
       " 1     74927\n",
       "       ...  \n",
       " 78        4\n",
       " 80        4\n",
       "-4         4\n",
       " 76        3\n",
       " 79        2\n",
       "Name: floor, Length: 84, dtype: int64"
      ]
     },
     "execution_count": 23,
     "metadata": {},
     "output_type": "execute_result"
    }
   ],
   "source": [
    "# 층수가 높으면, 낮으면 가격에 어떤 영향을 미칠까?\n",
    "train['floor'].value_counts()"
   ]
  },
  {
   "cell_type": "markdown",
   "metadata": {},
   "source": [
    "# 데이터 시각화"
   ]
  },
  {
   "cell_type": "code",
   "execution_count": 24,
   "metadata": {
    "ExecuteTime": {
     "end_time": "2020-11-15T10:36:50.795522Z",
     "start_time": "2020-11-15T10:36:42.272523Z"
    },
    "run_control": {
     "marked": false
    },
    "scrolled": false
   },
   "outputs": [
    {
     "data": {
      "image/png": "[encoded data removed]",
      "text/plain": [
       "<Figure size 648x648 with 1 Axes>"
      ]
     },
     "metadata": {
      "needs_background": "light"
     },
     "output_type": "display_data"
    }
   ],
   "source": [
    "sns.violinplot('city', 'transaction_real_price', data=train.sample(frac=1, random_state=42))\n",
    "plt.gcf().set_size_inches(9,9)"
   ]
  },
  {
   "cell_type": "code",
   "execution_count": 9,
   "metadata": {
    "ExecuteTime": {
     "end_time": "2020-11-19T10:34:10.217366Z",
     "start_time": "2020-11-19T10:34:10.166354Z"
    }
   },
   "outputs": [
    {
     "data": {
      "text/plain": [
       "0           8.0\n",
       "1           9.0\n",
       "2           8.0\n",
       "3          14.0\n",
       "4          19.0\n",
       "           ... \n",
       "1216548     5.0\n",
       "1216549     8.0\n",
       "1216550     8.0\n",
       "1216551    10.0\n",
       "1216552     8.0\n",
       "Name: exclusive_use_area, Length: 1216553, dtype: float64"
      ]
     },
     "execution_count": 9,
     "metadata": {},
     "output_type": "execute_result"
    }
   ],
   "source": [
    "train['exclusive_use_area']//10"
   ]
  },
  {
   "cell_type": "code",
   "execution_count": 25,
   "metadata": {
    "ExecuteTime": {
     "end_time": "2020-11-15T10:37:02.353880Z",
     "start_time": "2020-11-15T10:36:50.796522Z"
    }
   },
   "outputs": [
    {
     "data": {
      "image/png": "[encoded data removed]",
      "text/plain": [
       "<Figure size 1440x648 with 1 Axes>"
      ]
     },
     "metadata": {
      "needs_background": "light"
     },
     "output_type": "display_data"
    }
   ],
   "source": [
    "train['exclusive_use_area_10']=train['exclusive_use_area']//10\n",
    "sns.catplot('exclusive_use_area_10','transaction_real_price', data=train.sample(frac=1, random_state=42))\n",
    "plt.gcf().set_size_inches(20,9)\n",
    "train.drop(['exclusive_use_area_10'], axis=1, inplace=True)"
   ]
  },
  {
   "cell_type": "code",
   "execution_count": 26,
   "metadata": {
    "ExecuteTime": {
     "end_time": "2020-11-15T10:37:13.560508Z",
     "start_time": "2020-11-15T10:37:02.354880Z"
    },
    "scrolled": true
   },
   "outputs": [
    {
     "data": {
      "image/png": "[encoded data removed]",
      "text/plain": [
       "<Figure size 1440x648 with 1 Axes>"
      ]
     },
     "metadata": {
      "needs_background": "light"
     },
     "output_type": "display_data"
    }
   ],
   "source": [
    "train['floor_5']=train['floor']//5\n",
    "sns.catplot('floor_5','transaction_real_price', data=train.sample(frac=1, random_state=42))\n",
    "plt.gcf().set_size_inches(20,9)\n",
    "train.drop(['floor_5'], axis=1, inplace=True)"
   ]
  },
  {
   "cell_type": "markdown",
   "metadata": {},
   "source": [
    "# 상관관계"
   ]
  },
  {
   "cell_type": "code",
   "execution_count": 19,
   "metadata": {
    "ExecuteTime": {
     "end_time": "2020-11-19T10:35:39.274407Z",
     "start_time": "2020-11-19T10:35:38.955544Z"
    }
   },
   "outputs": [
    {
     "data": {
      "image/png": "[encoded data removed]",
      "text/plain": [
       "<Figure size 720x720 with 2 Axes>"
      ]
     },
     "metadata": {
      "needs_background": "light"
     },
     "output_type": "display_data"
    }
   ],
   "source": [
    "plt.figure(figsize=(10,10))\n",
    "sns.heatmap(train.corr().iloc[1:, 1:], annot=True)\n",
    "plt.show()"
   ]
  },
  {
   "cell_type": "markdown",
   "metadata": {},
   "source": [
    "# 데이터 전처리\n",
    "- 부산과 서울에는 겹치는 동, 지번, 등이 존재한다. 이를 구분해줘야한다.\n",
    "\n"
   ]
  },
  {
   "cell_type": "markdown",
   "metadata": {},
   "source": [
    "## 일단 컬럼별로 겹치는것이 있는지 확인해본다."
   ]
  },
  {
   "cell_type": "code",
   "execution_count": 28,
   "metadata": {
    "ExecuteTime": {
     "end_time": "2020-11-15T10:37:13.800562Z",
     "start_time": "2020-11-15T10:37:13.796560Z"
    }
   },
   "outputs": [
    {
     "data": {
      "text/plain": [
       "Index(['apartment_id', 'city', 'dong', 'jibun', 'apt', 'addr_kr',\n",
       "       'exclusive_use_area', 'year_of_completion', 'transaction_year_month',\n",
       "       'transaction_date', 'floor', 'transaction_real_price'],\n",
       "      dtype='object')"
      ]
     },
     "execution_count": 28,
     "metadata": {},
     "output_type": "execute_result"
    }
   ],
   "source": [
    "train.columns"
   ]
  },
  {
   "cell_type": "code",
   "execution_count": 29,
   "metadata": {
    "ExecuteTime": {
     "end_time": "2020-11-15T10:37:15.303898Z",
     "start_time": "2020-11-15T10:37:13.803562Z"
    },
    "scrolled": true
   },
   "outputs": [
    {
     "name": "stdout",
     "output_type": "stream",
     "text": [
      "apartment_id    :     0 개\n",
      "dong            :     4 개\n",
      "{'사직동', '중동', '송정동', '부암동'} \n",
      "\n",
      "jibun           :   981 개\n",
      "{'168-8', '203-19', '947', '87-1', '529', '55-4', '114-1', '206', '23-3', '1281', '178-7', '192-9', '302-3', '184-3', '97-8', '360-2', '418-22', '109-4', '110-2', '497', '1057-1', '441-1', '657', '1660', '1307', '160', '239', '869', '56', '1124', '1527', '460', '1024', '9-3', '850', '20-1', '551', '338-1', '223-6', '581', '840', '802-3', '64-15', '182-4', '396-8', '426', '442-1', '101-1', '413-8', '75-1', '607', '1030', '1049', '49-8', '253', '224-2', '954', '209', '99-1', '970', '1502', '11-5', '875', '887-1', '925-1', '653', '611', '1022', '490', '412-1', '277-2', '322-1', '437', '149', '402-10', '630', '532', '740-5', '8-1', '470-2', '221-1', '46-1', '352-4', '749', '1282', '172', '407', '91-10', '65-1', '101-7', '535-7', '530-5', '123-1', '2-6', '182-1', '1298', '187-5', '53-1', '622', '885', '180-7', '777', '236-7', '420-9', '190', '39', '774', '313', '84-2', '355', '720', '656', '311-1', '363-1', '96-1', '842', '333', '319', '1662', '762-3', '42-10', '925', '407-2', '892', '785', '36', '180', '276', '5-3', '651', '194-1', '654', '245-1', '346-1', '177-2', '79', '117-6', '343-1', '607-17', '820-1', '1', '5-1', '487-1', '104-2', '885-1', '258-7', '18-2', '338-2', '1357', '391-2', '113-2', '457-1', '6-1', '568-6', '35-4', '631-1', '7-1', '29-2', '112', '266', '323', '11-1', '802-4', '422-7', '1278', '370-4', '350-6', '962', '48-2', '160-2', '71-1', '739-1', '956', '1361', '676-23', '453-2', '177-6', '69', '658', '181-30', '102', '190-1', '410', '1257', '141-1', '445-4', '1333', '441', '330', '808', '18', '184-1', '183', '171', '116-5', '93-1', '596', '198', '534-1', '1128', '173-1', '360-16', '632', '334', '25', '380', '390-24', '463-1', '62-1', '707', '350-3', '365-11', '129', '64-29', '79-1', '561', '204-11', '1-5', '894-1', '196', '659-1', '109-9', '48-5', '508', '569-1', '223', '30-1', '39-1', '1321', '472', '349', '16-12', '32', '3-19', '488-3', '458-1', '143-1', '23', '725', '492-5', '3-4', '299', '681', '100-12', '515-1', '378-6', '1251', '163', '119-1', '64-4', '447-2', '122-10', '86-2', '160-1', '70-5', '168', '1641', '46-5', '494-4', '200-4', '117-3', '600', '255-1', '498-2', '793', '201-1', '440', '50-1', '316', '395-1', '4-3', '474-1', '1125', '356-3', '645-1', '159', '987-6', '447-3', '34-2', '3', '648', '512-2', '32-8', '1006-1', '862', '589', '1303', '773', '16-6', '31-2', '48-12', '71', '335-10', '43', '780', '18-1', '877-4', '198-3', '56-2', '753', '113-1', '1150', '365-4', '44-8', '367', '154', '198-5', '547-11', '733', '337', '50-2', '64', '420-16', '342-3', '350', '351-5', '57', '679', '36-2', '218-1', '384-2', '957-6', '585-6', '388-5', '585', '101', '166', '42-4', '52-1', '37', '44-10', '765', '1019', '378', '29-7', '317', '361', '1513', '106-11', '444-3', '177-7', '13-1', '776-3', '551-11', '268', '661-2', '108-2', '171-59', '517-6', '510-2', '169-1', '1274', '21-1', '478-4', '49', '1515-2', '199-1', '547-1', '796', '693', '365-1', '40-1', '141-2', '582', '347-13', '77-1', '332-6', '425', '536', '572', '457', '131', '33-7', '17', '1123', '11-2', '200', '105-3', '179-8', '365', '100', '36-5', '93-6', '344-1', '191-6', '30-8', '854', '35-7', '120', '1054', '202', '381-4', '384-5', '64-5', '519-1', '588', '290', '1326', '15-5', '1293', '713', '148-2', '438-4', '315', '337-3', '450', '465-2', '380-1', '27-2', '585-7', '372-13', '730-2', '721', '161-7', '120-10', '506', '7', '449-2', '177-8', '945', '1515', '500', '889-6', '30-18', '717', '48', '36-1', '385-2', '917-1', '797-3', '1510', '537-9', '533', '122-1', '178-8', '1336', '307-9', '1434-2', '19-1', '94', '414-10', '47', '739', '618-1', '104-1', '361-1', '115-4', '351-1', '251-1', '473-1', '51', '643', '90', '381', '13-2', '877-6', '1322', '189-22', '1477-1', '777-1', '67', '382-1', '944', '1000', '541-1', '63-3', '293-10', '319-6', '395-7', '900-1', '116', '360-5', '140', '86-5', '958', '32-5', '106-1', '1088', '1110', '249-3', '33-1', '628-1', '307', '1315', '21', '282', '271-2', '934', '11-21', '529-2', '109-11', '587', '244-6', '838', '669', '887', '1300', '302', '797', '137', '395-6', '45', '949', '1643', '144-3', '455-1', '783', '376-5', '258', '891', '668', '762', '419', '849-1', '432-1', '903', '220-1', '213-3', '113-23', '42-1', '111-1', '405', '285', '97-1', '255', '45-8', '584-1', '768-1', '408-23', '46-3', '208-1', '88-4', '1323', '104-5', '144', '998', '1735', '49-6', '191-3', '192-3', '39-7', '92-3', '26-4', '1059-1', '35-8', '922', '530', '34-1', '92', '295', '106', '34-10', '81-2', '726', '1-7', '1053-4', '598', '72-4', '674', '45-1', '851', '123', '40-39', '354-2', '108-1', '878-26', '888', '369', '883', '43-4', '5', '1041', '377-1', '24-4', '195', '182-10', '50-6', '442-5', '858', '415-1', '69-5', '1055', '45-2', '212', '8', '116-10', '170-1', '1154', '585-25', '728', '731', '763', '135', '723', '303-1', '884', '20', '1818', '518', '100-1', '1374', '394-2', '517', '162-1', '485-2', '1217', '390', '736', '872', '175', '341-1', '609-1', '205-2', '1119', '75', '50-7', '1070', '198-1', '270', '56-1', '14-1', '162-4', '77-7', '952-1', '400', '1051', '806', '402', '74-2', '286', '109-1', '1023', '1136', '358-18', '1271', '176-8', '715-12', '116-24', '93-8', '1-46', '322', '76', '394', '473', '53', '1475', '305', '713-1', '326', '222-7', '47-4', '19-2', '955', '12-2', '227-5', '81-8', '509', '77-21', '515', '110-8', '31', '506-1', '757', '336-4', '110-37', '46', '64-1', '113', '546-1', '346-11', '130-1', '730', '9-21', '767', '391', '148-1', '29-5', '1027-1', '382-3', '231-1', '34-3', '252-1', '1029', '139', '78', '245', '953', '362', '505', '739-5', '805-1', '11', '328-3', '6-4', '179-9', '395', '893-9', '718', '52', '1296', '143', '174-1', '1466-17', '190-2', '251', '202-5', '747-12', '151', '52-17', '755', '1026-1', '48-7', '694-1', '121', '418-3', '1-4', '619-7', '15-1', '97-6', '1145', '1318', '36-29', '591-1', '732', '3-28', '793-6', '888-1', '772', '597', '106-10', '602-3', '1028', '161-1', '326-9', '51-1', '577', '85', '550-7', '355-1', '119', '220', '83-2', '3-1', '810', '65-2', '41', '438', '346-3', '41-1', '55', '752', '1529', '40-4', '86-6', '94-2', '4', '421', '1310', '1020', '510-11', '455', '807-4', '819', '37-1', '401', '107-2', '2', '24-1', '595', '126-2', '173', '385', '269-7', '418-5', '1053', '1014-1', '178-10', '279-15', '939', '4-1', '446-4', '512', '67-1', '1065', '784-1', '35-12', '159-10', '1155', '887-7', '10', '14', '3-2', '542', '107-1', '754', '472-8', '300', '30-9', '195-1', '399-1', '128-2', '408', '490-9', '66', '126-5', '444-41', '467', '97-10', '137-1', '439-1', '80-14', '963-1', '435-1', '466-3', '22-2', '561-1', '1152', '25-1', '38', '91-2', '279', '940', '9', '336', '584', '227', '224-1', '465-1', '47-1', '359-1', '314', '1466-2', '100-2', '304', '1-10', '632-4', '759', '89-6', '710', '788', '54', '1010-1', '668-1', '450-1', '565', '501', '401-1', '358-7', '116-26', '740', '1059', '433-1', '128-11', '77-9', '32-42', '344', '96', '1295', '182', '58-34', '185-2', '670', '57-1', '764-4', '1362', '147-29', '260-6', '893-2', '382-14', '227-1', '236-2', '1275', '2-1', '461-1', '792', '22', '1550', '811', '118-3', '631', '1330', '448-1', '541', '38-12', '525', '23-1', '415-14', '148-7', '60-6', '12-3', '35-2', '938', '1286', '1302', '791', '974', '9-1', '40', '128-1', '111', '244-8', '35-10', '957', '557', '335-1', '271-4', '871', '1087-4', '406', '158-5', '68', '98-8', '635-9', '90-1', '832', '417', '410-13', '604-11', '649', '735', '484-2', '378-3', '577-4', '373', '86-3', '756', '230-2', '685', '128', '122-7', '188-2', '832-5', '58', '94-1', '684', '172-3', '924', '567', '32-3', '893-12', '148-4', '38-1', '558', '1017', '794', '413-1', '165-1', '440-1', '340', '343', '1218-1', '1317', '1297', '555-1', '161', '197', '1331', '1272', '32-2', '843', '152', '789', '764', '845', '142-1', '802', '1273', '454-2', '350-1', '876', '927-1', '512-5', '1025', '328', '744-18', '767-1', '65', '34', '409', '516', '184-4'} \n",
      "\n",
      "apt             :   253 개\n",
      "{'한진', '삼성파크', '동림', '효성', '조광', '럭키', '에스케이뷰', '삼호', '평화', '신도', '두산2', '대림', '보람더하임', '두산위브센티움', '상아', '현대타워', '롯데낙천대', '삼우빌라', '대림e편한세상', '진흥', '동원베네스트', 'SK VIEW', '백조', '동양', '현대빌라', '삼익', '현대1차', '오성', '대우2', '쌍용', '현대2차', '강남', '동일', '현대아트빌', '크로바', '청광', '삼풍아파트', '개나리', '중앙하이츠2', '온누리', '대성', '동부', '로얄빌리지', '청구', '장미3', '대림2', '삼성타운', '일광', '해성', '중앙하이츠1', '상록', '혜성', '미주', '새한', '스타파크아파트', '동산', '벽산블루밍', '대우그린', '화신', '로얄', '동보', '정림', '건영2', '제일', '대우푸르지오', '목화', '청송', '코오롱', '파크뷰', '건영', '한신', '무지개', '삼신', '한빛', '동방', '무학', '서원', '시영', '영화', '동호', '신화타워', '은하', '드림', '고려', '한아름', '대림3', '한성', '삼정코아', '삼진', '삼창', '롯데2', '세진', '경일', '주공2', '대성맨션', '삼성하이츠', '미광', '한화꿈에그린', '한신2', '문화', '월드빌리지', '공작', '세영', '롯데', '유원', '대신빌라', '장원', '부영', '삼산', '한독', '경남', '동신', '금호어울림', '영림', '대방', '경남아너스빌', '풍전', '풍림', '에이스', '삼보', '하림빌라트', '선경', '세화', '우영', '현대아이파크', '해태', '삼부', '경보이리스힐', '주공4', '현대', '대흥', '한라비발디', '국제', '푸른마을', '삼성', '한신타워', '거성리젠시', '갤러리하우스', '건영1', '엘리시아', '덕산', '현대3', '우신', '진주', '청암', '대진', '진성', '수정', '영일', '진달래', '에버그린', '신선', '대산', '리치빌', '미도', '신동아', '거성', '유림', '우성', '동산빌라', '선우', '금호', '금성', '중앙하이츠', '참누리아파트', '화랑', '서희스타힐스', '쌍용예가', '크로바맨션', '성우', '한양', '광남', '한림', '태경', '대동', '한솔', '지오빌', '유정', '정원', '현대타운', '신우', '성원상떼빌', '삼정그린코아', '롯데캐슬', '대원', '그린빌', '쌍용스윗닷홈', '유진맨션', '청성', '태영', '중앙', '신원', '정우', '동원', '아시아선수촌아파트', '리츠빌', '성암', '삼환', '청운', '반도보라빌', '벨로스', '삼성맨션', '산호', '명진', '송림주택', '삼익아파트', '대원아파트', '화인', '무궁화', '한일유앤아이', '청호', '세종그랑시아', '송림빌라', '한신1', '동진', '초원', '파크빌', '동남', '동일하이빌', '에스케이', '홍익', '동성', '한라', '신일', '현대2', '대호', '성원', '성지', '현대4', '현대하이페리온', '삼일', '한효', '동아', '오페라하우스', '성해', '우림', '장미', '신성', '해오름', '뉴서울', '양지', '태림', '삼정', '반도', '대우', '금강', '성림', '우성2차', '보람', '한영', '동우', '한일', '영남'} \n",
      "\n"
     ]
    },
    {
     "name": "stdout",
     "output_type": "stream",
     "text": [
      "addr_kr         :     0 개\n"
     ]
    }
   ],
   "source": [
    "for column in ['apartment_id', 'dong', 'jibun', 'apt', 'addr_kr']:\n",
    "    busan_element = train[train['city']=='부산광역시'][column].unique()\n",
    "    seoul_element = train[train['city']=='서울특별시'][column].unique()\n",
    "    inter_element = set(busan_element)&set(seoul_element)\n",
    "    print('{:15s} : {:5d} 개'.format(column, len(inter_element)))\n",
    "    if len(inter_element)>0:\n",
    "        print(inter_element,'\\n')"
   ]
  },
  {
   "cell_type": "markdown",
   "metadata": {},
   "source": [
    "## dong, jibun, apt 에서 겹치는 것이 존재한다.\n",
    "- 서로 다른 것을 의미하는 것이 같은 데이터를 가지는 것은 좋지 않다.\n",
    "- 구분해준다."
   ]
  },
  {
   "cell_type": "code",
   "execution_count": 93,
   "metadata": {
    "ExecuteTime": {
     "end_time": "2020-11-22T12:16:53.726945Z",
     "start_time": "2020-11-22T12:16:53.696053Z"
    }
   },
   "outputs": [],
   "source": [
    "test = pd.read_csv('test.csv')"
   ]
  },
  {
   "cell_type": "code",
   "execution_count": 94,
   "metadata": {
    "ExecuteTime": {
     "end_time": "2020-11-22T12:16:54.410802Z",
     "start_time": "2020-11-22T12:16:53.816944Z"
    },
    "scrolled": true
   },
   "outputs": [
    {
     "name": "stderr",
     "output_type": "stream",
     "text": [
      "100%|███████████████████████████████████████████████████████████████████████████████████| 4/4 [00:00<00:00, 399.89it/s]\n",
      "100%|███████████████████████████████████████████████████████████████████████████████| 192/192 [00:00<00:00, 474.07it/s]\n",
      "100%|█████████████████████████████████████████████████████████████████████████████████| 68/68 [00:00<00:00, 435.80it/s]\n"
     ]
    }
   ],
   "source": [
    "# for column in ['dong', 'jibun', 'apt']:\n",
    "#     busan_element = train[train['city']=='부산광역시'][column].unique()\n",
    "#     seoul_element = train[train['city']=='서울특별시'][column].unique()\n",
    "#     inter_element = set(busan_element)&set(seoul_element)\n",
    "    \n",
    "#     for element in tqdm(list(inter_element)):\n",
    "#         train.loc[(train['city']=='부산광역시') & (train[column] == element), column] = '부산_{}'.format(element)\n",
    "#         train.loc[(train['city']=='서울특별시') & (train[column] == element), column] = '서울_{}'.format(element)\n",
    "for column in ['dong', 'jibun', 'apt']:\n",
    "    busan_element = test[test['city']=='부산광역시'][column].unique()\n",
    "    seoul_element = test[test['city']=='서울특별시'][column].unique()\n",
    "    inter_element = set(busan_element)&set(seoul_element)\n",
    "    \n",
    "    for element in tqdm(list(inter_element)):\n",
    "        test.loc[(test['city']=='부산광역시') & (test[column] == element), column] = '부산_{}'.format(element)\n",
    "        test.loc[(test['city']=='서울특별시') & (test[column] == element), column] = '서울_{}'.format(element)\n",
    "        "
   ]
  },
  {
   "cell_type": "code",
   "execution_count": 95,
   "metadata": {
    "ExecuteTime": {
     "end_time": "2020-11-22T12:16:55.700550Z",
     "start_time": "2020-11-22T12:16:54.412803Z"
    }
   },
   "outputs": [],
   "source": [
    "train = pd.read_csv('전처리완료.csv')"
   ]
  },
  {
   "cell_type": "markdown",
   "metadata": {},
   "source": [
    "## 2주차 추가"
   ]
  },
  {
   "cell_type": "code",
   "execution_count": 96,
   "metadata": {
    "ExecuteTime": {
     "end_time": "2020-11-22T12:16:56.052108Z",
     "start_time": "2020-11-22T12:16:56.018100Z"
    }
   },
   "outputs": [],
   "source": [
    "park=pd.read_csv('park.csv')\n",
    "day_care_center=pd.read_csv('day_care_center.csv')"
   ]
  },
  {
   "cell_type": "code",
   "execution_count": 97,
   "metadata": {
    "ExecuteTime": {
     "end_time": "2020-11-22T12:16:56.418191Z",
     "start_time": "2020-11-22T12:16:56.404187Z"
    }
   },
   "outputs": [
    {
     "name": "stdout",
     "output_type": "stream",
     "text": [
      "city                            0.000000\n",
      "gu                              0.220751\n",
      "dong                            0.000000\n",
      "park_name                       0.000000\n",
      "park_type                       0.000000\n",
      "park_area                       0.000000\n",
      "park_exercise_facility         79.617366\n",
      "park_entertainment_facility    67.991170\n",
      "park_benefit_facility          80.426784\n",
      "park_cultural_facitiy          94.701987\n",
      "park_facility_other            87.122884\n",
      "park_open_year                 31.052244\n",
      "reference_date                  0.000000\n",
      "dtype: float64 \n",
      "\n",
      "\n",
      "city                     0.000000\n",
      "gu                       0.000000\n",
      "day_care_name            0.000000\n",
      "day_care_type            0.000000\n",
      "day_care_baby_num        0.000000\n",
      "teacher_num              2.979738\n",
      "nursing_room_num        42.365250\n",
      "playground_num          51.979870\n",
      "CCTV_num                30.075487\n",
      "is_commuting_vehicle     6.568666\n",
      "reference_date           0.000000\n",
      "dtype: float64\n"
     ]
    }
   ],
   "source": [
    "print(park.isnull().sum()/len(park)*100,'\\n\\n')\n",
    "print(day_care_center.isnull().sum()/len(day_care_center)*100)"
   ]
  },
  {
   "cell_type": "code",
   "execution_count": 98,
   "metadata": {
    "ExecuteTime": {
     "end_time": "2020-11-22T12:16:57.547449Z",
     "start_time": "2020-11-22T12:16:57.531445Z"
    }
   },
   "outputs": [],
   "source": [
    "park = park.drop(['park_exercise_facility', 'park_entertainment_facility', 'park_benefit_facility', 'park_cultural_facitiy','park_facility_other',\n",
    "          'park_open_year'], axis=1)\n",
    "day_care_center = day_care_center.drop(['nursing_room_num', 'playground_num', 'CCTV_num', 'is_commuting_vehicle'], axis=1)\n",
    "day_care_center['teacher_num'] = day_care_center['teacher_num'].fillna(day_care_center['teacher_num'].mean())"
   ]
  },
  {
   "cell_type": "code",
   "execution_count": 99,
   "metadata": {
    "ExecuteTime": {
     "end_time": "2020-11-22T12:16:57.848516Z",
     "start_time": "2020-11-22T12:16:57.837513Z"
    },
    "run_control": {
     "marked": false
    }
   },
   "outputs": [],
   "source": [
    "park_dong_mean = park.groupby('dong').mean().reset_index()\n",
    "day_care_gu_mean = day_care_center.groupby('gu').mean().reset_index()"
   ]
  },
  {
   "cell_type": "code",
   "execution_count": 101,
   "metadata": {
    "ExecuteTime": {
     "end_time": "2020-11-22T12:16:59.394880Z",
     "start_time": "2020-11-22T12:16:59.352871Z"
    }
   },
   "outputs": [],
   "source": [
    "for gu, care_baby, teacher in zip(day_care_gu_mean['gu'].values, day_care_gu_mean['day_care_baby_num'].values, day_care_gu_mean['teacher_num'].values):\n",
    "    park.loc[(park['gu']==gu), 'day_care_baby_num_mean'] = care_baby\n",
    "    park.loc[(park['gu']==gu), 'teacher_mean'] = teacher"
   ]
  },
  {
   "cell_type": "code",
   "execution_count": 102,
   "metadata": {
    "ExecuteTime": {
     "end_time": "2020-11-22T12:17:01.258301Z",
     "start_time": "2020-11-22T12:17:01.251301Z"
    }
   },
   "outputs": [],
   "source": [
    "park['day_care_baby_num_mean']  = park['day_care_baby_num_mean'].fillna(park['day_care_baby_num_mean'].mean())\n",
    "park['teacher_mean']  = park['teacher_mean'].fillna(park['teacher_mean'].mean())"
   ]
  },
  {
   "cell_type": "code",
   "execution_count": 103,
   "metadata": {
    "ExecuteTime": {
     "end_time": "2020-11-22T12:17:01.417337Z",
     "start_time": "2020-11-22T12:17:01.400334Z"
    }
   },
   "outputs": [],
   "source": [
    "park_groupby = park.groupby(by='dong').mean().reset_index().iloc[:]"
   ]
  },
  {
   "cell_type": "code",
   "execution_count": 104,
   "metadata": {
    "ExecuteTime": {
     "end_time": "2020-11-22T12:18:23.019035Z",
     "start_time": "2020-11-22T12:17:01.826430Z"
    },
    "scrolled": true
   },
   "outputs": [
    {
     "name": "stderr",
     "output_type": "stream",
     "text": [
      "237it [01:21,  2.92it/s]\n"
     ]
    }
   ],
   "source": [
    "for dong, park_area, day_care_baby_num_mean, teacher_mean in tqdm(zip(park_groupby['dong'].values, park_groupby['park_area'].values, park_groupby['day_care_baby_num_mean'].values, park_groupby['teacher_mean'].values)):\n",
    "    train.loc[train['dong']==dong, 'day_care_baby_num_mean'] = day_care_baby_num_mean\n",
    "    train.loc[train['dong']==dong, 'park_area'] = park_area\n",
    "    train.loc[train['dong']==dong, 'teacher_num'] = teacher_mean\n",
    "    \n",
    "    test.loc[train['dong']==dong, 'day_care_baby_num_mean'] = day_care_baby_num_mean\n",
    "    test.loc[train['dong']==dong, 'park_area'] = park_area\n",
    "    test.loc[train['dong']==dong, 'teacher_num'] = teacher_mean\n",
    "    \n",
    "    "
   ]
  },
  {
   "cell_type": "code",
   "execution_count": 17,
   "metadata": {
    "ExecuteTime": {
     "end_time": "2020-11-22T12:03:11.427807Z",
     "start_time": "2020-11-22T12:03:11.413802Z"
    }
   },
   "outputs": [],
   "source": [
    "# # 수업 때 볼 것\n",
    "# np.array(['_' in k for k in train['apt'].values]).sum()+\\\n",
    "# np.array(['_' in k for k in train['apt'].values]).sum()+\\\n",
    "# np.array(['_' in k for k in train['apt'].values]).sum()"
   ]
  },
  {
   "cell_type": "code",
   "execution_count": 18,
   "metadata": {
    "ExecuteTime": {
     "end_time": "2020-11-22T12:03:11.443808Z",
     "start_time": "2020-11-22T12:03:11.429805Z"
    },
    "scrolled": false
   },
   "outputs": [],
   "source": [
    "# train[(train['jibun']=='176-30')]['addr_kr'].value_counts()"
   ]
  },
  {
   "cell_type": "code",
   "execution_count": 19,
   "metadata": {
    "ExecuteTime": {
     "end_time": "2020-11-22T12:03:11.459812Z",
     "start_time": "2020-11-22T12:03:11.445809Z"
    }
   },
   "outputs": [],
   "source": [
    "# busan_dong=train[train['city']=='부산광역시']['dong'].unique()\n",
    "# seoul_dong=train[train['city']=='서울특별시']['dong'].unique()\n",
    "# print(list(set(busan_dong)&set(seoul_dong)))\n",
    "\n",
    "\n",
    "# train.loc[(train['city']=='부산광역시') & (train['dong']=='송정동'), 'dong'] = '부산송정동'\n",
    "# train.loc[(train['city']=='부산광역시') & (train['dong']=='사직동'), 'dong'] = '부산사직동'\n",
    "# train.loc[(train['city']=='부산광역시') & (train['dong']=='부암동'), 'dong'] = '부산부암동'\n",
    "# train.loc[(train['city']=='부산광역시') & (train['dong']=='중동'), 'dong'] = '부산중동'\n",
    "\n",
    "# train.loc[(train['city']=='서울특별시') & (train['dong']=='송정동'), 'dong'] = '서울송정동'\n",
    "# train.loc[(train['city']=='서울특별시') & (train['dong']=='사직동'), 'dong'] = '서울사직동'\n",
    "# train.loc[(train['city']=='서울특별시') & (train['dong']=='부암동'), 'dong'] = '서울부암동'\n",
    "# train.loc[(train['city']=='서울특별시') & (train['dong']=='중동'), 'dong'] = '서울중동'"
   ]
  },
  {
   "cell_type": "code",
   "execution_count": 123,
   "metadata": {
    "ExecuteTime": {
     "end_time": "2020-11-22T12:21:29.394072Z",
     "start_time": "2020-11-22T12:21:29.382069Z"
    }
   },
   "outputs": [],
   "source": [
    "from sklearn.preprocessing import LabelEncoder"
   ]
  },
  {
   "cell_type": "code",
   "execution_count": 124,
   "metadata": {
    "ExecuteTime": {
     "end_time": "2020-11-22T12:21:29.522100Z",
     "start_time": "2020-11-22T12:21:29.512098Z"
    }
   },
   "outputs": [],
   "source": [
    "LE = LabelEncoder()"
   ]
  },
  {
   "cell_type": "code",
   "execution_count": 125,
   "metadata": {
    "ExecuteTime": {
     "end_time": "2020-11-22T12:21:42.827852Z",
     "start_time": "2020-11-22T12:21:31.313515Z"
    },
    "run_control": {
     "marked": false
    }
   },
   "outputs": [],
   "source": [
    "\n",
    "LE.fit(list(train['city'])+list(test['city']))\n",
    "train['city'] = LE.transform(train['city'])\n",
    "test['city'] = LE.transform(test['city'])\n",
    "LE.fit(list(train['dong'])+list(test['dong']))\n",
    "train['dong'] = LE.transform(train['dong'])\n",
    "test['dong'] = LE.transform(test['dong'])\n",
    "LE.fit(list(train['jibun'])+list(test['jibun']))\n",
    "train['jibun'] = LE.transform(train['jibun'])\n",
    "test['jibun'] = LE.transform(test['jibun'])\n",
    "LE.fit(list(train['apt'])+list(test['apt']))\n",
    "train['apt'] = LE.transform(train['apt'])\n",
    "test['apt'] = LE.transform(test['apt'])\n",
    "LE.fit(list(train['addr_kr'])+list(test['addr_kr']))\n",
    "train['addr_kr'] = LE.transform(train['addr_kr'])\n",
    "test['addr_kr'] = LE.transform(test['addr_kr'])\n",
    "\n",
    "\n",
    "train['year_of_completion'] = 2017-train['year_of_completion'].values\n",
    "test['year_of_completion'] = 2017-test['year_of_completion'].values\n",
    "\n",
    "train['transaction_year'] = 2017 - np.array([int(str(k)[:4]) for k in train['transaction_year_month'].values])\n",
    "test['transaction_year'] = 2017 - np.array([int(str(k)[:4]) for k in test['transaction_year_month'].values])\n",
    "train['transaction_month'] = np.array([int(str(k)[4:]) for k in train['transaction_year_month'].values])\n",
    "test['transaction_month'] = np.array([int(str(k)[4:]) for k in test['transaction_year_month'].values])\n",
    "\n",
    "\n",
    "LE.fit(list(train['transaction_year_month'])+list(test['transaction_year_month']))\n",
    "train['transaction_year_month'] = LE.transform(train['transaction_year_month'])\n",
    "test['transaction_year_month'] = LE.transform(test['transaction_year_month'])\n",
    "\n",
    "LE.fit(list(train['transaction_date'])+list(test['transaction_date']))\n",
    "train['transaction_date'] = LE.transform(train['transaction_date'])\n",
    "test['transaction_date'] = LE.transform(test['transaction_date'])"
   ]
  },
  {
   "cell_type": "markdown",
   "metadata": {
    "run_control": {
     "marked": false
    }
   },
   "source": [
    "# 2주차"
   ]
  },
  {
   "cell_type": "code",
   "execution_count": 126,
   "metadata": {
    "ExecuteTime": {
     "end_time": "2020-11-22T12:21:42.843856Z",
     "start_time": "2020-11-22T12:21:42.828852Z"
    }
   },
   "outputs": [],
   "source": [
    "from sklearn.model_selection import train_test_split\n",
    "from sklearn.metrics import mean_squared_error"
   ]
  },
  {
   "cell_type": "markdown",
   "metadata": {},
   "source": [
    "### feature 중요도 출력"
   ]
  },
  {
   "cell_type": "code",
   "execution_count": 24,
   "metadata": {
    "ExecuteTime": {
     "end_time": "2020-11-22T12:03:40.277977Z",
     "start_time": "2020-11-22T12:03:40.269470Z"
    }
   },
   "outputs": [],
   "source": [
    "def show_feature_importance(model, data):\n",
    "    df=pd.DataFrame({'column':list(data.columns),\n",
    "              'score':list(model.feature_importances_),\n",
    "             })\n",
    "    plt.figure(figsize=(20,10))\n",
    "    sns.barplot(x=\"score\", y=\"column\", data=df)\n",
    "    plt.yticks(size=20)\n",
    "    plt.xticks(size=20)\n",
    "    plt.xlabel('score', size=20)\n",
    "    plt.ylabel('column', size=20)\n",
    "    plt.show()"
   ]
  },
  {
   "cell_type": "markdown",
   "metadata": {},
   "source": [
    "### 데이터 분리"
   ]
  },
  {
   "cell_type": "code",
   "execution_count": 273,
   "metadata": {
    "ExecuteTime": {
     "end_time": "2020-11-22T17:55:23.634827Z",
     "start_time": "2020-11-22T17:55:23.451796Z"
    }
   },
   "outputs": [],
   "source": [
    "# 범주형 데이터.\n",
    "category_columns = ['apartment_id', 'city', 'dong', 'jibun', 'apt', 'addr_kr']\n",
    "\n",
    "for column in category_columns:\n",
    "    train[column] = train[column].astype('category')                     # 범주형시 category. (lightgbm)\n",
    "    test[column] = test[column].astype('category')"
   ]
  },
  {
   "cell_type": "code",
   "execution_count": 89,
   "metadata": {
    "ExecuteTime": {
     "end_time": "2020-11-22T12:16:17.676944Z",
     "start_time": "2020-11-22T12:16:17.670943Z"
    },
    "scrolled": true
   },
   "outputs": [
    {
     "data": {
      "text/plain": [
       "Index(['apartment_id', 'city', 'dong', 'jibun', 'apt', 'addr_kr',\n",
       "       'exclusive_use_area', 'year_of_completion', 'transaction_year_month',\n",
       "       'transaction_date', 'floor', 'transaction_real_price', 'jibun_apt',\n",
       "       'day_care_baby_num_mean', 'park_area', 'teacher_num',\n",
       "       'transaction_year', 'transaction_month'],\n",
       "      dtype='object')"
      ]
     },
     "execution_count": 89,
     "metadata": {},
     "output_type": "execute_result"
    }
   ],
   "source": [
    "train.columns"
   ]
  },
  {
   "cell_type": "code",
   "execution_count": 274,
   "metadata": {
    "ExecuteTime": {
     "end_time": "2020-11-22T17:55:31.068502Z",
     "start_time": "2020-11-22T17:55:31.025492Z"
    }
   },
   "outputs": [],
   "source": [
    "drop_column = ['transaction_real_price']\n",
    "X_data = train.drop(drop_column, axis=1)\n",
    "y_data = train['transaction_real_price'].values"
   ]
  },
  {
   "cell_type": "code",
   "execution_count": 31,
   "metadata": {
    "ExecuteTime": {
     "end_time": "2020-11-22T11:53:29.321392Z",
     "start_time": "2020-11-22T11:53:28.574224Z"
    }
   },
   "outputs": [],
   "source": [
    "X_train, X_valid, y_train, y_valid = train_test_split(X_data, y_data, test_size=0.2, random_state=42, stratify=train['city'])"
   ]
  },
  {
   "cell_type": "code",
   "execution_count": null,
   "metadata": {},
   "outputs": [],
   "source": []
  },
  {
   "cell_type": "markdown",
   "metadata": {},
   "source": [
    "# RandomForest\n",
    "- 결측값이 있으면 자동으로 대체 못함.\n",
    "- 결측값을 꼭 처리 해줘야함."
   ]
  },
  {
   "cell_type": "code",
   "execution_count": 1,
   "metadata": {
    "ExecuteTime": {
     "end_time": "2020-11-21T12:15:32.376545Z",
     "start_time": "2020-11-21T12:15:31.945543Z"
    }
   },
   "outputs": [
    {
     "name": "stderr",
     "output_type": "stream",
     "text": [
      "C:\\Users\\JeongMyeong\\Anaconda3\\lib\\site-packages\\sklearn\\ensemble\\weight_boosting.py:29: DeprecationWarning: numpy.core.umath_tests is an internal NumPy module and should not be imported. It will be removed in a future NumPy release.\n",
      "  from numpy.core.umath_tests import inner1d\n"
     ]
    }
   ],
   "source": [
    "from sklearn.ensemble import RandomForestRegressor\n"
   ]
  },
  {
   "cell_type": "code",
   "execution_count": 144,
   "metadata": {
    "ExecuteTime": {
     "end_time": "2020-11-19T11:10:49.095184Z",
     "start_time": "2020-11-19T11:08:52.200064Z"
    },
    "scrolled": true
   },
   "outputs": [
    {
     "name": "stderr",
     "output_type": "stream",
     "text": [
      "[Parallel(n_jobs=-1)]: Done  26 tasks      | elapsed:   40.1s\n",
      "[Parallel(n_jobs=-1)]: Done 100 out of 100 | elapsed:  1.9min finished\n"
     ]
    },
    {
     "data": {
      "text/plain": [
       "RandomForestRegressor(bootstrap=True, criterion='mse', max_depth=None,\n",
       "           max_features='auto', max_leaf_nodes=None,\n",
       "           min_impurity_decrease=0.0, min_impurity_split=None,\n",
       "           min_samples_leaf=1, min_samples_split=2,\n",
       "           min_weight_fraction_leaf=0.0, n_estimators=100, n_jobs=-1,\n",
       "           oob_score=False, random_state=42, verbose=1, warm_start=False)"
      ]
     },
     "execution_count": 144,
     "metadata": {},
     "output_type": "execute_result"
    }
   ],
   "source": [
    "rf = RandomForestRegressor(\n",
    "        n_estimators=100,\n",
    "        criterion='mse',\n",
    "        max_depth=None,\n",
    "        min_samples_split=2,\n",
    "        min_samples_leaf=1,\n",
    "        min_weight_fraction_leaf=0.0,\n",
    "        min_impurity_decrease=0.0,\n",
    "        n_jobs=-1,\n",
    "        random_state=42,\n",
    "        verbose=1,\n",
    ")\n",
    "\n",
    "rf.fit(X_train.iloc[:,(X_train.isnull().sum()==0).values], y_train)\n"
   ]
  },
  {
   "cell_type": "code",
   "execution_count": 145,
   "metadata": {
    "ExecuteTime": {
     "end_time": "2020-11-19T11:14:44.480636Z",
     "start_time": "2020-11-19T11:14:41.072342Z"
    },
    "scrolled": true
   },
   "outputs": [
    {
     "name": "stderr",
     "output_type": "stream",
     "text": [
      "[Parallel(n_jobs=12)]: Done  26 tasks      | elapsed:    0.9s\n"
     ]
    },
    {
     "name": "stdout",
     "output_type": "stream",
     "text": [
      "4029.2055504096616\n"
     ]
    },
    {
     "name": "stderr",
     "output_type": "stream",
     "text": [
      "[Parallel(n_jobs=12)]: Done 100 out of 100 | elapsed:    3.2s finished\n"
     ]
    }
   ],
   "source": [
    "print(np.sqrt(mean_squared_error(y_valid,rf.predict(X_valid.iloc[:,(X_train.isnull().sum()==0).values]))))"
   ]
  },
  {
   "cell_type": "code",
   "execution_count": 148,
   "metadata": {
    "ExecuteTime": {
     "end_time": "2020-11-19T11:16:29.570435Z",
     "start_time": "2020-11-19T11:16:29.082808Z"
    },
    "scrolled": true
   },
   "outputs": [
    {
     "data": {
      "image/png": "[encoded data removed]",
      "text/plain": [
       "<Figure size 1440x720 with 1 Axes>"
      ]
     },
     "metadata": {
      "needs_background": "light"
     },
     "output_type": "display_data"
    }
   ],
   "source": [
    "show_feature_importance(rf, X_train.iloc[:,(X_train.isnull().sum()==0).values])"
   ]
  },
  {
   "cell_type": "markdown",
   "metadata": {},
   "source": [
    "# XGBoost"
   ]
  },
  {
   "cell_type": "code",
   "execution_count": 160,
   "metadata": {
    "ExecuteTime": {
     "end_time": "2020-11-19T11:22:13.369584Z",
     "start_time": "2020-11-19T11:22:13.352581Z"
    }
   },
   "outputs": [],
   "source": [
    "# pip install xgboost\n",
    "import xgboost as xgb"
   ]
  },
  {
   "cell_type": "code",
   "execution_count": 162,
   "metadata": {
    "ExecuteTime": {
     "end_time": "2020-11-19T11:26:32.823307Z",
     "start_time": "2020-11-19T11:26:32.817307Z"
    }
   },
   "outputs": [],
   "source": [
    "xgb_model=xgb.XGBRegressor(\n",
    "        max_depth=3,\n",
    "        learning_rate=0.5,\n",
    "        n_estimators=2000,\n",
    "        verbosity=1,\n",
    "        silent=1,\n",
    "        objective='reg:linear',\n",
    "        booster='gbtree',\n",
    "        n_jobs=1,\n",
    "        nthread=None,\n",
    "        gamma=0,\n",
    "        min_child_weight=1,\n",
    "        max_delta_step=0,\n",
    "        subsample=1,\n",
    "        colsample_bytree=1,\n",
    "        colsample_bylevel=1,\n",
    "        colsample_bynode=1,\n",
    "        reg_alpha=0,\n",
    "        reg_lambda=1,\n",
    "        scale_pos_weight=1,\n",
    "        random_state=42,\n",
    "        seed=42,\n",
    "        missing=None,\n",
    "        importance_type='gain',\n",
    ")"
   ]
  },
  {
   "cell_type": "code",
   "execution_count": 31,
   "metadata": {
    "ExecuteTime": {
     "end_time": "2020-11-19T09:19:55.951712Z",
     "start_time": "2020-11-19T08:51:29.780945Z"
    },
    "scrolled": true
   },
   "outputs": [
    {
     "name": "stdout",
     "output_type": "stream",
     "text": [
      "[0]\tvalidation_0-rmse:30504.3\tvalidation_1-rmse:30527.1\n",
      "[1]\tvalidation_0-rmse:22218.3\tvalidation_1-rmse:22244.6\n",
      "[2]\tvalidation_0-rmse:18819.4\tvalidation_1-rmse:18841.2\n",
      "[3]\tvalidation_0-rmse:17198.8\tvalidation_1-rmse:17225.3\n",
      "[4]\tvalidation_0-rmse:16306.8\tvalidation_1-rmse:16322.9\n",
      "[5]\tvalidation_0-rmse:15391.6\tvalidation_1-rmse:15402.8\n",
      "[6]\tvalidation_0-rmse:14930.2\tvalidation_1-rmse:14982.9\n",
      "[7]\tvalidation_0-rmse:14645.9\tvalidation_1-rmse:14699.2\n",
      "[8]\tvalidation_0-rmse:14329.8\tvalidation_1-rmse:14379.1\n",
      "[9]\tvalidation_0-rmse:14147.5\tvalidation_1-rmse:14198\n",
      "[10]\tvalidation_0-rmse:14010\tvalidation_1-rmse:14062.5\n",
      "[11]\tvalidation_0-rmse:13858.2\tvalidation_1-rmse:13914.9\n",
      "[12]\tvalidation_0-rmse:13707\tvalidation_1-rmse:13770.8\n",
      "[13]\tvalidation_0-rmse:13466.6\tvalidation_1-rmse:13513.7\n",
      "[14]\tvalidation_0-rmse:13298.9\tvalidation_1-rmse:13347.1\n",
      "[15]\tvalidation_0-rmse:12997.8\tvalidation_1-rmse:13046.2\n",
      "[16]\tvalidation_0-rmse:12797.1\tvalidation_1-rmse:12841.7\n",
      "[17]\tvalidation_0-rmse:12641.8\tvalidation_1-rmse:12692.7\n",
      "[18]\tvalidation_0-rmse:12526.6\tvalidation_1-rmse:12580.3\n",
      "[19]\tvalidation_0-rmse:12436.3\tvalidation_1-rmse:12517.1\n",
      "[20]\tvalidation_0-rmse:12332.5\tvalidation_1-rmse:12421.5\n",
      "[21]\tvalidation_0-rmse:12229\tvalidation_1-rmse:12316.4\n",
      "[22]\tvalidation_0-rmse:12179.4\tvalidation_1-rmse:12267\n",
      "[23]\tvalidation_0-rmse:12035.5\tvalidation_1-rmse:12126.1\n",
      "[24]\tvalidation_0-rmse:11912.3\tvalidation_1-rmse:12008.1\n",
      "[25]\tvalidation_0-rmse:11810.8\tvalidation_1-rmse:11908\n",
      "[26]\tvalidation_0-rmse:11785\tvalidation_1-rmse:11878.9\n",
      "[27]\tvalidation_0-rmse:11759.9\tvalidation_1-rmse:11857.8\n",
      "[28]\tvalidation_0-rmse:11735.9\tvalidation_1-rmse:11835.4\n",
      "[29]\tvalidation_0-rmse:11714.3\tvalidation_1-rmse:11814.9\n",
      "[30]\tvalidation_0-rmse:11666\tvalidation_1-rmse:11766.1\n",
      "[31]\tvalidation_0-rmse:11529.7\tvalidation_1-rmse:11633.5\n",
      "[32]\tvalidation_0-rmse:11450.1\tvalidation_1-rmse:11559.2\n",
      "[33]\tvalidation_0-rmse:11384.8\tvalidation_1-rmse:11491.3\n",
      "[34]\tvalidation_0-rmse:11349.9\tvalidation_1-rmse:11447.8\n",
      "[35]\tvalidation_0-rmse:11334.5\tvalidation_1-rmse:11432.4\n",
      "[36]\tvalidation_0-rmse:11303.2\tvalidation_1-rmse:11401.3\n",
      "[37]\tvalidation_0-rmse:11263.6\tvalidation_1-rmse:11362\n",
      "[38]\tvalidation_0-rmse:11139.2\tvalidation_1-rmse:11242.9\n",
      "[39]\tvalidation_0-rmse:11083.9\tvalidation_1-rmse:11188.8\n",
      "[40]\tvalidation_0-rmse:11046.3\tvalidation_1-rmse:11149.9\n",
      "[41]\tvalidation_0-rmse:10979.8\tvalidation_1-rmse:11083.2\n",
      "[42]\tvalidation_0-rmse:10937.9\tvalidation_1-rmse:11039.3\n",
      "[43]\tvalidation_0-rmse:10878.3\tvalidation_1-rmse:10981.8\n",
      "[44]\tvalidation_0-rmse:10867.6\tvalidation_1-rmse:10972.6\n",
      "[45]\tvalidation_0-rmse:10797.4\tvalidation_1-rmse:10901.1\n",
      "[46]\tvalidation_0-rmse:10772.3\tvalidation_1-rmse:10878.8\n",
      "[47]\tvalidation_0-rmse:10714.4\tvalidation_1-rmse:10833.5\n",
      "[48]\tvalidation_0-rmse:10672.4\tvalidation_1-rmse:10788.9\n",
      "[49]\tvalidation_0-rmse:10629.4\tvalidation_1-rmse:10752.7\n",
      "[50]\tvalidation_0-rmse:10603.3\tvalidation_1-rmse:10725.6\n",
      "[51]\tvalidation_0-rmse:10571.8\tvalidation_1-rmse:10700\n",
      "[52]\tvalidation_0-rmse:10516.3\tvalidation_1-rmse:10646.8\n",
      "[53]\tvalidation_0-rmse:10476.4\tvalidation_1-rmse:10602\n",
      "[54]\tvalidation_0-rmse:10449.8\tvalidation_1-rmse:10578\n",
      "[55]\tvalidation_0-rmse:10440.9\tvalidation_1-rmse:10570.3\n",
      "[56]\tvalidation_0-rmse:10409.3\tvalidation_1-rmse:10538.1\n",
      "[57]\tvalidation_0-rmse:10371.2\tvalidation_1-rmse:10495.9\n",
      "[58]\tvalidation_0-rmse:10343.7\tvalidation_1-rmse:10471.6\n",
      "[59]\tvalidation_0-rmse:10330.8\tvalidation_1-rmse:10458.2\n",
      "[60]\tvalidation_0-rmse:10291.6\tvalidation_1-rmse:10422.7\n",
      "[61]\tvalidation_0-rmse:10244\tvalidation_1-rmse:10376.2\n",
      "[62]\tvalidation_0-rmse:10215.6\tvalidation_1-rmse:10353\n",
      "[63]\tvalidation_0-rmse:10157.4\tvalidation_1-rmse:10297.3\n",
      "[64]\tvalidation_0-rmse:10146.2\tvalidation_1-rmse:10286.7\n",
      "[65]\tvalidation_0-rmse:10106.4\tvalidation_1-rmse:10243.2\n",
      "[66]\tvalidation_0-rmse:10069.4\tvalidation_1-rmse:10204.8\n",
      "[67]\tvalidation_0-rmse:10064.7\tvalidation_1-rmse:10201\n",
      "[68]\tvalidation_0-rmse:10040.6\tvalidation_1-rmse:10175.5\n",
      "[69]\tvalidation_0-rmse:9983.72\tvalidation_1-rmse:10119.8\n",
      "[70]\tvalidation_0-rmse:9945.76\tvalidation_1-rmse:10083.1\n",
      "[71]\tvalidation_0-rmse:9925.42\tvalidation_1-rmse:10062.8\n",
      "[72]\tvalidation_0-rmse:9914.89\tvalidation_1-rmse:10052.7\n",
      "[73]\tvalidation_0-rmse:9867.07\tvalidation_1-rmse:10007.4\n",
      "[74]\tvalidation_0-rmse:9818.74\tvalidation_1-rmse:9954.44\n",
      "[75]\tvalidation_0-rmse:9778.13\tvalidation_1-rmse:9911.74\n",
      "[76]\tvalidation_0-rmse:9758.61\tvalidation_1-rmse:9892.43\n",
      "[77]\tvalidation_0-rmse:9728\tvalidation_1-rmse:9862.3\n",
      "[78]\tvalidation_0-rmse:9705.89\tvalidation_1-rmse:9840.97\n",
      "[79]\tvalidation_0-rmse:9700.19\tvalidation_1-rmse:9835.08\n",
      "[80]\tvalidation_0-rmse:9685.34\tvalidation_1-rmse:9820.66\n",
      "[81]\tvalidation_0-rmse:9673.68\tvalidation_1-rmse:9816.31\n",
      "[82]\tvalidation_0-rmse:9651.89\tvalidation_1-rmse:9804.98\n",
      "[83]\tvalidation_0-rmse:9641.88\tvalidation_1-rmse:9795.98\n",
      "[84]\tvalidation_0-rmse:9610.25\tvalidation_1-rmse:9766.75\n",
      "[85]\tvalidation_0-rmse:9588.96\tvalidation_1-rmse:9741.33\n",
      "[86]\tvalidation_0-rmse:9571.95\tvalidation_1-rmse:9724.5\n",
      "[87]\tvalidation_0-rmse:9539.71\tvalidation_1-rmse:9694.73\n",
      "[88]\tvalidation_0-rmse:9519.3\tvalidation_1-rmse:9675.05\n",
      "[89]\tvalidation_0-rmse:9496.81\tvalidation_1-rmse:9651.78\n",
      "[90]\tvalidation_0-rmse:9466.04\tvalidation_1-rmse:9622.75\n",
      "[91]\tvalidation_0-rmse:9435.84\tvalidation_1-rmse:9593.49\n",
      "[92]\tvalidation_0-rmse:9402.61\tvalidation_1-rmse:9561.1\n",
      "[93]\tvalidation_0-rmse:9369.18\tvalidation_1-rmse:9527.09\n",
      "[94]\tvalidation_0-rmse:9343.84\tvalidation_1-rmse:9504.41\n",
      "[95]\tvalidation_0-rmse:9322.57\tvalidation_1-rmse:9483.94\n",
      "[96]\tvalidation_0-rmse:9301.11\tvalidation_1-rmse:9461.42\n",
      "[97]\tvalidation_0-rmse:9266.18\tvalidation_1-rmse:9427.98\n",
      "[98]\tvalidation_0-rmse:9239.85\tvalidation_1-rmse:9401.42\n",
      "[99]\tvalidation_0-rmse:9223.68\tvalidation_1-rmse:9384.96\n",
      "[100]\tvalidation_0-rmse:9193.7\tvalidation_1-rmse:9352.48\n",
      "[101]\tvalidation_0-rmse:9175.54\tvalidation_1-rmse:9334.05\n",
      "[102]\tvalidation_0-rmse:9163.83\tvalidation_1-rmse:9322.96\n",
      "[103]\tvalidation_0-rmse:9154.91\tvalidation_1-rmse:9314.64\n",
      "[104]\tvalidation_0-rmse:9122.07\tvalidation_1-rmse:9283.03\n",
      "[105]\tvalidation_0-rmse:9101.34\tvalidation_1-rmse:9262.81\n",
      "[106]\tvalidation_0-rmse:9074.9\tvalidation_1-rmse:9231.65\n",
      "[107]\tvalidation_0-rmse:9057.8\tvalidation_1-rmse:9213.08\n",
      "[108]\tvalidation_0-rmse:9046.42\tvalidation_1-rmse:9201.49\n",
      "[109]\tvalidation_0-rmse:9033.09\tvalidation_1-rmse:9188.91\n",
      "[110]\tvalidation_0-rmse:9016.05\tvalidation_1-rmse:9166.1\n",
      "[111]\tvalidation_0-rmse:9011.05\tvalidation_1-rmse:9165.46\n",
      "[112]\tvalidation_0-rmse:8989.55\tvalidation_1-rmse:9142.05\n",
      "[113]\tvalidation_0-rmse:8961.68\tvalidation_1-rmse:9117.14\n",
      "[114]\tvalidation_0-rmse:8946.41\tvalidation_1-rmse:9102.04\n",
      "[115]\tvalidation_0-rmse:8930.33\tvalidation_1-rmse:9086.54\n",
      "[116]\tvalidation_0-rmse:8921.39\tvalidation_1-rmse:9078.27\n",
      "[117]\tvalidation_0-rmse:8906.54\tvalidation_1-rmse:9060.8\n",
      "[118]\tvalidation_0-rmse:8886.17\tvalidation_1-rmse:9042.68\n",
      "[119]\tvalidation_0-rmse:8865.15\tvalidation_1-rmse:9022.23\n",
      "[120]\tvalidation_0-rmse:8847.87\tvalidation_1-rmse:9004.6\n",
      "[121]\tvalidation_0-rmse:8838.89\tvalidation_1-rmse:8995.38\n",
      "[122]\tvalidation_0-rmse:8826.1\tvalidation_1-rmse:8982.29\n",
      "[123]\tvalidation_0-rmse:8819.48\tvalidation_1-rmse:8977.96\n",
      "[124]\tvalidation_0-rmse:8803.08\tvalidation_1-rmse:8962.74\n",
      "[125]\tvalidation_0-rmse:8780.59\tvalidation_1-rmse:8940.35\n",
      "[126]\tvalidation_0-rmse:8771.32\tvalidation_1-rmse:8929.26\n",
      "[127]\tvalidation_0-rmse:8752.49\tvalidation_1-rmse:8909.11\n",
      "[128]\tvalidation_0-rmse:8731.14\tvalidation_1-rmse:8889.01\n",
      "[129]\tvalidation_0-rmse:8713.18\tvalidation_1-rmse:8869.51\n",
      "[130]\tvalidation_0-rmse:8703.35\tvalidation_1-rmse:8859.59\n",
      "[131]\tvalidation_0-rmse:8695.35\tvalidation_1-rmse:8850.69\n",
      "[132]\tvalidation_0-rmse:8679.61\tvalidation_1-rmse:8837.89\n",
      "[133]\tvalidation_0-rmse:8673.25\tvalidation_1-rmse:8831.78\n",
      "[134]\tvalidation_0-rmse:8669.15\tvalidation_1-rmse:8829.69\n",
      "[135]\tvalidation_0-rmse:8659.83\tvalidation_1-rmse:8819.45\n",
      "[136]\tvalidation_0-rmse:8649.3\tvalidation_1-rmse:8806.85\n",
      "[137]\tvalidation_0-rmse:8639.94\tvalidation_1-rmse:8798.02\n",
      "[138]\tvalidation_0-rmse:8622.48\tvalidation_1-rmse:8782.36\n",
      "[139]\tvalidation_0-rmse:8608.88\tvalidation_1-rmse:8769.07\n",
      "[140]\tvalidation_0-rmse:8581.66\tvalidation_1-rmse:8742.32\n",
      "[141]\tvalidation_0-rmse:8564.99\tvalidation_1-rmse:8725.16\n",
      "[142]\tvalidation_0-rmse:8545.93\tvalidation_1-rmse:8709.53\n",
      "[143]\tvalidation_0-rmse:8525.61\tvalidation_1-rmse:8687.78\n"
     ]
    },
    {
     "name": "stdout",
     "output_type": "stream",
     "text": [
      "[144]\tvalidation_0-rmse:8509.15\tvalidation_1-rmse:8670.79\n",
      "[145]\tvalidation_0-rmse:8499.91\tvalidation_1-rmse:8661.71\n",
      "[146]\tvalidation_0-rmse:8461.02\tvalidation_1-rmse:8622.28\n",
      "[147]\tvalidation_0-rmse:8458.26\tvalidation_1-rmse:8618.59\n",
      "[148]\tvalidation_0-rmse:8447.81\tvalidation_1-rmse:8608.68\n",
      "[149]\tvalidation_0-rmse:8442.93\tvalidation_1-rmse:8604.43\n",
      "[150]\tvalidation_0-rmse:8423.04\tvalidation_1-rmse:8583.59\n",
      "[151]\tvalidation_0-rmse:8404.41\tvalidation_1-rmse:8564.59\n",
      "[152]\tvalidation_0-rmse:8385.03\tvalidation_1-rmse:8548.42\n",
      "[153]\tvalidation_0-rmse:8377.1\tvalidation_1-rmse:8540.14\n",
      "[154]\tvalidation_0-rmse:8367.46\tvalidation_1-rmse:8529.71\n",
      "[155]\tvalidation_0-rmse:8361.19\tvalidation_1-rmse:8522.58\n",
      "[156]\tvalidation_0-rmse:8345.6\tvalidation_1-rmse:8507.71\n",
      "[157]\tvalidation_0-rmse:8330.61\tvalidation_1-rmse:8494.12\n",
      "[158]\tvalidation_0-rmse:8296.48\tvalidation_1-rmse:8457.39\n",
      "[159]\tvalidation_0-rmse:8277.2\tvalidation_1-rmse:8439.29\n",
      "[160]\tvalidation_0-rmse:8239.99\tvalidation_1-rmse:8406.35\n",
      "[161]\tvalidation_0-rmse:8231.09\tvalidation_1-rmse:8397.55\n",
      "[162]\tvalidation_0-rmse:8223.32\tvalidation_1-rmse:8390.53\n",
      "[163]\tvalidation_0-rmse:8209.77\tvalidation_1-rmse:8376.58\n",
      "[164]\tvalidation_0-rmse:8194.6\tvalidation_1-rmse:8361.86\n",
      "[165]\tvalidation_0-rmse:8183.22\tvalidation_1-rmse:8350.5\n",
      "[166]\tvalidation_0-rmse:8162\tvalidation_1-rmse:8326.85\n",
      "[167]\tvalidation_0-rmse:8147.27\tvalidation_1-rmse:8313.23\n",
      "[168]\tvalidation_0-rmse:8142.98\tvalidation_1-rmse:8308.6\n",
      "[169]\tvalidation_0-rmse:8128.22\tvalidation_1-rmse:8293.63\n",
      "[170]\tvalidation_0-rmse:8119.02\tvalidation_1-rmse:8283.91\n",
      "[171]\tvalidation_0-rmse:8100.61\tvalidation_1-rmse:8266.74\n",
      "[172]\tvalidation_0-rmse:8095.53\tvalidation_1-rmse:8261.33\n",
      "[173]\tvalidation_0-rmse:8080.22\tvalidation_1-rmse:8245.8\n",
      "[174]\tvalidation_0-rmse:8070.74\tvalidation_1-rmse:8236.74\n",
      "[175]\tvalidation_0-rmse:8064.59\tvalidation_1-rmse:8230.64\n",
      "[176]\tvalidation_0-rmse:8052.75\tvalidation_1-rmse:8217.94\n",
      "[177]\tvalidation_0-rmse:8047.52\tvalidation_1-rmse:8212.72\n",
      "[178]\tvalidation_0-rmse:8039.07\tvalidation_1-rmse:8204.46\n",
      "[179]\tvalidation_0-rmse:8024.72\tvalidation_1-rmse:8190.9\n",
      "[180]\tvalidation_0-rmse:7993.65\tvalidation_1-rmse:8155.27\n",
      "[181]\tvalidation_0-rmse:7983.05\tvalidation_1-rmse:8144.84\n",
      "[182]\tvalidation_0-rmse:7969.8\tvalidation_1-rmse:8131.7\n",
      "[183]\tvalidation_0-rmse:7961.63\tvalidation_1-rmse:8122.47\n",
      "[184]\tvalidation_0-rmse:7949.48\tvalidation_1-rmse:8108.46\n",
      "[185]\tvalidation_0-rmse:7937.78\tvalidation_1-rmse:8098.57\n",
      "[186]\tvalidation_0-rmse:7935.65\tvalidation_1-rmse:8096.61\n",
      "[187]\tvalidation_0-rmse:7928.69\tvalidation_1-rmse:8091.56\n",
      "[188]\tvalidation_0-rmse:7924.08\tvalidation_1-rmse:8084.38\n",
      "[189]\tvalidation_0-rmse:7920.17\tvalidation_1-rmse:8080.13\n",
      "[190]\tvalidation_0-rmse:7913.6\tvalidation_1-rmse:8073.41\n",
      "[191]\tvalidation_0-rmse:7905.3\tvalidation_1-rmse:8065.42\n",
      "[192]\tvalidation_0-rmse:7902.16\tvalidation_1-rmse:8058.91\n",
      "[193]\tvalidation_0-rmse:7895.88\tvalidation_1-rmse:8053.41\n",
      "[194]\tvalidation_0-rmse:7879.92\tvalidation_1-rmse:8038.44\n",
      "[195]\tvalidation_0-rmse:7870.94\tvalidation_1-rmse:8035.61\n",
      "[196]\tvalidation_0-rmse:7866.78\tvalidation_1-rmse:8032.68\n",
      "[197]\tvalidation_0-rmse:7856.17\tvalidation_1-rmse:8022.53\n",
      "[198]\tvalidation_0-rmse:7849.93\tvalidation_1-rmse:8015.96\n",
      "[199]\tvalidation_0-rmse:7837.13\tvalidation_1-rmse:8003.91\n",
      "[200]\tvalidation_0-rmse:7824.59\tvalidation_1-rmse:7991.73\n",
      "[201]\tvalidation_0-rmse:7819.89\tvalidation_1-rmse:7986.47\n",
      "[202]\tvalidation_0-rmse:7816.4\tvalidation_1-rmse:7983.82\n",
      "[203]\tvalidation_0-rmse:7804.36\tvalidation_1-rmse:7972.3\n",
      "[204]\tvalidation_0-rmse:7798.78\tvalidation_1-rmse:7964.23\n",
      "[205]\tvalidation_0-rmse:7788.83\tvalidation_1-rmse:7952.01\n",
      "[206]\tvalidation_0-rmse:7777.15\tvalidation_1-rmse:7939.08\n",
      "[207]\tvalidation_0-rmse:7767.91\tvalidation_1-rmse:7928.79\n",
      "[208]\tvalidation_0-rmse:7747.24\tvalidation_1-rmse:7907.31\n",
      "[209]\tvalidation_0-rmse:7740.25\tvalidation_1-rmse:7902.54\n",
      "[210]\tvalidation_0-rmse:7731.06\tvalidation_1-rmse:7894.49\n",
      "[211]\tvalidation_0-rmse:7718.16\tvalidation_1-rmse:7881.37\n",
      "[212]\tvalidation_0-rmse:7710.4\tvalidation_1-rmse:7881.35\n",
      "[213]\tvalidation_0-rmse:7701.35\tvalidation_1-rmse:7872.53\n",
      "[214]\tvalidation_0-rmse:7697.99\tvalidation_1-rmse:7868.61\n",
      "[215]\tvalidation_0-rmse:7684.42\tvalidation_1-rmse:7858.15\n",
      "[216]\tvalidation_0-rmse:7675.76\tvalidation_1-rmse:7851.02\n",
      "[217]\tvalidation_0-rmse:7667.96\tvalidation_1-rmse:7845.47\n",
      "[218]\tvalidation_0-rmse:7657.64\tvalidation_1-rmse:7835.67\n",
      "[219]\tvalidation_0-rmse:7646.15\tvalidation_1-rmse:7825.49\n",
      "[220]\tvalidation_0-rmse:7624.87\tvalidation_1-rmse:7806.89\n",
      "[221]\tvalidation_0-rmse:7617.9\tvalidation_1-rmse:7798.74\n",
      "[222]\tvalidation_0-rmse:7609.36\tvalidation_1-rmse:7791.71\n",
      "[223]\tvalidation_0-rmse:7588.03\tvalidation_1-rmse:7770.44\n",
      "[224]\tvalidation_0-rmse:7584.07\tvalidation_1-rmse:7766.52\n",
      "[225]\tvalidation_0-rmse:7577.8\tvalidation_1-rmse:7759.96\n",
      "[226]\tvalidation_0-rmse:7565.37\tvalidation_1-rmse:7746.74\n",
      "[227]\tvalidation_0-rmse:7562.58\tvalidation_1-rmse:7744.29\n",
      "[228]\tvalidation_0-rmse:7553.29\tvalidation_1-rmse:7738.47\n",
      "[229]\tvalidation_0-rmse:7541.35\tvalidation_1-rmse:7727.15\n",
      "[230]\tvalidation_0-rmse:7533.98\tvalidation_1-rmse:7720\n",
      "[231]\tvalidation_0-rmse:7519.88\tvalidation_1-rmse:7704.53\n",
      "[232]\tvalidation_0-rmse:7513.11\tvalidation_1-rmse:7694.94\n",
      "[233]\tvalidation_0-rmse:7508.05\tvalidation_1-rmse:7691.19\n",
      "[234]\tvalidation_0-rmse:7504.48\tvalidation_1-rmse:7687.94\n",
      "[235]\tvalidation_0-rmse:7499.64\tvalidation_1-rmse:7683.86\n",
      "[236]\tvalidation_0-rmse:7488.68\tvalidation_1-rmse:7674.18\n",
      "[237]\tvalidation_0-rmse:7477.52\tvalidation_1-rmse:7659.18\n",
      "[238]\tvalidation_0-rmse:7467.94\tvalidation_1-rmse:7649.66\n",
      "[239]\tvalidation_0-rmse:7461.49\tvalidation_1-rmse:7642.85\n",
      "[240]\tvalidation_0-rmse:7455.69\tvalidation_1-rmse:7638.31\n",
      "[241]\tvalidation_0-rmse:7451.45\tvalidation_1-rmse:7633.66\n",
      "[242]\tvalidation_0-rmse:7431.46\tvalidation_1-rmse:7614.19\n",
      "[243]\tvalidation_0-rmse:7424.3\tvalidation_1-rmse:7607.35\n",
      "[244]\tvalidation_0-rmse:7414.65\tvalidation_1-rmse:7598.06\n",
      "[245]\tvalidation_0-rmse:7401.54\tvalidation_1-rmse:7581.77\n",
      "[246]\tvalidation_0-rmse:7398.33\tvalidation_1-rmse:7578.31\n",
      "[247]\tvalidation_0-rmse:7389.91\tvalidation_1-rmse:7570.71\n",
      "[248]\tvalidation_0-rmse:7382.89\tvalidation_1-rmse:7563.46\n",
      "[249]\tvalidation_0-rmse:7368.19\tvalidation_1-rmse:7550.15\n",
      "[250]\tvalidation_0-rmse:7362.84\tvalidation_1-rmse:7545.38\n",
      "[251]\tvalidation_0-rmse:7357.04\tvalidation_1-rmse:7540.45\n",
      "[252]\tvalidation_0-rmse:7344.32\tvalidation_1-rmse:7527.76\n",
      "[253]\tvalidation_0-rmse:7332.62\tvalidation_1-rmse:7515.63\n",
      "[254]\tvalidation_0-rmse:7328.86\tvalidation_1-rmse:7511.98\n",
      "[255]\tvalidation_0-rmse:7317.5\tvalidation_1-rmse:7503.19\n",
      "[256]\tvalidation_0-rmse:7314.53\tvalidation_1-rmse:7500.6\n",
      "[257]\tvalidation_0-rmse:7308.9\tvalidation_1-rmse:7495.8\n",
      "[258]\tvalidation_0-rmse:7306.84\tvalidation_1-rmse:7493.45\n",
      "[259]\tvalidation_0-rmse:7301.72\tvalidation_1-rmse:7488.13\n",
      "[260]\tvalidation_0-rmse:7295.95\tvalidation_1-rmse:7483.02\n",
      "[261]\tvalidation_0-rmse:7289.68\tvalidation_1-rmse:7476.92\n",
      "[262]\tvalidation_0-rmse:7282.33\tvalidation_1-rmse:7468.97\n",
      "[263]\tvalidation_0-rmse:7276.72\tvalidation_1-rmse:7463.79\n",
      "[264]\tvalidation_0-rmse:7272.99\tvalidation_1-rmse:7460.89\n",
      "[265]\tvalidation_0-rmse:7272.06\tvalidation_1-rmse:7459.47\n",
      "[266]\tvalidation_0-rmse:7267.4\tvalidation_1-rmse:7453.99\n",
      "[267]\tvalidation_0-rmse:7257.37\tvalidation_1-rmse:7443.53\n",
      "[268]\tvalidation_0-rmse:7240.62\tvalidation_1-rmse:7426.1\n",
      "[269]\tvalidation_0-rmse:7232.93\tvalidation_1-rmse:7419.71\n",
      "[270]\tvalidation_0-rmse:7226.46\tvalidation_1-rmse:7411.96\n",
      "[271]\tvalidation_0-rmse:7223.61\tvalidation_1-rmse:7409.04\n",
      "[272]\tvalidation_0-rmse:7220.24\tvalidation_1-rmse:7405.78\n",
      "[273]\tvalidation_0-rmse:7215.76\tvalidation_1-rmse:7402.33\n",
      "[274]\tvalidation_0-rmse:7208.87\tvalidation_1-rmse:7395.28\n",
      "[275]\tvalidation_0-rmse:7202.27\tvalidation_1-rmse:7389.06\n",
      "[276]\tvalidation_0-rmse:7195.03\tvalidation_1-rmse:7379.08\n",
      "[277]\tvalidation_0-rmse:7190.91\tvalidation_1-rmse:7375.2\n",
      "[278]\tvalidation_0-rmse:7182.22\tvalidation_1-rmse:7366.97\n",
      "[279]\tvalidation_0-rmse:7172.02\tvalidation_1-rmse:7354.84\n",
      "[280]\tvalidation_0-rmse:7164.05\tvalidation_1-rmse:7347.4\n",
      "[281]\tvalidation_0-rmse:7157.03\tvalidation_1-rmse:7340.87\n",
      "[282]\tvalidation_0-rmse:7151.09\tvalidation_1-rmse:7334.45\n",
      "[283]\tvalidation_0-rmse:7141.73\tvalidation_1-rmse:7325.97\n",
      "[284]\tvalidation_0-rmse:7132.05\tvalidation_1-rmse:7315.34\n",
      "[285]\tvalidation_0-rmse:7127.45\tvalidation_1-rmse:7310.86\n"
     ]
    },
    {
     "name": "stdout",
     "output_type": "stream",
     "text": [
      "[286]\tvalidation_0-rmse:7120.05\tvalidation_1-rmse:7306.42\n",
      "[287]\tvalidation_0-rmse:7117.56\tvalidation_1-rmse:7307.38\n",
      "[288]\tvalidation_0-rmse:7110.93\tvalidation_1-rmse:7302.43\n",
      "[289]\tvalidation_0-rmse:7103.38\tvalidation_1-rmse:7295.11\n",
      "[290]\tvalidation_0-rmse:7100.15\tvalidation_1-rmse:7292.48\n",
      "[291]\tvalidation_0-rmse:7096.93\tvalidation_1-rmse:7290.06\n",
      "[292]\tvalidation_0-rmse:7089.94\tvalidation_1-rmse:7285.17\n",
      "[293]\tvalidation_0-rmse:7079.75\tvalidation_1-rmse:7270.6\n",
      "[294]\tvalidation_0-rmse:7075.22\tvalidation_1-rmse:7266.29\n",
      "[295]\tvalidation_0-rmse:7071.85\tvalidation_1-rmse:7262.39\n",
      "[296]\tvalidation_0-rmse:7066.55\tvalidation_1-rmse:7259.52\n",
      "[297]\tvalidation_0-rmse:7063.49\tvalidation_1-rmse:7256.44\n",
      "[298]\tvalidation_0-rmse:7046.66\tvalidation_1-rmse:7240.32\n",
      "[299]\tvalidation_0-rmse:7040.88\tvalidation_1-rmse:7234.8\n",
      "[300]\tvalidation_0-rmse:7036.18\tvalidation_1-rmse:7230.85\n",
      "[301]\tvalidation_0-rmse:7028.21\tvalidation_1-rmse:7222.48\n",
      "[302]\tvalidation_0-rmse:7022.36\tvalidation_1-rmse:7217.85\n",
      "[303]\tvalidation_0-rmse:7014.39\tvalidation_1-rmse:7211.11\n",
      "[304]\tvalidation_0-rmse:7011.77\tvalidation_1-rmse:7209.14\n",
      "[305]\tvalidation_0-rmse:7006.1\tvalidation_1-rmse:7203.53\n",
      "[306]\tvalidation_0-rmse:6997.01\tvalidation_1-rmse:7194.78\n",
      "[307]\tvalidation_0-rmse:6991.17\tvalidation_1-rmse:7188.99\n",
      "[308]\tvalidation_0-rmse:6985.07\tvalidation_1-rmse:7181.4\n",
      "[309]\tvalidation_0-rmse:6979.84\tvalidation_1-rmse:7179.9\n",
      "[310]\tvalidation_0-rmse:6971.52\tvalidation_1-rmse:7171.61\n",
      "[311]\tvalidation_0-rmse:6966.85\tvalidation_1-rmse:7166.89\n",
      "[312]\tvalidation_0-rmse:6960.31\tvalidation_1-rmse:7161.68\n",
      "[313]\tvalidation_0-rmse:6955.8\tvalidation_1-rmse:7158.31\n",
      "[314]\tvalidation_0-rmse:6946.08\tvalidation_1-rmse:7149.51\n",
      "[315]\tvalidation_0-rmse:6936.42\tvalidation_1-rmse:7139.85\n",
      "[316]\tvalidation_0-rmse:6933.38\tvalidation_1-rmse:7138.4\n",
      "[317]\tvalidation_0-rmse:6927.82\tvalidation_1-rmse:7132.38\n",
      "[318]\tvalidation_0-rmse:6925.26\tvalidation_1-rmse:7129.71\n",
      "[319]\tvalidation_0-rmse:6921.23\tvalidation_1-rmse:7125.33\n",
      "[320]\tvalidation_0-rmse:6918.02\tvalidation_1-rmse:7121.79\n",
      "[321]\tvalidation_0-rmse:6911.91\tvalidation_1-rmse:7115.42\n",
      "[322]\tvalidation_0-rmse:6904.99\tvalidation_1-rmse:7109.37\n",
      "[323]\tvalidation_0-rmse:6900.87\tvalidation_1-rmse:7105.3\n",
      "[324]\tvalidation_0-rmse:6898.3\tvalidation_1-rmse:7102.44\n",
      "[325]\tvalidation_0-rmse:6893.51\tvalidation_1-rmse:7097.43\n",
      "[326]\tvalidation_0-rmse:6889.81\tvalidation_1-rmse:7094.84\n",
      "[327]\tvalidation_0-rmse:6882.61\tvalidation_1-rmse:7088.97\n",
      "[328]\tvalidation_0-rmse:6877.76\tvalidation_1-rmse:7084.34\n",
      "[329]\tvalidation_0-rmse:6874.9\tvalidation_1-rmse:7077.65\n",
      "[330]\tvalidation_0-rmse:6854.01\tvalidation_1-rmse:7057.88\n",
      "[331]\tvalidation_0-rmse:6849.35\tvalidation_1-rmse:7051.41\n",
      "[332]\tvalidation_0-rmse:6842.82\tvalidation_1-rmse:7045.4\n",
      "[333]\tvalidation_0-rmse:6839.09\tvalidation_1-rmse:7042.17\n",
      "[334]\tvalidation_0-rmse:6834.59\tvalidation_1-rmse:7038.95\n",
      "[335]\tvalidation_0-rmse:6833.19\tvalidation_1-rmse:7037.16\n",
      "[336]\tvalidation_0-rmse:6827\tvalidation_1-rmse:7030.95\n",
      "[337]\tvalidation_0-rmse:6824.14\tvalidation_1-rmse:7027.5\n",
      "[338]\tvalidation_0-rmse:6820.78\tvalidation_1-rmse:7025.11\n",
      "[339]\tvalidation_0-rmse:6817.39\tvalidation_1-rmse:7021.25\n",
      "[340]\tvalidation_0-rmse:6814.23\tvalidation_1-rmse:7017.52\n",
      "[341]\tvalidation_0-rmse:6808.75\tvalidation_1-rmse:7011.6\n",
      "[342]\tvalidation_0-rmse:6803.5\tvalidation_1-rmse:7005.79\n",
      "[343]\tvalidation_0-rmse:6793.7\tvalidation_1-rmse:6994.18\n",
      "[344]\tvalidation_0-rmse:6791.82\tvalidation_1-rmse:6993.65\n",
      "[345]\tvalidation_0-rmse:6786.4\tvalidation_1-rmse:6988.52\n",
      "[346]\tvalidation_0-rmse:6779.94\tvalidation_1-rmse:6981.94\n",
      "[347]\tvalidation_0-rmse:6776.05\tvalidation_1-rmse:6978.09\n",
      "[348]\tvalidation_0-rmse:6774.14\tvalidation_1-rmse:6979.49\n",
      "[349]\tvalidation_0-rmse:6769.14\tvalidation_1-rmse:6973.69\n",
      "[350]\tvalidation_0-rmse:6764.57\tvalidation_1-rmse:6969.72\n",
      "[351]\tvalidation_0-rmse:6761.82\tvalidation_1-rmse:6967.58\n",
      "[352]\tvalidation_0-rmse:6759.34\tvalidation_1-rmse:6965.19\n",
      "[353]\tvalidation_0-rmse:6758.63\tvalidation_1-rmse:6964.71\n",
      "[354]\tvalidation_0-rmse:6755.86\tvalidation_1-rmse:6962.26\n",
      "[355]\tvalidation_0-rmse:6743.91\tvalidation_1-rmse:6951.83\n",
      "[356]\tvalidation_0-rmse:6739.16\tvalidation_1-rmse:6946.34\n",
      "[357]\tvalidation_0-rmse:6737.55\tvalidation_1-rmse:6943.65\n",
      "[358]\tvalidation_0-rmse:6731.21\tvalidation_1-rmse:6937.53\n",
      "[359]\tvalidation_0-rmse:6726.1\tvalidation_1-rmse:6932.61\n",
      "[360]\tvalidation_0-rmse:6718.43\tvalidation_1-rmse:6924.31\n",
      "[361]\tvalidation_0-rmse:6716.88\tvalidation_1-rmse:6922.4\n",
      "[362]\tvalidation_0-rmse:6713.73\tvalidation_1-rmse:6919.51\n",
      "[363]\tvalidation_0-rmse:6709.55\tvalidation_1-rmse:6915.28\n",
      "[364]\tvalidation_0-rmse:6707.92\tvalidation_1-rmse:6913.29\n",
      "[365]\tvalidation_0-rmse:6707.24\tvalidation_1-rmse:6912.97\n",
      "[366]\tvalidation_0-rmse:6703.19\tvalidation_1-rmse:6909.63\n",
      "[367]\tvalidation_0-rmse:6699.91\tvalidation_1-rmse:6908.39\n",
      "[368]\tvalidation_0-rmse:6695.99\tvalidation_1-rmse:6904.76\n",
      "[369]\tvalidation_0-rmse:6690.14\tvalidation_1-rmse:6899.86\n",
      "[370]\tvalidation_0-rmse:6687.54\tvalidation_1-rmse:6897.23\n",
      "[371]\tvalidation_0-rmse:6683.64\tvalidation_1-rmse:6894.1\n",
      "[372]\tvalidation_0-rmse:6680.64\tvalidation_1-rmse:6891.33\n",
      "[373]\tvalidation_0-rmse:6676.43\tvalidation_1-rmse:6887.52\n",
      "[374]\tvalidation_0-rmse:6672.47\tvalidation_1-rmse:6885.98\n",
      "[375]\tvalidation_0-rmse:6671.11\tvalidation_1-rmse:6886.49\n",
      "[376]\tvalidation_0-rmse:6668.37\tvalidation_1-rmse:6883.93\n",
      "[377]\tvalidation_0-rmse:6661.62\tvalidation_1-rmse:6877.08\n",
      "[378]\tvalidation_0-rmse:6656.29\tvalidation_1-rmse:6873.02\n",
      "[379]\tvalidation_0-rmse:6652.84\tvalidation_1-rmse:6869.95\n",
      "[380]\tvalidation_0-rmse:6643.72\tvalidation_1-rmse:6860.9\n",
      "[381]\tvalidation_0-rmse:6638.52\tvalidation_1-rmse:6857.21\n",
      "[382]\tvalidation_0-rmse:6634.81\tvalidation_1-rmse:6854.04\n",
      "[383]\tvalidation_0-rmse:6625.78\tvalidation_1-rmse:6841.94\n",
      "[384]\tvalidation_0-rmse:6618.66\tvalidation_1-rmse:6834.24\n",
      "[385]\tvalidation_0-rmse:6614.67\tvalidation_1-rmse:6831.33\n",
      "[386]\tvalidation_0-rmse:6612.32\tvalidation_1-rmse:6828.7\n",
      "[387]\tvalidation_0-rmse:6611.21\tvalidation_1-rmse:6827.47\n",
      "[388]\tvalidation_0-rmse:6606.43\tvalidation_1-rmse:6823.93\n",
      "[389]\tvalidation_0-rmse:6601.81\tvalidation_1-rmse:6817.78\n",
      "[390]\tvalidation_0-rmse:6595.69\tvalidation_1-rmse:6811.66\n",
      "[391]\tvalidation_0-rmse:6589.62\tvalidation_1-rmse:6806.07\n",
      "[392]\tvalidation_0-rmse:6585.86\tvalidation_1-rmse:6802.51\n",
      "[393]\tvalidation_0-rmse:6580.59\tvalidation_1-rmse:6796.13\n",
      "[394]\tvalidation_0-rmse:6578.65\tvalidation_1-rmse:6796.29\n",
      "[395]\tvalidation_0-rmse:6576.51\tvalidation_1-rmse:6793.66\n",
      "[396]\tvalidation_0-rmse:6572.87\tvalidation_1-rmse:6791.89\n",
      "[397]\tvalidation_0-rmse:6570.81\tvalidation_1-rmse:6788.52\n",
      "[398]\tvalidation_0-rmse:6564.89\tvalidation_1-rmse:6781.36\n",
      "[399]\tvalidation_0-rmse:6561.03\tvalidation_1-rmse:6776.88\n",
      "[400]\tvalidation_0-rmse:6556.28\tvalidation_1-rmse:6772.97\n",
      "[401]\tvalidation_0-rmse:6553.26\tvalidation_1-rmse:6770.35\n",
      "[402]\tvalidation_0-rmse:6547.15\tvalidation_1-rmse:6764.3\n",
      "[403]\tvalidation_0-rmse:6544.43\tvalidation_1-rmse:6760.94\n",
      "[404]\tvalidation_0-rmse:6542.79\tvalidation_1-rmse:6759.29\n",
      "[405]\tvalidation_0-rmse:6541.83\tvalidation_1-rmse:6758.45\n",
      "[406]\tvalidation_0-rmse:6540.2\tvalidation_1-rmse:6756.92\n",
      "[407]\tvalidation_0-rmse:6538.47\tvalidation_1-rmse:6755.31\n",
      "[408]\tvalidation_0-rmse:6536.04\tvalidation_1-rmse:6753.82\n",
      "[409]\tvalidation_0-rmse:6532.86\tvalidation_1-rmse:6750.23\n",
      "[410]\tvalidation_0-rmse:6531.75\tvalidation_1-rmse:6749.15\n",
      "[411]\tvalidation_0-rmse:6525.31\tvalidation_1-rmse:6745.24\n",
      "[412]\tvalidation_0-rmse:6517.43\tvalidation_1-rmse:6738.3\n",
      "[413]\tvalidation_0-rmse:6513.24\tvalidation_1-rmse:6734.22\n",
      "[414]\tvalidation_0-rmse:6508.89\tvalidation_1-rmse:6729.91\n",
      "[415]\tvalidation_0-rmse:6501.95\tvalidation_1-rmse:6723.56\n",
      "[416]\tvalidation_0-rmse:6498.48\tvalidation_1-rmse:6720.2\n",
      "[417]\tvalidation_0-rmse:6493.9\tvalidation_1-rmse:6714.6\n",
      "[418]\tvalidation_0-rmse:6492.72\tvalidation_1-rmse:6712.18\n",
      "[419]\tvalidation_0-rmse:6490.48\tvalidation_1-rmse:6710.12\n",
      "[420]\tvalidation_0-rmse:6483.26\tvalidation_1-rmse:6702.2\n",
      "[421]\tvalidation_0-rmse:6478.73\tvalidation_1-rmse:6697.42\n",
      "[422]\tvalidation_0-rmse:6476.07\tvalidation_1-rmse:6695.45\n",
      "[423]\tvalidation_0-rmse:6472.96\tvalidation_1-rmse:6692.06\n",
      "[424]\tvalidation_0-rmse:6469.04\tvalidation_1-rmse:6689\n",
      "[425]\tvalidation_0-rmse:6461.42\tvalidation_1-rmse:6681.42\n",
      "[426]\tvalidation_0-rmse:6454.39\tvalidation_1-rmse:6675.2\n",
      "[427]\tvalidation_0-rmse:6448.29\tvalidation_1-rmse:6664.42\n"
     ]
    },
    {
     "name": "stdout",
     "output_type": "stream",
     "text": [
      "[428]\tvalidation_0-rmse:6444.88\tvalidation_1-rmse:6661.1\n",
      "[429]\tvalidation_0-rmse:6439.73\tvalidation_1-rmse:6656.73\n",
      "[430]\tvalidation_0-rmse:6435.99\tvalidation_1-rmse:6653.39\n",
      "[431]\tvalidation_0-rmse:6433.35\tvalidation_1-rmse:6651.83\n",
      "[432]\tvalidation_0-rmse:6425.97\tvalidation_1-rmse:6645.47\n",
      "[433]\tvalidation_0-rmse:6408.58\tvalidation_1-rmse:6629.34\n",
      "[434]\tvalidation_0-rmse:6402.68\tvalidation_1-rmse:6622.75\n",
      "[435]\tvalidation_0-rmse:6400.21\tvalidation_1-rmse:6620.46\n",
      "[436]\tvalidation_0-rmse:6396.62\tvalidation_1-rmse:6617.3\n",
      "[437]\tvalidation_0-rmse:6389.98\tvalidation_1-rmse:6609.76\n",
      "[438]\tvalidation_0-rmse:6380.69\tvalidation_1-rmse:6600.56\n",
      "[439]\tvalidation_0-rmse:6373.44\tvalidation_1-rmse:6595.15\n",
      "[440]\tvalidation_0-rmse:6366.33\tvalidation_1-rmse:6588.49\n",
      "[441]\tvalidation_0-rmse:6362.66\tvalidation_1-rmse:6585.82\n",
      "[442]\tvalidation_0-rmse:6359.52\tvalidation_1-rmse:6581.89\n",
      "[443]\tvalidation_0-rmse:6352.58\tvalidation_1-rmse:6576.13\n",
      "[444]\tvalidation_0-rmse:6350.26\tvalidation_1-rmse:6573.85\n",
      "[445]\tvalidation_0-rmse:6348.07\tvalidation_1-rmse:6572.1\n",
      "[446]\tvalidation_0-rmse:6345.81\tvalidation_1-rmse:6570.01\n",
      "[447]\tvalidation_0-rmse:6342.09\tvalidation_1-rmse:6566.64\n",
      "[448]\tvalidation_0-rmse:6339.36\tvalidation_1-rmse:6564.18\n",
      "[449]\tvalidation_0-rmse:6335.85\tvalidation_1-rmse:6560.04\n",
      "[450]\tvalidation_0-rmse:6332.23\tvalidation_1-rmse:6556.99\n",
      "[451]\tvalidation_0-rmse:6331.07\tvalidation_1-rmse:6555.6\n",
      "[452]\tvalidation_0-rmse:6328.8\tvalidation_1-rmse:6554.2\n",
      "[453]\tvalidation_0-rmse:6324.62\tvalidation_1-rmse:6549.1\n",
      "[454]\tvalidation_0-rmse:6323.79\tvalidation_1-rmse:6547.5\n",
      "[455]\tvalidation_0-rmse:6322.89\tvalidation_1-rmse:6545.35\n",
      "[456]\tvalidation_0-rmse:6320.87\tvalidation_1-rmse:6542.95\n",
      "[457]\tvalidation_0-rmse:6317.2\tvalidation_1-rmse:6539.12\n",
      "[458]\tvalidation_0-rmse:6305.49\tvalidation_1-rmse:6524.27\n",
      "[459]\tvalidation_0-rmse:6301.36\tvalidation_1-rmse:6520.38\n",
      "[460]\tvalidation_0-rmse:6299.4\tvalidation_1-rmse:6518.45\n",
      "[461]\tvalidation_0-rmse:6296.54\tvalidation_1-rmse:6517.08\n",
      "[462]\tvalidation_0-rmse:6291.7\tvalidation_1-rmse:6512.14\n",
      "[463]\tvalidation_0-rmse:6286.43\tvalidation_1-rmse:6507.38\n",
      "[464]\tvalidation_0-rmse:6282.92\tvalidation_1-rmse:6503.7\n",
      "[465]\tvalidation_0-rmse:6279.25\tvalidation_1-rmse:6500.19\n",
      "[466]\tvalidation_0-rmse:6277.61\tvalidation_1-rmse:6497.9\n",
      "[467]\tvalidation_0-rmse:6277.01\tvalidation_1-rmse:6495.15\n",
      "[468]\tvalidation_0-rmse:6275.57\tvalidation_1-rmse:6494.56\n",
      "[469]\tvalidation_0-rmse:6271.24\tvalidation_1-rmse:6490.4\n",
      "[470]\tvalidation_0-rmse:6268.06\tvalidation_1-rmse:6486.18\n",
      "[471]\tvalidation_0-rmse:6266.59\tvalidation_1-rmse:6484.23\n",
      "[472]\tvalidation_0-rmse:6262.9\tvalidation_1-rmse:6480.02\n",
      "[473]\tvalidation_0-rmse:6261.33\tvalidation_1-rmse:6480.5\n",
      "[474]\tvalidation_0-rmse:6260.62\tvalidation_1-rmse:6480.76\n",
      "[475]\tvalidation_0-rmse:6257.57\tvalidation_1-rmse:6479.39\n",
      "[476]\tvalidation_0-rmse:6252.38\tvalidation_1-rmse:6475.32\n",
      "[477]\tvalidation_0-rmse:6250.62\tvalidation_1-rmse:6473.5\n",
      "[478]\tvalidation_0-rmse:6246.28\tvalidation_1-rmse:6469.25\n",
      "[479]\tvalidation_0-rmse:6242.82\tvalidation_1-rmse:6465.32\n",
      "[480]\tvalidation_0-rmse:6238.33\tvalidation_1-rmse:6461.43\n",
      "[481]\tvalidation_0-rmse:6234\tvalidation_1-rmse:6457.34\n",
      "[482]\tvalidation_0-rmse:6229.14\tvalidation_1-rmse:6453.08\n",
      "[483]\tvalidation_0-rmse:6226.04\tvalidation_1-rmse:6450.4\n",
      "[484]\tvalidation_0-rmse:6222.32\tvalidation_1-rmse:6446.54\n",
      "[485]\tvalidation_0-rmse:6218\tvalidation_1-rmse:6441.64\n",
      "[486]\tvalidation_0-rmse:6209.61\tvalidation_1-rmse:6434.21\n",
      "[487]\tvalidation_0-rmse:6206.68\tvalidation_1-rmse:6431.46\n",
      "[488]\tvalidation_0-rmse:6204.49\tvalidation_1-rmse:6429.97\n",
      "[489]\tvalidation_0-rmse:6198.96\tvalidation_1-rmse:6424.4\n",
      "[490]\tvalidation_0-rmse:6195.04\tvalidation_1-rmse:6420.96\n",
      "[491]\tvalidation_0-rmse:6191.57\tvalidation_1-rmse:6416.86\n",
      "[492]\tvalidation_0-rmse:6188.82\tvalidation_1-rmse:6413.6\n",
      "[493]\tvalidation_0-rmse:6186.78\tvalidation_1-rmse:6412.54\n",
      "[494]\tvalidation_0-rmse:6183.73\tvalidation_1-rmse:6409.71\n",
      "[495]\tvalidation_0-rmse:6177.21\tvalidation_1-rmse:6403.49\n",
      "[496]\tvalidation_0-rmse:6174.28\tvalidation_1-rmse:6400.25\n",
      "[497]\tvalidation_0-rmse:6171.72\tvalidation_1-rmse:6397.77\n",
      "[498]\tvalidation_0-rmse:6170\tvalidation_1-rmse:6396.17\n",
      "[499]\tvalidation_0-rmse:6166.36\tvalidation_1-rmse:6392.66\n",
      "[500]\tvalidation_0-rmse:6163.01\tvalidation_1-rmse:6388.94\n",
      "[501]\tvalidation_0-rmse:6159.19\tvalidation_1-rmse:6384.62\n",
      "[502]\tvalidation_0-rmse:6155.21\tvalidation_1-rmse:6381.15\n",
      "[503]\tvalidation_0-rmse:6152.78\tvalidation_1-rmse:6379.44\n",
      "[504]\tvalidation_0-rmse:6150.59\tvalidation_1-rmse:6377.17\n",
      "[505]\tvalidation_0-rmse:6147.82\tvalidation_1-rmse:6374.6\n",
      "[506]\tvalidation_0-rmse:6142.93\tvalidation_1-rmse:6370.17\n",
      "[507]\tvalidation_0-rmse:6137.71\tvalidation_1-rmse:6366.36\n",
      "[508]\tvalidation_0-rmse:6135.61\tvalidation_1-rmse:6364.03\n",
      "[509]\tvalidation_0-rmse:6126.78\tvalidation_1-rmse:6353.58\n",
      "[510]\tvalidation_0-rmse:6125.13\tvalidation_1-rmse:6352.26\n",
      "[511]\tvalidation_0-rmse:6121.18\tvalidation_1-rmse:6347.52\n",
      "[512]\tvalidation_0-rmse:6118.2\tvalidation_1-rmse:6343.91\n",
      "[513]\tvalidation_0-rmse:6115.35\tvalidation_1-rmse:6340.58\n",
      "[514]\tvalidation_0-rmse:6111.47\tvalidation_1-rmse:6336.53\n",
      "[515]\tvalidation_0-rmse:6106.45\tvalidation_1-rmse:6331.46\n",
      "[516]\tvalidation_0-rmse:6104.24\tvalidation_1-rmse:6328.62\n",
      "[517]\tvalidation_0-rmse:6101.49\tvalidation_1-rmse:6326.95\n",
      "[518]\tvalidation_0-rmse:6100.01\tvalidation_1-rmse:6325.05\n",
      "[519]\tvalidation_0-rmse:6089.76\tvalidation_1-rmse:6314.81\n",
      "[520]\tvalidation_0-rmse:6086.98\tvalidation_1-rmse:6311.41\n",
      "[521]\tvalidation_0-rmse:6080.44\tvalidation_1-rmse:6304.95\n",
      "[522]\tvalidation_0-rmse:6079.63\tvalidation_1-rmse:6303.79\n",
      "[523]\tvalidation_0-rmse:6078.65\tvalidation_1-rmse:6303.62\n",
      "[524]\tvalidation_0-rmse:6069.98\tvalidation_1-rmse:6295.4\n",
      "[525]\tvalidation_0-rmse:6067.52\tvalidation_1-rmse:6292.88\n",
      "[526]\tvalidation_0-rmse:6065.05\tvalidation_1-rmse:6290.54\n",
      "[527]\tvalidation_0-rmse:6062.26\tvalidation_1-rmse:6287.84\n",
      "[528]\tvalidation_0-rmse:6059.06\tvalidation_1-rmse:6284.84\n",
      "[529]\tvalidation_0-rmse:6045.27\tvalidation_1-rmse:6272.16\n",
      "[530]\tvalidation_0-rmse:6042.09\tvalidation_1-rmse:6268.92\n",
      "[531]\tvalidation_0-rmse:6038.99\tvalidation_1-rmse:6265.38\n",
      "[532]\tvalidation_0-rmse:6031.81\tvalidation_1-rmse:6258.72\n",
      "[533]\tvalidation_0-rmse:6028.67\tvalidation_1-rmse:6255.48\n",
      "[534]\tvalidation_0-rmse:6026.05\tvalidation_1-rmse:6252.87\n",
      "[535]\tvalidation_0-rmse:6022.7\tvalidation_1-rmse:6249.84\n",
      "[536]\tvalidation_0-rmse:6020.35\tvalidation_1-rmse:6247.23\n",
      "[537]\tvalidation_0-rmse:6018.83\tvalidation_1-rmse:6246.01\n",
      "[538]\tvalidation_0-rmse:6016.9\tvalidation_1-rmse:6243.88\n",
      "[539]\tvalidation_0-rmse:6014.2\tvalidation_1-rmse:6241.15\n",
      "[540]\tvalidation_0-rmse:6010.08\tvalidation_1-rmse:6236.58\n",
      "[541]\tvalidation_0-rmse:6007\tvalidation_1-rmse:6232.08\n",
      "[542]\tvalidation_0-rmse:6002.92\tvalidation_1-rmse:6227.98\n",
      "[543]\tvalidation_0-rmse:5999.86\tvalidation_1-rmse:6225.08\n",
      "[544]\tvalidation_0-rmse:5997.12\tvalidation_1-rmse:6222.59\n",
      "[545]\tvalidation_0-rmse:5996.28\tvalidation_1-rmse:6221.78\n",
      "[546]\tvalidation_0-rmse:5993.72\tvalidation_1-rmse:6219.4\n",
      "[547]\tvalidation_0-rmse:5990.04\tvalidation_1-rmse:6218.81\n",
      "[548]\tvalidation_0-rmse:5982.57\tvalidation_1-rmse:6204.86\n",
      "[549]\tvalidation_0-rmse:5981.27\tvalidation_1-rmse:6204.03\n",
      "[550]\tvalidation_0-rmse:5977.83\tvalidation_1-rmse:6200.63\n",
      "[551]\tvalidation_0-rmse:5976.11\tvalidation_1-rmse:6198.86\n",
      "[552]\tvalidation_0-rmse:5974.36\tvalidation_1-rmse:6197.38\n",
      "[553]\tvalidation_0-rmse:5972.13\tvalidation_1-rmse:6195.52\n",
      "[554]\tvalidation_0-rmse:5971.13\tvalidation_1-rmse:6194.42\n",
      "[555]\tvalidation_0-rmse:5967.55\tvalidation_1-rmse:6190.51\n",
      "[556]\tvalidation_0-rmse:5966.23\tvalidation_1-rmse:6189.55\n",
      "[557]\tvalidation_0-rmse:5965.39\tvalidation_1-rmse:6188.71\n",
      "[558]\tvalidation_0-rmse:5963.6\tvalidation_1-rmse:6186.87\n",
      "[559]\tvalidation_0-rmse:5961.26\tvalidation_1-rmse:6186.09\n",
      "[560]\tvalidation_0-rmse:5958.02\tvalidation_1-rmse:6182.53\n",
      "[561]\tvalidation_0-rmse:5955.16\tvalidation_1-rmse:6179.9\n",
      "[562]\tvalidation_0-rmse:5946.9\tvalidation_1-rmse:6172.54\n",
      "[563]\tvalidation_0-rmse:5943.83\tvalidation_1-rmse:6169.52\n",
      "[564]\tvalidation_0-rmse:5938.13\tvalidation_1-rmse:6164.35\n",
      "[565]\tvalidation_0-rmse:5935.27\tvalidation_1-rmse:6161.06\n",
      "[566]\tvalidation_0-rmse:5932.87\tvalidation_1-rmse:6159.36\n",
      "[567]\tvalidation_0-rmse:5931.06\tvalidation_1-rmse:6158.16\n",
      "[568]\tvalidation_0-rmse:5926.1\tvalidation_1-rmse:6154.28\n",
      "[569]\tvalidation_0-rmse:5923.53\tvalidation_1-rmse:6151.72\n"
     ]
    },
    {
     "name": "stdout",
     "output_type": "stream",
     "text": [
      "[570]\tvalidation_0-rmse:5919.58\tvalidation_1-rmse:6147.58\n",
      "[571]\tvalidation_0-rmse:5917.09\tvalidation_1-rmse:6145.37\n",
      "[572]\tvalidation_0-rmse:5914.69\tvalidation_1-rmse:6143.04\n",
      "[573]\tvalidation_0-rmse:5910.05\tvalidation_1-rmse:6138.96\n",
      "[574]\tvalidation_0-rmse:5908.6\tvalidation_1-rmse:6137.86\n",
      "[575]\tvalidation_0-rmse:5906.2\tvalidation_1-rmse:6135.82\n",
      "[576]\tvalidation_0-rmse:5904.44\tvalidation_1-rmse:6134.15\n",
      "[577]\tvalidation_0-rmse:5901.88\tvalidation_1-rmse:6131.19\n",
      "[578]\tvalidation_0-rmse:5900.37\tvalidation_1-rmse:6129.78\n",
      "[579]\tvalidation_0-rmse:5897.07\tvalidation_1-rmse:6126.56\n",
      "[580]\tvalidation_0-rmse:5896.28\tvalidation_1-rmse:6125.8\n",
      "[581]\tvalidation_0-rmse:5893.03\tvalidation_1-rmse:6122.52\n",
      "[582]\tvalidation_0-rmse:5890.54\tvalidation_1-rmse:6120.17\n",
      "[583]\tvalidation_0-rmse:5888.58\tvalidation_1-rmse:6114.78\n",
      "[584]\tvalidation_0-rmse:5886.14\tvalidation_1-rmse:6112.6\n",
      "[585]\tvalidation_0-rmse:5880.88\tvalidation_1-rmse:6106.71\n",
      "[586]\tvalidation_0-rmse:5878\tvalidation_1-rmse:6104.2\n",
      "[587]\tvalidation_0-rmse:5875.73\tvalidation_1-rmse:6101.33\n",
      "[588]\tvalidation_0-rmse:5873.62\tvalidation_1-rmse:6099.79\n",
      "[589]\tvalidation_0-rmse:5871.25\tvalidation_1-rmse:6099.13\n",
      "[590]\tvalidation_0-rmse:5869.4\tvalidation_1-rmse:6097.43\n",
      "[591]\tvalidation_0-rmse:5866.67\tvalidation_1-rmse:6094.98\n",
      "[592]\tvalidation_0-rmse:5864.39\tvalidation_1-rmse:6092.46\n",
      "[593]\tvalidation_0-rmse:5861.36\tvalidation_1-rmse:6089.62\n",
      "[594]\tvalidation_0-rmse:5860.01\tvalidation_1-rmse:6088.77\n",
      "[595]\tvalidation_0-rmse:5858.08\tvalidation_1-rmse:6086.28\n",
      "[596]\tvalidation_0-rmse:5854.93\tvalidation_1-rmse:6083.34\n",
      "[597]\tvalidation_0-rmse:5852.56\tvalidation_1-rmse:6081.05\n",
      "[598]\tvalidation_0-rmse:5850.32\tvalidation_1-rmse:6079.16\n",
      "[599]\tvalidation_0-rmse:5847.79\tvalidation_1-rmse:6077.36\n",
      "[600]\tvalidation_0-rmse:5846.57\tvalidation_1-rmse:6075.68\n",
      "[601]\tvalidation_0-rmse:5843.4\tvalidation_1-rmse:6074.63\n",
      "[602]\tvalidation_0-rmse:5842.41\tvalidation_1-rmse:6073.21\n",
      "[603]\tvalidation_0-rmse:5840.43\tvalidation_1-rmse:6070.98\n",
      "[604]\tvalidation_0-rmse:5838.79\tvalidation_1-rmse:6069.18\n",
      "[605]\tvalidation_0-rmse:5838.48\tvalidation_1-rmse:6068.95\n",
      "[606]\tvalidation_0-rmse:5838.27\tvalidation_1-rmse:6068.92\n",
      "[607]\tvalidation_0-rmse:5837.07\tvalidation_1-rmse:6068.35\n",
      "[608]\tvalidation_0-rmse:5833.82\tvalidation_1-rmse:6066.96\n",
      "[609]\tvalidation_0-rmse:5829.79\tvalidation_1-rmse:6062.76\n",
      "[610]\tvalidation_0-rmse:5825.45\tvalidation_1-rmse:6058.91\n",
      "[611]\tvalidation_0-rmse:5824.16\tvalidation_1-rmse:6057.36\n",
      "[612]\tvalidation_0-rmse:5822.31\tvalidation_1-rmse:6055.28\n",
      "[613]\tvalidation_0-rmse:5818.31\tvalidation_1-rmse:6052.09\n",
      "[614]\tvalidation_0-rmse:5816.83\tvalidation_1-rmse:6050.56\n",
      "[615]\tvalidation_0-rmse:5815.06\tvalidation_1-rmse:6048.96\n",
      "[616]\tvalidation_0-rmse:5813.41\tvalidation_1-rmse:6048.56\n",
      "[617]\tvalidation_0-rmse:5810.04\tvalidation_1-rmse:6045.08\n",
      "[618]\tvalidation_0-rmse:5809.14\tvalidation_1-rmse:6044.25\n",
      "[619]\tvalidation_0-rmse:5806.08\tvalidation_1-rmse:6042.13\n",
      "[620]\tvalidation_0-rmse:5805.45\tvalidation_1-rmse:6041.66\n",
      "[621]\tvalidation_0-rmse:5804.4\tvalidation_1-rmse:6040.82\n",
      "[622]\tvalidation_0-rmse:5797.43\tvalidation_1-rmse:6034.51\n",
      "[623]\tvalidation_0-rmse:5795.38\tvalidation_1-rmse:6032.85\n",
      "[624]\tvalidation_0-rmse:5793.99\tvalidation_1-rmse:6031.44\n",
      "[625]\tvalidation_0-rmse:5793.12\tvalidation_1-rmse:6030.58\n",
      "[626]\tvalidation_0-rmse:5778.34\tvalidation_1-rmse:6020.17\n",
      "[627]\tvalidation_0-rmse:5775.92\tvalidation_1-rmse:6018.06\n",
      "[628]\tvalidation_0-rmse:5774.77\tvalidation_1-rmse:6017.01\n",
      "[629]\tvalidation_0-rmse:5772.48\tvalidation_1-rmse:6014.51\n",
      "[630]\tvalidation_0-rmse:5771.51\tvalidation_1-rmse:6013.59\n",
      "[631]\tvalidation_0-rmse:5768.86\tvalidation_1-rmse:6011.19\n",
      "[632]\tvalidation_0-rmse:5766.72\tvalidation_1-rmse:6008.74\n",
      "[633]\tvalidation_0-rmse:5764.38\tvalidation_1-rmse:6005.82\n",
      "[634]\tvalidation_0-rmse:5762.92\tvalidation_1-rmse:6005.35\n",
      "[635]\tvalidation_0-rmse:5760.51\tvalidation_1-rmse:6003.53\n",
      "[636]\tvalidation_0-rmse:5758.96\tvalidation_1-rmse:6002.13\n",
      "[637]\tvalidation_0-rmse:5756.05\tvalidation_1-rmse:5999.14\n",
      "[638]\tvalidation_0-rmse:5754.67\tvalidation_1-rmse:5997.74\n",
      "[639]\tvalidation_0-rmse:5753.12\tvalidation_1-rmse:5996.75\n",
      "[640]\tvalidation_0-rmse:5751.25\tvalidation_1-rmse:5995.75\n",
      "[641]\tvalidation_0-rmse:5750.39\tvalidation_1-rmse:5995.78\n",
      "[642]\tvalidation_0-rmse:5746.07\tvalidation_1-rmse:5990.96\n",
      "[643]\tvalidation_0-rmse:5743.24\tvalidation_1-rmse:5988.09\n",
      "[644]\tvalidation_0-rmse:5741.32\tvalidation_1-rmse:5986.57\n",
      "[645]\tvalidation_0-rmse:5736.61\tvalidation_1-rmse:5982.32\n",
      "[646]\tvalidation_0-rmse:5735.93\tvalidation_1-rmse:5980.27\n",
      "[647]\tvalidation_0-rmse:5735.44\tvalidation_1-rmse:5979.44\n",
      "[648]\tvalidation_0-rmse:5735.27\tvalidation_1-rmse:5980.04\n",
      "[649]\tvalidation_0-rmse:5734.24\tvalidation_1-rmse:5979.03\n",
      "[650]\tvalidation_0-rmse:5733.31\tvalidation_1-rmse:5978.03\n",
      "[651]\tvalidation_0-rmse:5731.46\tvalidation_1-rmse:5976.34\n",
      "[652]\tvalidation_0-rmse:5728.89\tvalidation_1-rmse:5973.8\n",
      "[653]\tvalidation_0-rmse:5727.47\tvalidation_1-rmse:5972.56\n",
      "[654]\tvalidation_0-rmse:5725.78\tvalidation_1-rmse:5970.68\n",
      "[655]\tvalidation_0-rmse:5723.62\tvalidation_1-rmse:5969.18\n",
      "[656]\tvalidation_0-rmse:5722.83\tvalidation_1-rmse:5968.96\n",
      "[657]\tvalidation_0-rmse:5721.25\tvalidation_1-rmse:5967.22\n",
      "[658]\tvalidation_0-rmse:5716.88\tvalidation_1-rmse:5962.75\n",
      "[659]\tvalidation_0-rmse:5712.23\tvalidation_1-rmse:5958.29\n",
      "[660]\tvalidation_0-rmse:5711.18\tvalidation_1-rmse:5957.36\n",
      "[661]\tvalidation_0-rmse:5708.64\tvalidation_1-rmse:5955.83\n",
      "[662]\tvalidation_0-rmse:5706.7\tvalidation_1-rmse:5954.12\n",
      "[663]\tvalidation_0-rmse:5703.59\tvalidation_1-rmse:5951.03\n",
      "[664]\tvalidation_0-rmse:5696.07\tvalidation_1-rmse:5943.62\n",
      "[665]\tvalidation_0-rmse:5692.64\tvalidation_1-rmse:5941.09\n",
      "[666]\tvalidation_0-rmse:5689.46\tvalidation_1-rmse:5938.15\n",
      "[667]\tvalidation_0-rmse:5682.71\tvalidation_1-rmse:5932.51\n",
      "[668]\tvalidation_0-rmse:5679.89\tvalidation_1-rmse:5929.65\n",
      "[669]\tvalidation_0-rmse:5678.2\tvalidation_1-rmse:5928.07\n",
      "[670]\tvalidation_0-rmse:5674.52\tvalidation_1-rmse:5927.16\n",
      "[671]\tvalidation_0-rmse:5670.19\tvalidation_1-rmse:5923.44\n",
      "[672]\tvalidation_0-rmse:5667.98\tvalidation_1-rmse:5920.81\n",
      "[673]\tvalidation_0-rmse:5667.37\tvalidation_1-rmse:5920.33\n",
      "[674]\tvalidation_0-rmse:5666.02\tvalidation_1-rmse:5919.15\n",
      "[675]\tvalidation_0-rmse:5662.2\tvalidation_1-rmse:5914.79\n",
      "[676]\tvalidation_0-rmse:5661.68\tvalidation_1-rmse:5914.49\n",
      "[677]\tvalidation_0-rmse:5660.33\tvalidation_1-rmse:5913.6\n",
      "[678]\tvalidation_0-rmse:5659.07\tvalidation_1-rmse:5912.33\n",
      "[679]\tvalidation_0-rmse:5657.32\tvalidation_1-rmse:5911.05\n",
      "[680]\tvalidation_0-rmse:5655.67\tvalidation_1-rmse:5909.86\n",
      "[681]\tvalidation_0-rmse:5652.47\tvalidation_1-rmse:5907.36\n",
      "[682]\tvalidation_0-rmse:5650.34\tvalidation_1-rmse:5905.54\n",
      "[683]\tvalidation_0-rmse:5648.61\tvalidation_1-rmse:5903.8\n",
      "[684]\tvalidation_0-rmse:5646.09\tvalidation_1-rmse:5902.18\n",
      "[685]\tvalidation_0-rmse:5645.41\tvalidation_1-rmse:5901.62\n",
      "[686]\tvalidation_0-rmse:5645.01\tvalidation_1-rmse:5898.22\n",
      "[687]\tvalidation_0-rmse:5641.74\tvalidation_1-rmse:5895.81\n",
      "[688]\tvalidation_0-rmse:5639.97\tvalidation_1-rmse:5893.72\n",
      "[689]\tvalidation_0-rmse:5637.22\tvalidation_1-rmse:5892.16\n",
      "[690]\tvalidation_0-rmse:5634.75\tvalidation_1-rmse:5890.05\n",
      "[691]\tvalidation_0-rmse:5630.84\tvalidation_1-rmse:5886.97\n",
      "[692]\tvalidation_0-rmse:5627.07\tvalidation_1-rmse:5884.22\n",
      "[693]\tvalidation_0-rmse:5625.34\tvalidation_1-rmse:5881.62\n",
      "[694]\tvalidation_0-rmse:5624.01\tvalidation_1-rmse:5880.66\n",
      "[695]\tvalidation_0-rmse:5622.29\tvalidation_1-rmse:5879.09\n",
      "[696]\tvalidation_0-rmse:5618.69\tvalidation_1-rmse:5876.09\n",
      "[697]\tvalidation_0-rmse:5617.22\tvalidation_1-rmse:5875.2\n",
      "[698]\tvalidation_0-rmse:5616.59\tvalidation_1-rmse:5874.6\n",
      "[699]\tvalidation_0-rmse:5614.17\tvalidation_1-rmse:5872.4\n",
      "[700]\tvalidation_0-rmse:5612.44\tvalidation_1-rmse:5870.6\n",
      "[701]\tvalidation_0-rmse:5611.67\tvalidation_1-rmse:5869.69\n",
      "[702]\tvalidation_0-rmse:5609.93\tvalidation_1-rmse:5867.99\n",
      "[703]\tvalidation_0-rmse:5607.06\tvalidation_1-rmse:5865.84\n",
      "[704]\tvalidation_0-rmse:5605.51\tvalidation_1-rmse:5864.79\n",
      "[705]\tvalidation_0-rmse:5603.92\tvalidation_1-rmse:5863.77\n",
      "[706]\tvalidation_0-rmse:5602.85\tvalidation_1-rmse:5864.78\n",
      "[707]\tvalidation_0-rmse:5598.76\tvalidation_1-rmse:5860.14\n",
      "[708]\tvalidation_0-rmse:5595.21\tvalidation_1-rmse:5857.27\n",
      "[709]\tvalidation_0-rmse:5592.95\tvalidation_1-rmse:5854.56\n",
      "[710]\tvalidation_0-rmse:5591.19\tvalidation_1-rmse:5852.52\n",
      "[711]\tvalidation_0-rmse:5588.81\tvalidation_1-rmse:5851.18\n"
     ]
    },
    {
     "name": "stdout",
     "output_type": "stream",
     "text": [
      "[712]\tvalidation_0-rmse:5586.86\tvalidation_1-rmse:5848.63\n",
      "[713]\tvalidation_0-rmse:5584.95\tvalidation_1-rmse:5846.59\n",
      "[714]\tvalidation_0-rmse:5583.56\tvalidation_1-rmse:5845.19\n",
      "[715]\tvalidation_0-rmse:5582.94\tvalidation_1-rmse:5844.39\n",
      "[716]\tvalidation_0-rmse:5580.36\tvalidation_1-rmse:5842.37\n",
      "[717]\tvalidation_0-rmse:5579.61\tvalidation_1-rmse:5841.69\n",
      "[718]\tvalidation_0-rmse:5578.1\tvalidation_1-rmse:5840.04\n",
      "[719]\tvalidation_0-rmse:5575.4\tvalidation_1-rmse:5837.36\n",
      "[720]\tvalidation_0-rmse:5574.39\tvalidation_1-rmse:5836.86\n",
      "[721]\tvalidation_0-rmse:5572.59\tvalidation_1-rmse:5834.7\n",
      "[722]\tvalidation_0-rmse:5569.59\tvalidation_1-rmse:5831.47\n",
      "[723]\tvalidation_0-rmse:5567.55\tvalidation_1-rmse:5829.35\n",
      "[724]\tvalidation_0-rmse:5564.37\tvalidation_1-rmse:5826.33\n",
      "[725]\tvalidation_0-rmse:5563.36\tvalidation_1-rmse:5825.46\n",
      "[726]\tvalidation_0-rmse:5561.33\tvalidation_1-rmse:5823.58\n",
      "[727]\tvalidation_0-rmse:5559.6\tvalidation_1-rmse:5821.25\n",
      "[728]\tvalidation_0-rmse:5555.49\tvalidation_1-rmse:5817.35\n",
      "[729]\tvalidation_0-rmse:5553.04\tvalidation_1-rmse:5814.91\n",
      "[730]\tvalidation_0-rmse:5551.5\tvalidation_1-rmse:5813.27\n",
      "[731]\tvalidation_0-rmse:5551.01\tvalidation_1-rmse:5812.95\n",
      "[732]\tvalidation_0-rmse:5548.66\tvalidation_1-rmse:5811.27\n",
      "[733]\tvalidation_0-rmse:5547.29\tvalidation_1-rmse:5809.78\n",
      "[734]\tvalidation_0-rmse:5544.55\tvalidation_1-rmse:5806.68\n",
      "[735]\tvalidation_0-rmse:5543.45\tvalidation_1-rmse:5805.48\n",
      "[736]\tvalidation_0-rmse:5542.03\tvalidation_1-rmse:5803.96\n",
      "[737]\tvalidation_0-rmse:5539.61\tvalidation_1-rmse:5801.65\n",
      "[738]\tvalidation_0-rmse:5537.51\tvalidation_1-rmse:5799.05\n",
      "[739]\tvalidation_0-rmse:5534.78\tvalidation_1-rmse:5796.69\n",
      "[740]\tvalidation_0-rmse:5533.62\tvalidation_1-rmse:5795.83\n",
      "[741]\tvalidation_0-rmse:5531.61\tvalidation_1-rmse:5794.02\n",
      "[742]\tvalidation_0-rmse:5531.2\tvalidation_1-rmse:5793.51\n",
      "[743]\tvalidation_0-rmse:5530.34\tvalidation_1-rmse:5792.8\n",
      "[744]\tvalidation_0-rmse:5528.67\tvalidation_1-rmse:5791.31\n",
      "[745]\tvalidation_0-rmse:5526.48\tvalidation_1-rmse:5789.12\n",
      "[746]\tvalidation_0-rmse:5523.92\tvalidation_1-rmse:5787.33\n",
      "[747]\tvalidation_0-rmse:5522.71\tvalidation_1-rmse:5786.04\n",
      "[748]\tvalidation_0-rmse:5520.38\tvalidation_1-rmse:5785.05\n",
      "[749]\tvalidation_0-rmse:5516.73\tvalidation_1-rmse:5782.21\n",
      "[750]\tvalidation_0-rmse:5515.3\tvalidation_1-rmse:5780.96\n",
      "[751]\tvalidation_0-rmse:5511.44\tvalidation_1-rmse:5777.96\n",
      "[752]\tvalidation_0-rmse:5509.07\tvalidation_1-rmse:5775.86\n",
      "[753]\tvalidation_0-rmse:5508.39\tvalidation_1-rmse:5775.34\n",
      "[754]\tvalidation_0-rmse:5507.54\tvalidation_1-rmse:5774.62\n",
      "[755]\tvalidation_0-rmse:5507.3\tvalidation_1-rmse:5774.41\n",
      "[756]\tvalidation_0-rmse:5504.96\tvalidation_1-rmse:5771.87\n",
      "[757]\tvalidation_0-rmse:5502.35\tvalidation_1-rmse:5769.04\n",
      "[758]\tvalidation_0-rmse:5500.64\tvalidation_1-rmse:5766.98\n",
      "[759]\tvalidation_0-rmse:5499.54\tvalidation_1-rmse:5767.04\n",
      "[760]\tvalidation_0-rmse:5497.76\tvalidation_1-rmse:5764.55\n",
      "[761]\tvalidation_0-rmse:5496.36\tvalidation_1-rmse:5763.43\n",
      "[762]\tvalidation_0-rmse:5495.38\tvalidation_1-rmse:5762.47\n",
      "[763]\tvalidation_0-rmse:5493.09\tvalidation_1-rmse:5759.65\n",
      "[764]\tvalidation_0-rmse:5487.61\tvalidation_1-rmse:5754.99\n",
      "[765]\tvalidation_0-rmse:5486.43\tvalidation_1-rmse:5753.54\n",
      "[766]\tvalidation_0-rmse:5483.95\tvalidation_1-rmse:5751.63\n",
      "[767]\tvalidation_0-rmse:5482.75\tvalidation_1-rmse:5751.8\n",
      "[768]\tvalidation_0-rmse:5480.82\tvalidation_1-rmse:5750.83\n",
      "[769]\tvalidation_0-rmse:5480.39\tvalidation_1-rmse:5751.58\n",
      "[770]\tvalidation_0-rmse:5479.1\tvalidation_1-rmse:5750.45\n",
      "[771]\tvalidation_0-rmse:5478.43\tvalidation_1-rmse:5749.65\n",
      "[772]\tvalidation_0-rmse:5477.4\tvalidation_1-rmse:5748.69\n",
      "[773]\tvalidation_0-rmse:5475.32\tvalidation_1-rmse:5746.98\n",
      "[774]\tvalidation_0-rmse:5473.13\tvalidation_1-rmse:5745.57\n",
      "[775]\tvalidation_0-rmse:5471.18\tvalidation_1-rmse:5745.59\n",
      "[776]\tvalidation_0-rmse:5469.57\tvalidation_1-rmse:5744.24\n",
      "[777]\tvalidation_0-rmse:5468.8\tvalidation_1-rmse:5743.56\n",
      "[778]\tvalidation_0-rmse:5466.01\tvalidation_1-rmse:5741.3\n",
      "[779]\tvalidation_0-rmse:5463.57\tvalidation_1-rmse:5738.97\n",
      "[780]\tvalidation_0-rmse:5462.06\tvalidation_1-rmse:5738.41\n",
      "[781]\tvalidation_0-rmse:5460.48\tvalidation_1-rmse:5736.57\n",
      "[782]\tvalidation_0-rmse:5459.25\tvalidation_1-rmse:5735\n",
      "[783]\tvalidation_0-rmse:5458.3\tvalidation_1-rmse:5736.35\n",
      "[784]\tvalidation_0-rmse:5457.22\tvalidation_1-rmse:5735.4\n",
      "[785]\tvalidation_0-rmse:5456.83\tvalidation_1-rmse:5734.77\n",
      "[786]\tvalidation_0-rmse:5455.29\tvalidation_1-rmse:5733.55\n",
      "[787]\tvalidation_0-rmse:5453.06\tvalidation_1-rmse:5731.31\n",
      "[788]\tvalidation_0-rmse:5450.93\tvalidation_1-rmse:5729.4\n",
      "[789]\tvalidation_0-rmse:5449.19\tvalidation_1-rmse:5728.06\n",
      "[790]\tvalidation_0-rmse:5448.11\tvalidation_1-rmse:5726.99\n",
      "[791]\tvalidation_0-rmse:5446.34\tvalidation_1-rmse:5725.04\n",
      "[792]\tvalidation_0-rmse:5445.38\tvalidation_1-rmse:5724.14\n",
      "[793]\tvalidation_0-rmse:5442.19\tvalidation_1-rmse:5721.72\n",
      "[794]\tvalidation_0-rmse:5440.51\tvalidation_1-rmse:5720.04\n",
      "[795]\tvalidation_0-rmse:5437.78\tvalidation_1-rmse:5717.33\n",
      "[796]\tvalidation_0-rmse:5434.62\tvalidation_1-rmse:5714.03\n",
      "[797]\tvalidation_0-rmse:5434.02\tvalidation_1-rmse:5714.04\n",
      "[798]\tvalidation_0-rmse:5432.83\tvalidation_1-rmse:5713.17\n",
      "[799]\tvalidation_0-rmse:5430.7\tvalidation_1-rmse:5711.36\n",
      "[800]\tvalidation_0-rmse:5428.83\tvalidation_1-rmse:5709.26\n",
      "[801]\tvalidation_0-rmse:5426.79\tvalidation_1-rmse:5708.41\n",
      "[802]\tvalidation_0-rmse:5425.45\tvalidation_1-rmse:5706.88\n",
      "[803]\tvalidation_0-rmse:5424.33\tvalidation_1-rmse:5705.76\n",
      "[804]\tvalidation_0-rmse:5422.52\tvalidation_1-rmse:5703.43\n",
      "[805]\tvalidation_0-rmse:5420.48\tvalidation_1-rmse:5701.16\n",
      "[806]\tvalidation_0-rmse:5417.86\tvalidation_1-rmse:5700.35\n",
      "[807]\tvalidation_0-rmse:5415.87\tvalidation_1-rmse:5698.82\n",
      "[808]\tvalidation_0-rmse:5412.38\tvalidation_1-rmse:5698.04\n",
      "[809]\tvalidation_0-rmse:5409.16\tvalidation_1-rmse:5694.88\n",
      "[810]\tvalidation_0-rmse:5407.47\tvalidation_1-rmse:5693.37\n",
      "[811]\tvalidation_0-rmse:5400.33\tvalidation_1-rmse:5686.72\n",
      "[812]\tvalidation_0-rmse:5397.17\tvalidation_1-rmse:5683.83\n",
      "[813]\tvalidation_0-rmse:5396.35\tvalidation_1-rmse:5683.22\n",
      "[814]\tvalidation_0-rmse:5394.63\tvalidation_1-rmse:5681.42\n",
      "[815]\tvalidation_0-rmse:5393.04\tvalidation_1-rmse:5680.36\n",
      "[816]\tvalidation_0-rmse:5391.88\tvalidation_1-rmse:5679.12\n",
      "[817]\tvalidation_0-rmse:5390.05\tvalidation_1-rmse:5677.35\n",
      "[818]\tvalidation_0-rmse:5387.42\tvalidation_1-rmse:5674.51\n",
      "[819]\tvalidation_0-rmse:5385.74\tvalidation_1-rmse:5672.74\n",
      "[820]\tvalidation_0-rmse:5384.25\tvalidation_1-rmse:5671.66\n",
      "[821]\tvalidation_0-rmse:5383.14\tvalidation_1-rmse:5670.9\n",
      "[822]\tvalidation_0-rmse:5381.93\tvalidation_1-rmse:5669.73\n",
      "[823]\tvalidation_0-rmse:5380.28\tvalidation_1-rmse:5668.68\n",
      "[824]\tvalidation_0-rmse:5379.04\tvalidation_1-rmse:5667.86\n",
      "[825]\tvalidation_0-rmse:5377.49\tvalidation_1-rmse:5666.33\n",
      "[826]\tvalidation_0-rmse:5374.85\tvalidation_1-rmse:5663.86\n",
      "[827]\tvalidation_0-rmse:5373.68\tvalidation_1-rmse:5661.72\n",
      "[828]\tvalidation_0-rmse:5372.43\tvalidation_1-rmse:5661.98\n",
      "[829]\tvalidation_0-rmse:5370.82\tvalidation_1-rmse:5660.37\n",
      "[830]\tvalidation_0-rmse:5369.11\tvalidation_1-rmse:5658.72\n",
      "[831]\tvalidation_0-rmse:5368.02\tvalidation_1-rmse:5657.57\n",
      "[832]\tvalidation_0-rmse:5367.12\tvalidation_1-rmse:5656.65\n",
      "[833]\tvalidation_0-rmse:5366.03\tvalidation_1-rmse:5655.59\n",
      "[834]\tvalidation_0-rmse:5364.89\tvalidation_1-rmse:5654.32\n",
      "[835]\tvalidation_0-rmse:5363.5\tvalidation_1-rmse:5652.95\n",
      "[836]\tvalidation_0-rmse:5362.19\tvalidation_1-rmse:5651.79\n",
      "[837]\tvalidation_0-rmse:5359.67\tvalidation_1-rmse:5649.32\n",
      "[838]\tvalidation_0-rmse:5357.56\tvalidation_1-rmse:5647.18\n",
      "[839]\tvalidation_0-rmse:5355.87\tvalidation_1-rmse:5645.29\n",
      "[840]\tvalidation_0-rmse:5354.88\tvalidation_1-rmse:5644.38\n",
      "[841]\tvalidation_0-rmse:5352.51\tvalidation_1-rmse:5642.77\n",
      "[842]\tvalidation_0-rmse:5350.79\tvalidation_1-rmse:5641.92\n",
      "[843]\tvalidation_0-rmse:5349.42\tvalidation_1-rmse:5640.74\n",
      "[844]\tvalidation_0-rmse:5346.68\tvalidation_1-rmse:5638.19\n",
      "[845]\tvalidation_0-rmse:5345.01\tvalidation_1-rmse:5636.51\n",
      "[846]\tvalidation_0-rmse:5343.84\tvalidation_1-rmse:5635.04\n",
      "[847]\tvalidation_0-rmse:5342.4\tvalidation_1-rmse:5634.12\n",
      "[848]\tvalidation_0-rmse:5341.38\tvalidation_1-rmse:5633.07\n",
      "[849]\tvalidation_0-rmse:5339.37\tvalidation_1-rmse:5631.31\n",
      "[850]\tvalidation_0-rmse:5338.89\tvalidation_1-rmse:5631.1\n",
      "[851]\tvalidation_0-rmse:5336.25\tvalidation_1-rmse:5628.71\n",
      "[852]\tvalidation_0-rmse:5334.31\tvalidation_1-rmse:5627.3\n",
      "[853]\tvalidation_0-rmse:5332.44\tvalidation_1-rmse:5625.99\n"
     ]
    },
    {
     "name": "stdout",
     "output_type": "stream",
     "text": [
      "[854]\tvalidation_0-rmse:5331.12\tvalidation_1-rmse:5625.05\n",
      "[855]\tvalidation_0-rmse:5330.46\tvalidation_1-rmse:5624.43\n",
      "[856]\tvalidation_0-rmse:5329.74\tvalidation_1-rmse:5623.77\n",
      "[857]\tvalidation_0-rmse:5328.36\tvalidation_1-rmse:5622.67\n",
      "[858]\tvalidation_0-rmse:5327.74\tvalidation_1-rmse:5622.1\n",
      "[859]\tvalidation_0-rmse:5326.48\tvalidation_1-rmse:5620.6\n",
      "[860]\tvalidation_0-rmse:5323.81\tvalidation_1-rmse:5618.54\n",
      "[861]\tvalidation_0-rmse:5319.28\tvalidation_1-rmse:5614.47\n",
      "[862]\tvalidation_0-rmse:5317.2\tvalidation_1-rmse:5613.51\n",
      "[863]\tvalidation_0-rmse:5315.21\tvalidation_1-rmse:5612.9\n",
      "[864]\tvalidation_0-rmse:5313.87\tvalidation_1-rmse:5611.66\n",
      "[865]\tvalidation_0-rmse:5312.58\tvalidation_1-rmse:5610.65\n",
      "[866]\tvalidation_0-rmse:5311.92\tvalidation_1-rmse:5609.87\n",
      "[867]\tvalidation_0-rmse:5311.15\tvalidation_1-rmse:5609.32\n",
      "[868]\tvalidation_0-rmse:5311\tvalidation_1-rmse:5609.22\n",
      "[869]\tvalidation_0-rmse:5308.58\tvalidation_1-rmse:5606.84\n",
      "[870]\tvalidation_0-rmse:5307.18\tvalidation_1-rmse:5606.65\n",
      "[871]\tvalidation_0-rmse:5304.33\tvalidation_1-rmse:5606.28\n",
      "[872]\tvalidation_0-rmse:5301.21\tvalidation_1-rmse:5602.74\n",
      "[873]\tvalidation_0-rmse:5299.78\tvalidation_1-rmse:5602.28\n",
      "[874]\tvalidation_0-rmse:5298.32\tvalidation_1-rmse:5600.63\n",
      "[875]\tvalidation_0-rmse:5295.56\tvalidation_1-rmse:5597.88\n",
      "[876]\tvalidation_0-rmse:5294.27\tvalidation_1-rmse:5596.33\n",
      "[877]\tvalidation_0-rmse:5292.1\tvalidation_1-rmse:5594.01\n",
      "[878]\tvalidation_0-rmse:5291.18\tvalidation_1-rmse:5593.15\n",
      "[879]\tvalidation_0-rmse:5290.55\tvalidation_1-rmse:5592.46\n",
      "[880]\tvalidation_0-rmse:5287.9\tvalidation_1-rmse:5589.45\n",
      "[881]\tvalidation_0-rmse:5287.76\tvalidation_1-rmse:5589.33\n",
      "[882]\tvalidation_0-rmse:5285.67\tvalidation_1-rmse:5587.41\n",
      "[883]\tvalidation_0-rmse:5284.27\tvalidation_1-rmse:5586.78\n",
      "[884]\tvalidation_0-rmse:5281.24\tvalidation_1-rmse:5584.01\n",
      "[885]\tvalidation_0-rmse:5277.48\tvalidation_1-rmse:5580.57\n",
      "[886]\tvalidation_0-rmse:5276.41\tvalidation_1-rmse:5579.58\n",
      "[887]\tvalidation_0-rmse:5274.41\tvalidation_1-rmse:5576.9\n",
      "[888]\tvalidation_0-rmse:5273.26\tvalidation_1-rmse:5575.77\n",
      "[889]\tvalidation_0-rmse:5271.17\tvalidation_1-rmse:5573.68\n",
      "[890]\tvalidation_0-rmse:5269.78\tvalidation_1-rmse:5572.82\n",
      "[891]\tvalidation_0-rmse:5266.75\tvalidation_1-rmse:5569.34\n",
      "[892]\tvalidation_0-rmse:5265.66\tvalidation_1-rmse:5568.43\n",
      "[893]\tvalidation_0-rmse:5263.69\tvalidation_1-rmse:5566.43\n",
      "[894]\tvalidation_0-rmse:5259.35\tvalidation_1-rmse:5562.38\n",
      "[895]\tvalidation_0-rmse:5258.96\tvalidation_1-rmse:5561.96\n",
      "[896]\tvalidation_0-rmse:5257.16\tvalidation_1-rmse:5560.43\n",
      "[897]\tvalidation_0-rmse:5255.4\tvalidation_1-rmse:5558.53\n",
      "[898]\tvalidation_0-rmse:5254.81\tvalidation_1-rmse:5558.11\n",
      "[899]\tvalidation_0-rmse:5254.4\tvalidation_1-rmse:5557.7\n",
      "[900]\tvalidation_0-rmse:5250.74\tvalidation_1-rmse:5553.97\n",
      "[901]\tvalidation_0-rmse:5249.06\tvalidation_1-rmse:5552.17\n",
      "[902]\tvalidation_0-rmse:5246.95\tvalidation_1-rmse:5550.56\n",
      "[903]\tvalidation_0-rmse:5246.04\tvalidation_1-rmse:5550.55\n",
      "[904]\tvalidation_0-rmse:5244.43\tvalidation_1-rmse:5548.71\n",
      "[905]\tvalidation_0-rmse:5242.5\tvalidation_1-rmse:5546.79\n",
      "[906]\tvalidation_0-rmse:5240.49\tvalidation_1-rmse:5544.97\n",
      "[907]\tvalidation_0-rmse:5239.18\tvalidation_1-rmse:5543.68\n",
      "[908]\tvalidation_0-rmse:5238.21\tvalidation_1-rmse:5542.69\n",
      "[909]\tvalidation_0-rmse:5236.65\tvalidation_1-rmse:5540.94\n",
      "[910]\tvalidation_0-rmse:5235.11\tvalidation_1-rmse:5539.38\n",
      "[911]\tvalidation_0-rmse:5232.31\tvalidation_1-rmse:5536.3\n",
      "[912]\tvalidation_0-rmse:5228.19\tvalidation_1-rmse:5533.76\n",
      "[913]\tvalidation_0-rmse:5227.41\tvalidation_1-rmse:5532.62\n",
      "[914]\tvalidation_0-rmse:5226.8\tvalidation_1-rmse:5532.57\n",
      "[915]\tvalidation_0-rmse:5221.57\tvalidation_1-rmse:5528.51\n",
      "[916]\tvalidation_0-rmse:5220.74\tvalidation_1-rmse:5528.29\n",
      "[917]\tvalidation_0-rmse:5219.87\tvalidation_1-rmse:5527.45\n",
      "[918]\tvalidation_0-rmse:5218.26\tvalidation_1-rmse:5525.93\n",
      "[919]\tvalidation_0-rmse:5216.92\tvalidation_1-rmse:5524.47\n",
      "[920]\tvalidation_0-rmse:5215.77\tvalidation_1-rmse:5523.28\n",
      "[921]\tvalidation_0-rmse:5213.94\tvalidation_1-rmse:5521.3\n",
      "[922]\tvalidation_0-rmse:5212.51\tvalidation_1-rmse:5519.79\n",
      "[923]\tvalidation_0-rmse:5211.66\tvalidation_1-rmse:5519.08\n",
      "[924]\tvalidation_0-rmse:5209.65\tvalidation_1-rmse:5517.45\n",
      "[925]\tvalidation_0-rmse:5208.16\tvalidation_1-rmse:5516.62\n",
      "[926]\tvalidation_0-rmse:5207.38\tvalidation_1-rmse:5516.03\n",
      "[927]\tvalidation_0-rmse:5206.59\tvalidation_1-rmse:5515.32\n",
      "[928]\tvalidation_0-rmse:5204.35\tvalidation_1-rmse:5513.32\n",
      "[929]\tvalidation_0-rmse:5203.4\tvalidation_1-rmse:5512.11\n",
      "[930]\tvalidation_0-rmse:5202.32\tvalidation_1-rmse:5511.71\n",
      "[931]\tvalidation_0-rmse:5199.99\tvalidation_1-rmse:5508.73\n",
      "[932]\tvalidation_0-rmse:5198.97\tvalidation_1-rmse:5507.9\n",
      "[933]\tvalidation_0-rmse:5197.07\tvalidation_1-rmse:5505.85\n",
      "[934]\tvalidation_0-rmse:5196.23\tvalidation_1-rmse:5505.62\n",
      "[935]\tvalidation_0-rmse:5195.46\tvalidation_1-rmse:5505.06\n",
      "[936]\tvalidation_0-rmse:5194.17\tvalidation_1-rmse:5503.68\n",
      "[937]\tvalidation_0-rmse:5193.57\tvalidation_1-rmse:5502.89\n",
      "[938]\tvalidation_0-rmse:5192.48\tvalidation_1-rmse:5501.48\n",
      "[939]\tvalidation_0-rmse:5189.6\tvalidation_1-rmse:5499.55\n",
      "[940]\tvalidation_0-rmse:5188.09\tvalidation_1-rmse:5498.34\n",
      "[941]\tvalidation_0-rmse:5186.97\tvalidation_1-rmse:5497.2\n",
      "[942]\tvalidation_0-rmse:5185.63\tvalidation_1-rmse:5496.11\n",
      "[943]\tvalidation_0-rmse:5182.93\tvalidation_1-rmse:5492.82\n",
      "[944]\tvalidation_0-rmse:5182.09\tvalidation_1-rmse:5491.92\n",
      "[945]\tvalidation_0-rmse:5181.17\tvalidation_1-rmse:5491.12\n",
      "[946]\tvalidation_0-rmse:5180.77\tvalidation_1-rmse:5490.77\n",
      "[947]\tvalidation_0-rmse:5178.5\tvalidation_1-rmse:5489.66\n",
      "[948]\tvalidation_0-rmse:5177.83\tvalidation_1-rmse:5490.83\n",
      "[949]\tvalidation_0-rmse:5176.47\tvalidation_1-rmse:5490.49\n",
      "[950]\tvalidation_0-rmse:5175.01\tvalidation_1-rmse:5488.74\n",
      "[951]\tvalidation_0-rmse:5173.72\tvalidation_1-rmse:5486.97\n",
      "[952]\tvalidation_0-rmse:5172.59\tvalidation_1-rmse:5485.75\n",
      "[953]\tvalidation_0-rmse:5169.33\tvalidation_1-rmse:5482.02\n",
      "[954]\tvalidation_0-rmse:5166.74\tvalidation_1-rmse:5480.83\n",
      "[955]\tvalidation_0-rmse:5164.61\tvalidation_1-rmse:5478.78\n",
      "[956]\tvalidation_0-rmse:5163.42\tvalidation_1-rmse:5477.66\n",
      "[957]\tvalidation_0-rmse:5162.08\tvalidation_1-rmse:5476.6\n",
      "[958]\tvalidation_0-rmse:5160.39\tvalidation_1-rmse:5474.7\n",
      "[959]\tvalidation_0-rmse:5158.7\tvalidation_1-rmse:5473.13\n",
      "[960]\tvalidation_0-rmse:5156.77\tvalidation_1-rmse:5471.42\n",
      "[961]\tvalidation_0-rmse:5156\tvalidation_1-rmse:5470.79\n",
      "[962]\tvalidation_0-rmse:5154.55\tvalidation_1-rmse:5469.97\n",
      "[963]\tvalidation_0-rmse:5153.13\tvalidation_1-rmse:5468.61\n",
      "[964]\tvalidation_0-rmse:5151.17\tvalidation_1-rmse:5466.62\n",
      "[965]\tvalidation_0-rmse:5149.32\tvalidation_1-rmse:5465.12\n",
      "[966]\tvalidation_0-rmse:5148.32\tvalidation_1-rmse:5464.26\n",
      "[967]\tvalidation_0-rmse:5147.23\tvalidation_1-rmse:5462.86\n",
      "[968]\tvalidation_0-rmse:5146.11\tvalidation_1-rmse:5461.78\n",
      "[969]\tvalidation_0-rmse:5145.39\tvalidation_1-rmse:5461.79\n",
      "[970]\tvalidation_0-rmse:5144.47\tvalidation_1-rmse:5461.3\n",
      "[971]\tvalidation_0-rmse:5143.09\tvalidation_1-rmse:5460.13\n",
      "[972]\tvalidation_0-rmse:5142.7\tvalidation_1-rmse:5459.84\n",
      "[973]\tvalidation_0-rmse:5140.69\tvalidation_1-rmse:5458.2\n",
      "[974]\tvalidation_0-rmse:5138.13\tvalidation_1-rmse:5455.42\n",
      "[975]\tvalidation_0-rmse:5137.16\tvalidation_1-rmse:5454.47\n",
      "[976]\tvalidation_0-rmse:5136.01\tvalidation_1-rmse:5453.36\n",
      "[977]\tvalidation_0-rmse:5134.05\tvalidation_1-rmse:5451.84\n",
      "[978]\tvalidation_0-rmse:5133.37\tvalidation_1-rmse:5451.35\n",
      "[979]\tvalidation_0-rmse:5130.72\tvalidation_1-rmse:5449.68\n",
      "[980]\tvalidation_0-rmse:5130.34\tvalidation_1-rmse:5450.54\n",
      "[981]\tvalidation_0-rmse:5125.64\tvalidation_1-rmse:5445.44\n",
      "[982]\tvalidation_0-rmse:5123.8\tvalidation_1-rmse:5443.52\n",
      "[983]\tvalidation_0-rmse:5123.13\tvalidation_1-rmse:5442.94\n",
      "[984]\tvalidation_0-rmse:5121.52\tvalidation_1-rmse:5442.09\n",
      "[985]\tvalidation_0-rmse:5119.44\tvalidation_1-rmse:5440.2\n",
      "[986]\tvalidation_0-rmse:5115.1\tvalidation_1-rmse:5436.29\n",
      "[987]\tvalidation_0-rmse:5114.08\tvalidation_1-rmse:5437.3\n",
      "[988]\tvalidation_0-rmse:5113.25\tvalidation_1-rmse:5437.5\n",
      "[989]\tvalidation_0-rmse:5111.36\tvalidation_1-rmse:5436.32\n",
      "[990]\tvalidation_0-rmse:5109.75\tvalidation_1-rmse:5434.54\n",
      "[991]\tvalidation_0-rmse:5108.64\tvalidation_1-rmse:5433.43\n",
      "[992]\tvalidation_0-rmse:5106.71\tvalidation_1-rmse:5431.35\n",
      "[993]\tvalidation_0-rmse:5106.17\tvalidation_1-rmse:5431.14\n",
      "[994]\tvalidation_0-rmse:5104.82\tvalidation_1-rmse:5430.32\n",
      "[995]\tvalidation_0-rmse:5103.55\tvalidation_1-rmse:5429.05\n"
     ]
    },
    {
     "name": "stdout",
     "output_type": "stream",
     "text": [
      "[996]\tvalidation_0-rmse:5102.06\tvalidation_1-rmse:5426.89\n",
      "[997]\tvalidation_0-rmse:5097.39\tvalidation_1-rmse:5421.86\n",
      "[998]\tvalidation_0-rmse:5095.84\tvalidation_1-rmse:5420.43\n",
      "[999]\tvalidation_0-rmse:5095.02\tvalidation_1-rmse:5419.56\n",
      "[1000]\tvalidation_0-rmse:5094.58\tvalidation_1-rmse:5419.28\n",
      "[1001]\tvalidation_0-rmse:5092.91\tvalidation_1-rmse:5417.57\n",
      "[1002]\tvalidation_0-rmse:5090.84\tvalidation_1-rmse:5415.56\n",
      "[1003]\tvalidation_0-rmse:5085.07\tvalidation_1-rmse:5410.52\n",
      "[1004]\tvalidation_0-rmse:5083.73\tvalidation_1-rmse:5409.31\n",
      "[1005]\tvalidation_0-rmse:5080.26\tvalidation_1-rmse:5406.1\n",
      "[1006]\tvalidation_0-rmse:5079.43\tvalidation_1-rmse:5405.2\n",
      "[1007]\tvalidation_0-rmse:5077.74\tvalidation_1-rmse:5403.13\n",
      "[1008]\tvalidation_0-rmse:5076.07\tvalidation_1-rmse:5404.27\n",
      "[1009]\tvalidation_0-rmse:5075.14\tvalidation_1-rmse:5403.65\n",
      "[1010]\tvalidation_0-rmse:5074.06\tvalidation_1-rmse:5402.77\n",
      "[1011]\tvalidation_0-rmse:5071.19\tvalidation_1-rmse:5398.89\n",
      "[1012]\tvalidation_0-rmse:5069.44\tvalidation_1-rmse:5397.4\n",
      "[1013]\tvalidation_0-rmse:5068.02\tvalidation_1-rmse:5395.81\n",
      "[1014]\tvalidation_0-rmse:5067.39\tvalidation_1-rmse:5395.2\n",
      "[1015]\tvalidation_0-rmse:5066.72\tvalidation_1-rmse:5394.49\n",
      "[1016]\tvalidation_0-rmse:5065.77\tvalidation_1-rmse:5393.91\n",
      "[1017]\tvalidation_0-rmse:5063.77\tvalidation_1-rmse:5392.53\n",
      "[1018]\tvalidation_0-rmse:5062.27\tvalidation_1-rmse:5390.88\n",
      "[1019]\tvalidation_0-rmse:5060.16\tvalidation_1-rmse:5389.07\n",
      "[1020]\tvalidation_0-rmse:5059.97\tvalidation_1-rmse:5388.92\n",
      "[1021]\tvalidation_0-rmse:5059.46\tvalidation_1-rmse:5388.37\n",
      "[1022]\tvalidation_0-rmse:5056.26\tvalidation_1-rmse:5385.96\n",
      "[1023]\tvalidation_0-rmse:5054.41\tvalidation_1-rmse:5384.09\n",
      "[1024]\tvalidation_0-rmse:5053.82\tvalidation_1-rmse:5383.57\n",
      "[1025]\tvalidation_0-rmse:5051.98\tvalidation_1-rmse:5382.13\n",
      "[1026]\tvalidation_0-rmse:5049.1\tvalidation_1-rmse:5379.75\n",
      "[1027]\tvalidation_0-rmse:5048.02\tvalidation_1-rmse:5378.7\n",
      "[1028]\tvalidation_0-rmse:5045.7\tvalidation_1-rmse:5378.29\n",
      "[1029]\tvalidation_0-rmse:5045.06\tvalidation_1-rmse:5377.45\n",
      "[1030]\tvalidation_0-rmse:5044.58\tvalidation_1-rmse:5376.61\n",
      "[1031]\tvalidation_0-rmse:5043.46\tvalidation_1-rmse:5375.45\n",
      "[1032]\tvalidation_0-rmse:5042.77\tvalidation_1-rmse:5375.41\n",
      "[1033]\tvalidation_0-rmse:5042\tvalidation_1-rmse:5375.69\n",
      "[1034]\tvalidation_0-rmse:5040.35\tvalidation_1-rmse:5373.22\n",
      "[1035]\tvalidation_0-rmse:5039.89\tvalidation_1-rmse:5372.64\n",
      "[1036]\tvalidation_0-rmse:5039.34\tvalidation_1-rmse:5372.33\n",
      "[1037]\tvalidation_0-rmse:5037.85\tvalidation_1-rmse:5371\n",
      "[1038]\tvalidation_0-rmse:5036.49\tvalidation_1-rmse:5369.35\n",
      "[1039]\tvalidation_0-rmse:5035.45\tvalidation_1-rmse:5368.25\n",
      "[1040]\tvalidation_0-rmse:5034.29\tvalidation_1-rmse:5367.13\n",
      "[1041]\tvalidation_0-rmse:5031.14\tvalidation_1-rmse:5364.57\n",
      "[1042]\tvalidation_0-rmse:5029.41\tvalidation_1-rmse:5362.96\n",
      "[1043]\tvalidation_0-rmse:5028.01\tvalidation_1-rmse:5361.54\n",
      "[1044]\tvalidation_0-rmse:5022.96\tvalidation_1-rmse:5357.12\n",
      "[1045]\tvalidation_0-rmse:5020.97\tvalidation_1-rmse:5355.46\n",
      "[1046]\tvalidation_0-rmse:5018.6\tvalidation_1-rmse:5352.95\n",
      "[1047]\tvalidation_0-rmse:5017.27\tvalidation_1-rmse:5351.62\n",
      "[1048]\tvalidation_0-rmse:5015.97\tvalidation_1-rmse:5350.33\n",
      "[1049]\tvalidation_0-rmse:5014.06\tvalidation_1-rmse:5349.34\n",
      "[1050]\tvalidation_0-rmse:5013.27\tvalidation_1-rmse:5349.11\n",
      "[1051]\tvalidation_0-rmse:5011.69\tvalidation_1-rmse:5347.77\n",
      "[1052]\tvalidation_0-rmse:5009.32\tvalidation_1-rmse:5345.22\n",
      "[1053]\tvalidation_0-rmse:5007.33\tvalidation_1-rmse:5343.31\n",
      "[1054]\tvalidation_0-rmse:5006.72\tvalidation_1-rmse:5343.11\n",
      "[1055]\tvalidation_0-rmse:5004.81\tvalidation_1-rmse:5341.51\n",
      "[1056]\tvalidation_0-rmse:5003.6\tvalidation_1-rmse:5340.97\n",
      "[1057]\tvalidation_0-rmse:5002.78\tvalidation_1-rmse:5339.73\n",
      "[1058]\tvalidation_0-rmse:5001.83\tvalidation_1-rmse:5338.75\n",
      "[1059]\tvalidation_0-rmse:5000.56\tvalidation_1-rmse:5336.81\n",
      "[1060]\tvalidation_0-rmse:4999.38\tvalidation_1-rmse:5335.56\n",
      "[1061]\tvalidation_0-rmse:4998.62\tvalidation_1-rmse:5335.08\n",
      "[1062]\tvalidation_0-rmse:4996.4\tvalidation_1-rmse:5333.25\n",
      "[1063]\tvalidation_0-rmse:4994.83\tvalidation_1-rmse:5330.81\n",
      "[1064]\tvalidation_0-rmse:4994.17\tvalidation_1-rmse:5330.24\n",
      "[1065]\tvalidation_0-rmse:4993.65\tvalidation_1-rmse:5329.74\n",
      "[1066]\tvalidation_0-rmse:4993.38\tvalidation_1-rmse:5329.29\n",
      "[1067]\tvalidation_0-rmse:4992.84\tvalidation_1-rmse:5326.89\n",
      "[1068]\tvalidation_0-rmse:4992.22\tvalidation_1-rmse:5325.98\n",
      "[1069]\tvalidation_0-rmse:4991.1\tvalidation_1-rmse:5324.73\n",
      "[1070]\tvalidation_0-rmse:4990.26\tvalidation_1-rmse:5323.85\n",
      "[1071]\tvalidation_0-rmse:4988.32\tvalidation_1-rmse:5321.35\n",
      "[1072]\tvalidation_0-rmse:4986.14\tvalidation_1-rmse:5319.22\n",
      "[1073]\tvalidation_0-rmse:4985.26\tvalidation_1-rmse:5317.44\n",
      "[1074]\tvalidation_0-rmse:4984.54\tvalidation_1-rmse:5316.78\n",
      "[1075]\tvalidation_0-rmse:4984.03\tvalidation_1-rmse:5316.18\n",
      "[1076]\tvalidation_0-rmse:4983.11\tvalidation_1-rmse:5314.81\n",
      "[1077]\tvalidation_0-rmse:4981.9\tvalidation_1-rmse:5313.54\n",
      "[1078]\tvalidation_0-rmse:4980.26\tvalidation_1-rmse:5312.16\n",
      "[1079]\tvalidation_0-rmse:4979.3\tvalidation_1-rmse:5311.17\n",
      "[1080]\tvalidation_0-rmse:4978.06\tvalidation_1-rmse:5310.03\n",
      "[1081]\tvalidation_0-rmse:4976.95\tvalidation_1-rmse:5308.94\n",
      "[1082]\tvalidation_0-rmse:4975.41\tvalidation_1-rmse:5307.28\n",
      "[1083]\tvalidation_0-rmse:4970.81\tvalidation_1-rmse:5302.86\n",
      "[1084]\tvalidation_0-rmse:4969.83\tvalidation_1-rmse:5301.95\n",
      "[1085]\tvalidation_0-rmse:4968.25\tvalidation_1-rmse:5300.31\n",
      "[1086]\tvalidation_0-rmse:4966.96\tvalidation_1-rmse:5298.89\n",
      "[1087]\tvalidation_0-rmse:4965.58\tvalidation_1-rmse:5298.13\n",
      "[1088]\tvalidation_0-rmse:4964.41\tvalidation_1-rmse:5297.14\n",
      "[1089]\tvalidation_0-rmse:4963.43\tvalidation_1-rmse:5296.44\n",
      "[1090]\tvalidation_0-rmse:4961.72\tvalidation_1-rmse:5294.83\n",
      "[1091]\tvalidation_0-rmse:4960.59\tvalidation_1-rmse:5293.47\n",
      "[1092]\tvalidation_0-rmse:4959.68\tvalidation_1-rmse:5292.64\n",
      "[1093]\tvalidation_0-rmse:4958.61\tvalidation_1-rmse:5291.69\n",
      "[1094]\tvalidation_0-rmse:4958.08\tvalidation_1-rmse:5291.22\n",
      "[1095]\tvalidation_0-rmse:4957.13\tvalidation_1-rmse:5290.25\n",
      "[1096]\tvalidation_0-rmse:4956.09\tvalidation_1-rmse:5289.38\n",
      "[1097]\tvalidation_0-rmse:4954.86\tvalidation_1-rmse:5288.35\n",
      "[1098]\tvalidation_0-rmse:4953.95\tvalidation_1-rmse:5287.3\n",
      "[1099]\tvalidation_0-rmse:4953.13\tvalidation_1-rmse:5286.6\n",
      "[1100]\tvalidation_0-rmse:4951.86\tvalidation_1-rmse:5285.51\n",
      "[1101]\tvalidation_0-rmse:4950.29\tvalidation_1-rmse:5285.48\n",
      "[1102]\tvalidation_0-rmse:4949.5\tvalidation_1-rmse:5285.1\n",
      "[1103]\tvalidation_0-rmse:4948.85\tvalidation_1-rmse:5284.61\n",
      "[1104]\tvalidation_0-rmse:4948.19\tvalidation_1-rmse:5284.21\n",
      "[1105]\tvalidation_0-rmse:4947.71\tvalidation_1-rmse:5284.21\n",
      "[1106]\tvalidation_0-rmse:4946.92\tvalidation_1-rmse:5283.67\n",
      "[1107]\tvalidation_0-rmse:4946.57\tvalidation_1-rmse:5283.21\n",
      "[1108]\tvalidation_0-rmse:4945.47\tvalidation_1-rmse:5283.42\n",
      "[1109]\tvalidation_0-rmse:4944.42\tvalidation_1-rmse:5284.18\n",
      "[1110]\tvalidation_0-rmse:4943.54\tvalidation_1-rmse:5283.46\n",
      "[1111]\tvalidation_0-rmse:4942.71\tvalidation_1-rmse:5282.47\n",
      "[1112]\tvalidation_0-rmse:4940.42\tvalidation_1-rmse:5280.88\n",
      "[1113]\tvalidation_0-rmse:4937.68\tvalidation_1-rmse:5278.45\n",
      "[1114]\tvalidation_0-rmse:4936.93\tvalidation_1-rmse:5277.89\n",
      "[1115]\tvalidation_0-rmse:4935.27\tvalidation_1-rmse:5274.24\n",
      "[1116]\tvalidation_0-rmse:4934.52\tvalidation_1-rmse:5273.52\n",
      "[1117]\tvalidation_0-rmse:4933.05\tvalidation_1-rmse:5272.12\n",
      "[1118]\tvalidation_0-rmse:4931.33\tvalidation_1-rmse:5270.84\n",
      "[1119]\tvalidation_0-rmse:4930.27\tvalidation_1-rmse:5270.08\n",
      "[1120]\tvalidation_0-rmse:4930.04\tvalidation_1-rmse:5269.89\n",
      "[1121]\tvalidation_0-rmse:4929.28\tvalidation_1-rmse:5269.16\n",
      "[1122]\tvalidation_0-rmse:4927.92\tvalidation_1-rmse:5267.86\n",
      "[1123]\tvalidation_0-rmse:4926.15\tvalidation_1-rmse:5266.28\n",
      "[1124]\tvalidation_0-rmse:4924.96\tvalidation_1-rmse:5265.52\n",
      "[1125]\tvalidation_0-rmse:4923.18\tvalidation_1-rmse:5264.58\n",
      "[1126]\tvalidation_0-rmse:4922.33\tvalidation_1-rmse:5263.02\n",
      "[1127]\tvalidation_0-rmse:4921.33\tvalidation_1-rmse:5262.55\n",
      "[1128]\tvalidation_0-rmse:4919.76\tvalidation_1-rmse:5260.1\n",
      "[1129]\tvalidation_0-rmse:4918.88\tvalidation_1-rmse:5259.62\n",
      "[1130]\tvalidation_0-rmse:4917.35\tvalidation_1-rmse:5258.12\n",
      "[1131]\tvalidation_0-rmse:4916.36\tvalidation_1-rmse:5257.49\n",
      "[1132]\tvalidation_0-rmse:4914.78\tvalidation_1-rmse:5256.27\n",
      "[1133]\tvalidation_0-rmse:4914.35\tvalidation_1-rmse:5255.93\n",
      "[1134]\tvalidation_0-rmse:4913.72\tvalidation_1-rmse:5255.31\n",
      "[1135]\tvalidation_0-rmse:4912.45\tvalidation_1-rmse:5253.79\n"
     ]
    },
    {
     "name": "stdout",
     "output_type": "stream",
     "text": [
      "[1136]\tvalidation_0-rmse:4911.64\tvalidation_1-rmse:5252.88\n",
      "[1137]\tvalidation_0-rmse:4910.66\tvalidation_1-rmse:5252.55\n",
      "[1138]\tvalidation_0-rmse:4909.63\tvalidation_1-rmse:5251.87\n",
      "[1139]\tvalidation_0-rmse:4908.33\tvalidation_1-rmse:5250.72\n",
      "[1140]\tvalidation_0-rmse:4906.59\tvalidation_1-rmse:5248.61\n",
      "[1141]\tvalidation_0-rmse:4904.48\tvalidation_1-rmse:5246.89\n",
      "[1142]\tvalidation_0-rmse:4903.83\tvalidation_1-rmse:5246.22\n",
      "[1143]\tvalidation_0-rmse:4903.08\tvalidation_1-rmse:5245.24\n",
      "[1144]\tvalidation_0-rmse:4902.23\tvalidation_1-rmse:5244.47\n",
      "[1145]\tvalidation_0-rmse:4901.48\tvalidation_1-rmse:5244.34\n",
      "[1146]\tvalidation_0-rmse:4900.11\tvalidation_1-rmse:5242.73\n",
      "[1147]\tvalidation_0-rmse:4899.4\tvalidation_1-rmse:5242.18\n",
      "[1148]\tvalidation_0-rmse:4898.4\tvalidation_1-rmse:5241.52\n",
      "[1149]\tvalidation_0-rmse:4897.45\tvalidation_1-rmse:5240.8\n",
      "[1150]\tvalidation_0-rmse:4894.99\tvalidation_1-rmse:5237.96\n",
      "[1151]\tvalidation_0-rmse:4894.68\tvalidation_1-rmse:5238.2\n",
      "[1152]\tvalidation_0-rmse:4893.64\tvalidation_1-rmse:5237.13\n",
      "[1153]\tvalidation_0-rmse:4893.28\tvalidation_1-rmse:5236.79\n",
      "[1154]\tvalidation_0-rmse:4893.02\tvalidation_1-rmse:5236.8\n",
      "[1155]\tvalidation_0-rmse:4892.62\tvalidation_1-rmse:5236.44\n",
      "[1156]\tvalidation_0-rmse:4891.38\tvalidation_1-rmse:5235.17\n",
      "[1157]\tvalidation_0-rmse:4890.23\tvalidation_1-rmse:5233.88\n",
      "[1158]\tvalidation_0-rmse:4889.4\tvalidation_1-rmse:5233.4\n",
      "[1159]\tvalidation_0-rmse:4888.63\tvalidation_1-rmse:5232.95\n",
      "[1160]\tvalidation_0-rmse:4888.07\tvalidation_1-rmse:5232.46\n",
      "[1161]\tvalidation_0-rmse:4887.22\tvalidation_1-rmse:5231.81\n",
      "[1162]\tvalidation_0-rmse:4885.93\tvalidation_1-rmse:5230.38\n",
      "[1163]\tvalidation_0-rmse:4885.13\tvalidation_1-rmse:5229.75\n",
      "[1164]\tvalidation_0-rmse:4883.92\tvalidation_1-rmse:5228.79\n",
      "[1165]\tvalidation_0-rmse:4882.88\tvalidation_1-rmse:5229.55\n",
      "[1166]\tvalidation_0-rmse:4881.45\tvalidation_1-rmse:5228.27\n",
      "[1167]\tvalidation_0-rmse:4880.16\tvalidation_1-rmse:5228.09\n",
      "[1168]\tvalidation_0-rmse:4878.47\tvalidation_1-rmse:5226.82\n",
      "[1169]\tvalidation_0-rmse:4877.06\tvalidation_1-rmse:5225.69\n",
      "[1170]\tvalidation_0-rmse:4875.38\tvalidation_1-rmse:5224.25\n",
      "[1171]\tvalidation_0-rmse:4874.2\tvalidation_1-rmse:5223.01\n",
      "[1172]\tvalidation_0-rmse:4872.27\tvalidation_1-rmse:5220.51\n",
      "[1173]\tvalidation_0-rmse:4871.16\tvalidation_1-rmse:5219.48\n",
      "[1174]\tvalidation_0-rmse:4870.38\tvalidation_1-rmse:5218.72\n",
      "[1175]\tvalidation_0-rmse:4868.83\tvalidation_1-rmse:5217.05\n",
      "[1176]\tvalidation_0-rmse:4868.05\tvalidation_1-rmse:5216.57\n",
      "[1177]\tvalidation_0-rmse:4867.03\tvalidation_1-rmse:5215.61\n",
      "[1178]\tvalidation_0-rmse:4865.69\tvalidation_1-rmse:5214.45\n",
      "[1179]\tvalidation_0-rmse:4864.52\tvalidation_1-rmse:5213.48\n",
      "[1180]\tvalidation_0-rmse:4863.54\tvalidation_1-rmse:5213.03\n",
      "[1181]\tvalidation_0-rmse:4863.1\tvalidation_1-rmse:5212.59\n",
      "[1182]\tvalidation_0-rmse:4862.65\tvalidation_1-rmse:5212.12\n",
      "[1183]\tvalidation_0-rmse:4861.8\tvalidation_1-rmse:5211.37\n",
      "[1184]\tvalidation_0-rmse:4860.82\tvalidation_1-rmse:5210.55\n",
      "[1185]\tvalidation_0-rmse:4860.26\tvalidation_1-rmse:5211.09\n",
      "[1186]\tvalidation_0-rmse:4858.23\tvalidation_1-rmse:5209.29\n",
      "[1187]\tvalidation_0-rmse:4857.66\tvalidation_1-rmse:5208.82\n",
      "[1188]\tvalidation_0-rmse:4856.09\tvalidation_1-rmse:5207.52\n",
      "[1189]\tvalidation_0-rmse:4855.07\tvalidation_1-rmse:5208.42\n",
      "[1190]\tvalidation_0-rmse:4854.26\tvalidation_1-rmse:5207.63\n",
      "[1191]\tvalidation_0-rmse:4853.68\tvalidation_1-rmse:5206.84\n",
      "[1192]\tvalidation_0-rmse:4853.23\tvalidation_1-rmse:5206.1\n",
      "[1193]\tvalidation_0-rmse:4852.23\tvalidation_1-rmse:5204.99\n",
      "[1194]\tvalidation_0-rmse:4851.41\tvalidation_1-rmse:5204.06\n",
      "[1195]\tvalidation_0-rmse:4850.52\tvalidation_1-rmse:5202.93\n",
      "[1196]\tvalidation_0-rmse:4849.24\tvalidation_1-rmse:5201.78\n",
      "[1197]\tvalidation_0-rmse:4847.57\tvalidation_1-rmse:5200.49\n",
      "[1198]\tvalidation_0-rmse:4846.2\tvalidation_1-rmse:5199.11\n",
      "[1199]\tvalidation_0-rmse:4845.35\tvalidation_1-rmse:5198.26\n",
      "[1200]\tvalidation_0-rmse:4844.49\tvalidation_1-rmse:5197.53\n",
      "[1201]\tvalidation_0-rmse:4843.44\tvalidation_1-rmse:5196.52\n",
      "[1202]\tvalidation_0-rmse:4842.65\tvalidation_1-rmse:5196.21\n",
      "[1203]\tvalidation_0-rmse:4840.49\tvalidation_1-rmse:5191.68\n",
      "[1204]\tvalidation_0-rmse:4838.89\tvalidation_1-rmse:5190.42\n",
      "[1205]\tvalidation_0-rmse:4837.26\tvalidation_1-rmse:5189.09\n",
      "[1206]\tvalidation_0-rmse:4836.26\tvalidation_1-rmse:5188.35\n",
      "[1207]\tvalidation_0-rmse:4835.23\tvalidation_1-rmse:5187.37\n",
      "[1208]\tvalidation_0-rmse:4834.56\tvalidation_1-rmse:5186.87\n",
      "[1209]\tvalidation_0-rmse:4833.8\tvalidation_1-rmse:5186.46\n",
      "[1210]\tvalidation_0-rmse:4833.06\tvalidation_1-rmse:5185.86\n",
      "[1211]\tvalidation_0-rmse:4832.36\tvalidation_1-rmse:5185.28\n",
      "[1212]\tvalidation_0-rmse:4829.15\tvalidation_1-rmse:5182.11\n",
      "[1213]\tvalidation_0-rmse:4826.44\tvalidation_1-rmse:5179.04\n",
      "[1214]\tvalidation_0-rmse:4825.99\tvalidation_1-rmse:5178.51\n",
      "[1215]\tvalidation_0-rmse:4825.15\tvalidation_1-rmse:5177.33\n",
      "[1216]\tvalidation_0-rmse:4824.01\tvalidation_1-rmse:5176.88\n",
      "[1217]\tvalidation_0-rmse:4823.36\tvalidation_1-rmse:5176.19\n",
      "[1218]\tvalidation_0-rmse:4823.07\tvalidation_1-rmse:5175.95\n",
      "[1219]\tvalidation_0-rmse:4821.25\tvalidation_1-rmse:5173.72\n",
      "[1220]\tvalidation_0-rmse:4820.15\tvalidation_1-rmse:5172.62\n",
      "[1221]\tvalidation_0-rmse:4819.55\tvalidation_1-rmse:5172.02\n",
      "[1222]\tvalidation_0-rmse:4818.98\tvalidation_1-rmse:5171.51\n",
      "[1223]\tvalidation_0-rmse:4818.4\tvalidation_1-rmse:5171.04\n",
      "[1224]\tvalidation_0-rmse:4817.16\tvalidation_1-rmse:5170.11\n",
      "[1225]\tvalidation_0-rmse:4814.01\tvalidation_1-rmse:5166.87\n",
      "[1226]\tvalidation_0-rmse:4813.32\tvalidation_1-rmse:5166.07\n",
      "[1227]\tvalidation_0-rmse:4812.96\tvalidation_1-rmse:5165.58\n",
      "[1228]\tvalidation_0-rmse:4812.14\tvalidation_1-rmse:5164.53\n",
      "[1229]\tvalidation_0-rmse:4809.38\tvalidation_1-rmse:5161.84\n",
      "[1230]\tvalidation_0-rmse:4809.03\tvalidation_1-rmse:5161.52\n",
      "[1231]\tvalidation_0-rmse:4808.27\tvalidation_1-rmse:5161.91\n",
      "[1232]\tvalidation_0-rmse:4808.19\tvalidation_1-rmse:5161.83\n",
      "[1233]\tvalidation_0-rmse:4806.77\tvalidation_1-rmse:5160.38\n",
      "[1234]\tvalidation_0-rmse:4805.58\tvalidation_1-rmse:5159.59\n",
      "[1235]\tvalidation_0-rmse:4804.7\tvalidation_1-rmse:5158.99\n",
      "[1236]\tvalidation_0-rmse:4803.99\tvalidation_1-rmse:5158.44\n",
      "[1237]\tvalidation_0-rmse:4803.04\tvalidation_1-rmse:5157.1\n",
      "[1238]\tvalidation_0-rmse:4801.21\tvalidation_1-rmse:5155.29\n",
      "[1239]\tvalidation_0-rmse:4800.16\tvalidation_1-rmse:5154.68\n",
      "[1240]\tvalidation_0-rmse:4799.5\tvalidation_1-rmse:5153.38\n",
      "[1241]\tvalidation_0-rmse:4798.43\tvalidation_1-rmse:5152.47\n",
      "[1242]\tvalidation_0-rmse:4797.02\tvalidation_1-rmse:5150.37\n",
      "[1243]\tvalidation_0-rmse:4795.92\tvalidation_1-rmse:5149.03\n",
      "[1244]\tvalidation_0-rmse:4795.19\tvalidation_1-rmse:5148.28\n",
      "[1245]\tvalidation_0-rmse:4792.36\tvalidation_1-rmse:5145.96\n",
      "[1246]\tvalidation_0-rmse:4788.9\tvalidation_1-rmse:5142.39\n",
      "[1247]\tvalidation_0-rmse:4787.16\tvalidation_1-rmse:5141.34\n",
      "[1248]\tvalidation_0-rmse:4786.84\tvalidation_1-rmse:5141.47\n",
      "[1249]\tvalidation_0-rmse:4785.76\tvalidation_1-rmse:5139.96\n",
      "[1250]\tvalidation_0-rmse:4784.21\tvalidation_1-rmse:5138.73\n",
      "[1251]\tvalidation_0-rmse:4783.59\tvalidation_1-rmse:5138.1\n",
      "[1252]\tvalidation_0-rmse:4782.98\tvalidation_1-rmse:5137.78\n",
      "[1253]\tvalidation_0-rmse:4782.25\tvalidation_1-rmse:5136.94\n",
      "[1254]\tvalidation_0-rmse:4781.5\tvalidation_1-rmse:5136.27\n",
      "[1255]\tvalidation_0-rmse:4779.97\tvalidation_1-rmse:5133.82\n",
      "[1256]\tvalidation_0-rmse:4778.98\tvalidation_1-rmse:5133.45\n",
      "[1257]\tvalidation_0-rmse:4778.28\tvalidation_1-rmse:5132.92\n",
      "[1258]\tvalidation_0-rmse:4778.17\tvalidation_1-rmse:5133.05\n",
      "[1259]\tvalidation_0-rmse:4777.81\tvalidation_1-rmse:5132.75\n",
      "[1260]\tvalidation_0-rmse:4776.04\tvalidation_1-rmse:5132.51\n",
      "[1261]\tvalidation_0-rmse:4775.48\tvalidation_1-rmse:5132.14\n",
      "[1262]\tvalidation_0-rmse:4774.34\tvalidation_1-rmse:5131.3\n",
      "[1263]\tvalidation_0-rmse:4773.11\tvalidation_1-rmse:5130.63\n",
      "[1264]\tvalidation_0-rmse:4772.48\tvalidation_1-rmse:5129.83\n",
      "[1265]\tvalidation_0-rmse:4771.24\tvalidation_1-rmse:5128.31\n",
      "[1266]\tvalidation_0-rmse:4770.71\tvalidation_1-rmse:5128.44\n",
      "[1267]\tvalidation_0-rmse:4770.39\tvalidation_1-rmse:5128.17\n",
      "[1268]\tvalidation_0-rmse:4770.31\tvalidation_1-rmse:5128.12\n",
      "[1269]\tvalidation_0-rmse:4769.72\tvalidation_1-rmse:5128.24\n",
      "[1270]\tvalidation_0-rmse:4769.19\tvalidation_1-rmse:5127.44\n",
      "[1271]\tvalidation_0-rmse:4767.92\tvalidation_1-rmse:5126.79\n",
      "[1272]\tvalidation_0-rmse:4766.11\tvalidation_1-rmse:5124.69\n",
      "[1273]\tvalidation_0-rmse:4765.42\tvalidation_1-rmse:5123.78\n",
      "[1274]\tvalidation_0-rmse:4763.76\tvalidation_1-rmse:5118.66\n",
      "[1275]\tvalidation_0-rmse:4761.95\tvalidation_1-rmse:5117.33\n"
     ]
    },
    {
     "name": "stdout",
     "output_type": "stream",
     "text": [
      "[1276]\tvalidation_0-rmse:4760.83\tvalidation_1-rmse:5116.68\n",
      "[1277]\tvalidation_0-rmse:4759.97\tvalidation_1-rmse:5115.94\n",
      "[1278]\tvalidation_0-rmse:4758.8\tvalidation_1-rmse:5114.89\n",
      "[1279]\tvalidation_0-rmse:4756.67\tvalidation_1-rmse:5113.12\n",
      "[1280]\tvalidation_0-rmse:4753.25\tvalidation_1-rmse:5109.63\n",
      "[1281]\tvalidation_0-rmse:4752.43\tvalidation_1-rmse:5109.61\n",
      "[1282]\tvalidation_0-rmse:4751.69\tvalidation_1-rmse:5109.03\n",
      "[1283]\tvalidation_0-rmse:4750.43\tvalidation_1-rmse:5107.94\n",
      "[1284]\tvalidation_0-rmse:4749.64\tvalidation_1-rmse:5107.31\n",
      "[1285]\tvalidation_0-rmse:4748.97\tvalidation_1-rmse:5106.7\n",
      "[1286]\tvalidation_0-rmse:4747.65\tvalidation_1-rmse:5105.52\n",
      "[1287]\tvalidation_0-rmse:4746.58\tvalidation_1-rmse:5104.32\n",
      "[1288]\tvalidation_0-rmse:4746.37\tvalidation_1-rmse:5104\n",
      "[1289]\tvalidation_0-rmse:4745.96\tvalidation_1-rmse:5103.8\n",
      "[1290]\tvalidation_0-rmse:4745.58\tvalidation_1-rmse:5102.16\n",
      "[1291]\tvalidation_0-rmse:4745.49\tvalidation_1-rmse:5103.36\n",
      "[1292]\tvalidation_0-rmse:4744.21\tvalidation_1-rmse:5102.19\n",
      "[1293]\tvalidation_0-rmse:4742.97\tvalidation_1-rmse:5102.12\n",
      "[1294]\tvalidation_0-rmse:4742.1\tvalidation_1-rmse:5102.18\n",
      "[1295]\tvalidation_0-rmse:4741.27\tvalidation_1-rmse:5102.71\n",
      "[1296]\tvalidation_0-rmse:4740.4\tvalidation_1-rmse:5101.83\n",
      "[1297]\tvalidation_0-rmse:4740.04\tvalidation_1-rmse:5101.45\n",
      "[1298]\tvalidation_0-rmse:4738.79\tvalidation_1-rmse:5101.41\n",
      "[1299]\tvalidation_0-rmse:4738.57\tvalidation_1-rmse:5101.23\n",
      "[1300]\tvalidation_0-rmse:4738.17\tvalidation_1-rmse:5100.8\n",
      "[1301]\tvalidation_0-rmse:4736.59\tvalidation_1-rmse:5098.43\n",
      "[1302]\tvalidation_0-rmse:4735.84\tvalidation_1-rmse:5098.59\n",
      "[1303]\tvalidation_0-rmse:4735.04\tvalidation_1-rmse:5098.12\n",
      "[1304]\tvalidation_0-rmse:4734.22\tvalidation_1-rmse:5097.35\n",
      "[1305]\tvalidation_0-rmse:4733.03\tvalidation_1-rmse:5096.11\n",
      "[1306]\tvalidation_0-rmse:4732.37\tvalidation_1-rmse:5095.39\n",
      "[1307]\tvalidation_0-rmse:4730.88\tvalidation_1-rmse:5094.28\n",
      "[1308]\tvalidation_0-rmse:4730.55\tvalidation_1-rmse:5094.03\n",
      "[1309]\tvalidation_0-rmse:4729.93\tvalidation_1-rmse:5093.19\n",
      "[1310]\tvalidation_0-rmse:4729.46\tvalidation_1-rmse:5092.87\n",
      "[1311]\tvalidation_0-rmse:4728.62\tvalidation_1-rmse:5092.05\n",
      "[1312]\tvalidation_0-rmse:4727.94\tvalidation_1-rmse:5091.51\n",
      "[1313]\tvalidation_0-rmse:4727.16\tvalidation_1-rmse:5090.77\n",
      "[1314]\tvalidation_0-rmse:4726.99\tvalidation_1-rmse:5090.66\n",
      "[1315]\tvalidation_0-rmse:4726.45\tvalidation_1-rmse:5089.71\n",
      "[1316]\tvalidation_0-rmse:4725.88\tvalidation_1-rmse:5089.46\n",
      "[1317]\tvalidation_0-rmse:4725.51\tvalidation_1-rmse:5089.1\n",
      "[1318]\tvalidation_0-rmse:4724.59\tvalidation_1-rmse:5088.29\n",
      "[1319]\tvalidation_0-rmse:4722.59\tvalidation_1-rmse:5086.39\n",
      "[1320]\tvalidation_0-rmse:4721.98\tvalidation_1-rmse:5085.85\n",
      "[1321]\tvalidation_0-rmse:4719.58\tvalidation_1-rmse:5083.24\n",
      "[1322]\tvalidation_0-rmse:4719.24\tvalidation_1-rmse:5082.87\n",
      "[1323]\tvalidation_0-rmse:4718.33\tvalidation_1-rmse:5081.74\n",
      "[1324]\tvalidation_0-rmse:4717.37\tvalidation_1-rmse:5081.05\n",
      "[1325]\tvalidation_0-rmse:4715.91\tvalidation_1-rmse:5080.03\n",
      "[1326]\tvalidation_0-rmse:4715.69\tvalidation_1-rmse:5079.8\n",
      "[1327]\tvalidation_0-rmse:4714.27\tvalidation_1-rmse:5078.5\n",
      "[1328]\tvalidation_0-rmse:4712.69\tvalidation_1-rmse:5077.92\n",
      "[1329]\tvalidation_0-rmse:4711.7\tvalidation_1-rmse:5076.72\n",
      "[1330]\tvalidation_0-rmse:4710.57\tvalidation_1-rmse:5076.02\n",
      "[1331]\tvalidation_0-rmse:4709.52\tvalidation_1-rmse:5075.09\n",
      "[1332]\tvalidation_0-rmse:4708.18\tvalidation_1-rmse:5075.08\n",
      "[1333]\tvalidation_0-rmse:4705.49\tvalidation_1-rmse:5072.07\n",
      "[1334]\tvalidation_0-rmse:4703.96\tvalidation_1-rmse:5070.74\n",
      "[1335]\tvalidation_0-rmse:4703.22\tvalidation_1-rmse:5070.12\n",
      "[1336]\tvalidation_0-rmse:4702.28\tvalidation_1-rmse:5069.21\n",
      "[1337]\tvalidation_0-rmse:4700.11\tvalidation_1-rmse:5067.57\n",
      "[1338]\tvalidation_0-rmse:4699.65\tvalidation_1-rmse:5065.21\n",
      "[1339]\tvalidation_0-rmse:4699.06\tvalidation_1-rmse:5064.76\n",
      "[1340]\tvalidation_0-rmse:4697.71\tvalidation_1-rmse:5064.06\n",
      "[1341]\tvalidation_0-rmse:4696.78\tvalidation_1-rmse:5063.57\n",
      "[1342]\tvalidation_0-rmse:4695.45\tvalidation_1-rmse:5062.4\n",
      "[1343]\tvalidation_0-rmse:4694.18\tvalidation_1-rmse:5061.48\n",
      "[1344]\tvalidation_0-rmse:4693.01\tvalidation_1-rmse:5060.69\n",
      "[1345]\tvalidation_0-rmse:4691.84\tvalidation_1-rmse:5059.46\n",
      "[1346]\tvalidation_0-rmse:4691.61\tvalidation_1-rmse:5059.51\n",
      "[1347]\tvalidation_0-rmse:4690.72\tvalidation_1-rmse:5058.68\n",
      "[1348]\tvalidation_0-rmse:4688.95\tvalidation_1-rmse:5057.51\n",
      "[1349]\tvalidation_0-rmse:4688.57\tvalidation_1-rmse:5057.19\n",
      "[1350]\tvalidation_0-rmse:4687.97\tvalidation_1-rmse:5057.4\n",
      "[1351]\tvalidation_0-rmse:4687.42\tvalidation_1-rmse:5057.03\n",
      "[1352]\tvalidation_0-rmse:4687.14\tvalidation_1-rmse:5056.89\n",
      "[1353]\tvalidation_0-rmse:4686.03\tvalidation_1-rmse:5056.06\n",
      "[1354]\tvalidation_0-rmse:4684.9\tvalidation_1-rmse:5054.81\n",
      "[1355]\tvalidation_0-rmse:4684.21\tvalidation_1-rmse:5054.26\n",
      "[1356]\tvalidation_0-rmse:4683.81\tvalidation_1-rmse:5053.9\n",
      "[1357]\tvalidation_0-rmse:4683.09\tvalidation_1-rmse:5053.25\n",
      "[1358]\tvalidation_0-rmse:4682.13\tvalidation_1-rmse:5052.32\n",
      "[1359]\tvalidation_0-rmse:4681.54\tvalidation_1-rmse:5051.66\n",
      "[1360]\tvalidation_0-rmse:4680.31\tvalidation_1-rmse:5050.38\n",
      "[1361]\tvalidation_0-rmse:4679.71\tvalidation_1-rmse:5049.93\n",
      "[1362]\tvalidation_0-rmse:4678.76\tvalidation_1-rmse:5049.74\n",
      "[1363]\tvalidation_0-rmse:4677.58\tvalidation_1-rmse:5050\n",
      "[1364]\tvalidation_0-rmse:4677.27\tvalidation_1-rmse:5050.07\n",
      "[1365]\tvalidation_0-rmse:4675.97\tvalidation_1-rmse:5048.88\n",
      "[1366]\tvalidation_0-rmse:4674.75\tvalidation_1-rmse:5047.43\n",
      "[1367]\tvalidation_0-rmse:4672.87\tvalidation_1-rmse:5045.76\n",
      "[1368]\tvalidation_0-rmse:4672.25\tvalidation_1-rmse:5045.17\n",
      "[1369]\tvalidation_0-rmse:4670.39\tvalidation_1-rmse:5043.97\n",
      "[1370]\tvalidation_0-rmse:4669.46\tvalidation_1-rmse:5043.03\n",
      "[1371]\tvalidation_0-rmse:4668.7\tvalidation_1-rmse:5042.14\n",
      "[1372]\tvalidation_0-rmse:4668.31\tvalidation_1-rmse:5041.77\n",
      "[1373]\tvalidation_0-rmse:4668.18\tvalidation_1-rmse:5041.74\n",
      "[1374]\tvalidation_0-rmse:4667.62\tvalidation_1-rmse:5041.06\n",
      "[1375]\tvalidation_0-rmse:4667.23\tvalidation_1-rmse:5040.95\n",
      "[1376]\tvalidation_0-rmse:4666.25\tvalidation_1-rmse:5039.64\n",
      "[1377]\tvalidation_0-rmse:4665.49\tvalidation_1-rmse:5039.13\n",
      "[1378]\tvalidation_0-rmse:4664.64\tvalidation_1-rmse:5038.7\n",
      "[1379]\tvalidation_0-rmse:4664.33\tvalidation_1-rmse:5038.4\n",
      "[1380]\tvalidation_0-rmse:4663.9\tvalidation_1-rmse:5036.08\n",
      "[1381]\tvalidation_0-rmse:4663.33\tvalidation_1-rmse:5035.95\n",
      "[1382]\tvalidation_0-rmse:4662.97\tvalidation_1-rmse:5035.93\n",
      "[1383]\tvalidation_0-rmse:4662.83\tvalidation_1-rmse:5035.78\n",
      "[1384]\tvalidation_0-rmse:4662.11\tvalidation_1-rmse:5035.16\n",
      "[1385]\tvalidation_0-rmse:4661.59\tvalidation_1-rmse:5034.67\n",
      "[1386]\tvalidation_0-rmse:4660.46\tvalidation_1-rmse:5033.36\n",
      "[1387]\tvalidation_0-rmse:4659.64\tvalidation_1-rmse:5032.23\n",
      "[1388]\tvalidation_0-rmse:4658.57\tvalidation_1-rmse:5030.93\n",
      "[1389]\tvalidation_0-rmse:4657.68\tvalidation_1-rmse:5030.36\n",
      "[1390]\tvalidation_0-rmse:4655.77\tvalidation_1-rmse:5028.23\n",
      "[1391]\tvalidation_0-rmse:4654.71\tvalidation_1-rmse:5026.87\n",
      "[1392]\tvalidation_0-rmse:4651.55\tvalidation_1-rmse:5023.76\n",
      "[1393]\tvalidation_0-rmse:4650.04\tvalidation_1-rmse:5022.53\n",
      "[1394]\tvalidation_0-rmse:4649.49\tvalidation_1-rmse:5021.98\n",
      "[1395]\tvalidation_0-rmse:4648.18\tvalidation_1-rmse:5020.49\n",
      "[1396]\tvalidation_0-rmse:4647.96\tvalidation_1-rmse:5020.05\n",
      "[1397]\tvalidation_0-rmse:4647.27\tvalidation_1-rmse:5019.52\n",
      "[1398]\tvalidation_0-rmse:4646.12\tvalidation_1-rmse:5018.51\n",
      "[1399]\tvalidation_0-rmse:4644.86\tvalidation_1-rmse:5017.74\n",
      "[1400]\tvalidation_0-rmse:4644\tvalidation_1-rmse:5016.94\n",
      "[1401]\tvalidation_0-rmse:4643.19\tvalidation_1-rmse:5016.55\n",
      "[1402]\tvalidation_0-rmse:4641.8\tvalidation_1-rmse:5015.52\n",
      "[1403]\tvalidation_0-rmse:4641.31\tvalidation_1-rmse:5015.17\n",
      "[1404]\tvalidation_0-rmse:4639.76\tvalidation_1-rmse:5013.79\n",
      "[1405]\tvalidation_0-rmse:4639.36\tvalidation_1-rmse:5013.23\n",
      "[1406]\tvalidation_0-rmse:4638.53\tvalidation_1-rmse:5012.5\n",
      "[1407]\tvalidation_0-rmse:4638\tvalidation_1-rmse:5012.02\n",
      "[1408]\tvalidation_0-rmse:4637.36\tvalidation_1-rmse:5011.52\n",
      "[1409]\tvalidation_0-rmse:4636.54\tvalidation_1-rmse:5010.6\n",
      "[1410]\tvalidation_0-rmse:4636.03\tvalidation_1-rmse:5010.5\n",
      "[1411]\tvalidation_0-rmse:4635.34\tvalidation_1-rmse:5010.72\n",
      "[1412]\tvalidation_0-rmse:4634.64\tvalidation_1-rmse:5010.12\n",
      "[1413]\tvalidation_0-rmse:4633.35\tvalidation_1-rmse:5009.02\n",
      "[1414]\tvalidation_0-rmse:4632.88\tvalidation_1-rmse:5008.61\n",
      "[1415]\tvalidation_0-rmse:4632.67\tvalidation_1-rmse:5008.46\n"
     ]
    },
    {
     "name": "stdout",
     "output_type": "stream",
     "text": [
      "[1416]\tvalidation_0-rmse:4631.92\tvalidation_1-rmse:5007.46\n",
      "[1417]\tvalidation_0-rmse:4631.03\tvalidation_1-rmse:5006.73\n",
      "[1418]\tvalidation_0-rmse:4630.25\tvalidation_1-rmse:5005.73\n",
      "[1419]\tvalidation_0-rmse:4628.91\tvalidation_1-rmse:5004.45\n",
      "[1420]\tvalidation_0-rmse:4626.86\tvalidation_1-rmse:5001.93\n",
      "[1421]\tvalidation_0-rmse:4626.25\tvalidation_1-rmse:5001.16\n",
      "[1422]\tvalidation_0-rmse:4625.13\tvalidation_1-rmse:4999.82\n",
      "[1423]\tvalidation_0-rmse:4624.44\tvalidation_1-rmse:5000.03\n",
      "[1424]\tvalidation_0-rmse:4623.34\tvalidation_1-rmse:4999.4\n",
      "[1425]\tvalidation_0-rmse:4622.48\tvalidation_1-rmse:4998.79\n",
      "[1426]\tvalidation_0-rmse:4621.67\tvalidation_1-rmse:4998.25\n",
      "[1427]\tvalidation_0-rmse:4621.03\tvalidation_1-rmse:4997.96\n",
      "[1428]\tvalidation_0-rmse:4620.16\tvalidation_1-rmse:4997.52\n",
      "[1429]\tvalidation_0-rmse:4619.57\tvalidation_1-rmse:4996.98\n",
      "[1430]\tvalidation_0-rmse:4618.32\tvalidation_1-rmse:4996.8\n",
      "[1431]\tvalidation_0-rmse:4617.32\tvalidation_1-rmse:4995.93\n",
      "[1432]\tvalidation_0-rmse:4615.97\tvalidation_1-rmse:4995.13\n",
      "[1433]\tvalidation_0-rmse:4615.36\tvalidation_1-rmse:4994.56\n",
      "[1434]\tvalidation_0-rmse:4614.64\tvalidation_1-rmse:4993.86\n",
      "[1435]\tvalidation_0-rmse:4614.25\tvalidation_1-rmse:4993.41\n",
      "[1436]\tvalidation_0-rmse:4613.73\tvalidation_1-rmse:4992.87\n",
      "[1437]\tvalidation_0-rmse:4611.44\tvalidation_1-rmse:4992.55\n",
      "[1438]\tvalidation_0-rmse:4610.8\tvalidation_1-rmse:4991.98\n",
      "[1439]\tvalidation_0-rmse:4609.6\tvalidation_1-rmse:4990.6\n",
      "[1440]\tvalidation_0-rmse:4609.19\tvalidation_1-rmse:4990.36\n",
      "[1441]\tvalidation_0-rmse:4607.19\tvalidation_1-rmse:4988.52\n",
      "[1442]\tvalidation_0-rmse:4606.44\tvalidation_1-rmse:4987.9\n",
      "[1443]\tvalidation_0-rmse:4605.61\tvalidation_1-rmse:4987.02\n",
      "[1444]\tvalidation_0-rmse:4604.58\tvalidation_1-rmse:4986.36\n",
      "[1445]\tvalidation_0-rmse:4604.14\tvalidation_1-rmse:4986.2\n",
      "[1446]\tvalidation_0-rmse:4602.89\tvalidation_1-rmse:4985.2\n",
      "[1447]\tvalidation_0-rmse:4602.43\tvalidation_1-rmse:4985.36\n",
      "[1448]\tvalidation_0-rmse:4601.12\tvalidation_1-rmse:4984.39\n",
      "[1449]\tvalidation_0-rmse:4601.01\tvalidation_1-rmse:4984.51\n",
      "[1450]\tvalidation_0-rmse:4600.27\tvalidation_1-rmse:4983.94\n",
      "[1451]\tvalidation_0-rmse:4599.04\tvalidation_1-rmse:4982.5\n",
      "[1452]\tvalidation_0-rmse:4598.42\tvalidation_1-rmse:4983.19\n",
      "[1453]\tvalidation_0-rmse:4597.13\tvalidation_1-rmse:4982.93\n",
      "[1454]\tvalidation_0-rmse:4596.1\tvalidation_1-rmse:4982.41\n",
      "[1455]\tvalidation_0-rmse:4595.17\tvalidation_1-rmse:4981.39\n",
      "[1456]\tvalidation_0-rmse:4594.1\tvalidation_1-rmse:4980\n",
      "[1457]\tvalidation_0-rmse:4593.01\tvalidation_1-rmse:4979.03\n",
      "[1458]\tvalidation_0-rmse:4591.93\tvalidation_1-rmse:4977.84\n",
      "[1459]\tvalidation_0-rmse:4591.03\tvalidation_1-rmse:4976.66\n",
      "[1460]\tvalidation_0-rmse:4589.35\tvalidation_1-rmse:4975.38\n",
      "[1461]\tvalidation_0-rmse:4588.23\tvalidation_1-rmse:4974.74\n",
      "[1462]\tvalidation_0-rmse:4587.27\tvalidation_1-rmse:4973.86\n",
      "[1463]\tvalidation_0-rmse:4586.36\tvalidation_1-rmse:4973.01\n",
      "[1464]\tvalidation_0-rmse:4585.64\tvalidation_1-rmse:4972.4\n",
      "[1465]\tvalidation_0-rmse:4585.2\tvalidation_1-rmse:4971.97\n",
      "[1466]\tvalidation_0-rmse:4584.62\tvalidation_1-rmse:4971.35\n",
      "[1467]\tvalidation_0-rmse:4584.08\tvalidation_1-rmse:4970.97\n",
      "[1468]\tvalidation_0-rmse:4583.41\tvalidation_1-rmse:4969.45\n",
      "[1469]\tvalidation_0-rmse:4583.24\tvalidation_1-rmse:4969.4\n",
      "[1470]\tvalidation_0-rmse:4582.67\tvalidation_1-rmse:4968.77\n",
      "[1471]\tvalidation_0-rmse:4582.43\tvalidation_1-rmse:4968.72\n",
      "[1472]\tvalidation_0-rmse:4580.66\tvalidation_1-rmse:4967.52\n",
      "[1473]\tvalidation_0-rmse:4579.81\tvalidation_1-rmse:4966.65\n",
      "[1474]\tvalidation_0-rmse:4579.36\tvalidation_1-rmse:4966.01\n",
      "[1475]\tvalidation_0-rmse:4578.87\tvalidation_1-rmse:4965.69\n",
      "[1476]\tvalidation_0-rmse:4577.68\tvalidation_1-rmse:4964.8\n",
      "[1477]\tvalidation_0-rmse:4576.73\tvalidation_1-rmse:4964.81\n",
      "[1478]\tvalidation_0-rmse:4576.05\tvalidation_1-rmse:4964.09\n",
      "[1479]\tvalidation_0-rmse:4574.88\tvalidation_1-rmse:4962.41\n",
      "[1480]\tvalidation_0-rmse:4574.35\tvalidation_1-rmse:4962.08\n",
      "[1481]\tvalidation_0-rmse:4572.58\tvalidation_1-rmse:4961.03\n",
      "[1482]\tvalidation_0-rmse:4572.12\tvalidation_1-rmse:4961.11\n",
      "[1483]\tvalidation_0-rmse:4571.41\tvalidation_1-rmse:4960.84\n",
      "[1484]\tvalidation_0-rmse:4570.58\tvalidation_1-rmse:4960.11\n",
      "[1485]\tvalidation_0-rmse:4569.67\tvalidation_1-rmse:4959.15\n",
      "[1486]\tvalidation_0-rmse:4568.56\tvalidation_1-rmse:4958.2\n",
      "[1487]\tvalidation_0-rmse:4567.67\tvalidation_1-rmse:4957.63\n",
      "[1488]\tvalidation_0-rmse:4566.89\tvalidation_1-rmse:4957.01\n",
      "[1489]\tvalidation_0-rmse:4566.05\tvalidation_1-rmse:4956.36\n",
      "[1490]\tvalidation_0-rmse:4565.55\tvalidation_1-rmse:4956.01\n",
      "[1491]\tvalidation_0-rmse:4564.69\tvalidation_1-rmse:4955.49\n",
      "[1492]\tvalidation_0-rmse:4564.14\tvalidation_1-rmse:4954.98\n",
      "[1493]\tvalidation_0-rmse:4563.39\tvalidation_1-rmse:4954.75\n",
      "[1494]\tvalidation_0-rmse:4562.38\tvalidation_1-rmse:4953.67\n",
      "[1495]\tvalidation_0-rmse:4561.89\tvalidation_1-rmse:4951.71\n",
      "[1496]\tvalidation_0-rmse:4560.68\tvalidation_1-rmse:4950.48\n",
      "[1497]\tvalidation_0-rmse:4559.91\tvalidation_1-rmse:4950.29\n",
      "[1498]\tvalidation_0-rmse:4559.13\tvalidation_1-rmse:4949.58\n",
      "[1499]\tvalidation_0-rmse:4558.46\tvalidation_1-rmse:4948.86\n",
      "[1500]\tvalidation_0-rmse:4557.76\tvalidation_1-rmse:4948.35\n",
      "[1501]\tvalidation_0-rmse:4557.06\tvalidation_1-rmse:4947.62\n",
      "[1502]\tvalidation_0-rmse:4556.58\tvalidation_1-rmse:4947.38\n",
      "[1503]\tvalidation_0-rmse:4555.55\tvalidation_1-rmse:4946.04\n",
      "[1504]\tvalidation_0-rmse:4555.21\tvalidation_1-rmse:4945.66\n",
      "[1505]\tvalidation_0-rmse:4554.87\tvalidation_1-rmse:4945.29\n",
      "[1506]\tvalidation_0-rmse:4553.91\tvalidation_1-rmse:4944.83\n",
      "[1507]\tvalidation_0-rmse:4553.48\tvalidation_1-rmse:4944.39\n",
      "[1508]\tvalidation_0-rmse:4552.96\tvalidation_1-rmse:4943.89\n",
      "[1509]\tvalidation_0-rmse:4551.95\tvalidation_1-rmse:4943.36\n",
      "[1510]\tvalidation_0-rmse:4551.22\tvalidation_1-rmse:4942.61\n",
      "[1511]\tvalidation_0-rmse:4550.57\tvalidation_1-rmse:4942.03\n",
      "[1512]\tvalidation_0-rmse:4549.58\tvalidation_1-rmse:4941.07\n",
      "[1513]\tvalidation_0-rmse:4549.42\tvalidation_1-rmse:4940.93\n",
      "[1514]\tvalidation_0-rmse:4548.91\tvalidation_1-rmse:4940.36\n",
      "[1515]\tvalidation_0-rmse:4548.56\tvalidation_1-rmse:4940.22\n",
      "[1516]\tvalidation_0-rmse:4547.83\tvalidation_1-rmse:4939.66\n",
      "[1517]\tvalidation_0-rmse:4546.77\tvalidation_1-rmse:4938.76\n",
      "[1518]\tvalidation_0-rmse:4545.87\tvalidation_1-rmse:4938.14\n",
      "[1519]\tvalidation_0-rmse:4544.57\tvalidation_1-rmse:4937.17\n",
      "[1520]\tvalidation_0-rmse:4543.95\tvalidation_1-rmse:4936.73\n",
      "[1521]\tvalidation_0-rmse:4543.36\tvalidation_1-rmse:4936.25\n",
      "[1522]\tvalidation_0-rmse:4542.54\tvalidation_1-rmse:4935.5\n",
      "[1523]\tvalidation_0-rmse:4541.41\tvalidation_1-rmse:4934.47\n",
      "[1524]\tvalidation_0-rmse:4540.26\tvalidation_1-rmse:4933.72\n",
      "[1525]\tvalidation_0-rmse:4539.43\tvalidation_1-rmse:4932.79\n",
      "[1526]\tvalidation_0-rmse:4538.53\tvalidation_1-rmse:4932.19\n",
      "[1527]\tvalidation_0-rmse:4537.16\tvalidation_1-rmse:4930.75\n",
      "[1528]\tvalidation_0-rmse:4536.78\tvalidation_1-rmse:4930.46\n",
      "[1529]\tvalidation_0-rmse:4536.25\tvalidation_1-rmse:4929.91\n",
      "[1530]\tvalidation_0-rmse:4535.29\tvalidation_1-rmse:4929.21\n",
      "[1531]\tvalidation_0-rmse:4534.01\tvalidation_1-rmse:4928.02\n",
      "[1532]\tvalidation_0-rmse:4532.83\tvalidation_1-rmse:4926.7\n",
      "[1533]\tvalidation_0-rmse:4531.72\tvalidation_1-rmse:4926.15\n",
      "[1534]\tvalidation_0-rmse:4531.01\tvalidation_1-rmse:4925.39\n",
      "[1535]\tvalidation_0-rmse:4529.97\tvalidation_1-rmse:4924.75\n",
      "[1536]\tvalidation_0-rmse:4529.43\tvalidation_1-rmse:4924.12\n",
      "[1537]\tvalidation_0-rmse:4529.03\tvalidation_1-rmse:4923.73\n",
      "[1538]\tvalidation_0-rmse:4528.55\tvalidation_1-rmse:4923.33\n",
      "[1539]\tvalidation_0-rmse:4527.92\tvalidation_1-rmse:4923.26\n",
      "[1540]\tvalidation_0-rmse:4526.52\tvalidation_1-rmse:4922.34\n",
      "[1541]\tvalidation_0-rmse:4525.97\tvalidation_1-rmse:4921.9\n",
      "[1542]\tvalidation_0-rmse:4523.52\tvalidation_1-rmse:4919.14\n",
      "[1543]\tvalidation_0-rmse:4523.07\tvalidation_1-rmse:4918.72\n",
      "[1544]\tvalidation_0-rmse:4522.94\tvalidation_1-rmse:4918.61\n",
      "[1545]\tvalidation_0-rmse:4522.47\tvalidation_1-rmse:4918.02\n",
      "[1546]\tvalidation_0-rmse:4522.07\tvalidation_1-rmse:4917.44\n",
      "[1547]\tvalidation_0-rmse:4521.44\tvalidation_1-rmse:4916.92\n",
      "[1548]\tvalidation_0-rmse:4520.76\tvalidation_1-rmse:4916.41\n",
      "[1549]\tvalidation_0-rmse:4519.92\tvalidation_1-rmse:4915.74\n",
      "[1550]\tvalidation_0-rmse:4519.35\tvalidation_1-rmse:4915.22\n",
      "[1551]\tvalidation_0-rmse:4518.7\tvalidation_1-rmse:4915.31\n",
      "[1552]\tvalidation_0-rmse:4518.07\tvalidation_1-rmse:4914.77\n",
      "[1553]\tvalidation_0-rmse:4517.37\tvalidation_1-rmse:4913.94\n",
      "[1554]\tvalidation_0-rmse:4516.26\tvalidation_1-rmse:4912.73\n",
      "[1555]\tvalidation_0-rmse:4515.71\tvalidation_1-rmse:4912.21\n"
     ]
    },
    {
     "name": "stdout",
     "output_type": "stream",
     "text": [
      "[1556]\tvalidation_0-rmse:4515.45\tvalidation_1-rmse:4911.91\n",
      "[1557]\tvalidation_0-rmse:4514.33\tvalidation_1-rmse:4910.58\n",
      "[1558]\tvalidation_0-rmse:4513.51\tvalidation_1-rmse:4909.86\n",
      "[1559]\tvalidation_0-rmse:4513.07\tvalidation_1-rmse:4909.22\n",
      "[1560]\tvalidation_0-rmse:4512.6\tvalidation_1-rmse:4908.92\n",
      "[1561]\tvalidation_0-rmse:4511.56\tvalidation_1-rmse:4907.93\n",
      "[1562]\tvalidation_0-rmse:4510.33\tvalidation_1-rmse:4906.63\n",
      "[1563]\tvalidation_0-rmse:4509.82\tvalidation_1-rmse:4906.28\n",
      "[1564]\tvalidation_0-rmse:4509.34\tvalidation_1-rmse:4905.81\n",
      "[1565]\tvalidation_0-rmse:4509.01\tvalidation_1-rmse:4905.54\n",
      "[1566]\tvalidation_0-rmse:4508.3\tvalidation_1-rmse:4904.74\n",
      "[1567]\tvalidation_0-rmse:4507.51\tvalidation_1-rmse:4903.89\n",
      "[1568]\tvalidation_0-rmse:4506.65\tvalidation_1-rmse:4903.27\n",
      "[1569]\tvalidation_0-rmse:4505.61\tvalidation_1-rmse:4902.15\n",
      "[1570]\tvalidation_0-rmse:4504.88\tvalidation_1-rmse:4901.46\n",
      "[1571]\tvalidation_0-rmse:4504.03\tvalidation_1-rmse:4900.63\n",
      "[1572]\tvalidation_0-rmse:4503.67\tvalidation_1-rmse:4900.41\n",
      "[1573]\tvalidation_0-rmse:4502.92\tvalidation_1-rmse:4900.14\n",
      "[1574]\tvalidation_0-rmse:4502.34\tvalidation_1-rmse:4899.61\n",
      "[1575]\tvalidation_0-rmse:4501.43\tvalidation_1-rmse:4899.19\n",
      "[1576]\tvalidation_0-rmse:4500.81\tvalidation_1-rmse:4898.92\n",
      "[1577]\tvalidation_0-rmse:4499.1\tvalidation_1-rmse:4897.65\n",
      "[1578]\tvalidation_0-rmse:4497.72\tvalidation_1-rmse:4895.92\n",
      "[1579]\tvalidation_0-rmse:4496.5\tvalidation_1-rmse:4894.91\n",
      "[1580]\tvalidation_0-rmse:4496.04\tvalidation_1-rmse:4894.66\n",
      "[1581]\tvalidation_0-rmse:4495.11\tvalidation_1-rmse:4893.93\n",
      "[1582]\tvalidation_0-rmse:4494.62\tvalidation_1-rmse:4893.43\n",
      "[1583]\tvalidation_0-rmse:4494.13\tvalidation_1-rmse:4893.6\n",
      "[1584]\tvalidation_0-rmse:4493.66\tvalidation_1-rmse:4894.31\n",
      "[1585]\tvalidation_0-rmse:4493.24\tvalidation_1-rmse:4894.01\n",
      "[1586]\tvalidation_0-rmse:4491.64\tvalidation_1-rmse:4892.92\n",
      "[1587]\tvalidation_0-rmse:4490.98\tvalidation_1-rmse:4892.39\n",
      "[1588]\tvalidation_0-rmse:4488.42\tvalidation_1-rmse:4891.3\n",
      "[1589]\tvalidation_0-rmse:4487.46\tvalidation_1-rmse:4889.58\n",
      "[1590]\tvalidation_0-rmse:4486.86\tvalidation_1-rmse:4889.63\n",
      "[1591]\tvalidation_0-rmse:4483.78\tvalidation_1-rmse:4888.45\n",
      "[1592]\tvalidation_0-rmse:4483.33\tvalidation_1-rmse:4887.95\n",
      "[1593]\tvalidation_0-rmse:4482.92\tvalidation_1-rmse:4887.63\n",
      "[1594]\tvalidation_0-rmse:4482.52\tvalidation_1-rmse:4888.47\n",
      "[1595]\tvalidation_0-rmse:4482.38\tvalidation_1-rmse:4888.54\n",
      "[1596]\tvalidation_0-rmse:4481.75\tvalidation_1-rmse:4888.04\n",
      "[1597]\tvalidation_0-rmse:4480.63\tvalidation_1-rmse:4887.1\n",
      "[1598]\tvalidation_0-rmse:4479.52\tvalidation_1-rmse:4885.85\n",
      "[1599]\tvalidation_0-rmse:4479.13\tvalidation_1-rmse:4886.22\n",
      "[1600]\tvalidation_0-rmse:4478.64\tvalidation_1-rmse:4886.54\n",
      "[1601]\tvalidation_0-rmse:4478.46\tvalidation_1-rmse:4886.42\n",
      "[1602]\tvalidation_0-rmse:4477.71\tvalidation_1-rmse:4885.7\n",
      "[1603]\tvalidation_0-rmse:4475.78\tvalidation_1-rmse:4883.81\n",
      "[1604]\tvalidation_0-rmse:4475.51\tvalidation_1-rmse:4883.53\n",
      "[1605]\tvalidation_0-rmse:4474.16\tvalidation_1-rmse:4882.27\n",
      "[1606]\tvalidation_0-rmse:4473.21\tvalidation_1-rmse:4881.46\n",
      "[1607]\tvalidation_0-rmse:4471.99\tvalidation_1-rmse:4880.14\n",
      "[1608]\tvalidation_0-rmse:4471.33\tvalidation_1-rmse:4877.69\n",
      "[1609]\tvalidation_0-rmse:4470.14\tvalidation_1-rmse:4876.49\n",
      "[1610]\tvalidation_0-rmse:4469.66\tvalidation_1-rmse:4876.3\n",
      "[1611]\tvalidation_0-rmse:4468.42\tvalidation_1-rmse:4875.39\n",
      "[1612]\tvalidation_0-rmse:4467.78\tvalidation_1-rmse:4874.75\n",
      "[1613]\tvalidation_0-rmse:4467.57\tvalidation_1-rmse:4874.61\n",
      "[1614]\tvalidation_0-rmse:4467\tvalidation_1-rmse:4874.19\n",
      "[1615]\tvalidation_0-rmse:4466.64\tvalidation_1-rmse:4874.83\n",
      "[1616]\tvalidation_0-rmse:4466.23\tvalidation_1-rmse:4875.49\n",
      "[1617]\tvalidation_0-rmse:4465.39\tvalidation_1-rmse:4874.55\n",
      "[1618]\tvalidation_0-rmse:4464.84\tvalidation_1-rmse:4874.09\n",
      "[1619]\tvalidation_0-rmse:4464.28\tvalidation_1-rmse:4873.47\n",
      "[1620]\tvalidation_0-rmse:4463.79\tvalidation_1-rmse:4873.11\n",
      "[1621]\tvalidation_0-rmse:4462.85\tvalidation_1-rmse:4872.14\n",
      "[1622]\tvalidation_0-rmse:4461.98\tvalidation_1-rmse:4871.04\n",
      "[1623]\tvalidation_0-rmse:4461.16\tvalidation_1-rmse:4870.42\n",
      "[1624]\tvalidation_0-rmse:4460.92\tvalidation_1-rmse:4870.6\n",
      "[1625]\tvalidation_0-rmse:4460.29\tvalidation_1-rmse:4870.24\n",
      "[1626]\tvalidation_0-rmse:4459.89\tvalidation_1-rmse:4869.7\n",
      "[1627]\tvalidation_0-rmse:4459.1\tvalidation_1-rmse:4868.81\n",
      "[1628]\tvalidation_0-rmse:4459\tvalidation_1-rmse:4868.78\n",
      "[1629]\tvalidation_0-rmse:4458.23\tvalidation_1-rmse:4867.86\n",
      "[1630]\tvalidation_0-rmse:4457.69\tvalidation_1-rmse:4867.51\n",
      "[1631]\tvalidation_0-rmse:4456.47\tvalidation_1-rmse:4866.64\n",
      "[1632]\tvalidation_0-rmse:4456.08\tvalidation_1-rmse:4866.18\n",
      "[1633]\tvalidation_0-rmse:4455.44\tvalidation_1-rmse:4865.68\n",
      "[1634]\tvalidation_0-rmse:4455.05\tvalidation_1-rmse:4864.61\n",
      "[1635]\tvalidation_0-rmse:4454.09\tvalidation_1-rmse:4863.19\n",
      "[1636]\tvalidation_0-rmse:4452.62\tvalidation_1-rmse:4862.07\n",
      "[1637]\tvalidation_0-rmse:4452.25\tvalidation_1-rmse:4861.47\n",
      "[1638]\tvalidation_0-rmse:4451.85\tvalidation_1-rmse:4861.17\n",
      "[1639]\tvalidation_0-rmse:4451.48\tvalidation_1-rmse:4860.88\n",
      "[1640]\tvalidation_0-rmse:4451.3\tvalidation_1-rmse:4860.66\n",
      "[1641]\tvalidation_0-rmse:4450.97\tvalidation_1-rmse:4860.36\n",
      "[1642]\tvalidation_0-rmse:4450.39\tvalidation_1-rmse:4859.78\n",
      "[1643]\tvalidation_0-rmse:4449.82\tvalidation_1-rmse:4859.26\n",
      "[1644]\tvalidation_0-rmse:4449.22\tvalidation_1-rmse:4858.58\n",
      "[1645]\tvalidation_0-rmse:4448.49\tvalidation_1-rmse:4857.9\n",
      "[1646]\tvalidation_0-rmse:4447.66\tvalidation_1-rmse:4857.12\n",
      "[1647]\tvalidation_0-rmse:4446.1\tvalidation_1-rmse:4856.28\n",
      "[1648]\tvalidation_0-rmse:4445.34\tvalidation_1-rmse:4855.75\n",
      "[1649]\tvalidation_0-rmse:4444.53\tvalidation_1-rmse:4855.06\n",
      "[1650]\tvalidation_0-rmse:4443.51\tvalidation_1-rmse:4854.3\n",
      "[1651]\tvalidation_0-rmse:4443.43\tvalidation_1-rmse:4854.2\n",
      "[1652]\tvalidation_0-rmse:4443.21\tvalidation_1-rmse:4854.1\n",
      "[1653]\tvalidation_0-rmse:4442.54\tvalidation_1-rmse:4853.35\n",
      "[1654]\tvalidation_0-rmse:4441.75\tvalidation_1-rmse:4852.74\n",
      "[1655]\tvalidation_0-rmse:4441.17\tvalidation_1-rmse:4852.3\n",
      "[1656]\tvalidation_0-rmse:4440.48\tvalidation_1-rmse:4851.65\n",
      "[1657]\tvalidation_0-rmse:4440.17\tvalidation_1-rmse:4852.39\n",
      "[1658]\tvalidation_0-rmse:4439.85\tvalidation_1-rmse:4852.49\n",
      "[1659]\tvalidation_0-rmse:4439.13\tvalidation_1-rmse:4851.84\n",
      "[1660]\tvalidation_0-rmse:4438.42\tvalidation_1-rmse:4851.2\n",
      "[1661]\tvalidation_0-rmse:4437.3\tvalidation_1-rmse:4850.21\n",
      "[1662]\tvalidation_0-rmse:4436.74\tvalidation_1-rmse:4849.81\n",
      "[1663]\tvalidation_0-rmse:4436.12\tvalidation_1-rmse:4849\n",
      "[1664]\tvalidation_0-rmse:4435.47\tvalidation_1-rmse:4848.48\n",
      "[1665]\tvalidation_0-rmse:4435.13\tvalidation_1-rmse:4848.21\n",
      "[1666]\tvalidation_0-rmse:4434.33\tvalidation_1-rmse:4847.59\n",
      "[1667]\tvalidation_0-rmse:4433.51\tvalidation_1-rmse:4846.83\n",
      "[1668]\tvalidation_0-rmse:4433.02\tvalidation_1-rmse:4846.03\n",
      "[1669]\tvalidation_0-rmse:4431.84\tvalidation_1-rmse:4844.99\n",
      "[1670]\tvalidation_0-rmse:4429.84\tvalidation_1-rmse:4843.32\n",
      "[1671]\tvalidation_0-rmse:4428.39\tvalidation_1-rmse:4841.24\n",
      "[1672]\tvalidation_0-rmse:4428.09\tvalidation_1-rmse:4841.05\n",
      "[1673]\tvalidation_0-rmse:4426.98\tvalidation_1-rmse:4838.45\n",
      "[1674]\tvalidation_0-rmse:4426.86\tvalidation_1-rmse:4838.39\n",
      "[1675]\tvalidation_0-rmse:4426.51\tvalidation_1-rmse:4839.43\n",
      "[1676]\tvalidation_0-rmse:4425.96\tvalidation_1-rmse:4838.91\n",
      "[1677]\tvalidation_0-rmse:4425.6\tvalidation_1-rmse:4838.55\n",
      "[1678]\tvalidation_0-rmse:4424.57\tvalidation_1-rmse:4837.77\n",
      "[1679]\tvalidation_0-rmse:4423.47\tvalidation_1-rmse:4836.9\n",
      "[1680]\tvalidation_0-rmse:4422.94\tvalidation_1-rmse:4836.15\n",
      "[1681]\tvalidation_0-rmse:4421.82\tvalidation_1-rmse:4835.02\n",
      "[1682]\tvalidation_0-rmse:4421.17\tvalidation_1-rmse:4834.41\n",
      "[1683]\tvalidation_0-rmse:4420.81\tvalidation_1-rmse:4833.97\n",
      "[1684]\tvalidation_0-rmse:4420.03\tvalidation_1-rmse:4833.22\n",
      "[1685]\tvalidation_0-rmse:4419.54\tvalidation_1-rmse:4832.42\n",
      "[1686]\tvalidation_0-rmse:4418.67\tvalidation_1-rmse:4831.37\n",
      "[1687]\tvalidation_0-rmse:4417.44\tvalidation_1-rmse:4831.7\n",
      "[1688]\tvalidation_0-rmse:4416.66\tvalidation_1-rmse:4831.26\n",
      "[1689]\tvalidation_0-rmse:4416\tvalidation_1-rmse:4830.36\n",
      "[1690]\tvalidation_0-rmse:4415.43\tvalidation_1-rmse:4829.75\n",
      "[1691]\tvalidation_0-rmse:4414.15\tvalidation_1-rmse:4828.61\n",
      "[1692]\tvalidation_0-rmse:4413.66\tvalidation_1-rmse:4828.22\n",
      "[1693]\tvalidation_0-rmse:4413.18\tvalidation_1-rmse:4827.72\n",
      "[1694]\tvalidation_0-rmse:4412.37\tvalidation_1-rmse:4828.01\n",
      "[1695]\tvalidation_0-rmse:4411.9\tvalidation_1-rmse:4827.4\n"
     ]
    },
    {
     "name": "stdout",
     "output_type": "stream",
     "text": [
      "[1696]\tvalidation_0-rmse:4411.42\tvalidation_1-rmse:4826.87\n",
      "[1697]\tvalidation_0-rmse:4411.3\tvalidation_1-rmse:4826.76\n",
      "[1698]\tvalidation_0-rmse:4410.04\tvalidation_1-rmse:4825.89\n",
      "[1699]\tvalidation_0-rmse:4409.59\tvalidation_1-rmse:4825.62\n",
      "[1700]\tvalidation_0-rmse:4408.77\tvalidation_1-rmse:4824.98\n",
      "[1701]\tvalidation_0-rmse:4408.62\tvalidation_1-rmse:4824.93\n",
      "[1702]\tvalidation_0-rmse:4407.7\tvalidation_1-rmse:4824.38\n",
      "[1703]\tvalidation_0-rmse:4406.34\tvalidation_1-rmse:4823.04\n",
      "[1704]\tvalidation_0-rmse:4405.32\tvalidation_1-rmse:4821.61\n",
      "[1705]\tvalidation_0-rmse:4404.92\tvalidation_1-rmse:4821.53\n",
      "[1706]\tvalidation_0-rmse:4404.29\tvalidation_1-rmse:4820.81\n",
      "[1707]\tvalidation_0-rmse:4403.88\tvalidation_1-rmse:4820.6\n",
      "[1708]\tvalidation_0-rmse:4403.36\tvalidation_1-rmse:4819.99\n",
      "[1709]\tvalidation_0-rmse:4402.84\tvalidation_1-rmse:4819.47\n",
      "[1710]\tvalidation_0-rmse:4402.47\tvalidation_1-rmse:4819.12\n",
      "[1711]\tvalidation_0-rmse:4402.34\tvalidation_1-rmse:4818.94\n",
      "[1712]\tvalidation_0-rmse:4401.57\tvalidation_1-rmse:4818.21\n",
      "[1713]\tvalidation_0-rmse:4400.73\tvalidation_1-rmse:4817.29\n",
      "[1714]\tvalidation_0-rmse:4399.41\tvalidation_1-rmse:4816.15\n",
      "[1715]\tvalidation_0-rmse:4398.97\tvalidation_1-rmse:4815.44\n",
      "[1716]\tvalidation_0-rmse:4398.43\tvalidation_1-rmse:4814.94\n",
      "[1717]\tvalidation_0-rmse:4398.06\tvalidation_1-rmse:4814.82\n",
      "[1718]\tvalidation_0-rmse:4397.33\tvalidation_1-rmse:4813.96\n",
      "[1719]\tvalidation_0-rmse:4396.88\tvalidation_1-rmse:4813.78\n",
      "[1720]\tvalidation_0-rmse:4396.37\tvalidation_1-rmse:4813.43\n",
      "[1721]\tvalidation_0-rmse:4395.8\tvalidation_1-rmse:4812.91\n",
      "[1722]\tvalidation_0-rmse:4394.91\tvalidation_1-rmse:4812.31\n",
      "[1723]\tvalidation_0-rmse:4394.58\tvalidation_1-rmse:4812.13\n",
      "[1724]\tvalidation_0-rmse:4394.43\tvalidation_1-rmse:4812.01\n",
      "[1725]\tvalidation_0-rmse:4394.12\tvalidation_1-rmse:4811.73\n",
      "[1726]\tvalidation_0-rmse:4393.95\tvalidation_1-rmse:4810.37\n",
      "[1727]\tvalidation_0-rmse:4393.3\tvalidation_1-rmse:4810\n",
      "[1728]\tvalidation_0-rmse:4392.78\tvalidation_1-rmse:4809.48\n",
      "[1729]\tvalidation_0-rmse:4392.08\tvalidation_1-rmse:4809.11\n",
      "[1730]\tvalidation_0-rmse:4391\tvalidation_1-rmse:4808.01\n",
      "[1731]\tvalidation_0-rmse:4390.23\tvalidation_1-rmse:4807.43\n",
      "[1732]\tvalidation_0-rmse:4389.27\tvalidation_1-rmse:4806.95\n",
      "[1733]\tvalidation_0-rmse:4388.55\tvalidation_1-rmse:4806.06\n",
      "[1734]\tvalidation_0-rmse:4388.08\tvalidation_1-rmse:4805.54\n",
      "[1735]\tvalidation_0-rmse:4387.37\tvalidation_1-rmse:4804.7\n",
      "[1736]\tvalidation_0-rmse:4387.03\tvalidation_1-rmse:4803.7\n",
      "[1737]\tvalidation_0-rmse:4386.66\tvalidation_1-rmse:4803.6\n",
      "[1738]\tvalidation_0-rmse:4385.75\tvalidation_1-rmse:4802.92\n",
      "[1739]\tvalidation_0-rmse:4385.24\tvalidation_1-rmse:4802.37\n",
      "[1740]\tvalidation_0-rmse:4383.27\tvalidation_1-rmse:4801.68\n",
      "[1741]\tvalidation_0-rmse:4382.58\tvalidation_1-rmse:4801.15\n",
      "[1742]\tvalidation_0-rmse:4381.66\tvalidation_1-rmse:4800.15\n",
      "[1743]\tvalidation_0-rmse:4380.85\tvalidation_1-rmse:4799.78\n",
      "[1744]\tvalidation_0-rmse:4380.38\tvalidation_1-rmse:4799.85\n",
      "[1745]\tvalidation_0-rmse:4378.88\tvalidation_1-rmse:4798.18\n",
      "[1746]\tvalidation_0-rmse:4378.32\tvalidation_1-rmse:4797.91\n",
      "[1747]\tvalidation_0-rmse:4377.35\tvalidation_1-rmse:4797.35\n",
      "[1748]\tvalidation_0-rmse:4376.8\tvalidation_1-rmse:4796.68\n",
      "[1749]\tvalidation_0-rmse:4375.97\tvalidation_1-rmse:4796.07\n",
      "[1750]\tvalidation_0-rmse:4375.46\tvalidation_1-rmse:4795.48\n",
      "[1751]\tvalidation_0-rmse:4374.91\tvalidation_1-rmse:4794.87\n",
      "[1752]\tvalidation_0-rmse:4374.09\tvalidation_1-rmse:4794.05\n",
      "[1753]\tvalidation_0-rmse:4372.99\tvalidation_1-rmse:4792.81\n",
      "[1754]\tvalidation_0-rmse:4372.4\tvalidation_1-rmse:4792.23\n",
      "[1755]\tvalidation_0-rmse:4371.58\tvalidation_1-rmse:4791.52\n",
      "[1756]\tvalidation_0-rmse:4371.23\tvalidation_1-rmse:4791.27\n",
      "[1757]\tvalidation_0-rmse:4370.69\tvalidation_1-rmse:4790.72\n",
      "[1758]\tvalidation_0-rmse:4370.11\tvalidation_1-rmse:4789.97\n",
      "[1759]\tvalidation_0-rmse:4368.27\tvalidation_1-rmse:4788.21\n",
      "[1760]\tvalidation_0-rmse:4367.44\tvalidation_1-rmse:4787.47\n",
      "[1761]\tvalidation_0-rmse:4367.29\tvalidation_1-rmse:4787.26\n",
      "[1762]\tvalidation_0-rmse:4366.81\tvalidation_1-rmse:4786.79\n",
      "[1763]\tvalidation_0-rmse:4365.52\tvalidation_1-rmse:4785.76\n",
      "[1764]\tvalidation_0-rmse:4364.78\tvalidation_1-rmse:4784.93\n",
      "[1765]\tvalidation_0-rmse:4364.38\tvalidation_1-rmse:4784.56\n",
      "[1766]\tvalidation_0-rmse:4363.87\tvalidation_1-rmse:4784.25\n",
      "[1767]\tvalidation_0-rmse:4362.94\tvalidation_1-rmse:4783.4\n",
      "[1768]\tvalidation_0-rmse:4361.59\tvalidation_1-rmse:4782.49\n",
      "[1769]\tvalidation_0-rmse:4361.04\tvalidation_1-rmse:4781.95\n",
      "[1770]\tvalidation_0-rmse:4360.37\tvalidation_1-rmse:4781.36\n",
      "[1771]\tvalidation_0-rmse:4360.09\tvalidation_1-rmse:4781.43\n",
      "[1772]\tvalidation_0-rmse:4359.29\tvalidation_1-rmse:4780.53\n",
      "[1773]\tvalidation_0-rmse:4358.8\tvalidation_1-rmse:4779.88\n",
      "[1774]\tvalidation_0-rmse:4358.13\tvalidation_1-rmse:4779.24\n",
      "[1775]\tvalidation_0-rmse:4357.32\tvalidation_1-rmse:4778.75\n",
      "[1776]\tvalidation_0-rmse:4356.61\tvalidation_1-rmse:4778.45\n",
      "[1777]\tvalidation_0-rmse:4355.73\tvalidation_1-rmse:4777.61\n",
      "[1778]\tvalidation_0-rmse:4355.41\tvalidation_1-rmse:4777.34\n",
      "[1779]\tvalidation_0-rmse:4354.21\tvalidation_1-rmse:4776.31\n",
      "[1780]\tvalidation_0-rmse:4353.7\tvalidation_1-rmse:4775.9\n",
      "[1781]\tvalidation_0-rmse:4352.36\tvalidation_1-rmse:4775.04\n",
      "[1782]\tvalidation_0-rmse:4351.9\tvalidation_1-rmse:4774.6\n",
      "[1783]\tvalidation_0-rmse:4351.57\tvalidation_1-rmse:4774.39\n",
      "[1784]\tvalidation_0-rmse:4351.02\tvalidation_1-rmse:4773.9\n",
      "[1785]\tvalidation_0-rmse:4350.63\tvalidation_1-rmse:4773.37\n",
      "[1786]\tvalidation_0-rmse:4349.96\tvalidation_1-rmse:4772.88\n",
      "[1787]\tvalidation_0-rmse:4349.2\tvalidation_1-rmse:4772.24\n",
      "[1788]\tvalidation_0-rmse:4348.5\tvalidation_1-rmse:4771.51\n",
      "[1789]\tvalidation_0-rmse:4347.74\tvalidation_1-rmse:4770.83\n",
      "[1790]\tvalidation_0-rmse:4347.09\tvalidation_1-rmse:4770.38\n",
      "[1791]\tvalidation_0-rmse:4346.11\tvalidation_1-rmse:4769.41\n",
      "[1792]\tvalidation_0-rmse:4345.54\tvalidation_1-rmse:4768.77\n",
      "[1793]\tvalidation_0-rmse:4344.99\tvalidation_1-rmse:4768.24\n",
      "[1794]\tvalidation_0-rmse:4343.17\tvalidation_1-rmse:4767.06\n",
      "[1795]\tvalidation_0-rmse:4342.28\tvalidation_1-rmse:4766.51\n",
      "[1796]\tvalidation_0-rmse:4341.57\tvalidation_1-rmse:4765.97\n",
      "[1797]\tvalidation_0-rmse:4340.53\tvalidation_1-rmse:4764.16\n",
      "[1798]\tvalidation_0-rmse:4339.74\tvalidation_1-rmse:4763.07\n",
      "[1799]\tvalidation_0-rmse:4338.73\tvalidation_1-rmse:4762.38\n",
      "[1800]\tvalidation_0-rmse:4338.18\tvalidation_1-rmse:4759.7\n",
      "[1801]\tvalidation_0-rmse:4337.52\tvalidation_1-rmse:4759.02\n",
      "[1802]\tvalidation_0-rmse:4337.18\tvalidation_1-rmse:4758.49\n",
      "[1803]\tvalidation_0-rmse:4336.84\tvalidation_1-rmse:4758.16\n",
      "[1804]\tvalidation_0-rmse:4336.04\tvalidation_1-rmse:4757.38\n",
      "[1805]\tvalidation_0-rmse:4335.39\tvalidation_1-rmse:4757.35\n",
      "[1806]\tvalidation_0-rmse:4334.75\tvalidation_1-rmse:4756.74\n",
      "[1807]\tvalidation_0-rmse:4334.32\tvalidation_1-rmse:4757.14\n",
      "[1808]\tvalidation_0-rmse:4333.66\tvalidation_1-rmse:4756.64\n",
      "[1809]\tvalidation_0-rmse:4333.19\tvalidation_1-rmse:4756.53\n",
      "[1810]\tvalidation_0-rmse:4332.45\tvalidation_1-rmse:4755.96\n",
      "[1811]\tvalidation_0-rmse:4331.99\tvalidation_1-rmse:4755.7\n",
      "[1812]\tvalidation_0-rmse:4330.92\tvalidation_1-rmse:4755.29\n",
      "[1813]\tvalidation_0-rmse:4330.45\tvalidation_1-rmse:4754.85\n",
      "[1814]\tvalidation_0-rmse:4329.62\tvalidation_1-rmse:4753.83\n",
      "[1815]\tvalidation_0-rmse:4326.41\tvalidation_1-rmse:4750.88\n",
      "[1816]\tvalidation_0-rmse:4325.86\tvalidation_1-rmse:4750.38\n",
      "[1817]\tvalidation_0-rmse:4324.66\tvalidation_1-rmse:4749.56\n",
      "[1818]\tvalidation_0-rmse:4323.87\tvalidation_1-rmse:4748.85\n",
      "[1819]\tvalidation_0-rmse:4323.46\tvalidation_1-rmse:4748.58\n",
      "[1820]\tvalidation_0-rmse:4322.97\tvalidation_1-rmse:4748.41\n",
      "[1821]\tvalidation_0-rmse:4322.01\tvalidation_1-rmse:4747.58\n",
      "[1822]\tvalidation_0-rmse:4320.39\tvalidation_1-rmse:4745.99\n",
      "[1823]\tvalidation_0-rmse:4319.14\tvalidation_1-rmse:4746\n",
      "[1824]\tvalidation_0-rmse:4318.34\tvalidation_1-rmse:4747.7\n",
      "[1825]\tvalidation_0-rmse:4317.72\tvalidation_1-rmse:4746.82\n",
      "[1826]\tvalidation_0-rmse:4317.3\tvalidation_1-rmse:4746.48\n",
      "[1827]\tvalidation_0-rmse:4316.58\tvalidation_1-rmse:4746.05\n",
      "[1828]\tvalidation_0-rmse:4315.63\tvalidation_1-rmse:4745.33\n",
      "[1829]\tvalidation_0-rmse:4315.28\tvalidation_1-rmse:4745.07\n",
      "[1830]\tvalidation_0-rmse:4315.03\tvalidation_1-rmse:4744.83\n",
      "[1831]\tvalidation_0-rmse:4314.12\tvalidation_1-rmse:4744.26\n",
      "[1832]\tvalidation_0-rmse:4313.55\tvalidation_1-rmse:4744.02\n",
      "[1833]\tvalidation_0-rmse:4312.62\tvalidation_1-rmse:4743.27\n",
      "[1834]\tvalidation_0-rmse:4312.12\tvalidation_1-rmse:4742.63\n",
      "[1835]\tvalidation_0-rmse:4311.64\tvalidation_1-rmse:4742.26\n"
     ]
    },
    {
     "name": "stdout",
     "output_type": "stream",
     "text": [
      "[1836]\tvalidation_0-rmse:4310.96\tvalidation_1-rmse:4741.86\n",
      "[1837]\tvalidation_0-rmse:4310.07\tvalidation_1-rmse:4741.17\n",
      "[1838]\tvalidation_0-rmse:4309.9\tvalidation_1-rmse:4741.02\n",
      "[1839]\tvalidation_0-rmse:4308.57\tvalidation_1-rmse:4739.88\n",
      "[1840]\tvalidation_0-rmse:4307.95\tvalidation_1-rmse:4739.86\n",
      "[1841]\tvalidation_0-rmse:4307.42\tvalidation_1-rmse:4739.45\n",
      "[1842]\tvalidation_0-rmse:4306.74\tvalidation_1-rmse:4739.08\n",
      "[1843]\tvalidation_0-rmse:4306\tvalidation_1-rmse:4738.56\n",
      "[1844]\tvalidation_0-rmse:4305.73\tvalidation_1-rmse:4738.3\n",
      "[1845]\tvalidation_0-rmse:4304.86\tvalidation_1-rmse:4737.75\n",
      "[1846]\tvalidation_0-rmse:4304.03\tvalidation_1-rmse:4737.49\n",
      "[1847]\tvalidation_0-rmse:4302.48\tvalidation_1-rmse:4737.52\n",
      "[1848]\tvalidation_0-rmse:4302.38\tvalidation_1-rmse:4737.43\n",
      "[1849]\tvalidation_0-rmse:4301.66\tvalidation_1-rmse:4736.75\n",
      "[1850]\tvalidation_0-rmse:4301.26\tvalidation_1-rmse:4736.45\n",
      "[1851]\tvalidation_0-rmse:4300.52\tvalidation_1-rmse:4735.95\n",
      "[1852]\tvalidation_0-rmse:4299.9\tvalidation_1-rmse:4735.75\n",
      "[1853]\tvalidation_0-rmse:4299.72\tvalidation_1-rmse:4735.67\n",
      "[1854]\tvalidation_0-rmse:4299.34\tvalidation_1-rmse:4735.46\n",
      "[1855]\tvalidation_0-rmse:4299.1\tvalidation_1-rmse:4735.27\n",
      "[1856]\tvalidation_0-rmse:4298.92\tvalidation_1-rmse:4735.09\n",
      "[1857]\tvalidation_0-rmse:4298.57\tvalidation_1-rmse:4734.94\n",
      "[1858]\tvalidation_0-rmse:4298.46\tvalidation_1-rmse:4734.81\n",
      "[1859]\tvalidation_0-rmse:4298.03\tvalidation_1-rmse:4734.38\n",
      "[1860]\tvalidation_0-rmse:4297.54\tvalidation_1-rmse:4734\n",
      "[1861]\tvalidation_0-rmse:4297.35\tvalidation_1-rmse:4734.02\n",
      "[1862]\tvalidation_0-rmse:4297.04\tvalidation_1-rmse:4733.87\n",
      "[1863]\tvalidation_0-rmse:4296.7\tvalidation_1-rmse:4733.55\n",
      "[1864]\tvalidation_0-rmse:4296.52\tvalidation_1-rmse:4733.35\n",
      "[1865]\tvalidation_0-rmse:4296.11\tvalidation_1-rmse:4733.1\n",
      "[1866]\tvalidation_0-rmse:4295.32\tvalidation_1-rmse:4732.16\n",
      "[1867]\tvalidation_0-rmse:4294.9\tvalidation_1-rmse:4731.91\n",
      "[1868]\tvalidation_0-rmse:4294.78\tvalidation_1-rmse:4731.78\n",
      "[1869]\tvalidation_0-rmse:4293.76\tvalidation_1-rmse:4731.05\n",
      "[1870]\tvalidation_0-rmse:4293.15\tvalidation_1-rmse:4730.67\n",
      "[1871]\tvalidation_0-rmse:4292.67\tvalidation_1-rmse:4730.19\n",
      "[1872]\tvalidation_0-rmse:4292.1\tvalidation_1-rmse:4729.72\n",
      "[1873]\tvalidation_0-rmse:4291.48\tvalidation_1-rmse:4729\n",
      "[1874]\tvalidation_0-rmse:4290.79\tvalidation_1-rmse:4728.49\n",
      "[1875]\tvalidation_0-rmse:4289.77\tvalidation_1-rmse:4727.6\n",
      "[1876]\tvalidation_0-rmse:4289.43\tvalidation_1-rmse:4727.21\n",
      "[1877]\tvalidation_0-rmse:4288.95\tvalidation_1-rmse:4726.79\n",
      "[1878]\tvalidation_0-rmse:4288.4\tvalidation_1-rmse:4726.29\n",
      "[1879]\tvalidation_0-rmse:4288.15\tvalidation_1-rmse:4726.11\n",
      "[1880]\tvalidation_0-rmse:4287.25\tvalidation_1-rmse:4725.88\n",
      "[1881]\tvalidation_0-rmse:4286.57\tvalidation_1-rmse:4725.31\n",
      "[1882]\tvalidation_0-rmse:4286.15\tvalidation_1-rmse:4725.06\n",
      "[1883]\tvalidation_0-rmse:4285.77\tvalidation_1-rmse:4724.82\n",
      "[1884]\tvalidation_0-rmse:4285.47\tvalidation_1-rmse:4724.6\n",
      "[1885]\tvalidation_0-rmse:4285.02\tvalidation_1-rmse:4724.15\n",
      "[1886]\tvalidation_0-rmse:4284.37\tvalidation_1-rmse:4723.57\n",
      "[1887]\tvalidation_0-rmse:4283.96\tvalidation_1-rmse:4723.16\n",
      "[1888]\tvalidation_0-rmse:4283.61\tvalidation_1-rmse:4723.15\n",
      "[1889]\tvalidation_0-rmse:4283.18\tvalidation_1-rmse:4722.93\n",
      "[1890]\tvalidation_0-rmse:4282.46\tvalidation_1-rmse:4722.33\n",
      "[1891]\tvalidation_0-rmse:4282.04\tvalidation_1-rmse:4721.99\n",
      "[1892]\tvalidation_0-rmse:4281.61\tvalidation_1-rmse:4721.64\n",
      "[1893]\tvalidation_0-rmse:4281.16\tvalidation_1-rmse:4721.28\n",
      "[1894]\tvalidation_0-rmse:4280.51\tvalidation_1-rmse:4720.63\n",
      "[1895]\tvalidation_0-rmse:4279.19\tvalidation_1-rmse:4717.86\n",
      "[1896]\tvalidation_0-rmse:4278.52\tvalidation_1-rmse:4717.08\n",
      "[1897]\tvalidation_0-rmse:4278.17\tvalidation_1-rmse:4716.58\n",
      "[1898]\tvalidation_0-rmse:4277.11\tvalidation_1-rmse:4715.81\n",
      "[1899]\tvalidation_0-rmse:4275.97\tvalidation_1-rmse:4715.78\n",
      "[1900]\tvalidation_0-rmse:4275.69\tvalidation_1-rmse:4715.46\n",
      "[1901]\tvalidation_0-rmse:4275.05\tvalidation_1-rmse:4715.08\n",
      "[1902]\tvalidation_0-rmse:4274.14\tvalidation_1-rmse:4714.15\n",
      "[1903]\tvalidation_0-rmse:4273.64\tvalidation_1-rmse:4713.64\n",
      "[1904]\tvalidation_0-rmse:4272.97\tvalidation_1-rmse:4713.12\n",
      "[1905]\tvalidation_0-rmse:4272.39\tvalidation_1-rmse:4712.44\n",
      "[1906]\tvalidation_0-rmse:4271.49\tvalidation_1-rmse:4711.77\n",
      "[1907]\tvalidation_0-rmse:4271.07\tvalidation_1-rmse:4711.32\n",
      "[1908]\tvalidation_0-rmse:4270.89\tvalidation_1-rmse:4711.26\n",
      "[1909]\tvalidation_0-rmse:4270.74\tvalidation_1-rmse:4711.12\n",
      "[1910]\tvalidation_0-rmse:4270.58\tvalidation_1-rmse:4711.16\n",
      "[1911]\tvalidation_0-rmse:4270.39\tvalidation_1-rmse:4711.64\n",
      "[1912]\tvalidation_0-rmse:4269.62\tvalidation_1-rmse:4710.92\n",
      "[1913]\tvalidation_0-rmse:4269.19\tvalidation_1-rmse:4710.35\n",
      "[1914]\tvalidation_0-rmse:4268.68\tvalidation_1-rmse:4709.64\n",
      "[1915]\tvalidation_0-rmse:4267.95\tvalidation_1-rmse:4709.53\n",
      "[1916]\tvalidation_0-rmse:4267.64\tvalidation_1-rmse:4709.23\n",
      "[1917]\tvalidation_0-rmse:4267\tvalidation_1-rmse:4708.83\n",
      "[1918]\tvalidation_0-rmse:4266.84\tvalidation_1-rmse:4708.67\n",
      "[1919]\tvalidation_0-rmse:4266.47\tvalidation_1-rmse:4708.64\n",
      "[1920]\tvalidation_0-rmse:4265.96\tvalidation_1-rmse:4708.3\n",
      "[1921]\tvalidation_0-rmse:4265.34\tvalidation_1-rmse:4707.59\n",
      "[1922]\tvalidation_0-rmse:4264.87\tvalidation_1-rmse:4707.08\n",
      "[1923]\tvalidation_0-rmse:4264.17\tvalidation_1-rmse:4706.28\n",
      "[1924]\tvalidation_0-rmse:4263.57\tvalidation_1-rmse:4705.73\n",
      "[1925]\tvalidation_0-rmse:4263.05\tvalidation_1-rmse:4705.62\n",
      "[1926]\tvalidation_0-rmse:4262.5\tvalidation_1-rmse:4705.82\n",
      "[1927]\tvalidation_0-rmse:4261.59\tvalidation_1-rmse:4705.18\n",
      "[1928]\tvalidation_0-rmse:4260.97\tvalidation_1-rmse:4704.89\n",
      "[1929]\tvalidation_0-rmse:4260.62\tvalidation_1-rmse:4704.11\n",
      "[1930]\tvalidation_0-rmse:4260.36\tvalidation_1-rmse:4703.83\n",
      "[1931]\tvalidation_0-rmse:4260.17\tvalidation_1-rmse:4703.69\n",
      "[1932]\tvalidation_0-rmse:4259.64\tvalidation_1-rmse:4702.67\n",
      "[1933]\tvalidation_0-rmse:4259.45\tvalidation_1-rmse:4702.44\n",
      "[1934]\tvalidation_0-rmse:4259.22\tvalidation_1-rmse:4702.19\n",
      "[1935]\tvalidation_0-rmse:4258.53\tvalidation_1-rmse:4701.73\n",
      "[1936]\tvalidation_0-rmse:4258.03\tvalidation_1-rmse:4701.35\n",
      "[1937]\tvalidation_0-rmse:4256.42\tvalidation_1-rmse:4699.84\n",
      "[1938]\tvalidation_0-rmse:4256.16\tvalidation_1-rmse:4699.9\n",
      "[1939]\tvalidation_0-rmse:4255.31\tvalidation_1-rmse:4699.01\n",
      "[1940]\tvalidation_0-rmse:4254.97\tvalidation_1-rmse:4698.65\n",
      "[1941]\tvalidation_0-rmse:4254.43\tvalidation_1-rmse:4698.09\n",
      "[1942]\tvalidation_0-rmse:4253.79\tvalidation_1-rmse:4697.61\n",
      "[1943]\tvalidation_0-rmse:4252.03\tvalidation_1-rmse:4695.97\n",
      "[1944]\tvalidation_0-rmse:4251.59\tvalidation_1-rmse:4695.47\n",
      "[1945]\tvalidation_0-rmse:4250.98\tvalidation_1-rmse:4694.72\n",
      "[1946]\tvalidation_0-rmse:4250.16\tvalidation_1-rmse:4694.11\n",
      "[1947]\tvalidation_0-rmse:4249.51\tvalidation_1-rmse:4693.36\n",
      "[1948]\tvalidation_0-rmse:4248.98\tvalidation_1-rmse:4693.12\n",
      "[1949]\tvalidation_0-rmse:4248.65\tvalidation_1-rmse:4692.42\n",
      "[1950]\tvalidation_0-rmse:4247.55\tvalidation_1-rmse:4691.17\n",
      "[1951]\tvalidation_0-rmse:4247.05\tvalidation_1-rmse:4690.91\n",
      "[1952]\tvalidation_0-rmse:4246.76\tvalidation_1-rmse:4690.7\n",
      "[1953]\tvalidation_0-rmse:4246\tvalidation_1-rmse:4689.52\n",
      "[1954]\tvalidation_0-rmse:4245.55\tvalidation_1-rmse:4689.52\n",
      "[1955]\tvalidation_0-rmse:4245.38\tvalidation_1-rmse:4689.36\n",
      "[1956]\tvalidation_0-rmse:4244.91\tvalidation_1-rmse:4689.03\n",
      "[1957]\tvalidation_0-rmse:4244.48\tvalidation_1-rmse:4688.47\n",
      "[1958]\tvalidation_0-rmse:4244.32\tvalidation_1-rmse:4688.4\n",
      "[1959]\tvalidation_0-rmse:4243.47\tvalidation_1-rmse:4687.61\n",
      "[1960]\tvalidation_0-rmse:4242.89\tvalidation_1-rmse:4687.14\n",
      "[1961]\tvalidation_0-rmse:4242.45\tvalidation_1-rmse:4686.68\n",
      "[1962]\tvalidation_0-rmse:4241.87\tvalidation_1-rmse:4686.37\n",
      "[1963]\tvalidation_0-rmse:4241.47\tvalidation_1-rmse:4686.11\n",
      "[1964]\tvalidation_0-rmse:4241.02\tvalidation_1-rmse:4685.51\n",
      "[1965]\tvalidation_0-rmse:4240.36\tvalidation_1-rmse:4685.29\n",
      "[1966]\tvalidation_0-rmse:4239.55\tvalidation_1-rmse:4685.06\n",
      "[1967]\tvalidation_0-rmse:4238.63\tvalidation_1-rmse:4684.47\n",
      "[1968]\tvalidation_0-rmse:4237.83\tvalidation_1-rmse:4683.86\n",
      "[1969]\tvalidation_0-rmse:4236.98\tvalidation_1-rmse:4683.51\n",
      "[1970]\tvalidation_0-rmse:4236.52\tvalidation_1-rmse:4683.17\n",
      "[1971]\tvalidation_0-rmse:4236.16\tvalidation_1-rmse:4683.14\n",
      "[1972]\tvalidation_0-rmse:4235.45\tvalidation_1-rmse:4682.56\n",
      "[1973]\tvalidation_0-rmse:4235.25\tvalidation_1-rmse:4682.26\n",
      "[1974]\tvalidation_0-rmse:4234.29\tvalidation_1-rmse:4681.63\n",
      "[1975]\tvalidation_0-rmse:4233.61\tvalidation_1-rmse:4681.16\n"
     ]
    },
    {
     "name": "stdout",
     "output_type": "stream",
     "text": [
      "[1976]\tvalidation_0-rmse:4233.22\tvalidation_1-rmse:4680.92\n",
      "[1977]\tvalidation_0-rmse:4232.34\tvalidation_1-rmse:4680.29\n",
      "[1978]\tvalidation_0-rmse:4231.94\tvalidation_1-rmse:4679.92\n",
      "[1979]\tvalidation_0-rmse:4231.01\tvalidation_1-rmse:4679.01\n",
      "[1980]\tvalidation_0-rmse:4230.44\tvalidation_1-rmse:4678.57\n",
      "[1981]\tvalidation_0-rmse:4229.97\tvalidation_1-rmse:4677.94\n",
      "[1982]\tvalidation_0-rmse:4229.58\tvalidation_1-rmse:4677.58\n",
      "[1983]\tvalidation_0-rmse:4228.91\tvalidation_1-rmse:4677.1\n",
      "[1984]\tvalidation_0-rmse:4228.31\tvalidation_1-rmse:4676.55\n",
      "[1985]\tvalidation_0-rmse:4227.86\tvalidation_1-rmse:4675.87\n",
      "[1986]\tvalidation_0-rmse:4226.57\tvalidation_1-rmse:4674.96\n",
      "[1987]\tvalidation_0-rmse:4226.16\tvalidation_1-rmse:4674.53\n",
      "[1988]\tvalidation_0-rmse:4225.49\tvalidation_1-rmse:4674.12\n",
      "[1989]\tvalidation_0-rmse:4224.84\tvalidation_1-rmse:4674.19\n",
      "[1990]\tvalidation_0-rmse:4224.33\tvalidation_1-rmse:4673.42\n",
      "[1991]\tvalidation_0-rmse:4224.2\tvalidation_1-rmse:4672.97\n",
      "[1992]\tvalidation_0-rmse:4223.74\tvalidation_1-rmse:4672.34\n",
      "[1993]\tvalidation_0-rmse:4222.77\tvalidation_1-rmse:4671.28\n",
      "[1994]\tvalidation_0-rmse:4221.03\tvalidation_1-rmse:4670.24\n",
      "[1995]\tvalidation_0-rmse:4220.56\tvalidation_1-rmse:4669.85\n",
      "[1996]\tvalidation_0-rmse:4219.58\tvalidation_1-rmse:4669.05\n",
      "[1997]\tvalidation_0-rmse:4219.06\tvalidation_1-rmse:4668.44\n",
      "[1998]\tvalidation_0-rmse:4218.41\tvalidation_1-rmse:4667.77\n",
      "[1999]\tvalidation_0-rmse:4217.88\tvalidation_1-rmse:4667.34\n"
     ]
    },
    {
     "data": {
      "text/plain": [
       "XGBRegressor(base_score=0.5, booster='gbtree', colsample_bylevel=1,\n",
       "       colsample_bynode=1, colsample_bytree=1, gamma=0,\n",
       "       importance_type='gain', learning_rate=0.5, max_delta_step=0,\n",
       "       max_depth=3, min_child_weight=1, missing=None, n_estimators=2000,\n",
       "       n_jobs=1, nthread=None, objective='reg:linear', random_state=42,\n",
       "       reg_alpha=0, reg_lambda=1, scale_pos_weight=1, seed=42, silent=1,\n",
       "       subsample=1, verbosity=1)"
      ]
     },
     "execution_count": 31,
     "metadata": {},
     "output_type": "execute_result"
    }
   ],
   "source": [
    "xgb_model.fit(X_train, y_train, eval_set=[(X_train, y_train),(X_valid, y_valid)], eval_metric='rmse',\n",
    "             early_stopping_rounds=50)"
   ]
  },
  {
   "cell_type": "code",
   "execution_count": 163,
   "metadata": {
    "ExecuteTime": {
     "end_time": "2020-11-19T11:28:26.334090Z",
     "start_time": "2020-11-19T11:28:26.296083Z"
    }
   },
   "outputs": [
    {
     "name": "stdout",
     "output_type": "stream",
     "text": [
      "[20:28:26] WARNING: C:/Jenkins/workspace/xgboost-win64_release_0.90/src/objective/regression_obj.cu:152: reg:linear is now deprecated in favor of reg:squarederror.\n"
     ]
    }
   ],
   "source": [
    "import pickle\n",
    "with open('xgb_model.rb', 'rb') as f:\n",
    "    xgb_model = pickle.load(f)"
   ]
  },
  {
   "cell_type": "code",
   "execution_count": 165,
   "metadata": {
    "ExecuteTime": {
     "end_time": "2020-11-19T11:28:37.789031Z",
     "start_time": "2020-11-19T11:28:37.507967Z"
    },
    "scrolled": true
   },
   "outputs": [
    {
     "data": {
      "image/png": "[encoded data removed]",
      "text/plain": [
       "<Figure size 1440x720 with 1 Axes>"
      ]
     },
     "metadata": {
      "needs_background": "light"
     },
     "output_type": "display_data"
    }
   ],
   "source": [
    "show_feature_importance(xgb_model, X_valid)"
   ]
  },
  {
   "cell_type": "markdown",
   "metadata": {},
   "source": [
    "# LightGBM\n"
   ]
  },
  {
   "cell_type": "code",
   "execution_count": 166,
   "metadata": {
    "ExecuteTime": {
     "end_time": "2020-11-19T11:30:18.746954Z",
     "start_time": "2020-11-19T11:30:18.726950Z"
    }
   },
   "outputs": [],
   "source": [
    "import lightgbm as lgb\n",
    "from sklearn.model_selection import train_test_split"
   ]
  },
  {
   "cell_type": "code",
   "execution_count": 167,
   "metadata": {
    "ExecuteTime": {
     "end_time": "2020-11-19T11:30:19.427613Z",
     "start_time": "2020-11-19T11:30:19.424612Z"
    }
   },
   "outputs": [],
   "source": [
    "from lightgbm import LGBMRegressor"
   ]
  },
  {
   "cell_type": "code",
   "execution_count": 168,
   "metadata": {
    "ExecuteTime": {
     "end_time": "2020-11-19T11:33:03.767852Z",
     "start_time": "2020-11-19T11:33:03.763852Z"
    }
   },
   "outputs": [],
   "source": [
    "lgbm_model = LGBMRegressor(\n",
    "    boosting_type='gbdt',\n",
    "    num_leaves=31,\n",
    "    max_depth=-1,\n",
    "    learning_rate=0.1,\n",
    "    n_estimators=20000,\n",
    "    objective='regression',\n",
    "    subsample=1.0,\n",
    "    colsample_bytree=1.0,\n",
    "    reg_alpha=0.0,\n",
    "    reg_lambda=0.0,\n",
    "    random_state=42,\n",
    "    n_jobs=-1,\n",
    "#         max_bin=2*9\n",
    ")\n"
   ]
  },
  {
   "cell_type": "code",
   "execution_count": 36,
   "metadata": {
    "ExecuteTime": {
     "end_time": "2020-11-19T09:28:29.885411Z",
     "start_time": "2020-11-19T09:19:56.296782Z"
    },
    "scrolled": true
   },
   "outputs": [
    {
     "name": "stdout",
     "output_type": "stream",
     "text": [
      "Training until validation scores don't improve for 200 rounds\n",
      "[200]\ttraining's rmse: 6929.12\ttraining's l2: 4.80127e+07\tvalid_1's rmse: 7023.2\tvalid_1's l2: 4.93254e+07\n",
      "[400]\ttraining's rmse: 5824.11\ttraining's l2: 3.39202e+07\tvalid_1's rmse: 5969.14\tvalid_1's l2: 3.56306e+07\n",
      "[600]\ttraining's rmse: 5248.7\ttraining's l2: 2.75489e+07\tvalid_1's rmse: 5457.02\tvalid_1's l2: 2.97791e+07\n",
      "[800]\ttraining's rmse: 4846.04\ttraining's l2: 2.34841e+07\tvalid_1's rmse: 5114.55\tvalid_1's l2: 2.61586e+07\n",
      "[1000]\ttraining's rmse: 4560.88\ttraining's l2: 2.08017e+07\tvalid_1's rmse: 4883.02\tvalid_1's l2: 2.38439e+07\n",
      "[1200]\ttraining's rmse: 4345.41\ttraining's l2: 1.88826e+07\tvalid_1's rmse: 4713.24\tvalid_1's l2: 2.22147e+07\n",
      "[1400]\ttraining's rmse: 4165.51\ttraining's l2: 1.73515e+07\tvalid_1's rmse: 4578.92\tvalid_1's l2: 2.09665e+07\n",
      "[1600]\ttraining's rmse: 4021.46\ttraining's l2: 1.61722e+07\tvalid_1's rmse: 4471.76\tvalid_1's l2: 1.99966e+07\n",
      "[1800]\ttraining's rmse: 3899.78\ttraining's l2: 1.52083e+07\tvalid_1's rmse: 4382.75\tvalid_1's l2: 1.92085e+07\n",
      "[2000]\ttraining's rmse: 3800.77\ttraining's l2: 1.44458e+07\tvalid_1's rmse: 4315.78\tvalid_1's l2: 1.8626e+07\n",
      "[2200]\ttraining's rmse: 3702.54\ttraining's l2: 1.37088e+07\tvalid_1's rmse: 4252.32\tvalid_1's l2: 1.80822e+07\n",
      "[2400]\ttraining's rmse: 3618.68\ttraining's l2: 1.30949e+07\tvalid_1's rmse: 4197.94\tvalid_1's l2: 1.76227e+07\n",
      "[2600]\ttraining's rmse: 3544.62\ttraining's l2: 1.25644e+07\tvalid_1's rmse: 4152.94\tvalid_1's l2: 1.72469e+07\n",
      "[2800]\ttraining's rmse: 3470.5\ttraining's l2: 1.20444e+07\tvalid_1's rmse: 4106.15\tvalid_1's l2: 1.68605e+07\n",
      "[3000]\ttraining's rmse: 3405.8\ttraining's l2: 1.15995e+07\tvalid_1's rmse: 4066.5\tvalid_1's l2: 1.65364e+07\n",
      "[3200]\ttraining's rmse: 3346.08\ttraining's l2: 1.11962e+07\tvalid_1's rmse: 4031.9\tvalid_1's l2: 1.62562e+07\n",
      "[3400]\ttraining's rmse: 3289.28\ttraining's l2: 1.08194e+07\tvalid_1's rmse: 4000.4\tvalid_1's l2: 1.60032e+07\n",
      "[3600]\ttraining's rmse: 3239.64\ttraining's l2: 1.04953e+07\tvalid_1's rmse: 3972.56\tvalid_1's l2: 1.57812e+07\n",
      "[3800]\ttraining's rmse: 3190.03\ttraining's l2: 1.01763e+07\tvalid_1's rmse: 3948.72\tvalid_1's l2: 1.55924e+07\n",
      "[4000]\ttraining's rmse: 3143.92\ttraining's l2: 9.88422e+06\tvalid_1's rmse: 3926.86\tvalid_1's l2: 1.54202e+07\n",
      "[4200]\ttraining's rmse: 3103.91\ttraining's l2: 9.63425e+06\tvalid_1's rmse: 3906.5\tvalid_1's l2: 1.52608e+07\n",
      "[4400]\ttraining's rmse: 3066.93\ttraining's l2: 9.40607e+06\tvalid_1's rmse: 3888.6\tvalid_1's l2: 1.51212e+07\n",
      "[4600]\ttraining's rmse: 3030.21\ttraining's l2: 9.1822e+06\tvalid_1's rmse: 3871.28\tvalid_1's l2: 1.49868e+07\n",
      "[4800]\ttraining's rmse: 2993.52\ttraining's l2: 8.96117e+06\tvalid_1's rmse: 3853.43\tvalid_1's l2: 1.48489e+07\n",
      "[5000]\ttraining's rmse: 2960.26\ttraining's l2: 8.76316e+06\tvalid_1's rmse: 3841.67\tvalid_1's l2: 1.47584e+07\n",
      "[5200]\ttraining's rmse: 2927.52\ttraining's l2: 8.57037e+06\tvalid_1's rmse: 3828.37\tvalid_1's l2: 1.46564e+07\n",
      "[5400]\ttraining's rmse: 2897.87\ttraining's l2: 8.39764e+06\tvalid_1's rmse: 3817.55\tvalid_1's l2: 1.45737e+07\n",
      "[5600]\ttraining's rmse: 2871.25\ttraining's l2: 8.24406e+06\tvalid_1's rmse: 3808.45\tvalid_1's l2: 1.45043e+07\n",
      "[5800]\ttraining's rmse: 2842.35\ttraining's l2: 8.07895e+06\tvalid_1's rmse: 3796.08\tvalid_1's l2: 1.44102e+07\n",
      "[6000]\ttraining's rmse: 2816.45\ttraining's l2: 7.93239e+06\tvalid_1's rmse: 3788.91\tvalid_1's l2: 1.43558e+07\n",
      "[6200]\ttraining's rmse: 2791.85\ttraining's l2: 7.79441e+06\tvalid_1's rmse: 3779.77\tvalid_1's l2: 1.42867e+07\n",
      "[6400]\ttraining's rmse: 2767.88\ttraining's l2: 7.66118e+06\tvalid_1's rmse: 3771.26\tvalid_1's l2: 1.42224e+07\n",
      "[6600]\ttraining's rmse: 2745.86\ttraining's l2: 7.53975e+06\tvalid_1's rmse: 3764.1\tvalid_1's l2: 1.41684e+07\n",
      "[6800]\ttraining's rmse: 2723.49\ttraining's l2: 7.41737e+06\tvalid_1's rmse: 3757.34\tvalid_1's l2: 1.41176e+07\n",
      "[7000]\ttraining's rmse: 2702.47\ttraining's l2: 7.30337e+06\tvalid_1's rmse: 3750.5\tvalid_1's l2: 1.40662e+07\n",
      "[7200]\ttraining's rmse: 2681.74\ttraining's l2: 7.19172e+06\tvalid_1's rmse: 3743.5\tvalid_1's l2: 1.40138e+07\n",
      "[7400]\ttraining's rmse: 2661.5\ttraining's l2: 7.08356e+06\tvalid_1's rmse: 3737.27\tvalid_1's l2: 1.39672e+07\n",
      "[7600]\ttraining's rmse: 2639.27\ttraining's l2: 6.96576e+06\tvalid_1's rmse: 3732.21\tvalid_1's l2: 1.39294e+07\n",
      "[7800]\ttraining's rmse: 2620.05\ttraining's l2: 6.86465e+06\tvalid_1's rmse: 3727.41\tvalid_1's l2: 1.38936e+07\n",
      "[8000]\ttraining's rmse: 2602.84\ttraining's l2: 6.77477e+06\tvalid_1's rmse: 3723.32\tvalid_1's l2: 1.38631e+07\n",
      "[8200]\ttraining's rmse: 2583.92\ttraining's l2: 6.67666e+06\tvalid_1's rmse: 3716.52\tvalid_1's l2: 1.38125e+07\n",
      "[8400]\ttraining's rmse: 2569.4\ttraining's l2: 6.6018e+06\tvalid_1's rmse: 3710.78\tvalid_1's l2: 1.37699e+07\n",
      "[8600]\ttraining's rmse: 2553\ttraining's l2: 6.51779e+06\tvalid_1's rmse: 3707.11\tvalid_1's l2: 1.37426e+07\n",
      "[8800]\ttraining's rmse: 2537.33\ttraining's l2: 6.43807e+06\tvalid_1's rmse: 3702.61\tvalid_1's l2: 1.37093e+07\n",
      "[9000]\ttraining's rmse: 2522.78\ttraining's l2: 6.36441e+06\tvalid_1's rmse: 3700.18\tvalid_1's l2: 1.36913e+07\n",
      "[9200]\ttraining's rmse: 2506.61\ttraining's l2: 6.28307e+06\tvalid_1's rmse: 3698.06\tvalid_1's l2: 1.36757e+07\n",
      "[9400]\ttraining's rmse: 2491.74\ttraining's l2: 6.20879e+06\tvalid_1's rmse: 3694.72\tvalid_1's l2: 1.36509e+07\n",
      "[9600]\ttraining's rmse: 2477.48\ttraining's l2: 6.13793e+06\tvalid_1's rmse: 3692.29\tvalid_1's l2: 1.3633e+07\n",
      "[9800]\ttraining's rmse: 2462.9\ttraining's l2: 6.06586e+06\tvalid_1's rmse: 3688.94\tvalid_1's l2: 1.36082e+07\n",
      "[10000]\ttraining's rmse: 2448.9\ttraining's l2: 5.9971e+06\tvalid_1's rmse: 3686.39\tvalid_1's l2: 1.35895e+07\n",
      "[10200]\ttraining's rmse: 2433.94\ttraining's l2: 5.92404e+06\tvalid_1's rmse: 3683.12\tvalid_1's l2: 1.35654e+07\n",
      "[10400]\ttraining's rmse: 2421.68\ttraining's l2: 5.86456e+06\tvalid_1's rmse: 3681.18\tvalid_1's l2: 1.35511e+07\n",
      "[10600]\ttraining's rmse: 2409.44\ttraining's l2: 5.80542e+06\tvalid_1's rmse: 3678.36\tvalid_1's l2: 1.35303e+07\n",
      "[10800]\ttraining's rmse: 2396.64\ttraining's l2: 5.7439e+06\tvalid_1's rmse: 3676.36\tvalid_1's l2: 1.35156e+07\n",
      "[11000]\ttraining's rmse: 2383.79\ttraining's l2: 5.68247e+06\tvalid_1's rmse: 3676.39\tvalid_1's l2: 1.35158e+07\n",
      "[11200]\ttraining's rmse: 2370.94\ttraining's l2: 5.62134e+06\tvalid_1's rmse: 3675.1\tvalid_1's l2: 1.35064e+07\n",
      "[11400]\ttraining's rmse: 2358.17\ttraining's l2: 5.56096e+06\tvalid_1's rmse: 3672.67\tvalid_1's l2: 1.34885e+07\n",
      "[11600]\ttraining's rmse: 2346.22\ttraining's l2: 5.50474e+06\tvalid_1's rmse: 3670.26\tvalid_1's l2: 1.34708e+07\n",
      "[11800]\ttraining's rmse: 2334.72\ttraining's l2: 5.45092e+06\tvalid_1's rmse: 3669.25\tvalid_1's l2: 1.34634e+07\n",
      "[12000]\ttraining's rmse: 2323.66\ttraining's l2: 5.39941e+06\tvalid_1's rmse: 3666.66\tvalid_1's l2: 1.34444e+07\n",
      "[12200]\ttraining's rmse: 2313.25\ttraining's l2: 5.35115e+06\tvalid_1's rmse: 3664.47\tvalid_1's l2: 1.34283e+07\n",
      "[12400]\ttraining's rmse: 2302.95\ttraining's l2: 5.30357e+06\tvalid_1's rmse: 3663.84\tvalid_1's l2: 1.34237e+07\n",
      "[12600]\ttraining's rmse: 2292.78\ttraining's l2: 5.25684e+06\tvalid_1's rmse: 3663.22\tvalid_1's l2: 1.34192e+07\n",
      "[12800]\ttraining's rmse: 2281.78\ttraining's l2: 5.20652e+06\tvalid_1's rmse: 3663.38\tvalid_1's l2: 1.34204e+07\n",
      "Early stopping, best iteration is:\n",
      "[12631]\ttraining's rmse: 2290.83\ttraining's l2: 5.24792e+06\tvalid_1's rmse: 3662.7\tvalid_1's l2: 1.34154e+07\n"
     ]
    },
    {
     "data": {
      "text/plain": [
       "LGBMRegressor(boosting_type='gbdt', class_weight=None, colsample_bytree=1.0,\n",
       "       importance_type='split', learning_rate=0.1, max_depth=-1,\n",
       "       min_child_samples=20, min_child_weight=0.001, min_split_gain=0.0,\n",
       "       n_estimators=20000, n_jobs=-1, num_leaves=31, objective=None,\n",
       "       random_state=42, reg_alpha=0.0, reg_lambda=0.0, silent=True,\n",
       "       subsample=1.0, subsample_for_bin=200000, subsample_freq=0)"
      ]
     },
     "execution_count": 36,
     "metadata": {},
     "output_type": "execute_result"
    }
   ],
   "source": [
    "lgbm_model.fit(X_train, y_train, eval_set=[(X_train, y_train), (X_valid, y_valid)], \n",
    "               eval_metric='rmse', verbose=200,\n",
    "              early_stopping_rounds=200)"
   ]
  },
  {
   "cell_type": "code",
   "execution_count": 170,
   "metadata": {
    "ExecuteTime": {
     "end_time": "2020-11-19T11:36:35.197230Z",
     "start_time": "2020-11-19T11:36:34.827144Z"
    }
   },
   "outputs": [],
   "source": [
    "import pickle\n",
    "with open('lgbm_model.rb', 'rb') as f:\n",
    "    lgbm_model = pickle.load(f)"
   ]
  },
  {
   "cell_type": "code",
   "execution_count": 151,
   "metadata": {
    "ExecuteTime": {
     "end_time": "2020-11-22T12:50:23.620427Z",
     "start_time": "2020-11-22T12:50:23.435393Z"
    }
   },
   "outputs": [
    {
     "data": {
      "image/png": "[encoded data removed]",
      "text/plain": [
       "<Figure size 1440x720 with 1 Axes>"
      ]
     },
     "metadata": {
      "needs_background": "light"
     },
     "output_type": "display_data"
    }
   ],
   "source": [
    "show_feature_importance(lgbm_model, X_valid)"
   ]
  },
  {
   "cell_type": "code",
   "execution_count": null,
   "metadata": {},
   "outputs": [],
   "source": [
    "LGBM , XGB CATBOOST, RF , RIDGE, LASSO"
   ]
  },
  {
   "cell_type": "code",
   "execution_count": 172,
   "metadata": {
    "ExecuteTime": {
     "end_time": "2020-11-19T11:38:46.464526Z",
     "start_time": "2020-11-19T11:38:01.597018Z"
    },
    "scrolled": false
   },
   "outputs": [
    {
     "data": {
      "text/plain": [
       "array([29164.22309072, 37200.35878934, 16474.55573652, ...,\n",
       "       18507.43233948,  9985.18799547, 50407.83908993])"
      ]
     },
     "execution_count": 172,
     "metadata": {},
     "output_type": "execute_result"
    }
   ],
   "source": [
    "lgbm_model.predict(X_valid)"
   ]
  },
  {
   "cell_type": "code",
   "execution_count": 173,
   "metadata": {
    "ExecuteTime": {
     "end_time": "2020-11-19T11:38:52.208543Z",
     "start_time": "2020-11-19T11:38:52.204544Z"
    },
    "scrolled": true
   },
   "outputs": [
    {
     "data": {
      "text/plain": [
       "array([30700, 37700, 17500, ..., 18000,  9500, 49500], dtype=int64)"
      ]
     },
     "execution_count": 173,
     "metadata": {},
     "output_type": "execute_result"
    }
   ],
   "source": [
    "y_valid"
   ]
  },
  {
   "cell_type": "code",
   "execution_count": null,
   "metadata": {},
   "outputs": [],
   "source": []
  },
  {
   "cell_type": "code",
   "execution_count": null,
   "metadata": {},
   "outputs": [],
   "source": []
  },
  {
   "cell_type": "code",
   "execution_count": null,
   "metadata": {},
   "outputs": [],
   "source": []
  },
  {
   "cell_type": "code",
   "execution_count": null,
   "metadata": {},
   "outputs": [],
   "source": []
  },
  {
   "cell_type": "markdown",
   "metadata": {},
   "source": [
    "# 신경망"
   ]
  },
  {
   "cell_type": "code",
   "execution_count": 175,
   "metadata": {
    "ExecuteTime": {
     "end_time": "2020-11-19T11:50:53.390190Z",
     "start_time": "2020-11-19T11:50:51.093891Z"
    }
   },
   "outputs": [],
   "source": [
    "import tensorflow as tf\n",
    "\n",
    "from tensorflow import feature_column\n",
    "from tensorflow.keras import layers\n",
    "from sklearn.model_selection import train_test_split"
   ]
  },
  {
   "cell_type": "code",
   "execution_count": 174,
   "metadata": {
    "ExecuteTime": {
     "end_time": "2020-11-19T11:49:42.305093Z",
     "start_time": "2020-11-19T11:49:42.291090Z"
    }
   },
   "outputs": [
    {
     "data": {
      "text/html": [
       "<div>\n",
       "<style scoped>\n",
       "    .dataframe tbody tr th:only-of-type {\n",
       "        vertical-align: middle;\n",
       "    }\n",
       "\n",
       "    .dataframe tbody tr th {\n",
       "        vertical-align: top;\n",
       "    }\n",
       "\n",
       "    .dataframe thead th {\n",
       "        text-align: right;\n",
       "    }\n",
       "</style>\n",
       "<table border=\"1\" class=\"dataframe\">\n",
       "  <thead>\n",
       "    <tr style=\"text-align: right;\">\n",
       "      <th></th>\n",
       "      <th>apartment_id</th>\n",
       "      <th>city</th>\n",
       "      <th>dong</th>\n",
       "      <th>jibun</th>\n",
       "      <th>apt</th>\n",
       "      <th>addr_kr</th>\n",
       "      <th>exclusive_use_area</th>\n",
       "      <th>year_of_completion</th>\n",
       "      <th>transaction_year_month</th>\n",
       "      <th>transaction_date</th>\n",
       "      <th>floor</th>\n",
       "      <th>transaction_real_price</th>\n",
       "      <th>day_care_baby_num_mean</th>\n",
       "      <th>park_area</th>\n",
       "      <th>teacher_num</th>\n",
       "      <th>transaction_year</th>\n",
       "      <th>transaction_month</th>\n",
       "    </tr>\n",
       "  </thead>\n",
       "  <tbody>\n",
       "    <tr>\n",
       "      <th>0</th>\n",
       "      <td>7622</td>\n",
       "      <td>1</td>\n",
       "      <td>262</td>\n",
       "      <td>5963</td>\n",
       "      <td>6819</td>\n",
       "      <td>7311</td>\n",
       "      <td>84.8200</td>\n",
       "      <td>15</td>\n",
       "      <td>0</td>\n",
       "      <td>5</td>\n",
       "      <td>2</td>\n",
       "      <td>37500</td>\n",
       "      <td>NaN</td>\n",
       "      <td>NaN</td>\n",
       "      <td>NaN</td>\n",
       "      <td>9</td>\n",
       "      <td>1</td>\n",
       "    </tr>\n",
       "    <tr>\n",
       "      <th>1</th>\n",
       "      <td>5399</td>\n",
       "      <td>1</td>\n",
       "      <td>441</td>\n",
       "      <td>1401</td>\n",
       "      <td>4748</td>\n",
       "      <td>11733</td>\n",
       "      <td>99.1700</td>\n",
       "      <td>44</td>\n",
       "      <td>0</td>\n",
       "      <td>1</td>\n",
       "      <td>6</td>\n",
       "      <td>20000</td>\n",
       "      <td>NaN</td>\n",
       "      <td>NaN</td>\n",
       "      <td>NaN</td>\n",
       "      <td>9</td>\n",
       "      <td>1</td>\n",
       "    </tr>\n",
       "    <tr>\n",
       "      <th>2</th>\n",
       "      <td>3578</td>\n",
       "      <td>1</td>\n",
       "      <td>441</td>\n",
       "      <td>9696</td>\n",
       "      <td>2948</td>\n",
       "      <td>11734</td>\n",
       "      <td>84.7400</td>\n",
       "      <td>10</td>\n",
       "      <td>0</td>\n",
       "      <td>1</td>\n",
       "      <td>6</td>\n",
       "      <td>38500</td>\n",
       "      <td>NaN</td>\n",
       "      <td>NaN</td>\n",
       "      <td>NaN</td>\n",
       "      <td>9</td>\n",
       "      <td>1</td>\n",
       "    </tr>\n",
       "    <tr>\n",
       "      <th>3</th>\n",
       "      <td>10957</td>\n",
       "      <td>1</td>\n",
       "      <td>68</td>\n",
       "      <td>8203</td>\n",
       "      <td>9557</td>\n",
       "      <td>2502</td>\n",
       "      <td>146.3900</td>\n",
       "      <td>14</td>\n",
       "      <td>0</td>\n",
       "      <td>0</td>\n",
       "      <td>15</td>\n",
       "      <td>118000</td>\n",
       "      <td>NaN</td>\n",
       "      <td>NaN</td>\n",
       "      <td>NaN</td>\n",
       "      <td>9</td>\n",
       "      <td>1</td>\n",
       "    </tr>\n",
       "    <tr>\n",
       "      <th>4</th>\n",
       "      <td>10639</td>\n",
       "      <td>1</td>\n",
       "      <td>68</td>\n",
       "      <td>501</td>\n",
       "      <td>9304</td>\n",
       "      <td>2497</td>\n",
       "      <td>194.4300</td>\n",
       "      <td>13</td>\n",
       "      <td>0</td>\n",
       "      <td>5</td>\n",
       "      <td>3</td>\n",
       "      <td>120000</td>\n",
       "      <td>NaN</td>\n",
       "      <td>NaN</td>\n",
       "      <td>NaN</td>\n",
       "      <td>9</td>\n",
       "      <td>1</td>\n",
       "    </tr>\n",
       "    <tr>\n",
       "      <th>...</th>\n",
       "      <td>...</td>\n",
       "      <td>...</td>\n",
       "      <td>...</td>\n",
       "      <td>...</td>\n",
       "      <td>...</td>\n",
       "      <td>...</td>\n",
       "      <td>...</td>\n",
       "      <td>...</td>\n",
       "      <td>...</td>\n",
       "      <td>...</td>\n",
       "      <td>...</td>\n",
       "      <td>...</td>\n",
       "      <td>...</td>\n",
       "      <td>...</td>\n",
       "      <td>...</td>\n",
       "      <td>...</td>\n",
       "      <td>...</td>\n",
       "    </tr>\n",
       "    <tr>\n",
       "      <th>1216548</th>\n",
       "      <td>9578</td>\n",
       "      <td>0</td>\n",
       "      <td>387</td>\n",
       "      <td>1329</td>\n",
       "      <td>8452</td>\n",
       "      <td>10607</td>\n",
       "      <td>59.8245</td>\n",
       "      <td>5</td>\n",
       "      <td>118</td>\n",
       "      <td>0</td>\n",
       "      <td>3</td>\n",
       "      <td>22000</td>\n",
       "      <td>NaN</td>\n",
       "      <td>NaN</td>\n",
       "      <td>NaN</td>\n",
       "      <td>0</td>\n",
       "      <td>11</td>\n",
       "    </tr>\n",
       "    <tr>\n",
       "      <th>1216549</th>\n",
       "      <td>9578</td>\n",
       "      <td>0</td>\n",
       "      <td>387</td>\n",
       "      <td>1329</td>\n",
       "      <td>8452</td>\n",
       "      <td>10607</td>\n",
       "      <td>84.9923</td>\n",
       "      <td>5</td>\n",
       "      <td>118</td>\n",
       "      <td>4</td>\n",
       "      <td>7</td>\n",
       "      <td>30750</td>\n",
       "      <td>NaN</td>\n",
       "      <td>NaN</td>\n",
       "      <td>NaN</td>\n",
       "      <td>0</td>\n",
       "      <td>11</td>\n",
       "    </tr>\n",
       "    <tr>\n",
       "      <th>1216550</th>\n",
       "      <td>9578</td>\n",
       "      <td>0</td>\n",
       "      <td>387</td>\n",
       "      <td>1329</td>\n",
       "      <td>8452</td>\n",
       "      <td>10607</td>\n",
       "      <td>84.9923</td>\n",
       "      <td>5</td>\n",
       "      <td>118</td>\n",
       "      <td>4</td>\n",
       "      <td>9</td>\n",
       "      <td>29500</td>\n",
       "      <td>NaN</td>\n",
       "      <td>NaN</td>\n",
       "      <td>NaN</td>\n",
       "      <td>0</td>\n",
       "      <td>11</td>\n",
       "    </tr>\n",
       "    <tr>\n",
       "      <th>1216551</th>\n",
       "      <td>9586</td>\n",
       "      <td>0</td>\n",
       "      <td>387</td>\n",
       "      <td>1275</td>\n",
       "      <td>8459</td>\n",
       "      <td>10606</td>\n",
       "      <td>101.7400</td>\n",
       "      <td>9</td>\n",
       "      <td>118</td>\n",
       "      <td>4</td>\n",
       "      <td>7</td>\n",
       "      <td>26700</td>\n",
       "      <td>NaN</td>\n",
       "      <td>NaN</td>\n",
       "      <td>NaN</td>\n",
       "      <td>0</td>\n",
       "      <td>11</td>\n",
       "    </tr>\n",
       "    <tr>\n",
       "      <th>1216552</th>\n",
       "      <td>9578</td>\n",
       "      <td>0</td>\n",
       "      <td>387</td>\n",
       "      <td>1329</td>\n",
       "      <td>8452</td>\n",
       "      <td>10607</td>\n",
       "      <td>84.9923</td>\n",
       "      <td>5</td>\n",
       "      <td>118</td>\n",
       "      <td>4</td>\n",
       "      <td>16</td>\n",
       "      <td>28800</td>\n",
       "      <td>NaN</td>\n",
       "      <td>NaN</td>\n",
       "      <td>NaN</td>\n",
       "      <td>0</td>\n",
       "      <td>11</td>\n",
       "    </tr>\n",
       "  </tbody>\n",
       "</table>\n",
       "<p>1216553 rows × 17 columns</p>\n",
       "</div>"
      ],
      "text/plain": [
       "         apartment_id  city  dong  jibun   apt  addr_kr  exclusive_use_area  \\\n",
       "0                7622     1   262   5963  6819     7311             84.8200   \n",
       "1                5399     1   441   1401  4748    11733             99.1700   \n",
       "2                3578     1   441   9696  2948    11734             84.7400   \n",
       "3               10957     1    68   8203  9557     2502            146.3900   \n",
       "4               10639     1    68    501  9304     2497            194.4300   \n",
       "...               ...   ...   ...    ...   ...      ...                 ...   \n",
       "1216548          9578     0   387   1329  8452    10607             59.8245   \n",
       "1216549          9578     0   387   1329  8452    10607             84.9923   \n",
       "1216550          9578     0   387   1329  8452    10607             84.9923   \n",
       "1216551          9586     0   387   1275  8459    10606            101.7400   \n",
       "1216552          9578     0   387   1329  8452    10607             84.9923   \n",
       "\n",
       "         year_of_completion  transaction_year_month  transaction_date  floor  \\\n",
       "0                        15                       0                 5      2   \n",
       "1                        44                       0                 1      6   \n",
       "2                        10                       0                 1      6   \n",
       "3                        14                       0                 0     15   \n",
       "4                        13                       0                 5      3   \n",
       "...                     ...                     ...               ...    ...   \n",
       "1216548                   5                     118                 0      3   \n",
       "1216549                   5                     118                 4      7   \n",
       "1216550                   5                     118                 4      9   \n",
       "1216551                   9                     118                 4      7   \n",
       "1216552                   5                     118                 4     16   \n",
       "\n",
       "         transaction_real_price  day_care_baby_num_mean  park_area  \\\n",
       "0                         37500                     NaN        NaN   \n",
       "1                         20000                     NaN        NaN   \n",
       "2                         38500                     NaN        NaN   \n",
       "3                        118000                     NaN        NaN   \n",
       "4                        120000                     NaN        NaN   \n",
       "...                         ...                     ...        ...   \n",
       "1216548                   22000                     NaN        NaN   \n",
       "1216549                   30750                     NaN        NaN   \n",
       "1216550                   29500                     NaN        NaN   \n",
       "1216551                   26700                     NaN        NaN   \n",
       "1216552                   28800                     NaN        NaN   \n",
       "\n",
       "         teacher_num  transaction_year  transaction_month  \n",
       "0                NaN                 9                  1  \n",
       "1                NaN                 9                  1  \n",
       "2                NaN                 9                  1  \n",
       "3                NaN                 9                  1  \n",
       "4                NaN                 9                  1  \n",
       "...              ...               ...                ...  \n",
       "1216548          NaN                 0                 11  \n",
       "1216549          NaN                 0                 11  \n",
       "1216550          NaN                 0                 11  \n",
       "1216551          NaN                 0                 11  \n",
       "1216552          NaN                 0                 11  \n",
       "\n",
       "[1216553 rows x 17 columns]"
      ]
     },
     "execution_count": 174,
     "metadata": {},
     "output_type": "execute_result"
    }
   ],
   "source": [
    "train"
   ]
  },
  {
   "cell_type": "code",
   "execution_count": 176,
   "metadata": {
    "ExecuteTime": {
     "end_time": "2020-11-19T11:51:07.155230Z",
     "start_time": "2020-11-19T11:51:07.151229Z"
    },
    "run_control": {
     "marked": false
    }
   },
   "outputs": [],
   "source": [
    "feature_columns = []\n",
    "\n",
    "for numeric_col in ['exclusive_use_area', 'year_of_completion', 'floor', 'transaction_year']:\n",
    "    feature_columns.append(feature_column.numeric_column(numeric_col))"
   ]
  },
  {
   "cell_type": "code",
   "execution_count": 181,
   "metadata": {
    "ExecuteTime": {
     "end_time": "2020-11-19T11:54:15.934927Z",
     "start_time": "2020-11-19T11:54:15.860912Z"
    }
   },
   "outputs": [],
   "source": [
    "for col in ['apartment_id', 'city', 'dong', 'jibun', 'apt', 'addr_kr']:\n",
    "    cat = feature_column.categorical_column_with_vocabulary_list(\n",
    "          col, train[col].unique())\n",
    "    cat_one_hot = feature_column.indicator_column(cat)\n",
    "\n",
    "    \n",
    "    dim=8\n",
    "    if col=='city':\n",
    "        dim=2\n",
    "    embedding = feature_column.embedding_column(cat, dimension=dim)\n",
    "    feature_columns.append(cat_one_hot)\n",
    "    feature_columns.append(embedding)\n"
   ]
  },
  {
   "cell_type": "code",
   "execution_count": 184,
   "metadata": {
    "ExecuteTime": {
     "end_time": "2020-11-19T11:55:17.561334Z",
     "start_time": "2020-11-19T11:55:17.390293Z"
    }
   },
   "outputs": [],
   "source": [
    "feature_layer = tf.keras.layers.DenseFeatures(feature_columns)"
   ]
  },
  {
   "cell_type": "code",
   "execution_count": 185,
   "metadata": {
    "ExecuteTime": {
     "end_time": "2020-11-19T11:55:18.309954Z",
     "start_time": "2020-11-19T11:55:18.302952Z"
    }
   },
   "outputs": [],
   "source": [
    "model = tf.keras.Sequential([\n",
    "  feature_layer,\n",
    "  layers.Dense(64, activation='relu'),\n",
    "  layers.Dense(64, activation='relu'),\n",
    "  layers.Dense(1, activation='linear')\n",
    "])"
   ]
  },
  {
   "cell_type": "code",
   "execution_count": 189,
   "metadata": {
    "ExecuteTime": {
     "end_time": "2020-11-19T11:55:37.813067Z",
     "start_time": "2020-11-19T11:55:37.809066Z"
    }
   },
   "outputs": [],
   "source": [
    "def df_to_dataset(dataframe, shuffle=True, batch_size=32):\n",
    "    dataframe = dataframe.copy()\n",
    "    labels = dataframe.pop('transaction_real_price')\n",
    "    ds = tf.data.Dataset.from_tensor_slices((dict(dataframe), labels))\n",
    "    if shuffle:\n",
    "        ds = ds.shuffle(buffer_size=len(dataframe))\n",
    "    ds = ds.batch(batch_size)\n",
    "    return ds"
   ]
  },
  {
   "cell_type": "code",
   "execution_count": 190,
   "metadata": {
    "ExecuteTime": {
     "end_time": "2020-11-19T11:55:41.802404Z",
     "start_time": "2020-11-19T11:55:41.480331Z"
    }
   },
   "outputs": [],
   "source": [
    "TRAIN, VALID = train_test_split(train, random_state=42, test_size=0.2)"
   ]
  },
  {
   "cell_type": "code",
   "execution_count": 191,
   "metadata": {
    "ExecuteTime": {
     "end_time": "2020-11-19T11:56:34.111834Z",
     "start_time": "2020-11-19T11:56:31.750969Z"
    }
   },
   "outputs": [],
   "source": [
    "train_ds = df_to_dataset(TRAIN.loc[:,['exclusive_use_area', 'year_of_completion', 'floor', 'transaction_year',\n",
    "            'transaction_real_price', 'apartment_id', 'city', 'dong', 'jibun', 'apt', 'addr_kr']], batch_size=1024)\n",
    "val_ds=df_to_dataset(VALID.loc[:,['exclusive_use_area', 'year_of_completion', 'floor', 'transaction_year',\n",
    "            'transaction_real_price', 'apartment_id', 'city', 'dong', 'jibun', 'apt', 'addr_kr']], batch_size=1024)"
   ]
  },
  {
   "cell_type": "code",
   "execution_count": 192,
   "metadata": {
    "ExecuteTime": {
     "end_time": "2020-11-19T11:56:48.279927Z",
     "start_time": "2020-11-19T11:56:46.151092Z"
    }
   },
   "outputs": [],
   "source": [
    "epochs=50\n",
    "# decay_st = (len(TRAIN)//1024+1)*epochs\n",
    "# poly_sche = tf.keras.optimizers.schedules.PolynomialDecay(1e-3, decay_st, end_learning_rate=1e-6, power=0.9)\n",
    "# opt = tf.keras.optimizers.Adam(poly_sche)\n",
    "model.compile(optimizer='adam',\n",
    "              loss='mse',\n",
    "              metrics=[tf.keras.metrics.RootMeanSquaredError()])\n"
   ]
  },
  {
   "cell_type": "code",
   "execution_count": 66,
   "metadata": {
    "ExecuteTime": {
     "end_time": "2020-11-19T09:49:07.052188Z",
     "start_time": "2020-11-19T09:44:20.526117Z"
    }
   },
   "outputs": [
    {
     "name": "stdout",
     "output_type": "stream",
     "text": [
      "Train for 951 steps, validate for 238 steps\n",
      "Epoch 1/50\n",
      "951/951 [==============================] - 33s 35ms/step - loss: 1014397563.7117 - root_mean_squared_error: 31855.5039 - val_loss: 311596200.8067 - val_root_mean_squared_error: 17658.4141\n",
      "Epoch 2/50\n",
      "951/951 [==============================] - 26s 28ms/step - loss: 185741878.4936 - root_mean_squared_error: 13628.0049 - val_loss: 128605108.3193 - val_root_mean_squared_error: 11341.2246\n",
      "Epoch 3/50\n",
      "951/951 [==============================] - 27s 29ms/step - loss: 113313058.1397 - root_mean_squared_error: 10643.0664 - val_loss: 101732678.9580 - val_root_mean_squared_error: 10086.3164\n",
      "Epoch 4/50\n",
      "951/951 [==============================] - 27s 28ms/step - loss: 95221131.3072 - root_mean_squared_error: 9758.9189 - val_loss: 89636602.0504 - val_root_mean_squared_error: 9469.0498\n",
      "Epoch 5/50\n",
      "951/951 [==============================] - 27s 29ms/step - loss: 84587159.0635 - root_mean_squared_error: 9197.3516 - val_loss: 80657389.5798 - val_root_mean_squared_error: 8982.9414\n",
      "Epoch 6/50\n",
      "951/951 [==============================] - 27s 29ms/step - loss: 76893512.6365 - root_mean_squared_error: 8769.7197 - val_loss: 74366605.2437 - val_root_mean_squared_error: 8620.1855\n",
      "Epoch 7/50\n",
      "951/951 [==============================] - 28s 30ms/step - loss: 71781324.7197 - root_mean_squared_error: 8472.7578 - val_loss: 70044552.8908 - val_root_mean_squared_error: 8371.2949\n",
      "Epoch 8/50\n",
      "951/951 [==============================] - 29s 30ms/step - loss: 68429836.7116 - root_mean_squared_error: 8269.0742 - val_loss: 67109497.8824 - val_root_mean_squared_error: 8192.71582.9840 - root_mean_squared_error: 8258.087 - ETA: 1s - loss: 68208648.8164 - \n",
      "Epoch 9/50\n",
      "951/951 [==============================] - 28s 30ms/step - loss: 65213200.5913 - root_mean_squared_error: 8067.3667 - val_loss: 62985046.7059 - val_root_mean_squared_error: 7937.0767\n",
      "Epoch 10/50\n",
      "951/951 [==============================] - 26s 27ms/step - loss: 60735772.8589 - root_mean_squared_error: 7793.2837 3s - loss: 61355837.1612 - root_mean_squared_error: 7832.9 - ETA: 2s - loss: 6119\n"
     ]
    },
    {
     "ename": "KeyboardInterrupt",
     "evalue": "",
     "output_type": "error",
     "traceback": [
      "\u001b[1;31m---------------------------------------------------------------------------\u001b[0m",
      "\u001b[1;31mKeyboardInterrupt\u001b[0m                         Traceback (most recent call last)",
      "\u001b[1;32m<ipython-input-66-f9add2d38d5a>\u001b[0m in \u001b[0;36m<module>\u001b[1;34m\u001b[0m\n\u001b[0;32m      6\u001b[0m history1=model.fit(train_ds,\n\u001b[0;32m      7\u001b[0m           \u001b[0mvalidation_data\u001b[0m\u001b[1;33m=\u001b[0m\u001b[0mval_ds\u001b[0m\u001b[1;33m,\u001b[0m\u001b[1;33m\u001b[0m\u001b[1;33m\u001b[0m\u001b[0m\n\u001b[1;32m----> 8\u001b[1;33m           epochs=epochs)\n\u001b[0m",
      "\u001b[1;32m~\\Anaconda3\\lib\\site-packages\\tensorflow_core\\python\\keras\\engine\\training.py\u001b[0m in \u001b[0;36mfit\u001b[1;34m(self, x, y, batch_size, epochs, verbose, callbacks, validation_split, validation_data, shuffle, class_weight, sample_weight, initial_epoch, steps_per_epoch, validation_steps, validation_freq, max_queue_size, workers, use_multiprocessing, **kwargs)\u001b[0m\n\u001b[0;32m    817\u001b[0m         \u001b[0mmax_queue_size\u001b[0m\u001b[1;33m=\u001b[0m\u001b[0mmax_queue_size\u001b[0m\u001b[1;33m,\u001b[0m\u001b[1;33m\u001b[0m\u001b[1;33m\u001b[0m\u001b[0m\n\u001b[0;32m    818\u001b[0m         \u001b[0mworkers\u001b[0m\u001b[1;33m=\u001b[0m\u001b[0mworkers\u001b[0m\u001b[1;33m,\u001b[0m\u001b[1;33m\u001b[0m\u001b[1;33m\u001b[0m\u001b[0m\n\u001b[1;32m--> 819\u001b[1;33m         use_multiprocessing=use_multiprocessing)\n\u001b[0m\u001b[0;32m    820\u001b[0m \u001b[1;33m\u001b[0m\u001b[0m\n\u001b[0;32m    821\u001b[0m   def evaluate(self,\n",
      "\u001b[1;32m~\\Anaconda3\\lib\\site-packages\\tensorflow_core\\python\\keras\\engine\\training_v2.py\u001b[0m in \u001b[0;36mfit\u001b[1;34m(self, model, x, y, batch_size, epochs, verbose, callbacks, validation_split, validation_data, shuffle, class_weight, sample_weight, initial_epoch, steps_per_epoch, validation_steps, validation_freq, max_queue_size, workers, use_multiprocessing, **kwargs)\u001b[0m\n\u001b[0;32m    393\u001b[0m                       \u001b[0mmode\u001b[0m\u001b[1;33m=\u001b[0m\u001b[0mModeKeys\u001b[0m\u001b[1;33m.\u001b[0m\u001b[0mTEST\u001b[0m\u001b[1;33m,\u001b[0m\u001b[1;33m\u001b[0m\u001b[1;33m\u001b[0m\u001b[0m\n\u001b[0;32m    394\u001b[0m                       \u001b[0mtraining_context\u001b[0m\u001b[1;33m=\u001b[0m\u001b[0meval_context\u001b[0m\u001b[1;33m,\u001b[0m\u001b[1;33m\u001b[0m\u001b[1;33m\u001b[0m\u001b[0m\n\u001b[1;32m--> 395\u001b[1;33m                       total_epochs=1)\n\u001b[0m\u001b[0;32m    396\u001b[0m                   cbks.make_logs(model, epoch_logs, eval_result, ModeKeys.TEST,\n\u001b[0;32m    397\u001b[0m                                  prefix='val_')\n",
      "\u001b[1;32m~\\Anaconda3\\lib\\site-packages\\tensorflow_core\\python\\keras\\engine\\training_v2.py\u001b[0m in \u001b[0;36mrun_one_epoch\u001b[1;34m(model, iterator, execution_function, dataset_size, batch_size, strategy, steps_per_epoch, num_samples, mode, training_context, total_epochs)\u001b[0m\n\u001b[0;32m    126\u001b[0m         step=step, mode=mode, size=current_batch_size) as batch_logs:\n\u001b[0;32m    127\u001b[0m       \u001b[1;32mtry\u001b[0m\u001b[1;33m:\u001b[0m\u001b[1;33m\u001b[0m\u001b[1;33m\u001b[0m\u001b[0m\n\u001b[1;32m--> 128\u001b[1;33m         \u001b[0mbatch_outs\u001b[0m \u001b[1;33m=\u001b[0m \u001b[0mexecution_function\u001b[0m\u001b[1;33m(\u001b[0m\u001b[0miterator\u001b[0m\u001b[1;33m)\u001b[0m\u001b[1;33m\u001b[0m\u001b[1;33m\u001b[0m\u001b[0m\n\u001b[0m\u001b[0;32m    129\u001b[0m       \u001b[1;32mexcept\u001b[0m \u001b[1;33m(\u001b[0m\u001b[0mStopIteration\u001b[0m\u001b[1;33m,\u001b[0m \u001b[0merrors\u001b[0m\u001b[1;33m.\u001b[0m\u001b[0mOutOfRangeError\u001b[0m\u001b[1;33m)\u001b[0m\u001b[1;33m:\u001b[0m\u001b[1;33m\u001b[0m\u001b[1;33m\u001b[0m\u001b[0m\n\u001b[0;32m    130\u001b[0m         \u001b[1;31m# TODO(kaftan): File bug about tf function and errors.OutOfRangeError?\u001b[0m\u001b[1;33m\u001b[0m\u001b[1;33m\u001b[0m\u001b[1;33m\u001b[0m\u001b[0m\n",
      "\u001b[1;32m~\\Anaconda3\\lib\\site-packages\\tensorflow_core\\python\\keras\\engine\\training_v2_utils.py\u001b[0m in \u001b[0;36mexecution_function\u001b[1;34m(input_fn)\u001b[0m\n\u001b[0;32m     96\u001b[0m     \u001b[1;31m# `numpy` translates Tensors to values in Eager mode.\u001b[0m\u001b[1;33m\u001b[0m\u001b[1;33m\u001b[0m\u001b[1;33m\u001b[0m\u001b[0m\n\u001b[0;32m     97\u001b[0m     return nest.map_structure(_non_none_constant_value,\n\u001b[1;32m---> 98\u001b[1;33m                               distributed_function(input_fn))\n\u001b[0m\u001b[0;32m     99\u001b[0m \u001b[1;33m\u001b[0m\u001b[0m\n\u001b[0;32m    100\u001b[0m   \u001b[1;32mreturn\u001b[0m \u001b[0mexecution_function\u001b[0m\u001b[1;33m\u001b[0m\u001b[1;33m\u001b[0m\u001b[0m\n",
      "\u001b[1;32m~\\Anaconda3\\lib\\site-packages\\tensorflow_core\\python\\eager\\def_function.py\u001b[0m in \u001b[0;36m__call__\u001b[1;34m(self, *args, **kwds)\u001b[0m\n\u001b[0;32m    566\u001b[0m         \u001b[0mxla_context\u001b[0m\u001b[1;33m.\u001b[0m\u001b[0mExit\u001b[0m\u001b[1;33m(\u001b[0m\u001b[1;33m)\u001b[0m\u001b[1;33m\u001b[0m\u001b[1;33m\u001b[0m\u001b[0m\n\u001b[0;32m    567\u001b[0m     \u001b[1;32melse\u001b[0m\u001b[1;33m:\u001b[0m\u001b[1;33m\u001b[0m\u001b[1;33m\u001b[0m\u001b[0m\n\u001b[1;32m--> 568\u001b[1;33m       \u001b[0mresult\u001b[0m \u001b[1;33m=\u001b[0m \u001b[0mself\u001b[0m\u001b[1;33m.\u001b[0m\u001b[0m_call\u001b[0m\u001b[1;33m(\u001b[0m\u001b[1;33m*\u001b[0m\u001b[0margs\u001b[0m\u001b[1;33m,\u001b[0m \u001b[1;33m**\u001b[0m\u001b[0mkwds\u001b[0m\u001b[1;33m)\u001b[0m\u001b[1;33m\u001b[0m\u001b[1;33m\u001b[0m\u001b[0m\n\u001b[0m\u001b[0;32m    569\u001b[0m \u001b[1;33m\u001b[0m\u001b[0m\n\u001b[0;32m    570\u001b[0m     \u001b[1;32mif\u001b[0m \u001b[0mtracing_count\u001b[0m \u001b[1;33m==\u001b[0m \u001b[0mself\u001b[0m\u001b[1;33m.\u001b[0m\u001b[0m_get_tracing_count\u001b[0m\u001b[1;33m(\u001b[0m\u001b[1;33m)\u001b[0m\u001b[1;33m:\u001b[0m\u001b[1;33m\u001b[0m\u001b[1;33m\u001b[0m\u001b[0m\n",
      "\u001b[1;32m~\\Anaconda3\\lib\\site-packages\\tensorflow_core\\python\\eager\\def_function.py\u001b[0m in \u001b[0;36m_call\u001b[1;34m(self, *args, **kwds)\u001b[0m\n\u001b[0;32m    604\u001b[0m       \u001b[1;31m# In this case we have not created variables on the first call. So we can\u001b[0m\u001b[1;33m\u001b[0m\u001b[1;33m\u001b[0m\u001b[1;33m\u001b[0m\u001b[0m\n\u001b[0;32m    605\u001b[0m       \u001b[1;31m# run the first trace but we should fail if variables are created.\u001b[0m\u001b[1;33m\u001b[0m\u001b[1;33m\u001b[0m\u001b[1;33m\u001b[0m\u001b[0m\n\u001b[1;32m--> 606\u001b[1;33m       \u001b[0mresults\u001b[0m \u001b[1;33m=\u001b[0m \u001b[0mself\u001b[0m\u001b[1;33m.\u001b[0m\u001b[0m_stateful_fn\u001b[0m\u001b[1;33m(\u001b[0m\u001b[1;33m*\u001b[0m\u001b[0margs\u001b[0m\u001b[1;33m,\u001b[0m \u001b[1;33m**\u001b[0m\u001b[0mkwds\u001b[0m\u001b[1;33m)\u001b[0m\u001b[1;33m\u001b[0m\u001b[1;33m\u001b[0m\u001b[0m\n\u001b[0m\u001b[0;32m    607\u001b[0m       \u001b[1;32mif\u001b[0m \u001b[0mself\u001b[0m\u001b[1;33m.\u001b[0m\u001b[0m_created_variables\u001b[0m\u001b[1;33m:\u001b[0m\u001b[1;33m\u001b[0m\u001b[1;33m\u001b[0m\u001b[0m\n\u001b[0;32m    608\u001b[0m         raise ValueError(\"Creating variables on a non-first call to a function\"\n",
      "\u001b[1;32m~\\Anaconda3\\lib\\site-packages\\tensorflow_core\\python\\eager\\function.py\u001b[0m in \u001b[0;36m__call__\u001b[1;34m(self, *args, **kwargs)\u001b[0m\n\u001b[0;32m   2361\u001b[0m     \u001b[1;32mwith\u001b[0m \u001b[0mself\u001b[0m\u001b[1;33m.\u001b[0m\u001b[0m_lock\u001b[0m\u001b[1;33m:\u001b[0m\u001b[1;33m\u001b[0m\u001b[1;33m\u001b[0m\u001b[0m\n\u001b[0;32m   2362\u001b[0m       \u001b[0mgraph_function\u001b[0m\u001b[1;33m,\u001b[0m \u001b[0margs\u001b[0m\u001b[1;33m,\u001b[0m \u001b[0mkwargs\u001b[0m \u001b[1;33m=\u001b[0m \u001b[0mself\u001b[0m\u001b[1;33m.\u001b[0m\u001b[0m_maybe_define_function\u001b[0m\u001b[1;33m(\u001b[0m\u001b[0margs\u001b[0m\u001b[1;33m,\u001b[0m \u001b[0mkwargs\u001b[0m\u001b[1;33m)\u001b[0m\u001b[1;33m\u001b[0m\u001b[1;33m\u001b[0m\u001b[0m\n\u001b[1;32m-> 2363\u001b[1;33m     \u001b[1;32mreturn\u001b[0m \u001b[0mgraph_function\u001b[0m\u001b[1;33m.\u001b[0m\u001b[0m_filtered_call\u001b[0m\u001b[1;33m(\u001b[0m\u001b[0margs\u001b[0m\u001b[1;33m,\u001b[0m \u001b[0mkwargs\u001b[0m\u001b[1;33m)\u001b[0m  \u001b[1;31m# pylint: disable=protected-access\u001b[0m\u001b[1;33m\u001b[0m\u001b[1;33m\u001b[0m\u001b[0m\n\u001b[0m\u001b[0;32m   2364\u001b[0m \u001b[1;33m\u001b[0m\u001b[0m\n\u001b[0;32m   2365\u001b[0m   \u001b[1;33m@\u001b[0m\u001b[0mproperty\u001b[0m\u001b[1;33m\u001b[0m\u001b[1;33m\u001b[0m\u001b[0m\n",
      "\u001b[1;32m~\\Anaconda3\\lib\\site-packages\\tensorflow_core\\python\\eager\\function.py\u001b[0m in \u001b[0;36m_filtered_call\u001b[1;34m(self, args, kwargs)\u001b[0m\n\u001b[0;32m   1609\u001b[0m          if isinstance(t, (ops.Tensor,\n\u001b[0;32m   1610\u001b[0m                            resource_variable_ops.BaseResourceVariable))),\n\u001b[1;32m-> 1611\u001b[1;33m         self.captured_inputs)\n\u001b[0m\u001b[0;32m   1612\u001b[0m \u001b[1;33m\u001b[0m\u001b[0m\n\u001b[0;32m   1613\u001b[0m   \u001b[1;32mdef\u001b[0m \u001b[0m_call_flat\u001b[0m\u001b[1;33m(\u001b[0m\u001b[0mself\u001b[0m\u001b[1;33m,\u001b[0m \u001b[0margs\u001b[0m\u001b[1;33m,\u001b[0m \u001b[0mcaptured_inputs\u001b[0m\u001b[1;33m,\u001b[0m \u001b[0mcancellation_manager\u001b[0m\u001b[1;33m=\u001b[0m\u001b[1;32mNone\u001b[0m\u001b[1;33m)\u001b[0m\u001b[1;33m:\u001b[0m\u001b[1;33m\u001b[0m\u001b[1;33m\u001b[0m\u001b[0m\n",
      "\u001b[1;32m~\\Anaconda3\\lib\\site-packages\\tensorflow_core\\python\\eager\\function.py\u001b[0m in \u001b[0;36m_call_flat\u001b[1;34m(self, args, captured_inputs, cancellation_manager)\u001b[0m\n\u001b[0;32m   1690\u001b[0m       \u001b[1;31m# No tape is watching; skip to running the function.\u001b[0m\u001b[1;33m\u001b[0m\u001b[1;33m\u001b[0m\u001b[1;33m\u001b[0m\u001b[0m\n\u001b[0;32m   1691\u001b[0m       return self._build_call_outputs(self._inference_function.call(\n\u001b[1;32m-> 1692\u001b[1;33m           ctx, args, cancellation_manager=cancellation_manager))\n\u001b[0m\u001b[0;32m   1693\u001b[0m     forward_backward = self._select_forward_and_backward_functions(\n\u001b[0;32m   1694\u001b[0m         \u001b[0margs\u001b[0m\u001b[1;33m,\u001b[0m\u001b[1;33m\u001b[0m\u001b[1;33m\u001b[0m\u001b[0m\n",
      "\u001b[1;32m~\\Anaconda3\\lib\\site-packages\\tensorflow_core\\python\\eager\\function.py\u001b[0m in \u001b[0;36mcall\u001b[1;34m(self, ctx, args, cancellation_manager)\u001b[0m\n\u001b[0;32m    543\u001b[0m               \u001b[0minputs\u001b[0m\u001b[1;33m=\u001b[0m\u001b[0margs\u001b[0m\u001b[1;33m,\u001b[0m\u001b[1;33m\u001b[0m\u001b[1;33m\u001b[0m\u001b[0m\n\u001b[0;32m    544\u001b[0m               \u001b[0mattrs\u001b[0m\u001b[1;33m=\u001b[0m\u001b[1;33m(\u001b[0m\u001b[1;34m\"executor_type\"\u001b[0m\u001b[1;33m,\u001b[0m \u001b[0mexecutor_type\u001b[0m\u001b[1;33m,\u001b[0m \u001b[1;34m\"config_proto\"\u001b[0m\u001b[1;33m,\u001b[0m \u001b[0mconfig\u001b[0m\u001b[1;33m)\u001b[0m\u001b[1;33m,\u001b[0m\u001b[1;33m\u001b[0m\u001b[1;33m\u001b[0m\u001b[0m\n\u001b[1;32m--> 545\u001b[1;33m               ctx=ctx)\n\u001b[0m\u001b[0;32m    546\u001b[0m         \u001b[1;32melse\u001b[0m\u001b[1;33m:\u001b[0m\u001b[1;33m\u001b[0m\u001b[1;33m\u001b[0m\u001b[0m\n\u001b[0;32m    547\u001b[0m           outputs = execute.execute_with_cancellation(\n",
      "\u001b[1;32m~\\Anaconda3\\lib\\site-packages\\tensorflow_core\\python\\eager\\execute.py\u001b[0m in \u001b[0;36mquick_execute\u001b[1;34m(op_name, num_outputs, inputs, attrs, ctx, name)\u001b[0m\n\u001b[0;32m     59\u001b[0m     tensors = pywrap_tensorflow.TFE_Py_Execute(ctx._handle, device_name,\n\u001b[0;32m     60\u001b[0m                                                \u001b[0mop_name\u001b[0m\u001b[1;33m,\u001b[0m \u001b[0minputs\u001b[0m\u001b[1;33m,\u001b[0m \u001b[0mattrs\u001b[0m\u001b[1;33m,\u001b[0m\u001b[1;33m\u001b[0m\u001b[1;33m\u001b[0m\u001b[0m\n\u001b[1;32m---> 61\u001b[1;33m                                                num_outputs)\n\u001b[0m\u001b[0;32m     62\u001b[0m   \u001b[1;32mexcept\u001b[0m \u001b[0mcore\u001b[0m\u001b[1;33m.\u001b[0m\u001b[0m_NotOkStatusException\u001b[0m \u001b[1;32mas\u001b[0m \u001b[0me\u001b[0m\u001b[1;33m:\u001b[0m\u001b[1;33m\u001b[0m\u001b[1;33m\u001b[0m\u001b[0m\n\u001b[0;32m     63\u001b[0m     \u001b[1;32mif\u001b[0m \u001b[0mname\u001b[0m \u001b[1;32mis\u001b[0m \u001b[1;32mnot\u001b[0m \u001b[1;32mNone\u001b[0m\u001b[1;33m:\u001b[0m\u001b[1;33m\u001b[0m\u001b[1;33m\u001b[0m\u001b[0m\n",
      "\u001b[1;31mKeyboardInterrupt\u001b[0m: "
     ]
    }
   ],
   "source": [
    "\n",
    "\n",
    "history1=model.fit(train_ds,\n",
    "          validation_data=val_ds,\n",
    "          epochs=epochs)"
   ]
  },
  {
   "cell_type": "code",
   "execution_count": null,
   "metadata": {},
   "outputs": [],
   "source": [
    "model.compile(optimizer=opt,\n",
    "              loss='mse',\n",
    "             metrics=[tf.keras.metrics.RootMeanSquaredError()])\n",
    "\n",
    "history2= model.fit(train_ds,\n",
    "          validation_data=val_ds,\n",
    "          epochs=100)"
   ]
  },
  {
   "cell_type": "code",
   "execution_count": 238,
   "metadata": {
    "ExecuteTime": {
     "end_time": "2020-11-18T20:30:23.278339Z",
     "start_time": "2020-11-18T19:57:54.720453Z"
    }
   },
   "outputs": [
    {
     "name": "stdout",
     "output_type": "stream",
     "text": [
      "Train for 951 steps, validate for 238 steps\n",
      "Epoch 1/100\n",
      "951/951 [==============================] - 20s 22ms/step - loss: 538846304.2172 - val_loss: 83622165.4118\n",
      "Epoch 2/100\n",
      "951/951 [==============================] - 19s 20ms/step - loss: 55669454.8970 - val_loss: 39861583.1933\n",
      "Epoch 3/100\n",
      "951/951 [==============================] - 19s 20ms/step - loss: 35483680.7066 - val_loss: 35234912.4286\n",
      "Epoch 4/100\n",
      "951/951 [==============================] - 19s 20ms/step - loss: 29979105.1168 - val_loss: 27578078.1471\n",
      "Epoch 5/100\n",
      "951/951 [==============================] - 19s 20ms/step - loss: 27196385.0332 - val_loss: 26719846.8025\n",
      "Epoch 6/100\n",
      "951/951 [==============================] - 19s 20ms/step - loss: 25792173.4028 - val_loss: 24100758.8529\n",
      "Epoch 7/100\n",
      "951/951 [==============================] - 19s 20ms/step - loss: 24448474.0117 - val_loss: 29255760.6176\n",
      "Epoch 8/100\n",
      "951/951 [==============================] - 21s 22ms/step - loss: 23865953.6278 - val_loss: 24216449.4076\n",
      "Epoch 9/100\n",
      "951/951 [==============================] - 21s 22ms/step - loss: 22992750.9589 - val_loss: 23816360.2731\n",
      "Epoch 10/100\n",
      "951/951 [==============================] - 20s 21ms/step - loss: 22571263.6854 - val_loss: 25091725.0630\n",
      "Epoch 11/100\n",
      "951/951 [==============================] - 20s 21ms/step - loss: 22208937.1608 - val_loss: 23138224.0840\n",
      "Epoch 12/100\n",
      "951/951 [==============================] - 19s 20ms/step - loss: 21952010.6202 - val_loss: 24150735.7731\n",
      "Epoch 13/100\n",
      "951/951 [==============================] - 20s 21ms/step - loss: 21584933.4884 - val_loss: 23911610.2395\n",
      "Epoch 14/100\n",
      "951/951 [==============================] - 19s 20ms/step - loss: 21128299.8194 - val_loss: 23654046.6429\n",
      "Epoch 15/100\n",
      "951/951 [==============================] - 20s 21ms/step - loss: 21052930.9119 - val_loss: 23623751.4790\n",
      "Epoch 16/100\n",
      "951/951 [==============================] - 20s 21ms/step - loss: 20747934.7796 - val_loss: 22922722.3151\n",
      "Epoch 17/100\n",
      "951/951 [==============================] - 20s 21ms/step - loss: 20519743.8153 - val_loss: 21575590.8235\n",
      "Epoch 18/100\n",
      "951/951 [==============================] - 20s 21ms/step - loss: 20207259.9983 - val_loss: 20646876.9328\n",
      "Epoch 19/100\n",
      "951/951 [==============================] - 20s 21ms/step - loss: 20161606.0196 - val_loss: 23694463.5252\n",
      "Epoch 20/100\n",
      "951/951 [==============================] - 19s 20ms/step - loss: 19812019.8221 - val_loss: 20737810.4622\n",
      "Epoch 21/100\n",
      "951/951 [==============================] - 19s 20ms/step - loss: 19592509.1293 - val_loss: 20912337.4244\n",
      "Epoch 22/100\n",
      "951/951 [==============================] - 20s 21ms/step - loss: 19586196.4295 - val_loss: 20718538.1050\n",
      "Epoch 23/100\n",
      "951/951 [==============================] - 19s 20ms/step - loss: 19328690.7490 - val_loss: 23212554.3151\n",
      "Epoch 24/100\n",
      "951/951 [==============================] - 19s 20ms/step - loss: 19292882.4401 - val_loss: 20454937.2899\n",
      "Epoch 25/100\n",
      "951/951 [==============================] - 20s 21ms/step - loss: 19010518.5616 - val_loss: 19764083.1933\n",
      "Epoch 26/100\n",
      "951/951 [==============================] - 19s 20ms/step - loss: 18996017.4625 - val_loss: 19913815.7773\n",
      "Epoch 27/100\n",
      "951/951 [==============================] - 20s 21ms/step - loss: 19250316.7203 - val_loss: 20411263.2311\n",
      "Epoch 28/100\n",
      "951/951 [==============================] - 19s 20ms/step - loss: 18649097.5201 - val_loss: 21364658.8235\n",
      "Epoch 29/100\n",
      "951/951 [==============================] - 19s 20ms/step - loss: 18711537.7052 - val_loss: 20484316.5924\n",
      "Epoch 30/100\n",
      "951/951 [==============================] - 19s 20ms/step - loss: 18565181.0156 - val_loss: 21539110.2563\n",
      "Epoch 31/100\n",
      "951/951 [==============================] - 19s 20ms/step - loss: 18445801.3696 - val_loss: 20812068.3319\n",
      "Epoch 32/100\n",
      "951/951 [==============================] - 19s 20ms/step - loss: 18403075.2887 - val_loss: 19945038.1261\n",
      "Epoch 33/100\n",
      "951/951 [==============================] - 19s 20ms/step - loss: 18228339.7139 - val_loss: 25054251.9244\n",
      "Epoch 34/100\n",
      "951/951 [==============================] - 19s 20ms/step - loss: 17981189.1202 - val_loss: 19950988.6303\n",
      "Epoch 35/100\n",
      "951/951 [==============================] - 19s 20ms/step - loss: 18123624.3255 - val_loss: 21083026.5294\n",
      "Epoch 36/100\n",
      "951/951 [==============================] - 19s 20ms/step - loss: 18204669.6961 - val_loss: 22455082.0546\n",
      "Epoch 37/100\n",
      "951/951 [==============================] - 19s 20ms/step - loss: 18067061.8451 - val_loss: 21523032.2059\n",
      "Epoch 38/100\n",
      "951/951 [==============================] - 19s 20ms/step - loss: 17887796.3711 - val_loss: 20549703.9790\n",
      "Epoch 39/100\n",
      "951/951 [==============================] - 19s 20ms/step - loss: 17897589.8034 - val_loss: 19632818.8697\n",
      "Epoch 40/100\n",
      "951/951 [==============================] - 19s 20ms/step - loss: 17730556.0949 - val_loss: 20336750.4412\n",
      "Epoch 41/100\n",
      "951/951 [==============================] - 20s 21ms/step - loss: 17733921.8647 - val_loss: 20208727.4958\n",
      "Epoch 42/100\n",
      "951/951 [==============================] - 19s 20ms/step - loss: 17892555.8603 - val_loss: 21299398.7773\n",
      "Epoch 43/100\n",
      "951/951 [==============================] - 20s 21ms/step - loss: 17677244.7967 - val_loss: 19463415.4412\n",
      "Epoch 44/100\n",
      "951/951 [==============================] - 21s 22ms/step - loss: 17708806.8999 - val_loss: 19486449.0294\n",
      "Epoch 45/100\n",
      "951/951 [==============================] - 21s 22ms/step - loss: 17577895.8550 - val_loss: 19654630.4496\n",
      "Epoch 46/100\n",
      "951/951 [==============================] - 21s 22ms/step - loss: 17569761.2623 - val_loss: 21180971.8445\n",
      "Epoch 47/100\n",
      "951/951 [==============================] - 20s 21ms/step - loss: 17470763.3068 - val_loss: 21091175.3319\n",
      "Epoch 48/100\n",
      "951/951 [==============================] - 19s 20ms/step - loss: 17511573.0836 - val_loss: 21060477.6975\n",
      "Epoch 49/100\n",
      "951/951 [==============================] - 20s 21ms/step - loss: 17268581.0038 - val_loss: 19707174.8655\n",
      "Epoch 50/100\n",
      "951/951 [==============================] - 19s 20ms/step - loss: 17404136.9925 - val_loss: 20236968.8445\n",
      "Epoch 51/100\n",
      "951/951 [==============================] - 21s 22ms/step - loss: 17256603.0777 - val_loss: 22727794.7857\n",
      "Epoch 52/100\n",
      "951/951 [==============================] - 20s 22ms/step - loss: 17082829.1935 - val_loss: 19398272.0966\n",
      "Epoch 53/100\n",
      "951/951 [==============================] - 19s 20ms/step - loss: 17396105.9236 - val_loss: 24087754.1050\n",
      "Epoch 54/100\n",
      "951/951 [==============================] - 20s 21ms/step - loss: 17234071.9542 - val_loss: 20030459.5126\n",
      "Epoch 55/100\n",
      "951/951 [==============================] - 19s 20ms/step - loss: 17089196.8893 - val_loss: 21681158.5672\n",
      "Epoch 56/100\n",
      "951/951 [==============================] - 19s 20ms/step - loss: 17086097.7597 - val_loss: 22387298.8992\n",
      "Epoch 57/100\n",
      "951/951 [==============================] - 19s 20ms/step - loss: 17086141.1427 - val_loss: 19831350.4832\n",
      "Epoch 58/100\n",
      "951/951 [==============================] - 19s 20ms/step - loss: 17143800.5154 - val_loss: 19909817.7815\n",
      "Epoch 59/100\n",
      "951/951 [==============================] - 19s 20ms/step - loss: 17040019.9975 - val_loss: 22008112.1008\n",
      "Epoch 60/100\n",
      "951/951 [==============================] - 19s 20ms/step - loss: 16906255.3463 - val_loss: 20300725.8782\n",
      "Epoch 61/100\n",
      "951/951 [==============================] - 19s 20ms/step - loss: 16871571.3448 - val_loss: 20997062.5546\n",
      "Epoch 62/100\n",
      "951/951 [==============================] - 19s 20ms/step - loss: 16755534.7786 - val_loss: 19543807.5672\n",
      "Epoch 63/100\n",
      "951/951 [==============================] - 19s 20ms/step - loss: 16906363.5343 - val_loss: 19341396.5714\n",
      "Epoch 64/100\n",
      "951/951 [==============================] - 20s 21ms/step - loss: 16794103.9914 - val_loss: 20344546.4874\n",
      "Epoch 65/100\n",
      "951/951 [==============================] - 19s 20ms/step - loss: 16919615.0621 - val_loss: 21587881.9622\n",
      "Epoch 66/100\n",
      "951/951 [==============================] - 20s 21ms/step - loss: 16779780.6890 - val_loss: 19314900.6849\n",
      "Epoch 67/100\n",
      "951/951 [==============================] - 19s 20ms/step - loss: 16808718.4155 - val_loss: 20666831.1597\n",
      "Epoch 68/100\n",
      "951/951 [==============================] - 19s 20ms/step - loss: 16859729.4489 - val_loss: 19451211.2479\n",
      "Epoch 69/100\n",
      "951/951 [==============================] - 19s 20ms/step - loss: 16895432.6823 - val_loss: 21143995.0672\n",
      "Epoch 70/100\n",
      "951/951 [==============================] - 19s 20ms/step - loss: 16677799.9086 - val_loss: 19598756.2731\n",
      "Epoch 71/100\n",
      "951/951 [==============================] - 19s 20ms/step - loss: 16709901.5121 - val_loss: 19800816.6681\n",
      "Epoch 72/100\n",
      "951/951 [==============================] - 19s 20ms/step - loss: 16779634.8817 - val_loss: 19472465.3529\n",
      "Epoch 73/100\n",
      "951/951 [==============================] - 19s 20ms/step - loss: 16576374.2808 - val_loss: 19697136.3529\n",
      "Epoch 74/100\n",
      "951/951 [==============================] - 19s 20ms/step - loss: 16639006.5570 - val_loss: 19262051.1303\n",
      "Epoch 75/100\n",
      "951/951 [==============================] - 19s 20ms/step - loss: 16554054.5057 - val_loss: 19893469.2101\n",
      "Epoch 76/100\n",
      "951/951 [==============================] - 19s 20ms/step - loss: 16873456.5154 - val_loss: 19923744.2101\n",
      "Epoch 77/100\n",
      "951/951 [==============================] - 19s 20ms/step - loss: 16616029.2698 - val_loss: 20008761.9244\n",
      "Epoch 78/100\n",
      "951/951 [==============================] - 19s 20ms/step - loss: 16566527.4975 - val_loss: 19495838.0714\n",
      "Epoch 79/100\n",
      "951/951 [==============================] - 19s 20ms/step - loss: 16729517.0551 - val_loss: 22172054.8277\n",
      "Epoch 80/100\n",
      "951/951 [==============================] - 19s 20ms/step - loss: 16612817.7384 - val_loss: 19593869.7563\n",
      "Epoch 81/100\n",
      "951/951 [==============================] - 19s 20ms/step - loss: 16300148.9703 - val_loss: 19055494.3782\n",
      "Epoch 82/100\n",
      "951/951 [==============================] - 19s 20ms/step - loss: 16487261.8656 - val_loss: 19832947.4622\n",
      "Epoch 83/100\n",
      "951/951 [==============================] - 19s 20ms/step - loss: 16495780.9941 - val_loss: 20859375.3193\n",
      "Epoch 84/100\n",
      "951/951 [==============================] - 19s 20ms/step - loss: 16270376.2779 - val_loss: 19996576.5756\n",
      "Epoch 85/100\n",
      "951/951 [==============================] - 20s 21ms/step - loss: 16366234.8237 - val_loss: 20870338.9832\n",
      "Epoch 86/100\n",
      "951/951 [==============================] - 20s 21ms/step - loss: 16402780.7996 - val_loss: 19330321.9412\n",
      "Epoch 87/100\n",
      "951/951 [==============================] - 20s 21ms/step - loss: 16308102.7982 - val_loss: 18839736.1471\n",
      "Epoch 88/100\n",
      "951/951 [==============================] - 20s 21ms/step - loss: 16232821.6198 - val_loss: 19365418.4370\n",
      "Epoch 89/100\n",
      "951/951 [==============================] - 21s 22ms/step - loss: 16410064.1327 - val_loss: 20323983.8361\n",
      "Epoch 90/100\n",
      "951/951 [==============================] - 19s 20ms/step - loss: 16255368.4676 - val_loss: 19689440.2815\n",
      "Epoch 91/100\n",
      "951/951 [==============================] - 19s 20ms/step - loss: 16226410.6170 - val_loss: 20487180.3361\n",
      "Epoch 92/100\n",
      "951/951 [==============================] - 19s 20ms/step - loss: 16170610.2222 - val_loss: 21647188.8739\n",
      "Epoch 93/100\n",
      "951/951 [==============================] - 19s 20ms/step - loss: 16286387.3807 - val_loss: 19492506.7773\n",
      "Epoch 94/100\n",
      "951/951 [==============================] - 20s 21ms/step - loss: 16206454.2096 - val_loss: 20219200.2815\n",
      "Epoch 95/100\n",
      "951/951 [==============================] - 19s 20ms/step - loss: 16049975.3335 - val_loss: 21640923.2101\n",
      "Epoch 96/100\n",
      "951/951 [==============================] - 19s 20ms/step - loss: 16110862.1342 - val_loss: 19132283.0168\n",
      "Epoch 97/100\n",
      "951/951 [==============================] - 19s 20ms/step - loss: 16177102.9781 - val_loss: 23930844.3403\n",
      "Epoch 98/100\n",
      "951/951 [==============================] - 19s 20ms/step - loss: 16071926.1279 - val_loss: 19114892.2479\n",
      "Epoch 99/100\n",
      "951/951 [==============================] - 19s 20ms/step - loss: 16074022.9170 - val_loss: 19988648.9160\n",
      "Epoch 100/100\n",
      "951/951 [==============================] - 19s 20ms/step - loss: 16122550.1948 - val_loss: 20597448.4412\n"
     ]
    },
    {
     "data": {
      "text/plain": [
       "<tensorflow.python.keras.callbacks.History at 0x18b1e177358>"
      ]
     },
     "execution_count": 238,
     "metadata": {},
     "output_type": "execute_result"
    }
   ],
   "source": [
    "model.compile(optimizer='adam',\n",
    "              loss='mse')\n",
    "\n",
    "model.fit(train_ds,\n",
    "          validation_data=val_ds,\n",
    "          epochs=100)"
   ]
  },
  {
   "cell_type": "code",
   "execution_count": 303,
   "metadata": {
    "ExecuteTime": {
     "end_time": "2020-11-19T07:39:38.217969Z",
     "start_time": "2020-11-19T07:39:38.211968Z"
    },
    "scrolled": true
   },
   "outputs": [
    {
     "data": {
      "text/plain": [
       "<tensorflow.python.keras.metrics.RootMeanSquaredError at 0x18b40824400>"
      ]
     },
     "execution_count": 303,
     "metadata": {},
     "output_type": "execute_result"
    }
   ],
   "source": [
    "tf.keras.metrics.RootMeanSquaredError()"
   ]
  },
  {
   "cell_type": "code",
   "execution_count": null,
   "metadata": {
    "ExecuteTime": {
     "start_time": "2020-11-19T07:40:18.990Z"
    }
   },
   "outputs": [
    {
     "name": "stdout",
     "output_type": "stream",
     "text": [
      "Train for 951 steps, validate for 238 steps\n",
      "Epoch 1/100\n",
      "951/951 [==============================] - 30s 31ms/step - loss: 271841479.8837 - root_mean_squared_error: 16491.6660 - val_loss: 76014011.6975 - val_root_mean_squared_error: 8715.3818\n",
      "Epoch 2/100\n",
      "951/951 [==============================] - 28s 30ms/step - loss: 69067628.3597 - root_mean_squared_error: 8311.9980 - val_loss: 62751208.5966 - val_root_mean_squared_error: 7923.9414\n",
      "Epoch 3/100\n",
      "951/951 [==============================] - 28s 30ms/step - loss: 58728708.5220 - root_mean_squared_error: 7664.1655 - val_loss: 54398494.9496 - val_root_mean_squared_error: 7371.4785\n",
      "Epoch 4/100\n",
      "951/951 [==============================] - 28s 30ms/step - loss: 51432034.9584 - root_mean_squared_error: 7171.9424 - val_loss: 48269784.4454 - val_root_mean_squared_error: 6947.3325\n",
      "Epoch 5/100\n",
      "951/951 [==============================] - 28s 29ms/step - loss: 46496285.4157 - root_mean_squared_error: 6819.0684 - val_loss: 44167623.2773 - val_root_mean_squared_error: 6641.6172\n",
      "Epoch 6/100\n",
      "951/951 [==============================] - 28s 29ms/step - loss: 42704049.9489 - root_mean_squared_error: 6535.1880 - val_loss: 40572664.3109 - val_root_mean_squared_error: 6368.8877\n",
      "Epoch 7/100\n",
      "951/951 [==============================] - 28s 29ms/step - loss: 39441657.1184 - root_mean_squared_error: 6275.5020 - val_loss: 37617698.2353 - val_root_mean_squared_error: 6132.5654\n",
      "Epoch 8/100\n",
      "951/951 [==============================] - 28s 30ms/step - loss: 36441860.7104 - root_mean_squared_error: 6035.5327 - val_loss: 34571338.9412 - val_root_mean_squared_error: 5880.1753\n",
      "Epoch 9/100\n",
      "951/951 [==============================] - 28s 30ms/step - loss: 33895753.8002 - root_mean_squared_error: 5821.9795 - val_loss: 32307523.5420 - val_root_mean_squared_error: 5686.2949\n",
      "Epoch 10/100\n",
      "951/951 [==============================] - 28s 30ms/step - loss: 31972049.3303 - root_mean_squared_error: 5653.8232 - val_loss: 30911765.0168 - val_root_mean_squared_error: 5559.3975\n",
      "Epoch 11/100\n",
      "951/951 [==============================] - 28s 30ms/step - loss: 30517696.6350 - root_mean_squared_error: 5524.8960 - val_loss: 29511214.5126 - val_root_mean_squared_error: 5433.0332\n",
      "Epoch 12/100\n",
      "951/951 [==============================] - 28s 30ms/step - loss: 29382037.3277 - root_mean_squared_error: 5420.7896 - val_loss: 28565876.6681 - val_root_mean_squared_error: 5339.4717\n",
      "Epoch 13/100\n",
      "951/951 [==============================] - 28s 30ms/step - loss: 28478235.8911 - root_mean_squared_error: 5336.7695 - val_loss: 27823382.7941 - val_root_mean_squared_error: 5273.6401\n",
      "Epoch 14/100\n",
      "951/951 [==============================] - 29s 30ms/step - loss: 27711486.8392 - root_mean_squared_error: 5264.4673 - val_loss: 27096847.3613 - val_root_mean_squared_error: 5207.4639\n",
      "Epoch 15/100\n",
      "951/951 [==============================] - 28s 30ms/step - loss: 27108498.3695 - root_mean_squared_error: 5207.2393 - val_loss: 26617526.3739 - val_root_mean_squared_error: 5160.4707\n",
      "Epoch 16/100\n",
      "951/951 [==============================] - 29s 30ms/step - loss: 26476020.0603 - root_mean_squared_error: 5145.5942 - val_loss: 26300643.0630 - val_root_mean_squared_error: 5128.9907\n",
      "Epoch 17/100\n",
      "951/951 [==============================] - 29s 30ms/step - loss: 25905001.0898 - root_mean_squared_error: 5090.4077 - val_loss: 25721821.5294 - val_root_mean_squared_error: 5070.7437\n",
      "Epoch 18/100\n",
      "951/951 [==============================] - 29s 30ms/step - loss: 25420958.9977 - root_mean_squared_error: 5042.0767 - val_loss: 25235353.4496 - val_root_mean_squared_error: 5023.2207\n",
      "Epoch 19/100\n",
      "951/951 [==============================] - 28s 30ms/step - loss: 24946629.7773 - root_mean_squared_error: 4995.4219 - val_loss: 25018202.2059 - val_root_mean_squared_error: 5003.9707\n",
      "Epoch 20/100\n",
      "951/951 [==============================] - 29s 30ms/step - loss: 24593931.4438 - root_mean_squared_error: 4959.6631 - val_loss: 24968302.3445 - val_root_mean_squared_error: 4997.2490\n",
      "Epoch 21/100\n",
      "951/951 [==============================] - 29s 30ms/step - loss: 24253818.1394 - root_mean_squared_error: 4924.3853 - val_loss: 24278302.2941 - val_root_mean_squared_error: 4928.3955\n",
      "Epoch 22/100\n",
      "951/951 [==============================] - 29s 31ms/step - loss: 23943965.0411 - root_mean_squared_error: 4893.6021 - val_loss: 24059629.3025 - val_root_mean_squared_error: 4904.8608\n",
      "Epoch 23/100\n",
      "951/951 [==============================] - 29s 31ms/step - loss: 23674045.1518 - root_mean_squared_error: 4866.3584 - val_loss: 24028262.5630 - val_root_mean_squared_error: 4903.0576\n",
      "Epoch 24/100\n",
      "951/951 [==============================] - 30s 31ms/step - loss: 23408942.8779 - root_mean_squared_error: 4838.9429 - val_loss: 23735961.6891 - val_root_mean_squared_error: 4873.4111\n",
      "Epoch 25/100\n",
      "951/951 [==============================] - 29s 30ms/step - loss: 23186508.0344 - root_mean_squared_error: 4815.5122 - val_loss: 23358226.5756 - val_root_mean_squared_error: 4834.2573\n",
      "Epoch 26/100\n",
      "951/951 [==============================] - 29s 30ms/step - loss: 22948659.8579 - root_mean_squared_error: 4790.3687 - val_loss: 23280163.9160 - val_root_mean_squared_error: 4824.8848\n",
      "Epoch 27/100\n",
      "951/951 [==============================] - 30s 31ms/step - loss: 22746142.3712 - root_mean_squared_error: 4768.2495 - val_loss: 23060773.3109 - val_root_mean_squared_error: 4802.5493\n",
      "Epoch 28/100\n",
      "951/951 [==============================] - 29s 31ms/step - loss: 22540240.8355 - root_mean_squared_error: 4745.3423 - val_loss: 23068695.6639 - val_root_mean_squared_error: 4802.1523\n",
      "Epoch 29/100\n",
      "951/951 [==============================] - 30s 31ms/step - loss: 22303293.7830 - root_mean_squared_error: 4722.8750 - val_loss: 22869323.6218 - val_root_mean_squared_error: 4775.9551\n",
      "Epoch 30/100\n",
      "951/951 [==============================] - 29s 31ms/step - loss: 22179899.4976 - root_mean_squared_error: 4709.8848 - val_loss: 22751945.1933 - val_root_mean_squared_error: 4771.3726\n",
      "Epoch 31/100\n",
      "951/951 [==============================] - 29s 31ms/step - loss: 21961811.4035 - root_mean_squared_error: 4685.3228 - val_loss: 22390410.5126 - val_root_mean_squared_error: 4733.3296\n",
      "Epoch 32/100\n",
      "951/951 [==============================] - 29s 31ms/step - loss: 21784004.2481 - root_mean_squared_error: 4667.9482 - val_loss: 22274072.3950 - val_root_mean_squared_error: 4721.3042\n",
      "Epoch 33/100\n",
      "951/951 [==============================] - 29s 31ms/step - loss: 21612204.0154 - root_mean_squared_error: 4649.3667 - val_loss: 22247065.7563 - val_root_mean_squared_error: 4717.3892\n",
      "Epoch 34/100\n",
      "951/951 [==============================] - 30s 31ms/step - loss: 21454170.1007 - root_mean_squared_error: 4632.4468 - val_loss: 22081419.6555 - val_root_mean_squared_error: 4699.1338\n",
      "Epoch 35/100\n",
      "951/951 [==============================] - 29s 31ms/step - loss: 21309677.1519 - root_mean_squared_error: 4616.9277 - val_loss: 22148183.8739 - val_root_mean_squared_error: 4706.7856\n",
      "Epoch 36/100\n",
      "951/951 [==============================] - 29s 31ms/step - loss: 21158201.8137 - root_mean_squared_error: 4600.3735 - val_loss: 21908952.3739 - val_root_mean_squared_error: 4679.8511\n",
      "Epoch 37/100\n",
      "951/951 [==============================] - 29s 31ms/step - loss: 21046686.6593 - root_mean_squared_error: 4587.7202 - val_loss: 21772227.1218 - val_root_mean_squared_error: 4666.1685\n",
      "Epoch 38/100\n",
      "951/951 [==============================] - 29s 31ms/step - loss: 20923714.3797 - root_mean_squared_error: 4574.7988 - val_loss: 21876923.6639 - val_root_mean_squared_error: 4677.3276\n",
      "Epoch 39/100\n",
      "951/951 [==============================] - 29s 30ms/step - loss: 20791637.5955 - root_mean_squared_error: 4559.8950 - val_loss: 21520763.9958 - val_root_mean_squared_error: 4640.6128\n",
      "Epoch 40/100\n",
      "951/951 [==============================] - 29s 31ms/step - loss: 20669745.9992 - root_mean_squared_error: 4546.4321 - val_loss: 21492344.8109 - val_root_mean_squared_error: 4635.0610\n",
      "Epoch 41/100\n",
      "951/951 [==============================] - 29s 31ms/step - loss: 20565231.1520 - root_mean_squared_error: 4535.3818 - val_loss: 21575948.8445 - val_root_mean_squared_error: 4645.9443\n",
      "Epoch 42/100\n",
      "951/951 [==============================] - 29s 30ms/step - loss: 20457480.2891 - root_mean_squared_error: 4523.3247 - val_loss: 21360056.2563 - val_root_mean_squared_error: 4621.4058\n",
      "Epoch 43/100\n",
      "951/951 [==============================] - 29s 31ms/step - loss: 20315580.3518 - root_mean_squared_error: 4507.4561 - val_loss: 21232855.2269 - val_root_mean_squared_error: 4608.1699\n",
      "Epoch 44/100\n",
      "951/951 [==============================] - 29s 30ms/step - loss: 20259028.5802 - root_mean_squared_error: 4500.8672 - val_loss: 21166997.4538 - val_root_mean_squared_error: 4602.3682\n",
      "Epoch 45/100\n",
      "951/951 [==============================] - 29s 30ms/step - loss: 20167023.4296 - root_mean_squared_error: 4491.1465 - val_loss: 21169908.1050 - val_root_mean_squared_error: 4600.7612\n",
      "Epoch 46/100\n",
      "951/951 [==============================] - 29s 31ms/step - loss: 20094155.9217 - root_mean_squared_error: 4482.8267 - val_loss: 21097990.0462 - val_root_mean_squared_error: 4593.8677\n",
      "Epoch 47/100\n",
      "951/951 [==============================] - 29s 31ms/step - loss: 19993111.7618 - root_mean_squared_error: 4471.5312 - val_loss: 21407254.8067 - val_root_mean_squared_error: 4624.2861\n",
      "Epoch 48/100\n",
      "951/951 [==============================] - 29s 31ms/step - loss: 19916730.1682 - root_mean_squared_error: 4463.3794 - val_loss: 21025438.6050 - val_root_mean_squared_error: 4584.8950\n",
      "Epoch 49/100\n",
      "265/951 [=======>......................] - ETA: 27s - loss: 20034512.1170 - root_mean_squared_error: 4475.9927"
     ]
    }
   ],
   "source": [
    "model.compile(optimizer=opt,\n",
    "              loss='mse',\n",
    "             metrics=[tf.keras.metrics.RootMeanSquaredError()])\n",
    "\n",
    "history1= model.fit(train_ds,\n",
    "          validation_data=val_ds,\n",
    "          epochs=100)"
   ]
  },
  {
   "cell_type": "code",
   "execution_count": null,
   "metadata": {},
   "outputs": [],
   "source": []
  },
  {
   "cell_type": "code",
   "execution_count": null,
   "metadata": {},
   "outputs": [],
   "source": []
  },
  {
   "cell_type": "code",
   "execution_count": null,
   "metadata": {},
   "outputs": [],
   "source": []
  },
  {
   "cell_type": "code",
   "execution_count": null,
   "metadata": {},
   "outputs": [],
   "source": []
  },
  {
   "cell_type": "markdown",
   "metadata": {},
   "source": [
    "# 3주차"
   ]
  },
  {
   "cell_type": "markdown",
   "metadata": {},
   "source": [
    "## Stratified KFold\n",
    "- 계층적 KFold를 통해 원하는 데이터의 분포를 비슷하게 분리할 수 있다.\n",
    "- 한 번 분리하여 사용하는 것 보다 여러번 분리하여 훈련시킨 모델을 앙상블 하면 좋은 성능을 얻을 수 있다.\n",
    "- 모델의 성능이 좋아지는 것이 아니라 여러 분포로 학습시킨 모델의 예측 값을 통해 새로운 데이터에서도 좋은 성능을 기대할 수 있다."
   ]
  },
  {
   "cell_type": "code",
   "execution_count": 275,
   "metadata": {
    "ExecuteTime": {
     "end_time": "2020-11-22T17:55:47.487924Z",
     "start_time": "2020-11-22T17:55:47.482923Z"
    }
   },
   "outputs": [],
   "source": [
    "from sklearn.model_selection import StratifiedKFold\n",
    "from lightgbm import LGBMRegressor"
   ]
  },
  {
   "cell_type": "code",
   "execution_count": 276,
   "metadata": {
    "ExecuteTime": {
     "end_time": "2020-11-22T17:55:48.075976Z",
     "start_time": "2020-11-22T17:55:48.049971Z"
    }
   },
   "outputs": [
    {
     "data": {
      "text/html": [
       "<div>\n",
       "<style scoped>\n",
       "    .dataframe tbody tr th:only-of-type {\n",
       "        vertical-align: middle;\n",
       "    }\n",
       "\n",
       "    .dataframe tbody tr th {\n",
       "        vertical-align: top;\n",
       "    }\n",
       "\n",
       "    .dataframe thead th {\n",
       "        text-align: right;\n",
       "    }\n",
       "</style>\n",
       "<table border=\"1\" class=\"dataframe\">\n",
       "  <thead>\n",
       "    <tr style=\"text-align: right;\">\n",
       "      <th></th>\n",
       "      <th>apartment_id</th>\n",
       "      <th>city</th>\n",
       "      <th>dong</th>\n",
       "      <th>jibun</th>\n",
       "      <th>apt</th>\n",
       "      <th>addr_kr</th>\n",
       "      <th>exclusive_use_area</th>\n",
       "      <th>year_of_completion</th>\n",
       "      <th>transaction_year_month</th>\n",
       "      <th>transaction_date</th>\n",
       "      <th>floor</th>\n",
       "      <th>transaction_real_price</th>\n",
       "      <th>day_care_baby_num_mean</th>\n",
       "      <th>park_area</th>\n",
       "      <th>teacher_num</th>\n",
       "      <th>transaction_year</th>\n",
       "      <th>transaction_month</th>\n",
       "    </tr>\n",
       "  </thead>\n",
       "  <tbody>\n",
       "    <tr>\n",
       "      <th>0</th>\n",
       "      <td>7622</td>\n",
       "      <td>1</td>\n",
       "      <td>262</td>\n",
       "      <td>5963</td>\n",
       "      <td>6819</td>\n",
       "      <td>7311</td>\n",
       "      <td>84.82</td>\n",
       "      <td>15</td>\n",
       "      <td>0</td>\n",
       "      <td>5</td>\n",
       "      <td>2</td>\n",
       "      <td>37500</td>\n",
       "      <td>NaN</td>\n",
       "      <td>NaN</td>\n",
       "      <td>NaN</td>\n",
       "      <td>9</td>\n",
       "      <td>1</td>\n",
       "    </tr>\n",
       "    <tr>\n",
       "      <th>1</th>\n",
       "      <td>5399</td>\n",
       "      <td>1</td>\n",
       "      <td>441</td>\n",
       "      <td>1401</td>\n",
       "      <td>4748</td>\n",
       "      <td>11733</td>\n",
       "      <td>99.17</td>\n",
       "      <td>44</td>\n",
       "      <td>0</td>\n",
       "      <td>1</td>\n",
       "      <td>6</td>\n",
       "      <td>20000</td>\n",
       "      <td>NaN</td>\n",
       "      <td>NaN</td>\n",
       "      <td>NaN</td>\n",
       "      <td>9</td>\n",
       "      <td>1</td>\n",
       "    </tr>\n",
       "    <tr>\n",
       "      <th>2</th>\n",
       "      <td>3578</td>\n",
       "      <td>1</td>\n",
       "      <td>441</td>\n",
       "      <td>9696</td>\n",
       "      <td>2948</td>\n",
       "      <td>11734</td>\n",
       "      <td>84.74</td>\n",
       "      <td>10</td>\n",
       "      <td>0</td>\n",
       "      <td>1</td>\n",
       "      <td>6</td>\n",
       "      <td>38500</td>\n",
       "      <td>NaN</td>\n",
       "      <td>NaN</td>\n",
       "      <td>NaN</td>\n",
       "      <td>9</td>\n",
       "      <td>1</td>\n",
       "    </tr>\n",
       "    <tr>\n",
       "      <th>3</th>\n",
       "      <td>10957</td>\n",
       "      <td>1</td>\n",
       "      <td>68</td>\n",
       "      <td>8203</td>\n",
       "      <td>9557</td>\n",
       "      <td>2502</td>\n",
       "      <td>146.39</td>\n",
       "      <td>14</td>\n",
       "      <td>0</td>\n",
       "      <td>0</td>\n",
       "      <td>15</td>\n",
       "      <td>118000</td>\n",
       "      <td>NaN</td>\n",
       "      <td>NaN</td>\n",
       "      <td>NaN</td>\n",
       "      <td>9</td>\n",
       "      <td>1</td>\n",
       "    </tr>\n",
       "    <tr>\n",
       "      <th>4</th>\n",
       "      <td>10639</td>\n",
       "      <td>1</td>\n",
       "      <td>68</td>\n",
       "      <td>501</td>\n",
       "      <td>9304</td>\n",
       "      <td>2497</td>\n",
       "      <td>194.43</td>\n",
       "      <td>13</td>\n",
       "      <td>0</td>\n",
       "      <td>5</td>\n",
       "      <td>3</td>\n",
       "      <td>120000</td>\n",
       "      <td>NaN</td>\n",
       "      <td>NaN</td>\n",
       "      <td>NaN</td>\n",
       "      <td>9</td>\n",
       "      <td>1</td>\n",
       "    </tr>\n",
       "  </tbody>\n",
       "</table>\n",
       "</div>"
      ],
      "text/plain": [
       "  apartment_id city dong jibun   apt addr_kr  exclusive_use_area  \\\n",
       "0         7622    1  262  5963  6819    7311               84.82   \n",
       "1         5399    1  441  1401  4748   11733               99.17   \n",
       "2         3578    1  441  9696  2948   11734               84.74   \n",
       "3        10957    1   68  8203  9557    2502              146.39   \n",
       "4        10639    1   68   501  9304    2497              194.43   \n",
       "\n",
       "   year_of_completion  transaction_year_month  transaction_date  floor  \\\n",
       "0                  15                       0                 5      2   \n",
       "1                  44                       0                 1      6   \n",
       "2                  10                       0                 1      6   \n",
       "3                  14                       0                 0     15   \n",
       "4                  13                       0                 5      3   \n",
       "\n",
       "   transaction_real_price  day_care_baby_num_mean  park_area  teacher_num  \\\n",
       "0                   37500                     NaN        NaN          NaN   \n",
       "1                   20000                     NaN        NaN          NaN   \n",
       "2                   38500                     NaN        NaN          NaN   \n",
       "3                  118000                     NaN        NaN          NaN   \n",
       "4                  120000                     NaN        NaN          NaN   \n",
       "\n",
       "   transaction_year  transaction_month  \n",
       "0                 9                  1  \n",
       "1                 9                  1  \n",
       "2                 9                  1  \n",
       "3                 9                  1  \n",
       "4                 9                  1  "
      ]
     },
     "execution_count": 276,
     "metadata": {},
     "output_type": "execute_result"
    }
   ],
   "source": [
    "train.head()"
   ]
  },
  {
   "cell_type": "markdown",
   "metadata": {},
   "source": [
    "### test 데이터에 day_care_baby_num_mean, park_area, teacher_num의 결측값이 다수 존재하기 때문에 test 데이터 예측시 좋지 않은 결과를 보임. transaction_year의 경우 importance score의 결과가 매우 낮음."
   ]
  },
  {
   "cell_type": "code",
   "execution_count": 278,
   "metadata": {
    "ExecuteTime": {
     "end_time": "2020-11-22T17:55:51.302870Z",
     "start_time": "2020-11-22T17:55:51.266855Z"
    }
   },
   "outputs": [],
   "source": [
    "drop_column = ['transaction_real_price', 'day_care_baby_num_mean', 'park_area', 'teacher_num','transaction_year']\n",
    "X_data = train.drop(drop_column, axis=1)\n",
    "y_data = train['transaction_real_price'].values"
   ]
  },
  {
   "cell_type": "code",
   "execution_count": 239,
   "metadata": {
    "ExecuteTime": {
     "end_time": "2020-11-22T13:20:12.421342Z",
     "start_time": "2020-11-22T13:19:44.683730Z"
    }
   },
   "outputs": [],
   "source": [
    "\n",
    "\n",
    "skf = StratifiedKFold(n_splits=5, shuffle=True, random_state=42)\n",
    "\n",
    "folds=[]\n",
    "for train_idx, valid_idx in skf.split(X_data, y_data//100):\n",
    "    folds.append((train_idx, valid_idx))\n",
    "    "
   ]
  },
  {
   "cell_type": "code",
   "execution_count": 240,
   "metadata": {
    "ExecuteTime": {
     "end_time": "2020-11-22T13:20:34.781358Z",
     "start_time": "2020-11-22T13:20:34.777357Z"
    }
   },
   "outputs": [],
   "source": [
    "fold=0\n",
    "train_idx = folds[fold][0]\n",
    "valid_idx = folds[fold][1]"
   ]
  },
  {
   "cell_type": "code",
   "execution_count": 241,
   "metadata": {
    "ExecuteTime": {
     "end_time": "2020-11-22T13:20:35.273476Z",
     "start_time": "2020-11-22T13:20:35.192441Z"
    }
   },
   "outputs": [],
   "source": [
    "train_idx = folds[fold][0]\n",
    "valid_idx = folds[fold][1]\n",
    "X_train, y_train = X_data.iloc[train_idx], y_data[train_idx]\n",
    "X_valid, y_valid = X_data.iloc[valid_idx], y_data[valid_idx]\n"
   ]
  },
  {
   "cell_type": "code",
   "execution_count": 242,
   "metadata": {
    "ExecuteTime": {
     "end_time": "2020-11-22T13:20:36.535873Z",
     "start_time": "2020-11-22T13:20:36.529870Z"
    }
   },
   "outputs": [],
   "source": [
    "lgbm_model = LGBMRegressor(\n",
    "    boosting_type='gbdt',\n",
    "    num_leaves=31,\n",
    "    max_depth=-1,\n",
    "    learning_rate=0.1,\n",
    "    n_estimators=20000,\n",
    "    objective='mse',\n",
    "    subsample=1.0,\n",
    "    colsample_bytree=1.0,\n",
    "    reg_alpha=0.0,\n",
    "    reg_lambda=0.0,\n",
    "    random_state=42,\n",
    "    n_jobs=-1,\n",
    "#         max_bin=2*9\n",
    ")"
   ]
  },
  {
   "cell_type": "code",
   "execution_count": 243,
   "metadata": {
    "ExecuteTime": {
     "end_time": "2020-11-22T13:31:38.498760Z",
     "start_time": "2020-11-22T13:20:37.549119Z"
    },
    "scrolled": true
   },
   "outputs": [
    {
     "name": "stdout",
     "output_type": "stream",
     "text": [
      "Training until validation scores don't improve for 200 rounds\n",
      "[200]\ttraining's rmse: 7862.05\ttraining's l2: 6.18118e+07\tvalid_1's rmse: 8065.55\tvalid_1's l2: 6.50532e+07\n",
      "[400]\ttraining's rmse: 6484.26\ttraining's l2: 4.20457e+07\tvalid_1's rmse: 6739.97\tvalid_1's l2: 4.54273e+07\n",
      "[600]\ttraining's rmse: 5742.37\ttraining's l2: 3.29748e+07\tvalid_1's rmse: 6058.05\tvalid_1's l2: 3.67e+07\n",
      "[800]\ttraining's rmse: 5256.82\ttraining's l2: 2.76342e+07\tvalid_1's rmse: 5638.23\tvalid_1's l2: 3.17897e+07\n",
      "[1000]\ttraining's rmse: 4896.02\ttraining's l2: 2.3971e+07\tvalid_1's rmse: 5334.26\tvalid_1's l2: 2.84543e+07\n",
      "[1200]\ttraining's rmse: 4659.89\ttraining's l2: 2.17146e+07\tvalid_1's rmse: 5137.16\tvalid_1's l2: 2.63904e+07\n",
      "[1400]\ttraining's rmse: 4439.35\ttraining's l2: 1.97078e+07\tvalid_1's rmse: 4963.48\tvalid_1's l2: 2.46362e+07\n",
      "[1600]\ttraining's rmse: 4260.52\ttraining's l2: 1.81521e+07\tvalid_1's rmse: 4825.68\tvalid_1's l2: 2.32872e+07\n",
      "[1800]\ttraining's rmse: 4115.26\ttraining's l2: 1.69354e+07\tvalid_1's rmse: 4718.38\tvalid_1's l2: 2.22631e+07\n",
      "[2000]\ttraining's rmse: 3998.5\ttraining's l2: 1.5988e+07\tvalid_1's rmse: 4637.64\tvalid_1's l2: 2.15078e+07\n",
      "[2200]\ttraining's rmse: 3888.29\ttraining's l2: 1.51188e+07\tvalid_1's rmse: 4562.48\tvalid_1's l2: 2.08162e+07\n",
      "[2400]\ttraining's rmse: 3794.9\ttraining's l2: 1.44012e+07\tvalid_1's rmse: 4496.87\tvalid_1's l2: 2.02218e+07\n",
      "[2600]\ttraining's rmse: 3708.33\ttraining's l2: 1.37517e+07\tvalid_1's rmse: 4444.29\tvalid_1's l2: 1.97517e+07\n",
      "[2800]\ttraining's rmse: 3633.42\ttraining's l2: 1.32018e+07\tvalid_1's rmse: 4400.1\tvalid_1's l2: 1.93609e+07\n",
      "[3000]\ttraining's rmse: 3563.67\ttraining's l2: 1.26997e+07\tvalid_1's rmse: 4358.49\tvalid_1's l2: 1.89965e+07\n",
      "[3200]\ttraining's rmse: 3502.85\ttraining's l2: 1.22699e+07\tvalid_1's rmse: 4325.66\tvalid_1's l2: 1.87113e+07\n",
      "[3400]\ttraining's rmse: 3441.39\ttraining's l2: 1.18432e+07\tvalid_1's rmse: 4293.27\tvalid_1's l2: 1.84322e+07\n",
      "[3600]\ttraining's rmse: 3386.06\ttraining's l2: 1.14654e+07\tvalid_1's rmse: 4262.16\tvalid_1's l2: 1.8166e+07\n",
      "[3800]\ttraining's rmse: 3331.53\ttraining's l2: 1.10991e+07\tvalid_1's rmse: 4235.68\tvalid_1's l2: 1.7941e+07\n",
      "[4000]\ttraining's rmse: 3283.63\ttraining's l2: 1.07822e+07\tvalid_1's rmse: 4209.98\tvalid_1's l2: 1.77239e+07\n",
      "[4200]\ttraining's rmse: 3236.86\ttraining's l2: 1.04772e+07\tvalid_1's rmse: 4186.65\tvalid_1's l2: 1.7528e+07\n",
      "[4400]\ttraining's rmse: 3188.19\ttraining's l2: 1.01646e+07\tvalid_1's rmse: 4162.64\tvalid_1's l2: 1.73276e+07\n",
      "[4600]\ttraining's rmse: 3144.38\ttraining's l2: 9.88714e+06\tvalid_1's rmse: 4148.07\tvalid_1's l2: 1.72065e+07\n",
      "[4800]\ttraining's rmse: 3103.13\ttraining's l2: 9.62943e+06\tvalid_1's rmse: 4133.22\tvalid_1's l2: 1.70835e+07\n",
      "[5000]\ttraining's rmse: 3064.5\ttraining's l2: 9.39114e+06\tvalid_1's rmse: 4118.34\tvalid_1's l2: 1.69608e+07\n",
      "[5200]\ttraining's rmse: 3030.5\ttraining's l2: 9.18395e+06\tvalid_1's rmse: 4104.3\tvalid_1's l2: 1.68452e+07\n",
      "[5400]\ttraining's rmse: 2999.41\ttraining's l2: 8.99647e+06\tvalid_1's rmse: 4094.67\tvalid_1's l2: 1.67663e+07\n",
      "[5600]\ttraining's rmse: 2965.31\ttraining's l2: 8.79309e+06\tvalid_1's rmse: 4086.77\tvalid_1's l2: 1.67017e+07\n",
      "[5800]\ttraining's rmse: 2934.95\ttraining's l2: 8.61392e+06\tvalid_1's rmse: 4077.16\tvalid_1's l2: 1.66232e+07\n",
      "[6000]\ttraining's rmse: 2907.68\ttraining's l2: 8.45459e+06\tvalid_1's rmse: 4065.31\tvalid_1's l2: 1.65268e+07\n",
      "[6200]\ttraining's rmse: 2880.35\ttraining's l2: 8.29639e+06\tvalid_1's rmse: 4056.59\tvalid_1's l2: 1.6456e+07\n",
      "[6400]\ttraining's rmse: 2855.18\ttraining's l2: 8.15206e+06\tvalid_1's rmse: 4048.04\tvalid_1's l2: 1.63866e+07\n",
      "[6600]\ttraining's rmse: 2830.37\ttraining's l2: 8.01098e+06\tvalid_1's rmse: 4038.92\tvalid_1's l2: 1.63129e+07\n",
      "[6800]\ttraining's rmse: 2805.55\ttraining's l2: 7.87112e+06\tvalid_1's rmse: 4029.99\tvalid_1's l2: 1.62408e+07\n",
      "[7000]\ttraining's rmse: 2780.97\ttraining's l2: 7.73379e+06\tvalid_1's rmse: 4023.24\tvalid_1's l2: 1.61865e+07\n",
      "[7200]\ttraining's rmse: 2756.97\ttraining's l2: 7.6009e+06\tvalid_1's rmse: 4017.33\tvalid_1's l2: 1.6139e+07\n",
      "[7400]\ttraining's rmse: 2733.69\ttraining's l2: 7.47305e+06\tvalid_1's rmse: 4010.55\tvalid_1's l2: 1.60845e+07\n",
      "[7600]\ttraining's rmse: 2712.48\ttraining's l2: 7.35757e+06\tvalid_1's rmse: 4004.26\tvalid_1's l2: 1.60341e+07\n",
      "[7800]\ttraining's rmse: 2692.2\ttraining's l2: 7.24794e+06\tvalid_1's rmse: 3997.84\tvalid_1's l2: 1.59827e+07\n",
      "[8000]\ttraining's rmse: 2672.9\ttraining's l2: 7.14441e+06\tvalid_1's rmse: 3993.09\tvalid_1's l2: 1.59448e+07\n",
      "[8200]\ttraining's rmse: 2652.25\ttraining's l2: 7.03441e+06\tvalid_1's rmse: 3988.74\tvalid_1's l2: 1.591e+07\n",
      "[8400]\ttraining's rmse: 2632.15\ttraining's l2: 6.92824e+06\tvalid_1's rmse: 3982.3\tvalid_1's l2: 1.58587e+07\n",
      "[8600]\ttraining's rmse: 2614.67\ttraining's l2: 6.83649e+06\tvalid_1's rmse: 3977.65\tvalid_1's l2: 1.58217e+07\n",
      "[8800]\ttraining's rmse: 2596.21\ttraining's l2: 6.74029e+06\tvalid_1's rmse: 3972.76\tvalid_1's l2: 1.57828e+07\n",
      "[9000]\ttraining's rmse: 2581.1\ttraining's l2: 6.66207e+06\tvalid_1's rmse: 3968.91\tvalid_1's l2: 1.57522e+07\n",
      "[9200]\ttraining's rmse: 2564.3\ttraining's l2: 6.57564e+06\tvalid_1's rmse: 3964.76\tvalid_1's l2: 1.57193e+07\n",
      "[9400]\ttraining's rmse: 2548.6\ttraining's l2: 6.49537e+06\tvalid_1's rmse: 3960.87\tvalid_1's l2: 1.56885e+07\n",
      "[9600]\ttraining's rmse: 2533.06\ttraining's l2: 6.4164e+06\tvalid_1's rmse: 3958.7\tvalid_1's l2: 1.56713e+07\n",
      "[9800]\ttraining's rmse: 2517.35\ttraining's l2: 6.33707e+06\tvalid_1's rmse: 3957.86\tvalid_1's l2: 1.56647e+07\n",
      "[10000]\ttraining's rmse: 2503.46\ttraining's l2: 6.26733e+06\tvalid_1's rmse: 3955.14\tvalid_1's l2: 1.56431e+07\n",
      "[10200]\ttraining's rmse: 2487.24\ttraining's l2: 6.18634e+06\tvalid_1's rmse: 3953.45\tvalid_1's l2: 1.56297e+07\n",
      "[10400]\ttraining's rmse: 2473.04\ttraining's l2: 6.11592e+06\tvalid_1's rmse: 3950.83\tvalid_1's l2: 1.56091e+07\n",
      "[10600]\ttraining's rmse: 2458.68\ttraining's l2: 6.04509e+06\tvalid_1's rmse: 3949.95\tvalid_1's l2: 1.56021e+07\n",
      "[10800]\ttraining's rmse: 2444.26\ttraining's l2: 5.97439e+06\tvalid_1's rmse: 3948.21\tvalid_1's l2: 1.55883e+07\n",
      "[11000]\ttraining's rmse: 2430.23\ttraining's l2: 5.90603e+06\tvalid_1's rmse: 3947.99\tvalid_1's l2: 1.55866e+07\n",
      "Early stopping, best iteration is:\n",
      "[10845]\ttraining's rmse: 2440.92\ttraining's l2: 5.95807e+06\tvalid_1's rmse: 3947.34\tvalid_1's l2: 1.55815e+07\n",
      "Training until validation scores don't improve for 200 rounds\n",
      "[200]\ttraining's rmse: 7905.43\ttraining's l2: 6.24958e+07\tvalid_1's rmse: 7847.11\tvalid_1's l2: 6.15772e+07\n",
      "[400]\ttraining's rmse: 6536.54\ttraining's l2: 4.27263e+07\tvalid_1's rmse: 6537.82\tvalid_1's l2: 4.27432e+07\n",
      "[600]\ttraining's rmse: 5771.82\ttraining's l2: 3.33139e+07\tvalid_1's rmse: 5810.85\tvalid_1's l2: 3.3766e+07\n",
      "[800]\ttraining's rmse: 5276.27\ttraining's l2: 2.7839e+07\tvalid_1's rmse: 5367.19\tvalid_1's l2: 2.88068e+07\n",
      "[1000]\ttraining's rmse: 4940.02\ttraining's l2: 2.44038e+07\tvalid_1's rmse: 5069.63\tvalid_1's l2: 2.57011e+07\n",
      "[1200]\ttraining's rmse: 4673.75\ttraining's l2: 2.18439e+07\tvalid_1's rmse: 4841.89\tvalid_1's l2: 2.34439e+07\n",
      "[1400]\ttraining's rmse: 4480.26\ttraining's l2: 2.00727e+07\tvalid_1's rmse: 4683.17\tvalid_1's l2: 2.19321e+07\n",
      "[1600]\ttraining's rmse: 4307.45\ttraining's l2: 1.85541e+07\tvalid_1's rmse: 4544.72\tvalid_1's l2: 2.06545e+07\n",
      "[1800]\ttraining's rmse: 4166.68\ttraining's l2: 1.73612e+07\tvalid_1's rmse: 4437.47\tvalid_1's l2: 1.96912e+07\n",
      "[2000]\ttraining's rmse: 4048.41\ttraining's l2: 1.63896e+07\tvalid_1's rmse: 4351.02\tvalid_1's l2: 1.89314e+07\n",
      "[2200]\ttraining's rmse: 3940.56\ttraining's l2: 1.5528e+07\tvalid_1's rmse: 4273.46\tvalid_1's l2: 1.82624e+07\n",
      "[2400]\ttraining's rmse: 3847.68\ttraining's l2: 1.48046e+07\tvalid_1's rmse: 4207.65\tvalid_1's l2: 1.77043e+07\n",
      "[2600]\ttraining's rmse: 3766.36\ttraining's l2: 1.41854e+07\tvalid_1's rmse: 4150.91\tvalid_1's l2: 1.723e+07\n",
      "[2800]\ttraining's rmse: 3687\ttraining's l2: 1.3594e+07\tvalid_1's rmse: 4099.44\tvalid_1's l2: 1.68054e+07\n",
      "[3000]\ttraining's rmse: 3614.19\ttraining's l2: 1.30624e+07\tvalid_1's rmse: 4051.38\tvalid_1's l2: 1.64137e+07\n",
      "[3200]\ttraining's rmse: 3552.03\ttraining's l2: 1.26169e+07\tvalid_1's rmse: 4010.89\tvalid_1's l2: 1.60873e+07\n",
      "[3400]\ttraining's rmse: 3491.75\ttraining's l2: 1.21924e+07\tvalid_1's rmse: 3976.15\tvalid_1's l2: 1.58098e+07\n",
      "[3600]\ttraining's rmse: 3432.27\ttraining's l2: 1.17805e+07\tvalid_1's rmse: 3942.08\tvalid_1's l2: 1.554e+07\n",
      "[3800]\ttraining's rmse: 3381.97\ttraining's l2: 1.14377e+07\tvalid_1's rmse: 3911.01\tvalid_1's l2: 1.5296e+07\n"
     ]
    },
    {
     "name": "stdout",
     "output_type": "stream",
     "text": [
      "[4000]\ttraining's rmse: 3332.1\ttraining's l2: 1.11029e+07\tvalid_1's rmse: 3883.06\tvalid_1's l2: 1.50782e+07\n",
      "[4200]\ttraining's rmse: 3285.44\ttraining's l2: 1.07941e+07\tvalid_1's rmse: 3858.05\tvalid_1's l2: 1.48846e+07\n",
      "[4400]\ttraining's rmse: 3244.18\ttraining's l2: 1.05247e+07\tvalid_1's rmse: 3839.45\tvalid_1's l2: 1.47414e+07\n",
      "[4600]\ttraining's rmse: 3205.77\ttraining's l2: 1.0277e+07\tvalid_1's rmse: 3818.99\tvalid_1's l2: 1.45847e+07\n",
      "[4800]\ttraining's rmse: 3167.75\ttraining's l2: 1.00346e+07\tvalid_1's rmse: 3801.51\tvalid_1's l2: 1.44515e+07\n",
      "[5000]\ttraining's rmse: 3131.95\ttraining's l2: 9.80908e+06\tvalid_1's rmse: 3781.33\tvalid_1's l2: 1.42984e+07\n",
      "[5200]\ttraining's rmse: 3096.63\ttraining's l2: 9.58915e+06\tvalid_1's rmse: 3764.13\tvalid_1's l2: 1.41687e+07\n",
      "[5400]\ttraining's rmse: 3062.34\ttraining's l2: 9.37794e+06\tvalid_1's rmse: 3748.71\tvalid_1's l2: 1.40528e+07\n",
      "[5600]\ttraining's rmse: 3027.18\ttraining's l2: 9.16382e+06\tvalid_1's rmse: 3734.15\tvalid_1's l2: 1.39438e+07\n",
      "[5800]\ttraining's rmse: 2995.11\ttraining's l2: 8.97066e+06\tvalid_1's rmse: 3720.57\tvalid_1's l2: 1.38426e+07\n",
      "[6000]\ttraining's rmse: 2964.71\ttraining's l2: 8.78951e+06\tvalid_1's rmse: 3708.34\tvalid_1's l2: 1.37518e+07\n",
      "[6200]\ttraining's rmse: 2935.52\ttraining's l2: 8.61728e+06\tvalid_1's rmse: 3694.98\tvalid_1's l2: 1.36529e+07\n",
      "[6400]\ttraining's rmse: 2909.09\ttraining's l2: 8.46278e+06\tvalid_1's rmse: 3684.79\tvalid_1's l2: 1.35777e+07\n",
      "[6600]\ttraining's rmse: 2879.56\ttraining's l2: 8.29186e+06\tvalid_1's rmse: 3672.61\tvalid_1's l2: 1.3488e+07\n",
      "[6800]\ttraining's rmse: 2855.48\ttraining's l2: 8.15376e+06\tvalid_1's rmse: 3662.1\tvalid_1's l2: 1.3411e+07\n",
      "[7000]\ttraining's rmse: 2832.19\ttraining's l2: 8.02129e+06\tvalid_1's rmse: 3654\tvalid_1's l2: 1.33517e+07\n",
      "[7200]\ttraining's rmse: 2808.69\ttraining's l2: 7.88871e+06\tvalid_1's rmse: 3648.17\tvalid_1's l2: 1.33091e+07\n",
      "[7400]\ttraining's rmse: 2786.5\ttraining's l2: 7.7646e+06\tvalid_1's rmse: 3639.02\tvalid_1's l2: 1.32424e+07\n",
      "[7600]\ttraining's rmse: 2763.85\ttraining's l2: 7.63889e+06\tvalid_1's rmse: 3631.68\tvalid_1's l2: 1.31891e+07\n",
      "[7800]\ttraining's rmse: 2743.73\ttraining's l2: 7.52804e+06\tvalid_1's rmse: 3624.28\tvalid_1's l2: 1.31354e+07\n",
      "[8000]\ttraining's rmse: 2724.56\ttraining's l2: 7.42324e+06\tvalid_1's rmse: 3618.32\tvalid_1's l2: 1.30923e+07\n",
      "[8200]\ttraining's rmse: 2706.61\ttraining's l2: 7.32576e+06\tvalid_1's rmse: 3611.65\tvalid_1's l2: 1.3044e+07\n",
      "[8400]\ttraining's rmse: 2687.31\ttraining's l2: 7.22162e+06\tvalid_1's rmse: 3605.68\tvalid_1's l2: 1.30009e+07\n",
      "[8600]\ttraining's rmse: 2668.29\ttraining's l2: 7.11978e+06\tvalid_1's rmse: 3601.65\tvalid_1's l2: 1.29719e+07\n",
      "[8800]\ttraining's rmse: 2649.36\ttraining's l2: 7.01909e+06\tvalid_1's rmse: 3596.87\tvalid_1's l2: 1.29375e+07\n",
      "[9000]\ttraining's rmse: 2630.8\ttraining's l2: 6.9211e+06\tvalid_1's rmse: 3589.94\tvalid_1's l2: 1.28877e+07\n",
      "[9200]\ttraining's rmse: 2613.45\ttraining's l2: 6.8301e+06\tvalid_1's rmse: 3584.9\tvalid_1's l2: 1.28515e+07\n",
      "[9400]\ttraining's rmse: 2596.55\ttraining's l2: 6.74208e+06\tvalid_1's rmse: 3580.16\tvalid_1's l2: 1.28175e+07\n",
      "[9600]\ttraining's rmse: 2579.56\ttraining's l2: 6.65413e+06\tvalid_1's rmse: 3576.56\tvalid_1's l2: 1.27918e+07\n",
      "[9800]\ttraining's rmse: 2563.9\ttraining's l2: 6.57357e+06\tvalid_1's rmse: 3573.03\tvalid_1's l2: 1.27665e+07\n",
      "[10000]\ttraining's rmse: 2547.13\ttraining's l2: 6.48786e+06\tvalid_1's rmse: 3569.69\tvalid_1's l2: 1.27427e+07\n",
      "[10200]\ttraining's rmse: 2532.31\ttraining's l2: 6.4126e+06\tvalid_1's rmse: 3566.05\tvalid_1's l2: 1.27167e+07\n",
      "[10400]\ttraining's rmse: 2518.21\ttraining's l2: 6.3414e+06\tvalid_1's rmse: 3562.37\tvalid_1's l2: 1.26905e+07\n",
      "[10600]\ttraining's rmse: 2504.02\ttraining's l2: 6.27013e+06\tvalid_1's rmse: 3558.75\tvalid_1's l2: 1.26647e+07\n",
      "[10800]\ttraining's rmse: 2490.96\ttraining's l2: 6.20486e+06\tvalid_1's rmse: 3554.34\tvalid_1's l2: 1.26333e+07\n",
      "[11000]\ttraining's rmse: 2476.92\ttraining's l2: 6.13515e+06\tvalid_1's rmse: 3550.7\tvalid_1's l2: 1.26075e+07\n",
      "[11200]\ttraining's rmse: 2464.26\ttraining's l2: 6.07256e+06\tvalid_1's rmse: 3547.77\tvalid_1's l2: 1.25867e+07\n",
      "[11400]\ttraining's rmse: 2451\ttraining's l2: 6.00738e+06\tvalid_1's rmse: 3544.21\tvalid_1's l2: 1.25614e+07\n",
      "[11600]\ttraining's rmse: 2438.93\ttraining's l2: 5.94838e+06\tvalid_1's rmse: 3541.41\tvalid_1's l2: 1.25416e+07\n",
      "[11800]\ttraining's rmse: 2426.75\ttraining's l2: 5.88914e+06\tvalid_1's rmse: 3539\tvalid_1's l2: 1.25245e+07\n",
      "[12000]\ttraining's rmse: 2415.13\ttraining's l2: 5.83285e+06\tvalid_1's rmse: 3536.42\tvalid_1's l2: 1.25063e+07\n",
      "[12200]\ttraining's rmse: 2402.6\ttraining's l2: 5.77251e+06\tvalid_1's rmse: 3532.81\tvalid_1's l2: 1.24808e+07\n",
      "[12400]\ttraining's rmse: 2391.06\ttraining's l2: 5.71719e+06\tvalid_1's rmse: 3530.84\tvalid_1's l2: 1.24668e+07\n",
      "[12600]\ttraining's rmse: 2380.43\ttraining's l2: 5.66644e+06\tvalid_1's rmse: 3528.66\tvalid_1's l2: 1.24514e+07\n",
      "[12800]\ttraining's rmse: 2370.03\ttraining's l2: 5.61703e+06\tvalid_1's rmse: 3527.17\tvalid_1's l2: 1.24409e+07\n",
      "[13000]\ttraining's rmse: 2357.69\ttraining's l2: 5.55871e+06\tvalid_1's rmse: 3526.74\tvalid_1's l2: 1.24379e+07\n",
      "Early stopping, best iteration is:\n",
      "[12844]\ttraining's rmse: 2367.19\ttraining's l2: 5.60359e+06\tvalid_1's rmse: 3526.51\tvalid_1's l2: 1.24363e+07\n",
      "Training until validation scores don't improve for 200 rounds\n",
      "[200]\ttraining's rmse: 7832.79\ttraining's l2: 6.13526e+07\tvalid_1's rmse: 7825.76\tvalid_1's l2: 6.12425e+07\n",
      "[400]\ttraining's rmse: 6450.32\ttraining's l2: 4.16066e+07\tvalid_1's rmse: 6513.66\tvalid_1's l2: 4.24277e+07\n",
      "[600]\ttraining's rmse: 5722.89\ttraining's l2: 3.27515e+07\tvalid_1's rmse: 5839.8\tvalid_1's l2: 3.41033e+07\n",
      "[800]\ttraining's rmse: 5266.96\ttraining's l2: 2.77408e+07\tvalid_1's rmse: 5423.82\tvalid_1's l2: 2.94178e+07\n",
      "[1000]\ttraining's rmse: 4919.82\ttraining's l2: 2.42046e+07\tvalid_1's rmse: 5126.21\tvalid_1's l2: 2.6278e+07\n",
      "[1200]\ttraining's rmse: 4663.2\ttraining's l2: 2.17454e+07\tvalid_1's rmse: 4907.62\tvalid_1's l2: 2.40847e+07\n",
      "[1400]\ttraining's rmse: 4452.13\ttraining's l2: 1.98215e+07\tvalid_1's rmse: 4734.89\tvalid_1's l2: 2.24192e+07\n",
      "[1600]\ttraining's rmse: 4272.79\ttraining's l2: 1.82567e+07\tvalid_1's rmse: 4585.65\tvalid_1's l2: 2.10282e+07\n",
      "[1800]\ttraining's rmse: 4133.79\ttraining's l2: 1.70882e+07\tvalid_1's rmse: 4484.57\tvalid_1's l2: 2.01113e+07\n",
      "[2000]\ttraining's rmse: 4017.11\ttraining's l2: 1.61372e+07\tvalid_1's rmse: 4400.77\tvalid_1's l2: 1.93667e+07\n",
      "[2200]\ttraining's rmse: 3901.6\ttraining's l2: 1.52225e+07\tvalid_1's rmse: 4319.2\tvalid_1's l2: 1.86555e+07\n",
      "[2400]\ttraining's rmse: 3804.68\ttraining's l2: 1.44756e+07\tvalid_1's rmse: 4250.29\tvalid_1's l2: 1.8065e+07\n",
      "[2600]\ttraining's rmse: 3722.46\ttraining's l2: 1.38567e+07\tvalid_1's rmse: 4193.89\tvalid_1's l2: 1.75887e+07\n",
      "[2800]\ttraining's rmse: 3645.09\ttraining's l2: 1.32867e+07\tvalid_1's rmse: 4141.7\tvalid_1's l2: 1.71537e+07\n",
      "[3000]\ttraining's rmse: 3573.96\ttraining's l2: 1.27732e+07\tvalid_1's rmse: 4095.45\tvalid_1's l2: 1.67727e+07\n",
      "[3200]\ttraining's rmse: 3511.08\ttraining's l2: 1.23277e+07\tvalid_1's rmse: 4056.71\tvalid_1's l2: 1.64569e+07\n",
      "[3400]\ttraining's rmse: 3450.65\ttraining's l2: 1.1907e+07\tvalid_1's rmse: 4020.19\tvalid_1's l2: 1.61619e+07\n",
      "[3600]\ttraining's rmse: 3391.15\ttraining's l2: 1.14999e+07\tvalid_1's rmse: 3990.43\tvalid_1's l2: 1.59236e+07\n",
      "[3800]\ttraining's rmse: 3340.87\ttraining's l2: 1.11614e+07\tvalid_1's rmse: 3963.07\tvalid_1's l2: 1.5706e+07\n",
      "[4000]\ttraining's rmse: 3293.94\ttraining's l2: 1.08501e+07\tvalid_1's rmse: 3936.54\tvalid_1's l2: 1.54964e+07\n",
      "[4200]\ttraining's rmse: 3250.86\ttraining's l2: 1.05681e+07\tvalid_1's rmse: 3912.97\tvalid_1's l2: 1.53114e+07\n",
      "[4400]\ttraining's rmse: 3208.42\ttraining's l2: 1.0294e+07\tvalid_1's rmse: 3890.23\tvalid_1's l2: 1.51339e+07\n",
      "[4600]\ttraining's rmse: 3165.5\ttraining's l2: 1.00204e+07\tvalid_1's rmse: 3867.64\tvalid_1's l2: 1.49586e+07\n",
      "[4800]\ttraining's rmse: 3125.95\ttraining's l2: 9.77154e+06\tvalid_1's rmse: 3846.2\tvalid_1's l2: 1.47933e+07\n",
      "[5000]\ttraining's rmse: 3089.14\ttraining's l2: 9.54279e+06\tvalid_1's rmse: 3826.99\tvalid_1's l2: 1.46459e+07\n",
      "[5200]\ttraining's rmse: 3054.23\ttraining's l2: 9.3283e+06\tvalid_1's rmse: 3815.44\tvalid_1's l2: 1.45576e+07\n",
      "[5400]\ttraining's rmse: 3018.54\ttraining's l2: 9.11157e+06\tvalid_1's rmse: 3803.37\tvalid_1's l2: 1.44656e+07\n",
      "[5600]\ttraining's rmse: 2986.65\ttraining's l2: 8.92009e+06\tvalid_1's rmse: 3793.74\tvalid_1's l2: 1.43925e+07\n"
     ]
    },
    {
     "name": "stdout",
     "output_type": "stream",
     "text": [
      "[5800]\ttraining's rmse: 2953.9\ttraining's l2: 8.72554e+06\tvalid_1's rmse: 3780.1\tvalid_1's l2: 1.42892e+07\n",
      "[6000]\ttraining's rmse: 2926.62\ttraining's l2: 8.5651e+06\tvalid_1's rmse: 3770.61\tvalid_1's l2: 1.42175e+07\n",
      "[6200]\ttraining's rmse: 2896.73\ttraining's l2: 8.39102e+06\tvalid_1's rmse: 3758.25\tvalid_1's l2: 1.41244e+07\n",
      "[6400]\ttraining's rmse: 2871.72\ttraining's l2: 8.24679e+06\tvalid_1's rmse: 3749.65\tvalid_1's l2: 1.40599e+07\n",
      "[6600]\ttraining's rmse: 2846.74\ttraining's l2: 8.1039e+06\tvalid_1's rmse: 3740.24\tvalid_1's l2: 1.39894e+07\n",
      "[6800]\ttraining's rmse: 2822.18\ttraining's l2: 7.96472e+06\tvalid_1's rmse: 3730.58\tvalid_1's l2: 1.39172e+07\n",
      "[7000]\ttraining's rmse: 2798.95\ttraining's l2: 7.83411e+06\tvalid_1's rmse: 3721.49\tvalid_1's l2: 1.38495e+07\n",
      "[7200]\ttraining's rmse: 2779.81\ttraining's l2: 7.72732e+06\tvalid_1's rmse: 3713.48\tvalid_1's l2: 1.379e+07\n",
      "[7400]\ttraining's rmse: 2758\ttraining's l2: 7.60656e+06\tvalid_1's rmse: 3704.04\tvalid_1's l2: 1.37199e+07\n",
      "[7600]\ttraining's rmse: 2736.6\ttraining's l2: 7.48897e+06\tvalid_1's rmse: 3696.02\tvalid_1's l2: 1.36606e+07\n",
      "[7800]\ttraining's rmse: 2717.08\ttraining's l2: 7.38251e+06\tvalid_1's rmse: 3689.49\tvalid_1's l2: 1.36123e+07\n",
      "[8000]\ttraining's rmse: 2695.82\ttraining's l2: 7.26746e+06\tvalid_1's rmse: 3682.5\tvalid_1's l2: 1.35608e+07\n",
      "[8200]\ttraining's rmse: 2676.75\ttraining's l2: 7.16499e+06\tvalid_1's rmse: 3675.41\tvalid_1's l2: 1.35086e+07\n",
      "[8400]\ttraining's rmse: 2658.58\ttraining's l2: 7.06804e+06\tvalid_1's rmse: 3672.74\tvalid_1's l2: 1.34891e+07\n",
      "[8600]\ttraining's rmse: 2640.93\ttraining's l2: 6.97453e+06\tvalid_1's rmse: 3667.67\tvalid_1's l2: 1.34518e+07\n",
      "[8800]\ttraining's rmse: 2623.03\ttraining's l2: 6.88029e+06\tvalid_1's rmse: 3661.56\tvalid_1's l2: 1.3407e+07\n",
      "[9000]\ttraining's rmse: 2603.62\ttraining's l2: 6.77883e+06\tvalid_1's rmse: 3655.51\tvalid_1's l2: 1.33627e+07\n",
      "[9200]\ttraining's rmse: 2587.59\ttraining's l2: 6.69564e+06\tvalid_1's rmse: 3650.95\tvalid_1's l2: 1.33295e+07\n",
      "[9400]\ttraining's rmse: 2572.68\ttraining's l2: 6.61868e+06\tvalid_1's rmse: 3646.44\tvalid_1's l2: 1.32966e+07\n",
      "[9600]\ttraining's rmse: 2555.73\ttraining's l2: 6.53177e+06\tvalid_1's rmse: 3642.24\tvalid_1's l2: 1.32659e+07\n",
      "[9800]\ttraining's rmse: 2540.32\ttraining's l2: 6.4532e+06\tvalid_1's rmse: 3638.49\tvalid_1's l2: 1.32386e+07\n",
      "[10000]\ttraining's rmse: 2525.58\ttraining's l2: 6.37856e+06\tvalid_1's rmse: 3634.42\tvalid_1's l2: 1.3209e+07\n",
      "[10200]\ttraining's rmse: 2511.13\ttraining's l2: 6.30575e+06\tvalid_1's rmse: 3629.73\tvalid_1's l2: 1.31749e+07\n",
      "[10400]\ttraining's rmse: 2496.71\ttraining's l2: 6.23354e+06\tvalid_1's rmse: 3625.57\tvalid_1's l2: 1.31448e+07\n",
      "[10600]\ttraining's rmse: 2484.29\ttraining's l2: 6.17168e+06\tvalid_1's rmse: 3622.08\tvalid_1's l2: 1.31194e+07\n",
      "[10800]\ttraining's rmse: 2471.04\ttraining's l2: 6.10604e+06\tvalid_1's rmse: 3618.6\tvalid_1's l2: 1.30943e+07\n",
      "[11000]\ttraining's rmse: 2458.34\ttraining's l2: 6.04346e+06\tvalid_1's rmse: 3615.75\tvalid_1's l2: 1.30737e+07\n",
      "[11200]\ttraining's rmse: 2446.35\ttraining's l2: 5.98461e+06\tvalid_1's rmse: 3612.97\tvalid_1's l2: 1.30536e+07\n",
      "[11400]\ttraining's rmse: 2433.77\ttraining's l2: 5.92322e+06\tvalid_1's rmse: 3609.61\tvalid_1's l2: 1.30293e+07\n",
      "[11600]\ttraining's rmse: 2421.77\ttraining's l2: 5.86496e+06\tvalid_1's rmse: 3607.55\tvalid_1's l2: 1.30144e+07\n",
      "[11800]\ttraining's rmse: 2410.66\ttraining's l2: 5.8113e+06\tvalid_1's rmse: 3605.8\tvalid_1's l2: 1.30018e+07\n",
      "[12000]\ttraining's rmse: 2398.94\ttraining's l2: 5.75493e+06\tvalid_1's rmse: 3603.82\tvalid_1's l2: 1.29875e+07\n",
      "[12200]\ttraining's rmse: 2388.16\ttraining's l2: 5.70333e+06\tvalid_1's rmse: 3601.63\tvalid_1's l2: 1.29718e+07\n",
      "[12400]\ttraining's rmse: 2375.49\ttraining's l2: 5.64294e+06\tvalid_1's rmse: 3600.25\tvalid_1's l2: 1.29618e+07\n",
      "[12600]\ttraining's rmse: 2363.62\ttraining's l2: 5.5867e+06\tvalid_1's rmse: 3598.04\tvalid_1's l2: 1.29459e+07\n",
      "[12800]\ttraining's rmse: 2352.37\ttraining's l2: 5.53364e+06\tvalid_1's rmse: 3597.84\tvalid_1's l2: 1.29445e+07\n",
      "[13000]\ttraining's rmse: 2341.56\ttraining's l2: 5.48291e+06\tvalid_1's rmse: 3596.02\tvalid_1's l2: 1.29313e+07\n",
      "[13200]\ttraining's rmse: 2330.61\ttraining's l2: 5.43172e+06\tvalid_1's rmse: 3593.94\tvalid_1's l2: 1.29164e+07\n",
      "[13400]\ttraining's rmse: 2319.49\ttraining's l2: 5.38005e+06\tvalid_1's rmse: 3593.93\tvalid_1's l2: 1.29163e+07\n",
      "[13600]\ttraining's rmse: 2309.25\ttraining's l2: 5.33262e+06\tvalid_1's rmse: 3592.05\tvalid_1's l2: 1.29028e+07\n",
      "[13800]\ttraining's rmse: 2299.72\ttraining's l2: 5.28871e+06\tvalid_1's rmse: 3590.79\tvalid_1's l2: 1.28938e+07\n",
      "[14000]\ttraining's rmse: 2289.77\ttraining's l2: 5.24303e+06\tvalid_1's rmse: 3589.58\tvalid_1's l2: 1.28851e+07\n",
      "[14200]\ttraining's rmse: 2279.8\ttraining's l2: 5.19748e+06\tvalid_1's rmse: 3588.24\tvalid_1's l2: 1.28754e+07\n",
      "[14400]\ttraining's rmse: 2270.5\ttraining's l2: 5.15515e+06\tvalid_1's rmse: 3587.58\tvalid_1's l2: 1.28708e+07\n",
      "[14600]\ttraining's rmse: 2260.84\ttraining's l2: 5.11141e+06\tvalid_1's rmse: 3586.79\tvalid_1's l2: 1.2865e+07\n",
      "[14800]\ttraining's rmse: 2252.31\ttraining's l2: 5.0729e+06\tvalid_1's rmse: 3585.76\tvalid_1's l2: 1.28576e+07\n",
      "[15000]\ttraining's rmse: 2242.78\ttraining's l2: 5.03005e+06\tvalid_1's rmse: 3584.58\tvalid_1's l2: 1.28492e+07\n",
      "[15200]\ttraining's rmse: 2233.98\ttraining's l2: 4.99065e+06\tvalid_1's rmse: 3583.08\tvalid_1's l2: 1.28385e+07\n",
      "[15400]\ttraining's rmse: 2225.31\ttraining's l2: 4.95199e+06\tvalid_1's rmse: 3580.94\tvalid_1's l2: 1.28231e+07\n",
      "[15600]\ttraining's rmse: 2216.85\ttraining's l2: 4.91443e+06\tvalid_1's rmse: 3579.27\tvalid_1's l2: 1.28112e+07\n",
      "[15800]\ttraining's rmse: 2209.1\ttraining's l2: 4.88013e+06\tvalid_1's rmse: 3578.27\tvalid_1's l2: 1.2804e+07\n",
      "[16000]\ttraining's rmse: 2201.31\ttraining's l2: 4.84577e+06\tvalid_1's rmse: 3578.1\tvalid_1's l2: 1.28028e+07\n",
      "[16200]\ttraining's rmse: 2192.51\ttraining's l2: 4.80708e+06\tvalid_1's rmse: 3577.56\tvalid_1's l2: 1.27989e+07\n",
      "[16400]\ttraining's rmse: 2185.18\ttraining's l2: 4.77501e+06\tvalid_1's rmse: 3577.11\tvalid_1's l2: 1.27957e+07\n",
      "[16600]\ttraining's rmse: 2177.19\ttraining's l2: 4.74016e+06\tvalid_1's rmse: 3576.53\tvalid_1's l2: 1.27916e+07\n",
      "[16800]\ttraining's rmse: 2169.23\ttraining's l2: 4.70556e+06\tvalid_1's rmse: 3576.53\tvalid_1's l2: 1.27916e+07\n",
      "[17000]\ttraining's rmse: 2161.29\ttraining's l2: 4.67118e+06\tvalid_1's rmse: 3575.61\tvalid_1's l2: 1.2785e+07\n",
      "[17200]\ttraining's rmse: 2153.02\ttraining's l2: 4.63549e+06\tvalid_1's rmse: 3574.3\tvalid_1's l2: 1.27757e+07\n",
      "[17400]\ttraining's rmse: 2143.92\ttraining's l2: 4.59637e+06\tvalid_1's rmse: 3573.05\tvalid_1's l2: 1.27667e+07\n",
      "[17600]\ttraining's rmse: 2135.93\ttraining's l2: 4.56221e+06\tvalid_1's rmse: 3572.84\tvalid_1's l2: 1.27652e+07\n",
      "Early stopping, best iteration is:\n",
      "[17487]\ttraining's rmse: 2140.77\ttraining's l2: 4.5829e+06\tvalid_1's rmse: 3572.28\tvalid_1's l2: 1.27612e+07\n",
      "Training until validation scores don't improve for 200 rounds\n",
      "[200]\ttraining's rmse: 7713.76\ttraining's l2: 5.95021e+07\tvalid_1's rmse: 8556.54\tvalid_1's l2: 7.32143e+07\n",
      "[400]\ttraining's rmse: 6372.52\ttraining's l2: 4.0609e+07\tvalid_1's rmse: 7269.01\tvalid_1's l2: 5.28384e+07\n",
      "[600]\ttraining's rmse: 5650.2\ttraining's l2: 3.19248e+07\tvalid_1's rmse: 6630.44\tvalid_1's l2: 4.39628e+07\n",
      "[800]\ttraining's rmse: 5188.3\ttraining's l2: 2.69184e+07\tvalid_1's rmse: 6244.19\tvalid_1's l2: 3.89899e+07\n",
      "[1000]\ttraining's rmse: 4871.01\ttraining's l2: 2.37267e+07\tvalid_1's rmse: 5983.81\tvalid_1's l2: 3.5806e+07\n",
      "[1200]\ttraining's rmse: 4624.26\ttraining's l2: 2.13838e+07\tvalid_1's rmse: 5789.34\tvalid_1's l2: 3.35164e+07\n",
      "[1400]\ttraining's rmse: 4425.28\ttraining's l2: 1.95831e+07\tvalid_1's rmse: 5641.14\tvalid_1's l2: 3.18225e+07\n",
      "[1600]\ttraining's rmse: 4248.6\ttraining's l2: 1.80506e+07\tvalid_1's rmse: 5520.32\tvalid_1's l2: 3.04739e+07\n",
      "[1800]\ttraining's rmse: 4099.72\ttraining's l2: 1.68077e+07\tvalid_1's rmse: 5424.6\tvalid_1's l2: 2.94263e+07\n",
      "[2000]\ttraining's rmse: 3978.1\ttraining's l2: 1.58252e+07\tvalid_1's rmse: 5335.26\tvalid_1's l2: 2.8465e+07\n",
      "[2200]\ttraining's rmse: 3865.99\ttraining's l2: 1.49459e+07\tvalid_1's rmse: 5269.23\tvalid_1's l2: 2.77648e+07\n",
      "[2400]\ttraining's rmse: 3772.4\ttraining's l2: 1.4231e+07\tvalid_1's rmse: 5216.72\tvalid_1's l2: 2.72142e+07\n",
      "[2600]\ttraining's rmse: 3684.62\ttraining's l2: 1.35764e+07\tvalid_1's rmse: 5162.79\tvalid_1's l2: 2.66544e+07\n",
      "[2800]\ttraining's rmse: 3609.01\ttraining's l2: 1.30249e+07\tvalid_1's rmse: 5122.02\tvalid_1's l2: 2.62351e+07\n"
     ]
    },
    {
     "name": "stdout",
     "output_type": "stream",
     "text": [
      "[3000]\ttraining's rmse: 3533.66\ttraining's l2: 1.24868e+07\tvalid_1's rmse: 5087.82\tvalid_1's l2: 2.58859e+07\n",
      "[3200]\ttraining's rmse: 3470.8\ttraining's l2: 1.20465e+07\tvalid_1's rmse: 5051.07\tvalid_1's l2: 2.55133e+07\n",
      "[3400]\ttraining's rmse: 3412.22\ttraining's l2: 1.16432e+07\tvalid_1's rmse: 5024.34\tvalid_1's l2: 2.5244e+07\n",
      "[3600]\ttraining's rmse: 3358.99\ttraining's l2: 1.12828e+07\tvalid_1's rmse: 4995.57\tvalid_1's l2: 2.49557e+07\n",
      "[3800]\ttraining's rmse: 3305.92\ttraining's l2: 1.09291e+07\tvalid_1's rmse: 4976.08\tvalid_1's l2: 2.47613e+07\n",
      "[4000]\ttraining's rmse: 3259.63\ttraining's l2: 1.06252e+07\tvalid_1's rmse: 4957.96\tvalid_1's l2: 2.45814e+07\n",
      "[4200]\ttraining's rmse: 3218.82\ttraining's l2: 1.03608e+07\tvalid_1's rmse: 4941.25\tvalid_1's l2: 2.4416e+07\n",
      "[4400]\ttraining's rmse: 3177.76\ttraining's l2: 1.00982e+07\tvalid_1's rmse: 4919.38\tvalid_1's l2: 2.42003e+07\n",
      "[4600]\ttraining's rmse: 3139.28\ttraining's l2: 9.85505e+06\tvalid_1's rmse: 4904.76\tvalid_1's l2: 2.40567e+07\n",
      "[4800]\ttraining's rmse: 3098.62\ttraining's l2: 9.60142e+06\tvalid_1's rmse: 4889.88\tvalid_1's l2: 2.3911e+07\n",
      "[5000]\ttraining's rmse: 3062.89\ttraining's l2: 9.38131e+06\tvalid_1's rmse: 4874.94\tvalid_1's l2: 2.37651e+07\n",
      "[5200]\ttraining's rmse: 3028.68\ttraining's l2: 9.17293e+06\tvalid_1's rmse: 4863.69\tvalid_1's l2: 2.36555e+07\n",
      "[5400]\ttraining's rmse: 2993.82\ttraining's l2: 8.96299e+06\tvalid_1's rmse: 4851.89\tvalid_1's l2: 2.35408e+07\n",
      "[5600]\ttraining's rmse: 2964.55\ttraining's l2: 8.78854e+06\tvalid_1's rmse: 4843.36\tvalid_1's l2: 2.34581e+07\n",
      "[5800]\ttraining's rmse: 2931.67\ttraining's l2: 8.5947e+06\tvalid_1's rmse: 4830.24\tvalid_1's l2: 2.33312e+07\n",
      "[6000]\ttraining's rmse: 2900.19\ttraining's l2: 8.41108e+06\tvalid_1's rmse: 4819.4\tvalid_1's l2: 2.32266e+07\n",
      "[6200]\ttraining's rmse: 2874.46\ttraining's l2: 8.26252e+06\tvalid_1's rmse: 4810.9\tvalid_1's l2: 2.31448e+07\n",
      "[6400]\ttraining's rmse: 2848.01\ttraining's l2: 8.11115e+06\tvalid_1's rmse: 4807.21\tvalid_1's l2: 2.31093e+07\n",
      "[6600]\ttraining's rmse: 2823.35\ttraining's l2: 7.9713e+06\tvalid_1's rmse: 4798.5\tvalid_1's l2: 2.30256e+07\n",
      "[6800]\ttraining's rmse: 2799.39\ttraining's l2: 7.83656e+06\tvalid_1's rmse: 4792.16\tvalid_1's l2: 2.29648e+07\n",
      "[7000]\ttraining's rmse: 2775.04\ttraining's l2: 7.70083e+06\tvalid_1's rmse: 4783.55\tvalid_1's l2: 2.28823e+07\n",
      "[7200]\ttraining's rmse: 2753.47\ttraining's l2: 7.58162e+06\tvalid_1's rmse: 4779.09\tvalid_1's l2: 2.28397e+07\n",
      "[7400]\ttraining's rmse: 2731.21\ttraining's l2: 7.45949e+06\tvalid_1's rmse: 4773.46\tvalid_1's l2: 2.2786e+07\n",
      "[7600]\ttraining's rmse: 2711.93\ttraining's l2: 7.35457e+06\tvalid_1's rmse: 4768.11\tvalid_1's l2: 2.27348e+07\n",
      "[7800]\ttraining's rmse: 2690.73\ttraining's l2: 7.24003e+06\tvalid_1's rmse: 4765.1\tvalid_1's l2: 2.27062e+07\n",
      "[8000]\ttraining's rmse: 2668.94\ttraining's l2: 7.12322e+06\tvalid_1's rmse: 4760.04\tvalid_1's l2: 2.2658e+07\n",
      "[8200]\ttraining's rmse: 2650.22\ttraining's l2: 7.02366e+06\tvalid_1's rmse: 4756.79\tvalid_1's l2: 2.2627e+07\n",
      "[8400]\ttraining's rmse: 2631.07\ttraining's l2: 6.92255e+06\tvalid_1's rmse: 4753.39\tvalid_1's l2: 2.25947e+07\n",
      "[8600]\ttraining's rmse: 2613.35\ttraining's l2: 6.8296e+06\tvalid_1's rmse: 4748.69\tvalid_1's l2: 2.25501e+07\n",
      "[8800]\ttraining's rmse: 2596.98\ttraining's l2: 6.74432e+06\tvalid_1's rmse: 4744.67\tvalid_1's l2: 2.25119e+07\n",
      "[9000]\ttraining's rmse: 2581.36\ttraining's l2: 6.6634e+06\tvalid_1's rmse: 4741.23\tvalid_1's l2: 2.24792e+07\n",
      "[9200]\ttraining's rmse: 2565.18\ttraining's l2: 6.58017e+06\tvalid_1's rmse: 4738.75\tvalid_1's l2: 2.24557e+07\n",
      "[9400]\ttraining's rmse: 2549.39\ttraining's l2: 6.49938e+06\tvalid_1's rmse: 4737.44\tvalid_1's l2: 2.24434e+07\n",
      "[9600]\ttraining's rmse: 2534.03\ttraining's l2: 6.42132e+06\tvalid_1's rmse: 4734.21\tvalid_1's l2: 2.24127e+07\n",
      "[9800]\ttraining's rmse: 2518.16\ttraining's l2: 6.34114e+06\tvalid_1's rmse: 4730.43\tvalid_1's l2: 2.2377e+07\n",
      "[10000]\ttraining's rmse: 2503.24\ttraining's l2: 6.26622e+06\tvalid_1's rmse: 4727.27\tvalid_1's l2: 2.23471e+07\n",
      "[10200]\ttraining's rmse: 2488.76\ttraining's l2: 6.19394e+06\tvalid_1's rmse: 4723.51\tvalid_1's l2: 2.23116e+07\n",
      "[10400]\ttraining's rmse: 2474.41\ttraining's l2: 6.12272e+06\tvalid_1's rmse: 4720.87\tvalid_1's l2: 2.22867e+07\n",
      "[10600]\ttraining's rmse: 2460.81\ttraining's l2: 6.05559e+06\tvalid_1's rmse: 4717.52\tvalid_1's l2: 2.2255e+07\n",
      "[10800]\ttraining's rmse: 2448.04\ttraining's l2: 5.9929e+06\tvalid_1's rmse: 4716.04\tvalid_1's l2: 2.2241e+07\n",
      "[11000]\ttraining's rmse: 2434.55\ttraining's l2: 5.92704e+06\tvalid_1's rmse: 4712.85\tvalid_1's l2: 2.2211e+07\n",
      "[11200]\ttraining's rmse: 2423.08\ttraining's l2: 5.87133e+06\tvalid_1's rmse: 4711.03\tvalid_1's l2: 2.21938e+07\n",
      "[11400]\ttraining's rmse: 2411.16\ttraining's l2: 5.81369e+06\tvalid_1's rmse: 4710.65\tvalid_1's l2: 2.21902e+07\n",
      "Early stopping, best iteration is:\n",
      "[11312]\ttraining's rmse: 2416.88\ttraining's l2: 5.84133e+06\tvalid_1's rmse: 4709.51\tvalid_1's l2: 2.21795e+07\n",
      "Training until validation scores don't improve for 200 rounds\n",
      "[200]\ttraining's rmse: 7947.42\ttraining's l2: 6.31614e+07\tvalid_1's rmse: 7857.37\tvalid_1's l2: 6.17382e+07\n",
      "[400]\ttraining's rmse: 6493.14\ttraining's l2: 4.21609e+07\tvalid_1's rmse: 6489.18\tvalid_1's l2: 4.21094e+07\n",
      "[600]\ttraining's rmse: 5776.65\ttraining's l2: 3.33697e+07\tvalid_1's rmse: 5814.53\tvalid_1's l2: 3.38088e+07\n",
      "[800]\ttraining's rmse: 5304.06\ttraining's l2: 2.8133e+07\tvalid_1's rmse: 5391.6\tvalid_1's l2: 2.90693e+07\n",
      "[1000]\ttraining's rmse: 4976.74\ttraining's l2: 2.4768e+07\tvalid_1's rmse: 5110.24\tvalid_1's l2: 2.61145e+07\n",
      "[1200]\ttraining's rmse: 4721.39\ttraining's l2: 2.22915e+07\tvalid_1's rmse: 4889.39\tvalid_1's l2: 2.39061e+07\n",
      "[1400]\ttraining's rmse: 4508.74\ttraining's l2: 2.03287e+07\tvalid_1's rmse: 4710.78\tvalid_1's l2: 2.21914e+07\n",
      "[1600]\ttraining's rmse: 4334.53\ttraining's l2: 1.87881e+07\tvalid_1's rmse: 4571.8\tvalid_1's l2: 2.09014e+07\n",
      "[1800]\ttraining's rmse: 4191.03\ttraining's l2: 1.75647e+07\tvalid_1's rmse: 4460.59\tvalid_1's l2: 1.98968e+07\n",
      "[2000]\ttraining's rmse: 4057.9\ttraining's l2: 1.64665e+07\tvalid_1's rmse: 4358.7\tvalid_1's l2: 1.89983e+07\n",
      "[2200]\ttraining's rmse: 3950.52\ttraining's l2: 1.56066e+07\tvalid_1's rmse: 4284.74\tvalid_1's l2: 1.8359e+07\n",
      "[2400]\ttraining's rmse: 3848.26\ttraining's l2: 1.48091e+07\tvalid_1's rmse: 4213.98\tvalid_1's l2: 1.77576e+07\n",
      "[2600]\ttraining's rmse: 3751.51\ttraining's l2: 1.40738e+07\tvalid_1's rmse: 4144.96\tvalid_1's l2: 1.71807e+07\n",
      "[2800]\ttraining's rmse: 3667.17\ttraining's l2: 1.34481e+07\tvalid_1's rmse: 4089.57\tvalid_1's l2: 1.67245e+07\n",
      "[3000]\ttraining's rmse: 3592.92\ttraining's l2: 1.29091e+07\tvalid_1's rmse: 4048.74\tvalid_1's l2: 1.63923e+07\n",
      "[3200]\ttraining's rmse: 3530.38\ttraining's l2: 1.24636e+07\tvalid_1's rmse: 4007.41\tvalid_1's l2: 1.60593e+07\n",
      "[3400]\ttraining's rmse: 3469.51\ttraining's l2: 1.20375e+07\tvalid_1's rmse: 3967.18\tvalid_1's l2: 1.57386e+07\n",
      "[3600]\ttraining's rmse: 3413.1\ttraining's l2: 1.16492e+07\tvalid_1's rmse: 3933.25\tvalid_1's l2: 1.54705e+07\n",
      "[3800]\ttraining's rmse: 3361.37\ttraining's l2: 1.12988e+07\tvalid_1's rmse: 3903.46\tvalid_1's l2: 1.5237e+07\n",
      "[4000]\ttraining's rmse: 3313.89\ttraining's l2: 1.09819e+07\tvalid_1's rmse: 3878.68\tvalid_1's l2: 1.50442e+07\n",
      "[4200]\ttraining's rmse: 3266.57\ttraining's l2: 1.06705e+07\tvalid_1's rmse: 3853.51\tvalid_1's l2: 1.48496e+07\n",
      "[4400]\ttraining's rmse: 3223.86\ttraining's l2: 1.03933e+07\tvalid_1's rmse: 3831.93\tvalid_1's l2: 1.46837e+07\n",
      "[4600]\ttraining's rmse: 3184.9\ttraining's l2: 1.01436e+07\tvalid_1's rmse: 3814.41\tvalid_1's l2: 1.45497e+07\n",
      "[4800]\ttraining's rmse: 3145.82\ttraining's l2: 9.89621e+06\tvalid_1's rmse: 3797.07\tvalid_1's l2: 1.44177e+07\n",
      "[5000]\ttraining's rmse: 3108.15\ttraining's l2: 9.6606e+06\tvalid_1's rmse: 3779.03\tvalid_1's l2: 1.42811e+07\n",
      "[5200]\ttraining's rmse: 3072.07\ttraining's l2: 9.43763e+06\tvalid_1's rmse: 3761.54\tvalid_1's l2: 1.41492e+07\n",
      "[5400]\ttraining's rmse: 3038.92\ttraining's l2: 9.23506e+06\tvalid_1's rmse: 3749.31\tvalid_1's l2: 1.40573e+07\n",
      "[5600]\ttraining's rmse: 3010.51\ttraining's l2: 9.06316e+06\tvalid_1's rmse: 3734.63\tvalid_1's l2: 1.39475e+07\n",
      "[5800]\ttraining's rmse: 2979.99\ttraining's l2: 8.88031e+06\tvalid_1's rmse: 3722.72\tvalid_1's l2: 1.38587e+07\n",
      "[6000]\ttraining's rmse: 2951.62\ttraining's l2: 8.71205e+06\tvalid_1's rmse: 3712.92\tvalid_1's l2: 1.37858e+07\n",
      "[6200]\ttraining's rmse: 2924.48\ttraining's l2: 8.55259e+06\tvalid_1's rmse: 3701.93\tvalid_1's l2: 1.37042e+07\n"
     ]
    },
    {
     "name": "stdout",
     "output_type": "stream",
     "text": [
      "[6400]\ttraining's rmse: 2897.09\ttraining's l2: 8.39311e+06\tvalid_1's rmse: 3692.17\tvalid_1's l2: 1.36321e+07\n",
      "[6600]\ttraining's rmse: 2872.93\ttraining's l2: 8.25373e+06\tvalid_1's rmse: 3684.63\tvalid_1's l2: 1.35765e+07\n",
      "[6800]\ttraining's rmse: 2848.98\ttraining's l2: 8.11667e+06\tvalid_1's rmse: 3675.69\tvalid_1's l2: 1.35107e+07\n",
      "[7000]\ttraining's rmse: 2824.78\ttraining's l2: 7.97936e+06\tvalid_1's rmse: 3667.25\tvalid_1's l2: 1.34488e+07\n",
      "[7200]\ttraining's rmse: 2801.25\ttraining's l2: 7.84701e+06\tvalid_1's rmse: 3658.05\tvalid_1's l2: 1.33813e+07\n",
      "[7400]\ttraining's rmse: 2779.97\ttraining's l2: 7.72823e+06\tvalid_1's rmse: 3650.29\tvalid_1's l2: 1.33246e+07\n",
      "[7600]\ttraining's rmse: 2758.85\ttraining's l2: 7.61127e+06\tvalid_1's rmse: 3644.23\tvalid_1's l2: 1.32804e+07\n",
      "[7800]\ttraining's rmse: 2737.81\ttraining's l2: 7.49562e+06\tvalid_1's rmse: 3639.56\tvalid_1's l2: 1.32464e+07\n",
      "[8000]\ttraining's rmse: 2717.67\ttraining's l2: 7.38575e+06\tvalid_1's rmse: 3637.4\tvalid_1's l2: 1.32307e+07\n",
      "[8200]\ttraining's rmse: 2699.39\ttraining's l2: 7.2867e+06\tvalid_1's rmse: 3630.04\tvalid_1's l2: 1.31772e+07\n",
      "[8400]\ttraining's rmse: 2680.02\ttraining's l2: 7.18249e+06\tvalid_1's rmse: 3626.2\tvalid_1's l2: 1.31493e+07\n",
      "[8600]\ttraining's rmse: 2662.24\ttraining's l2: 7.08753e+06\tvalid_1's rmse: 3620.31\tvalid_1's l2: 1.31066e+07\n",
      "[8800]\ttraining's rmse: 2645.04\ttraining's l2: 6.99626e+06\tvalid_1's rmse: 3616.77\tvalid_1's l2: 1.3081e+07\n",
      "[9000]\ttraining's rmse: 2626.75\ttraining's l2: 6.89982e+06\tvalid_1's rmse: 3612.04\tvalid_1's l2: 1.30469e+07\n",
      "[9200]\ttraining's rmse: 2608.56\ttraining's l2: 6.80458e+06\tvalid_1's rmse: 3608.64\tvalid_1's l2: 1.30223e+07\n",
      "[9400]\ttraining's rmse: 2592.9\ttraining's l2: 6.72311e+06\tvalid_1's rmse: 3605.01\tvalid_1's l2: 1.29961e+07\n",
      "[9600]\ttraining's rmse: 2575.32\ttraining's l2: 6.63225e+06\tvalid_1's rmse: 3602.47\tvalid_1's l2: 1.29778e+07\n",
      "[9800]\ttraining's rmse: 2560.8\ttraining's l2: 6.55768e+06\tvalid_1's rmse: 3598.1\tvalid_1's l2: 1.29463e+07\n",
      "[10000]\ttraining's rmse: 2545.31\ttraining's l2: 6.47858e+06\tvalid_1's rmse: 3594.52\tvalid_1's l2: 1.29206e+07\n",
      "[10200]\ttraining's rmse: 2530.61\ttraining's l2: 6.40401e+06\tvalid_1's rmse: 3589.26\tvalid_1's l2: 1.28828e+07\n",
      "[10400]\ttraining's rmse: 2517.01\ttraining's l2: 6.33535e+06\tvalid_1's rmse: 3585.13\tvalid_1's l2: 1.28531e+07\n",
      "[10600]\ttraining's rmse: 2504.16\ttraining's l2: 6.27081e+06\tvalid_1's rmse: 3582.73\tvalid_1's l2: 1.2836e+07\n",
      "[10800]\ttraining's rmse: 2491.84\ttraining's l2: 6.20928e+06\tvalid_1's rmse: 3580.22\tvalid_1's l2: 1.2818e+07\n",
      "[11000]\ttraining's rmse: 2479.31\ttraining's l2: 6.14698e+06\tvalid_1's rmse: 3577.86\tvalid_1's l2: 1.28011e+07\n",
      "[11200]\ttraining's rmse: 2466.29\ttraining's l2: 6.08261e+06\tvalid_1's rmse: 3575.37\tvalid_1's l2: 1.27833e+07\n",
      "[11400]\ttraining's rmse: 2455.06\ttraining's l2: 6.02731e+06\tvalid_1's rmse: 3573.32\tvalid_1's l2: 1.27686e+07\n",
      "[11600]\ttraining's rmse: 2441.17\ttraining's l2: 5.95932e+06\tvalid_1's rmse: 3572.03\tvalid_1's l2: 1.27594e+07\n",
      "[11800]\ttraining's rmse: 2428.09\ttraining's l2: 5.89562e+06\tvalid_1's rmse: 3569.99\tvalid_1's l2: 1.27448e+07\n",
      "[12000]\ttraining's rmse: 2415.56\ttraining's l2: 5.83494e+06\tvalid_1's rmse: 3567.67\tvalid_1's l2: 1.27283e+07\n",
      "[12200]\ttraining's rmse: 2403.19\ttraining's l2: 5.77532e+06\tvalid_1's rmse: 3566.5\tvalid_1's l2: 1.27199e+07\n",
      "[12400]\ttraining's rmse: 2392.29\ttraining's l2: 5.72306e+06\tvalid_1's rmse: 3565.14\tvalid_1's l2: 1.27103e+07\n",
      "[12600]\ttraining's rmse: 2381.07\ttraining's l2: 5.6695e+06\tvalid_1's rmse: 3562.75\tvalid_1's l2: 1.26932e+07\n",
      "[12800]\ttraining's rmse: 2369.94\ttraining's l2: 5.61661e+06\tvalid_1's rmse: 3560.49\tvalid_1's l2: 1.26771e+07\n",
      "[13000]\ttraining's rmse: 2359.45\ttraining's l2: 5.567e+06\tvalid_1's rmse: 3558.82\tvalid_1's l2: 1.26652e+07\n",
      "[13200]\ttraining's rmse: 2349.12\ttraining's l2: 5.51834e+06\tvalid_1's rmse: 3559.01\tvalid_1's l2: 1.26665e+07\n",
      "[13400]\ttraining's rmse: 2340.07\ttraining's l2: 5.47591e+06\tvalid_1's rmse: 3557.85\tvalid_1's l2: 1.26583e+07\n",
      "[13600]\ttraining's rmse: 2329.75\ttraining's l2: 5.42772e+06\tvalid_1's rmse: 3556.54\tvalid_1's l2: 1.26489e+07\n",
      "[13800]\ttraining's rmse: 2318.9\ttraining's l2: 5.37731e+06\tvalid_1's rmse: 3555.41\tvalid_1's l2: 1.26409e+07\n",
      "[14000]\ttraining's rmse: 2309.22\ttraining's l2: 5.33249e+06\tvalid_1's rmse: 3553.49\tvalid_1's l2: 1.26273e+07\n",
      "[14200]\ttraining's rmse: 2299.69\ttraining's l2: 5.28856e+06\tvalid_1's rmse: 3552.44\tvalid_1's l2: 1.26198e+07\n",
      "[14400]\ttraining's rmse: 2290.57\ttraining's l2: 5.2467e+06\tvalid_1's rmse: 3551.07\tvalid_1's l2: 1.26101e+07\n",
      "[14600]\ttraining's rmse: 2280.32\ttraining's l2: 5.19984e+06\tvalid_1's rmse: 3549.23\tvalid_1's l2: 1.25971e+07\n",
      "[14800]\ttraining's rmse: 2270.59\ttraining's l2: 5.1556e+06\tvalid_1's rmse: 3547.49\tvalid_1's l2: 1.25847e+07\n",
      "[15000]\ttraining's rmse: 2260.98\ttraining's l2: 5.11203e+06\tvalid_1's rmse: 3546.59\tvalid_1's l2: 1.25783e+07\n",
      "[15200]\ttraining's rmse: 2252.12\ttraining's l2: 5.07205e+06\tvalid_1's rmse: 3545.16\tvalid_1's l2: 1.25682e+07\n",
      "[15400]\ttraining's rmse: 2244.11\ttraining's l2: 5.03602e+06\tvalid_1's rmse: 3544.41\tvalid_1's l2: 1.25629e+07\n",
      "[15600]\ttraining's rmse: 2235.14\ttraining's l2: 4.99586e+06\tvalid_1's rmse: 3544.07\tvalid_1's l2: 1.25604e+07\n",
      "[15800]\ttraining's rmse: 2226.59\ttraining's l2: 4.95769e+06\tvalid_1's rmse: 3544.35\tvalid_1's l2: 1.25624e+07\n",
      "Early stopping, best iteration is:\n",
      "[15633]\ttraining's rmse: 2233.86\ttraining's l2: 4.99014e+06\tvalid_1's rmse: 3543.7\tvalid_1's l2: 1.25578e+07\n"
     ]
    }
   ],
   "source": [
    "models={}\n",
    "for fold in range(5):\n",
    "    lgbm_model = LGBMRegressor(\n",
    "    boosting_type='gbdt',\n",
    "    num_leaves=31,\n",
    "    max_depth=-1,\n",
    "    learning_rate=0.1,\n",
    "    n_estimators=20000,\n",
    "    objective='mse',\n",
    "    subsample=1.0,\n",
    "    colsample_bytree=1.0,\n",
    "    reg_alpha=0.0,\n",
    "    reg_lambda=0.0,\n",
    "    random_state=42,\n",
    "    n_jobs=-1,\n",
    "#         max_bin=2*9\n",
    ")\n",
    "    \n",
    "    # 데이터 분리 설정\n",
    "    train_idx = folds[fold][0]\n",
    "    valid_idx = folds[fold][1]\n",
    "    X_train, y_train = X_data.iloc[train_idx], y_data[train_idx]\n",
    "    X_valid, y_valid = X_data.iloc[valid_idx], y_data[valid_idx]\n",
    "\n",
    "    \n",
    "    lgbm_model.fit(X_train, y_train, eval_set=[(X_train, y_train), (X_valid, y_valid)], \n",
    "                   eval_metric='rmse', verbose=200,\n",
    "                  early_stopping_rounds=200)\n",
    "    \n",
    "    # 모델 저장\n",
    "    models[fold] = lgbm_model\n"
   ]
  },
  {
   "cell_type": "code",
   "execution_count": 301,
   "metadata": {
    "ExecuteTime": {
     "end_time": "2020-11-23T07:29:31.931020Z",
     "start_time": "2020-11-23T07:21:48.142277Z"
    }
   },
   "outputs": [
    {
     "name": "stdout",
     "output_type": "stream",
     "text": [
      "Training until validation scores don't improve for 200 rounds\n",
      "[200]\ttraining's rmse: 4275.91\ttraining's l2: 1.82834e+07\tvalid_1's rmse: 4661.44\tvalid_1's l2: 2.1729e+07\n",
      "[400]\ttraining's rmse: 3742.46\ttraining's l2: 1.4006e+07\tvalid_1's rmse: 4234.71\tvalid_1's l2: 1.79328e+07\n",
      "[600]\ttraining's rmse: 3485.54\ttraining's l2: 1.2149e+07\tvalid_1's rmse: 4089.48\tvalid_1's l2: 1.67238e+07\n",
      "[800]\ttraining's rmse: 3321.6\ttraining's l2: 1.10331e+07\tvalid_1's rmse: 4011.72\tvalid_1's l2: 1.60939e+07\n",
      "[1000]\ttraining's rmse: 3214.41\ttraining's l2: 1.03324e+07\tvalid_1's rmse: 3961.77\tvalid_1's l2: 1.56957e+07\n",
      "[1200]\ttraining's rmse: 3130.06\ttraining's l2: 9.7973e+06\tvalid_1's rmse: 3930.47\tvalid_1's l2: 1.54486e+07\n",
      "[1400]\ttraining's rmse: 3067.51\ttraining's l2: 9.40964e+06\tvalid_1's rmse: 3929.26\tvalid_1's l2: 1.54391e+07\n",
      "[1600]\ttraining's rmse: 3007.68\ttraining's l2: 9.04616e+06\tvalid_1's rmse: 3910.36\tvalid_1's l2: 1.52909e+07\n",
      "[1800]\ttraining's rmse: 2959.47\ttraining's l2: 8.75846e+06\tvalid_1's rmse: 3900.02\tvalid_1's l2: 1.52101e+07\n",
      "[2000]\ttraining's rmse: 2919.87\ttraining's l2: 8.52565e+06\tvalid_1's rmse: 3892.9\tvalid_1's l2: 1.51547e+07\n",
      "[2200]\ttraining's rmse: 2884.36\ttraining's l2: 8.31956e+06\tvalid_1's rmse: 3881.7\tvalid_1's l2: 1.50676e+07\n",
      "[2400]\ttraining's rmse: 2846.28\ttraining's l2: 8.10131e+06\tvalid_1's rmse: 3874.82\tvalid_1's l2: 1.50142e+07\n",
      "[2600]\ttraining's rmse: 2815.01\ttraining's l2: 7.92427e+06\tvalid_1's rmse: 3867.57\tvalid_1's l2: 1.49581e+07\n",
      "[2800]\ttraining's rmse: 2786.16\ttraining's l2: 7.76267e+06\tvalid_1's rmse: 3862.37\tvalid_1's l2: 1.49179e+07\n",
      "[3000]\ttraining's rmse: 2754.6\ttraining's l2: 7.58784e+06\tvalid_1's rmse: 3857.46\tvalid_1's l2: 1.488e+07\n",
      "[3200]\ttraining's rmse: 2729.98\ttraining's l2: 7.45278e+06\tvalid_1's rmse: 3854.54\tvalid_1's l2: 1.48575e+07\n",
      "[3400]\ttraining's rmse: 2708.96\ttraining's l2: 7.33844e+06\tvalid_1's rmse: 3850.4\tvalid_1's l2: 1.48256e+07\n",
      "[3600]\ttraining's rmse: 2685.75\ttraining's l2: 7.21327e+06\tvalid_1's rmse: 3848.64\tvalid_1's l2: 1.48121e+07\n",
      "[3800]\ttraining's rmse: 2663.24\ttraining's l2: 7.09284e+06\tvalid_1's rmse: 3847.38\tvalid_1's l2: 1.48024e+07\n",
      "[4000]\ttraining's rmse: 2642.38\ttraining's l2: 6.98219e+06\tvalid_1's rmse: 3842.77\tvalid_1's l2: 1.47669e+07\n",
      "[4200]\ttraining's rmse: 2622.65\ttraining's l2: 6.87831e+06\tvalid_1's rmse: 3840.5\tvalid_1's l2: 1.47495e+07\n",
      "[4400]\ttraining's rmse: 2602.87\ttraining's l2: 6.77493e+06\tvalid_1's rmse: 3837.75\tvalid_1's l2: 1.47284e+07\n",
      "[4600]\ttraining's rmse: 2584.36\ttraining's l2: 6.67892e+06\tvalid_1's rmse: 3836.25\tvalid_1's l2: 1.47168e+07\n",
      "[4800]\ttraining's rmse: 2565.73\ttraining's l2: 6.58299e+06\tvalid_1's rmse: 3833.59\tvalid_1's l2: 1.46964e+07\n",
      "[5000]\ttraining's rmse: 2547.11\ttraining's l2: 6.48778e+06\tvalid_1's rmse: 3831.14\tvalid_1's l2: 1.46777e+07\n",
      "[5200]\ttraining's rmse: 2529.75\ttraining's l2: 6.39963e+06\tvalid_1's rmse: 3828.97\tvalid_1's l2: 1.4661e+07\n",
      "Early stopping, best iteration is:\n",
      "[5126]\ttraining's rmse: 2535.62\ttraining's l2: 6.42938e+06\tvalid_1's rmse: 3828.85\tvalid_1's l2: 1.46601e+07\n",
      "Training until validation scores don't improve for 200 rounds\n",
      "[200]\ttraining's rmse: 4316.84\ttraining's l2: 1.86351e+07\tvalid_1's rmse: 4337.27\tvalid_1's l2: 1.88119e+07\n",
      "[400]\ttraining's rmse: 3768.3\ttraining's l2: 1.42001e+07\tvalid_1's rmse: 3947.69\tvalid_1's l2: 1.55842e+07\n",
      "[600]\ttraining's rmse: 3521.49\ttraining's l2: 1.24009e+07\tvalid_1's rmse: 3815.8\tvalid_1's l2: 1.45603e+07\n",
      "[800]\ttraining's rmse: 3366.8\ttraining's l2: 1.13353e+07\tvalid_1's rmse: 3749.33\tvalid_1's l2: 1.40575e+07\n",
      "[1000]\ttraining's rmse: 3255.68\ttraining's l2: 1.05994e+07\tvalid_1's rmse: 3708.07\tvalid_1's l2: 1.37498e+07\n",
      "[1200]\ttraining's rmse: 3183.53\ttraining's l2: 1.01349e+07\tvalid_1's rmse: 3678.8\tvalid_1's l2: 1.35336e+07\n",
      "[1400]\ttraining's rmse: 3118.98\ttraining's l2: 9.72802e+06\tvalid_1's rmse: 3655.31\tvalid_1's l2: 1.33613e+07\n",
      "[1600]\ttraining's rmse: 3065.63\ttraining's l2: 9.39807e+06\tvalid_1's rmse: 3636.15\tvalid_1's l2: 1.32216e+07\n",
      "[1800]\ttraining's rmse: 3024.45\ttraining's l2: 9.14729e+06\tvalid_1's rmse: 3623.74\tvalid_1's l2: 1.31315e+07\n",
      "[2000]\ttraining's rmse: 2990.45\ttraining's l2: 8.94279e+06\tvalid_1's rmse: 3611.73\tvalid_1's l2: 1.30446e+07\n",
      "[2200]\ttraining's rmse: 2954.41\ttraining's l2: 8.72853e+06\tvalid_1's rmse: 3602.23\tvalid_1's l2: 1.29761e+07\n",
      "[2400]\ttraining's rmse: 2920.97\ttraining's l2: 8.53206e+06\tvalid_1's rmse: 3590.83\tvalid_1's l2: 1.2894e+07\n",
      "[2600]\ttraining's rmse: 2891.61\ttraining's l2: 8.36141e+06\tvalid_1's rmse: 3583.37\tvalid_1's l2: 1.28405e+07\n",
      "[2800]\ttraining's rmse: 2864.24\ttraining's l2: 8.20386e+06\tvalid_1's rmse: 3578.13\tvalid_1's l2: 1.2803e+07\n",
      "[3000]\ttraining's rmse: 2832.41\ttraining's l2: 8.02256e+06\tvalid_1's rmse: 3568.74\tvalid_1's l2: 1.27359e+07\n",
      "[3200]\ttraining's rmse: 2804.8\ttraining's l2: 7.86688e+06\tvalid_1's rmse: 3561.71\tvalid_1's l2: 1.26858e+07\n",
      "[3400]\ttraining's rmse: 2774.41\ttraining's l2: 7.69735e+06\tvalid_1's rmse: 3555.11\tvalid_1's l2: 1.26388e+07\n",
      "[3600]\ttraining's rmse: 2753.65\ttraining's l2: 7.58257e+06\tvalid_1's rmse: 3550.02\tvalid_1's l2: 1.26026e+07\n",
      "[3800]\ttraining's rmse: 2731.2\ttraining's l2: 7.45947e+06\tvalid_1's rmse: 3545.46\tvalid_1's l2: 1.25703e+07\n",
      "[4000]\ttraining's rmse: 2712.62\ttraining's l2: 7.35832e+06\tvalid_1's rmse: 3541.19\tvalid_1's l2: 1.25401e+07\n",
      "[4200]\ttraining's rmse: 2691.37\ttraining's l2: 7.24347e+06\tvalid_1's rmse: 3536.78\tvalid_1's l2: 1.25088e+07\n",
      "[4400]\ttraining's rmse: 2672.86\ttraining's l2: 7.14416e+06\tvalid_1's rmse: 3534.17\tvalid_1's l2: 1.24903e+07\n",
      "[4600]\ttraining's rmse: 2651.57\ttraining's l2: 7.0308e+06\tvalid_1's rmse: 3533.67\tvalid_1's l2: 1.24868e+07\n",
      "[4800]\ttraining's rmse: 2631.15\ttraining's l2: 6.92295e+06\tvalid_1's rmse: 3530.94\tvalid_1's l2: 1.24675e+07\n",
      "[5000]\ttraining's rmse: 2613.9\ttraining's l2: 6.83247e+06\tvalid_1's rmse: 3528.53\tvalid_1's l2: 1.24505e+07\n",
      "[5200]\ttraining's rmse: 2598.76\ttraining's l2: 6.75353e+06\tvalid_1's rmse: 3526.31\tvalid_1's l2: 1.24349e+07\n",
      "[5400]\ttraining's rmse: 2582.49\ttraining's l2: 6.66928e+06\tvalid_1's rmse: 3524.85\tvalid_1's l2: 1.24245e+07\n",
      "[5600]\ttraining's rmse: 2565\ttraining's l2: 6.57922e+06\tvalid_1's rmse: 3523.16\tvalid_1's l2: 1.24127e+07\n",
      "[5800]\ttraining's rmse: 2546.77\ttraining's l2: 6.48603e+06\tvalid_1's rmse: 3520.95\tvalid_1's l2: 1.23971e+07\n",
      "[6000]\ttraining's rmse: 2530.1\ttraining's l2: 6.40142e+06\tvalid_1's rmse: 3520.07\tvalid_1's l2: 1.23909e+07\n",
      "[6200]\ttraining's rmse: 2515.98\ttraining's l2: 6.33015e+06\tvalid_1's rmse: 3519.47\tvalid_1's l2: 1.23867e+07\n",
      "[6400]\ttraining's rmse: 2501.13\ttraining's l2: 6.25567e+06\tvalid_1's rmse: 3517.48\tvalid_1's l2: 1.23726e+07\n",
      "[6600]\ttraining's rmse: 2488.95\ttraining's l2: 6.19487e+06\tvalid_1's rmse: 3516.53\tvalid_1's l2: 1.2366e+07\n",
      "[6800]\ttraining's rmse: 2473.64\ttraining's l2: 6.1189e+06\tvalid_1's rmse: 3515.17\tvalid_1's l2: 1.23564e+07\n",
      "[7000]\ttraining's rmse: 2459.25\ttraining's l2: 6.0479e+06\tvalid_1's rmse: 3514.39\tvalid_1's l2: 1.2351e+07\n",
      "Early stopping, best iteration is:\n",
      "[6996]\ttraining's rmse: 2460.69\ttraining's l2: 6.05498e+06\tvalid_1's rmse: 3513.72\tvalid_1's l2: 1.23462e+07\n",
      "Training until validation scores don't improve for 200 rounds\n",
      "[200]\ttraining's rmse: 4306.62\ttraining's l2: 1.8547e+07\tvalid_1's rmse: 4412.63\tvalid_1's l2: 1.94713e+07\n",
      "[400]\ttraining's rmse: 3788.33\ttraining's l2: 1.43515e+07\tvalid_1's rmse: 4021.41\tvalid_1's l2: 1.61718e+07\n",
      "[600]\ttraining's rmse: 3559.02\ttraining's l2: 1.26666e+07\tvalid_1's rmse: 3887.89\tvalid_1's l2: 1.51157e+07\n",
      "[800]\ttraining's rmse: 3408.46\ttraining's l2: 1.16176e+07\tvalid_1's rmse: 3809.74\tvalid_1's l2: 1.45141e+07\n",
      "[1000]\ttraining's rmse: 3296.37\ttraining's l2: 1.0866e+07\tvalid_1's rmse: 3760.86\tvalid_1's l2: 1.4144e+07\n",
      "[1200]\ttraining's rmse: 3201.2\ttraining's l2: 1.02477e+07\tvalid_1's rmse: 3720.93\tvalid_1's l2: 1.38453e+07\n",
      "[1400]\ttraining's rmse: 3130.45\ttraining's l2: 9.7997e+06\tvalid_1's rmse: 3688.98\tvalid_1's l2: 1.36086e+07\n",
      "[1600]\ttraining's rmse: 3063.92\ttraining's l2: 9.38762e+06\tvalid_1's rmse: 3663.82\tvalid_1's l2: 1.34236e+07\n",
      "[1800]\ttraining's rmse: 3007.53\ttraining's l2: 9.04527e+06\tvalid_1's rmse: 3648.61\tvalid_1's l2: 1.33124e+07\n",
      "[2000]\ttraining's rmse: 2963.9\ttraining's l2: 8.78472e+06\tvalid_1's rmse: 3636.95\tvalid_1's l2: 1.32274e+07\n",
      "[2200]\ttraining's rmse: 2918.78\ttraining's l2: 8.51927e+06\tvalid_1's rmse: 3621.63\tvalid_1's l2: 1.31162e+07\n"
     ]
    },
    {
     "name": "stdout",
     "output_type": "stream",
     "text": [
      "[2400]\ttraining's rmse: 2880.09\ttraining's l2: 8.29493e+06\tvalid_1's rmse: 3610.35\tvalid_1's l2: 1.30347e+07\n",
      "[2600]\ttraining's rmse: 2850.11\ttraining's l2: 8.1231e+06\tvalid_1's rmse: 3604.29\tvalid_1's l2: 1.29909e+07\n",
      "[2800]\ttraining's rmse: 2824.88\ttraining's l2: 7.97995e+06\tvalid_1's rmse: 3597.23\tvalid_1's l2: 1.294e+07\n",
      "[3000]\ttraining's rmse: 2799.3\ttraining's l2: 7.83608e+06\tvalid_1's rmse: 3591.14\tvalid_1's l2: 1.28963e+07\n",
      "[3200]\ttraining's rmse: 2775.32\ttraining's l2: 7.7024e+06\tvalid_1's rmse: 3584.64\tvalid_1's l2: 1.28497e+07\n",
      "[3400]\ttraining's rmse: 2748.45\ttraining's l2: 7.55398e+06\tvalid_1's rmse: 3579.98\tvalid_1's l2: 1.28163e+07\n",
      "[3600]\ttraining's rmse: 2727.7\ttraining's l2: 7.44034e+06\tvalid_1's rmse: 3577.08\tvalid_1's l2: 1.27955e+07\n",
      "[3800]\ttraining's rmse: 2700.51\ttraining's l2: 7.29276e+06\tvalid_1's rmse: 3574.25\tvalid_1's l2: 1.27753e+07\n",
      "[4000]\ttraining's rmse: 2674.47\ttraining's l2: 7.15278e+06\tvalid_1's rmse: 3567.79\tvalid_1's l2: 1.27291e+07\n",
      "[4200]\ttraining's rmse: 2652.28\ttraining's l2: 7.03458e+06\tvalid_1's rmse: 3560.83\tvalid_1's l2: 1.26795e+07\n",
      "[4400]\ttraining's rmse: 2632.39\ttraining's l2: 6.92947e+06\tvalid_1's rmse: 3555.91\tvalid_1's l2: 1.26445e+07\n",
      "[4600]\ttraining's rmse: 2614.72\ttraining's l2: 6.83674e+06\tvalid_1's rmse: 3552.14\tvalid_1's l2: 1.26177e+07\n",
      "[4800]\ttraining's rmse: 2598.31\ttraining's l2: 6.75124e+06\tvalid_1's rmse: 3550\tvalid_1's l2: 1.26025e+07\n",
      "[5000]\ttraining's rmse: 2579.55\ttraining's l2: 6.65408e+06\tvalid_1's rmse: 3546.59\tvalid_1's l2: 1.25783e+07\n",
      "[5200]\ttraining's rmse: 2567.47\ttraining's l2: 6.59193e+06\tvalid_1's rmse: 3544.95\tvalid_1's l2: 1.25666e+07\n",
      "[5400]\ttraining's rmse: 2552.4\ttraining's l2: 6.51473e+06\tvalid_1's rmse: 3542.07\tvalid_1's l2: 1.25463e+07\n",
      "[5600]\ttraining's rmse: 2532.74\ttraining's l2: 6.41476e+06\tvalid_1's rmse: 3542.36\tvalid_1's l2: 1.25483e+07\n",
      "Early stopping, best iteration is:\n",
      "[5411]\ttraining's rmse: 2551.16\ttraining's l2: 6.50844e+06\tvalid_1's rmse: 3541.85\tvalid_1's l2: 1.25447e+07\n",
      "Training until validation scores don't improve for 200 rounds\n",
      "[200]\ttraining's rmse: 4198.28\ttraining's l2: 1.76256e+07\tvalid_1's rmse: 5536.93\tvalid_1's l2: 3.06576e+07\n",
      "[400]\ttraining's rmse: 3679.52\ttraining's l2: 1.35389e+07\tvalid_1's rmse: 5085.4\tvalid_1's l2: 2.58613e+07\n",
      "[600]\ttraining's rmse: 3464.09\ttraining's l2: 1.2e+07\tvalid_1's rmse: 4972.07\tvalid_1's l2: 2.47214e+07\n",
      "[800]\ttraining's rmse: 3314.44\ttraining's l2: 1.09855e+07\tvalid_1's rmse: 4899.07\tvalid_1's l2: 2.40009e+07\n",
      "[1000]\ttraining's rmse: 3210.24\ttraining's l2: 1.03056e+07\tvalid_1's rmse: 4856.28\tvalid_1's l2: 2.35834e+07\n",
      "[1200]\ttraining's rmse: 3139.27\ttraining's l2: 9.85499e+06\tvalid_1's rmse: 4825.38\tvalid_1's l2: 2.32843e+07\n",
      "[1400]\ttraining's rmse: 3077.15\ttraining's l2: 9.46887e+06\tvalid_1's rmse: 4802.33\tvalid_1's l2: 2.30624e+07\n",
      "[1600]\ttraining's rmse: 3025.83\ttraining's l2: 9.15562e+06\tvalid_1's rmse: 4781.84\tvalid_1's l2: 2.2866e+07\n",
      "[1800]\ttraining's rmse: 2976.94\ttraining's l2: 8.86215e+06\tvalid_1's rmse: 4765.49\tvalid_1's l2: 2.27099e+07\n",
      "[2000]\ttraining's rmse: 2942.61\ttraining's l2: 8.65896e+06\tvalid_1's rmse: 4756.82\tvalid_1's l2: 2.26274e+07\n",
      "[2200]\ttraining's rmse: 2895.13\ttraining's l2: 8.38178e+06\tvalid_1's rmse: 4742.68\tvalid_1's l2: 2.2493e+07\n",
      "[2400]\ttraining's rmse: 2856.51\ttraining's l2: 8.15963e+06\tvalid_1's rmse: 4730.82\tvalid_1's l2: 2.23807e+07\n",
      "[2600]\ttraining's rmse: 2828.75\ttraining's l2: 8.0018e+06\tvalid_1's rmse: 4722.92\tvalid_1's l2: 2.2306e+07\n",
      "[2800]\ttraining's rmse: 2798.21\ttraining's l2: 7.82999e+06\tvalid_1's rmse: 4715.4\tvalid_1's l2: 2.2235e+07\n",
      "[3000]\ttraining's rmse: 2768.97\ttraining's l2: 7.66717e+06\tvalid_1's rmse: 4709.23\tvalid_1's l2: 2.21769e+07\n",
      "[3200]\ttraining's rmse: 2743.59\ttraining's l2: 7.52726e+06\tvalid_1's rmse: 4705.83\tvalid_1's l2: 2.21448e+07\n",
      "[3400]\ttraining's rmse: 2717.88\ttraining's l2: 7.38689e+06\tvalid_1's rmse: 4700.21\tvalid_1's l2: 2.2092e+07\n",
      "[3600]\ttraining's rmse: 2693.34\ttraining's l2: 7.25409e+06\tvalid_1's rmse: 4693.9\tvalid_1's l2: 2.20327e+07\n",
      "[3800]\ttraining's rmse: 2667.18\ttraining's l2: 7.11386e+06\tvalid_1's rmse: 4692.68\tvalid_1's l2: 2.20212e+07\n",
      "[4000]\ttraining's rmse: 2643.26\ttraining's l2: 6.98684e+06\tvalid_1's rmse: 4687.23\tvalid_1's l2: 2.19701e+07\n",
      "[4200]\ttraining's rmse: 2625.43\ttraining's l2: 6.8929e+06\tvalid_1's rmse: 4681.94\tvalid_1's l2: 2.19206e+07\n",
      "[4400]\ttraining's rmse: 2606.03\ttraining's l2: 6.79137e+06\tvalid_1's rmse: 4680.92\tvalid_1's l2: 2.1911e+07\n",
      "[4600]\ttraining's rmse: 2582.98\ttraining's l2: 6.67178e+06\tvalid_1's rmse: 4676.9\tvalid_1's l2: 2.18734e+07\n",
      "[4800]\ttraining's rmse: 2558.85\ttraining's l2: 6.54769e+06\tvalid_1's rmse: 4674.1\tvalid_1's l2: 2.18472e+07\n",
      "[5000]\ttraining's rmse: 2539.32\ttraining's l2: 6.44815e+06\tvalid_1's rmse: 4671.81\tvalid_1's l2: 2.18258e+07\n",
      "[5200]\ttraining's rmse: 2522.79\ttraining's l2: 6.36446e+06\tvalid_1's rmse: 4669.27\tvalid_1's l2: 2.18021e+07\n",
      "[5400]\ttraining's rmse: 2508.21\ttraining's l2: 6.29111e+06\tvalid_1's rmse: 4668.99\tvalid_1's l2: 2.17995e+07\n",
      "Early stopping, best iteration is:\n",
      "[5320]\ttraining's rmse: 2514.54\ttraining's l2: 6.32293e+06\tvalid_1's rmse: 4667.79\tvalid_1's l2: 2.17883e+07\n",
      "Training until validation scores don't improve for 200 rounds\n",
      "[200]\ttraining's rmse: 4260.72\ttraining's l2: 1.81537e+07\tvalid_1's rmse: 4271.58\tvalid_1's l2: 1.82464e+07\n",
      "[400]\ttraining's rmse: 3776.89\ttraining's l2: 1.42649e+07\tvalid_1's rmse: 3928.52\tvalid_1's l2: 1.54333e+07\n",
      "[600]\ttraining's rmse: 3533.55\ttraining's l2: 1.24859e+07\tvalid_1's rmse: 3789.53\tvalid_1's l2: 1.43605e+07\n",
      "[800]\ttraining's rmse: 3383.45\ttraining's l2: 1.14477e+07\tvalid_1's rmse: 3713.56\tvalid_1's l2: 1.37905e+07\n",
      "[1000]\ttraining's rmse: 3279.24\ttraining's l2: 1.07534e+07\tvalid_1's rmse: 3670.21\tvalid_1's l2: 1.34705e+07\n",
      "[1200]\ttraining's rmse: 3196.12\ttraining's l2: 1.02152e+07\tvalid_1's rmse: 3634.68\tvalid_1's l2: 1.32109e+07\n",
      "[1400]\ttraining's rmse: 3120.94\ttraining's l2: 9.74026e+06\tvalid_1's rmse: 3614.63\tvalid_1's l2: 1.30655e+07\n",
      "[1600]\ttraining's rmse: 3056.02\ttraining's l2: 9.33927e+06\tvalid_1's rmse: 3593.21\tvalid_1's l2: 1.29112e+07\n",
      "[1800]\ttraining's rmse: 3007.14\ttraining's l2: 9.04291e+06\tvalid_1's rmse: 3579.56\tvalid_1's l2: 1.28133e+07\n",
      "[2000]\ttraining's rmse: 2969.65\ttraining's l2: 8.8188e+06\tvalid_1's rmse: 3568.86\tvalid_1's l2: 1.27368e+07\n",
      "[2200]\ttraining's rmse: 2928.95\ttraining's l2: 8.57874e+06\tvalid_1's rmse: 3558.21\tvalid_1's l2: 1.26608e+07\n",
      "[2400]\ttraining's rmse: 2895.81\ttraining's l2: 8.38569e+06\tvalid_1's rmse: 3550.55\tvalid_1's l2: 1.26064e+07\n",
      "[2600]\ttraining's rmse: 2862.89\ttraining's l2: 8.19613e+06\tvalid_1's rmse: 3541.27\tvalid_1's l2: 1.25406e+07\n",
      "[2800]\ttraining's rmse: 2830.77\ttraining's l2: 8.01326e+06\tvalid_1's rmse: 3535.14\tvalid_1's l2: 1.24972e+07\n",
      "[3000]\ttraining's rmse: 2804.15\ttraining's l2: 7.86326e+06\tvalid_1's rmse: 3530.49\tvalid_1's l2: 1.24643e+07\n",
      "[3200]\ttraining's rmse: 2776.87\ttraining's l2: 7.711e+06\tvalid_1's rmse: 3525.49\tvalid_1's l2: 1.24291e+07\n",
      "[3400]\ttraining's rmse: 2753.78\ttraining's l2: 7.58333e+06\tvalid_1's rmse: 3521.29\tvalid_1's l2: 1.23995e+07\n",
      "[3600]\ttraining's rmse: 2732.07\ttraining's l2: 7.4642e+06\tvalid_1's rmse: 3517.51\tvalid_1's l2: 1.23729e+07\n",
      "[3800]\ttraining's rmse: 2705.51\ttraining's l2: 7.31977e+06\tvalid_1's rmse: 3513.23\tvalid_1's l2: 1.23428e+07\n",
      "[4000]\ttraining's rmse: 2679.82\ttraining's l2: 7.18141e+06\tvalid_1's rmse: 3510.25\tvalid_1's l2: 1.23219e+07\n",
      "[4200]\ttraining's rmse: 2660.04\ttraining's l2: 7.07582e+06\tvalid_1's rmse: 3506.67\tvalid_1's l2: 1.22967e+07\n",
      "[4400]\ttraining's rmse: 2640.33\ttraining's l2: 6.97132e+06\tvalid_1's rmse: 3503.64\tvalid_1's l2: 1.22755e+07\n",
      "[4600]\ttraining's rmse: 2620.2\ttraining's l2: 6.86544e+06\tvalid_1's rmse: 3501.82\tvalid_1's l2: 1.22627e+07\n",
      "[4800]\ttraining's rmse: 2602.73\ttraining's l2: 6.77419e+06\tvalid_1's rmse: 3499.45\tvalid_1's l2: 1.22462e+07\n",
      "[5000]\ttraining's rmse: 2585.39\ttraining's l2: 6.68424e+06\tvalid_1's rmse: 3499.29\tvalid_1's l2: 1.2245e+07\n",
      "[5200]\ttraining's rmse: 2567.78\ttraining's l2: 6.59351e+06\tvalid_1's rmse: 3498.72\tvalid_1's l2: 1.2241e+07\n",
      "Early stopping, best iteration is:\n",
      "[5077]\ttraining's rmse: 2577.95\ttraining's l2: 6.64582e+06\tvalid_1's rmse: 3497.92\tvalid_1's l2: 1.22354e+07\n"
     ]
    }
   ],
   "source": [
    "models={}\n",
    "for fold in range(5):\n",
    "    lgbm_model = LGBMRegressor(\n",
    "    boosting_type='gbdt',\n",
    "    num_leaves=31,\n",
    "    max_depth=-1,\n",
    "    learning_rate=0.1,\n",
    "    n_estimators=20000,\n",
    "    objective='mse',\n",
    "    subsample=1.0,\n",
    "    colsample_bytree=1.0,\n",
    "    reg_alpha=0.0,\n",
    "    reg_lambda=0.0,\n",
    "    random_state=42,\n",
    "    n_jobs=-1,\n",
    "#         max_bin=2*9\n",
    ")\n",
    "    \n",
    "    # 데이터 분리 설정\n",
    "    train_idx = folds[fold][0]\n",
    "    valid_idx = folds[fold][1]\n",
    "    X_train, y_train = X_data.iloc[train_idx], y_data[train_idx]\n",
    "    X_valid, y_valid = X_data.iloc[valid_idx], y_data[valid_idx]\n",
    "\n",
    "    \n",
    "    lgbm_model.fit(X_train, y_train, eval_set=[(X_train, y_train), (X_valid, y_valid)], \n",
    "                   eval_metric='rmse', verbose=200,\n",
    "                  early_stopping_rounds=200)\n",
    "    \n",
    "    # 모델 저장\n",
    "    models[fold] = lgbm_model\n"
   ]
  },
  {
   "cell_type": "code",
   "execution_count": 247,
   "metadata": {
    "ExecuteTime": {
     "end_time": "2020-11-22T13:48:02.743511Z",
     "start_time": "2020-11-22T13:48:01.926304Z"
    }
   },
   "outputs": [],
   "source": [
    "pred = models[0].predict(test.drop(['day_care_baby_num_mean', 'park_area', 'teacher_num','transaction_year'], axis=1))"
   ]
  },
  {
   "cell_type": "code",
   "execution_count": 253,
   "metadata": {
    "ExecuteTime": {
     "end_time": "2020-11-22T15:08:58.127380Z",
     "start_time": "2020-11-22T15:08:52.852152Z"
    }
   },
   "outputs": [],
   "source": [
    "# kfold model-stacking ensemble\n",
    "preds=0\n",
    "for fold in range(5):\n",
    "    preds += models[fold].predict(test.drop(['day_care_baby_num_mean', 'park_area', 'teacher_num','transaction_year'], axis=1))/5"
   ]
  },
  {
   "cell_type": "code",
   "execution_count": 254,
   "metadata": {
    "ExecuteTime": {
     "end_time": "2020-11-22T15:09:08.145179Z",
     "start_time": "2020-11-22T15:09:08.116172Z"
    }
   },
   "outputs": [],
   "source": [
    "submit = pd.read_csv('submission.csv')\n",
    "submit['transaction_real_price'] = pred\n",
    "submit.to_csv('single-model.csv', index=False)\n",
    "\n",
    "submit['transaction_real_price'] = preds\n",
    "submit.to_csv('ensemble-model.csv', index=False)\n"
   ]
  },
  {
   "cell_type": "markdown",
   "metadata": {},
   "source": [
    "# Bayesian-Optimization 으로 하이퍼파라미터 튜닝"
   ]
  },
  {
   "cell_type": "markdown",
   "metadata": {},
   "source": [
    "- pip install bayesian-optimization"
   ]
  },
  {
   "cell_type": "code",
   "execution_count": 257,
   "metadata": {
    "ExecuteTime": {
     "end_time": "2020-11-22T15:10:02.835796Z",
     "start_time": "2020-11-22T15:10:02.818791Z"
    }
   },
   "outputs": [],
   "source": [
    "lgbm_model = LGBMRegressor(\n",
    "    boosting_type='gbdt',\n",
    "    max_depth=-1,\n",
    "    n_estimators=20000,\n",
    "    objective='regression',\n",
    "    \n",
    "    num_leaves=31,\n",
    "    learning_rate=0.1,\n",
    "    subsample=1.0,\n",
    "    colsample_bytree=1.0,\n",
    "    reg_alpha=0.0,\n",
    "    reg_lambda=0.0,\n",
    "    random_state=42,\n",
    "    n_jobs=-1,\n",
    "    )"
   ]
  },
  {
   "cell_type": "code",
   "execution_count": 286,
   "metadata": {
    "ExecuteTime": {
     "end_time": "2020-11-22T18:09:15.053673Z",
     "start_time": "2020-11-22T18:09:15.036670Z"
    }
   },
   "outputs": [],
   "source": [
    "from bayes_opt import BayesianOptimization\n",
    "from lightgbm import LGBMClassifier\n",
    "from sklearn.metrics import roc_auc_score\n",
    "import time\n",
    "\n",
    "bayes_params = {\n",
    "    'num_leaves': (24, 150),\n",
    "    'learning_rate':(0.005, 0.5),\n",
    "    'bagging_fraction': (0.8, 1),\n",
    "    'feature_fraction':(0.8, 1), \n",
    "    'lambda_l1': (0, 50),\n",
    "    'lambda_l2': (0, 100), \n",
    "} \n",
    "\n",
    "def lgbm_bo(num_leaves,learning_rate, bagging_fraction, feature_fraction, lambda_l1, lambda_l2):\n",
    "    lgbm_model = LGBMRegressor(\n",
    "    boosting_type='gbdt',\n",
    "    max_depth=-1,\n",
    "    n_estimators=20000,\n",
    "    objective='regression',\n",
    "    num_leaves=int(round(num_leaves)),\n",
    "    learning_rate=learning_rate,\n",
    "    subsample= bagging_fraction,\n",
    "    colsample_bytree=feature_fraction,\n",
    "    reg_alpha=lambda_l1,\n",
    "    reg_lambda=lambda_l2,\n",
    "    random_state=42,\n",
    "    n_jobs=-1,\n",
    "    )\n",
    "    \n",
    "    train_idx = folds[fold][0]\n",
    "    valid_idx = folds[fold][1]\n",
    "    X_train, y_train = X_data.iloc[train_idx], y_data[train_idx]\n",
    "    X_valid, y_valid = X_data.iloc[valid_idx], y_data[valid_idx]\n",
    "\n",
    "#     train_set = lgb.Dataset(X_train, y_train, params=data_params)\n",
    "#     valid_set = lgb.Dataset(X_valid, y_valid, params=data_params)\n",
    "\n",
    "    \n",
    "    lgbm_model.fit(X_train, y_train, eval_set=[(X_train, y_train), (X_valid, y_valid)], \n",
    "                   eval_metric='rmse', verbose=0,\n",
    "                  early_stopping_rounds=200)\n",
    "    pred = lgbm_model.predict(X_valid)\n",
    "    pred = np.sqrt(mean_squared_error(y_valid, pred))\n",
    "    \n",
    "    \n",
    "    return 1/pred*3497\n"
   ]
  },
  {
   "cell_type": "code",
   "execution_count": 287,
   "metadata": {
    "ExecuteTime": {
     "end_time": "2020-11-23T02:27:55.130280Z",
     "start_time": "2020-11-22T18:09:15.662328Z"
    }
   },
   "outputs": [
    {
     "name": "stdout",
     "output_type": "stream",
     "text": [
      "|   iter    |  target   | baggin... | featur... | lambda_l1 | lambda_l2 | learni... | num_le... |\n",
      "-------------------------------------------------------------------------------------------------\n",
      "| \u001b[0m 1       \u001b[0m | \u001b[0m 0.9948  \u001b[0m | \u001b[0m 0.992   \u001b[0m | \u001b[0m 0.9399  \u001b[0m | \u001b[0m 49.99   \u001b[0m | \u001b[0m 22.01   \u001b[0m | \u001b[0m 0.1837  \u001b[0m | \u001b[0m 117.2   \u001b[0m |\n",
      "| \u001b[95m 2       \u001b[0m | \u001b[95m 1.0     \u001b[0m | \u001b[95m 0.9993  \u001b[0m | \u001b[95m 0.8633  \u001b[0m | \u001b[95m 6.827   \u001b[0m | \u001b[95m 38.4    \u001b[0m | \u001b[95m 0.1637  \u001b[0m | \u001b[95m 70.17   \u001b[0m |\n",
      "| \u001b[0m 3       \u001b[0m | \u001b[0m 0.9666  \u001b[0m | \u001b[0m 0.9419  \u001b[0m | \u001b[0m 0.98    \u001b[0m | \u001b[0m 26.71   \u001b[0m | \u001b[0m 24.73   \u001b[0m | \u001b[0m 0.3375  \u001b[0m | \u001b[0m 94.78   \u001b[0m |\n",
      "| \u001b[0m 4       \u001b[0m | \u001b[0m 0.9803  \u001b[0m | \u001b[0m 0.9085  \u001b[0m | \u001b[0m 0.9787  \u001b[0m | \u001b[0m 42.14   \u001b[0m | \u001b[0m 30.6    \u001b[0m | \u001b[0m 0.3174  \u001b[0m | \u001b[0m 109.7   \u001b[0m |\n",
      "| \u001b[0m 5       \u001b[0m | \u001b[0m 0.9854  \u001b[0m | \u001b[0m 0.9941  \u001b[0m | \u001b[0m 0.9787  \u001b[0m | \u001b[0m 47.12   \u001b[0m | \u001b[0m 64.22   \u001b[0m | \u001b[0m 0.3093  \u001b[0m | \u001b[0m 52.69   \u001b[0m |\n",
      "| \u001b[95m 6       \u001b[0m | \u001b[95m 1.01    \u001b[0m | \u001b[95m 1.0     \u001b[0m | \u001b[95m 0.8     \u001b[0m | \u001b[95m 0.0     \u001b[0m | \u001b[95m 100.0   \u001b[0m | \u001b[95m 0.005   \u001b[0m | \u001b[95m 150.0   \u001b[0m |\n",
      "| \u001b[0m 7       \u001b[0m | \u001b[0m 0.9796  \u001b[0m | \u001b[0m 0.9013  \u001b[0m | \u001b[0m 0.8686  \u001b[0m | \u001b[0m 2.027   \u001b[0m | \u001b[0m 99.77   \u001b[0m | \u001b[0m 0.4568  \u001b[0m | \u001b[0m 26.29   \u001b[0m |\n",
      "| \u001b[0m 8       \u001b[0m | \u001b[0m 0.9929  \u001b[0m | \u001b[0m 0.8366  \u001b[0m | \u001b[0m 0.9031  \u001b[0m | \u001b[0m 16.78   \u001b[0m | \u001b[0m 1.144   \u001b[0m | \u001b[0m 0.1732  \u001b[0m | \u001b[0m 24.28   \u001b[0m |\n",
      "| \u001b[0m 9       \u001b[0m | \u001b[0m 0.9319  \u001b[0m | \u001b[0m 0.9148  \u001b[0m | \u001b[0m 0.9666  \u001b[0m | \u001b[0m 3.241   \u001b[0m | \u001b[0m 0.4066  \u001b[0m | \u001b[0m 0.4306  \u001b[0m | \u001b[0m 149.0   \u001b[0m |\n",
      "| \u001b[0m 10      \u001b[0m | \u001b[0m 0.9982  \u001b[0m | \u001b[0m 0.8652  \u001b[0m | \u001b[0m 0.8166  \u001b[0m | \u001b[0m 45.51   \u001b[0m | \u001b[0m 99.75   \u001b[0m | \u001b[0m 0.2292  \u001b[0m | \u001b[0m 141.5   \u001b[0m |\n",
      "| \u001b[0m 11      \u001b[0m | \u001b[0m 0.9802  \u001b[0m | \u001b[0m 0.9477  \u001b[0m | \u001b[0m 0.9254  \u001b[0m | \u001b[0m 0.776   \u001b[0m | \u001b[0m 98.34   \u001b[0m | \u001b[0m 0.3863  \u001b[0m | \u001b[0m 83.67   \u001b[0m |\n",
      "| \u001b[0m 12      \u001b[0m | \u001b[0m 0.9553  \u001b[0m | \u001b[0m 0.844   \u001b[0m | \u001b[0m 0.8385  \u001b[0m | \u001b[0m 9.231   \u001b[0m | \u001b[0m 37.59   \u001b[0m | \u001b[0m 0.4891  \u001b[0m | \u001b[0m 66.65   \u001b[0m |\n",
      "| \u001b[0m 13      \u001b[0m | \u001b[0m 0.9391  \u001b[0m | \u001b[0m 1.0     \u001b[0m | \u001b[0m 1.0     \u001b[0m | \u001b[0m 50.0    \u001b[0m | \u001b[0m 100.0   \u001b[0m | \u001b[0m 0.005   \u001b[0m | \u001b[0m 24.0    \u001b[0m |\n",
      "| \u001b[95m 14      \u001b[0m | \u001b[95m 1.014   \u001b[0m | \u001b[95m 0.9088  \u001b[0m | \u001b[95m 0.8932  \u001b[0m | \u001b[95m 4.276   \u001b[0m | \u001b[95m 39.88   \u001b[0m | \u001b[95m 0.0243  \u001b[0m | \u001b[95m 72.4    \u001b[0m |\n",
      "| \u001b[0m 15      \u001b[0m | \u001b[0m 0.9532  \u001b[0m | \u001b[0m 1.0     \u001b[0m | \u001b[0m 1.0     \u001b[0m | \u001b[0m 50.0    \u001b[0m | \u001b[0m 0.0     \u001b[0m | \u001b[0m 0.005   \u001b[0m | \u001b[0m 24.0    \u001b[0m |\n",
      "| \u001b[0m 16      \u001b[0m | \u001b[0m 0.9889  \u001b[0m | \u001b[0m 1.0     \u001b[0m | \u001b[0m 0.8     \u001b[0m | \u001b[0m 50.0    \u001b[0m | \u001b[0m 100.0   \u001b[0m | \u001b[0m 0.005   \u001b[0m | \u001b[0m 84.45   \u001b[0m |\n",
      "| \u001b[0m 17      \u001b[0m | \u001b[0m 1.011   \u001b[0m | \u001b[0m 1.0     \u001b[0m | \u001b[0m 0.8     \u001b[0m | \u001b[0m 0.0     \u001b[0m | \u001b[0m 0.0     \u001b[0m | \u001b[0m 0.005   \u001b[0m | \u001b[0m 77.62   \u001b[0m |\n",
      "| \u001b[0m 18      \u001b[0m | \u001b[0m 0.9972  \u001b[0m | \u001b[0m 1.0     \u001b[0m | \u001b[0m 0.8532  \u001b[0m | \u001b[0m 50.0    \u001b[0m | \u001b[0m 47.65   \u001b[0m | \u001b[0m 0.005   \u001b[0m | \u001b[0m 150.0   \u001b[0m |\n",
      "| \u001b[0m 19      \u001b[0m | \u001b[0m 1.012   \u001b[0m | \u001b[0m 0.8786  \u001b[0m | \u001b[0m 0.8423  \u001b[0m | \u001b[0m 49.92   \u001b[0m | \u001b[0m 3.608   \u001b[0m | \u001b[0m 0.08309 \u001b[0m | \u001b[0m 148.9   \u001b[0m |\n",
      "| \u001b[0m 20      \u001b[0m | \u001b[0m 0.9915  \u001b[0m | \u001b[0m 0.9363  \u001b[0m | \u001b[0m 0.8587  \u001b[0m | \u001b[0m 0.1537  \u001b[0m | \u001b[0m 51.69   \u001b[0m | \u001b[0m 0.2672  \u001b[0m | \u001b[0m 147.3   \u001b[0m |\n",
      "| \u001b[0m 21      \u001b[0m | \u001b[0m 1.003   \u001b[0m | \u001b[0m 0.9483  \u001b[0m | \u001b[0m 0.9964  \u001b[0m | \u001b[0m 23.48   \u001b[0m | \u001b[0m 75.83   \u001b[0m | \u001b[0m 0.1306  \u001b[0m | \u001b[0m 111.4   \u001b[0m |\n",
      "| \u001b[0m 22      \u001b[0m | \u001b[0m 0.9636  \u001b[0m | \u001b[0m 0.9222  \u001b[0m | \u001b[0m 0.8573  \u001b[0m | \u001b[0m 48.9    \u001b[0m | \u001b[0m 58.83   \u001b[0m | \u001b[0m 0.4363  \u001b[0m | \u001b[0m 87.12   \u001b[0m |\n",
      "| \u001b[0m 23      \u001b[0m | \u001b[0m 0.987   \u001b[0m | \u001b[0m 0.8614  \u001b[0m | \u001b[0m 0.8345  \u001b[0m | \u001b[0m 49.99   \u001b[0m | \u001b[0m 53.75   \u001b[0m | \u001b[0m 0.3686  \u001b[0m | \u001b[0m 24.47   \u001b[0m |\n",
      "| \u001b[0m 24      \u001b[0m | \u001b[0m 1.007   \u001b[0m | \u001b[0m 0.934   \u001b[0m | \u001b[0m 0.9591  \u001b[0m | \u001b[0m 0.1304  \u001b[0m | \u001b[0m 28.07   \u001b[0m | \u001b[0m 0.07959 \u001b[0m | \u001b[0m 118.6   \u001b[0m |\n",
      "| \u001b[0m 25      \u001b[0m | \u001b[0m 1.001   \u001b[0m | \u001b[0m 0.9983  \u001b[0m | \u001b[0m 0.9088  \u001b[0m | \u001b[0m 25.22   \u001b[0m | \u001b[0m 99.77   \u001b[0m | \u001b[0m 0.1877  \u001b[0m | \u001b[0m 58.26   \u001b[0m |\n",
      "| \u001b[0m 26      \u001b[0m | \u001b[0m 1.011   \u001b[0m | \u001b[0m 0.8478  \u001b[0m | \u001b[0m 0.8542  \u001b[0m | \u001b[0m 1.452   \u001b[0m | \u001b[0m 1.25    \u001b[0m | \u001b[0m 0.02693 \u001b[0m | \u001b[0m 24.08   \u001b[0m |\n",
      "| \u001b[95m 27      \u001b[0m | \u001b[95m 1.014   \u001b[0m | \u001b[95m 0.8941  \u001b[0m | \u001b[95m 0.8939  \u001b[0m | \u001b[95m 29.02   \u001b[0m | \u001b[95m 30.16   \u001b[0m | \u001b[95m 0.06194 \u001b[0m | \u001b[95m 150.0   \u001b[0m |\n",
      "| \u001b[0m 28      \u001b[0m | \u001b[0m 0.9934  \u001b[0m | \u001b[0m 0.9723  \u001b[0m | \u001b[0m 0.8627  \u001b[0m | \u001b[0m 3.513   \u001b[0m | \u001b[0m 99.71   \u001b[0m | \u001b[0m 0.2325  \u001b[0m | \u001b[0m 123.6   \u001b[0m |\n",
      "| \u001b[0m 29      \u001b[0m | \u001b[0m 1.009   \u001b[0m | \u001b[0m 0.8635  \u001b[0m | \u001b[0m 0.8938  \u001b[0m | \u001b[0m 24.36   \u001b[0m | \u001b[0m 87.41   \u001b[0m | \u001b[0m 0.08499 \u001b[0m | \u001b[0m 149.7   \u001b[0m |\n",
      "| \u001b[0m 30      \u001b[0m | \u001b[0m 0.9974  \u001b[0m | \u001b[0m 0.9487  \u001b[0m | \u001b[0m 0.8593  \u001b[0m | \u001b[0m 0.04362 \u001b[0m | \u001b[0m 21.42   \u001b[0m | \u001b[0m 0.1933  \u001b[0m | \u001b[0m 87.6    \u001b[0m |\n",
      "| \u001b[0m 31      \u001b[0m | \u001b[0m 0.9661  \u001b[0m | \u001b[0m 0.9168  \u001b[0m | \u001b[0m 0.8969  \u001b[0m | \u001b[0m 30.97   \u001b[0m | \u001b[0m 0.06716 \u001b[0m | \u001b[0m 0.289   \u001b[0m | \u001b[0m 122.9   \u001b[0m |\n",
      "| \u001b[0m 32      \u001b[0m | \u001b[0m 1.009   \u001b[0m | \u001b[0m 0.8858  \u001b[0m | \u001b[0m 0.9905  \u001b[0m | \u001b[0m 1.58    \u001b[0m | \u001b[0m 57.78   \u001b[0m | \u001b[0m 0.07996 \u001b[0m | \u001b[0m 99.05   \u001b[0m |\n",
      "| \u001b[0m 33      \u001b[0m | \u001b[0m 0.989   \u001b[0m | \u001b[0m 0.9781  \u001b[0m | \u001b[0m 0.8063  \u001b[0m | \u001b[0m 22.61   \u001b[0m | \u001b[0m 78.38   \u001b[0m | \u001b[0m 0.01395 \u001b[0m | \u001b[0m 24.8    \u001b[0m |\n",
      "| \u001b[95m 34      \u001b[0m | \u001b[95m 1.015   \u001b[0m | \u001b[95m 0.9861  \u001b[0m | \u001b[95m 0.892   \u001b[0m | \u001b[95m 20.84   \u001b[0m | \u001b[95m 70.27   \u001b[0m | \u001b[95m 0.04998 \u001b[0m | \u001b[95m 76.74   \u001b[0m |\n",
      "| \u001b[0m 35      \u001b[0m | \u001b[0m 0.9893  \u001b[0m | \u001b[0m 0.8318  \u001b[0m | \u001b[0m 0.9251  \u001b[0m | \u001b[0m 49.02   \u001b[0m | \u001b[0m 0.8333  \u001b[0m | \u001b[0m 0.1932  \u001b[0m | \u001b[0m 74.01   \u001b[0m |\n",
      "| \u001b[0m 36      \u001b[0m | \u001b[0m 1.011   \u001b[0m | \u001b[0m 0.8739  \u001b[0m | \u001b[0m 0.8577  \u001b[0m | \u001b[0m 25.87   \u001b[0m | \u001b[0m 99.24   \u001b[0m | \u001b[0m 0.07172 \u001b[0m | \u001b[0m 104.4   \u001b[0m |\n",
      "| \u001b[0m 37      \u001b[0m | \u001b[0m 1.002   \u001b[0m | \u001b[0m 0.9798  \u001b[0m | \u001b[0m 0.8893  \u001b[0m | \u001b[0m 0.9113  \u001b[0m | \u001b[0m 0.8356  \u001b[0m | \u001b[0m 0.1245  \u001b[0m | \u001b[0m 52.4    \u001b[0m |\n",
      "| \u001b[95m 38      \u001b[0m | \u001b[95m 1.018   \u001b[0m | \u001b[95m 0.9317  \u001b[0m | \u001b[95m 0.856   \u001b[0m | \u001b[95m 22.27   \u001b[0m | \u001b[95m 49.54   \u001b[0m | \u001b[95m 0.03868 \u001b[0m | \u001b[95m 127.7   \u001b[0m |\n",
      "| \u001b[0m 39      \u001b[0m | \u001b[0m 1.005   \u001b[0m | \u001b[0m 0.9998  \u001b[0m | \u001b[0m 0.998   \u001b[0m | \u001b[0m 49.76   \u001b[0m | \u001b[0m 0.8011  \u001b[0m | \u001b[0m 0.1088  \u001b[0m | \u001b[0m 94.65   \u001b[0m |\n",
      "| \u001b[0m 40      \u001b[0m | \u001b[0m 1.015   \u001b[0m | \u001b[0m 0.8094  \u001b[0m | \u001b[0m 0.9883  \u001b[0m | \u001b[0m 0.5013  \u001b[0m | \u001b[0m 85.52   \u001b[0m | \u001b[0m 0.04892 \u001b[0m | \u001b[0m 54.9    \u001b[0m |\n",
      "| \u001b[0m 41      \u001b[0m | \u001b[0m 0.9967  \u001b[0m | \u001b[0m 0.8236  \u001b[0m | \u001b[0m 0.8081  \u001b[0m | \u001b[0m 49.98   \u001b[0m | \u001b[0m 93.75   \u001b[0m | \u001b[0m 0.02102 \u001b[0m | \u001b[0m 118.1   \u001b[0m |\n",
      "| \u001b[0m 42      \u001b[0m | \u001b[0m 1.002   \u001b[0m | \u001b[0m 0.9543  \u001b[0m | \u001b[0m 0.9158  \u001b[0m | \u001b[0m 48.71   \u001b[0m | \u001b[0m 76.28   \u001b[0m | \u001b[0m 0.02175 \u001b[0m | \u001b[0m 27.75   \u001b[0m |\n",
      "| \u001b[0m 43      \u001b[0m | \u001b[0m 1.008   \u001b[0m | \u001b[0m 0.8097  \u001b[0m | \u001b[0m 0.9955  \u001b[0m | \u001b[0m 1.076   \u001b[0m | \u001b[0m 71.35   \u001b[0m | \u001b[0m 0.1295  \u001b[0m | \u001b[0m 25.78   \u001b[0m |\n",
      "| \u001b[0m 44      \u001b[0m | \u001b[0m 1.01    \u001b[0m | \u001b[0m 0.9575  \u001b[0m | \u001b[0m 0.9289  \u001b[0m | \u001b[0m 22.13   \u001b[0m | \u001b[0m 99.47   \u001b[0m | \u001b[0m 0.0545  \u001b[0m | \u001b[0m 131.7   \u001b[0m |\n",
      "| \u001b[0m 45      \u001b[0m | \u001b[0m 1.01    \u001b[0m | \u001b[0m 0.9685  \u001b[0m | \u001b[0m 0.9768  \u001b[0m | \u001b[0m 11.61   \u001b[0m | \u001b[0m 44.12   \u001b[0m | \u001b[0m 0.09928 \u001b[0m | \u001b[0m 88.58   \u001b[0m |\n",
      "| \u001b[0m 46      \u001b[0m | \u001b[0m 1.015   \u001b[0m | \u001b[0m 0.873   \u001b[0m | \u001b[0m 0.8239  \u001b[0m | \u001b[0m 49.54   \u001b[0m | \u001b[0m 84.56   \u001b[0m | \u001b[0m 0.0669  \u001b[0m | \u001b[0m 61.21   \u001b[0m |\n",
      "| \u001b[0m 47      \u001b[0m | \u001b[0m 1.012   \u001b[0m | \u001b[0m 0.8666  \u001b[0m | \u001b[0m 0.9059  \u001b[0m | \u001b[0m 0.2027  \u001b[0m | \u001b[0m 61.58   \u001b[0m | \u001b[0m 0.1243  \u001b[0m | \u001b[0m 73.8    \u001b[0m |\n",
      "| \u001b[0m 48      \u001b[0m | \u001b[0m 1.013   \u001b[0m | \u001b[0m 0.9959  \u001b[0m | \u001b[0m 0.9817  \u001b[0m | \u001b[0m 37.61   \u001b[0m | \u001b[0m 83.57   \u001b[0m | \u001b[0m 0.02115 \u001b[0m | \u001b[0m 78.49   \u001b[0m |\n",
      "| \u001b[0m 49      \u001b[0m | \u001b[0m 1.015   \u001b[0m | \u001b[0m 0.9961  \u001b[0m | \u001b[0m 0.9504  \u001b[0m | \u001b[0m 14.18   \u001b[0m | \u001b[0m 28.14   \u001b[0m | \u001b[0m 0.05697 \u001b[0m | \u001b[0m 132.9   \u001b[0m |\n",
      "| \u001b[95m 50      \u001b[0m | \u001b[95m 1.019   \u001b[0m | \u001b[95m 0.964   \u001b[0m | \u001b[95m 0.8884  \u001b[0m | \u001b[95m 49.32   \u001b[0m | \u001b[95m 23.17   \u001b[0m | \u001b[95m 0.02782 \u001b[0m | \u001b[95m 146.0   \u001b[0m |\n"
     ]
    },
    {
     "name": "stdout",
     "output_type": "stream",
     "text": [
      "| \u001b[0m 51      \u001b[0m | \u001b[0m 0.989   \u001b[0m | \u001b[0m 0.9615  \u001b[0m | \u001b[0m 0.9596  \u001b[0m | \u001b[0m 2.751   \u001b[0m | \u001b[0m 76.28   \u001b[0m | \u001b[0m 0.0062  \u001b[0m | \u001b[0m 137.2   \u001b[0m |\n",
      "| \u001b[0m 52      \u001b[0m | \u001b[0m 0.9918  \u001b[0m | \u001b[0m 0.9902  \u001b[0m | \u001b[0m 0.8937  \u001b[0m | \u001b[0m 38.97   \u001b[0m | \u001b[0m 73.84   \u001b[0m | \u001b[0m 0.00591 \u001b[0m | \u001b[0m 132.6   \u001b[0m |\n",
      "| \u001b[0m 53      \u001b[0m | \u001b[0m 1.011   \u001b[0m | \u001b[0m 0.9956  \u001b[0m | \u001b[0m 0.884   \u001b[0m | \u001b[0m 16.52   \u001b[0m | \u001b[0m 88.03   \u001b[0m | \u001b[0m 0.09286 \u001b[0m | \u001b[0m 72.93   \u001b[0m |\n",
      "| \u001b[0m 54      \u001b[0m | \u001b[0m 1.01    \u001b[0m | \u001b[0m 0.9722  \u001b[0m | \u001b[0m 0.9989  \u001b[0m | \u001b[0m 0.001927\u001b[0m | \u001b[0m 80.76   \u001b[0m | \u001b[0m 0.07741 \u001b[0m | \u001b[0m 36.31   \u001b[0m |\n",
      "| \u001b[0m 55      \u001b[0m | \u001b[0m 1.013   \u001b[0m | \u001b[0m 0.9788  \u001b[0m | \u001b[0m 0.9614  \u001b[0m | \u001b[0m 26.07   \u001b[0m | \u001b[0m 0.4525  \u001b[0m | \u001b[0m 0.01811 \u001b[0m | \u001b[0m 73.53   \u001b[0m |\n",
      "| \u001b[0m 56      \u001b[0m | \u001b[0m 0.9991  \u001b[0m | \u001b[0m 0.9539  \u001b[0m | \u001b[0m 0.9977  \u001b[0m | \u001b[0m 0.7664  \u001b[0m | \u001b[0m 35.06   \u001b[0m | \u001b[0m 0.1749  \u001b[0m | \u001b[0m 24.35   \u001b[0m |\n",
      "| \u001b[95m 57      \u001b[0m | \u001b[95m 1.019   \u001b[0m | \u001b[95m 0.9084  \u001b[0m | \u001b[95m 0.8326  \u001b[0m | \u001b[95m 2.042   \u001b[0m | \u001b[95m 48.69   \u001b[0m | \u001b[95m 0.04722 \u001b[0m | \u001b[95m 123.1   \u001b[0m |\n",
      "| \u001b[0m 58      \u001b[0m | \u001b[0m 1.015   \u001b[0m | \u001b[0m 0.863   \u001b[0m | \u001b[0m 0.8363  \u001b[0m | \u001b[0m 25.31   \u001b[0m | \u001b[0m 99.65   \u001b[0m | \u001b[0m 0.04818 \u001b[0m | \u001b[0m 149.3   \u001b[0m |\n",
      "| \u001b[0m 59      \u001b[0m | \u001b[0m 1.01    \u001b[0m | \u001b[0m 0.9889  \u001b[0m | \u001b[0m 0.8018  \u001b[0m | \u001b[0m 0.1529  \u001b[0m | \u001b[0m 45.48   \u001b[0m | \u001b[0m 0.0873  \u001b[0m | \u001b[0m 80.68   \u001b[0m |\n",
      "| \u001b[0m 60      \u001b[0m | \u001b[0m 1.007   \u001b[0m | \u001b[0m 0.8813  \u001b[0m | \u001b[0m 0.8781  \u001b[0m | \u001b[0m 0.2089  \u001b[0m | \u001b[0m 99.52   \u001b[0m | \u001b[0m 0.01104 \u001b[0m | \u001b[0m 52.81   \u001b[0m |\n",
      "| \u001b[0m 61      \u001b[0m | \u001b[0m 1.013   \u001b[0m | \u001b[0m 0.882   \u001b[0m | \u001b[0m 0.8124  \u001b[0m | \u001b[0m 13.92   \u001b[0m | \u001b[0m 40.75   \u001b[0m | \u001b[0m 0.02241 \u001b[0m | \u001b[0m 115.1   \u001b[0m |\n",
      "| \u001b[0m 62      \u001b[0m | \u001b[0m 1.018   \u001b[0m | \u001b[0m 0.9509  \u001b[0m | \u001b[0m 0.817   \u001b[0m | \u001b[0m 21.46   \u001b[0m | \u001b[0m 50.71   \u001b[0m | \u001b[0m 0.02129 \u001b[0m | \u001b[0m 146.4   \u001b[0m |\n",
      "| \u001b[0m 63      \u001b[0m | \u001b[0m 1.016   \u001b[0m | \u001b[0m 0.9805  \u001b[0m | \u001b[0m 0.9168  \u001b[0m | \u001b[0m 34.85   \u001b[0m | \u001b[0m 40.47   \u001b[0m | \u001b[0m 0.0217  \u001b[0m | \u001b[0m 137.9   \u001b[0m |\n",
      "| \u001b[0m 64      \u001b[0m | \u001b[0m 1.003   \u001b[0m | \u001b[0m 0.9896  \u001b[0m | \u001b[0m 0.9972  \u001b[0m | \u001b[0m 26.33   \u001b[0m | \u001b[0m 80.89   \u001b[0m | \u001b[0m 0.009533\u001b[0m | \u001b[0m 49.71   \u001b[0m |\n",
      "| \u001b[0m 65      \u001b[0m | \u001b[0m 1.016   \u001b[0m | \u001b[0m 0.9826  \u001b[0m | \u001b[0m 0.9327  \u001b[0m | \u001b[0m 1.137   \u001b[0m | \u001b[0m 28.55   \u001b[0m | \u001b[0m 0.05522 \u001b[0m | \u001b[0m 144.8   \u001b[0m |\n",
      "| \u001b[0m 66      \u001b[0m | \u001b[0m 1.011   \u001b[0m | \u001b[0m 0.9867  \u001b[0m | \u001b[0m 0.9958  \u001b[0m | \u001b[0m 7.052   \u001b[0m | \u001b[0m 72.61   \u001b[0m | \u001b[0m 0.05437 \u001b[0m | \u001b[0m 96.21   \u001b[0m |\n",
      "| \u001b[0m 67      \u001b[0m | \u001b[0m 1.015   \u001b[0m | \u001b[0m 0.9103  \u001b[0m | \u001b[0m 0.9365  \u001b[0m | \u001b[0m 20.29   \u001b[0m | \u001b[0m 0.1299  \u001b[0m | \u001b[0m 0.05719 \u001b[0m | \u001b[0m 91.43   \u001b[0m |\n",
      "| \u001b[0m 68      \u001b[0m | \u001b[0m 1.017   \u001b[0m | \u001b[0m 0.902   \u001b[0m | \u001b[0m 0.8453  \u001b[0m | \u001b[0m 0.03849 \u001b[0m | \u001b[0m 64.68   \u001b[0m | \u001b[0m 0.03623 \u001b[0m | \u001b[0m 52.75   \u001b[0m |\n",
      "| \u001b[0m 69      \u001b[0m | \u001b[0m 1.015   \u001b[0m | \u001b[0m 0.9442  \u001b[0m | \u001b[0m 0.9796  \u001b[0m | \u001b[0m 9.235   \u001b[0m | \u001b[0m 38.89   \u001b[0m | \u001b[0m 0.04344 \u001b[0m | \u001b[0m 136.0   \u001b[0m |\n",
      "| \u001b[0m 70      \u001b[0m | \u001b[0m 1.012   \u001b[0m | \u001b[0m 0.9674  \u001b[0m | \u001b[0m 0.8043  \u001b[0m | \u001b[0m 12.84   \u001b[0m | \u001b[0m 56.83   \u001b[0m | \u001b[0m 0.04312 \u001b[0m | \u001b[0m 110.0   \u001b[0m |\n",
      "| \u001b[0m 71      \u001b[0m | \u001b[0m 1.013   \u001b[0m | \u001b[0m 0.942   \u001b[0m | \u001b[0m 0.9215  \u001b[0m | \u001b[0m 49.9    \u001b[0m | \u001b[0m 83.13   \u001b[0m | \u001b[0m 0.04546 \u001b[0m | \u001b[0m 46.54   \u001b[0m |\n",
      "| \u001b[0m 72      \u001b[0m | \u001b[0m 1.007   \u001b[0m | \u001b[0m 0.9666  \u001b[0m | \u001b[0m 0.9638  \u001b[0m | \u001b[0m 49.81   \u001b[0m | \u001b[0m 45.72   \u001b[0m | \u001b[0m 0.07746 \u001b[0m | \u001b[0m 121.1   \u001b[0m |\n",
      "| \u001b[0m 73      \u001b[0m | \u001b[0m 1.003   \u001b[0m | \u001b[0m 0.8677  \u001b[0m | \u001b[0m 0.9166  \u001b[0m | \u001b[0m 0.2425  \u001b[0m | \u001b[0m 52.24   \u001b[0m | \u001b[0m 0.1474  \u001b[0m | \u001b[0m 25.88   \u001b[0m |\n",
      "| \u001b[95m 74      \u001b[0m | \u001b[95m 1.019   \u001b[0m | \u001b[95m 0.989   \u001b[0m | \u001b[95m 0.9658  \u001b[0m | \u001b[95m 34.16   \u001b[0m | \u001b[95m 7.972   \u001b[0m | \u001b[95m 0.01457 \u001b[0m | \u001b[95m 149.8   \u001b[0m |\n",
      "| \u001b[0m 75      \u001b[0m | \u001b[0m 1.017   \u001b[0m | \u001b[0m 0.9275  \u001b[0m | \u001b[0m 0.9527  \u001b[0m | \u001b[0m 15.15   \u001b[0m | \u001b[0m 18.21   \u001b[0m | \u001b[0m 0.03589 \u001b[0m | \u001b[0m 148.3   \u001b[0m |\n",
      "| \u001b[0m 76      \u001b[0m | \u001b[0m 1.014   \u001b[0m | \u001b[0m 0.938   \u001b[0m | \u001b[0m 0.995   \u001b[0m | \u001b[0m 41.05   \u001b[0m | \u001b[0m 16.1    \u001b[0m | \u001b[0m 0.06535 \u001b[0m | \u001b[0m 139.4   \u001b[0m |\n",
      "| \u001b[0m 77      \u001b[0m | \u001b[0m 1.016   \u001b[0m | \u001b[0m 0.927   \u001b[0m | \u001b[0m 0.8468  \u001b[0m | \u001b[0m 1.168   \u001b[0m | \u001b[0m 76.87   \u001b[0m | \u001b[0m 0.01591 \u001b[0m | \u001b[0m 64.65   \u001b[0m |\n",
      "| \u001b[95m 78      \u001b[0m | \u001b[95m 1.02    \u001b[0m | \u001b[95m 0.8025  \u001b[0m | \u001b[95m 0.9337  \u001b[0m | \u001b[95m 13.91   \u001b[0m | \u001b[95m 0.8328  \u001b[0m | \u001b[95m 0.02018 \u001b[0m | \u001b[95m 72.79   \u001b[0m |\n",
      "| \u001b[0m 79      \u001b[0m | \u001b[0m 0.9985  \u001b[0m | \u001b[0m 0.8239  \u001b[0m | \u001b[0m 0.9099  \u001b[0m | \u001b[0m 19.63   \u001b[0m | \u001b[0m 70.42   \u001b[0m | \u001b[0m 0.0118  \u001b[0m | \u001b[0m 150.0   \u001b[0m |\n",
      "| \u001b[0m 80      \u001b[0m | \u001b[0m 1.017   \u001b[0m | \u001b[0m 0.9996  \u001b[0m | \u001b[0m 0.9686  \u001b[0m | \u001b[0m 10.47   \u001b[0m | \u001b[0m 28.6    \u001b[0m | \u001b[0m 0.04952 \u001b[0m | \u001b[0m 148.8   \u001b[0m |\n",
      "| \u001b[0m 81      \u001b[0m | \u001b[0m 1.005   \u001b[0m | \u001b[0m 0.8312  \u001b[0m | \u001b[0m 0.9874  \u001b[0m | \u001b[0m 46.77   \u001b[0m | \u001b[0m 84.03   \u001b[0m | \u001b[0m 0.07095 \u001b[0m | \u001b[0m 149.7   \u001b[0m |\n",
      "| \u001b[0m 82      \u001b[0m | \u001b[0m 1.019   \u001b[0m | \u001b[0m 0.9973  \u001b[0m | \u001b[0m 0.8144  \u001b[0m | \u001b[0m 37.74   \u001b[0m | \u001b[0m 18.27   \u001b[0m | \u001b[0m 0.04023 \u001b[0m | \u001b[0m 149.1   \u001b[0m |\n",
      "| \u001b[0m 83      \u001b[0m | \u001b[0m 1.018   \u001b[0m | \u001b[0m 0.9799  \u001b[0m | \u001b[0m 0.9776  \u001b[0m | \u001b[0m 0.3005  \u001b[0m | \u001b[0m 28.99   \u001b[0m | \u001b[0m 0.02319 \u001b[0m | \u001b[0m 76.72   \u001b[0m |\n",
      "| \u001b[0m 84      \u001b[0m | \u001b[0m 0.9885  \u001b[0m | \u001b[0m 0.9762  \u001b[0m | \u001b[0m 0.8884  \u001b[0m | \u001b[0m 27.28   \u001b[0m | \u001b[0m 99.01   \u001b[0m | \u001b[0m 0.005678\u001b[0m | \u001b[0m 83.19   \u001b[0m |\n",
      "| \u001b[0m 85      \u001b[0m | \u001b[0m 0.9943  \u001b[0m | \u001b[0m 0.9806  \u001b[0m | \u001b[0m 0.8547  \u001b[0m | \u001b[0m 36.38   \u001b[0m | \u001b[0m 98.79   \u001b[0m | \u001b[0m 0.005477\u001b[0m | \u001b[0m 119.9   \u001b[0m |\n",
      "| \u001b[0m 86      \u001b[0m | \u001b[0m 1.008   \u001b[0m | \u001b[0m 0.9657  \u001b[0m | \u001b[0m 0.9282  \u001b[0m | \u001b[0m 48.89   \u001b[0m | \u001b[0m 81.21   \u001b[0m | \u001b[0m 0.1047  \u001b[0m | \u001b[0m 94.16   \u001b[0m |\n",
      "| \u001b[0m 87      \u001b[0m | \u001b[0m 1.006   \u001b[0m | \u001b[0m 0.9002  \u001b[0m | \u001b[0m 0.9594  \u001b[0m | \u001b[0m 16.95   \u001b[0m | \u001b[0m 93.11   \u001b[0m | \u001b[0m 0.02374 \u001b[0m | \u001b[0m 109.4   \u001b[0m |\n",
      "| \u001b[0m 88      \u001b[0m | \u001b[0m 1.012   \u001b[0m | \u001b[0m 0.9887  \u001b[0m | \u001b[0m 0.897   \u001b[0m | \u001b[0m 12.12   \u001b[0m | \u001b[0m 93.23   \u001b[0m | \u001b[0m 0.02092 \u001b[0m | \u001b[0m 47.14   \u001b[0m |\n",
      "| \u001b[0m 89      \u001b[0m | \u001b[0m 1.007   \u001b[0m | \u001b[0m 0.9356  \u001b[0m | \u001b[0m 0.9703  \u001b[0m | \u001b[0m 13.39   \u001b[0m | \u001b[0m 96.96   \u001b[0m | \u001b[0m 0.05634 \u001b[0m | \u001b[0m 148.8   \u001b[0m |\n",
      "| \u001b[0m 90      \u001b[0m | \u001b[0m 0.9973  \u001b[0m | \u001b[0m 0.9857  \u001b[0m | \u001b[0m 0.8793  \u001b[0m | \u001b[0m 24.25   \u001b[0m | \u001b[0m 72.78   \u001b[0m | \u001b[0m 0.007046\u001b[0m | \u001b[0m 91.4    \u001b[0m |\n",
      "| \u001b[0m 91      \u001b[0m | \u001b[0m 1.008   \u001b[0m | \u001b[0m 0.8697  \u001b[0m | \u001b[0m 0.8941  \u001b[0m | \u001b[0m 10.69   \u001b[0m | \u001b[0m 76.84   \u001b[0m | \u001b[0m 0.05655 \u001b[0m | \u001b[0m 57.71   \u001b[0m |\n",
      "| \u001b[0m 92      \u001b[0m | \u001b[0m 1.016   \u001b[0m | \u001b[0m 0.9844  \u001b[0m | \u001b[0m 0.8985  \u001b[0m | \u001b[0m 49.34   \u001b[0m | \u001b[0m 76.93   \u001b[0m | \u001b[0m 0.02066 \u001b[0m | \u001b[0m 64.88   \u001b[0m |\n",
      "| \u001b[0m 93      \u001b[0m | \u001b[0m 1.008   \u001b[0m | \u001b[0m 0.8286  \u001b[0m | \u001b[0m 0.8913  \u001b[0m | \u001b[0m 48.72   \u001b[0m | \u001b[0m 97.75   \u001b[0m | \u001b[0m 0.08014 \u001b[0m | \u001b[0m 148.9   \u001b[0m |\n",
      "| \u001b[0m 94      \u001b[0m | \u001b[0m 1.017   \u001b[0m | \u001b[0m 0.937   \u001b[0m | \u001b[0m 0.8744  \u001b[0m | \u001b[0m 10.36   \u001b[0m | \u001b[0m 1.192   \u001b[0m | \u001b[0m 0.00711 \u001b[0m | \u001b[0m 80.53   \u001b[0m |\n",
      "| \u001b[0m 95      \u001b[0m | \u001b[0m 1.011   \u001b[0m | \u001b[0m 0.8508  \u001b[0m | \u001b[0m 0.9933  \u001b[0m | \u001b[0m 0.8814  \u001b[0m | \u001b[0m 68.01   \u001b[0m | \u001b[0m 0.02065 \u001b[0m | \u001b[0m 114.2   \u001b[0m |\n",
      "| \u001b[0m 96      \u001b[0m | \u001b[0m 1.016   \u001b[0m | \u001b[0m 0.9817  \u001b[0m | \u001b[0m 0.856   \u001b[0m | \u001b[0m 11.83   \u001b[0m | \u001b[0m 54.89   \u001b[0m | \u001b[0m 0.0121  \u001b[0m | \u001b[0m 132.2   \u001b[0m |\n",
      "| \u001b[0m 97      \u001b[0m | \u001b[0m 1.016   \u001b[0m | \u001b[0m 0.9596  \u001b[0m | \u001b[0m 0.8828  \u001b[0m | \u001b[0m 34.47   \u001b[0m | \u001b[0m 0.9188  \u001b[0m | \u001b[0m 0.007164\u001b[0m | \u001b[0m 86.48   \u001b[0m |\n",
      "| \u001b[0m 98      \u001b[0m | \u001b[0m 1.007   \u001b[0m | \u001b[0m 0.9879  \u001b[0m | \u001b[0m 0.906   \u001b[0m | \u001b[0m 28.23   \u001b[0m | \u001b[0m 82.24   \u001b[0m | \u001b[0m 0.01086 \u001b[0m | \u001b[0m 67.21   \u001b[0m |\n",
      "| \u001b[0m 99      \u001b[0m | \u001b[0m 0.9861  \u001b[0m | \u001b[0m 0.9178  \u001b[0m | \u001b[0m 0.9854  \u001b[0m | \u001b[0m 9.511   \u001b[0m | \u001b[0m 75.87   \u001b[0m | \u001b[0m 0.01369 \u001b[0m | \u001b[0m 76.66   \u001b[0m |\n",
      "| \u001b[0m 100     \u001b[0m | \u001b[0m 1.015   \u001b[0m | \u001b[0m 0.9589  \u001b[0m | \u001b[0m 0.8034  \u001b[0m | \u001b[0m 16.06   \u001b[0m | \u001b[0m 57.69   \u001b[0m | \u001b[0m 0.04622 \u001b[0m | \u001b[0m 75.51   \u001b[0m |\n",
      "| \u001b[0m 101     \u001b[0m | \u001b[0m 1.008   \u001b[0m | \u001b[0m 0.9858  \u001b[0m | \u001b[0m 0.8803  \u001b[0m | \u001b[0m 8.401   \u001b[0m | \u001b[0m 98.32   \u001b[0m | \u001b[0m 0.1116  \u001b[0m | \u001b[0m 62.37   \u001b[0m |\n"
     ]
    },
    {
     "name": "stdout",
     "output_type": "stream",
     "text": [
      "| \u001b[0m 102     \u001b[0m | \u001b[0m 1.013   \u001b[0m | \u001b[0m 0.8604  \u001b[0m | \u001b[0m 0.9448  \u001b[0m | \u001b[0m 49.45   \u001b[0m | \u001b[0m 31.24   \u001b[0m | \u001b[0m 0.0404  \u001b[0m | \u001b[0m 129.9   \u001b[0m |\n",
      "| \u001b[0m 103     \u001b[0m | \u001b[0m 1.009   \u001b[0m | \u001b[0m 0.9087  \u001b[0m | \u001b[0m 0.9986  \u001b[0m | \u001b[0m 0.4896  \u001b[0m | \u001b[0m 7.016   \u001b[0m | \u001b[0m 0.1031  \u001b[0m | \u001b[0m 67.72   \u001b[0m |\n",
      "| \u001b[0m 104     \u001b[0m | \u001b[0m 1.014   \u001b[0m | \u001b[0m 0.9454  \u001b[0m | \u001b[0m 0.9182  \u001b[0m | \u001b[0m 0.2234  \u001b[0m | \u001b[0m 58.32   \u001b[0m | \u001b[0m 0.04615 \u001b[0m | \u001b[0m 63.59   \u001b[0m |\n",
      "| \u001b[0m 105     \u001b[0m | \u001b[0m 1.017   \u001b[0m | \u001b[0m 0.9554  \u001b[0m | \u001b[0m 0.9507  \u001b[0m | \u001b[0m 10.51   \u001b[0m | \u001b[0m 0.03507 \u001b[0m | \u001b[0m 0.01739 \u001b[0m | \u001b[0m 62.33   \u001b[0m |\n",
      "=================================================================================================\n"
     ]
    }
   ],
   "source": [
    "BO_lgb = BayesianOptimization(lgbm_bo, bayes_params, random_state=24)\n",
    "BO_lgb.maximize(init_points=5, n_iter=100) # 처음 5회 랜덤 값으로 score 계산 후 100회 최적화"
   ]
  },
  {
   "cell_type": "markdown",
   "metadata": {},
   "source": [
    "### bayesian optimization 방법으로 찾은 hyper parameters"
   ]
  },
  {
   "cell_type": "code",
   "execution_count": 299,
   "metadata": {
    "ExecuteTime": {
     "end_time": "2020-11-23T06:20:38.102402Z",
     "start_time": "2020-11-23T06:20:38.088399Z"
    },
    "scrolled": true
   },
   "outputs": [
    {
     "data": {
      "text/plain": [
       "{'target': 1.0204149984924762,\n",
       " 'params': {'bagging_fraction': 0.8025071423725055,\n",
       "  'feature_fraction': 0.9337271325135359,\n",
       "  'lambda_l1': 13.910673181476618,\n",
       "  'lambda_l2': 0.8327925973102168,\n",
       "  'learning_rate': 0.020184681097225387,\n",
       "  'num_leaves': 72.7944846451714}}"
      ]
     },
     "execution_count": 299,
     "metadata": {},
     "output_type": "execute_result"
    }
   ],
   "source": [
    "BO_lgb.max"
   ]
  },
  {
   "cell_type": "code",
   "execution_count": 309,
   "metadata": {
    "ExecuteTime": {
     "end_time": "2020-11-23T11:10:37.853723Z",
     "start_time": "2020-11-23T10:46:25.326662Z"
    }
   },
   "outputs": [
    {
     "name": "stdout",
     "output_type": "stream",
     "text": [
      "Training until validation scores don't improve for 200 rounds\n",
      "[200]\ttraining's rmse: 5368.5\ttraining's l2: 2.88208e+07\tvalid_1's rmse: 5711.46\tvalid_1's l2: 3.26208e+07\n",
      "[400]\ttraining's rmse: 4250.72\ttraining's l2: 1.80686e+07\tvalid_1's rmse: 4644.47\tvalid_1's l2: 2.15711e+07\n",
      "[600]\ttraining's rmse: 3893.62\ttraining's l2: 1.51602e+07\tvalid_1's rmse: 4363.18\tvalid_1's l2: 1.90374e+07\n",
      "[800]\ttraining's rmse: 3681.5\ttraining's l2: 1.35535e+07\tvalid_1's rmse: 4206.4\tvalid_1's l2: 1.76938e+07\n",
      "[1000]\ttraining's rmse: 3530.97\ttraining's l2: 1.24677e+07\tvalid_1's rmse: 4109.25\tvalid_1's l2: 1.68859e+07\n",
      "[1200]\ttraining's rmse: 3418.08\ttraining's l2: 1.16833e+07\tvalid_1's rmse: 4045.51\tvalid_1's l2: 1.63662e+07\n",
      "[1400]\ttraining's rmse: 3329.03\ttraining's l2: 1.10825e+07\tvalid_1's rmse: 4001.02\tvalid_1's l2: 1.60082e+07\n",
      "[1600]\ttraining's rmse: 3256.72\ttraining's l2: 1.06062e+07\tvalid_1's rmse: 3970.51\tvalid_1's l2: 1.57649e+07\n",
      "[1800]\ttraining's rmse: 3192.13\ttraining's l2: 1.01897e+07\tvalid_1's rmse: 3945\tvalid_1's l2: 1.5563e+07\n",
      "[2000]\ttraining's rmse: 3135.08\ttraining's l2: 9.82875e+06\tvalid_1's rmse: 3924.41\tvalid_1's l2: 1.5401e+07\n",
      "[2200]\ttraining's rmse: 3083.83\ttraining's l2: 9.50999e+06\tvalid_1's rmse: 3909.59\tvalid_1's l2: 1.52849e+07\n",
      "[2400]\ttraining's rmse: 3038.51\ttraining's l2: 9.23256e+06\tvalid_1's rmse: 3896.68\tvalid_1's l2: 1.51841e+07\n",
      "[2600]\ttraining's rmse: 3001.45\ttraining's l2: 9.00871e+06\tvalid_1's rmse: 3885.51\tvalid_1's l2: 1.50972e+07\n",
      "[2800]\ttraining's rmse: 2964.94\ttraining's l2: 8.79087e+06\tvalid_1's rmse: 3875.06\tvalid_1's l2: 1.50161e+07\n",
      "[3000]\ttraining's rmse: 2933.23\ttraining's l2: 8.60381e+06\tvalid_1's rmse: 3866.21\tvalid_1's l2: 1.49476e+07\n",
      "[3200]\ttraining's rmse: 2901.2\ttraining's l2: 8.41696e+06\tvalid_1's rmse: 3859.11\tvalid_1's l2: 1.48927e+07\n",
      "[3400]\ttraining's rmse: 2872.32\ttraining's l2: 8.25021e+06\tvalid_1's rmse: 3852.47\tvalid_1's l2: 1.48415e+07\n",
      "[3600]\ttraining's rmse: 2847.95\ttraining's l2: 8.1108e+06\tvalid_1's rmse: 3849.69\tvalid_1's l2: 1.48201e+07\n",
      "[3800]\ttraining's rmse: 2822.5\ttraining's l2: 7.96651e+06\tvalid_1's rmse: 3846.89\tvalid_1's l2: 1.47986e+07\n",
      "[4000]\ttraining's rmse: 2795.73\ttraining's l2: 7.81613e+06\tvalid_1's rmse: 3842.45\tvalid_1's l2: 1.47644e+07\n",
      "[4200]\ttraining's rmse: 2774.18\ttraining's l2: 7.69608e+06\tvalid_1's rmse: 3837.48\tvalid_1's l2: 1.47262e+07\n",
      "[4400]\ttraining's rmse: 2749.07\ttraining's l2: 7.55739e+06\tvalid_1's rmse: 3831.54\tvalid_1's l2: 1.46807e+07\n",
      "[4600]\ttraining's rmse: 2727.2\ttraining's l2: 7.43761e+06\tvalid_1's rmse: 3828.49\tvalid_1's l2: 1.46573e+07\n",
      "[4800]\ttraining's rmse: 2707.43\ttraining's l2: 7.33016e+06\tvalid_1's rmse: 3825.52\tvalid_1's l2: 1.46346e+07\n",
      "[5000]\ttraining's rmse: 2689.78\ttraining's l2: 7.23493e+06\tvalid_1's rmse: 3822.45\tvalid_1's l2: 1.46111e+07\n",
      "[5200]\ttraining's rmse: 2672.79\ttraining's l2: 7.14381e+06\tvalid_1's rmse: 3821.27\tvalid_1's l2: 1.46021e+07\n",
      "[5400]\ttraining's rmse: 2656.44\ttraining's l2: 7.05667e+06\tvalid_1's rmse: 3818.87\tvalid_1's l2: 1.45838e+07\n",
      "[5600]\ttraining's rmse: 2641.98\ttraining's l2: 6.98004e+06\tvalid_1's rmse: 3816.73\tvalid_1's l2: 1.45675e+07\n",
      "[5800]\ttraining's rmse: 2626.82\ttraining's l2: 6.90018e+06\tvalid_1's rmse: 3816.77\tvalid_1's l2: 1.45677e+07\n",
      "Early stopping, best iteration is:\n",
      "[5642]\ttraining's rmse: 2637.35\ttraining's l2: 6.95561e+06\tvalid_1's rmse: 3816.06\tvalid_1's l2: 1.45623e+07\n",
      "Training until validation scores don't improve for 200 rounds\n",
      "[200]\ttraining's rmse: 5431.01\ttraining's l2: 2.94958e+07\tvalid_1's rmse: 5318.73\tvalid_1's l2: 2.82889e+07\n",
      "[400]\ttraining's rmse: 4297.85\ttraining's l2: 1.84715e+07\tvalid_1's rmse: 4303.21\tvalid_1's l2: 1.85176e+07\n",
      "[600]\ttraining's rmse: 3948.58\ttraining's l2: 1.55913e+07\tvalid_1's rmse: 4043.74\tvalid_1's l2: 1.63519e+07\n",
      "[800]\ttraining's rmse: 3730.48\ttraining's l2: 1.39165e+07\tvalid_1's rmse: 3896\tvalid_1's l2: 1.51789e+07\n",
      "[1000]\ttraining's rmse: 3575.05\ttraining's l2: 1.2781e+07\tvalid_1's rmse: 3800.06\tvalid_1's l2: 1.44404e+07\n",
      "[1200]\ttraining's rmse: 3463\ttraining's l2: 1.19924e+07\tvalid_1's rmse: 3740.03\tvalid_1's l2: 1.39879e+07\n",
      "[1400]\ttraining's rmse: 3373.62\ttraining's l2: 1.13813e+07\tvalid_1's rmse: 3701.09\tvalid_1's l2: 1.36981e+07\n",
      "[1600]\ttraining's rmse: 3299.26\ttraining's l2: 1.08851e+07\tvalid_1's rmse: 3670.85\tvalid_1's l2: 1.34752e+07\n",
      "[1800]\ttraining's rmse: 3235.3\ttraining's l2: 1.04672e+07\tvalid_1's rmse: 3646.21\tvalid_1's l2: 1.32949e+07\n",
      "[2000]\ttraining's rmse: 3181.32\ttraining's l2: 1.01208e+07\tvalid_1's rmse: 3626.8\tvalid_1's l2: 1.31537e+07\n",
      "[2200]\ttraining's rmse: 3133.27\ttraining's l2: 9.81737e+06\tvalid_1's rmse: 3608.67\tvalid_1's l2: 1.30225e+07\n",
      "[2400]\ttraining's rmse: 3089.15\ttraining's l2: 9.54284e+06\tvalid_1's rmse: 3592.12\tvalid_1's l2: 1.29033e+07\n",
      "[2600]\ttraining's rmse: 3046.49\ttraining's l2: 9.28108e+06\tvalid_1's rmse: 3579.54\tvalid_1's l2: 1.28131e+07\n",
      "[2800]\ttraining's rmse: 3006.51\ttraining's l2: 9.03907e+06\tvalid_1's rmse: 3567.77\tvalid_1's l2: 1.2729e+07\n",
      "[3000]\ttraining's rmse: 2973.41\ttraining's l2: 8.84116e+06\tvalid_1's rmse: 3558.07\tvalid_1's l2: 1.26598e+07\n",
      "[3200]\ttraining's rmse: 2942.74\ttraining's l2: 8.6597e+06\tvalid_1's rmse: 3548.62\tvalid_1's l2: 1.25927e+07\n",
      "[3400]\ttraining's rmse: 2915.75\ttraining's l2: 8.50161e+06\tvalid_1's rmse: 3542.37\tvalid_1's l2: 1.25484e+07\n",
      "[3600]\ttraining's rmse: 2896.88\ttraining's l2: 8.3919e+06\tvalid_1's rmse: 3537.46\tvalid_1's l2: 1.25136e+07\n",
      "[3800]\ttraining's rmse: 2874.84\ttraining's l2: 8.26468e+06\tvalid_1's rmse: 3532.86\tvalid_1's l2: 1.24811e+07\n",
      "[4000]\ttraining's rmse: 2854.82\ttraining's l2: 8.14997e+06\tvalid_1's rmse: 3527.64\tvalid_1's l2: 1.24443e+07\n",
      "[4200]\ttraining's rmse: 2829.77\ttraining's l2: 8.00759e+06\tvalid_1's rmse: 3522.21\tvalid_1's l2: 1.24059e+07\n",
      "[4400]\ttraining's rmse: 2808.38\ttraining's l2: 7.887e+06\tvalid_1's rmse: 3516.49\tvalid_1's l2: 1.23657e+07\n",
      "[4600]\ttraining's rmse: 2786.69\ttraining's l2: 7.76562e+06\tvalid_1's rmse: 3509.8\tvalid_1's l2: 1.23187e+07\n",
      "[4800]\ttraining's rmse: 2766.98\ttraining's l2: 7.65618e+06\tvalid_1's rmse: 3504.07\tvalid_1's l2: 1.22785e+07\n",
      "[5000]\ttraining's rmse: 2748.52\ttraining's l2: 7.55437e+06\tvalid_1's rmse: 3501.04\tvalid_1's l2: 1.22573e+07\n",
      "[5200]\ttraining's rmse: 2728.69\ttraining's l2: 7.44577e+06\tvalid_1's rmse: 3496.18\tvalid_1's l2: 1.22233e+07\n",
      "[5400]\ttraining's rmse: 2714.21\ttraining's l2: 7.36692e+06\tvalid_1's rmse: 3492.22\tvalid_1's l2: 1.21956e+07\n",
      "[5600]\ttraining's rmse: 2699.59\ttraining's l2: 7.28778e+06\tvalid_1's rmse: 3489.93\tvalid_1's l2: 1.21796e+07\n",
      "[5800]\ttraining's rmse: 2683.3\ttraining's l2: 7.20011e+06\tvalid_1's rmse: 3486.42\tvalid_1's l2: 1.21551e+07\n",
      "[6000]\ttraining's rmse: 2668.83\ttraining's l2: 7.12265e+06\tvalid_1's rmse: 3484.44\tvalid_1's l2: 1.21413e+07\n",
      "[6200]\ttraining's rmse: 2656.2\ttraining's l2: 7.0554e+06\tvalid_1's rmse: 3482.11\tvalid_1's l2: 1.21251e+07\n",
      "[6400]\ttraining's rmse: 2643.12\ttraining's l2: 6.98606e+06\tvalid_1's rmse: 3479.73\tvalid_1's l2: 1.21085e+07\n",
      "[6600]\ttraining's rmse: 2629.4\ttraining's l2: 6.91376e+06\tvalid_1's rmse: 3477.84\tvalid_1's l2: 1.20954e+07\n",
      "[6800]\ttraining's rmse: 2615.79\ttraining's l2: 6.84234e+06\tvalid_1's rmse: 3475.9\tvalid_1's l2: 1.20819e+07\n",
      "[7000]\ttraining's rmse: 2603.05\ttraining's l2: 6.77588e+06\tvalid_1's rmse: 3473.36\tvalid_1's l2: 1.20643e+07\n",
      "[7200]\ttraining's rmse: 2590.16\ttraining's l2: 6.70893e+06\tvalid_1's rmse: 3471.54\tvalid_1's l2: 1.20516e+07\n",
      "[7400]\ttraining's rmse: 2581.84\ttraining's l2: 6.66591e+06\tvalid_1's rmse: 3470.2\tvalid_1's l2: 1.20423e+07\n",
      "[7600]\ttraining's rmse: 2570.67\ttraining's l2: 6.60837e+06\tvalid_1's rmse: 3468.63\tvalid_1's l2: 1.20314e+07\n",
      "[7800]\ttraining's rmse: 2560.54\ttraining's l2: 6.55636e+06\tvalid_1's rmse: 3466.53\tvalid_1's l2: 1.20168e+07\n",
      "[8000]\ttraining's rmse: 2551.99\ttraining's l2: 6.51264e+06\tvalid_1's rmse: 3465.26\tvalid_1's l2: 1.2008e+07\n",
      "[8200]\ttraining's rmse: 2541.71\ttraining's l2: 6.46031e+06\tvalid_1's rmse: 3463.49\tvalid_1's l2: 1.19957e+07\n",
      "[8400]\ttraining's rmse: 2532.78\ttraining's l2: 6.41496e+06\tvalid_1's rmse: 3462.64\tvalid_1's l2: 1.19899e+07\n",
      "[8600]\ttraining's rmse: 2522.91\ttraining's l2: 6.36505e+06\tvalid_1's rmse: 3460.16\tvalid_1's l2: 1.19727e+07\n",
      "[8800]\ttraining's rmse: 2514.94\ttraining's l2: 6.32493e+06\tvalid_1's rmse: 3458.45\tvalid_1's l2: 1.19608e+07\n",
      "[9000]\ttraining's rmse: 2505.75\ttraining's l2: 6.27879e+06\tvalid_1's rmse: 3456.89\tvalid_1's l2: 1.19501e+07\n"
     ]
    },
    {
     "name": "stdout",
     "output_type": "stream",
     "text": [
      "[9200]\ttraining's rmse: 2496.34\ttraining's l2: 6.23174e+06\tvalid_1's rmse: 3454.87\tvalid_1's l2: 1.19361e+07\n",
      "[9400]\ttraining's rmse: 2487.47\ttraining's l2: 6.18752e+06\tvalid_1's rmse: 3453.18\tvalid_1's l2: 1.19244e+07\n",
      "[9600]\ttraining's rmse: 2482.44\ttraining's l2: 6.16252e+06\tvalid_1's rmse: 3452.25\tvalid_1's l2: 1.1918e+07\n",
      "[9800]\ttraining's rmse: 2473.64\ttraining's l2: 6.11891e+06\tvalid_1's rmse: 3450.62\tvalid_1's l2: 1.19068e+07\n",
      "[10000]\ttraining's rmse: 2466.43\ttraining's l2: 6.08326e+06\tvalid_1's rmse: 3449.45\tvalid_1's l2: 1.18987e+07\n",
      "[10200]\ttraining's rmse: 2458.04\ttraining's l2: 6.04196e+06\tvalid_1's rmse: 3448.33\tvalid_1's l2: 1.1891e+07\n",
      "[10400]\ttraining's rmse: 2448.63\ttraining's l2: 5.9958e+06\tvalid_1's rmse: 3447.35\tvalid_1's l2: 1.18842e+07\n",
      "[10600]\ttraining's rmse: 2441.25\ttraining's l2: 5.95972e+06\tvalid_1's rmse: 3446.59\tvalid_1's l2: 1.1879e+07\n",
      "[10800]\ttraining's rmse: 2434.45\ttraining's l2: 5.92657e+06\tvalid_1's rmse: 3446.18\tvalid_1's l2: 1.18761e+07\n",
      "[11000]\ttraining's rmse: 2427.04\ttraining's l2: 5.89052e+06\tvalid_1's rmse: 3446.03\tvalid_1's l2: 1.18751e+07\n",
      "[11200]\ttraining's rmse: 2418.67\ttraining's l2: 5.84996e+06\tvalid_1's rmse: 3444.61\tvalid_1's l2: 1.18653e+07\n",
      "[11400]\ttraining's rmse: 2410.69\ttraining's l2: 5.81142e+06\tvalid_1's rmse: 3443.74\tvalid_1's l2: 1.18593e+07\n",
      "[11600]\ttraining's rmse: 2402.58\ttraining's l2: 5.77238e+06\tvalid_1's rmse: 3442.62\tvalid_1's l2: 1.18516e+07\n",
      "[11800]\ttraining's rmse: 2395.5\ttraining's l2: 5.73842e+06\tvalid_1's rmse: 3441.71\tvalid_1's l2: 1.18454e+07\n",
      "[12000]\ttraining's rmse: 2389.45\ttraining's l2: 5.70949e+06\tvalid_1's rmse: 3440.59\tvalid_1's l2: 1.18376e+07\n",
      "[12200]\ttraining's rmse: 2379.88\ttraining's l2: 5.66385e+06\tvalid_1's rmse: 3439.2\tvalid_1's l2: 1.18281e+07\n",
      "[12400]\ttraining's rmse: 2373.84\ttraining's l2: 5.63512e+06\tvalid_1's rmse: 3438.54\tvalid_1's l2: 1.18236e+07\n",
      "[12600]\ttraining's rmse: 2368.01\ttraining's l2: 5.60746e+06\tvalid_1's rmse: 3437.93\tvalid_1's l2: 1.18193e+07\n",
      "[12800]\ttraining's rmse: 2364.14\ttraining's l2: 5.58914e+06\tvalid_1's rmse: 3437.61\tvalid_1's l2: 1.18172e+07\n",
      "[13000]\ttraining's rmse: 2358.55\ttraining's l2: 5.56276e+06\tvalid_1's rmse: 3437.2\tvalid_1's l2: 1.18144e+07\n",
      "[13200]\ttraining's rmse: 2354.04\ttraining's l2: 5.54151e+06\tvalid_1's rmse: 3436.9\tvalid_1's l2: 1.18123e+07\n",
      "[13400]\ttraining's rmse: 2349.61\ttraining's l2: 5.52068e+06\tvalid_1's rmse: 3436.98\tvalid_1's l2: 1.18128e+07\n",
      "[13600]\ttraining's rmse: 2341.83\ttraining's l2: 5.48416e+06\tvalid_1's rmse: 3435.98\tvalid_1's l2: 1.1806e+07\n",
      "[13800]\ttraining's rmse: 2337.08\ttraining's l2: 5.46192e+06\tvalid_1's rmse: 3435.7\tvalid_1's l2: 1.1804e+07\n",
      "[14000]\ttraining's rmse: 2331.53\ttraining's l2: 5.43601e+06\tvalid_1's rmse: 3435.24\tvalid_1's l2: 1.18008e+07\n",
      "[14200]\ttraining's rmse: 2324.5\ttraining's l2: 5.40331e+06\tvalid_1's rmse: 3434.65\tvalid_1's l2: 1.17969e+07\n",
      "[14400]\ttraining's rmse: 2320.38\ttraining's l2: 5.38418e+06\tvalid_1's rmse: 3434.1\tvalid_1's l2: 1.1793e+07\n",
      "[14600]\ttraining's rmse: 2315.05\ttraining's l2: 5.35945e+06\tvalid_1's rmse: 3433.75\tvalid_1's l2: 1.17906e+07\n",
      "[14800]\ttraining's rmse: 2310.55\ttraining's l2: 5.33864e+06\tvalid_1's rmse: 3432.92\tvalid_1's l2: 1.1785e+07\n",
      "[15000]\ttraining's rmse: 2304.52\ttraining's l2: 5.31082e+06\tvalid_1's rmse: 3432.19\tvalid_1's l2: 1.17799e+07\n",
      "[15200]\ttraining's rmse: 2300.88\ttraining's l2: 5.29407e+06\tvalid_1's rmse: 3431.6\tvalid_1's l2: 1.17759e+07\n",
      "[15400]\ttraining's rmse: 2297.77\ttraining's l2: 5.27974e+06\tvalid_1's rmse: 3431.19\tvalid_1's l2: 1.17731e+07\n",
      "[15600]\ttraining's rmse: 2290.93\ttraining's l2: 5.24837e+06\tvalid_1's rmse: 3430.36\tvalid_1's l2: 1.17674e+07\n",
      "[15800]\ttraining's rmse: 2287.95\ttraining's l2: 5.23471e+06\tvalid_1's rmse: 3430.2\tvalid_1's l2: 1.17663e+07\n",
      "[16000]\ttraining's rmse: 2283.55\ttraining's l2: 5.21458e+06\tvalid_1's rmse: 3429.68\tvalid_1's l2: 1.17627e+07\n",
      "[16200]\ttraining's rmse: 2278.89\ttraining's l2: 5.19332e+06\tvalid_1's rmse: 3429.59\tvalid_1's l2: 1.17621e+07\n",
      "[16400]\ttraining's rmse: 2274.62\ttraining's l2: 5.1739e+06\tvalid_1's rmse: 3429.17\tvalid_1's l2: 1.17592e+07\n",
      "[16600]\ttraining's rmse: 2271.89\ttraining's l2: 5.1615e+06\tvalid_1's rmse: 3428.97\tvalid_1's l2: 1.17578e+07\n",
      "[16800]\ttraining's rmse: 2269.36\ttraining's l2: 5.14998e+06\tvalid_1's rmse: 3428.75\tvalid_1's l2: 1.17563e+07\n",
      "[17000]\ttraining's rmse: 2263.76\ttraining's l2: 5.12461e+06\tvalid_1's rmse: 3428.2\tvalid_1's l2: 1.17526e+07\n",
      "[17200]\ttraining's rmse: 2260.95\ttraining's l2: 5.1119e+06\tvalid_1's rmse: 3427.94\tvalid_1's l2: 1.17508e+07\n",
      "[17400]\ttraining's rmse: 2257.81\ttraining's l2: 5.09769e+06\tvalid_1's rmse: 3427.66\tvalid_1's l2: 1.17489e+07\n",
      "[17600]\ttraining's rmse: 2254.7\ttraining's l2: 5.08365e+06\tvalid_1's rmse: 3427.19\tvalid_1's l2: 1.17457e+07\n",
      "[17800]\ttraining's rmse: 2251.31\ttraining's l2: 5.06841e+06\tvalid_1's rmse: 3427.06\tvalid_1's l2: 1.17447e+07\n",
      "[18000]\ttraining's rmse: 2245.41\ttraining's l2: 5.04188e+06\tvalid_1's rmse: 3426.95\tvalid_1's l2: 1.1744e+07\n",
      "[18200]\ttraining's rmse: 2243.15\ttraining's l2: 5.03171e+06\tvalid_1's rmse: 3426.58\tvalid_1's l2: 1.17415e+07\n",
      "[18400]\ttraining's rmse: 2238.87\ttraining's l2: 5.01253e+06\tvalid_1's rmse: 3426.18\tvalid_1's l2: 1.17387e+07\n",
      "[18600]\ttraining's rmse: 2233.34\ttraining's l2: 4.9878e+06\tvalid_1's rmse: 3425.86\tvalid_1's l2: 1.17365e+07\n",
      "Early stopping, best iteration is:\n",
      "[18556]\ttraining's rmse: 2234.57\ttraining's l2: 4.99331e+06\tvalid_1's rmse: 3425.83\tvalid_1's l2: 1.17363e+07\n",
      "Training until validation scores don't improve for 200 rounds\n",
      "[200]\ttraining's rmse: 5409.53\ttraining's l2: 2.92631e+07\tvalid_1's rmse: 5361.34\tvalid_1's l2: 2.8744e+07\n",
      "[400]\ttraining's rmse: 4287.16\ttraining's l2: 1.83797e+07\tvalid_1's rmse: 4378.92\tvalid_1's l2: 1.91749e+07\n",
      "[600]\ttraining's rmse: 3941.26\ttraining's l2: 1.55336e+07\tvalid_1's rmse: 4105.42\tvalid_1's l2: 1.68544e+07\n",
      "[800]\ttraining's rmse: 3731.8\ttraining's l2: 1.39263e+07\tvalid_1's rmse: 3959.56\tvalid_1's l2: 1.56781e+07\n",
      "[1000]\ttraining's rmse: 3582.74\ttraining's l2: 1.2836e+07\tvalid_1's rmse: 3867.77\tvalid_1's l2: 1.49597e+07\n",
      "[1200]\ttraining's rmse: 3470.04\ttraining's l2: 1.20412e+07\tvalid_1's rmse: 3801.33\tvalid_1's l2: 1.44501e+07\n",
      "[1400]\ttraining's rmse: 3376.39\ttraining's l2: 1.14e+07\tvalid_1's rmse: 3755.05\tvalid_1's l2: 1.41004e+07\n",
      "[1600]\ttraining's rmse: 3304.07\ttraining's l2: 1.09169e+07\tvalid_1's rmse: 3723.07\tvalid_1's l2: 1.38612e+07\n",
      "[1800]\ttraining's rmse: 3243.81\ttraining's l2: 1.05223e+07\tvalid_1's rmse: 3697.57\tvalid_1's l2: 1.36721e+07\n",
      "[2000]\ttraining's rmse: 3187.92\ttraining's l2: 1.01628e+07\tvalid_1's rmse: 3677.89\tvalid_1's l2: 1.35269e+07\n",
      "[2200]\ttraining's rmse: 3139.91\ttraining's l2: 9.85901e+06\tvalid_1's rmse: 3660.37\tvalid_1's l2: 1.33983e+07\n",
      "[2400]\ttraining's rmse: 3094.47\ttraining's l2: 9.57576e+06\tvalid_1's rmse: 3645.88\tvalid_1's l2: 1.32925e+07\n",
      "[2600]\ttraining's rmse: 3052.54\ttraining's l2: 9.31803e+06\tvalid_1's rmse: 3630.39\tvalid_1's l2: 1.31797e+07\n",
      "[2800]\ttraining's rmse: 3014.91\ttraining's l2: 9.0897e+06\tvalid_1's rmse: 3618.15\tvalid_1's l2: 1.3091e+07\n",
      "[3000]\ttraining's rmse: 2980.69\ttraining's l2: 8.88449e+06\tvalid_1's rmse: 3606.7\tvalid_1's l2: 1.30083e+07\n",
      "[3200]\ttraining's rmse: 2948.68\ttraining's l2: 8.6947e+06\tvalid_1's rmse: 3596.62\tvalid_1's l2: 1.29356e+07\n",
      "[3400]\ttraining's rmse: 2920.53\ttraining's l2: 8.52948e+06\tvalid_1's rmse: 3587.59\tvalid_1's l2: 1.28708e+07\n",
      "[3600]\ttraining's rmse: 2894.01\ttraining's l2: 8.37529e+06\tvalid_1's rmse: 3580.04\tvalid_1's l2: 1.28167e+07\n",
      "[3800]\ttraining's rmse: 2868.07\ttraining's l2: 8.22583e+06\tvalid_1's rmse: 3573.97\tvalid_1's l2: 1.27733e+07\n",
      "[4000]\ttraining's rmse: 2843.7\ttraining's l2: 8.08664e+06\tvalid_1's rmse: 3567.38\tvalid_1's l2: 1.27262e+07\n",
      "[4200]\ttraining's rmse: 2822.87\ttraining's l2: 7.96857e+06\tvalid_1's rmse: 3562.47\tvalid_1's l2: 1.26912e+07\n",
      "[4400]\ttraining's rmse: 2801.21\ttraining's l2: 7.84675e+06\tvalid_1's rmse: 3557.51\tvalid_1's l2: 1.26559e+07\n",
      "[4600]\ttraining's rmse: 2784.21\ttraining's l2: 7.75181e+06\tvalid_1's rmse: 3552.46\tvalid_1's l2: 1.262e+07\n",
      "[4800]\ttraining's rmse: 2767.52\ttraining's l2: 7.65918e+06\tvalid_1's rmse: 3548.84\tvalid_1's l2: 1.25943e+07\n",
      "[5000]\ttraining's rmse: 2750.54\ttraining's l2: 7.56547e+06\tvalid_1's rmse: 3545.15\tvalid_1's l2: 1.25681e+07\n",
      "[5200]\ttraining's rmse: 2734.88\ttraining's l2: 7.47958e+06\tvalid_1's rmse: 3541.92\tvalid_1's l2: 1.25452e+07\n"
     ]
    },
    {
     "name": "stdout",
     "output_type": "stream",
     "text": [
      "[5400]\ttraining's rmse: 2717.19\ttraining's l2: 7.38312e+06\tvalid_1's rmse: 3538.33\tvalid_1's l2: 1.25198e+07\n",
      "[5600]\ttraining's rmse: 2700.75\ttraining's l2: 7.29406e+06\tvalid_1's rmse: 3534.21\tvalid_1's l2: 1.24907e+07\n",
      "[5800]\ttraining's rmse: 2687.23\ttraining's l2: 7.22123e+06\tvalid_1's rmse: 3530.54\tvalid_1's l2: 1.24647e+07\n",
      "[6000]\ttraining's rmse: 2674.24\ttraining's l2: 7.15156e+06\tvalid_1's rmse: 3528.31\tvalid_1's l2: 1.24489e+07\n",
      "[6200]\ttraining's rmse: 2665.24\ttraining's l2: 7.1035e+06\tvalid_1's rmse: 3524.78\tvalid_1's l2: 1.24241e+07\n",
      "[6400]\ttraining's rmse: 2656.31\ttraining's l2: 7.05597e+06\tvalid_1's rmse: 3522.33\tvalid_1's l2: 1.24068e+07\n",
      "[6600]\ttraining's rmse: 2642.59\ttraining's l2: 6.98326e+06\tvalid_1's rmse: 3520.73\tvalid_1's l2: 1.23955e+07\n",
      "[6800]\ttraining's rmse: 2630.65\ttraining's l2: 6.92034e+06\tvalid_1's rmse: 3519.03\tvalid_1's l2: 1.23836e+07\n",
      "[7000]\ttraining's rmse: 2616.39\ttraining's l2: 6.84552e+06\tvalid_1's rmse: 3516.62\tvalid_1's l2: 1.23666e+07\n",
      "[7200]\ttraining's rmse: 2603.28\ttraining's l2: 6.77708e+06\tvalid_1's rmse: 3514.12\tvalid_1's l2: 1.2349e+07\n",
      "[7400]\ttraining's rmse: 2592.54\ttraining's l2: 6.72125e+06\tvalid_1's rmse: 3511.85\tvalid_1's l2: 1.23331e+07\n",
      "[7600]\ttraining's rmse: 2580.53\ttraining's l2: 6.65913e+06\tvalid_1's rmse: 3510.24\tvalid_1's l2: 1.23218e+07\n",
      "[7800]\ttraining's rmse: 2569.53\ttraining's l2: 6.60249e+06\tvalid_1's rmse: 3508.67\tvalid_1's l2: 1.23108e+07\n",
      "[8000]\ttraining's rmse: 2557.83\ttraining's l2: 6.54247e+06\tvalid_1's rmse: 3508.45\tvalid_1's l2: 1.23092e+07\n",
      "[8200]\ttraining's rmse: 2548.66\ttraining's l2: 6.49564e+06\tvalid_1's rmse: 3507.53\tvalid_1's l2: 1.23028e+07\n",
      "[8400]\ttraining's rmse: 2541.66\ttraining's l2: 6.46002e+06\tvalid_1's rmse: 3506.4\tvalid_1's l2: 1.22948e+07\n",
      "[8600]\ttraining's rmse: 2534.12\ttraining's l2: 6.42174e+06\tvalid_1's rmse: 3504.67\tvalid_1's l2: 1.22827e+07\n",
      "[8800]\ttraining's rmse: 2523.35\ttraining's l2: 6.36729e+06\tvalid_1's rmse: 3502.95\tvalid_1's l2: 1.22706e+07\n",
      "[9000]\ttraining's rmse: 2513.52\ttraining's l2: 6.31781e+06\tvalid_1's rmse: 3501.95\tvalid_1's l2: 1.22637e+07\n",
      "[9200]\ttraining's rmse: 2506.21\ttraining's l2: 6.28107e+06\tvalid_1's rmse: 3501.05\tvalid_1's l2: 1.22573e+07\n",
      "[9400]\ttraining's rmse: 2495.73\ttraining's l2: 6.22869e+06\tvalid_1's rmse: 3499.65\tvalid_1's l2: 1.22475e+07\n",
      "[9600]\ttraining's rmse: 2487.22\ttraining's l2: 6.18626e+06\tvalid_1's rmse: 3499.39\tvalid_1's l2: 1.22457e+07\n",
      "[9800]\ttraining's rmse: 2478.92\ttraining's l2: 6.14506e+06\tvalid_1's rmse: 3498.12\tvalid_1's l2: 1.22368e+07\n",
      "[10000]\ttraining's rmse: 2471.78\ttraining's l2: 6.10972e+06\tvalid_1's rmse: 3496.99\tvalid_1's l2: 1.22289e+07\n",
      "[10200]\ttraining's rmse: 2465.78\ttraining's l2: 6.08007e+06\tvalid_1's rmse: 3496.73\tvalid_1's l2: 1.22271e+07\n",
      "[10400]\ttraining's rmse: 2456.93\ttraining's l2: 6.0365e+06\tvalid_1's rmse: 3495.48\tvalid_1's l2: 1.22184e+07\n",
      "[10600]\ttraining's rmse: 2449.1\ttraining's l2: 5.99811e+06\tvalid_1's rmse: 3494.4\tvalid_1's l2: 1.22108e+07\n",
      "[10800]\ttraining's rmse: 2439.84\ttraining's l2: 5.95282e+06\tvalid_1's rmse: 3493.53\tvalid_1's l2: 1.22048e+07\n",
      "[11000]\ttraining's rmse: 2431.45\ttraining's l2: 5.91194e+06\tvalid_1's rmse: 3493.12\tvalid_1's l2: 1.22019e+07\n",
      "[11200]\ttraining's rmse: 2426.88\ttraining's l2: 5.88973e+06\tvalid_1's rmse: 3492.6\tvalid_1's l2: 1.21983e+07\n",
      "[11400]\ttraining's rmse: 2417.62\ttraining's l2: 5.84488e+06\tvalid_1's rmse: 3492.38\tvalid_1's l2: 1.21967e+07\n",
      "Early stopping, best iteration is:\n",
      "[11238]\ttraining's rmse: 2425.49\ttraining's l2: 5.88299e+06\tvalid_1's rmse: 3492.13\tvalid_1's l2: 1.2195e+07\n",
      "Training until validation scores don't improve for 200 rounds\n",
      "[200]\ttraining's rmse: 5303.87\ttraining's l2: 2.81311e+07\tvalid_1's rmse: 6646.98\tvalid_1's l2: 4.41824e+07\n",
      "[400]\ttraining's rmse: 4184.49\ttraining's l2: 1.751e+07\tvalid_1's rmse: 5569.51\tvalid_1's l2: 3.10194e+07\n",
      "[600]\ttraining's rmse: 3843.32\ttraining's l2: 1.47711e+07\tvalid_1's rmse: 5281.29\tvalid_1's l2: 2.78921e+07\n",
      "[800]\ttraining's rmse: 3626.98\ttraining's l2: 1.3155e+07\tvalid_1's rmse: 5091.99\tvalid_1's l2: 2.59283e+07\n",
      "[1000]\ttraining's rmse: 3490.34\ttraining's l2: 1.21824e+07\tvalid_1's rmse: 4992.33\tvalid_1's l2: 2.49234e+07\n",
      "[1200]\ttraining's rmse: 3383.51\ttraining's l2: 1.14482e+07\tvalid_1's rmse: 4931.73\tvalid_1's l2: 2.43219e+07\n",
      "[1400]\ttraining's rmse: 3300.58\ttraining's l2: 1.08938e+07\tvalid_1's rmse: 4887.69\tvalid_1's l2: 2.38895e+07\n",
      "[1600]\ttraining's rmse: 3234.13\ttraining's l2: 1.04596e+07\tvalid_1's rmse: 4856.79\tvalid_1's l2: 2.35884e+07\n",
      "[1800]\ttraining's rmse: 3171.31\ttraining's l2: 1.00572e+07\tvalid_1's rmse: 4833.47\tvalid_1's l2: 2.33624e+07\n",
      "[2000]\ttraining's rmse: 3118.45\ttraining's l2: 9.72471e+06\tvalid_1's rmse: 4814.73\tvalid_1's l2: 2.31816e+07\n",
      "[2200]\ttraining's rmse: 3073.25\ttraining's l2: 9.44489e+06\tvalid_1's rmse: 4799.52\tvalid_1's l2: 2.30354e+07\n",
      "[2400]\ttraining's rmse: 3033.14\ttraining's l2: 9.19996e+06\tvalid_1's rmse: 4785.38\tvalid_1's l2: 2.28999e+07\n",
      "[2600]\ttraining's rmse: 2993.04\ttraining's l2: 8.95829e+06\tvalid_1's rmse: 4774.26\tvalid_1's l2: 2.27935e+07\n",
      "[2800]\ttraining's rmse: 2958.32\ttraining's l2: 8.75167e+06\tvalid_1's rmse: 4762.86\tvalid_1's l2: 2.26849e+07\n",
      "[3000]\ttraining's rmse: 2926.55\ttraining's l2: 8.56468e+06\tvalid_1's rmse: 4754.42\tvalid_1's l2: 2.26045e+07\n",
      "[3200]\ttraining's rmse: 2895.18\ttraining's l2: 8.38209e+06\tvalid_1's rmse: 4744.3\tvalid_1's l2: 2.25084e+07\n",
      "[3400]\ttraining's rmse: 2868.88\ttraining's l2: 8.23048e+06\tvalid_1's rmse: 4736.57\tvalid_1's l2: 2.24351e+07\n",
      "[3600]\ttraining's rmse: 2847.2\ttraining's l2: 8.10653e+06\tvalid_1's rmse: 4730.14\tvalid_1's l2: 2.23743e+07\n",
      "[3800]\ttraining's rmse: 2819.93\ttraining's l2: 7.95202e+06\tvalid_1's rmse: 4722.63\tvalid_1's l2: 2.23032e+07\n",
      "[4000]\ttraining's rmse: 2794.67\ttraining's l2: 7.81021e+06\tvalid_1's rmse: 4718.23\tvalid_1's l2: 2.22617e+07\n",
      "[4200]\ttraining's rmse: 2777.37\ttraining's l2: 7.7138e+06\tvalid_1's rmse: 4713.14\tvalid_1's l2: 2.22137e+07\n",
      "[4400]\ttraining's rmse: 2761.5\ttraining's l2: 7.62591e+06\tvalid_1's rmse: 4710.3\tvalid_1's l2: 2.21869e+07\n",
      "[4600]\ttraining's rmse: 2741.9\ttraining's l2: 7.51799e+06\tvalid_1's rmse: 4705.68\tvalid_1's l2: 2.21435e+07\n",
      "[4800]\ttraining's rmse: 2724.28\ttraining's l2: 7.42168e+06\tvalid_1's rmse: 4702.15\tvalid_1's l2: 2.21102e+07\n",
      "[5000]\ttraining's rmse: 2704.69\ttraining's l2: 7.31535e+06\tvalid_1's rmse: 4699.23\tvalid_1's l2: 2.20828e+07\n",
      "[5200]\ttraining's rmse: 2688.48\ttraining's l2: 7.22792e+06\tvalid_1's rmse: 4695.93\tvalid_1's l2: 2.20518e+07\n",
      "[5400]\ttraining's rmse: 2672.26\ttraining's l2: 7.14096e+06\tvalid_1's rmse: 4691.41\tvalid_1's l2: 2.20094e+07\n",
      "[5600]\ttraining's rmse: 2658.54\ttraining's l2: 7.06784e+06\tvalid_1's rmse: 4688.9\tvalid_1's l2: 2.19858e+07\n",
      "[5800]\ttraining's rmse: 2643.7\ttraining's l2: 6.98915e+06\tvalid_1's rmse: 4686.72\tvalid_1's l2: 2.19654e+07\n",
      "[6000]\ttraining's rmse: 2628.39\ttraining's l2: 6.90843e+06\tvalid_1's rmse: 4683.98\tvalid_1's l2: 2.19397e+07\n",
      "[6200]\ttraining's rmse: 2615.54\ttraining's l2: 6.84102e+06\tvalid_1's rmse: 4682.13\tvalid_1's l2: 2.19224e+07\n",
      "[6400]\ttraining's rmse: 2603.81\ttraining's l2: 6.77981e+06\tvalid_1's rmse: 4680.66\tvalid_1's l2: 2.19085e+07\n",
      "[6600]\ttraining's rmse: 2589.62\ttraining's l2: 6.70613e+06\tvalid_1's rmse: 4678.83\tvalid_1's l2: 2.18915e+07\n",
      "[6800]\ttraining's rmse: 2577.32\ttraining's l2: 6.64256e+06\tvalid_1's rmse: 4677.06\tvalid_1's l2: 2.18749e+07\n",
      "[7000]\ttraining's rmse: 2565.39\ttraining's l2: 6.58122e+06\tvalid_1's rmse: 4675.87\tvalid_1's l2: 2.18638e+07\n",
      "[7200]\ttraining's rmse: 2554.8\ttraining's l2: 6.527e+06\tvalid_1's rmse: 4674.72\tvalid_1's l2: 2.18531e+07\n",
      "[7400]\ttraining's rmse: 2543.16\ttraining's l2: 6.46768e+06\tvalid_1's rmse: 4673.43\tvalid_1's l2: 2.1841e+07\n",
      "[7600]\ttraining's rmse: 2530.5\ttraining's l2: 6.40343e+06\tvalid_1's rmse: 4671.78\tvalid_1's l2: 2.18255e+07\n",
      "[7800]\ttraining's rmse: 2520.47\ttraining's l2: 6.35276e+06\tvalid_1's rmse: 4671.02\tvalid_1's l2: 2.18184e+07\n",
      "[8000]\ttraining's rmse: 2511.99\ttraining's l2: 6.31007e+06\tvalid_1's rmse: 4669.62\tvalid_1's l2: 2.18053e+07\n",
      "[8200]\ttraining's rmse: 2500.74\ttraining's l2: 6.2537e+06\tvalid_1's rmse: 4667.47\tvalid_1's l2: 2.17852e+07\n",
      "[8400]\ttraining's rmse: 2490.99\ttraining's l2: 6.20504e+06\tvalid_1's rmse: 4665.96\tvalid_1's l2: 2.17712e+07\n",
      "[8600]\ttraining's rmse: 2483.85\ttraining's l2: 6.16949e+06\tvalid_1's rmse: 4665.2\tvalid_1's l2: 2.17641e+07\n"
     ]
    },
    {
     "name": "stdout",
     "output_type": "stream",
     "text": [
      "[8800]\ttraining's rmse: 2473.4\ttraining's l2: 6.11768e+06\tvalid_1's rmse: 4663.38\tvalid_1's l2: 2.17471e+07\n",
      "[9000]\ttraining's rmse: 2465.76\ttraining's l2: 6.07997e+06\tvalid_1's rmse: 4662.3\tvalid_1's l2: 2.17371e+07\n",
      "[9200]\ttraining's rmse: 2457.43\ttraining's l2: 6.03896e+06\tvalid_1's rmse: 4661.39\tvalid_1's l2: 2.17285e+07\n",
      "[9400]\ttraining's rmse: 2448.28\ttraining's l2: 5.99407e+06\tvalid_1's rmse: 4662.15\tvalid_1's l2: 2.17357e+07\n",
      "Early stopping, best iteration is:\n",
      "[9225]\ttraining's rmse: 2455.84\ttraining's l2: 6.03117e+06\tvalid_1's rmse: 4661.21\tvalid_1's l2: 2.17269e+07\n",
      "Training until validation scores don't improve for 200 rounds\n",
      "[200]\ttraining's rmse: 5429.01\ttraining's l2: 2.94742e+07\tvalid_1's rmse: 5258.69\tvalid_1's l2: 2.76538e+07\n",
      "[400]\ttraining's rmse: 4294.33\ttraining's l2: 1.84413e+07\tvalid_1's rmse: 4277.72\tvalid_1's l2: 1.82989e+07\n",
      "[600]\ttraining's rmse: 3940.36\ttraining's l2: 1.55264e+07\tvalid_1's rmse: 4013.95\tvalid_1's l2: 1.61118e+07\n",
      "[800]\ttraining's rmse: 3723.61\ttraining's l2: 1.38653e+07\tvalid_1's rmse: 3864.7\tvalid_1's l2: 1.49359e+07\n",
      "[1000]\ttraining's rmse: 3577.47\ttraining's l2: 1.27983e+07\tvalid_1's rmse: 3773.57\tvalid_1's l2: 1.42398e+07\n",
      "[1200]\ttraining's rmse: 3464.82\ttraining's l2: 1.2005e+07\tvalid_1's rmse: 3710.08\tvalid_1's l2: 1.37647e+07\n",
      "[1400]\ttraining's rmse: 3374.44\ttraining's l2: 1.13868e+07\tvalid_1's rmse: 3664.69\tvalid_1's l2: 1.34299e+07\n",
      "[1600]\ttraining's rmse: 3299.8\ttraining's l2: 1.08887e+07\tvalid_1's rmse: 3634.19\tvalid_1's l2: 1.32074e+07\n",
      "[1800]\ttraining's rmse: 3240.4\ttraining's l2: 1.05002e+07\tvalid_1's rmse: 3610.46\tvalid_1's l2: 1.30354e+07\n",
      "[2000]\ttraining's rmse: 3186.39\ttraining's l2: 1.01531e+07\tvalid_1's rmse: 3592.69\tvalid_1's l2: 1.29074e+07\n",
      "[2200]\ttraining's rmse: 3137.89\ttraining's l2: 9.84638e+06\tvalid_1's rmse: 3577.32\tvalid_1's l2: 1.27973e+07\n",
      "[2400]\ttraining's rmse: 3098.33\ttraining's l2: 9.59963e+06\tvalid_1's rmse: 3563.5\tvalid_1's l2: 1.26985e+07\n",
      "[2600]\ttraining's rmse: 3061.58\ttraining's l2: 9.37327e+06\tvalid_1's rmse: 3552.27\tvalid_1's l2: 1.26186e+07\n",
      "[2800]\ttraining's rmse: 3025.09\ttraining's l2: 9.15117e+06\tvalid_1's rmse: 3541.57\tvalid_1's l2: 1.25427e+07\n",
      "[3000]\ttraining's rmse: 2991.31\ttraining's l2: 8.94794e+06\tvalid_1's rmse: 3530.83\tvalid_1's l2: 1.24667e+07\n",
      "[3200]\ttraining's rmse: 2961\ttraining's l2: 8.76752e+06\tvalid_1's rmse: 3522.67\tvalid_1's l2: 1.24092e+07\n",
      "[3400]\ttraining's rmse: 2931.7\ttraining's l2: 8.59488e+06\tvalid_1's rmse: 3514.5\tvalid_1's l2: 1.23517e+07\n",
      "[3600]\ttraining's rmse: 2905.27\ttraining's l2: 8.44057e+06\tvalid_1's rmse: 3506.96\tvalid_1's l2: 1.22988e+07\n",
      "[3800]\ttraining's rmse: 2883.05\ttraining's l2: 8.31198e+06\tvalid_1's rmse: 3500.34\tvalid_1's l2: 1.22524e+07\n",
      "[4000]\ttraining's rmse: 2854.97\ttraining's l2: 8.15083e+06\tvalid_1's rmse: 3493.47\tvalid_1's l2: 1.22043e+07\n",
      "[4200]\ttraining's rmse: 2829.16\ttraining's l2: 8.00417e+06\tvalid_1's rmse: 3489.21\tvalid_1's l2: 1.21746e+07\n",
      "[4400]\ttraining's rmse: 2805.54\ttraining's l2: 7.87104e+06\tvalid_1's rmse: 3483.88\tvalid_1's l2: 1.21374e+07\n",
      "[4600]\ttraining's rmse: 2782.82\ttraining's l2: 7.74408e+06\tvalid_1's rmse: 3478.92\tvalid_1's l2: 1.21029e+07\n",
      "[4800]\ttraining's rmse: 2761.96\ttraining's l2: 7.62841e+06\tvalid_1's rmse: 3473.74\tvalid_1's l2: 1.20669e+07\n",
      "[5000]\ttraining's rmse: 2743.38\ttraining's l2: 7.52611e+06\tvalid_1's rmse: 3469.33\tvalid_1's l2: 1.20363e+07\n",
      "[5200]\ttraining's rmse: 2724.45\ttraining's l2: 7.42265e+06\tvalid_1's rmse: 3465.63\tvalid_1's l2: 1.20106e+07\n",
      "[5400]\ttraining's rmse: 2710.17\ttraining's l2: 7.34505e+06\tvalid_1's rmse: 3462.7\tvalid_1's l2: 1.19903e+07\n",
      "[5600]\ttraining's rmse: 2695.76\ttraining's l2: 7.26712e+06\tvalid_1's rmse: 3460.11\tvalid_1's l2: 1.19724e+07\n",
      "[5800]\ttraining's rmse: 2683.01\ttraining's l2: 7.19854e+06\tvalid_1's rmse: 3457.89\tvalid_1's l2: 1.1957e+07\n",
      "[6000]\ttraining's rmse: 2667.07\ttraining's l2: 7.11325e+06\tvalid_1's rmse: 3455.98\tvalid_1's l2: 1.19438e+07\n",
      "[6200]\ttraining's rmse: 2654.72\ttraining's l2: 7.04754e+06\tvalid_1's rmse: 3453.77\tvalid_1's l2: 1.19285e+07\n",
      "[6400]\ttraining's rmse: 2642.68\ttraining's l2: 6.98378e+06\tvalid_1's rmse: 3450.93\tvalid_1's l2: 1.19089e+07\n",
      "[6600]\ttraining's rmse: 2634.14\ttraining's l2: 6.93872e+06\tvalid_1's rmse: 3449.36\tvalid_1's l2: 1.18981e+07\n",
      "[6800]\ttraining's rmse: 2623.17\ttraining's l2: 6.881e+06\tvalid_1's rmse: 3447.37\tvalid_1's l2: 1.18844e+07\n",
      "[7000]\ttraining's rmse: 2610.22\ttraining's l2: 6.81322e+06\tvalid_1's rmse: 3445.3\tvalid_1's l2: 1.18701e+07\n",
      "[7200]\ttraining's rmse: 2599.85\ttraining's l2: 6.75924e+06\tvalid_1's rmse: 3443.91\tvalid_1's l2: 1.18605e+07\n",
      "[7400]\ttraining's rmse: 2589.44\ttraining's l2: 6.70518e+06\tvalid_1's rmse: 3442.78\tvalid_1's l2: 1.18527e+07\n",
      "[7600]\ttraining's rmse: 2580.44\ttraining's l2: 6.65866e+06\tvalid_1's rmse: 3441.29\tvalid_1's l2: 1.18425e+07\n",
      "[7800]\ttraining's rmse: 2566.9\ttraining's l2: 6.58897e+06\tvalid_1's rmse: 3440.54\tvalid_1's l2: 1.18373e+07\n",
      "[8000]\ttraining's rmse: 2557.11\ttraining's l2: 6.53879e+06\tvalid_1's rmse: 3439.73\tvalid_1's l2: 1.18318e+07\n",
      "[8200]\ttraining's rmse: 2549.72\ttraining's l2: 6.50109e+06\tvalid_1's rmse: 3438.16\tvalid_1's l2: 1.1821e+07\n",
      "[8400]\ttraining's rmse: 2538.19\ttraining's l2: 6.4424e+06\tvalid_1's rmse: 3436.61\tvalid_1's l2: 1.18103e+07\n",
      "[8600]\ttraining's rmse: 2531.44\ttraining's l2: 6.40817e+06\tvalid_1's rmse: 3436.2\tvalid_1's l2: 1.18075e+07\n",
      "[8800]\ttraining's rmse: 2521.31\ttraining's l2: 6.35699e+06\tvalid_1's rmse: 3435.5\tvalid_1's l2: 1.18027e+07\n",
      "[9000]\ttraining's rmse: 2510.5\ttraining's l2: 6.30259e+06\tvalid_1's rmse: 3434.32\tvalid_1's l2: 1.17945e+07\n",
      "[9200]\ttraining's rmse: 2504.44\ttraining's l2: 6.27224e+06\tvalid_1's rmse: 3433.64\tvalid_1's l2: 1.17899e+07\n",
      "[9400]\ttraining's rmse: 2493.64\ttraining's l2: 6.21825e+06\tvalid_1's rmse: 3432.57\tvalid_1's l2: 1.17825e+07\n",
      "[9600]\ttraining's rmse: 2485.77\ttraining's l2: 6.17904e+06\tvalid_1's rmse: 3431.93\tvalid_1's l2: 1.17781e+07\n",
      "[9800]\ttraining's rmse: 2479.26\ttraining's l2: 6.14673e+06\tvalid_1's rmse: 3431.29\tvalid_1's l2: 1.17738e+07\n",
      "[10000]\ttraining's rmse: 2470.96\ttraining's l2: 6.10563e+06\tvalid_1's rmse: 3430.62\tvalid_1's l2: 1.17691e+07\n",
      "[10200]\ttraining's rmse: 2463.67\ttraining's l2: 6.06968e+06\tvalid_1's rmse: 3430.4\tvalid_1's l2: 1.17676e+07\n",
      "[10400]\ttraining's rmse: 2456.87\ttraining's l2: 6.03623e+06\tvalid_1's rmse: 3430.03\tvalid_1's l2: 1.17651e+07\n",
      "[10600]\ttraining's rmse: 2451.7\ttraining's l2: 6.01084e+06\tvalid_1's rmse: 3429.81\tvalid_1's l2: 1.17636e+07\n",
      "[10800]\ttraining's rmse: 2445.93\ttraining's l2: 5.98256e+06\tvalid_1's rmse: 3429.22\tvalid_1's l2: 1.17595e+07\n",
      "[11000]\ttraining's rmse: 2439.2\ttraining's l2: 5.94972e+06\tvalid_1's rmse: 3428.69\tvalid_1's l2: 1.17559e+07\n",
      "[11200]\ttraining's rmse: 2433.37\ttraining's l2: 5.92129e+06\tvalid_1's rmse: 3428.29\tvalid_1's l2: 1.17532e+07\n",
      "[11400]\ttraining's rmse: 2426.62\ttraining's l2: 5.8885e+06\tvalid_1's rmse: 3428.01\tvalid_1's l2: 1.17512e+07\n",
      "[11600]\ttraining's rmse: 2420.71\ttraining's l2: 5.85982e+06\tvalid_1's rmse: 3427.93\tvalid_1's l2: 1.17507e+07\n",
      "[11800]\ttraining's rmse: 2412.78\ttraining's l2: 5.82151e+06\tvalid_1's rmse: 3427.4\tvalid_1's l2: 1.1747e+07\n",
      "[12000]\ttraining's rmse: 2407.24\ttraining's l2: 5.7948e+06\tvalid_1's rmse: 3427.16\tvalid_1's l2: 1.17454e+07\n",
      "Early stopping, best iteration is:\n",
      "[11962]\ttraining's rmse: 2408.98\ttraining's l2: 5.80319e+06\tvalid_1's rmse: 3427.04\tvalid_1's l2: 1.17446e+07\n"
     ]
    }
   ],
   "source": [
    "models_bo={}\n",
    "for fold in range(5):\n",
    "    lgbm_model = LGBMRegressor(\n",
    "    boosting_type='gbdt',\n",
    "    num_leaves=int(round(BO_lgb.max['params']['num_leaves'])),\n",
    "    max_depth=-1,\n",
    "    learning_rate=BO_lgb.max['params']['learning_rate'],\n",
    "    n_estimators=20000,\n",
    "    objective='regression',\n",
    "    subsample=BO_lgb.max['params']['bagging_fraction'],\n",
    "    colsample_bytree=BO_lgb.max['params']['feature_fraction'],\n",
    "    reg_alpha=BO_lgb.max['params']['lambda_l1'],\n",
    "    reg_lambda=BO_lgb.max['params']['lambda_l2'],\n",
    "    random_state=42,\n",
    "    n_jobs=-1,\n",
    "#         max_bin=2*9\n",
    ")\n",
    "    \n",
    "    # 데이터 분리 설정\n",
    "    train_idx = folds[fold][0]\n",
    "    valid_idx = folds[fold][1]\n",
    "    X_train, y_train = X_data.iloc[train_idx], y_data[train_idx]\n",
    "    X_valid, y_valid = X_data.iloc[valid_idx], y_data[valid_idx]\n",
    "\n",
    "    \n",
    "    lgbm_model.fit(X_train, y_train, eval_set=[(X_train, y_train), (X_valid, y_valid)], \n",
    "                   eval_metric='rmse', verbose=200,\n",
    "                  early_stopping_rounds=200)\n",
    "    \n",
    "    # 모델 저장\n",
    "    models_bo[fold] = lgbm_model\n"
   ]
  },
  {
   "cell_type": "markdown",
   "metadata": {},
   "source": [
    "### bayesian optimization으로 validation의 성능이 향상된 것을 볼 수 있다."
   ]
  },
  {
   "cell_type": "code",
   "execution_count": 312,
   "metadata": {
    "ExecuteTime": {
     "end_time": "2020-11-23T11:41:05.228728Z",
     "start_time": "2020-11-23T11:29:48.745837Z"
    },
    "scrolled": true
   },
   "outputs": [
    {
     "name": "stdout",
     "output_type": "stream",
     "text": [
      "3828.85 ----> 3816.06\n",
      "3513.72 ----> 3425.83\n",
      "3541.85 ----> 3492.13\n",
      "4667.79 ----> 4661.21\n",
      "3497.92 ----> 3427.04\n"
     ]
    }
   ],
   "source": [
    "for fold in range(5):\n",
    "    valid_idx = folds[fold][1]\n",
    "    X_valid, y_valid = X_data.iloc[valid_idx], y_data[valid_idx]\n",
    "    pred_tmp = models[fold].predict(X_valid)\n",
    "    rmse_tmp1 = np.sqrt(((y_valid-pred_tmp)**2).mean())\n",
    "    \n",
    "    pred_tmp = models_bo[fold].predict(X_valid)\n",
    "    rmse_tmp2 = np.sqrt(((y_valid-pred_tmp)**2).mean())\n",
    "    \n",
    "    \n",
    "    print('{:.2f} ----> {:.2f}'.format(rmse_tmp1, rmse_tmp2))"
   ]
  },
  {
   "cell_type": "code",
   "execution_count": 314,
   "metadata": {
    "ExecuteTime": {
     "end_time": "2020-11-23T12:07:43.954676Z",
     "start_time": "2020-11-23T12:07:31.973159Z"
    }
   },
   "outputs": [],
   "source": [
    "# kfold model-stacking ensemble(bayesian optimization)\n",
    "preds_bo=0\n",
    "for fold in range(5):\n",
    "    preds_bo += models_bo[fold].predict(test.drop(['day_care_baby_num_mean', 'park_area', 'teacher_num','transaction_year'], axis=1))/5"
   ]
  },
  {
   "cell_type": "code",
   "execution_count": null,
   "metadata": {},
   "outputs": [],
   "source": [
    "submit['transaction_real_price'] = preds\n",
    "submit.to_csv('ensemble-model-bo.csv', index=False)"
   ]
  }
 ],
 "metadata": {
  "hide_input": false,
  "kernelspec": {
   "display_name": "Python 3",
   "language": "python",
   "name": "python3"
  },
  "language_info": {
   "codemirror_mode": {
    "name": "ipython",
    "version": 3
   },
   "file_extension": ".py",
   "mimetype": "text/x-python",
   "name": "python",
   "nbconvert_exporter": "python",
   "pygments_lexer": "ipython3",
   "version": "3.8.3"
  },
  "toc": {
   "base_numbering": 1,
   "nav_menu": {},
   "number_sections": true,
   "sideBar": true,
   "skip_h1_title": false,
   "title_cell": "Table of Contents",
   "title_sidebar": "Contents",
   "toc_cell": false,
   "toc_position": {},
   "toc_section_display": true,
   "toc_window_display": false
  }
 },
 "nbformat": 4,
 "nbformat_minor": 2
}
