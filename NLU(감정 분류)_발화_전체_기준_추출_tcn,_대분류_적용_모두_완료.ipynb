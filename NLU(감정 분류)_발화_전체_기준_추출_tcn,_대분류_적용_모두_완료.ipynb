{
  "nbformat": 4,
  "nbformat_minor": 0,
  "metadata": {
    "kernelspec": {
      "display_name": "Python 3",
      "language": "python",
      "name": "python3"
    },
    "language_info": {
      "codemirror_mode": {
        "name": "ipython",
        "version": 3
      },
      "file_extension": ".py",
      "mimetype": "text/x-python",
      "name": "python",
      "nbconvert_exporter": "python",
      "pygments_lexer": "ipython3",
      "version": "3.8.3"
    },
    "colab": {
      "name": "2차 해커톤 예습2-발화 전체 기준 추출-tcn, 대분류 적용 모두 완료.ipynb",
      "provenance": [],
      "include_colab_link": true
    },
    "widgets": {
      "application/vnd.jupyter.widget-state+json": {
        "8a159a272065432593676bc73cb6a541": {
          "model_module": "@jupyter-widgets/controls",
          "model_name": "HBoxModel",
          "state": {
            "_view_name": "HBoxView",
            "_dom_classes": [],
            "_model_name": "HBoxModel",
            "_view_module": "@jupyter-widgets/controls",
            "_model_module_version": "1.5.0",
            "_view_count": null,
            "_view_module_version": "1.5.0",
            "box_style": "",
            "layout": "IPY_MODEL_d06d244cc22248c2966305cc1acb71b8",
            "_model_module": "@jupyter-widgets/controls",
            "children": [
              "IPY_MODEL_1a0bd4c0f2ce4f2ca090dfc2d92a458f",
              "IPY_MODEL_42fb2de19d1d4062a205328084c0282f"
            ]
          }
        },
        "d06d244cc22248c2966305cc1acb71b8": {
          "model_module": "@jupyter-widgets/base",
          "model_name": "LayoutModel",
          "state": {
            "_view_name": "LayoutView",
            "grid_template_rows": null,
            "right": null,
            "justify_content": null,
            "_view_module": "@jupyter-widgets/base",
            "overflow": null,
            "_model_module_version": "1.2.0",
            "_view_count": null,
            "flex_flow": null,
            "width": null,
            "min_width": null,
            "border": null,
            "align_items": null,
            "bottom": null,
            "_model_module": "@jupyter-widgets/base",
            "top": null,
            "grid_column": null,
            "overflow_y": null,
            "overflow_x": null,
            "grid_auto_flow": null,
            "grid_area": null,
            "grid_template_columns": null,
            "flex": null,
            "_model_name": "LayoutModel",
            "justify_items": null,
            "grid_row": null,
            "max_height": null,
            "align_content": null,
            "visibility": null,
            "align_self": null,
            "height": null,
            "min_height": null,
            "padding": null,
            "grid_auto_rows": null,
            "grid_gap": null,
            "max_width": null,
            "order": null,
            "_view_module_version": "1.2.0",
            "grid_template_areas": null,
            "object_position": null,
            "object_fit": null,
            "grid_auto_columns": null,
            "margin": null,
            "display": null,
            "left": null
          }
        },
        "1a0bd4c0f2ce4f2ca090dfc2d92a458f": {
          "model_module": "@jupyter-widgets/controls",
          "model_name": "FloatProgressModel",
          "state": {
            "_view_name": "ProgressView",
            "style": "IPY_MODEL_4f2e25656aa444e0b37bdfb564706522",
            "_dom_classes": [],
            "description": "Downloading: 100%",
            "_model_name": "FloatProgressModel",
            "bar_style": "success",
            "max": 426,
            "_view_module": "@jupyter-widgets/controls",
            "_model_module_version": "1.5.0",
            "value": 426,
            "_view_count": null,
            "_view_module_version": "1.5.0",
            "orientation": "horizontal",
            "min": 0,
            "description_tooltip": null,
            "_model_module": "@jupyter-widgets/controls",
            "layout": "IPY_MODEL_2c7cf02f74f3459581ff839d7a8f8793"
          }
        },
        "42fb2de19d1d4062a205328084c0282f": {
          "model_module": "@jupyter-widgets/controls",
          "model_name": "HTMLModel",
          "state": {
            "_view_name": "HTMLView",
            "style": "IPY_MODEL_d60090453f9f45e3a62aec4b77bf1410",
            "_dom_classes": [],
            "description": "",
            "_model_name": "HTMLModel",
            "placeholder": "​",
            "_view_module": "@jupyter-widgets/controls",
            "_model_module_version": "1.5.0",
            "value": " 426/426 [00:00&lt;00:00, 1.36kB/s]",
            "_view_count": null,
            "_view_module_version": "1.5.0",
            "description_tooltip": null,
            "_model_module": "@jupyter-widgets/controls",
            "layout": "IPY_MODEL_221dbdf60b1f45cf900412af7cba3023"
          }
        },
        "4f2e25656aa444e0b37bdfb564706522": {
          "model_module": "@jupyter-widgets/controls",
          "model_name": "ProgressStyleModel",
          "state": {
            "_view_name": "StyleView",
            "_model_name": "ProgressStyleModel",
            "description_width": "initial",
            "_view_module": "@jupyter-widgets/base",
            "_model_module_version": "1.5.0",
            "_view_count": null,
            "_view_module_version": "1.2.0",
            "bar_color": null,
            "_model_module": "@jupyter-widgets/controls"
          }
        },
        "2c7cf02f74f3459581ff839d7a8f8793": {
          "model_module": "@jupyter-widgets/base",
          "model_name": "LayoutModel",
          "state": {
            "_view_name": "LayoutView",
            "grid_template_rows": null,
            "right": null,
            "justify_content": null,
            "_view_module": "@jupyter-widgets/base",
            "overflow": null,
            "_model_module_version": "1.2.0",
            "_view_count": null,
            "flex_flow": null,
            "width": null,
            "min_width": null,
            "border": null,
            "align_items": null,
            "bottom": null,
            "_model_module": "@jupyter-widgets/base",
            "top": null,
            "grid_column": null,
            "overflow_y": null,
            "overflow_x": null,
            "grid_auto_flow": null,
            "grid_area": null,
            "grid_template_columns": null,
            "flex": null,
            "_model_name": "LayoutModel",
            "justify_items": null,
            "grid_row": null,
            "max_height": null,
            "align_content": null,
            "visibility": null,
            "align_self": null,
            "height": null,
            "min_height": null,
            "padding": null,
            "grid_auto_rows": null,
            "grid_gap": null,
            "max_width": null,
            "order": null,
            "_view_module_version": "1.2.0",
            "grid_template_areas": null,
            "object_position": null,
            "object_fit": null,
            "grid_auto_columns": null,
            "margin": null,
            "display": null,
            "left": null
          }
        },
        "d60090453f9f45e3a62aec4b77bf1410": {
          "model_module": "@jupyter-widgets/controls",
          "model_name": "DescriptionStyleModel",
          "state": {
            "_view_name": "StyleView",
            "_model_name": "DescriptionStyleModel",
            "description_width": "",
            "_view_module": "@jupyter-widgets/base",
            "_model_module_version": "1.5.0",
            "_view_count": null,
            "_view_module_version": "1.2.0",
            "_model_module": "@jupyter-widgets/controls"
          }
        },
        "221dbdf60b1f45cf900412af7cba3023": {
          "model_module": "@jupyter-widgets/base",
          "model_name": "LayoutModel",
          "state": {
            "_view_name": "LayoutView",
            "grid_template_rows": null,
            "right": null,
            "justify_content": null,
            "_view_module": "@jupyter-widgets/base",
            "overflow": null,
            "_model_module_version": "1.2.0",
            "_view_count": null,
            "flex_flow": null,
            "width": null,
            "min_width": null,
            "border": null,
            "align_items": null,
            "bottom": null,
            "_model_module": "@jupyter-widgets/base",
            "top": null,
            "grid_column": null,
            "overflow_y": null,
            "overflow_x": null,
            "grid_auto_flow": null,
            "grid_area": null,
            "grid_template_columns": null,
            "flex": null,
            "_model_name": "LayoutModel",
            "justify_items": null,
            "grid_row": null,
            "max_height": null,
            "align_content": null,
            "visibility": null,
            "align_self": null,
            "height": null,
            "min_height": null,
            "padding": null,
            "grid_auto_rows": null,
            "grid_gap": null,
            "max_width": null,
            "order": null,
            "_view_module_version": "1.2.0",
            "grid_template_areas": null,
            "object_position": null,
            "object_fit": null,
            "grid_auto_columns": null,
            "margin": null,
            "display": null,
            "left": null
          }
        },
        "1c96574ded5c4325a61cf4a16119748e": {
          "model_module": "@jupyter-widgets/controls",
          "model_name": "HBoxModel",
          "state": {
            "_view_name": "HBoxView",
            "_dom_classes": [],
            "_model_name": "HBoxModel",
            "_view_module": "@jupyter-widgets/controls",
            "_model_module_version": "1.5.0",
            "_view_count": null,
            "_view_module_version": "1.5.0",
            "box_style": "",
            "layout": "IPY_MODEL_60caac61efc14e1a99343135673e095a",
            "_model_module": "@jupyter-widgets/controls",
            "children": [
              "IPY_MODEL_9b59bba562a24cc196ab420a088a8c3a",
              "IPY_MODEL_13b811c89d574911955109fe94086063"
            ]
          }
        },
        "60caac61efc14e1a99343135673e095a": {
          "model_module": "@jupyter-widgets/base",
          "model_name": "LayoutModel",
          "state": {
            "_view_name": "LayoutView",
            "grid_template_rows": null,
            "right": null,
            "justify_content": null,
            "_view_module": "@jupyter-widgets/base",
            "overflow": null,
            "_model_module_version": "1.2.0",
            "_view_count": null,
            "flex_flow": null,
            "width": null,
            "min_width": null,
            "border": null,
            "align_items": null,
            "bottom": null,
            "_model_module": "@jupyter-widgets/base",
            "top": null,
            "grid_column": null,
            "overflow_y": null,
            "overflow_x": null,
            "grid_auto_flow": null,
            "grid_area": null,
            "grid_template_columns": null,
            "flex": null,
            "_model_name": "LayoutModel",
            "justify_items": null,
            "grid_row": null,
            "max_height": null,
            "align_content": null,
            "visibility": null,
            "align_self": null,
            "height": null,
            "min_height": null,
            "padding": null,
            "grid_auto_rows": null,
            "grid_gap": null,
            "max_width": null,
            "order": null,
            "_view_module_version": "1.2.0",
            "grid_template_areas": null,
            "object_position": null,
            "object_fit": null,
            "grid_auto_columns": null,
            "margin": null,
            "display": null,
            "left": null
          }
        },
        "9b59bba562a24cc196ab420a088a8c3a": {
          "model_module": "@jupyter-widgets/controls",
          "model_name": "FloatProgressModel",
          "state": {
            "_view_name": "ProgressView",
            "style": "IPY_MODEL_a18cfe04f1a04527a3e1f208278e15d3",
            "_dom_classes": [],
            "description": "Downloading: 100%",
            "_model_name": "FloatProgressModel",
            "bar_style": "success",
            "max": 368792146,
            "_view_module": "@jupyter-widgets/controls",
            "_model_module_version": "1.5.0",
            "value": 368792146,
            "_view_count": null,
            "_view_module_version": "1.5.0",
            "orientation": "horizontal",
            "min": 0,
            "description_tooltip": null,
            "_model_module": "@jupyter-widgets/controls",
            "layout": "IPY_MODEL_988743a209a64d6fb3d33f56097a7a31"
          }
        },
        "13b811c89d574911955109fe94086063": {
          "model_module": "@jupyter-widgets/controls",
          "model_name": "HTMLModel",
          "state": {
            "_view_name": "HTMLView",
            "style": "IPY_MODEL_dc3b483dfc5944e68b6a13397c6bf6cc",
            "_dom_classes": [],
            "description": "",
            "_model_name": "HTMLModel",
            "placeholder": "​",
            "_view_module": "@jupyter-widgets/controls",
            "_model_module_version": "1.5.0",
            "value": " 369M/369M [00:07&lt;00:00, 51.5MB/s]",
            "_view_count": null,
            "_view_module_version": "1.5.0",
            "description_tooltip": null,
            "_model_module": "@jupyter-widgets/controls",
            "layout": "IPY_MODEL_0df1d445dcab4a4eb25be373c8b3c844"
          }
        },
        "a18cfe04f1a04527a3e1f208278e15d3": {
          "model_module": "@jupyter-widgets/controls",
          "model_name": "ProgressStyleModel",
          "state": {
            "_view_name": "StyleView",
            "_model_name": "ProgressStyleModel",
            "description_width": "initial",
            "_view_module": "@jupyter-widgets/base",
            "_model_module_version": "1.5.0",
            "_view_count": null,
            "_view_module_version": "1.2.0",
            "bar_color": null,
            "_model_module": "@jupyter-widgets/controls"
          }
        },
        "988743a209a64d6fb3d33f56097a7a31": {
          "model_module": "@jupyter-widgets/base",
          "model_name": "LayoutModel",
          "state": {
            "_view_name": "LayoutView",
            "grid_template_rows": null,
            "right": null,
            "justify_content": null,
            "_view_module": "@jupyter-widgets/base",
            "overflow": null,
            "_model_module_version": "1.2.0",
            "_view_count": null,
            "flex_flow": null,
            "width": null,
            "min_width": null,
            "border": null,
            "align_items": null,
            "bottom": null,
            "_model_module": "@jupyter-widgets/base",
            "top": null,
            "grid_column": null,
            "overflow_y": null,
            "overflow_x": null,
            "grid_auto_flow": null,
            "grid_area": null,
            "grid_template_columns": null,
            "flex": null,
            "_model_name": "LayoutModel",
            "justify_items": null,
            "grid_row": null,
            "max_height": null,
            "align_content": null,
            "visibility": null,
            "align_self": null,
            "height": null,
            "min_height": null,
            "padding": null,
            "grid_auto_rows": null,
            "grid_gap": null,
            "max_width": null,
            "order": null,
            "_view_module_version": "1.2.0",
            "grid_template_areas": null,
            "object_position": null,
            "object_fit": null,
            "grid_auto_columns": null,
            "margin": null,
            "display": null,
            "left": null
          }
        },
        "dc3b483dfc5944e68b6a13397c6bf6cc": {
          "model_module": "@jupyter-widgets/controls",
          "model_name": "DescriptionStyleModel",
          "state": {
            "_view_name": "StyleView",
            "_model_name": "DescriptionStyleModel",
            "description_width": "",
            "_view_module": "@jupyter-widgets/base",
            "_model_module_version": "1.5.0",
            "_view_count": null,
            "_view_module_version": "1.2.0",
            "_model_module": "@jupyter-widgets/controls"
          }
        },
        "0df1d445dcab4a4eb25be373c8b3c844": {
          "model_module": "@jupyter-widgets/base",
          "model_name": "LayoutModel",
          "state": {
            "_view_name": "LayoutView",
            "grid_template_rows": null,
            "right": null,
            "justify_content": null,
            "_view_module": "@jupyter-widgets/base",
            "overflow": null,
            "_model_module_version": "1.2.0",
            "_view_count": null,
            "flex_flow": null,
            "width": null,
            "min_width": null,
            "border": null,
            "align_items": null,
            "bottom": null,
            "_model_module": "@jupyter-widgets/base",
            "top": null,
            "grid_column": null,
            "overflow_y": null,
            "overflow_x": null,
            "grid_auto_flow": null,
            "grid_area": null,
            "grid_template_columns": null,
            "flex": null,
            "_model_name": "LayoutModel",
            "justify_items": null,
            "grid_row": null,
            "max_height": null,
            "align_content": null,
            "visibility": null,
            "align_self": null,
            "height": null,
            "min_height": null,
            "padding": null,
            "grid_auto_rows": null,
            "grid_gap": null,
            "max_width": null,
            "order": null,
            "_view_module_version": "1.2.0",
            "grid_template_areas": null,
            "object_position": null,
            "object_fit": null,
            "grid_auto_columns": null,
            "margin": null,
            "display": null,
            "left": null
          }
        },
        "f788c6436bbe42c09b1c2bf84c48a53c": {
          "model_module": "@jupyter-widgets/controls",
          "model_name": "HBoxModel",
          "state": {
            "_view_name": "HBoxView",
            "_dom_classes": [],
            "_model_name": "HBoxModel",
            "_view_module": "@jupyter-widgets/controls",
            "_model_module_version": "1.5.0",
            "_view_count": null,
            "_view_module_version": "1.5.0",
            "box_style": "",
            "layout": "IPY_MODEL_aa5f2b1f777845ca9595bab747f652a4",
            "_model_module": "@jupyter-widgets/controls",
            "children": [
              "IPY_MODEL_5a8cb5524ce6410d80d0ae55cf48a70e",
              "IPY_MODEL_418a7a122e3f4ba4a6d41d7940204802"
            ]
          }
        },
        "aa5f2b1f777845ca9595bab747f652a4": {
          "model_module": "@jupyter-widgets/base",
          "model_name": "LayoutModel",
          "state": {
            "_view_name": "LayoutView",
            "grid_template_rows": null,
            "right": null,
            "justify_content": null,
            "_view_module": "@jupyter-widgets/base",
            "overflow": null,
            "_model_module_version": "1.2.0",
            "_view_count": null,
            "flex_flow": null,
            "width": null,
            "min_width": null,
            "border": null,
            "align_items": null,
            "bottom": null,
            "_model_module": "@jupyter-widgets/base",
            "top": null,
            "grid_column": null,
            "overflow_y": null,
            "overflow_x": null,
            "grid_auto_flow": null,
            "grid_area": null,
            "grid_template_columns": null,
            "flex": null,
            "_model_name": "LayoutModel",
            "justify_items": null,
            "grid_row": null,
            "max_height": null,
            "align_content": null,
            "visibility": null,
            "align_self": null,
            "height": null,
            "min_height": null,
            "padding": null,
            "grid_auto_rows": null,
            "grid_gap": null,
            "max_width": null,
            "order": null,
            "_view_module_version": "1.2.0",
            "grid_template_areas": null,
            "object_position": null,
            "object_fit": null,
            "grid_auto_columns": null,
            "margin": null,
            "display": null,
            "left": null
          }
        },
        "5a8cb5524ce6410d80d0ae55cf48a70e": {
          "model_module": "@jupyter-widgets/controls",
          "model_name": "FloatProgressModel",
          "state": {
            "_view_name": "ProgressView",
            "style": "IPY_MODEL_f119bdd490be422da609d24d4f7e6e3c",
            "_dom_classes": [],
            "description": "Downloading: 100%",
            "_model_name": "FloatProgressModel",
            "bar_style": "success",
            "max": 441,
            "_view_module": "@jupyter-widgets/controls",
            "_model_module_version": "1.5.0",
            "value": 441,
            "_view_count": null,
            "_view_module_version": "1.5.0",
            "orientation": "horizontal",
            "min": 0,
            "description_tooltip": null,
            "_model_module": "@jupyter-widgets/controls",
            "layout": "IPY_MODEL_07bdbdc3ec5041f486310a082dcdfb83"
          }
        },
        "418a7a122e3f4ba4a6d41d7940204802": {
          "model_module": "@jupyter-widgets/controls",
          "model_name": "HTMLModel",
          "state": {
            "_view_name": "HTMLView",
            "style": "IPY_MODEL_bf0731dcf06f404f8d573317a38c1bbb",
            "_dom_classes": [],
            "description": "",
            "_model_name": "HTMLModel",
            "placeholder": "​",
            "_view_module": "@jupyter-widgets/controls",
            "_model_module_version": "1.5.0",
            "value": " 441/441 [00:02&lt;00:00, 165B/s]",
            "_view_count": null,
            "_view_module_version": "1.5.0",
            "description_tooltip": null,
            "_model_module": "@jupyter-widgets/controls",
            "layout": "IPY_MODEL_ff3b6392d2ff48a89f35df641d375131"
          }
        },
        "f119bdd490be422da609d24d4f7e6e3c": {
          "model_module": "@jupyter-widgets/controls",
          "model_name": "ProgressStyleModel",
          "state": {
            "_view_name": "StyleView",
            "_model_name": "ProgressStyleModel",
            "description_width": "initial",
            "_view_module": "@jupyter-widgets/base",
            "_model_module_version": "1.5.0",
            "_view_count": null,
            "_view_module_version": "1.2.0",
            "bar_color": null,
            "_model_module": "@jupyter-widgets/controls"
          }
        },
        "07bdbdc3ec5041f486310a082dcdfb83": {
          "model_module": "@jupyter-widgets/base",
          "model_name": "LayoutModel",
          "state": {
            "_view_name": "LayoutView",
            "grid_template_rows": null,
            "right": null,
            "justify_content": null,
            "_view_module": "@jupyter-widgets/base",
            "overflow": null,
            "_model_module_version": "1.2.0",
            "_view_count": null,
            "flex_flow": null,
            "width": null,
            "min_width": null,
            "border": null,
            "align_items": null,
            "bottom": null,
            "_model_module": "@jupyter-widgets/base",
            "top": null,
            "grid_column": null,
            "overflow_y": null,
            "overflow_x": null,
            "grid_auto_flow": null,
            "grid_area": null,
            "grid_template_columns": null,
            "flex": null,
            "_model_name": "LayoutModel",
            "justify_items": null,
            "grid_row": null,
            "max_height": null,
            "align_content": null,
            "visibility": null,
            "align_self": null,
            "height": null,
            "min_height": null,
            "padding": null,
            "grid_auto_rows": null,
            "grid_gap": null,
            "max_width": null,
            "order": null,
            "_view_module_version": "1.2.0",
            "grid_template_areas": null,
            "object_position": null,
            "object_fit": null,
            "grid_auto_columns": null,
            "margin": null,
            "display": null,
            "left": null
          }
        },
        "bf0731dcf06f404f8d573317a38c1bbb": {
          "model_module": "@jupyter-widgets/controls",
          "model_name": "DescriptionStyleModel",
          "state": {
            "_view_name": "StyleView",
            "_model_name": "DescriptionStyleModel",
            "description_width": "",
            "_view_module": "@jupyter-widgets/base",
            "_model_module_version": "1.5.0",
            "_view_count": null,
            "_view_module_version": "1.2.0",
            "_model_module": "@jupyter-widgets/controls"
          }
        },
        "ff3b6392d2ff48a89f35df641d375131": {
          "model_module": "@jupyter-widgets/base",
          "model_name": "LayoutModel",
          "state": {
            "_view_name": "LayoutView",
            "grid_template_rows": null,
            "right": null,
            "justify_content": null,
            "_view_module": "@jupyter-widgets/base",
            "overflow": null,
            "_model_module_version": "1.2.0",
            "_view_count": null,
            "flex_flow": null,
            "width": null,
            "min_width": null,
            "border": null,
            "align_items": null,
            "bottom": null,
            "_model_module": "@jupyter-widgets/base",
            "top": null,
            "grid_column": null,
            "overflow_y": null,
            "overflow_x": null,
            "grid_auto_flow": null,
            "grid_area": null,
            "grid_template_columns": null,
            "flex": null,
            "_model_name": "LayoutModel",
            "justify_items": null,
            "grid_row": null,
            "max_height": null,
            "align_content": null,
            "visibility": null,
            "align_self": null,
            "height": null,
            "min_height": null,
            "padding": null,
            "grid_auto_rows": null,
            "grid_gap": null,
            "max_width": null,
            "order": null,
            "_view_module_version": "1.2.0",
            "grid_template_areas": null,
            "object_position": null,
            "object_fit": null,
            "grid_auto_columns": null,
            "margin": null,
            "display": null,
            "left": null
          }
        },
        "1ebc0f968c0f41049205f5a9be954d01": {
          "model_module": "@jupyter-widgets/controls",
          "model_name": "HBoxModel",
          "state": {
            "_view_name": "HBoxView",
            "_dom_classes": [],
            "_model_name": "HBoxModel",
            "_view_module": "@jupyter-widgets/controls",
            "_model_module_version": "1.5.0",
            "_view_count": null,
            "_view_module_version": "1.5.0",
            "box_style": "",
            "layout": "IPY_MODEL_d158519dd1c044f5977aba28dc925649",
            "_model_module": "@jupyter-widgets/controls",
            "children": [
              "IPY_MODEL_543bd0e4192640a893f3a2f5db642f1e",
              "IPY_MODEL_df431f54fd0a4ef4b5aa0a1e9061ee65"
            ]
          }
        },
        "d158519dd1c044f5977aba28dc925649": {
          "model_module": "@jupyter-widgets/base",
          "model_name": "LayoutModel",
          "state": {
            "_view_name": "LayoutView",
            "grid_template_rows": null,
            "right": null,
            "justify_content": null,
            "_view_module": "@jupyter-widgets/base",
            "overflow": null,
            "_model_module_version": "1.2.0",
            "_view_count": null,
            "flex_flow": null,
            "width": null,
            "min_width": null,
            "border": null,
            "align_items": null,
            "bottom": null,
            "_model_module": "@jupyter-widgets/base",
            "top": null,
            "grid_column": null,
            "overflow_y": null,
            "overflow_x": null,
            "grid_auto_flow": null,
            "grid_area": null,
            "grid_template_columns": null,
            "flex": null,
            "_model_name": "LayoutModel",
            "justify_items": null,
            "grid_row": null,
            "max_height": null,
            "align_content": null,
            "visibility": null,
            "align_self": null,
            "height": null,
            "min_height": null,
            "padding": null,
            "grid_auto_rows": null,
            "grid_gap": null,
            "max_width": null,
            "order": null,
            "_view_module_version": "1.2.0",
            "grid_template_areas": null,
            "object_position": null,
            "object_fit": null,
            "grid_auto_columns": null,
            "margin": null,
            "display": null,
            "left": null
          }
        },
        "543bd0e4192640a893f3a2f5db642f1e": {
          "model_module": "@jupyter-widgets/controls",
          "model_name": "FloatProgressModel",
          "state": {
            "_view_name": "ProgressView",
            "style": "IPY_MODEL_152d533aa40e43bfb0cc6817c08e4a1d",
            "_dom_classes": [],
            "description": "Downloading: 100%",
            "_model_name": "FloatProgressModel",
            "bar_style": "success",
            "max": 113629967,
            "_view_module": "@jupyter-widgets/controls",
            "_model_module_version": "1.5.0",
            "value": 113629967,
            "_view_count": null,
            "_view_module_version": "1.5.0",
            "orientation": "horizontal",
            "min": 0,
            "description_tooltip": null,
            "_model_module": "@jupyter-widgets/controls",
            "layout": "IPY_MODEL_43bc4e9f6eb94bfdbac469a9b598d70f"
          }
        },
        "df431f54fd0a4ef4b5aa0a1e9061ee65": {
          "model_module": "@jupyter-widgets/controls",
          "model_name": "HTMLModel",
          "state": {
            "_view_name": "HTMLView",
            "style": "IPY_MODEL_381548efe49f415b80bc483d4fe365da",
            "_dom_classes": [],
            "description": "",
            "_model_name": "HTMLModel",
            "placeholder": "​",
            "_view_module": "@jupyter-widgets/controls",
            "_model_module_version": "1.5.0",
            "value": " 114M/114M [00:02&lt;00:00, 49.3MB/s]",
            "_view_count": null,
            "_view_module_version": "1.5.0",
            "description_tooltip": null,
            "_model_module": "@jupyter-widgets/controls",
            "layout": "IPY_MODEL_b23a0db44d9d4e3598f81d779dc8cfa3"
          }
        },
        "152d533aa40e43bfb0cc6817c08e4a1d": {
          "model_module": "@jupyter-widgets/controls",
          "model_name": "ProgressStyleModel",
          "state": {
            "_view_name": "StyleView",
            "_model_name": "ProgressStyleModel",
            "description_width": "initial",
            "_view_module": "@jupyter-widgets/base",
            "_model_module_version": "1.5.0",
            "_view_count": null,
            "_view_module_version": "1.2.0",
            "bar_color": null,
            "_model_module": "@jupyter-widgets/controls"
          }
        },
        "43bc4e9f6eb94bfdbac469a9b598d70f": {
          "model_module": "@jupyter-widgets/base",
          "model_name": "LayoutModel",
          "state": {
            "_view_name": "LayoutView",
            "grid_template_rows": null,
            "right": null,
            "justify_content": null,
            "_view_module": "@jupyter-widgets/base",
            "overflow": null,
            "_model_module_version": "1.2.0",
            "_view_count": null,
            "flex_flow": null,
            "width": null,
            "min_width": null,
            "border": null,
            "align_items": null,
            "bottom": null,
            "_model_module": "@jupyter-widgets/base",
            "top": null,
            "grid_column": null,
            "overflow_y": null,
            "overflow_x": null,
            "grid_auto_flow": null,
            "grid_area": null,
            "grid_template_columns": null,
            "flex": null,
            "_model_name": "LayoutModel",
            "justify_items": null,
            "grid_row": null,
            "max_height": null,
            "align_content": null,
            "visibility": null,
            "align_self": null,
            "height": null,
            "min_height": null,
            "padding": null,
            "grid_auto_rows": null,
            "grid_gap": null,
            "max_width": null,
            "order": null,
            "_view_module_version": "1.2.0",
            "grid_template_areas": null,
            "object_position": null,
            "object_fit": null,
            "grid_auto_columns": null,
            "margin": null,
            "display": null,
            "left": null
          }
        },
        "381548efe49f415b80bc483d4fe365da": {
          "model_module": "@jupyter-widgets/controls",
          "model_name": "DescriptionStyleModel",
          "state": {
            "_view_name": "StyleView",
            "_model_name": "DescriptionStyleModel",
            "description_width": "",
            "_view_module": "@jupyter-widgets/base",
            "_model_module_version": "1.5.0",
            "_view_count": null,
            "_view_module_version": "1.2.0",
            "_model_module": "@jupyter-widgets/controls"
          }
        },
        "b23a0db44d9d4e3598f81d779dc8cfa3": {
          "model_module": "@jupyter-widgets/base",
          "model_name": "LayoutModel",
          "state": {
            "_view_name": "LayoutView",
            "grid_template_rows": null,
            "right": null,
            "justify_content": null,
            "_view_module": "@jupyter-widgets/base",
            "overflow": null,
            "_model_module_version": "1.2.0",
            "_view_count": null,
            "flex_flow": null,
            "width": null,
            "min_width": null,
            "border": null,
            "align_items": null,
            "bottom": null,
            "_model_module": "@jupyter-widgets/base",
            "top": null,
            "grid_column": null,
            "overflow_y": null,
            "overflow_x": null,
            "grid_auto_flow": null,
            "grid_area": null,
            "grid_template_columns": null,
            "flex": null,
            "_model_name": "LayoutModel",
            "justify_items": null,
            "grid_row": null,
            "max_height": null,
            "align_content": null,
            "visibility": null,
            "align_self": null,
            "height": null,
            "min_height": null,
            "padding": null,
            "grid_auto_rows": null,
            "grid_gap": null,
            "max_width": null,
            "order": null,
            "_view_module_version": "1.2.0",
            "grid_template_areas": null,
            "object_position": null,
            "object_fit": null,
            "grid_auto_columns": null,
            "margin": null,
            "display": null,
            "left": null
          }
        }
      }
    }
  },
  "cells": [
    {
      "cell_type": "markdown",
      "metadata": {
        "id": "view-in-github",
        "colab_type": "text"
      },
      "source": [
        "<a href=\"https://colab.research.google.com/github/sallyy1/Data-Analysis/blob/master/NLU(%EA%B0%90%EC%A0%95%20%EB%B6%84%EB%A5%98)_%E1%84%87%E1%85%A1%E1%86%AF%E1%84%92%E1%85%AA_%E1%84%8C%E1%85%A5%E1%86%AB%E1%84%8E%E1%85%A6_%E1%84%80%E1%85%B5%E1%84%8C%E1%85%AE%E1%86%AB_%E1%84%8E%E1%85%AE%E1%84%8E%E1%85%AE%E1%86%AF_tcn%2C_%E1%84%83%E1%85%A2%E1%84%87%E1%85%AE%E1%86%AB%E1%84%85%E1%85%B2_%E1%84%8C%E1%85%A5%E1%86%A8%E1%84%8B%E1%85%AD%E1%86%BC_%E1%84%86%E1%85%A9%E1%84%83%E1%85%AE_%E1%84%8B%E1%85%AA%E1%86%AB%E1%84%85%E1%85%AD.ipynb\" target=\"_parent\"><img src=\"https://colab.research.google.com/assets/colab-badge.svg\" alt=\"Open In Colab\"/></a>"
      ]
    },
    {
      "cell_type": "markdown",
      "metadata": {
        "id": "z8hMQ-Cn1ddS"
      },
      "source": [
        "# 임포트"
      ]
    },
    {
      "cell_type": "code",
      "metadata": {
        "id": "sQbHpya01ddp"
      },
      "source": [
        "import json # json 파일 불러오기 관련\n",
        "import tensorflow as tf\n",
        "import numpy as np\n",
        "import urllib\n",
        "\n",
        "from tensorflow.keras.preprocessing.text import Tokenizer # 전처리 관련\n",
        "from tensorflow.keras.preprocessing.sequence import pad_sequences # 전처리 관련\n",
        "from tensorflow.keras.layers import Embedding, LSTM, Dense, Bidirectional, Flatten, Conv1D, MaxPooling1D, Dropout, Activation\n",
        "from tensorflow.keras.models import Sequential\n",
        "from tensorflow.keras.callbacks import ModelCheckpoint\n",
        "\n",
        "from keras import optimizers, losses\n",
        "from keras.optimizers import Adam"
      ],
      "execution_count": 1,
      "outputs": []
    },
    {
      "cell_type": "markdown",
      "metadata": {
        "id": "RipVKpLw1ddq"
      },
      "source": [
        "- 데이콘 1위 추가 임포트"
      ]
    },
    {
      "cell_type": "code",
      "metadata": {
        "id": "ytBXVc5N1ddr"
      },
      "source": [
        "%reload_ext autoreload\n",
        "%autoreload 2\n",
        "%matplotlib inline"
      ],
      "execution_count": 2,
      "outputs": []
    },
    {
      "cell_type": "code",
      "metadata": {
        "scrolled": false,
        "colab": {
          "base_uri": "https://localhost:8080/",
          "height": 0
        },
        "id": "WEt4OpwL1ddr",
        "outputId": "c5dcdac1-814a-478a-c582-b18160914392"
      },
      "source": [
        "#!pip install -U pip\n",
        "#!pip install pandas\n",
        "#!pip install -U scikit-learn\n",
        "#!pip install -U tensorflow\n",
        "#!pip install -U tensorflow_hub\n",
        "!pip install -U sentencepiece"
      ],
      "execution_count": 78,
      "outputs": [
        {
          "output_type": "stream",
          "text": [
            "Collecting sentencepiece\n",
            "\u001b[?25l  Downloading https://files.pythonhosted.org/packages/e5/2d/6d4ca4bef9a67070fa1cac508606328329152b1df10bdf31fb6e4e727894/sentencepiece-0.1.94-cp36-cp36m-manylinux2014_x86_64.whl (1.1MB)\n",
            "\r\u001b[K     |▎                               | 10kB 14.2MB/s eta 0:00:01\r\u001b[K     |▋                               | 20kB 20.0MB/s eta 0:00:01\r\u001b[K     |▉                               | 30kB 23.0MB/s eta 0:00:01\r\u001b[K     |█▏                              | 40kB 19.0MB/s eta 0:00:01\r\u001b[K     |█▌                              | 51kB 19.1MB/s eta 0:00:01\r\u001b[K     |█▊                              | 61kB 15.7MB/s eta 0:00:01\r\u001b[K     |██                              | 71kB 11.9MB/s eta 0:00:01\r\u001b[K     |██▍                             | 81kB 11.7MB/s eta 0:00:01\r\u001b[K     |██▋                             | 92kB 11.9MB/s eta 0:00:01\r\u001b[K     |███                             | 102kB 12.3MB/s eta 0:00:01\r\u001b[K     |███▎                            | 112kB 12.3MB/s eta 0:00:01\r\u001b[K     |███▌                            | 122kB 12.3MB/s eta 0:00:01\r\u001b[K     |███▉                            | 133kB 12.3MB/s eta 0:00:01\r\u001b[K     |████▏                           | 143kB 12.3MB/s eta 0:00:01\r\u001b[K     |████▍                           | 153kB 12.3MB/s eta 0:00:01\r\u001b[K     |████▊                           | 163kB 12.3MB/s eta 0:00:01\r\u001b[K     |█████                           | 174kB 12.3MB/s eta 0:00:01\r\u001b[K     |█████▎                          | 184kB 12.3MB/s eta 0:00:01\r\u001b[K     |█████▋                          | 194kB 12.3MB/s eta 0:00:01\r\u001b[K     |█████▉                          | 204kB 12.3MB/s eta 0:00:01\r\u001b[K     |██████▏                         | 215kB 12.3MB/s eta 0:00:01\r\u001b[K     |██████▌                         | 225kB 12.3MB/s eta 0:00:01\r\u001b[K     |██████▊                         | 235kB 12.3MB/s eta 0:00:01\r\u001b[K     |███████                         | 245kB 12.3MB/s eta 0:00:01\r\u001b[K     |███████▍                        | 256kB 12.3MB/s eta 0:00:01\r\u001b[K     |███████▋                        | 266kB 12.3MB/s eta 0:00:01\r\u001b[K     |████████                        | 276kB 12.3MB/s eta 0:00:01\r\u001b[K     |████████▎                       | 286kB 12.3MB/s eta 0:00:01\r\u001b[K     |████████▌                       | 296kB 12.3MB/s eta 0:00:01\r\u001b[K     |████████▉                       | 307kB 12.3MB/s eta 0:00:01\r\u001b[K     |█████████                       | 317kB 12.3MB/s eta 0:00:01\r\u001b[K     |█████████▍                      | 327kB 12.3MB/s eta 0:00:01\r\u001b[K     |█████████▊                      | 337kB 12.3MB/s eta 0:00:01\r\u001b[K     |██████████                      | 348kB 12.3MB/s eta 0:00:01\r\u001b[K     |██████████▎                     | 358kB 12.3MB/s eta 0:00:01\r\u001b[K     |██████████▋                     | 368kB 12.3MB/s eta 0:00:01\r\u001b[K     |██████████▉                     | 378kB 12.3MB/s eta 0:00:01\r\u001b[K     |███████████▏                    | 389kB 12.3MB/s eta 0:00:01\r\u001b[K     |███████████▌                    | 399kB 12.3MB/s eta 0:00:01\r\u001b[K     |███████████▊                    | 409kB 12.3MB/s eta 0:00:01\r\u001b[K     |████████████                    | 419kB 12.3MB/s eta 0:00:01\r\u001b[K     |████████████▍                   | 430kB 12.3MB/s eta 0:00:01\r\u001b[K     |████████████▋                   | 440kB 12.3MB/s eta 0:00:01\r\u001b[K     |█████████████                   | 450kB 12.3MB/s eta 0:00:01\r\u001b[K     |█████████████▎                  | 460kB 12.3MB/s eta 0:00:01\r\u001b[K     |█████████████▌                  | 471kB 12.3MB/s eta 0:00:01\r\u001b[K     |█████████████▉                  | 481kB 12.3MB/s eta 0:00:01\r\u001b[K     |██████████████                  | 491kB 12.3MB/s eta 0:00:01\r\u001b[K     |██████████████▍                 | 501kB 12.3MB/s eta 0:00:01\r\u001b[K     |██████████████▊                 | 512kB 12.3MB/s eta 0:00:01\r\u001b[K     |███████████████                 | 522kB 12.3MB/s eta 0:00:01\r\u001b[K     |███████████████▎                | 532kB 12.3MB/s eta 0:00:01\r\u001b[K     |███████████████▋                | 542kB 12.3MB/s eta 0:00:01\r\u001b[K     |███████████████▉                | 552kB 12.3MB/s eta 0:00:01\r\u001b[K     |████████████████▏               | 563kB 12.3MB/s eta 0:00:01\r\u001b[K     |████████████████▌               | 573kB 12.3MB/s eta 0:00:01\r\u001b[K     |████████████████▊               | 583kB 12.3MB/s eta 0:00:01\r\u001b[K     |█████████████████               | 593kB 12.3MB/s eta 0:00:01\r\u001b[K     |█████████████████▍              | 604kB 12.3MB/s eta 0:00:01\r\u001b[K     |█████████████████▋              | 614kB 12.3MB/s eta 0:00:01\r\u001b[K     |██████████████████              | 624kB 12.3MB/s eta 0:00:01\r\u001b[K     |██████████████████▏             | 634kB 12.3MB/s eta 0:00:01\r\u001b[K     |██████████████████▌             | 645kB 12.3MB/s eta 0:00:01\r\u001b[K     |██████████████████▉             | 655kB 12.3MB/s eta 0:00:01\r\u001b[K     |███████████████████             | 665kB 12.3MB/s eta 0:00:01\r\u001b[K     |███████████████████▍            | 675kB 12.3MB/s eta 0:00:01\r\u001b[K     |███████████████████▊            | 686kB 12.3MB/s eta 0:00:01\r\u001b[K     |████████████████████            | 696kB 12.3MB/s eta 0:00:01\r\u001b[K     |████████████████████▎           | 706kB 12.3MB/s eta 0:00:01\r\u001b[K     |████████████████████▋           | 716kB 12.3MB/s eta 0:00:01\r\u001b[K     |████████████████████▉           | 727kB 12.3MB/s eta 0:00:01\r\u001b[K     |█████████████████████▏          | 737kB 12.3MB/s eta 0:00:01\r\u001b[K     |█████████████████████▌          | 747kB 12.3MB/s eta 0:00:01\r\u001b[K     |█████████████████████▊          | 757kB 12.3MB/s eta 0:00:01\r\u001b[K     |██████████████████████          | 768kB 12.3MB/s eta 0:00:01\r\u001b[K     |██████████████████████▎         | 778kB 12.3MB/s eta 0:00:01\r\u001b[K     |██████████████████████▋         | 788kB 12.3MB/s eta 0:00:01\r\u001b[K     |███████████████████████         | 798kB 12.3MB/s eta 0:00:01\r\u001b[K     |███████████████████████▏        | 808kB 12.3MB/s eta 0:00:01\r\u001b[K     |███████████████████████▌        | 819kB 12.3MB/s eta 0:00:01\r\u001b[K     |███████████████████████▉        | 829kB 12.3MB/s eta 0:00:01\r\u001b[K     |████████████████████████        | 839kB 12.3MB/s eta 0:00:01\r\u001b[K     |████████████████████████▍       | 849kB 12.3MB/s eta 0:00:01\r\u001b[K     |████████████████████████▊       | 860kB 12.3MB/s eta 0:00:01\r\u001b[K     |█████████████████████████       | 870kB 12.3MB/s eta 0:00:01\r\u001b[K     |█████████████████████████▎      | 880kB 12.3MB/s eta 0:00:01\r\u001b[K     |█████████████████████████▋      | 890kB 12.3MB/s eta 0:00:01\r\u001b[K     |█████████████████████████▉      | 901kB 12.3MB/s eta 0:00:01\r\u001b[K     |██████████████████████████▏     | 911kB 12.3MB/s eta 0:00:01\r\u001b[K     |██████████████████████████▌     | 921kB 12.3MB/s eta 0:00:01\r\u001b[K     |██████████████████████████▊     | 931kB 12.3MB/s eta 0:00:01\r\u001b[K     |███████████████████████████     | 942kB 12.3MB/s eta 0:00:01\r\u001b[K     |███████████████████████████▎    | 952kB 12.3MB/s eta 0:00:01\r\u001b[K     |███████████████████████████▋    | 962kB 12.3MB/s eta 0:00:01\r\u001b[K     |████████████████████████████    | 972kB 12.3MB/s eta 0:00:01\r\u001b[K     |████████████████████████████▏   | 983kB 12.3MB/s eta 0:00:01\r\u001b[K     |████████████████████████████▌   | 993kB 12.3MB/s eta 0:00:01\r\u001b[K     |████████████████████████████▉   | 1.0MB 12.3MB/s eta 0:00:01\r\u001b[K     |█████████████████████████████   | 1.0MB 12.3MB/s eta 0:00:01\r\u001b[K     |█████████████████████████████▍  | 1.0MB 12.3MB/s eta 0:00:01\r\u001b[K     |█████████████████████████████▊  | 1.0MB 12.3MB/s eta 0:00:01\r\u001b[K     |██████████████████████████████  | 1.0MB 12.3MB/s eta 0:00:01\r\u001b[K     |██████████████████████████████▎ | 1.1MB 12.3MB/s eta 0:00:01\r\u001b[K     |██████████████████████████████▋ | 1.1MB 12.3MB/s eta 0:00:01\r\u001b[K     |██████████████████████████████▉ | 1.1MB 12.3MB/s eta 0:00:01\r\u001b[K     |███████████████████████████████▏| 1.1MB 12.3MB/s eta 0:00:01\r\u001b[K     |███████████████████████████████▍| 1.1MB 12.3MB/s eta 0:00:01\r\u001b[K     |███████████████████████████████▊| 1.1MB 12.3MB/s eta 0:00:01\r\u001b[K     |████████████████████████████████| 1.1MB 12.3MB/s \n",
            "\u001b[?25hInstalling collected packages: sentencepiece\n",
            "Successfully installed sentencepiece-0.1.94\n"
          ],
          "name": "stdout"
        }
      ]
    },
    {
      "cell_type": "code",
      "metadata": {
        "id": "4cdBW-ec1ddr"
      },
      "source": [
        "#import tokenization"
      ],
      "execution_count": null,
      "outputs": []
    },
    {
      "cell_type": "code",
      "metadata": {
        "scrolled": true,
        "id": "ozlP-STc1dds"
      },
      "source": [
        "import gc\n",
        "from matplotlib import rcParams, pyplot as plt\n",
        "import numpy as np\n",
        "import os\n",
        "import pandas as pd\n",
        "from pathlib import Path\n",
        "import re\n",
        "from sklearn.metrics import accuracy_score, log_loss\n",
        "from sklearn.model_selection import StratifiedKFold\n",
        "import sys\n",
        "sys.path.append('../src')\n",
        "import tensorflow as tf\n",
        "from tensorflow.keras import Sequential, Model, Input\n",
        "from tensorflow.keras.backend import clear_session\n",
        "from tensorflow.keras.initializers import Constant\n",
        "from tensorflow.keras.layers import Dense, Embedding, Bidirectional, LSTM, Dropout\n",
        "from tensorflow.keras.layers.experimental.preprocessing import TextVectorization\n",
        "from tensorflow.keras.callbacks import EarlyStopping\n",
        "from tensorflow.keras.utils import plot_model, to_categorical\n",
        "from tensorflow.keras.optimizers import Adam\n",
        "import tensorflow_hub as hub\n",
        "#import tokenization\n",
        "import warnings \n",
        "warnings.filterwarnings(action='ignore')"
      ],
      "execution_count": 119,
      "outputs": []
    },
    {
      "cell_type": "code",
      "metadata": {
        "colab": {
          "base_uri": "https://localhost:8080/",
          "height": 36
        },
        "id": "v-GzzkvK1dds",
        "outputId": "2c40953c-75da-47ce-d0b6-0b8dc05878f9"
      },
      "source": [
        "tf.__version__"
      ],
      "execution_count": 5,
      "outputs": [
        {
          "output_type": "execute_result",
          "data": {
            "application/vnd.google.colaboratory.intrinsic+json": {
              "type": "string"
            },
            "text/plain": [
              "'2.4.0'"
            ]
          },
          "metadata": {
            "tags": []
          },
          "execution_count": 5
        }
      ]
    },
    {
      "cell_type": "markdown",
      "metadata": {
        "id": "kVwx6XLy1ddz"
      },
      "source": [
        "# 경로 설정"
      ]
    },
    {
      "cell_type": "code",
      "metadata": {
        "id": "CTSxQsUm1dd0"
      },
      "source": [
        "train_path = 'train_data.json'\n",
        "valid_path = 'dev_data.json'"
      ],
      "execution_count": 12,
      "outputs": []
    },
    {
      "cell_type": "markdown",
      "metadata": {
        "id": "1RIgPQtY1dd0"
      },
      "source": [
        "# 데이터 로드"
      ]
    },
    {
      "cell_type": "markdown",
      "metadata": {
        "id": "LKzWhnHX1dd0"
      },
      "source": [
        "- train 데이터 불러오기"
      ]
    },
    {
      "cell_type": "code",
      "metadata": {
        "scrolled": true,
        "colab": {
          "base_uri": "https://localhost:8080/",
          "height": 0
        },
        "id": "K5VhO_ag1dd0",
        "outputId": "6fd6341f-b4ae-4e7f-b50c-e41f83b807d3"
      },
      "source": [
        "# json 딕셔너리 파일에서 content 데이터만 추출\n",
        "\n",
        "import json # import json module\n",
        "\n",
        "train_data = []\n",
        "train_data_content = []\n",
        "\n",
        "train_y = []\n",
        "\n",
        "\n",
        "# train data - 대화내용 'content' & emotion 'type'불러오기\n",
        "with open(train_path) as json_file:\n",
        "    json_data = json.load(json_file)\n",
        "\n",
        "    for i in json_data: # i : dict\n",
        "        temp = (i.get('talk')).get('content')\n",
        "        \n",
        "        if '' not in temp:\n",
        "            train_data.append(temp) # \"content\" 만\n",
        "            \n",
        "            train_data_content.append(list(temp.values()))\n",
        "            \n",
        "            #for v1 in temp.values():\n",
        "            #    train_data_content += v1\n",
        "            \n",
        "            train_y.append(((i.get('profile')).get('emotion')).get('type'))\n",
        "        \n",
        "        \n",
        "    print(train_data[:5], type(train_data[0]))\n",
        "    print()\n",
        "    print(train_y[:5], type(train_y[0]))\n",
        "    print()\n",
        "    print(train_data_content[:5], type(train_data_content[0]))\n"
      ],
      "execution_count": 13,
      "outputs": [
        {
          "output_type": "stream",
          "text": [
            "[{'HS01': '기분이 좋지 않아', 'SS01': '기분이 좋지 않은 이유를 알 수 있을까요?', 'HS02': '요새 건강검진을 받았는데 건강 상태가 좋지 않아.', 'SS02': '많이 속상하시겠어요. 어디가 안 좋은가요?', 'HS03': '이곳 저곳 관리해야 할 곳이 많아.', 'SS03': '안좋은 곳이 많아 걱정이 많으시겠어요.'}, {'HS01': '진로가 너무 걱정스러워. 내가 진짜 뭘 해야 할지 모르겠어.', 'SS01': '미래가 두려우시군요. 하고 싶은 일이 있으세요?', 'HS02': '하고 싶은 일은 있는데 지금 시작하기에 너무 늦은 것 같아서 선뜻 도전을 못 하겠어.', 'SS02': '도전하는 것에 두려움을 느끼고 계시네요.', 'HS03': '', 'SS03': ''}, {'HS01': '아이가 친구랑 다퉈서 걱정이야.', 'SS01': '걱정이 되시겠군요. 아이는 어떤 상태인가요?', 'HS02': '아이도 걱정이 되는지 밥도 잘 안먹더라고.', 'SS02': '많이 걱정되시겠어요. 어떻게 하면 아이를 도와줄 수 있을까요?', 'HS03': '저녁먹고 대화를 해봐야지.', 'SS03': '대화가 잘 되었으면 좋겠어요.'}, {'HS01': '나 요새 친구들이랑 대화하는 게 어려워.', 'SS01': '친구들과 대화하는 것이 어려운 이유가 있을까요?', 'HS02': '친구가 날 안좋아 할지 걱정되고 내가 말실수는 하지 않았을까 두려워.', 'SS02': '친구와 대화하기 힘들어 많이 괴로우시겠어요.', 'HS03': '너무 속상하고 불편해.', 'SS03': '친구와 다시 편하게 대화하길 바라고 계시는군요.'}, {'HS01': '결혼 후 맞벌이를 하고 있는데 은퇴를 생각하면 어렵네.', 'SS01': '은퇴를 생각하며 걱정이 되시는군요. 은퇴를 위해 준비하신 게 있으신가요?', 'HS02': '노후대비를 생각해서 연금 저축을 들어놓은 게 있어.', 'SS02': '잘 준비하셨네요. 마음은 편안하신가요?', 'HS03': '이걸로 충분할지 잘 모르겠어. 불안한 마음이 자꾸 들어.', 'SS03': '미래에 대해 불안함으로 마음이 힘드시군요.'}] <class 'dict'>\n",
            "\n",
            "['E37', 'E37', 'E37', 'E37', 'E37'] <class 'str'>\n",
            "\n",
            "[['기분이 좋지 않아', '기분이 좋지 않은 이유를 알 수 있을까요?', '요새 건강검진을 받았는데 건강 상태가 좋지 않아.', '많이 속상하시겠어요. 어디가 안 좋은가요?', '이곳 저곳 관리해야 할 곳이 많아.', '안좋은 곳이 많아 걱정이 많으시겠어요.'], ['진로가 너무 걱정스러워. 내가 진짜 뭘 해야 할지 모르겠어.', '미래가 두려우시군요. 하고 싶은 일이 있으세요?', '하고 싶은 일은 있는데 지금 시작하기에 너무 늦은 것 같아서 선뜻 도전을 못 하겠어.', '도전하는 것에 두려움을 느끼고 계시네요.', '', ''], ['아이가 친구랑 다퉈서 걱정이야.', '걱정이 되시겠군요. 아이는 어떤 상태인가요?', '아이도 걱정이 되는지 밥도 잘 안먹더라고.', '많이 걱정되시겠어요. 어떻게 하면 아이를 도와줄 수 있을까요?', '저녁먹고 대화를 해봐야지.', '대화가 잘 되었으면 좋겠어요.'], ['나 요새 친구들이랑 대화하는 게 어려워.', '친구들과 대화하는 것이 어려운 이유가 있을까요?', '친구가 날 안좋아 할지 걱정되고 내가 말실수는 하지 않았을까 두려워.', '친구와 대화하기 힘들어 많이 괴로우시겠어요.', '너무 속상하고 불편해.', '친구와 다시 편하게 대화하길 바라고 계시는군요.'], ['결혼 후 맞벌이를 하고 있는데 은퇴를 생각하면 어렵네.', '은퇴를 생각하며 걱정이 되시는군요. 은퇴를 위해 준비하신 게 있으신가요?', '노후대비를 생각해서 연금 저축을 들어놓은 게 있어.', '잘 준비하셨네요. 마음은 편안하신가요?', '이걸로 충분할지 잘 모르겠어. 불안한 마음이 자꾸 들어.', '미래에 대해 불안함으로 마음이 힘드시군요.']] <class 'list'>\n"
          ],
          "name": "stdout"
        }
      ]
    },
    {
      "cell_type": "code",
      "metadata": {
        "colab": {
          "base_uri": "https://localhost:8080/",
          "height": 0
        },
        "id": "tUrhrB5i1dd1",
        "outputId": "b1787105-d3db-4a1e-c2dd-d3e3edfaef4e"
      },
      "source": [
        "print(type(train_data_content[0]))"
      ],
      "execution_count": 14,
      "outputs": [
        {
          "output_type": "stream",
          "text": [
            "<class 'list'>\n"
          ],
          "name": "stdout"
        }
      ]
    },
    {
      "cell_type": "code",
      "metadata": {
        "scrolled": true,
        "colab": {
          "base_uri": "https://localhost:8080/",
          "height": 0
        },
        "id": "HGKVriWD1dd1",
        "outputId": "092010b4-34a4-4d15-c96e-ab494b3ac257"
      },
      "source": [
        "print(type(train_data_content[0][0]))"
      ],
      "execution_count": 15,
      "outputs": [
        {
          "output_type": "stream",
          "text": [
            "<class 'str'>\n"
          ],
          "name": "stdout"
        }
      ]
    },
    {
      "cell_type": "code",
      "metadata": {
        "id": "NS3eA6If1dd1"
      },
      "source": [
        "# train_data_content list -> str 로 이어붙이기\n",
        "train_data_content2 = []\n",
        "\n",
        "for idx in range(len(train_data_content)):\n",
        "    train_data_content2.append('')\n",
        "    \n",
        "    for elem in train_data_content[idx]:\n",
        "        train_data_content2[idx] += elem\n",
        "    "
      ],
      "execution_count": 16,
      "outputs": []
    },
    {
      "cell_type": "code",
      "metadata": {
        "colab": {
          "base_uri": "https://localhost:8080/",
          "height": 0
        },
        "id": "ymhdl0_41dd2",
        "outputId": "4441913a-d50b-4e51-a6ca-1c33197daa17"
      },
      "source": [
        "print(train_data_content2[:5], type(train_data_content2[0]), type(train_data_content2[0][0])) # okay !"
      ],
      "execution_count": 17,
      "outputs": [
        {
          "output_type": "stream",
          "text": [
            "['기분이 좋지 않아기분이 좋지 않은 이유를 알 수 있을까요?요새 건강검진을 받았는데 건강 상태가 좋지 않아.많이 속상하시겠어요. 어디가 안 좋은가요?이곳 저곳 관리해야 할 곳이 많아.안좋은 곳이 많아 걱정이 많으시겠어요.', '진로가 너무 걱정스러워. 내가 진짜 뭘 해야 할지 모르겠어.미래가 두려우시군요. 하고 싶은 일이 있으세요?하고 싶은 일은 있는데 지금 시작하기에 너무 늦은 것 같아서 선뜻 도전을 못 하겠어.도전하는 것에 두려움을 느끼고 계시네요.', '아이가 친구랑 다퉈서 걱정이야.걱정이 되시겠군요. 아이는 어떤 상태인가요?아이도 걱정이 되는지 밥도 잘 안먹더라고.많이 걱정되시겠어요. 어떻게 하면 아이를 도와줄 수 있을까요?저녁먹고 대화를 해봐야지.대화가 잘 되었으면 좋겠어요.', '나 요새 친구들이랑 대화하는 게 어려워.친구들과 대화하는 것이 어려운 이유가 있을까요?친구가 날 안좋아 할지 걱정되고 내가 말실수는 하지 않았을까 두려워.친구와 대화하기 힘들어 많이 괴로우시겠어요.너무 속상하고 불편해.친구와 다시 편하게 대화하길 바라고 계시는군요.', '결혼 후 맞벌이를 하고 있는데 은퇴를 생각하면 어렵네.은퇴를 생각하며 걱정이 되시는군요. 은퇴를 위해 준비하신 게 있으신가요?노후대비를 생각해서 연금 저축을 들어놓은 게 있어.잘 준비하셨네요. 마음은 편안하신가요?이걸로 충분할지 잘 모르겠어. 불안한 마음이 자꾸 들어.미래에 대해 불안함으로 마음이 힘드시군요.'] <class 'str'> <class 'str'>\n"
          ],
          "name": "stdout"
        }
      ]
    },
    {
      "cell_type": "code",
      "metadata": {
        "colab": {
          "base_uri": "https://localhost:8080/",
          "height": 0
        },
        "id": "ZJNLpkiZ1dd3",
        "outputId": "1290ddca-cca4-48d3-b8a8-1c7cfc589c17"
      },
      "source": [
        "len(train_data_content2) # 총 15832 개의 대화"
      ],
      "execution_count": 18,
      "outputs": [
        {
          "output_type": "execute_result",
          "data": {
            "text/plain": [
              "15832"
            ]
          },
          "metadata": {
            "tags": []
          },
          "execution_count": 18
        }
      ]
    },
    {
      "cell_type": "code",
      "metadata": {
        "colab": {
          "base_uri": "https://localhost:8080/",
          "height": 0
        },
        "id": "hfuIPa531dd3",
        "outputId": "c3a15f33-10bb-405b-8c01-a95a1ba379b0"
      },
      "source": [
        "# 대화 없는 발화 체크 (sanity check) -> okay !\n",
        "count1 = 0\n",
        "\n",
        "for elem in train_data_content2:\n",
        "    if elem == '':\n",
        "        count1 += 1\n",
        "    \n",
        "print(count1) # okay"
      ],
      "execution_count": 20,
      "outputs": [
        {
          "output_type": "stream",
          "text": [
            "0\n"
          ],
          "name": "stdout"
        }
      ]
    },
    {
      "cell_type": "code",
      "metadata": {
        "colab": {
          "base_uri": "https://localhost:8080/",
          "height": 0
        },
        "id": "IIwzkFNI1dd4",
        "outputId": "70b57525-3c9b-4525-ee39-6d44073479d9"
      },
      "source": [
        "print(train_data_content2[6000:6050])"
      ],
      "execution_count": 21,
      "outputs": [
        {
          "output_type": "stream",
          "text": [
            "['나는 아직도 더 일할 수 있는데 벌써 은퇴라니 정말 슬퍼.아직 일할 수 있는데 은퇴하게 되어서 속상하시군요.응. 몸도 건강하고 이곳에서 젊은 시절부터 얼마나 성실하게 일했는데 이제 나가라고 하네. 이제 어떻게 해야 할지 모르겠어.젊은 시절부터 일했는데 나가라고 해서 슬프셨군요.맞아. 하지만 어떡하겠어. 회사가 어려워져서 어쩔 수 없다고 하니. 좀 쉬다가 다른 일자리가 있는지 알아봐야지.쉬다가 다른 일자리를 알아보고자 하시는군요. 생각해보 신 일자리가 있으신가요?', '나 코로나인 줄 알았는데 그냥 독감이었어. 다행이고 기뻐.코로나가 아닌 독감이어서 기쁘셨군요.코로나였으면 어쩔 뻔했어. 실은 저번에 모임에서 잠깐 마스크를 벗었거든.모임에서 마스크를 벗어서 걱정하셨군요. 이제 감기에서 나으려면 어떻게 해야 할까요?외출하면 절대로 마스크를 벗지 않을 거야.마스크를 벗지 않으며 건강을 유지하셨으면 좋겠어요.', '젊을 때는 나이들어 부유할 줄 알았는데 현실은 정반대로 돈 걱정하는 모습이 한심하게 느껴져.돈 때문에 걱정하는 모습을 스스로 한심하게 느끼시는군요.노후 준비를 했어야 하는데 이제 와서 어떻게 해야 할지 막막해.그런 부분에 대해서 조언을 구할 상대가 있을까요?투자 전문가를 만나는 건 너무 벅찰 것 같아서 친구들에게 한 번 물어봐야겠어.친구와의 대화가 도움이 되면 좋겠군요.', '내가 연애에 너무 방어적인 사람이래.무슨 일이죠? 설명해 줄 수 있나요?그냥 내 행동이나 말이 상대방이 느끼기에 방어적이래. 난 그냥 상처받고 싶지 않아서 한 행동과 말인데.상처받지 않기 위해 한 행동과 말이 상대에겐 방어적으로 느껴졌군요.맞아. 내가 잘못된 거라는 생각은 안 하는데 세상에는 원래 다양한 입장과 사람이 있는 거잖아.방어적이란 건 잘못이 아니라고 생각하시는데 주변 반응 때문에 신경쓰이셨던 것처럼 느껴지네요.', '이번 생은 망했어. 내 생에 취업이란 없나 봐.취업 때문에 걱정이 많으신가요?아주 절망적인 상황이야. 난 이렇게 늙어 죽을 거야.취업 문제로 마음이 많이 안 좋으시군요.', '나는 사진작가가 되고 싶은데 상황이 여의치 않아.사진작가가 되고 싶은데 상황이 여의치 않아 속상하시군요.카메라도 사고 사진 수업에도 등록해야 하는데 돈이 없어.금전적인 문제가 고민이시군요.돈 때문에 내가 하고 싶은 걸 하지 못해서 너무 불행해.돈 때문에 하고 싶은걸 하지 못해서 속상하시군요.', '이제 직장도 그만 다니고 싶어. 직장이 너무 괴로워.직장 때문에 괴로움을 겪고 계시네요. 좀 더 자세하게 이야기해 줄 수 있을까요?직장에서 생기는 스트레스 때문에 내 성격이 바뀌어 가는 것 같아.성격이 바뀔 정도로 스트레스를 많이 받으셨나 봐요. 스트레스를 해소하는 방법은 있으실까요?찾으려고 노력 중이지만 쉽지 않네.스트레스를 극복하려고 노력하고 계시지만 어려움을 겪고 계시는군요.', '나 오늘 열받았어 친구한테 투자했는데 법원에 파산신청했다는 거야.큰일이네요. 많은 자금을 투자하셨나요?노후자금을 다 빌려줬는데 사업이 잘되지 않아서 어쩔 수 없이 파산했다는 거야.손해가 이만저만이 아니시겠어요.법원으로부터 파산 서류가 왔는데 채권 신고하라는데 알아보니 거의 회수하지 못한다는 거야. 많이 심란하시겠어요. 노년에는 투자나 자금 대여 등에 신중하게 대처해야 할 것 같군요.', '오늘도 같이 밥을 먹을 사람이 없어.같이 밥 먹을 친구가 없어 외로우시군요.학교에서 대부분 혼자 있어.대부분의 시간을 혼자 보내고 계시군요.친구들한테 소외된 것 같아 너무 속상해.친구관계에서 어떤 문제가 있었나요?', '요즘 속상해.무슨 일 있으세요? 아들과 대화하기가 어려워. 자꾸 화를 내면서 말을 하게 돼.자녀 분과의 소통 문제 때문에 고민이 많으시겠어요.화를 내지 말아야지 하면서도 감정 컨트롤이 안 되니까.주변에 이 문제에 대해 의논할 만한 분이 계신가요?', '나 이번에 주택청약에 당첨됐어.정말 기쁘시겠어요. 축하드려요.빨리 이사해서 집을 이쁘게 꾸미고 살고 싶어. 그게 꿈이었거든.내 집을 인테리어하고 꾸밀 생각에 많이 설레시나 봐요. 저도 기대되네요.', '엄마는 집에서랑 밖에서랑 행동이 달라서 당황스러워.엄마가 집 밖에서 보이는 태도 때문에 놀라셨군요.엄마는 밖에서는 착한 척 하지만 집에서는 신경질적이야.지금 이 상황을 바꾸기 위해 할 수 있는 일은 무엇이 있을까요?엄마한테 조심스럽게 이야기를 꺼내봐야겠어.엄마와의 대화로 상황을 해결하려고 하시는군요.', '행복이 무엇일까? 모두가 느낄 수 있는 걸까?모두가 행복을 느낄 수 있는지 궁금하신 것 같네요.빚만 늘리는 내 아내는 행복이란 걸 못 느꼈으면 해. 가족 피를 말리는 혐오스러운 사람이거든.안타까운 사연이네요. 문제 해결을 위해서는 누구에게 도움을 청할 수 있을까요?', '나 다음 주부터 출근하게 되었어.회사에 출근하게 되어 기쁘시군요.이제는 열심히 회사를 다닐 거야.회사를 열심히 다닐 의지가 생기셨군요.', '오늘 중요한 업무가 있어서 어머니 병원을 못 갔어.업무 때문에 어머니를 못 뵈었군요.맞아. 이런 적은 없었는데 죄송하네. 내일은 꼭 가 봐야겠어.내일 가서 잘 뵙고 오세요.병원 갈 때 어머니가 좋아하시는 걸 사 가야겠어.정말 멋진 아들이시네요. 어머니를 진심으로 생각하시는 게 느껴져요.', '이번에 면접 보는 회사가 전공과 달라서 업무 관련 내용에 취약해서 걱정이야.취약한 부분을 보완하기 위해 어떤 방식으로 접근하고 있어요?회사의 비전과 업무 관련 지식을 공부하고 있어.비전공 분야의 취약점을 보완하려고 하시는군요.', '내가 좋아하는 친구가 나를 제일 좋아하지 않는거 같아서 질투나.대인관계에서 질투심을 느끼시나봐요.응 나는 제일 친한친구라고 생각하는데 그 친구는 다른 친구를 더 좋아해.왜 다른 친구를 더 좋아한다고 생각하세요?내 약속보다 항상 그 친구 약속이 먼저인 것 같은 느낌을 받아.그런 느낌을 받으셨다니 속상하시겠어요.', '이번에 정말 좋은 기회를 얻었어!좋은 기회를 얻어서 기뻐 보이네요. 어떤 좋은 기회인가요?우리 학교에서 진행하는 진로 프로그램에 열심히 참여했을 뿐인데 인턴십 지원 기회가 생겼어! 열심히 한 덕분인 것 같아.진로 프로그램에 열심히 참여한 덕에 인턴십 기회가 생겼군요! 정말 축하드려요. ', '다들 이 나이에 어느 한 곳이 아프다는데 나는 아직 아무렇지도 않으니 감사하지.건강하시니까 매우 다행이네요.병원 검사를 받았는데 수치도 다 좋더라고. 의사 선생님이 이 나이에 드물게 건강하다고 하시고.부러워요. 하시고 싶은 일이 있으신가요?힘이 닿는 데까지 봉사활동 좀 다닐까 싶어.봉사활동을 계획 중이시군요.', '결혼하기로 했던 사람이 갑자기 다 관두자고 하는 거야.갑작스러운 이야기에 많이 난감하신 것 같아요.집에서 정해 준 여자랑 결혼하겠대. 화가 나서 참을 수가 없어.그간의 신뢰와 관계를 저버리고 다른 분을 선택하셔서 화가 나셨던 거로군요.삼 년이나 사귀면서 내가 어떻게 했는데 나한테 그러냐고.함께한 기간만큼이나 크게 배신감을 느끼셨을 것 같아요.', '나란 사람도 취업을 할 수 있겠지? 취업을 하는 것에 어려움을 겪는군요. 어떤 점이 어려우신 가요?다른 친구들은 토익에 자격증에 학원을 다니는데 나는 어디서 지원을 받을 수가 없어서 정말 힘드네.취업을 하기 위한 영어 공부나 자격증 공부를 할 수 없는 상황이시군요. 정말 막막한 기분이 드시겠어요. ', '길에서 여자 친구인 줄 알고 어떤 여자를 껴안아 버렸어.그래서 정말 당황스러웠겠어요. 그리고 어떻게 하셨나요?얼굴이 새빨개져서는 얼른 도망가 버렸지.괜찮아요. 실수할 수도 있죠.다음부터는 이런 실수 안 하겠지? 너무 창피해.가족끼리 사는데 그럴 이유가 있나요?', '나 드디어 이번에 임신했어!아. 정말 기쁘겠네요!아이를 낳아서 잘 기를 수 있을지 조금 걱정이 되기도 해.엄마로서 두려운 마음도 동시에 드시는군요. 좋은 엄마가 되시기를 응원해요.', '자식들이 나와 아내를 대하는 태도가 달라서 화가 나.어떤 점에서 나와 아내를 대하는 태도가 다른지 자세히 말씀해 주시겠어요?저녁 메뉴 고를 때 내 의견만 안 물어봐. 이런 취급을 받아서 슬퍼.지금 이 기분에서 벗어나기 위해 할 수 있는 일은 무엇이 있을까요?자식들에게 이런 심정을 솔직하게 말해봐야겠어.자식들과 대화로 풀려고 하시는군요.', '동네 아줌마가 남편을 보고 친정 오빠가 놀러 왔냐며 물어 보더라.그런 말씀을 들으셨을 때 어떠셨어요? 무슨 생각이 들었는지 궁금해요.나이 차이가 얼마나 많이 나는지도 모르고 그런 이야기를 하는지. 너무 혼란스러웠어.동네 아주머니가 하신 말씀에 많이 혼란스러우셨군요. 아무 대응 없이 넘어가셨나요?', '새 학교에 전학 갔더니 아는 친구가 한 명도 없어서 외로워.친구가 없어서 외로우시군요. 응 항상 새로운 곳에 가면 친구를 잘 사귈 수 있을지가 제일 걱정돼.친구를 잘 사귈 수 있을지가 항상 걱정이시군요. 새 친구를 사귀려면 어떻게 해야 좋을까요?먼저 밥 같이 먹자고 다가가 보려고.친구들에게 먼저 다가가 보기로 결정하셨군요. 멋져요.', '아내가 몸이 유독 약해서 내가 밖에서 일하고 와도 집안일까지 하고 있어.아내분의 몸이 약해서 바깥 일도 하고 집안일도 하고 계시는군요. 기분은 괜찮으세요?회사 일도 많은데 집안일까지 하려니 너무 힘들어.일이 너무 많아 힘드시군요. 도움을 요청할 방법이 없을까요?아내는 몸이 약하니 내가 할 수밖에 없어. 아내가 미안해하는 모습이 안타깝네.아내분이 도와줄 수 없어 미안해하는 것이 안타까우시군요.', '정말 나쁜 일이 벌어지는 것을 봤어. 그래서 기분이 좋지 않아.어떤 일을 겪으셨나요?회사 직원 중 한 명이 사장에게만 잘하고 동료들을 무시하는 행위가 너무 잘못돼 보여.구체적으로 어떤 일들을 경험했는지 물어도 될까요?사장 이외의 나이 든 직장 상사 분들이 있는데 사장 앞에만 수저와 젓가락을 놔 주고 다른 분들의 것은 신경을 쓰지 않는 직원이 있었어. 그 행동이 불쾌했어.나이 든 상사 분을 신경 쓰지 않는 직원의 행동이 불쾌하셨군요.', '좋아하는 남자에게 고백했는데 차였어.좋아하는 남자에게 고백했는데 거절을 당하셨군요.내가 그렇게 매력이 없나 싶어서 우울하고 좌절감도 들어. 살이라도 빼고 다시 고백해볼까?우울하고 좌절감도 드시는군요.일단 나를 더 가꿔야겠어.가꾸고 고백할 생각이시군요.', '아직도 월세를 살고 있다니 걱정이야.주거 문제로 걱정이 되시는군요.생활비는 줄일 수 있지만 주거비는 줄이기가 힘들잖아.맞아요. 오히려 주거비는 늘어나더라고요.그래서 더 막막해져. 딱히 방도가 보이지 않는데 어쩌지.주거비 때문에 막막하시군요. 좋은 방법이 없을까요?', '이 년 전 건강검진에서 골다공증이 있다고 해서 많이 걱정했는데 이번에는 정상 수치래.이 년 동안 고민하던 골다공증 문제가 해결되어 안도하고 계시네요.그간 운동도 규칙적으로 하고 골다공증에 좋다는 음식도 챙겨 먹고 하니까 효과가 있었나 봐.건강을 관리하기 위해 힘썼던 것이 효과가 있었던 것 같아요. 어떤 관리를 주로 하셨나요?수영과 필라테스를 하고 또 음식은 원래 육류를 싫어했는데 건강을 위해 일부러 신경 써서 먹고 말이야.꾸준한 운동과 식단을 통해 건강을 유지하려 노력하고 계신 거군요!', '후배 녀석이 조직에서 인정받고 성과급도 항상 많이 받아서 부러우면서도 질투나.선배로서 그러한 감정을 충분히 가질 수 있겠네요. 어떤 일들이 있었던 거예요?능력도 뛰어난데 태도까지 좋아서 옆에서 보는데 질투 나더라고.그런 능력과 태도를 지닌 사람이군요. 동료이자 후배가 앞서가는 기분이 들어 속상하실 수 있어요.', '어떻게 하지? 이번에 새학기가 됐는데 친구를 어떻게 사귀어야 될지 모르겠어!새학기에 친구 사귀는 게 걱정이시군요.다들 나 빼고 이미 친해져 있을 것 같단 말이야.본인만 소외될까 마음이 조급하시군요. 응. 빨리 사귀어야 되는데.좋은 친구를 사귀시길 바라요.', '어제 여자 친구와 술을 먹었는데 너무 많이 먹어서 기억이 나지 않아.여자 친구 분께 무슨 일이 있었는지 물어보셨나요?물어봐도 대답을 해 주지 않아. 기분도 좋지 않아 보여.앞으로 어떻게 하실 생각이신가요?', '좋아하는 여자에게 이 주 전에 고백했어.그래서 어떻게 되셨나요?당연히 수락하겠지. 한달도 더 기다릴 수 있어.답변을 받지 않았는데도 느긋해 보이세요. 여유로울 수 있는 비결이라도 있나요?이미 느낌이 통했는데 무슨 말이 더 필요해?좋은 소식 기다릴게요.', '저녁 먹고 아내랑 산책하는 게 요즘 사는 낙이야.정말 여유가 느껴지네요. 산책하면서 대화도 많이 하시나 봐요?그래. 애들 얘기부터 앞으로 어떤 집에 살지 그런 얘기를 하는 게 좋아.누구나 부러워할 만한 부부의 모습이네요. 어떻게 하면 그렇게 지낼 수 있을까요?젊을 때부터 서로 대화를 많이 한 덕분인 거 같아.대화를 많이 하는 것이 비결이군요.', '갑자기 체력이 떨어져 혼란스러워.체력이 약해진 것 같아 매우 당황스러우시군요. 어떤 것이 불편하신가요?가끔 실신할 것처럼 숨이 안 쉬어지고 하늘이 노래져.낯선 증상에 많이 놀라셨겠어요. 건강에 대해 상담해 줄 분이 계신가요?병원에서는 별 이상이 없다고 하는데 왜 그러는지 모르겠어서 더 혼란스러워.건강이 나빠졌는데 이유도 알 수 없어 아주 당황스럽고 염려되시겠어요.', '내가 그리 잘해준 건 없지만 그렇다고 못 해준 것도 없는데 아내는 내 친구와 나를 왜 비교하는지 모르겠어.아내가 친구분과 비교를 하는군요. 많이 속상하셨겠어요.아내는 내가 뭐가 그리 못마땅한지 늘 그런 식이라니까 정말 속상해서. 너무 슬프다.많이 슬프시겠어요. 어떻게 해야 아내가 친구분과 비교하는 일이 없을까요?아내에게 친구와 나를 비교하지 말라고 말해야겠어. 그건 잘못된 거라고 단호하게.그러시군요. 생각하신 대로 잘 말하고 좋은 결과 있으시길 바라요.', '이번에 우리 팀에서 직원 한명을 감원하기로 했는데 은근히 내가 될까봐 걱정을 많이 하고 있어.직장에서 직원 감원의 대상이 되실까 염려하고 계시군요.내가 나이와 경력이 많아 일 순위일까 걱정하고 있었지. 그런데 윗분들이 내가 없으면 일이 안 돌아간다고 해주셔서 너무 감사했어.평소의 업무능력을 인정받아 감원에 대한 걱정을 덜으셨군요.', '방금 최종 면접 통과 했다고 연락왔어!취업에 성공하셨군요!부모님이 나보다 기뻐하시더라구. 지금 오피스룩 사러 가기로 했어.취업 기념으로 옷을 사러 가기로 했군요.응. 나 너무 행복해.행복한 직장 생활 하시길 바라요.', '주말인데 같이 게임 할 사람도 없네.같이 게임 할 사람이 없으셔서 외로우시겠어요.온라인 게임이라 혼자 하면 재미가 없는데 다들 집에서 뭐 하고 있나. 혼자 외로워.혼자 하는 게임이 심심하시군요.요즘 어몽 어스랑 롤에 빠져있는데 다 혼자서는 못 해.함께 할 수 있는 사람이 곁에 있었으면 좋겠네요.', '이번에 딸아이가 직장을 새로 옮기게 되었는데 걱정이 많은가 봐.따님의 이직에 대한 걱정이 있군요. 자세히 들려주세요.예전에 다니던 회사랑은 분위기 부터가 다르다면서 걱정 반 두려움 반이더라고. 나도 같이 걱정이야.따님의 이직에 대한 걱정으로 나도 덩달아 걱정하고 있군요. 이럴 때는 어떤 걸 하면 좋을까요?딸에게 잘 할 거라고 응원해 줘야겠어. 용기를 줘야지.딸에게 응원의 말을 전하기로 하셨군요.', '친한 친구로부터 나를 신뢰한다는 칭찬을 들어서 기분이 좋아.칭찬을 들어 기분이 정말 좋으시겠어요.응. 평소에 내가 정말 좋아하는 친구였는데 그런 칭찬을 들으니 기분이 정말 좋았어.좋은 친구를 두셨군요. 좋은 우정 유지하셨으면 좋겠어요.고마워. 나도 자주 칭찬하는 습관을 가져 보려고.', '내년부터 회사 정책이 바뀌어서 퇴직금을 안 준대.갑작스런 정책의 변화로 당황스러우시군요.육십 세가 넘어야 퇴직연금으로 받을 수 있다는 거야.앞으로 어떤 계획을 가지고 계신가요?', '나 요즘 외로워. 만날 사람도 없고 새로운 친구 사귈 기회도 없어.그렇군요. 가까운 친구가 한 명도 없나요?두 명이 있는데 바쁘기도 하고 만나기도 멀어. 어렸을 때는 아주 가까운 친구였는데 말이야.네. 자주 만날 수 없어 서운할 것 같아요.그래서 더 외로운 것 같아. 이번 기회에 운동이나 취미로 해보려고 해.건강한 취미가 생기신 것 같아 다행이에요. 어떤 운동에 관심이 있으신가요?', '요즘 취업이 안 되어서 너무 괴로워. 박사과정이 반년 남았는데 이 전공을 계속 유지하는 게 맞을까?박사과정이 얼마 안 남았는데 취업 문제로 너무 속상하시겠어요. 선택한 전공에 대해서까지 고민되고요.대학 과정부터 벌써 구 년째인데 인제 와서 전공을 포기하는 것도 쉬운 일이 아니지. 긴 시간 한 분야를 공부하신 만큼 부담이 크시죠. 혹시 조언을 얻을만한 선배가 있을까요?', '프리랜서로 일하면서 요즘 일이 없는데 가족들은 내가 열심히 하지 않은 탓이라고 해서 기분이 나빴어.프리랜서라서 일이 없는데 가족분들이 그렇게 말씀하셔서 많이 속상하셨군요.정말 열심히 했는데 정기적으로 수입이 발생하지 않더라고. 가족들에게 많이 서운해.가족들에게 많이 서운하시군요. 기분을 괜찮게 할 만한 일이 있을까요?속상하지만 현실을 받아들이고 다른 일을 찾아봐야지.다른 일을 찾아 보려고 하시는군요.', '동생이 나한테 이상한 문자를 보내놓고 갑자기 연락이 안 돼.동생분과 연락이 안 돼 불안하시겠어요.어제까지만 해도 괜찮았는데. 설마 무슨 일 생긴 거 아니겠지.동생에게 무슨 일이 생겼을까봐 불안하시군요.응. 엄마 아빠도 다 연락이 안 된대.별일 없이 동생분과 연락이 되길 바라요.', '나는 지금 여자친구가 너무 좋은데 자꾸 남의 시선을 의식하게 돼.다른 사람의 시선이 신경쓰여서 스트레스 받으시는군요.여자친구에게만 온전히 집중하고 싶은데 그러지 못하니 너무 짜증 나요.어떤 점이 그렇게 느끼게 하나요?여자친구는 예쁜데 나는 그만큼 못 미치는 것 같아서 다른 사람들 시선이 두려워.외모에 관한 다른 사람들의 평가가 두려우시군요.', '빨리 좋아하는 사람에게 고백하고 싶어서 안달이 나.좋아하는 사람이 다른 사람을 만날까봐 초조하시군요.얼른 고백해서 내 여자친구로 만들고 싶어.그 친구를 좋아하는 마음이 크신 것 같아요.일단 지금보다는 우리의 사이가 가까워져야 해.어서 그렇게 되기를 바라요.']\n"
          ],
          "name": "stdout"
        }
      ]
    },
    {
      "cell_type": "markdown",
      "metadata": {
        "id": "r1LusOb41dd5"
      },
      "source": [
        "- dev 데이터 불러오기"
      ]
    },
    {
      "cell_type": "code",
      "metadata": {
        "scrolled": false,
        "colab": {
          "base_uri": "https://localhost:8080/",
          "height": 0
        },
        "id": "2kjqH9i71dd5",
        "outputId": "f39a6a22-f58d-402f-cc22-de48a2900d36"
      },
      "source": [
        "# json 딕셔너리 파일에서 content 데이터만 추출\n",
        "\n",
        "valid_data = []\n",
        "valid_data_content = []\n",
        "valid_y = []\n",
        "\n",
        "# dev data - 대화내용 'content' & emotion 'type'불러오기\n",
        "\n",
        "with open(valid_path) as json_file:\n",
        "    json_data2 = json.load(json_file)\n",
        "\n",
        "    for j in json_data2: # i : dict\n",
        "        temp = (j.get('talk')).get('content')\n",
        "        \n",
        "        if '' not in temp:\n",
        "            valid_data.append(temp) # \"content\" 만\n",
        "            \n",
        "            valid_data_content.append(list(temp.values()))\n",
        "            \n",
        "            #for v1 in temp.values():\n",
        "            #    train_data_content += v1\n",
        "            \n",
        "            valid_y.append(((j.get('profile')).get('emotion')).get('type'))\n",
        "        \n",
        "        \n",
        "    print(valid_data[:5], type(valid_data[0]))\n",
        "    print()\n",
        "    print(valid_y[:5], type(train_y[0]))\n",
        "    print()\n",
        "    print(valid_data_content[:5], type(valid_data_content[0]))"
      ],
      "execution_count": 22,
      "outputs": [
        {
          "output_type": "stream",
          "text": [
            "[{'HS01': '노후준비 하기가 정말 어렵네.', 'SS01': '제일 걱정이 뭐세요?', 'HS02': '돈이 제일 문제야.', 'SS02': '지금 노후준비 하고 계신건가요?', 'HS03': '적금이나 저축을 하긴 했는데 얼마 안되니까 문제지.', 'SS03': '저축을 해도 금액적으로 액수가 적은것 같다고 생각하시는군요.'}, {'HS01': '나이가 드니까 건강이 걱정스러워. 친한 친구가 암에 걸렸거든.', 'SS01': '친구가 암에 걸려서 건강에 대한 걱정이 많아지셨군요. 혹시 지금 아픈 곳이 있으신가요?', 'HS02': '아니. 아픈 곳은 없는데 건강 걱정이 늘었지.', 'SS02': '혹시 이 문제로 상담할 만한 전문가가 주변에 계실까요?', 'HS03': '', 'SS03': ''}, {'HS01': '남자친구랑 십 년 가까이 만났는데 결혼적령기가 되니 결혼해도 될지 고민되네.', 'SS01': '결혼을 생각할 때 걱정되는 부분이 있는 건가요?', 'HS02': '좋은 부분도 많지만 술 마시는 날은 연락이 안되는 문제가 있어서 걱정이야.', 'SS02': '술 마시면 불안하게 걱정을 시키군요.', 'HS03': '이런 사람이랑 결혼을 해도 될까?', 'SS03': '남자친구와 걱정되는 부분에 대해 고민을 나눠보세요.'}, {'HS01': '걱정이 하나 있어.', 'SS01': '어떤 걱정인지 여쭤봐도 될까요?', 'HS02': '다들 새로운 친구를 잘 사귀는데 나만 아무도 만나지 못하는 것 같아.', 'SS02': '새로운 인간 관계를 맺지 못해 걱정이 되시나봐요.', 'HS03': '응. 이러다 나만 혼자가 될 것 같아 불안해.', 'SS03': '불안감을 많이 느끼고 계시군요.'}, {'HS01': '요즘 젊은 직원들은 도대체 이해할 수 없어', 'SS01': '직원들과 무슨일이 있으셨나봐요.', 'HS02': '왜이렇게 다들 느긋한지 일에 대해 제대로 하는 것도 없는것 같고 나만 안달난 기분이야.', 'SS02': '혼자만 마음이 급하신것 같아서 기분이 언짢아 보이시네요.', 'HS03': '', 'SS03': ''}] <class 'dict'>\n",
            "\n",
            "['E37', 'E37', 'E37', 'E37', 'E37'] <class 'str'>\n",
            "\n",
            "[['노후준비 하기가 정말 어렵네.', '제일 걱정이 뭐세요?', '돈이 제일 문제야.', '지금 노후준비 하고 계신건가요?', '적금이나 저축을 하긴 했는데 얼마 안되니까 문제지.', '저축을 해도 금액적으로 액수가 적은것 같다고 생각하시는군요.'], ['나이가 드니까 건강이 걱정스러워. 친한 친구가 암에 걸렸거든.', '친구가 암에 걸려서 건강에 대한 걱정이 많아지셨군요. 혹시 지금 아픈 곳이 있으신가요?', '아니. 아픈 곳은 없는데 건강 걱정이 늘었지.', '혹시 이 문제로 상담할 만한 전문가가 주변에 계실까요?', '', ''], ['남자친구랑 십 년 가까이 만났는데 결혼적령기가 되니 결혼해도 될지 고민되네.', '결혼을 생각할 때 걱정되는 부분이 있는 건가요?', '좋은 부분도 많지만 술 마시는 날은 연락이 안되는 문제가 있어서 걱정이야.', '술 마시면 불안하게 걱정을 시키군요.', '이런 사람이랑 결혼을 해도 될까?', '남자친구와 걱정되는 부분에 대해 고민을 나눠보세요.'], ['걱정이 하나 있어.', '어떤 걱정인지 여쭤봐도 될까요?', '다들 새로운 친구를 잘 사귀는데 나만 아무도 만나지 못하는 것 같아.', '새로운 인간 관계를 맺지 못해 걱정이 되시나봐요.', '응. 이러다 나만 혼자가 될 것 같아 불안해.', '불안감을 많이 느끼고 계시군요.'], ['요즘 젊은 직원들은 도대체 이해할 수 없어', '직원들과 무슨일이 있으셨나봐요.', '왜이렇게 다들 느긋한지 일에 대해 제대로 하는 것도 없는것 같고 나만 안달난 기분이야.', '혼자만 마음이 급하신것 같아서 기분이 언짢아 보이시네요.', '', '']] <class 'list'>\n"
          ],
          "name": "stdout"
        }
      ]
    },
    {
      "cell_type": "code",
      "metadata": {
        "colab": {
          "base_uri": "https://localhost:8080/",
          "height": 0
        },
        "id": "Nt0IY8OP1dd5",
        "outputId": "3651566d-f03a-4f23-9e17-73e55e526ce7"
      },
      "source": [
        "print(type(valid_data_content[0]))"
      ],
      "execution_count": 23,
      "outputs": [
        {
          "output_type": "stream",
          "text": [
            "<class 'list'>\n"
          ],
          "name": "stdout"
        }
      ]
    },
    {
      "cell_type": "code",
      "metadata": {
        "scrolled": true,
        "colab": {
          "base_uri": "https://localhost:8080/",
          "height": 0
        },
        "id": "KNNXNkDf1dd6",
        "outputId": "b9a99ac3-0377-4178-d2de-2e70bc3edaf5"
      },
      "source": [
        "print(type(valid_data_content[0][0]))"
      ],
      "execution_count": 24,
      "outputs": [
        {
          "output_type": "stream",
          "text": [
            "<class 'str'>\n"
          ],
          "name": "stdout"
        }
      ]
    },
    {
      "cell_type": "code",
      "metadata": {
        "id": "ONdoo3Jj1dd6"
      },
      "source": [
        "# dev_data_content list -> str 로 이어붙이기\n",
        "valid_data_content2 = []\n",
        "\n",
        "for idx in range(len(valid_data_content)):\n",
        "    valid_data_content2.append('')\n",
        "    \n",
        "    for elem in valid_data_content[idx]:\n",
        "        valid_data_content2[idx] += elem\n",
        "    "
      ],
      "execution_count": 25,
      "outputs": []
    },
    {
      "cell_type": "code",
      "metadata": {
        "colab": {
          "base_uri": "https://localhost:8080/",
          "height": 0
        },
        "id": "R6pLW_SA1dd6",
        "outputId": "a93f4f8e-764b-4184-b95c-530765c8b853"
      },
      "source": [
        "print(valid_data_content2[:5], type(valid_data_content2[0]), type(valid_data_content2[0][0])) # okay !"
      ],
      "execution_count": 26,
      "outputs": [
        {
          "output_type": "stream",
          "text": [
            "['노후준비 하기가 정말 어렵네.제일 걱정이 뭐세요?돈이 제일 문제야.지금 노후준비 하고 계신건가요?적금이나 저축을 하긴 했는데 얼마 안되니까 문제지.저축을 해도 금액적으로 액수가 적은것 같다고 생각하시는군요.', '나이가 드니까 건강이 걱정스러워. 친한 친구가 암에 걸렸거든.친구가 암에 걸려서 건강에 대한 걱정이 많아지셨군요. 혹시 지금 아픈 곳이 있으신가요?아니. 아픈 곳은 없는데 건강 걱정이 늘었지.혹시 이 문제로 상담할 만한 전문가가 주변에 계실까요?', '남자친구랑 십 년 가까이 만났는데 결혼적령기가 되니 결혼해도 될지 고민되네.결혼을 생각할 때 걱정되는 부분이 있는 건가요?좋은 부분도 많지만 술 마시는 날은 연락이 안되는 문제가 있어서 걱정이야.술 마시면 불안하게 걱정을 시키군요.이런 사람이랑 결혼을 해도 될까?남자친구와 걱정되는 부분에 대해 고민을 나눠보세요.', '걱정이 하나 있어.어떤 걱정인지 여쭤봐도 될까요?다들 새로운 친구를 잘 사귀는데 나만 아무도 만나지 못하는 것 같아.새로운 인간 관계를 맺지 못해 걱정이 되시나봐요.응. 이러다 나만 혼자가 될 것 같아 불안해.불안감을 많이 느끼고 계시군요.', '요즘 젊은 직원들은 도대체 이해할 수 없어직원들과 무슨일이 있으셨나봐요.왜이렇게 다들 느긋한지 일에 대해 제대로 하는 것도 없는것 같고 나만 안달난 기분이야.혼자만 마음이 급하신것 같아서 기분이 언짢아 보이시네요.'] <class 'str'> <class 'str'>\n"
          ],
          "name": "stdout"
        }
      ]
    },
    {
      "cell_type": "code",
      "metadata": {
        "colab": {
          "base_uri": "https://localhost:8080/",
          "height": 0
        },
        "id": "vwton5uJ1dd7",
        "outputId": "a6e2f307-db95-46a2-cade-499cefc43876"
      },
      "source": [
        "valid_y[:100]"
      ],
      "execution_count": 27,
      "outputs": [
        {
          "output_type": "execute_result",
          "data": {
            "text/plain": [
              "['E37',\n",
              " 'E37',\n",
              " 'E37',\n",
              " 'E37',\n",
              " 'E37',\n",
              " 'E24',\n",
              " 'E31',\n",
              " 'E13',\n",
              " 'E24',\n",
              " 'E36',\n",
              " 'E19',\n",
              " 'E12',\n",
              " 'E31',\n",
              " 'E21',\n",
              " 'E11',\n",
              " 'E12',\n",
              " 'E43',\n",
              " 'E49',\n",
              " 'E43',\n",
              " 'E44',\n",
              " 'E39',\n",
              " 'E17',\n",
              " 'E37',\n",
              " 'E32',\n",
              " 'E44',\n",
              " 'E12',\n",
              " 'E53',\n",
              " 'E21',\n",
              " 'E12',\n",
              " 'E44',\n",
              " 'E48',\n",
              " 'E47',\n",
              " 'E13',\n",
              " 'E40',\n",
              " 'E61',\n",
              " 'E50',\n",
              " 'E61',\n",
              " 'E61',\n",
              " 'E61',\n",
              " 'E44',\n",
              " 'E61',\n",
              " 'E15',\n",
              " 'E26',\n",
              " 'E65',\n",
              " 'E59',\n",
              " 'E64',\n",
              " 'E43',\n",
              " 'E61',\n",
              " 'E67',\n",
              " 'E32',\n",
              " 'E28',\n",
              " 'E20',\n",
              " 'E47',\n",
              " 'E40',\n",
              " 'E21',\n",
              " 'E32',\n",
              " 'E20',\n",
              " 'E48',\n",
              " 'E64',\n",
              " 'E21',\n",
              " 'E57',\n",
              " 'E55',\n",
              " 'E17',\n",
              " 'E51',\n",
              " 'E34',\n",
              " 'E64',\n",
              " 'E39',\n",
              " 'E51',\n",
              " 'E48',\n",
              " 'E13',\n",
              " 'E18',\n",
              " 'E58',\n",
              " 'E35',\n",
              " 'E64',\n",
              " 'E34',\n",
              " 'E55',\n",
              " 'E23',\n",
              " 'E24',\n",
              " 'E49',\n",
              " 'E48',\n",
              " 'E63',\n",
              " 'E42',\n",
              " 'E53',\n",
              " 'E61',\n",
              " 'E50',\n",
              " 'E39',\n",
              " 'E26',\n",
              " 'E68',\n",
              " 'E68',\n",
              " 'E23',\n",
              " 'E12',\n",
              " 'E59',\n",
              " 'E26',\n",
              " 'E36',\n",
              " 'E27',\n",
              " 'E19',\n",
              " 'E65',\n",
              " 'E17',\n",
              " 'E34',\n",
              " 'E22']"
            ]
          },
          "metadata": {
            "tags": []
          },
          "execution_count": 27
        }
      ]
    },
    {
      "cell_type": "code",
      "metadata": {
        "colab": {
          "base_uri": "https://localhost:8080/",
          "height": 0
        },
        "id": "MzGplrN61dd7",
        "outputId": "392a506b-a88f-4c2e-8a3d-0ff8a7ff61b3"
      },
      "source": [
        "len(valid_data_content2) # 총 1717 번의 주고 받은 대화"
      ],
      "execution_count": 28,
      "outputs": [
        {
          "output_type": "execute_result",
          "data": {
            "text/plain": [
              "1717"
            ]
          },
          "metadata": {
            "tags": []
          },
          "execution_count": 28
        }
      ]
    },
    {
      "cell_type": "code",
      "metadata": {
        "colab": {
          "base_uri": "https://localhost:8080/",
          "height": 0
        },
        "id": "FaHUR1yu1dd7",
        "outputId": "6c0b3fdf-a819-45c7-93c2-901ed8badffa"
      },
      "source": [
        "# 대화 없는 발화 체크 (sanity check) -> okay !\n",
        "count = 0\n",
        "\n",
        "for n in valid_data_content2:\n",
        "    if n == '':\n",
        "        count += 1\n",
        "    \n",
        "print(count) # okay !"
      ],
      "execution_count": 29,
      "outputs": [
        {
          "output_type": "stream",
          "text": [
            "0\n"
          ],
          "name": "stdout"
        }
      ]
    },
    {
      "cell_type": "code",
      "metadata": {
        "colab": {
          "base_uri": "https://localhost:8080/",
          "height": 0
        },
        "id": "RBvNZ1b61dd8",
        "outputId": "013e53b5-ce9e-4e5c-86cf-be2e5c41b269"
      },
      "source": [
        "# content 길이 간단한 EDA (train 데이터)\n",
        "\n",
        "train_data_content_len = []\n",
        "for a in train_data_content2:\n",
        "    train_data_content_len.append(len(a))\n",
        "\n",
        "train_data_content_len[:10]"
      ],
      "execution_count": 30,
      "outputs": [
        {
          "output_type": "execute_result",
          "data": {
            "text/plain": [
              "[122, 128, 128, 148, 173, 170, 161, 209, 108, 192]"
            ]
          },
          "metadata": {
            "tags": []
          },
          "execution_count": 30
        }
      ]
    },
    {
      "cell_type": "code",
      "metadata": {
        "colab": {
          "base_uri": "https://localhost:8080/",
          "height": 0
        },
        "id": "ovdMmMD41dd8",
        "outputId": "220b9c48-8e6c-44f1-d6bb-80412b541936"
      },
      "source": [
        "train_data_content_len = np.array(train_data_content_len)\n",
        "\n",
        "print(train_data_content_len.mean(),\n",
        "train_data_content_len.min(),\n",
        "train_data_content_len.max()) # 최대 495 음절"
      ],
      "execution_count": 31,
      "outputs": [
        {
          "output_type": "stream",
          "text": [
            "167.71532339565437 37 495\n"
          ],
          "name": "stdout"
        }
      ]
    },
    {
      "cell_type": "code",
      "metadata": {
        "colab": {
          "base_uri": "https://localhost:8080/",
          "height": 0
        },
        "id": "bWccvRw61dd8",
        "outputId": "518e4a7c-0212-4aaf-88d6-286ead1a47b1"
      },
      "source": [
        "# content 길이 간단한 EDA (valid 데이터)\n",
        "\n",
        "valid_data_content_len = []\n",
        "for a in valid_data_content2:\n",
        "    valid_data_content_len.append(len(a))\n",
        "\n",
        "valid_data_content_len[:10]"
      ],
      "execution_count": 32,
      "outputs": [
        {
          "output_type": "execute_result",
          "data": {
            "text/plain": [
              "[115, 137, 175, 134, 119, 93, 129, 144, 151, 156]"
            ]
          },
          "metadata": {
            "tags": []
          },
          "execution_count": 32
        }
      ]
    },
    {
      "cell_type": "code",
      "metadata": {
        "colab": {
          "base_uri": "https://localhost:8080/",
          "height": 0
        },
        "id": "iofhQY6G1dd9",
        "outputId": "a1f6a0bf-58da-410e-df51-8ca56f73174f"
      },
      "source": [
        "valid_data_content_len = np.array(valid_data_content_len)\n",
        "\n",
        "print(valid_data_content_len.mean(),\n",
        "valid_data_content_len.min(),\n",
        "valid_data_content_len.max()) # 최대 421 음절"
      ],
      "execution_count": 33,
      "outputs": [
        {
          "output_type": "stream",
          "text": [
            "167.10017472335468 46 421\n"
          ],
          "name": "stdout"
        }
      ]
    },
    {
      "cell_type": "code",
      "metadata": {
        "scrolled": false,
        "colab": {
          "base_uri": "https://localhost:8080/",
          "height": 0
        },
        "id": "hORvbI0q1dd9",
        "outputId": "3e73fb0c-603b-430a-c130-681d76fda826"
      },
      "source": [
        "print(len(train_y), len(valid_y))"
      ],
      "execution_count": 34,
      "outputs": [
        {
          "output_type": "stream",
          "text": [
            "15832 1717\n"
          ],
          "name": "stdout"
        }
      ]
    },
    {
      "cell_type": "code",
      "metadata": {
        "colab": {
          "base_uri": "https://localhost:8080/",
          "height": 0
        },
        "id": "kF-uNLOb1dd9",
        "outputId": "e2b7563f-e34e-4edf-c073-9c1e4f3ee44f"
      },
      "source": [
        "type(train_y) # 원래 => list"
      ],
      "execution_count": 35,
      "outputs": [
        {
          "output_type": "execute_result",
          "data": {
            "text/plain": [
              "list"
            ]
          },
          "metadata": {
            "tags": []
          },
          "execution_count": 35
        }
      ]
    },
    {
      "cell_type": "code",
      "metadata": {
        "colab": {
          "base_uri": "https://localhost:8080/",
          "height": 0
        },
        "id": "TUqI9SwZ1dd-",
        "outputId": "cb66d286-c26f-4fcb-d1ac-4f4940d26606"
      },
      "source": [
        "type(train_y[0])"
      ],
      "execution_count": 36,
      "outputs": [
        {
          "output_type": "execute_result",
          "data": {
            "text/plain": [
              "str"
            ]
          },
          "metadata": {
            "tags": []
          },
          "execution_count": 36
        }
      ]
    },
    {
      "cell_type": "markdown",
      "metadata": {
        "id": "vVo9uRXX1dd-"
      },
      "source": [
        "# 감정분류표에 맞게 class label 값 숫자로 치환 (0~59)"
      ]
    },
    {
      "cell_type": "code",
      "metadata": {
        "id": "FLqs60cn1dd-"
      },
      "source": [
        "# 소 분류\n",
        "emotion_code = {f'E{i+10}': i for i in range(60)}"
      ],
      "execution_count": 47,
      "outputs": []
    },
    {
      "cell_type": "code",
      "metadata": {
        "id": "OIWkCG2l1dd-"
      },
      "source": [
        "# train\n",
        "train_labels = []\n",
        "for elem1 in train_y:\n",
        "    for k, v in emotion_code.items():\n",
        "        if elem1 == k:\n",
        "            train_labels.append(v)\n",
        "            #print(elem1)"
      ],
      "execution_count": 48,
      "outputs": []
    },
    {
      "cell_type": "code",
      "metadata": {
        "id": "l5jHLhda1dd_"
      },
      "source": [
        "# valid\n",
        "validation_labels = []\n",
        "for elem2 in valid_y:\n",
        "    for k, v in emotion_code.items():\n",
        "        if elem2 == k:\n",
        "            validation_labels.append(v)"
      ],
      "execution_count": 49,
      "outputs": []
    },
    {
      "cell_type": "code",
      "metadata": {
        "colab": {
          "base_uri": "https://localhost:8080/",
          "height": 0
        },
        "id": "UQzPLS9o1dd_",
        "outputId": "40d01f54-cd42-4572-f60c-d69b60509c2e"
      },
      "source": [
        "print(train_labels[:10])\n",
        "print(validation_labels[:10])"
      ],
      "execution_count": 50,
      "outputs": [
        {
          "output_type": "stream",
          "text": [
            "[27, 27, 27, 27, 27, 27, 27, 27, 27, 27]\n",
            "[27, 27, 27, 27, 27, 14, 21, 3, 14, 26]\n"
          ],
          "name": "stdout"
        }
      ]
    },
    {
      "cell_type": "code",
      "metadata": {
        "colab": {
          "base_uri": "https://localhost:8080/",
          "height": 0
        },
        "id": "EjUKPt3I1dd_",
        "outputId": "53e25a13-7c78-4e7e-efb8-9e3bbff22188"
      },
      "source": [
        "print(len(train_labels), len(validation_labels)) # okay !"
      ],
      "execution_count": 51,
      "outputs": [
        {
          "output_type": "stream",
          "text": [
            "15832 1717\n"
          ],
          "name": "stdout"
        }
      ]
    },
    {
      "cell_type": "code",
      "metadata": {
        "colab": {
          "base_uri": "https://localhost:8080/",
          "height": 0
        },
        "id": "hWFfihgw1dd_",
        "outputId": "26225ac6-7767-4fd1-c6a3-20ddc02b0736"
      },
      "source": [
        "# 대 분류\n",
        "import math\n",
        "\n",
        "large_emotion_code = {f'E{i+10}': math.floor(i//10) for i in range(60)}\n",
        "print(large_emotion_code)"
      ],
      "execution_count": 52,
      "outputs": [
        {
          "output_type": "stream",
          "text": [
            "{'E10': 0, 'E11': 0, 'E12': 0, 'E13': 0, 'E14': 0, 'E15': 0, 'E16': 0, 'E17': 0, 'E18': 0, 'E19': 0, 'E20': 1, 'E21': 1, 'E22': 1, 'E23': 1, 'E24': 1, 'E25': 1, 'E26': 1, 'E27': 1, 'E28': 1, 'E29': 1, 'E30': 2, 'E31': 2, 'E32': 2, 'E33': 2, 'E34': 2, 'E35': 2, 'E36': 2, 'E37': 2, 'E38': 2, 'E39': 2, 'E40': 3, 'E41': 3, 'E42': 3, 'E43': 3, 'E44': 3, 'E45': 3, 'E46': 3, 'E47': 3, 'E48': 3, 'E49': 3, 'E50': 4, 'E51': 4, 'E52': 4, 'E53': 4, 'E54': 4, 'E55': 4, 'E56': 4, 'E57': 4, 'E58': 4, 'E59': 4, 'E60': 5, 'E61': 5, 'E62': 5, 'E63': 5, 'E64': 5, 'E65': 5, 'E66': 5, 'E67': 5, 'E68': 5, 'E69': 5}\n"
          ],
          "name": "stdout"
        }
      ]
    },
    {
      "cell_type": "code",
      "metadata": {
        "id": "0OBbE_ne1deA"
      },
      "source": [
        "# train\n",
        "train_labels_large = []\n",
        "for elem1 in train_y:\n",
        "    for k, v in large_emotion_code.items():\n",
        "        if elem1 == k:\n",
        "            train_labels_large.append(v)\n",
        "            #print(elem1)"
      ],
      "execution_count": 53,
      "outputs": []
    },
    {
      "cell_type": "code",
      "metadata": {
        "id": "FfeKIqXf1deB"
      },
      "source": [
        "# valid\n",
        "validation_labels_large = []\n",
        "for elem2 in valid_y:\n",
        "    for k, v in large_emotion_code.items():\n",
        "        if elem2 == k:\n",
        "            validation_labels_large.append(v)"
      ],
      "execution_count": 54,
      "outputs": []
    },
    {
      "cell_type": "code",
      "metadata": {
        "scrolled": true,
        "colab": {
          "base_uri": "https://localhost:8080/",
          "height": 0
        },
        "id": "9yGi1iH41deC",
        "outputId": "3f290dec-bc7d-4c2b-84d0-e0ddf0d3ee9e"
      },
      "source": [
        "print(train_labels_large[:10])\n",
        "print(validation_labels_large[:10])"
      ],
      "execution_count": 55,
      "outputs": [
        {
          "output_type": "stream",
          "text": [
            "[2, 2, 2, 2, 2, 2, 2, 2, 2, 2]\n",
            "[2, 2, 2, 2, 2, 1, 2, 0, 1, 2]\n"
          ],
          "name": "stdout"
        }
      ]
    },
    {
      "cell_type": "code",
      "metadata": {
        "colab": {
          "base_uri": "https://localhost:8080/",
          "height": 0
        },
        "id": "zfJFETWa1deC",
        "outputId": "c633530a-a5ac-450a-a452-0192faaa9dbc"
      },
      "source": [
        "print(len(train_labels_large), len(validation_labels_large)) # okay !"
      ],
      "execution_count": 56,
      "outputs": [
        {
          "output_type": "stream",
          "text": [
            "15832 1717\n"
          ],
          "name": "stdout"
        }
      ]
    },
    {
      "cell_type": "markdown",
      "metadata": {
        "id": "H5Ys61nC1deD"
      },
      "source": [
        "# y_data categorical 인코딩"
      ]
    },
    {
      "cell_type": "code",
      "metadata": {
        "id": "wMiyLOLV1deE"
      },
      "source": [
        "## 소 분류"
      ],
      "execution_count": 57,
      "outputs": []
    },
    {
      "cell_type": "code",
      "metadata": {
        "colab": {
          "base_uri": "https://localhost:8080/",
          "height": 0
        },
        "id": "_WWF0QyK1deE",
        "outputId": "265ec677-99db-4f36-a31c-a3749409b9ee"
      },
      "source": [
        "train_labels = to_categorical(train_labels)\n",
        "train_labels.shape"
      ],
      "execution_count": 58,
      "outputs": [
        {
          "output_type": "execute_result",
          "data": {
            "text/plain": [
              "(15832, 60)"
            ]
          },
          "metadata": {
            "tags": []
          },
          "execution_count": 58
        }
      ]
    },
    {
      "cell_type": "code",
      "metadata": {
        "colab": {
          "base_uri": "https://localhost:8080/",
          "height": 0
        },
        "id": "fN01JrUj1deE",
        "outputId": "36a5a45b-07ff-4574-9d21-88d55ddee5b2"
      },
      "source": [
        "validation_labels = to_categorical(validation_labels)\n",
        "validation_labels.shape"
      ],
      "execution_count": 59,
      "outputs": [
        {
          "output_type": "execute_result",
          "data": {
            "text/plain": [
              "(1717, 60)"
            ]
          },
          "metadata": {
            "tags": []
          },
          "execution_count": 59
        }
      ]
    },
    {
      "cell_type": "code",
      "metadata": {
        "colab": {
          "base_uri": "https://localhost:8080/",
          "height": 0
        },
        "id": "wmlI_dhM1deF",
        "outputId": "5c4feca8-09ce-4bbf-d95b-59af50bfa077"
      },
      "source": [
        "train_labels[:10]"
      ],
      "execution_count": 60,
      "outputs": [
        {
          "output_type": "execute_result",
          "data": {
            "text/plain": [
              "array([[0., 0., 0., 0., 0., 0., 0., 0., 0., 0., 0., 0., 0., 0., 0., 0.,\n",
              "        0., 0., 0., 0., 0., 0., 0., 0., 0., 0., 0., 1., 0., 0., 0., 0.,\n",
              "        0., 0., 0., 0., 0., 0., 0., 0., 0., 0., 0., 0., 0., 0., 0., 0.,\n",
              "        0., 0., 0., 0., 0., 0., 0., 0., 0., 0., 0., 0.],\n",
              "       [0., 0., 0., 0., 0., 0., 0., 0., 0., 0., 0., 0., 0., 0., 0., 0.,\n",
              "        0., 0., 0., 0., 0., 0., 0., 0., 0., 0., 0., 1., 0., 0., 0., 0.,\n",
              "        0., 0., 0., 0., 0., 0., 0., 0., 0., 0., 0., 0., 0., 0., 0., 0.,\n",
              "        0., 0., 0., 0., 0., 0., 0., 0., 0., 0., 0., 0.],\n",
              "       [0., 0., 0., 0., 0., 0., 0., 0., 0., 0., 0., 0., 0., 0., 0., 0.,\n",
              "        0., 0., 0., 0., 0., 0., 0., 0., 0., 0., 0., 1., 0., 0., 0., 0.,\n",
              "        0., 0., 0., 0., 0., 0., 0., 0., 0., 0., 0., 0., 0., 0., 0., 0.,\n",
              "        0., 0., 0., 0., 0., 0., 0., 0., 0., 0., 0., 0.],\n",
              "       [0., 0., 0., 0., 0., 0., 0., 0., 0., 0., 0., 0., 0., 0., 0., 0.,\n",
              "        0., 0., 0., 0., 0., 0., 0., 0., 0., 0., 0., 1., 0., 0., 0., 0.,\n",
              "        0., 0., 0., 0., 0., 0., 0., 0., 0., 0., 0., 0., 0., 0., 0., 0.,\n",
              "        0., 0., 0., 0., 0., 0., 0., 0., 0., 0., 0., 0.],\n",
              "       [0., 0., 0., 0., 0., 0., 0., 0., 0., 0., 0., 0., 0., 0., 0., 0.,\n",
              "        0., 0., 0., 0., 0., 0., 0., 0., 0., 0., 0., 1., 0., 0., 0., 0.,\n",
              "        0., 0., 0., 0., 0., 0., 0., 0., 0., 0., 0., 0., 0., 0., 0., 0.,\n",
              "        0., 0., 0., 0., 0., 0., 0., 0., 0., 0., 0., 0.],\n",
              "       [0., 0., 0., 0., 0., 0., 0., 0., 0., 0., 0., 0., 0., 0., 0., 0.,\n",
              "        0., 0., 0., 0., 0., 0., 0., 0., 0., 0., 0., 1., 0., 0., 0., 0.,\n",
              "        0., 0., 0., 0., 0., 0., 0., 0., 0., 0., 0., 0., 0., 0., 0., 0.,\n",
              "        0., 0., 0., 0., 0., 0., 0., 0., 0., 0., 0., 0.],\n",
              "       [0., 0., 0., 0., 0., 0., 0., 0., 0., 0., 0., 0., 0., 0., 0., 0.,\n",
              "        0., 0., 0., 0., 0., 0., 0., 0., 0., 0., 0., 1., 0., 0., 0., 0.,\n",
              "        0., 0., 0., 0., 0., 0., 0., 0., 0., 0., 0., 0., 0., 0., 0., 0.,\n",
              "        0., 0., 0., 0., 0., 0., 0., 0., 0., 0., 0., 0.],\n",
              "       [0., 0., 0., 0., 0., 0., 0., 0., 0., 0., 0., 0., 0., 0., 0., 0.,\n",
              "        0., 0., 0., 0., 0., 0., 0., 0., 0., 0., 0., 1., 0., 0., 0., 0.,\n",
              "        0., 0., 0., 0., 0., 0., 0., 0., 0., 0., 0., 0., 0., 0., 0., 0.,\n",
              "        0., 0., 0., 0., 0., 0., 0., 0., 0., 0., 0., 0.],\n",
              "       [0., 0., 0., 0., 0., 0., 0., 0., 0., 0., 0., 0., 0., 0., 0., 0.,\n",
              "        0., 0., 0., 0., 0., 0., 0., 0., 0., 0., 0., 1., 0., 0., 0., 0.,\n",
              "        0., 0., 0., 0., 0., 0., 0., 0., 0., 0., 0., 0., 0., 0., 0., 0.,\n",
              "        0., 0., 0., 0., 0., 0., 0., 0., 0., 0., 0., 0.],\n",
              "       [0., 0., 0., 0., 0., 0., 0., 0., 0., 0., 0., 0., 0., 0., 0., 0.,\n",
              "        0., 0., 0., 0., 0., 0., 0., 0., 0., 0., 0., 1., 0., 0., 0., 0.,\n",
              "        0., 0., 0., 0., 0., 0., 0., 0., 0., 0., 0., 0., 0., 0., 0., 0.,\n",
              "        0., 0., 0., 0., 0., 0., 0., 0., 0., 0., 0., 0.]], dtype=float32)"
            ]
          },
          "metadata": {
            "tags": []
          },
          "execution_count": 60
        }
      ]
    },
    {
      "cell_type": "code",
      "metadata": {
        "colab": {
          "base_uri": "https://localhost:8080/",
          "height": 0
        },
        "id": "tm3I5DDx1deF",
        "outputId": "ffe2b847-7ba4-4bba-b35d-ce1c1306c2d1"
      },
      "source": [
        "validation_labels[:10]"
      ],
      "execution_count": 61,
      "outputs": [
        {
          "output_type": "execute_result",
          "data": {
            "text/plain": [
              "array([[0., 0., 0., 0., 0., 0., 0., 0., 0., 0., 0., 0., 0., 0., 0., 0.,\n",
              "        0., 0., 0., 0., 0., 0., 0., 0., 0., 0., 0., 1., 0., 0., 0., 0.,\n",
              "        0., 0., 0., 0., 0., 0., 0., 0., 0., 0., 0., 0., 0., 0., 0., 0.,\n",
              "        0., 0., 0., 0., 0., 0., 0., 0., 0., 0., 0., 0.],\n",
              "       [0., 0., 0., 0., 0., 0., 0., 0., 0., 0., 0., 0., 0., 0., 0., 0.,\n",
              "        0., 0., 0., 0., 0., 0., 0., 0., 0., 0., 0., 1., 0., 0., 0., 0.,\n",
              "        0., 0., 0., 0., 0., 0., 0., 0., 0., 0., 0., 0., 0., 0., 0., 0.,\n",
              "        0., 0., 0., 0., 0., 0., 0., 0., 0., 0., 0., 0.],\n",
              "       [0., 0., 0., 0., 0., 0., 0., 0., 0., 0., 0., 0., 0., 0., 0., 0.,\n",
              "        0., 0., 0., 0., 0., 0., 0., 0., 0., 0., 0., 1., 0., 0., 0., 0.,\n",
              "        0., 0., 0., 0., 0., 0., 0., 0., 0., 0., 0., 0., 0., 0., 0., 0.,\n",
              "        0., 0., 0., 0., 0., 0., 0., 0., 0., 0., 0., 0.],\n",
              "       [0., 0., 0., 0., 0., 0., 0., 0., 0., 0., 0., 0., 0., 0., 0., 0.,\n",
              "        0., 0., 0., 0., 0., 0., 0., 0., 0., 0., 0., 1., 0., 0., 0., 0.,\n",
              "        0., 0., 0., 0., 0., 0., 0., 0., 0., 0., 0., 0., 0., 0., 0., 0.,\n",
              "        0., 0., 0., 0., 0., 0., 0., 0., 0., 0., 0., 0.],\n",
              "       [0., 0., 0., 0., 0., 0., 0., 0., 0., 0., 0., 0., 0., 0., 0., 0.,\n",
              "        0., 0., 0., 0., 0., 0., 0., 0., 0., 0., 0., 1., 0., 0., 0., 0.,\n",
              "        0., 0., 0., 0., 0., 0., 0., 0., 0., 0., 0., 0., 0., 0., 0., 0.,\n",
              "        0., 0., 0., 0., 0., 0., 0., 0., 0., 0., 0., 0.],\n",
              "       [0., 0., 0., 0., 0., 0., 0., 0., 0., 0., 0., 0., 0., 0., 1., 0.,\n",
              "        0., 0., 0., 0., 0., 0., 0., 0., 0., 0., 0., 0., 0., 0., 0., 0.,\n",
              "        0., 0., 0., 0., 0., 0., 0., 0., 0., 0., 0., 0., 0., 0., 0., 0.,\n",
              "        0., 0., 0., 0., 0., 0., 0., 0., 0., 0., 0., 0.],\n",
              "       [0., 0., 0., 0., 0., 0., 0., 0., 0., 0., 0., 0., 0., 0., 0., 0.,\n",
              "        0., 0., 0., 0., 0., 1., 0., 0., 0., 0., 0., 0., 0., 0., 0., 0.,\n",
              "        0., 0., 0., 0., 0., 0., 0., 0., 0., 0., 0., 0., 0., 0., 0., 0.,\n",
              "        0., 0., 0., 0., 0., 0., 0., 0., 0., 0., 0., 0.],\n",
              "       [0., 0., 0., 1., 0., 0., 0., 0., 0., 0., 0., 0., 0., 0., 0., 0.,\n",
              "        0., 0., 0., 0., 0., 0., 0., 0., 0., 0., 0., 0., 0., 0., 0., 0.,\n",
              "        0., 0., 0., 0., 0., 0., 0., 0., 0., 0., 0., 0., 0., 0., 0., 0.,\n",
              "        0., 0., 0., 0., 0., 0., 0., 0., 0., 0., 0., 0.],\n",
              "       [0., 0., 0., 0., 0., 0., 0., 0., 0., 0., 0., 0., 0., 0., 1., 0.,\n",
              "        0., 0., 0., 0., 0., 0., 0., 0., 0., 0., 0., 0., 0., 0., 0., 0.,\n",
              "        0., 0., 0., 0., 0., 0., 0., 0., 0., 0., 0., 0., 0., 0., 0., 0.,\n",
              "        0., 0., 0., 0., 0., 0., 0., 0., 0., 0., 0., 0.],\n",
              "       [0., 0., 0., 0., 0., 0., 0., 0., 0., 0., 0., 0., 0., 0., 0., 0.,\n",
              "        0., 0., 0., 0., 0., 0., 0., 0., 0., 0., 1., 0., 0., 0., 0., 0.,\n",
              "        0., 0., 0., 0., 0., 0., 0., 0., 0., 0., 0., 0., 0., 0., 0., 0.,\n",
              "        0., 0., 0., 0., 0., 0., 0., 0., 0., 0., 0., 0.]], dtype=float32)"
            ]
          },
          "metadata": {
            "tags": []
          },
          "execution_count": 61
        }
      ]
    },
    {
      "cell_type": "code",
      "metadata": {
        "id": "knysjJJa1deF"
      },
      "source": [
        "## 대 분류"
      ],
      "execution_count": 62,
      "outputs": []
    },
    {
      "cell_type": "code",
      "metadata": {
        "colab": {
          "base_uri": "https://localhost:8080/",
          "height": 0
        },
        "id": "s5xvyuh81deF",
        "outputId": "363ae096-48b9-4918-b1ed-0f0c8fed61a3"
      },
      "source": [
        "train_labels_large = to_categorical(train_labels_large)\n",
        "train_labels_large.shape"
      ],
      "execution_count": 63,
      "outputs": [
        {
          "output_type": "execute_result",
          "data": {
            "text/plain": [
              "(15832, 6)"
            ]
          },
          "metadata": {
            "tags": []
          },
          "execution_count": 63
        }
      ]
    },
    {
      "cell_type": "code",
      "metadata": {
        "scrolled": true,
        "colab": {
          "base_uri": "https://localhost:8080/",
          "height": 0
        },
        "id": "1HFyZzCh1deG",
        "outputId": "75e1c12b-3a1a-4e42-ad1f-cd66727bf8ef"
      },
      "source": [
        "validation_labels_large = to_categorical(validation_labels_large)\n",
        "validation_labels_large.shape"
      ],
      "execution_count": 64,
      "outputs": [
        {
          "output_type": "execute_result",
          "data": {
            "text/plain": [
              "(1717, 6)"
            ]
          },
          "metadata": {
            "tags": []
          },
          "execution_count": 64
        }
      ]
    },
    {
      "cell_type": "code",
      "metadata": {
        "colab": {
          "base_uri": "https://localhost:8080/",
          "height": 0
        },
        "id": "VapOlZQL1deG",
        "outputId": "fd785c12-b838-4d9b-bc8f-52a31add17b2"
      },
      "source": [
        "train_labels_large[:10]"
      ],
      "execution_count": 65,
      "outputs": [
        {
          "output_type": "execute_result",
          "data": {
            "text/plain": [
              "array([[0., 0., 1., 0., 0., 0.],\n",
              "       [0., 0., 1., 0., 0., 0.],\n",
              "       [0., 0., 1., 0., 0., 0.],\n",
              "       [0., 0., 1., 0., 0., 0.],\n",
              "       [0., 0., 1., 0., 0., 0.],\n",
              "       [0., 0., 1., 0., 0., 0.],\n",
              "       [0., 0., 1., 0., 0., 0.],\n",
              "       [0., 0., 1., 0., 0., 0.],\n",
              "       [0., 0., 1., 0., 0., 0.],\n",
              "       [0., 0., 1., 0., 0., 0.]], dtype=float32)"
            ]
          },
          "metadata": {
            "tags": []
          },
          "execution_count": 65
        }
      ]
    },
    {
      "cell_type": "code",
      "metadata": {
        "colab": {
          "base_uri": "https://localhost:8080/",
          "height": 0
        },
        "id": "SvY3UziA1deG",
        "outputId": "732583a3-cc9b-456d-f993-652bc0871cb3"
      },
      "source": [
        "validation_labels_large[:10]"
      ],
      "execution_count": 66,
      "outputs": [
        {
          "output_type": "execute_result",
          "data": {
            "text/plain": [
              "array([[0., 0., 1., 0., 0., 0.],\n",
              "       [0., 0., 1., 0., 0., 0.],\n",
              "       [0., 0., 1., 0., 0., 0.],\n",
              "       [0., 0., 1., 0., 0., 0.],\n",
              "       [0., 0., 1., 0., 0., 0.],\n",
              "       [0., 1., 0., 0., 0., 0.],\n",
              "       [0., 0., 1., 0., 0., 0.],\n",
              "       [1., 0., 0., 0., 0., 0.],\n",
              "       [0., 1., 0., 0., 0., 0.],\n",
              "       [0., 0., 1., 0., 0., 0.]], dtype=float32)"
            ]
          },
          "metadata": {
            "tags": []
          },
          "execution_count": 66
        }
      ]
    },
    {
      "cell_type": "markdown",
      "metadata": {
        "id": "_E_AR-Wp1deH"
      },
      "source": [
        "# 데이터 전처리"
      ]
    },
    {
      "cell_type": "markdown",
      "metadata": {
        "id": "hdxsMySd1del"
      },
      "source": [
        "# Tokenizing"
      ]
    },
    {
      "cell_type": "markdown",
      "metadata": {
        "id": "Ir_uzJdW1del"
      },
      "source": [
        "- Albert Pretrain 시키기 - kobert(monologg) 사용"
      ]
    },
    {
      "cell_type": "code",
      "metadata": {
        "colab": {
          "base_uri": "https://localhost:8080/",
          "height": 0
        },
        "id": "G3JmCCmv1del",
        "outputId": "689a55a0-3103-4489-8011-a843e7e09adf"
      },
      "source": [
        "!pip install transformers"
      ],
      "execution_count": 70,
      "outputs": [
        {
          "output_type": "stream",
          "text": [
            "Collecting transformers\n",
            "\u001b[?25l  Downloading https://files.pythonhosted.org/packages/50/0c/7d5950fcd80b029be0a8891727ba21e0cd27692c407c51261c3c921f6da3/transformers-4.1.1-py3-none-any.whl (1.5MB)\n",
            "\u001b[K     |████████████████████████████████| 1.5MB 10.8MB/s \n",
            "\u001b[?25hRequirement already satisfied: dataclasses; python_version < \"3.7\" in /usr/local/lib/python3.6/dist-packages (from transformers) (0.8)\n",
            "Collecting sacremoses\n",
            "\u001b[?25l  Downloading https://files.pythonhosted.org/packages/7d/34/09d19aff26edcc8eb2a01bed8e98f13a1537005d31e95233fd48216eed10/sacremoses-0.0.43.tar.gz (883kB)\n",
            "\u001b[K     |████████████████████████████████| 890kB 32.1MB/s \n",
            "\u001b[?25hCollecting tokenizers==0.9.4\n",
            "\u001b[?25l  Downloading https://files.pythonhosted.org/packages/0f/1c/e789a8b12e28be5bc1ce2156cf87cb522b379be9cadc7ad8091a4cc107c4/tokenizers-0.9.4-cp36-cp36m-manylinux2010_x86_64.whl (2.9MB)\n",
            "\u001b[K     |████████████████████████████████| 2.9MB 39.7MB/s \n",
            "\u001b[?25hRequirement already satisfied: numpy in /usr/local/lib/python3.6/dist-packages (from transformers) (1.19.4)\n",
            "Requirement already satisfied: filelock in /usr/local/lib/python3.6/dist-packages (from transformers) (3.0.12)\n",
            "Requirement already satisfied: packaging in /usr/local/lib/python3.6/dist-packages (from transformers) (20.8)\n",
            "Requirement already satisfied: requests in /usr/local/lib/python3.6/dist-packages (from transformers) (2.23.0)\n",
            "Requirement already satisfied: tqdm>=4.27 in /usr/local/lib/python3.6/dist-packages (from transformers) (4.41.1)\n",
            "Requirement already satisfied: regex!=2019.12.17 in /usr/local/lib/python3.6/dist-packages (from transformers) (2019.12.20)\n",
            "Requirement already satisfied: six in /usr/local/lib/python3.6/dist-packages (from sacremoses->transformers) (1.15.0)\n",
            "Requirement already satisfied: click in /usr/local/lib/python3.6/dist-packages (from sacremoses->transformers) (7.1.2)\n",
            "Requirement already satisfied: joblib in /usr/local/lib/python3.6/dist-packages (from sacremoses->transformers) (1.0.0)\n",
            "Requirement already satisfied: pyparsing>=2.0.2 in /usr/local/lib/python3.6/dist-packages (from packaging->transformers) (2.4.7)\n",
            "Requirement already satisfied: idna<3,>=2.5 in /usr/local/lib/python3.6/dist-packages (from requests->transformers) (2.10)\n",
            "Requirement already satisfied: chardet<4,>=3.0.2 in /usr/local/lib/python3.6/dist-packages (from requests->transformers) (3.0.4)\n",
            "Requirement already satisfied: urllib3!=1.25.0,!=1.25.1,<1.26,>=1.21.1 in /usr/local/lib/python3.6/dist-packages (from requests->transformers) (1.24.3)\n",
            "Requirement already satisfied: certifi>=2017.4.17 in /usr/local/lib/python3.6/dist-packages (from requests->transformers) (2020.12.5)\n",
            "Building wheels for collected packages: sacremoses\n",
            "  Building wheel for sacremoses (setup.py) ... \u001b[?25l\u001b[?25hdone\n",
            "  Created wheel for sacremoses: filename=sacremoses-0.0.43-cp36-none-any.whl size=893261 sha256=7cfc4e79d9bfb8efae36c165915c70b90a60ae5a247d6b046bb9be3cef123af0\n",
            "  Stored in directory: /root/.cache/pip/wheels/29/3c/fd/7ce5c3f0666dab31a50123635e6fb5e19ceb42ce38d4e58f45\n",
            "Successfully built sacremoses\n",
            "Installing collected packages: sacremoses, tokenizers, transformers\n",
            "Successfully installed sacremoses-0.0.43 tokenizers-0.9.4 transformers-4.1.1\n"
          ],
          "name": "stdout"
        }
      ]
    },
    {
      "cell_type": "code",
      "metadata": {
        "colab": {
          "base_uri": "https://localhost:8080/",
          "height": 220,
          "referenced_widgets": [
            "8a159a272065432593676bc73cb6a541",
            "d06d244cc22248c2966305cc1acb71b8",
            "1a0bd4c0f2ce4f2ca090dfc2d92a458f",
            "42fb2de19d1d4062a205328084c0282f",
            "4f2e25656aa444e0b37bdfb564706522",
            "2c7cf02f74f3459581ff839d7a8f8793",
            "d60090453f9f45e3a62aec4b77bf1410",
            "221dbdf60b1f45cf900412af7cba3023",
            "1c96574ded5c4325a61cf4a16119748e",
            "60caac61efc14e1a99343135673e095a",
            "9b59bba562a24cc196ab420a088a8c3a",
            "13b811c89d574911955109fe94086063",
            "a18cfe04f1a04527a3e1f208278e15d3",
            "988743a209a64d6fb3d33f56097a7a31",
            "dc3b483dfc5944e68b6a13397c6bf6cc",
            "0df1d445dcab4a4eb25be373c8b3c844",
            "f788c6436bbe42c09b1c2bf84c48a53c",
            "aa5f2b1f777845ca9595bab747f652a4",
            "5a8cb5524ce6410d80d0ae55cf48a70e",
            "418a7a122e3f4ba4a6d41d7940204802",
            "f119bdd490be422da609d24d4f7e6e3c",
            "07bdbdc3ec5041f486310a082dcdfb83",
            "bf0731dcf06f404f8d573317a38c1bbb",
            "ff3b6392d2ff48a89f35df641d375131",
            "1ebc0f968c0f41049205f5a9be954d01",
            "d158519dd1c044f5977aba28dc925649",
            "543bd0e4192640a893f3a2f5db642f1e",
            "df431f54fd0a4ef4b5aa0a1e9061ee65",
            "152d533aa40e43bfb0cc6817c08e4a1d",
            "43bc4e9f6eb94bfdbac469a9b598d70f",
            "381548efe49f415b80bc483d4fe365da",
            "b23a0db44d9d4e3598f81d779dc8cfa3"
          ]
        },
        "id": "e0axkIx11dem",
        "outputId": "c135f0f5-48b5-4f6d-af0d-3638701ab0e2"
      },
      "source": [
        "from transformers import BertModel, DistilBertModel\n",
        "bert_model = BertModel.from_pretrained('monologg/kobert')\n",
        "distilbert_model = DistilBertModel.from_pretrained('monologg/distilkobert')"
      ],
      "execution_count": 71,
      "outputs": [
        {
          "output_type": "display_data",
          "data": {
            "application/vnd.jupyter.widget-view+json": {
              "model_id": "8a159a272065432593676bc73cb6a541",
              "version_minor": 0,
              "version_major": 2
            },
            "text/plain": [
              "HBox(children=(FloatProgress(value=0.0, description='Downloading', max=426.0, style=ProgressStyle(description_…"
            ]
          },
          "metadata": {
            "tags": []
          }
        },
        {
          "output_type": "stream",
          "text": [
            "\n"
          ],
          "name": "stdout"
        },
        {
          "output_type": "display_data",
          "data": {
            "application/vnd.jupyter.widget-view+json": {
              "model_id": "1c96574ded5c4325a61cf4a16119748e",
              "version_minor": 0,
              "version_major": 2
            },
            "text/plain": [
              "HBox(children=(FloatProgress(value=0.0, description='Downloading', max=368792146.0, style=ProgressStyle(descri…"
            ]
          },
          "metadata": {
            "tags": []
          }
        },
        {
          "output_type": "stream",
          "text": [
            "\n"
          ],
          "name": "stdout"
        },
        {
          "output_type": "display_data",
          "data": {
            "application/vnd.jupyter.widget-view+json": {
              "model_id": "f788c6436bbe42c09b1c2bf84c48a53c",
              "version_minor": 0,
              "version_major": 2
            },
            "text/plain": [
              "HBox(children=(FloatProgress(value=0.0, description='Downloading', max=441.0, style=ProgressStyle(description_…"
            ]
          },
          "metadata": {
            "tags": []
          }
        },
        {
          "output_type": "stream",
          "text": [
            "\n"
          ],
          "name": "stdout"
        },
        {
          "output_type": "display_data",
          "data": {
            "application/vnd.jupyter.widget-view+json": {
              "model_id": "1ebc0f968c0f41049205f5a9be954d01",
              "version_minor": 0,
              "version_major": 2
            },
            "text/plain": [
              "HBox(children=(FloatProgress(value=0.0, description='Downloading', max=113629967.0, style=ProgressStyle(descri…"
            ]
          },
          "metadata": {
            "tags": []
          }
        },
        {
          "output_type": "stream",
          "text": [
            "\n"
          ],
          "name": "stdout"
        }
      ]
    },
    {
      "cell_type": "code",
      "metadata": {
        "colab": {
          "base_uri": "https://localhost:8080/",
          "height": 0
        },
        "id": "aTsjA85l1dem",
        "outputId": "3d70ca4f-dfcd-470b-9e00-d9d54a19d1c5"
      },
      "source": [
        "!pip install kobert_transformers"
      ],
      "execution_count": 72,
      "outputs": [
        {
          "output_type": "stream",
          "text": [
            "Collecting kobert_transformers\n",
            "  Downloading https://files.pythonhosted.org/packages/f3/6d/f4e21513c1f26cacd68c144a428ccaa90dd92d85985e878976ebbaf06624/kobert_transformers-0.4.1-py3-none-any.whl\n",
            "Requirement already satisfied: transformers>=2.9.1 in /usr/local/lib/python3.6/dist-packages (from kobert_transformers) (4.1.1)\n",
            "Requirement already satisfied: torch>=1.1.0 in /usr/local/lib/python3.6/dist-packages (from kobert_transformers) (1.7.0+cu101)\n",
            "Requirement already satisfied: regex!=2019.12.17 in /usr/local/lib/python3.6/dist-packages (from transformers>=2.9.1->kobert_transformers) (2019.12.20)\n",
            "Requirement already satisfied: packaging in /usr/local/lib/python3.6/dist-packages (from transformers>=2.9.1->kobert_transformers) (20.8)\n",
            "Requirement already satisfied: numpy in /usr/local/lib/python3.6/dist-packages (from transformers>=2.9.1->kobert_transformers) (1.19.4)\n",
            "Requirement already satisfied: tqdm>=4.27 in /usr/local/lib/python3.6/dist-packages (from transformers>=2.9.1->kobert_transformers) (4.41.1)\n",
            "Requirement already satisfied: filelock in /usr/local/lib/python3.6/dist-packages (from transformers>=2.9.1->kobert_transformers) (3.0.12)\n",
            "Requirement already satisfied: tokenizers==0.9.4 in /usr/local/lib/python3.6/dist-packages (from transformers>=2.9.1->kobert_transformers) (0.9.4)\n",
            "Requirement already satisfied: dataclasses; python_version < \"3.7\" in /usr/local/lib/python3.6/dist-packages (from transformers>=2.9.1->kobert_transformers) (0.8)\n",
            "Requirement already satisfied: sacremoses in /usr/local/lib/python3.6/dist-packages (from transformers>=2.9.1->kobert_transformers) (0.0.43)\n",
            "Requirement already satisfied: requests in /usr/local/lib/python3.6/dist-packages (from transformers>=2.9.1->kobert_transformers) (2.23.0)\n",
            "Requirement already satisfied: future in /usr/local/lib/python3.6/dist-packages (from torch>=1.1.0->kobert_transformers) (0.16.0)\n",
            "Requirement already satisfied: typing-extensions in /usr/local/lib/python3.6/dist-packages (from torch>=1.1.0->kobert_transformers) (3.7.4.3)\n",
            "Requirement already satisfied: pyparsing>=2.0.2 in /usr/local/lib/python3.6/dist-packages (from packaging->transformers>=2.9.1->kobert_transformers) (2.4.7)\n",
            "Requirement already satisfied: click in /usr/local/lib/python3.6/dist-packages (from sacremoses->transformers>=2.9.1->kobert_transformers) (7.1.2)\n",
            "Requirement already satisfied: six in /usr/local/lib/python3.6/dist-packages (from sacremoses->transformers>=2.9.1->kobert_transformers) (1.15.0)\n",
            "Requirement already satisfied: joblib in /usr/local/lib/python3.6/dist-packages (from sacremoses->transformers>=2.9.1->kobert_transformers) (1.0.0)\n",
            "Requirement already satisfied: chardet<4,>=3.0.2 in /usr/local/lib/python3.6/dist-packages (from requests->transformers>=2.9.1->kobert_transformers) (3.0.4)\n",
            "Requirement already satisfied: urllib3!=1.25.0,!=1.25.1,<1.26,>=1.21.1 in /usr/local/lib/python3.6/dist-packages (from requests->transformers>=2.9.1->kobert_transformers) (1.24.3)\n",
            "Requirement already satisfied: certifi>=2017.4.17 in /usr/local/lib/python3.6/dist-packages (from requests->transformers>=2.9.1->kobert_transformers) (2020.12.5)\n",
            "Requirement already satisfied: idna<3,>=2.5 in /usr/local/lib/python3.6/dist-packages (from requests->transformers>=2.9.1->kobert_transformers) (2.10)\n",
            "Installing collected packages: kobert-transformers\n",
            "Successfully installed kobert-transformers-0.4.1\n"
          ],
          "name": "stdout"
        }
      ]
    },
    {
      "cell_type": "code",
      "metadata": {
        "colab": {
          "base_uri": "https://localhost:8080/",
          "height": 0
        },
        "id": "Qxr2USN61dem",
        "outputId": "4ac89950-03d4-4b9c-9793-68872a451285"
      },
      "source": [
        "import torch\n",
        "from kobert_transformers import get_kobert_model, get_distilkobert_model\n",
        "model = get_distilkobert_model() # 변화 - distil 코버트 사용\n",
        "model.eval()\n",
        "#input_ids = torch.LongTensor([[31, 51, 99], [15, 5, 0]])\n",
        "#attention_mask = torch.LongTensor([[1, 1, 1], [1, 1, 0]])\n",
        "#token_type_ids = torch.LongTensor([[0, 0, 1], [0, 1, 0]])\n",
        "#sequence_output, pooled_output = model(input_ids, attention_mask, token_type_ids)\n",
        "#sequence_output[0]"
      ],
      "execution_count": 74,
      "outputs": [
        {
          "output_type": "execute_result",
          "data": {
            "text/plain": [
              "DistilBertModel(\n",
              "  (embeddings): Embeddings(\n",
              "    (word_embeddings): Embedding(8002, 768, padding_idx=1)\n",
              "    (position_embeddings): Embedding(512, 768)\n",
              "    (LayerNorm): LayerNorm((768,), eps=1e-12, elementwise_affine=True)\n",
              "    (dropout): Dropout(p=0.1, inplace=False)\n",
              "  )\n",
              "  (transformer): Transformer(\n",
              "    (layer): ModuleList(\n",
              "      (0): TransformerBlock(\n",
              "        (attention): MultiHeadSelfAttention(\n",
              "          (dropout): Dropout(p=0.1, inplace=False)\n",
              "          (q_lin): Linear(in_features=768, out_features=768, bias=True)\n",
              "          (k_lin): Linear(in_features=768, out_features=768, bias=True)\n",
              "          (v_lin): Linear(in_features=768, out_features=768, bias=True)\n",
              "          (out_lin): Linear(in_features=768, out_features=768, bias=True)\n",
              "        )\n",
              "        (sa_layer_norm): LayerNorm((768,), eps=1e-12, elementwise_affine=True)\n",
              "        (ffn): FFN(\n",
              "          (dropout): Dropout(p=0.1, inplace=False)\n",
              "          (lin1): Linear(in_features=768, out_features=3072, bias=True)\n",
              "          (lin2): Linear(in_features=3072, out_features=768, bias=True)\n",
              "        )\n",
              "        (output_layer_norm): LayerNorm((768,), eps=1e-12, elementwise_affine=True)\n",
              "      )\n",
              "      (1): TransformerBlock(\n",
              "        (attention): MultiHeadSelfAttention(\n",
              "          (dropout): Dropout(p=0.1, inplace=False)\n",
              "          (q_lin): Linear(in_features=768, out_features=768, bias=True)\n",
              "          (k_lin): Linear(in_features=768, out_features=768, bias=True)\n",
              "          (v_lin): Linear(in_features=768, out_features=768, bias=True)\n",
              "          (out_lin): Linear(in_features=768, out_features=768, bias=True)\n",
              "        )\n",
              "        (sa_layer_norm): LayerNorm((768,), eps=1e-12, elementwise_affine=True)\n",
              "        (ffn): FFN(\n",
              "          (dropout): Dropout(p=0.1, inplace=False)\n",
              "          (lin1): Linear(in_features=768, out_features=3072, bias=True)\n",
              "          (lin2): Linear(in_features=3072, out_features=768, bias=True)\n",
              "        )\n",
              "        (output_layer_norm): LayerNorm((768,), eps=1e-12, elementwise_affine=True)\n",
              "      )\n",
              "      (2): TransformerBlock(\n",
              "        (attention): MultiHeadSelfAttention(\n",
              "          (dropout): Dropout(p=0.1, inplace=False)\n",
              "          (q_lin): Linear(in_features=768, out_features=768, bias=True)\n",
              "          (k_lin): Linear(in_features=768, out_features=768, bias=True)\n",
              "          (v_lin): Linear(in_features=768, out_features=768, bias=True)\n",
              "          (out_lin): Linear(in_features=768, out_features=768, bias=True)\n",
              "        )\n",
              "        (sa_layer_norm): LayerNorm((768,), eps=1e-12, elementwise_affine=True)\n",
              "        (ffn): FFN(\n",
              "          (dropout): Dropout(p=0.1, inplace=False)\n",
              "          (lin1): Linear(in_features=768, out_features=3072, bias=True)\n",
              "          (lin2): Linear(in_features=3072, out_features=768, bias=True)\n",
              "        )\n",
              "        (output_layer_norm): LayerNorm((768,), eps=1e-12, elementwise_affine=True)\n",
              "      )\n",
              "    )\n",
              "  )\n",
              ")"
            ]
          },
          "metadata": {
            "tags": []
          },
          "execution_count": 74
        }
      ]
    },
    {
      "cell_type": "code",
      "metadata": {
        "colab": {
          "base_uri": "https://localhost:8080/",
          "height": 0
        },
        "id": "kBvt2gXm1den",
        "outputId": "f9c35340-e0a4-4f06-990b-99f13ff67173"
      },
      "source": [
        "print(model)"
      ],
      "execution_count": 75,
      "outputs": [
        {
          "output_type": "stream",
          "text": [
            "DistilBertModel(\n",
            "  (embeddings): Embeddings(\n",
            "    (word_embeddings): Embedding(8002, 768, padding_idx=1)\n",
            "    (position_embeddings): Embedding(512, 768)\n",
            "    (LayerNorm): LayerNorm((768,), eps=1e-12, elementwise_affine=True)\n",
            "    (dropout): Dropout(p=0.1, inplace=False)\n",
            "  )\n",
            "  (transformer): Transformer(\n",
            "    (layer): ModuleList(\n",
            "      (0): TransformerBlock(\n",
            "        (attention): MultiHeadSelfAttention(\n",
            "          (dropout): Dropout(p=0.1, inplace=False)\n",
            "          (q_lin): Linear(in_features=768, out_features=768, bias=True)\n",
            "          (k_lin): Linear(in_features=768, out_features=768, bias=True)\n",
            "          (v_lin): Linear(in_features=768, out_features=768, bias=True)\n",
            "          (out_lin): Linear(in_features=768, out_features=768, bias=True)\n",
            "        )\n",
            "        (sa_layer_norm): LayerNorm((768,), eps=1e-12, elementwise_affine=True)\n",
            "        (ffn): FFN(\n",
            "          (dropout): Dropout(p=0.1, inplace=False)\n",
            "          (lin1): Linear(in_features=768, out_features=3072, bias=True)\n",
            "          (lin2): Linear(in_features=3072, out_features=768, bias=True)\n",
            "        )\n",
            "        (output_layer_norm): LayerNorm((768,), eps=1e-12, elementwise_affine=True)\n",
            "      )\n",
            "      (1): TransformerBlock(\n",
            "        (attention): MultiHeadSelfAttention(\n",
            "          (dropout): Dropout(p=0.1, inplace=False)\n",
            "          (q_lin): Linear(in_features=768, out_features=768, bias=True)\n",
            "          (k_lin): Linear(in_features=768, out_features=768, bias=True)\n",
            "          (v_lin): Linear(in_features=768, out_features=768, bias=True)\n",
            "          (out_lin): Linear(in_features=768, out_features=768, bias=True)\n",
            "        )\n",
            "        (sa_layer_norm): LayerNorm((768,), eps=1e-12, elementwise_affine=True)\n",
            "        (ffn): FFN(\n",
            "          (dropout): Dropout(p=0.1, inplace=False)\n",
            "          (lin1): Linear(in_features=768, out_features=3072, bias=True)\n",
            "          (lin2): Linear(in_features=3072, out_features=768, bias=True)\n",
            "        )\n",
            "        (output_layer_norm): LayerNorm((768,), eps=1e-12, elementwise_affine=True)\n",
            "      )\n",
            "      (2): TransformerBlock(\n",
            "        (attention): MultiHeadSelfAttention(\n",
            "          (dropout): Dropout(p=0.1, inplace=False)\n",
            "          (q_lin): Linear(in_features=768, out_features=768, bias=True)\n",
            "          (k_lin): Linear(in_features=768, out_features=768, bias=True)\n",
            "          (v_lin): Linear(in_features=768, out_features=768, bias=True)\n",
            "          (out_lin): Linear(in_features=768, out_features=768, bias=True)\n",
            "        )\n",
            "        (sa_layer_norm): LayerNorm((768,), eps=1e-12, elementwise_affine=True)\n",
            "        (ffn): FFN(\n",
            "          (dropout): Dropout(p=0.1, inplace=False)\n",
            "          (lin1): Linear(in_features=768, out_features=3072, bias=True)\n",
            "          (lin2): Linear(in_features=3072, out_features=768, bias=True)\n",
            "        )\n",
            "        (output_layer_norm): LayerNorm((768,), eps=1e-12, elementwise_affine=True)\n",
            "      )\n",
            "    )\n",
            "  )\n",
            ")\n"
          ],
          "name": "stdout"
        }
      ]
    },
    {
      "cell_type": "code",
      "metadata": {
        "id": "hgQSn3et1den"
      },
      "source": [
        "# 1) transfer 그대로 평가???"
      ],
      "execution_count": null,
      "outputs": []
    },
    {
      "cell_type": "code",
      "metadata": {
        "id": "3rn3Ztn61den"
      },
      "source": [
        "# 파이토치 임포트\n"
      ],
      "execution_count": null,
      "outputs": []
    },
    {
      "cell_type": "code",
      "metadata": {
        "id": "ZI-w7sZY1dep"
      },
      "source": [
        ""
      ],
      "execution_count": null,
      "outputs": []
    },
    {
      "cell_type": "code",
      "metadata": {
        "id": "TZbYsnEM1dep"
      },
      "source": [
        "# 2) 단어 사전만 활용해서 새로 토크나이징+모델링 ??"
      ],
      "execution_count": 76,
      "outputs": []
    },
    {
      "cell_type": "code",
      "metadata": {
        "colab": {
          "base_uri": "https://localhost:8080/",
          "height": 0
        },
        "id": "AZGiRLeF1deq",
        "outputId": "063a0f0d-a1df-44a3-c560-967a8a30995a"
      },
      "source": [
        "from kobert_transformers import get_tokenizer\n",
        "tokenizer = get_tokenizer()\n",
        "tokenizer.tokenize(\"[CLS] 한국어 모델을 공유합니다. [SEP]\")"
      ],
      "execution_count": 80,
      "outputs": [
        {
          "output_type": "execute_result",
          "data": {
            "text/plain": [
              "['[CLS]', '▁한국', '어', '▁모델', '을', '▁공유', '합니다', '.', '[SEP]']"
            ]
          },
          "metadata": {
            "tags": []
          },
          "execution_count": 80
        }
      ]
    },
    {
      "cell_type": "code",
      "metadata": {
        "id": "5sxFhijw1deq"
      },
      "source": [
        "# 토큰화 + 숫자 치환(Word 2 Index)\n",
        "\n",
        "# train\n",
        "train_sequences =[]\n",
        "\n",
        "for a in range(len(train_data_content2)):\n",
        "    train_sequences.append(tokenizer.tokenize(train_data_content2[a]))\n",
        "    train_sequences[a] = tokenizer.convert_tokens_to_ids(train_sequences[a])\n",
        "\n",
        "\n",
        "# valid\n",
        "valid_sequences =[]\n",
        "\n",
        "for b in range(len(valid_data_content2)):\n",
        "    valid_sequences.append(tokenizer.tokenize(valid_data_content2[b]))\n",
        "    valid_sequences[b] = tokenizer.convert_tokens_to_ids(valid_sequences[b])"
      ],
      "execution_count": 81,
      "outputs": []
    },
    {
      "cell_type": "code",
      "metadata": {
        "colab": {
          "base_uri": "https://localhost:8080/",
          "height": 0
        },
        "id": "9hbc3pAN1deq",
        "outputId": "f6a4bf55-81aa-43b9-e231-5e32b1398545"
      },
      "source": [
        "train_sequences[:5]"
      ],
      "execution_count": 82,
      "outputs": [
        {
          "output_type": "execute_result",
          "data": {
            "text/plain": [
              "[[1282,\n",
              "  7096,\n",
              "  4210,\n",
              "  3155,\n",
              "  5561,\n",
              "  6416,\n",
              "  7096,\n",
              "  4210,\n",
              "  3162,\n",
              "  3735,\n",
              "  3166,\n",
              "  2872,\n",
              "  3881,\n",
              "  6999,\n",
              "  258,\n",
              "  6999,\n",
              "  6536,\n",
              "  882,\n",
              "  5392,\n",
              "  7344,\n",
              "  7088,\n",
              "  2229,\n",
              "  5761,\n",
              "  882,\n",
              "  2680,\n",
              "  5330,\n",
              "  4210,\n",
              "  3155,\n",
              "  54,\n",
              "  6158,\n",
              "  7096,\n",
              "  2856,\n",
              "  6527,\n",
              "  7782,\n",
              "  6705,\n",
              "  5405,\n",
              "  6857,\n",
              "  54,\n",
              "  3223,\n",
              "  5330,\n",
              "  3135,\n",
              "  4209,\n",
              "  5330,\n",
              "  6999,\n",
              "  258,\n",
              "  7096,\n",
              "  5451,\n",
              "  3990,\n",
              "  5451,\n",
              "  1088,\n",
              "  7852,\n",
              "  4977,\n",
              "  1022,\n",
              "  1952,\n",
              "  54,\n",
              "  6812,\n",
              "  7272,\n",
              "  1022,\n",
              "  1952,\n",
              "  880,\n",
              "  7096,\n",
              "  517,\n",
              "  6158,\n",
              "  7074,\n",
              "  6705,\n",
              "  5405,\n",
              "  6857,\n",
              "  54],\n",
              " [4360,\n",
              "  6079,\n",
              "  5330,\n",
              "  1458,\n",
              "  880,\n",
              "  6668,\n",
              "  54,\n",
              "  1435,\n",
              "  4368,\n",
              "  517,\n",
              "  6249,\n",
              "  5010,\n",
              "  4977,\n",
              "  7318,\n",
              "  2049,\n",
              "  5405,\n",
              "  6855,\n",
              "  54,\n",
              "  6258,\n",
              "  5330,\n",
              "  1773,\n",
              "  6060,\n",
              "  7005,\n",
              "  6705,\n",
              "  5512,\n",
              "  6999,\n",
              "  54,\n",
              "  4926,\n",
              "  3075,\n",
              "  3818,\n",
              "  3854,\n",
              "  7074,\n",
              "  6586,\n",
              "  258,\n",
              "  7788,\n",
              "  3075,\n",
              "  3803,\n",
              "  7086,\n",
              "  3861,\n",
              "  4299,\n",
              "  2986,\n",
              "  7789,\n",
              "  6896,\n",
              "  1458,\n",
              "  517,\n",
              "  5767,\n",
              "  7086,\n",
              "  905,\n",
              "  832,\n",
              "  6553,\n",
              "  2734,\n",
              "  5997,\n",
              "  1721,\n",
              "  7088,\n",
              "  2086,\n",
              "  4924,\n",
              "  5405,\n",
              "  6855,\n",
              "  54,\n",
              "  5859,\n",
              "  7207,\n",
              "  7794,\n",
              "  908,\n",
              "  1773,\n",
              "  6060,\n",
              "  7014,\n",
              "  7088,\n",
              "  1546,\n",
              "  5439,\n",
              "  980,\n",
              "  6705,\n",
              "  5703,\n",
              "  54],\n",
              " [3121,\n",
              "  5330,\n",
              "  4627,\n",
              "  6022,\n",
              "  1562,\n",
              "  7653,\n",
              "  6553,\n",
              "  880,\n",
              "  7096,\n",
              "  6844,\n",
              "  54,\n",
              "  5383,\n",
              "  7227,\n",
              "  7096,\n",
              "  1763,\n",
              "  6705,\n",
              "  5405,\n",
              "  5512,\n",
              "  6999,\n",
              "  54,\n",
              "  3121,\n",
              "  5760,\n",
              "  3224,\n",
              "  2680,\n",
              "  7119,\n",
              "  5330,\n",
              "  6999,\n",
              "  258,\n",
              "  6804,\n",
              "  5859,\n",
              "  880,\n",
              "  7096,\n",
              "  1765,\n",
              "  7318,\n",
              "  2266,\n",
              "  5859,\n",
              "  3942,\n",
              "  3135,\n",
              "  6183,\n",
              "  5839,\n",
              "  5439,\n",
              "  54,\n",
              "  6158,\n",
              "  7096,\n",
              "  880,\n",
              "  5886,\n",
              "  6705,\n",
              "  5405,\n",
              "  6857,\n",
              "  54,\n",
              "  3225,\n",
              "  4939,\n",
              "  3121,\n",
              "  6116,\n",
              "  1716,\n",
              "  7292,\n",
              "  2872,\n",
              "  3881,\n",
              "  6999,\n",
              "  258,\n",
              "  7199,\n",
              "  5711,\n",
              "  6183,\n",
              "  5439,\n",
              "  1692,\n",
              "  6116,\n",
              "  4998,\n",
              "  6394,\n",
              "  7318,\n",
              "  54,\n",
              "  5808,\n",
              "  7941,\n",
              "  5330,\n",
              "  3942,\n",
              "  517,\n",
              "  5895,\n",
              "  7083,\n",
              "  4204,\n",
              "  5405,\n",
              "  6857,\n",
              "  54],\n",
              " [1370,\n",
              "  3480,\n",
              "  6536,\n",
              "  4628,\n",
              "  7096,\n",
              "  6022,\n",
              "  1692,\n",
              "  7794,\n",
              "  921,\n",
              "  3230,\n",
              "  54,\n",
              "  7489,\n",
              "  5495,\n",
              "  5932,\n",
              "  1692,\n",
              "  7794,\n",
              "  912,\n",
              "  3226,\n",
              "  3732,\n",
              "  5330,\n",
              "  3881,\n",
              "  6999,\n",
              "  258,\n",
              "  7489,\n",
              "  5495,\n",
              "  5330,\n",
              "  1407,\n",
              "  3135,\n",
              "  7271,\n",
              "  6797,\n",
              "  4977,\n",
              "  7318,\n",
              "  880,\n",
              "  5887,\n",
              "  1435,\n",
              "  1958,\n",
              "  6738,\n",
              "  6631,\n",
              "  4945,\n",
              "  3156,\n",
              "  7088,\n",
              "  5591,\n",
              "  1773,\n",
              "  6060,\n",
              "  7018,\n",
              "  54,\n",
              "  7489,\n",
              "  5495,\n",
              "  6983,\n",
              "  1692,\n",
              "  7789,\n",
              "  5213,\n",
              "  6855,\n",
              "  1956,\n",
              "  1101,\n",
              "  6079,\n",
              "  7005,\n",
              "  6705,\n",
              "  5405,\n",
              "  6857,\n",
              "  54,\n",
              "  5691,\n",
              "  6228,\n",
              "  2856,\n",
              "  6527,\n",
              "  7788,\n",
              "  2499,\n",
              "  7848,\n",
              "  54,\n",
              "  7489,\n",
              "  5495,\n",
              "  6983,\n",
              "  1574,\n",
              "  4832,\n",
              "  7784,\n",
              "  1692,\n",
              "  7782,\n",
              "  5585,\n",
              "  2193,\n",
              "  5439,\n",
              "  980,\n",
              "  6705,\n",
              "  5760,\n",
              "  5512,\n",
              "  6999,\n",
              "  54],\n",
              " [950,\n",
              "  5176,\n",
              "  1970,\n",
              "  6332,\n",
              "  7096,\n",
              "  6116,\n",
              "  4926,\n",
              "  3861,\n",
              "  3604,\n",
              "  6116,\n",
              "  2705,\n",
              "  7811,\n",
              "  3231,\n",
              "  5702,\n",
              "  54,\n",
              "  7086,\n",
              "  7640,\n",
              "  6116,\n",
              "  2705,\n",
              "  7810,\n",
              "  880,\n",
              "  7096,\n",
              "  1763,\n",
              "  6705,\n",
              "  5760,\n",
              "  5512,\n",
              "  6999,\n",
              "  54,\n",
              "  3604,\n",
              "  6116,\n",
              "  3567,\n",
              "  4249,\n",
              "  7782,\n",
              "  6733,\n",
              "  921,\n",
              "  3854,\n",
              "  7074,\n",
              "  6733,\n",
              "  5330,\n",
              "  6999,\n",
              "  258,\n",
              "  5725,\n",
              "  7968,\n",
              "  5814,\n",
              "  6116,\n",
              "  2709,\n",
              "  6553,\n",
              "  3340,\n",
              "  517,\n",
              "  7200,\n",
              "  7088,\n",
              "  1804,\n",
              "  5737,\n",
              "  7086,\n",
              "  921,\n",
              "  3868,\n",
              "  54,\n",
              "  7174,\n",
              "  4249,\n",
              "  7782,\n",
              "  6604,\n",
              "  5703,\n",
              "  54,\n",
              "  1917,\n",
              "  7086,\n",
              "  4832,\n",
              "  6812,\n",
              "  7782,\n",
              "  6733,\n",
              "  5330,\n",
              "  6999,\n",
              "  258,\n",
              "  7096,\n",
              "  5390,\n",
              "  6079,\n",
              "  4593,\n",
              "  7836,\n",
              "  7318,\n",
              "  3942,\n",
              "  2049,\n",
              "  5405,\n",
              "  6855,\n",
              "  54,\n",
              "  2497,\n",
              "  7828,\n",
              "  1917,\n",
              "  7096,\n",
              "  3886,\n",
              "  5628,\n",
              "  1804,\n",
              "  54,\n",
              "  6258,\n",
              "  6896,\n",
              "  1685,\n",
              "  2497,\n",
              "  7837,\n",
              "  7078,\n",
              "  1917,\n",
              "  7096,\n",
              "  5211,\n",
              "  5920,\n",
              "  6705,\n",
              "  5512,\n",
              "  6999,\n",
              "  54]]"
            ]
          },
          "metadata": {
            "tags": []
          },
          "execution_count": 82
        }
      ]
    },
    {
      "cell_type": "code",
      "metadata": {
        "scrolled": true,
        "colab": {
          "base_uri": "https://localhost:8080/",
          "height": 0
        },
        "id": "yfG7zjIo1deq",
        "outputId": "78e9f1ad-4b64-4091-fe36-ae7b76fc2c13"
      },
      "source": [
        "valid_sequences[:5]"
      ],
      "execution_count": 83,
      "outputs": [
        {
          "output_type": "execute_result",
          "data": {
            "text/plain": [
              "[[1493,\n",
              "  7289,\n",
              "  4927,\n",
              "  5330,\n",
              "  4102,\n",
              "  3231,\n",
              "  5702,\n",
              "  54,\n",
              "  7234,\n",
              "  7126,\n",
              "  880,\n",
              "  7096,\n",
              "  2145,\n",
              "  6586,\n",
              "  258,\n",
              "  5866,\n",
              "  7096,\n",
              "  4128,\n",
              "  7126,\n",
              "  2125,\n",
              "  6844,\n",
              "  54,\n",
              "  7323,\n",
              "  1493,\n",
              "  7289,\n",
              "  4926,\n",
              "  980,\n",
              "  6733,\n",
              "  5384,\n",
              "  5330,\n",
              "  6999,\n",
              "  258,\n",
              "  7202,\n",
              "  5550,\n",
              "  7098,\n",
              "  517,\n",
              "  7200,\n",
              "  7088,\n",
              "  4924,\n",
              "  5584,\n",
              "  5018,\n",
              "  3252,\n",
              "  3135,\n",
              "  5886,\n",
              "  5771,\n",
              "  2125,\n",
              "  7318,\n",
              "  54,\n",
              "  7200,\n",
              "  7088,\n",
              "  5002,\n",
              "  1239,\n",
              "  7203,\n",
              "  517,\n",
              "  6835,\n",
              "  6630,\n",
              "  4005,\n",
              "  5398,\n",
              "  831,\n",
              "  5439,\n",
              "  2705,\n",
              "  7782,\n",
              "  6705,\n",
              "  5760,\n",
              "  5512,\n",
              "  6999,\n",
              "  54],\n",
              " [1397,\n",
              "  5330,\n",
              "  1788,\n",
              "  5771,\n",
              "  882,\n",
              "  7096,\n",
              "  880,\n",
              "  6668,\n",
              "  54,\n",
              "  4626,\n",
              "  7828,\n",
              "  4627,\n",
              "  5330,\n",
              "  3177,\n",
              "  6896,\n",
              "  889,\n",
              "  6072,\n",
              "  5377,\n",
              "  5928,\n",
              "  54,\n",
              "  7489,\n",
              "  5495,\n",
              "  5330,\n",
              "  3177,\n",
              "  6896,\n",
              "  889,\n",
              "  6060,\n",
              "  6553,\n",
              "  882,\n",
              "  6896,\n",
              "  1682,\n",
              "  880,\n",
              "  7096,\n",
              "  1952,\n",
              "  7318,\n",
              "  6604,\n",
              "  5512,\n",
              "  6999,\n",
              "  54,\n",
              "  517,\n",
              "  7930,\n",
              "  6705,\n",
              "  4299,\n",
              "  3093,\n",
              "  7760,\n",
              "  1022,\n",
              "  3854,\n",
              "  7074,\n",
              "  6733,\n",
              "  5330,\n",
              "  6999,\n",
              "  258,\n",
              "  6797,\n",
              "  5770,\n",
              "  54,\n",
              "  3093,\n",
              "  7760,\n",
              "  1021,\n",
              "  7086,\n",
              "  3272,\n",
              "  5850,\n",
              "  882,\n",
              "  880,\n",
              "  7096,\n",
              "  1550,\n",
              "  6885,\n",
              "  7318,\n",
              "  54,\n",
              "  7930,\n",
              "  6705,\n",
              "  3647,\n",
              "  2128,\n",
              "  2659,\n",
              "  7836,\n",
              "  1949,\n",
              "  4034,\n",
              "  5330,\n",
              "  4229,\n",
              "  6896,\n",
              "  980,\n",
              "  6738,\n",
              "  5591,\n",
              "  6999,\n",
              "  258],\n",
              " [1424,\n",
              "  6022,\n",
              "  517,\n",
              "  6749,\n",
              "  517,\n",
              "  5712,\n",
              "  735,\n",
              "  1931,\n",
              "  5671,\n",
              "  5761,\n",
              "  950,\n",
              "  7202,\n",
              "  6077,\n",
              "  5562,\n",
              "  1763,\n",
              "  5770,\n",
              "  950,\n",
              "  7848,\n",
              "  5859,\n",
              "  1772,\n",
              "  7318,\n",
              "  1002,\n",
              "  5886,\n",
              "  5702,\n",
              "  54,\n",
              "  5419,\n",
              "  7088,\n",
              "  2705,\n",
              "  7836,\n",
              "  1844,\n",
              "  880,\n",
              "  5889,\n",
              "  2438,\n",
              "  3860,\n",
              "  881,\n",
              "  5330,\n",
              "  6999,\n",
              "  258,\n",
              "  7272,\n",
              "  2437,\n",
              "  5859,\n",
              "  1957,\n",
              "  6150,\n",
              "  2918,\n",
              "  1907,\n",
              "  6705,\n",
              "  5760,\n",
              "  1407,\n",
              "  7086,\n",
              "  3343,\n",
              "  7096,\n",
              "  3135,\n",
              "  5889,\n",
              "  2126,\n",
              "  3869,\n",
              "  880,\n",
              "  7096,\n",
              "  6844,\n",
              "  54,\n",
              "  6645,\n",
              "  1907,\n",
              "  6705,\n",
              "  6198,\n",
              "  2497,\n",
              "  7784,\n",
              "  880,\n",
              "  7088,\n",
              "  517,\n",
              "  6722,\n",
              "  5512,\n",
              "  6999,\n",
              "  54,\n",
              "  7096,\n",
              "  6040,\n",
              "  2589,\n",
              "  6022,\n",
              "  950,\n",
              "  7088,\n",
              "  5002,\n",
              "  1772,\n",
              "  5591,\n",
              "  258,\n",
              "  5668,\n",
              "  7489,\n",
              "  5495,\n",
              "  6983,\n",
              "  880,\n",
              "  5889,\n",
              "  2437,\n",
              "  6896,\n",
              "  1685,\n",
              "  1002,\n",
              "  7088,\n",
              "  1374,\n",
              "  6364,\n",
              "  6586,\n",
              "  54],\n",
              " [880,\n",
              "  7096,\n",
              "  4928,\n",
              "  3868,\n",
              "  54,\n",
              "  6855,\n",
              "  5971,\n",
              "  880,\n",
              "  7123,\n",
              "  3298,\n",
              "  0,\n",
              "  6393,\n",
              "  5859,\n",
              "  1772,\n",
              "  5591,\n",
              "  6999,\n",
              "  258,\n",
              "  5782,\n",
              "  5931,\n",
              "  2699,\n",
              "  4627,\n",
              "  6116,\n",
              "  3942,\n",
              "  2573,\n",
              "  5529,\n",
              "  5761,\n",
              "  1370,\n",
              "  6150,\n",
              "  3111,\n",
              "  5859,\n",
              "  1933,\n",
              "  7318,\n",
              "  2088,\n",
              "  905,\n",
              "  832,\n",
              "  54,\n",
              "  6536,\n",
              "  6082,\n",
              "  3759,\n",
              "  1076,\n",
              "  6116,\n",
              "  2006,\n",
              "  7318,\n",
              "  2092,\n",
              "  880,\n",
              "  7096,\n",
              "  1763,\n",
              "  6705,\n",
              "  5655,\n",
              "  6393,\n",
              "  6999,\n",
              "  54,\n",
              "  7094,\n",
              "  54,\n",
              "  3647,\n",
              "  6037,\n",
              "  5782,\n",
              "  1370,\n",
              "  6150,\n",
              "  5102,\n",
              "  5330,\n",
              "  1772,\n",
              "  905,\n",
              "  832,\n",
              "  2497,\n",
              "  7848,\n",
              "  54,\n",
              "  6424,\n",
              "  6812,\n",
              "  5344,\n",
              "  1956,\n",
              "  1546,\n",
              "  5439,\n",
              "  980,\n",
              "  6705,\n",
              "  5512,\n",
              "  6999,\n",
              "  54],\n",
              " [3489,\n",
              "  4073,\n",
              "  4354,\n",
              "  7086,\n",
              "  517,\n",
              "  5859,\n",
              "  5808,\n",
              "  7436,\n",
              "  3752,\n",
              "  7836,\n",
              "  2872,\n",
              "  3278,\n",
              "  7343,\n",
              "  5932,\n",
              "  2110,\n",
              "  7126,\n",
              "  7096,\n",
              "  3854,\n",
              "  7074,\n",
              "  6604,\n",
              "  5655,\n",
              "  6393,\n",
              "  6999,\n",
              "  54,\n",
              "  6993,\n",
              "  7096,\n",
              "  6049,\n",
              "  5400,\n",
              "  1562,\n",
              "  5931,\n",
              "  517,\n",
              "  5757,\n",
              "  5559,\n",
              "  7828,\n",
              "  7318,\n",
              "  3803,\n",
              "  6896,\n",
              "  1685,\n",
              "  4136,\n",
              "  4930,\n",
              "  907,\n",
              "  3272,\n",
              "  5398,\n",
              "  830,\n",
              "  5439,\n",
              "  1370,\n",
              "  6150,\n",
              "  3135,\n",
              "  5793,\n",
              "  5663,\n",
              "  1282,\n",
              "  7096,\n",
              "  6844,\n",
              "  54,\n",
              "  7931,\n",
              "  7147,\n",
              "  6150,\n",
              "  1917,\n",
              "  7096,\n",
              "  1250,\n",
              "  7782,\n",
              "  6733,\n",
              "  5398,\n",
              "  832,\n",
              "  6553,\n",
              "  1282,\n",
              "  7096,\n",
              "  3241,\n",
              "  0,\n",
              "  6797,\n",
              "  2387,\n",
              "  6705,\n",
              "  5703,\n",
              "  54]]"
            ]
          },
          "metadata": {
            "tags": []
          },
          "execution_count": 83
        }
      ]
    },
    {
      "cell_type": "code",
      "metadata": {
        "id": "hCgtY0c01der"
      },
      "source": [
        "from tensorflow.keras.preprocessing.text import Tokenizer # 전처리 관련\n",
        "from tensorflow.keras.preprocessing.sequence import pad_sequences # 전처리 관련"
      ],
      "execution_count": 84,
      "outputs": []
    },
    {
      "cell_type": "code",
      "metadata": {
        "id": "MHa3BCgf1der"
      },
      "source": [
        "# 시퀀스의 길이를 맞춰주기\n",
        "\n",
        "# 한 문장의 최대 단어 숫자\n",
        "max_len = 500\n",
        "\n",
        "# 잘라낼 문장의 위치\n",
        "trunc_type='post'\n",
        "\n",
        "# 채워줄 문장의 위치\n",
        "padding_type='post' # 'post' -> 뒷 부분 , 'pre' -> 앞 부분"
      ],
      "execution_count": 85,
      "outputs": []
    },
    {
      "cell_type": "code",
      "metadata": {
        "id": "hpIwffKX1der"
      },
      "source": [
        "train_padded = pad_sequences(train_sequences, maxlen=max_len, truncating=trunc_type, padding=padding_type)\n",
        "# train_sentences 말고 숫자로 변환된 train_sequences를 넣어야 ! # truncating 옵션 : max_length 길이를 넘는 단어를 잘라내주는 옵션 (여기서는 'post'(뒤) 를 잘라냄) \n",
        "# padding 옵션 : max_length 길이 보다 짧은 단어는 값을 채워주는 옵션\n",
        "validation_padded = pad_sequences(valid_sequences, maxlen=max_len, padding=padding_type, truncating=trunc_type)"
      ],
      "execution_count": 86,
      "outputs": []
    },
    {
      "cell_type": "code",
      "metadata": {
        "colab": {
          "base_uri": "https://localhost:8080/",
          "height": 0
        },
        "id": "w4BJ7pd41der",
        "outputId": "5b2c3784-1801-4bc2-b562-a21a6bfde481"
      },
      "source": [
        "train_padded.shape # (train 분할 단위 , max_length)\n",
        "#type(train_padded)"
      ],
      "execution_count": 87,
      "outputs": [
        {
          "output_type": "execute_result",
          "data": {
            "text/plain": [
              "(15832, 500)"
            ]
          },
          "metadata": {
            "tags": []
          },
          "execution_count": 87
        }
      ]
    },
    {
      "cell_type": "code",
      "metadata": {
        "colab": {
          "base_uri": "https://localhost:8080/",
          "height": 0
        },
        "id": "lp1m6h8x1der",
        "outputId": "46ea589b-83cd-47d6-8c35-56d65f074825"
      },
      "source": [
        "train_padded.shape # (train 분할 단위 , max_length)\n",
        "#type(train_padded)"
      ],
      "execution_count": 88,
      "outputs": [
        {
          "output_type": "execute_result",
          "data": {
            "text/plain": [
              "(15832, 500)"
            ]
          },
          "metadata": {
            "tags": []
          },
          "execution_count": 88
        }
      ]
    },
    {
      "cell_type": "code",
      "metadata": {
        "colab": {
          "base_uri": "https://localhost:8080/",
          "height": 0
        },
        "id": "_cZdZsy61des",
        "outputId": "d01f2b1a-febd-40b4-c6e9-859cd6ee6386"
      },
      "source": [
        "train_padded.shape # (train 분할 단위 , max_length)\n",
        "#type(train_padded)"
      ],
      "execution_count": 89,
      "outputs": [
        {
          "output_type": "execute_result",
          "data": {
            "text/plain": [
              "(15832, 500)"
            ]
          },
          "metadata": {
            "tags": []
          },
          "execution_count": 89
        }
      ]
    },
    {
      "cell_type": "markdown",
      "metadata": {
        "id": "EjpgfUfI1des"
      },
      "source": [
        "# 데이터 shuffle\n",
        "-x_train과 y_train을 배열로 묶어주고 shuffle ->> 그 결과를 다시 x_train, y_train 으로 나눈다"
      ]
    },
    {
      "cell_type": "code",
      "metadata": {
        "id": "V5iMJgx51des"
      },
      "source": [
        "## 소 분류"
      ],
      "execution_count": 90,
      "outputs": []
    },
    {
      "cell_type": "code",
      "metadata": {
        "colab": {
          "base_uri": "https://localhost:8080/",
          "height": 0
        },
        "id": "rie-1_WC1det",
        "outputId": "573b71a8-7f29-4265-bda6-b55f56b5ded7"
      },
      "source": [
        "tmp = [[x,y] for x, y in zip(train_padded, train_labels)]\n",
        "tmp[:10]"
      ],
      "execution_count": 91,
      "outputs": [
        {
          "output_type": "execute_result",
          "data": {
            "text/plain": [
              "[[array([1282, 7096, 4210, 3155, 5561, 6416, 7096, 4210, 3162, 3735, 3166,\n",
              "         2872, 3881, 6999,  258, 6999, 6536,  882, 5392, 7344, 7088, 2229,\n",
              "         5761,  882, 2680, 5330, 4210, 3155,   54, 6158, 7096, 2856, 6527,\n",
              "         7782, 6705, 5405, 6857,   54, 3223, 5330, 3135, 4209, 5330, 6999,\n",
              "          258, 7096, 5451, 3990, 5451, 1088, 7852, 4977, 1022, 1952,   54,\n",
              "         6812, 7272, 1022, 1952,  880, 7096,  517, 6158, 7074, 6705, 5405,\n",
              "         6857,   54,    0,    0,    0,    0,    0,    0,    0,    0,    0,\n",
              "            0,    0,    0,    0,    0,    0,    0,    0,    0,    0,    0,\n",
              "            0,    0,    0,    0,    0,    0,    0,    0,    0,    0,    0,\n",
              "            0,    0,    0,    0,    0,    0,    0,    0,    0,    0,    0,\n",
              "            0,    0,    0,    0,    0,    0,    0,    0,    0,    0,    0,\n",
              "            0,    0,    0,    0,    0,    0,    0,    0,    0,    0,    0,\n",
              "            0,    0,    0,    0,    0,    0,    0,    0,    0,    0,    0,\n",
              "            0,    0,    0,    0,    0,    0,    0,    0,    0,    0,    0,\n",
              "            0,    0,    0,    0,    0,    0,    0,    0,    0,    0,    0,\n",
              "            0,    0,    0,    0,    0,    0,    0,    0,    0,    0,    0,\n",
              "            0,    0,    0,    0,    0,    0,    0,    0,    0,    0,    0,\n",
              "            0,    0,    0,    0,    0,    0,    0,    0,    0,    0,    0,\n",
              "            0,    0,    0,    0,    0,    0,    0,    0,    0,    0,    0,\n",
              "            0,    0,    0,    0,    0,    0,    0,    0,    0,    0,    0,\n",
              "            0,    0,    0,    0,    0,    0,    0,    0,    0,    0,    0,\n",
              "            0,    0,    0,    0,    0,    0,    0,    0,    0,    0,    0,\n",
              "            0,    0,    0,    0,    0,    0,    0,    0,    0,    0,    0,\n",
              "            0,    0,    0,    0,    0,    0,    0,    0,    0,    0,    0,\n",
              "            0,    0,    0,    0,    0,    0,    0,    0,    0,    0,    0,\n",
              "            0,    0,    0,    0,    0,    0,    0,    0,    0,    0,    0,\n",
              "            0,    0,    0,    0,    0,    0,    0,    0,    0,    0,    0,\n",
              "            0,    0,    0,    0,    0,    0,    0,    0,    0,    0,    0,\n",
              "            0,    0,    0,    0,    0,    0,    0,    0,    0,    0,    0,\n",
              "            0,    0,    0,    0,    0,    0,    0,    0,    0,    0,    0,\n",
              "            0,    0,    0,    0,    0,    0,    0,    0,    0,    0,    0,\n",
              "            0,    0,    0,    0,    0,    0,    0,    0,    0,    0,    0,\n",
              "            0,    0,    0,    0,    0,    0,    0,    0,    0,    0,    0,\n",
              "            0,    0,    0,    0,    0,    0,    0,    0,    0,    0,    0,\n",
              "            0,    0,    0,    0,    0,    0,    0,    0,    0,    0,    0,\n",
              "            0,    0,    0,    0,    0,    0,    0,    0,    0,    0,    0,\n",
              "            0,    0,    0,    0,    0,    0,    0,    0,    0,    0,    0,\n",
              "            0,    0,    0,    0,    0,    0,    0,    0,    0,    0,    0,\n",
              "            0,    0,    0,    0,    0,    0,    0,    0,    0,    0,    0,\n",
              "            0,    0,    0,    0,    0,    0,    0,    0,    0,    0,    0,\n",
              "            0,    0,    0,    0,    0,    0,    0,    0,    0,    0,    0,\n",
              "            0,    0,    0,    0,    0,    0,    0,    0,    0,    0,    0,\n",
              "            0,    0,    0,    0,    0,    0,    0,    0,    0,    0,    0,\n",
              "            0,    0,    0,    0,    0,    0,    0,    0,    0,    0,    0,\n",
              "            0,    0,    0,    0,    0,    0,    0,    0,    0,    0,    0,\n",
              "            0,    0,    0,    0,    0], dtype=int32),\n",
              "  array([0., 0., 0., 0., 0., 0., 0., 0., 0., 0., 0., 0., 0., 0., 0., 0., 0.,\n",
              "         0., 0., 0., 0., 0., 0., 0., 0., 0., 0., 1., 0., 0., 0., 0., 0., 0.,\n",
              "         0., 0., 0., 0., 0., 0., 0., 0., 0., 0., 0., 0., 0., 0., 0., 0., 0.,\n",
              "         0., 0., 0., 0., 0., 0., 0., 0., 0.], dtype=float32)],\n",
              " [array([4360, 6079, 5330, 1458,  880, 6668,   54, 1435, 4368,  517, 6249,\n",
              "         5010, 4977, 7318, 2049, 5405, 6855,   54, 6258, 5330, 1773, 6060,\n",
              "         7005, 6705, 5512, 6999,   54, 4926, 3075, 3818, 3854, 7074, 6586,\n",
              "          258, 7788, 3075, 3803, 7086, 3861, 4299, 2986, 7789, 6896, 1458,\n",
              "          517, 5767, 7086,  905,  832, 6553, 2734, 5997, 1721, 7088, 2086,\n",
              "         4924, 5405, 6855,   54, 5859, 7207, 7794,  908, 1773, 6060, 7014,\n",
              "         7088, 1546, 5439,  980, 6705, 5703,   54,    0,    0,    0,    0,\n",
              "            0,    0,    0,    0,    0,    0,    0,    0,    0,    0,    0,\n",
              "            0,    0,    0,    0,    0,    0,    0,    0,    0,    0,    0,\n",
              "            0,    0,    0,    0,    0,    0,    0,    0,    0,    0,    0,\n",
              "            0,    0,    0,    0,    0,    0,    0,    0,    0,    0,    0,\n",
              "            0,    0,    0,    0,    0,    0,    0,    0,    0,    0,    0,\n",
              "            0,    0,    0,    0,    0,    0,    0,    0,    0,    0,    0,\n",
              "            0,    0,    0,    0,    0,    0,    0,    0,    0,    0,    0,\n",
              "            0,    0,    0,    0,    0,    0,    0,    0,    0,    0,    0,\n",
              "            0,    0,    0,    0,    0,    0,    0,    0,    0,    0,    0,\n",
              "            0,    0,    0,    0,    0,    0,    0,    0,    0,    0,    0,\n",
              "            0,    0,    0,    0,    0,    0,    0,    0,    0,    0,    0,\n",
              "            0,    0,    0,    0,    0,    0,    0,    0,    0,    0,    0,\n",
              "            0,    0,    0,    0,    0,    0,    0,    0,    0,    0,    0,\n",
              "            0,    0,    0,    0,    0,    0,    0,    0,    0,    0,    0,\n",
              "            0,    0,    0,    0,    0,    0,    0,    0,    0,    0,    0,\n",
              "            0,    0,    0,    0,    0,    0,    0,    0,    0,    0,    0,\n",
              "            0,    0,    0,    0,    0,    0,    0,    0,    0,    0,    0,\n",
              "            0,    0,    0,    0,    0,    0,    0,    0,    0,    0,    0,\n",
              "            0,    0,    0,    0,    0,    0,    0,    0,    0,    0,    0,\n",
              "            0,    0,    0,    0,    0,    0,    0,    0,    0,    0,    0,\n",
              "            0,    0,    0,    0,    0,    0,    0,    0,    0,    0,    0,\n",
              "            0,    0,    0,    0,    0,    0,    0,    0,    0,    0,    0,\n",
              "            0,    0,    0,    0,    0,    0,    0,    0,    0,    0,    0,\n",
              "            0,    0,    0,    0,    0,    0,    0,    0,    0,    0,    0,\n",
              "            0,    0,    0,    0,    0,    0,    0,    0,    0,    0,    0,\n",
              "            0,    0,    0,    0,    0,    0,    0,    0,    0,    0,    0,\n",
              "            0,    0,    0,    0,    0,    0,    0,    0,    0,    0,    0,\n",
              "            0,    0,    0,    0,    0,    0,    0,    0,    0,    0,    0,\n",
              "            0,    0,    0,    0,    0,    0,    0,    0,    0,    0,    0,\n",
              "            0,    0,    0,    0,    0,    0,    0,    0,    0,    0,    0,\n",
              "            0,    0,    0,    0,    0,    0,    0,    0,    0,    0,    0,\n",
              "            0,    0,    0,    0,    0,    0,    0,    0,    0,    0,    0,\n",
              "            0,    0,    0,    0,    0,    0,    0,    0,    0,    0,    0,\n",
              "            0,    0,    0,    0,    0,    0,    0,    0,    0,    0,    0,\n",
              "            0,    0,    0,    0,    0,    0,    0,    0,    0,    0,    0,\n",
              "            0,    0,    0,    0,    0,    0,    0,    0,    0,    0,    0,\n",
              "            0,    0,    0,    0,    0,    0,    0,    0,    0,    0,    0,\n",
              "            0,    0,    0,    0,    0,    0,    0,    0,    0,    0,    0,\n",
              "            0,    0,    0,    0,    0], dtype=int32),\n",
              "  array([0., 0., 0., 0., 0., 0., 0., 0., 0., 0., 0., 0., 0., 0., 0., 0., 0.,\n",
              "         0., 0., 0., 0., 0., 0., 0., 0., 0., 0., 1., 0., 0., 0., 0., 0., 0.,\n",
              "         0., 0., 0., 0., 0., 0., 0., 0., 0., 0., 0., 0., 0., 0., 0., 0., 0.,\n",
              "         0., 0., 0., 0., 0., 0., 0., 0., 0.], dtype=float32)],\n",
              " [array([3121, 5330, 4627, 6022, 1562, 7653, 6553,  880, 7096, 6844,   54,\n",
              "         5383, 7227, 7096, 1763, 6705, 5405, 5512, 6999,   54, 3121, 5760,\n",
              "         3224, 2680, 7119, 5330, 6999,  258, 6804, 5859,  880, 7096, 1765,\n",
              "         7318, 2266, 5859, 3942, 3135, 6183, 5839, 5439,   54, 6158, 7096,\n",
              "          880, 5886, 6705, 5405, 6857,   54, 3225, 4939, 3121, 6116, 1716,\n",
              "         7292, 2872, 3881, 6999,  258, 7199, 5711, 6183, 5439, 1692, 6116,\n",
              "         4998, 6394, 7318,   54, 5808, 7941, 5330, 3942,  517, 5895, 7083,\n",
              "         4204, 5405, 6857,   54,    0,    0,    0,    0,    0,    0,    0,\n",
              "            0,    0,    0,    0,    0,    0,    0,    0,    0,    0,    0,\n",
              "            0,    0,    0,    0,    0,    0,    0,    0,    0,    0,    0,\n",
              "            0,    0,    0,    0,    0,    0,    0,    0,    0,    0,    0,\n",
              "            0,    0,    0,    0,    0,    0,    0,    0,    0,    0,    0,\n",
              "            0,    0,    0,    0,    0,    0,    0,    0,    0,    0,    0,\n",
              "            0,    0,    0,    0,    0,    0,    0,    0,    0,    0,    0,\n",
              "            0,    0,    0,    0,    0,    0,    0,    0,    0,    0,    0,\n",
              "            0,    0,    0,    0,    0,    0,    0,    0,    0,    0,    0,\n",
              "            0,    0,    0,    0,    0,    0,    0,    0,    0,    0,    0,\n",
              "            0,    0,    0,    0,    0,    0,    0,    0,    0,    0,    0,\n",
              "            0,    0,    0,    0,    0,    0,    0,    0,    0,    0,    0,\n",
              "            0,    0,    0,    0,    0,    0,    0,    0,    0,    0,    0,\n",
              "            0,    0,    0,    0,    0,    0,    0,    0,    0,    0,    0,\n",
              "            0,    0,    0,    0,    0,    0,    0,    0,    0,    0,    0,\n",
              "            0,    0,    0,    0,    0,    0,    0,    0,    0,    0,    0,\n",
              "            0,    0,    0,    0,    0,    0,    0,    0,    0,    0,    0,\n",
              "            0,    0,    0,    0,    0,    0,    0,    0,    0,    0,    0,\n",
              "            0,    0,    0,    0,    0,    0,    0,    0,    0,    0,    0,\n",
              "            0,    0,    0,    0,    0,    0,    0,    0,    0,    0,    0,\n",
              "            0,    0,    0,    0,    0,    0,    0,    0,    0,    0,    0,\n",
              "            0,    0,    0,    0,    0,    0,    0,    0,    0,    0,    0,\n",
              "            0,    0,    0,    0,    0,    0,    0,    0,    0,    0,    0,\n",
              "            0,    0,    0,    0,    0,    0,    0,    0,    0,    0,    0,\n",
              "            0,    0,    0,    0,    0,    0,    0,    0,    0,    0,    0,\n",
              "            0,    0,    0,    0,    0,    0,    0,    0,    0,    0,    0,\n",
              "            0,    0,    0,    0,    0,    0,    0,    0,    0,    0,    0,\n",
              "            0,    0,    0,    0,    0,    0,    0,    0,    0,    0,    0,\n",
              "            0,    0,    0,    0,    0,    0,    0,    0,    0,    0,    0,\n",
              "            0,    0,    0,    0,    0,    0,    0,    0,    0,    0,    0,\n",
              "            0,    0,    0,    0,    0,    0,    0,    0,    0,    0,    0,\n",
              "            0,    0,    0,    0,    0,    0,    0,    0,    0,    0,    0,\n",
              "            0,    0,    0,    0,    0,    0,    0,    0,    0,    0,    0,\n",
              "            0,    0,    0,    0,    0,    0,    0,    0,    0,    0,    0,\n",
              "            0,    0,    0,    0,    0,    0,    0,    0,    0,    0,    0,\n",
              "            0,    0,    0,    0,    0,    0,    0,    0,    0,    0,    0,\n",
              "            0,    0,    0,    0,    0,    0,    0,    0,    0,    0,    0,\n",
              "            0,    0,    0,    0,    0,    0,    0,    0,    0,    0,    0,\n",
              "            0,    0,    0,    0,    0], dtype=int32),\n",
              "  array([0., 0., 0., 0., 0., 0., 0., 0., 0., 0., 0., 0., 0., 0., 0., 0., 0.,\n",
              "         0., 0., 0., 0., 0., 0., 0., 0., 0., 0., 1., 0., 0., 0., 0., 0., 0.,\n",
              "         0., 0., 0., 0., 0., 0., 0., 0., 0., 0., 0., 0., 0., 0., 0., 0., 0.,\n",
              "         0., 0., 0., 0., 0., 0., 0., 0., 0.], dtype=float32)],\n",
              " [array([1370, 3480, 6536, 4628, 7096, 6022, 1692, 7794,  921, 3230,   54,\n",
              "         7489, 5495, 5932, 1692, 7794,  912, 3226, 3732, 5330, 3881, 6999,\n",
              "          258, 7489, 5495, 5330, 1407, 3135, 7271, 6797, 4977, 7318,  880,\n",
              "         5887, 1435, 1958, 6738, 6631, 4945, 3156, 7088, 5591, 1773, 6060,\n",
              "         7018,   54, 7489, 5495, 6983, 1692, 7789, 5213, 6855, 1956, 1101,\n",
              "         6079, 7005, 6705, 5405, 6857,   54, 5691, 6228, 2856, 6527, 7788,\n",
              "         2499, 7848,   54, 7489, 5495, 6983, 1574, 4832, 7784, 1692, 7782,\n",
              "         5585, 2193, 5439,  980, 6705, 5760, 5512, 6999,   54,    0,    0,\n",
              "            0,    0,    0,    0,    0,    0,    0,    0,    0,    0,    0,\n",
              "            0,    0,    0,    0,    0,    0,    0,    0,    0,    0,    0,\n",
              "            0,    0,    0,    0,    0,    0,    0,    0,    0,    0,    0,\n",
              "            0,    0,    0,    0,    0,    0,    0,    0,    0,    0,    0,\n",
              "            0,    0,    0,    0,    0,    0,    0,    0,    0,    0,    0,\n",
              "            0,    0,    0,    0,    0,    0,    0,    0,    0,    0,    0,\n",
              "            0,    0,    0,    0,    0,    0,    0,    0,    0,    0,    0,\n",
              "            0,    0,    0,    0,    0,    0,    0,    0,    0,    0,    0,\n",
              "            0,    0,    0,    0,    0,    0,    0,    0,    0,    0,    0,\n",
              "            0,    0,    0,    0,    0,    0,    0,    0,    0,    0,    0,\n",
              "            0,    0,    0,    0,    0,    0,    0,    0,    0,    0,    0,\n",
              "            0,    0,    0,    0,    0,    0,    0,    0,    0,    0,    0,\n",
              "            0,    0,    0,    0,    0,    0,    0,    0,    0,    0,    0,\n",
              "            0,    0,    0,    0,    0,    0,    0,    0,    0,    0,    0,\n",
              "            0,    0,    0,    0,    0,    0,    0,    0,    0,    0,    0,\n",
              "            0,    0,    0,    0,    0,    0,    0,    0,    0,    0,    0,\n",
              "            0,    0,    0,    0,    0,    0,    0,    0,    0,    0,    0,\n",
              "            0,    0,    0,    0,    0,    0,    0,    0,    0,    0,    0,\n",
              "            0,    0,    0,    0,    0,    0,    0,    0,    0,    0,    0,\n",
              "            0,    0,    0,    0,    0,    0,    0,    0,    0,    0,    0,\n",
              "            0,    0,    0,    0,    0,    0,    0,    0,    0,    0,    0,\n",
              "            0,    0,    0,    0,    0,    0,    0,    0,    0,    0,    0,\n",
              "            0,    0,    0,    0,    0,    0,    0,    0,    0,    0,    0,\n",
              "            0,    0,    0,    0,    0,    0,    0,    0,    0,    0,    0,\n",
              "            0,    0,    0,    0,    0,    0,    0,    0,    0,    0,    0,\n",
              "            0,    0,    0,    0,    0,    0,    0,    0,    0,    0,    0,\n",
              "            0,    0,    0,    0,    0,    0,    0,    0,    0,    0,    0,\n",
              "            0,    0,    0,    0,    0,    0,    0,    0,    0,    0,    0,\n",
              "            0,    0,    0,    0,    0,    0,    0,    0,    0,    0,    0,\n",
              "            0,    0,    0,    0,    0,    0,    0,    0,    0,    0,    0,\n",
              "            0,    0,    0,    0,    0,    0,    0,    0,    0,    0,    0,\n",
              "            0,    0,    0,    0,    0,    0,    0,    0,    0,    0,    0,\n",
              "            0,    0,    0,    0,    0,    0,    0,    0,    0,    0,    0,\n",
              "            0,    0,    0,    0,    0,    0,    0,    0,    0,    0,    0,\n",
              "            0,    0,    0,    0,    0,    0,    0,    0,    0,    0,    0,\n",
              "            0,    0,    0,    0,    0,    0,    0,    0,    0,    0,    0,\n",
              "            0,    0,    0,    0,    0,    0,    0,    0,    0,    0,    0,\n",
              "            0,    0,    0,    0,    0], dtype=int32),\n",
              "  array([0., 0., 0., 0., 0., 0., 0., 0., 0., 0., 0., 0., 0., 0., 0., 0., 0.,\n",
              "         0., 0., 0., 0., 0., 0., 0., 0., 0., 0., 1., 0., 0., 0., 0., 0., 0.,\n",
              "         0., 0., 0., 0., 0., 0., 0., 0., 0., 0., 0., 0., 0., 0., 0., 0., 0.,\n",
              "         0., 0., 0., 0., 0., 0., 0., 0., 0.], dtype=float32)],\n",
              " [array([ 950, 5176, 1970, 6332, 7096, 6116, 4926, 3861, 3604, 6116, 2705,\n",
              "         7811, 3231, 5702,   54, 7086, 7640, 6116, 2705, 7810,  880, 7096,\n",
              "         1763, 6705, 5760, 5512, 6999,   54, 3604, 6116, 3567, 4249, 7782,\n",
              "         6733,  921, 3854, 7074, 6733, 5330, 6999,  258, 5725, 7968, 5814,\n",
              "         6116, 2709, 6553, 3340,  517, 7200, 7088, 1804, 5737, 7086,  921,\n",
              "         3868,   54, 7174, 4249, 7782, 6604, 5703,   54, 1917, 7086, 4832,\n",
              "         6812, 7782, 6733, 5330, 6999,  258, 7096, 5390, 6079, 4593, 7836,\n",
              "         7318, 3942, 2049, 5405, 6855,   54, 2497, 7828, 1917, 7096, 3886,\n",
              "         5628, 1804,   54, 6258, 6896, 1685, 2497, 7837, 7078, 1917, 7096,\n",
              "         5211, 5920, 6705, 5512, 6999,   54,    0,    0,    0,    0,    0,\n",
              "            0,    0,    0,    0,    0,    0,    0,    0,    0,    0,    0,\n",
              "            0,    0,    0,    0,    0,    0,    0,    0,    0,    0,    0,\n",
              "            0,    0,    0,    0,    0,    0,    0,    0,    0,    0,    0,\n",
              "            0,    0,    0,    0,    0,    0,    0,    0,    0,    0,    0,\n",
              "            0,    0,    0,    0,    0,    0,    0,    0,    0,    0,    0,\n",
              "            0,    0,    0,    0,    0,    0,    0,    0,    0,    0,    0,\n",
              "            0,    0,    0,    0,    0,    0,    0,    0,    0,    0,    0,\n",
              "            0,    0,    0,    0,    0,    0,    0,    0,    0,    0,    0,\n",
              "            0,    0,    0,    0,    0,    0,    0,    0,    0,    0,    0,\n",
              "            0,    0,    0,    0,    0,    0,    0,    0,    0,    0,    0,\n",
              "            0,    0,    0,    0,    0,    0,    0,    0,    0,    0,    0,\n",
              "            0,    0,    0,    0,    0,    0,    0,    0,    0,    0,    0,\n",
              "            0,    0,    0,    0,    0,    0,    0,    0,    0,    0,    0,\n",
              "            0,    0,    0,    0,    0,    0,    0,    0,    0,    0,    0,\n",
              "            0,    0,    0,    0,    0,    0,    0,    0,    0,    0,    0,\n",
              "            0,    0,    0,    0,    0,    0,    0,    0,    0,    0,    0,\n",
              "            0,    0,    0,    0,    0,    0,    0,    0,    0,    0,    0,\n",
              "            0,    0,    0,    0,    0,    0,    0,    0,    0,    0,    0,\n",
              "            0,    0,    0,    0,    0,    0,    0,    0,    0,    0,    0,\n",
              "            0,    0,    0,    0,    0,    0,    0,    0,    0,    0,    0,\n",
              "            0,    0,    0,    0,    0,    0,    0,    0,    0,    0,    0,\n",
              "            0,    0,    0,    0,    0,    0,    0,    0,    0,    0,    0,\n",
              "            0,    0,    0,    0,    0,    0,    0,    0,    0,    0,    0,\n",
              "            0,    0,    0,    0,    0,    0,    0,    0,    0,    0,    0,\n",
              "            0,    0,    0,    0,    0,    0,    0,    0,    0,    0,    0,\n",
              "            0,    0,    0,    0,    0,    0,    0,    0,    0,    0,    0,\n",
              "            0,    0,    0,    0,    0,    0,    0,    0,    0,    0,    0,\n",
              "            0,    0,    0,    0,    0,    0,    0,    0,    0,    0,    0,\n",
              "            0,    0,    0,    0,    0,    0,    0,    0,    0,    0,    0,\n",
              "            0,    0,    0,    0,    0,    0,    0,    0,    0,    0,    0,\n",
              "            0,    0,    0,    0,    0,    0,    0,    0,    0,    0,    0,\n",
              "            0,    0,    0,    0,    0,    0,    0,    0,    0,    0,    0,\n",
              "            0,    0,    0,    0,    0,    0,    0,    0,    0,    0,    0,\n",
              "            0,    0,    0,    0,    0,    0,    0,    0,    0,    0,    0,\n",
              "            0,    0,    0,    0,    0,    0,    0,    0,    0,    0,    0,\n",
              "            0,    0,    0,    0,    0], dtype=int32),\n",
              "  array([0., 0., 0., 0., 0., 0., 0., 0., 0., 0., 0., 0., 0., 0., 0., 0., 0.,\n",
              "         0., 0., 0., 0., 0., 0., 0., 0., 0., 0., 1., 0., 0., 0., 0., 0., 0.,\n",
              "         0., 0., 0., 0., 0., 0., 0., 0., 0., 0., 0., 0., 0., 0., 0., 0., 0.,\n",
              "         0., 0., 0., 0., 0., 0., 0., 0., 0.], dtype=float32)],\n",
              " [array([3060, 7178, 1083, 2353, 7088,  517, 5330, 6844, 4931, 2086,  517,\n",
              "         5330, 5439,  880, 6150, 4926, 3854, 5702,   54, 6362, 7088, 2086,\n",
              "         5330, 6705, 5760, 3732, 5330, 3854, 7074, 6733, 5330, 6999,  258,\n",
              "         5679, 1458,  517, 5330, 5663, 7850, 2353, 6443,  517, 5832, 2872,\n",
              "         5330, 3278,   54, 6855, 5975, 5400, 2353, 6443, 1911, 7836, 2270,\n",
              "         7096, 4062, 3270, 7074, 6733, 5330, 6999,  258, 5678, 4213, 7044,\n",
              "         5859, 1562,  517, 5330, 5663, 7828, 2585, 2571, 7101, 3223, 1911,\n",
              "         7836, 1706, 5330, 3270, 5702,   54, 6745, 7178, 1083, 2353, 7088,\n",
              "          517, 5330, 6601, 6844, 4931, 2353, 6441, 1849,  880, 7096, 1763,\n",
              "         6705, 5405, 6857,   54,    0,    0,    0,    0,    0,    0,    0,\n",
              "            0,    0,    0,    0,    0,    0,    0,    0,    0,    0,    0,\n",
              "            0,    0,    0,    0,    0,    0,    0,    0,    0,    0,    0,\n",
              "            0,    0,    0,    0,    0,    0,    0,    0,    0,    0,    0,\n",
              "            0,    0,    0,    0,    0,    0,    0,    0,    0,    0,    0,\n",
              "            0,    0,    0,    0,    0,    0,    0,    0,    0,    0,    0,\n",
              "            0,    0,    0,    0,    0,    0,    0,    0,    0,    0,    0,\n",
              "            0,    0,    0,    0,    0,    0,    0,    0,    0,    0,    0,\n",
              "            0,    0,    0,    0,    0,    0,    0,    0,    0,    0,    0,\n",
              "            0,    0,    0,    0,    0,    0,    0,    0,    0,    0,    0,\n",
              "            0,    0,    0,    0,    0,    0,    0,    0,    0,    0,    0,\n",
              "            0,    0,    0,    0,    0,    0,    0,    0,    0,    0,    0,\n",
              "            0,    0,    0,    0,    0,    0,    0,    0,    0,    0,    0,\n",
              "            0,    0,    0,    0,    0,    0,    0,    0,    0,    0,    0,\n",
              "            0,    0,    0,    0,    0,    0,    0,    0,    0,    0,    0,\n",
              "            0,    0,    0,    0,    0,    0,    0,    0,    0,    0,    0,\n",
              "            0,    0,    0,    0,    0,    0,    0,    0,    0,    0,    0,\n",
              "            0,    0,    0,    0,    0,    0,    0,    0,    0,    0,    0,\n",
              "            0,    0,    0,    0,    0,    0,    0,    0,    0,    0,    0,\n",
              "            0,    0,    0,    0,    0,    0,    0,    0,    0,    0,    0,\n",
              "            0,    0,    0,    0,    0,    0,    0,    0,    0,    0,    0,\n",
              "            0,    0,    0,    0,    0,    0,    0,    0,    0,    0,    0,\n",
              "            0,    0,    0,    0,    0,    0,    0,    0,    0,    0,    0,\n",
              "            0,    0,    0,    0,    0,    0,    0,    0,    0,    0,    0,\n",
              "            0,    0,    0,    0,    0,    0,    0,    0,    0,    0,    0,\n",
              "            0,    0,    0,    0,    0,    0,    0,    0,    0,    0,    0,\n",
              "            0,    0,    0,    0,    0,    0,    0,    0,    0,    0,    0,\n",
              "            0,    0,    0,    0,    0,    0,    0,    0,    0,    0,    0,\n",
              "            0,    0,    0,    0,    0,    0,    0,    0,    0,    0,    0,\n",
              "            0,    0,    0,    0,    0,    0,    0,    0,    0,    0,    0,\n",
              "            0,    0,    0,    0,    0,    0,    0,    0,    0,    0,    0,\n",
              "            0,    0,    0,    0,    0,    0,    0,    0,    0,    0,    0,\n",
              "            0,    0,    0,    0,    0,    0,    0,    0,    0,    0,    0,\n",
              "            0,    0,    0,    0,    0,    0,    0,    0,    0,    0,    0,\n",
              "            0,    0,    0,    0,    0,    0,    0,    0,    0,    0,    0,\n",
              "            0,    0,    0,    0,    0,    0,    0,    0,    0,    0,    0,\n",
              "            0,    0,    0,    0,    0], dtype=int32),\n",
              "  array([0., 0., 0., 0., 0., 0., 0., 0., 0., 0., 0., 0., 0., 0., 0., 0., 0.,\n",
              "         0., 0., 0., 0., 0., 0., 0., 0., 0., 0., 1., 0., 0., 0., 0., 0., 0.,\n",
              "         0., 0., 0., 0., 0., 0., 0., 0., 0., 0., 0., 0., 0., 0., 0., 0., 0.,\n",
              "         0., 0., 0., 0., 0., 0., 0., 0., 0.], dtype=float32)],\n",
              " [array([3501, 2436, 5330, 3245, 3673, 1397, 5330, 1809, 3604, 5176, 1493,\n",
              "         7289, 2128, 3011, 7088, 3080, 6844, 4930, 7318, 2049, 5405, 6855,\n",
              "           54, 5725, 7968, 4249, 5330, 1956, 3011, 3084, 7098, 2355, 5703,\n",
              "           54, 1425, 7096, 1437, 7096, 6198, 3604, 7120, 2061, 5909, 1730,\n",
              "         5859, 3271, 1559, 3860, 4626, 7227, 5859, 2959, 5830, 5859, 3278,\n",
              "         6553,  880, 7096, 1761,   54, 7086, 7640, 5330, 1014, 7120, 1493,\n",
              "         4249, 6004, 4955,  921, 4062, 3278,  880, 7096, 1956, 1763, 6705,\n",
              "         5405, 5703,   54,    0,    0,    0,    0,    0,    0,    0,    0,\n",
              "            0,    0,    0,    0,    0,    0,    0,    0,    0,    0,    0,\n",
              "            0,    0,    0,    0,    0,    0,    0,    0,    0,    0,    0,\n",
              "            0,    0,    0,    0,    0,    0,    0,    0,    0,    0,    0,\n",
              "            0,    0,    0,    0,    0,    0,    0,    0,    0,    0,    0,\n",
              "            0,    0,    0,    0,    0,    0,    0,    0,    0,    0,    0,\n",
              "            0,    0,    0,    0,    0,    0,    0,    0,    0,    0,    0,\n",
              "            0,    0,    0,    0,    0,    0,    0,    0,    0,    0,    0,\n",
              "            0,    0,    0,    0,    0,    0,    0,    0,    0,    0,    0,\n",
              "            0,    0,    0,    0,    0,    0,    0,    0,    0,    0,    0,\n",
              "            0,    0,    0,    0,    0,    0,    0,    0,    0,    0,    0,\n",
              "            0,    0,    0,    0,    0,    0,    0,    0,    0,    0,    0,\n",
              "            0,    0,    0,    0,    0,    0,    0,    0,    0,    0,    0,\n",
              "            0,    0,    0,    0,    0,    0,    0,    0,    0,    0,    0,\n",
              "            0,    0,    0,    0,    0,    0,    0,    0,    0,    0,    0,\n",
              "            0,    0,    0,    0,    0,    0,    0,    0,    0,    0,    0,\n",
              "            0,    0,    0,    0,    0,    0,    0,    0,    0,    0,    0,\n",
              "            0,    0,    0,    0,    0,    0,    0,    0,    0,    0,    0,\n",
              "            0,    0,    0,    0,    0,    0,    0,    0,    0,    0,    0,\n",
              "            0,    0,    0,    0,    0,    0,    0,    0,    0,    0,    0,\n",
              "            0,    0,    0,    0,    0,    0,    0,    0,    0,    0,    0,\n",
              "            0,    0,    0,    0,    0,    0,    0,    0,    0,    0,    0,\n",
              "            0,    0,    0,    0,    0,    0,    0,    0,    0,    0,    0,\n",
              "            0,    0,    0,    0,    0,    0,    0,    0,    0,    0,    0,\n",
              "            0,    0,    0,    0,    0,    0,    0,    0,    0,    0,    0,\n",
              "            0,    0,    0,    0,    0,    0,    0,    0,    0,    0,    0,\n",
              "            0,    0,    0,    0,    0,    0,    0,    0,    0,    0,    0,\n",
              "            0,    0,    0,    0,    0,    0,    0,    0,    0,    0,    0,\n",
              "            0,    0,    0,    0,    0,    0,    0,    0,    0,    0,    0,\n",
              "            0,    0,    0,    0,    0,    0,    0,    0,    0,    0,    0,\n",
              "            0,    0,    0,    0,    0,    0,    0,    0,    0,    0,    0,\n",
              "            0,    0,    0,    0,    0,    0,    0,    0,    0,    0,    0,\n",
              "            0,    0,    0,    0,    0,    0,    0,    0,    0,    0,    0,\n",
              "            0,    0,    0,    0,    0,    0,    0,    0,    0,    0,    0,\n",
              "            0,    0,    0,    0,    0,    0,    0,    0,    0,    0,    0,\n",
              "            0,    0,    0,    0,    0,    0,    0,    0,    0,    0,    0,\n",
              "            0,    0,    0,    0,    0,    0,    0,    0,    0,    0,    0,\n",
              "            0,    0,    0,    0,    0,    0,    0,    0,    0,    0,    0,\n",
              "            0,    0,    0,    0,    0], dtype=int32),\n",
              "  array([0., 0., 0., 0., 0., 0., 0., 0., 0., 0., 0., 0., 0., 0., 0., 0., 0.,\n",
              "         0., 0., 0., 0., 0., 0., 0., 0., 0., 0., 1., 0., 0., 0., 0., 0., 0.,\n",
              "         0., 0., 0., 0., 0., 0., 0., 0., 0., 0., 0., 0., 0., 0., 0., 0., 0.,\n",
              "         0., 0., 0., 0., 0., 0., 0., 0., 0.], dtype=float32)],\n",
              " [array([3489, 3501, 2436, 2618, 5330, 4793, 6855, 7245, 6553, 4196, 1002,\n",
              "         7096, 1952,   54, 1397, 5330, 1801, 5838, 3096, 5330,  993, 7354,\n",
              "         6150, 1952, 7321, 3890, 7276, 7178, 6150, 4924, 5702,   54, 6797,\n",
              "         5678, 6416, 7096, 3225, 5023, 7782, 6705, 5760, 7318, 3298,    0,\n",
              "         6393, 5859, 1772, 5591, 6999,  258, 6999, 7314, 1804, 4396, 7316,\n",
              "         7088, 1956, 1434, 5439, 5102, 3223, 6116, 1853, 5439, 3072, 5655,\n",
              "         1198, 5702,    5, 3752, 6116, 2086, 4924, 5405, 6855,   54, 7276,\n",
              "         6355, 6896, 4257, 5712, 7095, 2436, 6236, 6079, 4180, 7088, 1115,\n",
              "         7836, 2468, 7096, 3854, 7074, 6733, 7318, 6999,  258, 6398, 6398,\n",
              "         2659, 7088, 2226, 6386, 5591, 7848,   54, 7209, 5330, 6984, 2659,\n",
              "         7088, 4756, 4793, 6855, 7344, 2436, 5475, 6116, 5155, 7848, 2355,\n",
              "         6061, 4924, 6705, 5760, 5512, 6999,   54,    0,    0,    0,    0,\n",
              "            0,    0,    0,    0,    0,    0,    0,    0,    0,    0,    0,\n",
              "            0,    0,    0,    0,    0,    0,    0,    0,    0,    0,    0,\n",
              "            0,    0,    0,    0,    0,    0,    0,    0,    0,    0,    0,\n",
              "            0,    0,    0,    0,    0,    0,    0,    0,    0,    0,    0,\n",
              "            0,    0,    0,    0,    0,    0,    0,    0,    0,    0,    0,\n",
              "            0,    0,    0,    0,    0,    0,    0,    0,    0,    0,    0,\n",
              "            0,    0,    0,    0,    0,    0,    0,    0,    0,    0,    0,\n",
              "            0,    0,    0,    0,    0,    0,    0,    0,    0,    0,    0,\n",
              "            0,    0,    0,    0,    0,    0,    0,    0,    0,    0,    0,\n",
              "            0,    0,    0,    0,    0,    0,    0,    0,    0,    0,    0,\n",
              "            0,    0,    0,    0,    0,    0,    0,    0,    0,    0,    0,\n",
              "            0,    0,    0,    0,    0,    0,    0,    0,    0,    0,    0,\n",
              "            0,    0,    0,    0,    0,    0,    0,    0,    0,    0,    0,\n",
              "            0,    0,    0,    0,    0,    0,    0,    0,    0,    0,    0,\n",
              "            0,    0,    0,    0,    0,    0,    0,    0,    0,    0,    0,\n",
              "            0,    0,    0,    0,    0,    0,    0,    0,    0,    0,    0,\n",
              "            0,    0,    0,    0,    0,    0,    0,    0,    0,    0,    0,\n",
              "            0,    0,    0,    0,    0,    0,    0,    0,    0,    0,    0,\n",
              "            0,    0,    0,    0,    0,    0,    0,    0,    0,    0,    0,\n",
              "            0,    0,    0,    0,    0,    0,    0,    0,    0,    0,    0,\n",
              "            0,    0,    0,    0,    0,    0,    0,    0,    0,    0,    0,\n",
              "            0,    0,    0,    0,    0,    0,    0,    0,    0,    0,    0,\n",
              "            0,    0,    0,    0,    0,    0,    0,    0,    0,    0,    0,\n",
              "            0,    0,    0,    0,    0,    0,    0,    0,    0,    0,    0,\n",
              "            0,    0,    0,    0,    0,    0,    0,    0,    0,    0,    0,\n",
              "            0,    0,    0,    0,    0,    0,    0,    0,    0,    0,    0,\n",
              "            0,    0,    0,    0,    0,    0,    0,    0,    0,    0,    0,\n",
              "            0,    0,    0,    0,    0,    0,    0,    0,    0,    0,    0,\n",
              "            0,    0,    0,    0,    0,    0,    0,    0,    0,    0,    0,\n",
              "            0,    0,    0,    0,    0,    0,    0,    0,    0,    0,    0,\n",
              "            0,    0,    0,    0,    0,    0,    0,    0,    0,    0,    0,\n",
              "            0,    0,    0,    0,    0,    0,    0,    0,    0,    0,    0,\n",
              "            0,    0,    0,    0,    0,    0,    0,    0,    0,    0,    0,\n",
              "            0,    0,    0,    0,    0], dtype=int32),\n",
              "  array([0., 0., 0., 0., 0., 0., 0., 0., 0., 0., 0., 0., 0., 0., 0., 0., 0.,\n",
              "         0., 0., 0., 0., 0., 0., 0., 0., 0., 0., 1., 0., 0., 0., 0., 0., 0.,\n",
              "         0., 0., 0., 0., 0., 0., 0., 0., 0., 0., 0., 0., 0., 0., 0., 0., 0.,\n",
              "         0., 0., 0., 0., 0., 0., 0., 0., 0.], dtype=float32)],\n",
              " [array([3238,  882, 5392, 7344, 7088, 5018,  993, 7909, 6825, 4361, 7096,\n",
              "         1395, 6855,   54, 7909, 6825, 7096, 1511, 7074, 6705, 5512, 6999,\n",
              "           54,  880, 7096,  517, 6158, 7074, 6705, 5405, 6857,   54, 5439,\n",
              "         7909, 6825, 4503, 6004, 4924, 5771, 3211, 7088, 2401, 7003, 7789,\n",
              "         6372, 3514, 7088, 4998, 2355, 6061,   54, 7011, 3367, 4924, 6601,\n",
              "         6553, 4209,  938, 5330, 3858, 6116, 2186, 6019, 5772,   54,    0,\n",
              "            0,    0,    0,    0,    0,    0,    0,    0,    0,    0,    0,\n",
              "            0,    0,    0,    0,    0,    0,    0,    0,    0,    0,    0,\n",
              "            0,    0,    0,    0,    0,    0,    0,    0,    0,    0,    0,\n",
              "            0,    0,    0,    0,    0,    0,    0,    0,    0,    0,    0,\n",
              "            0,    0,    0,    0,    0,    0,    0,    0,    0,    0,    0,\n",
              "            0,    0,    0,    0,    0,    0,    0,    0,    0,    0,    0,\n",
              "            0,    0,    0,    0,    0,    0,    0,    0,    0,    0,    0,\n",
              "            0,    0,    0,    0,    0,    0,    0,    0,    0,    0,    0,\n",
              "            0,    0,    0,    0,    0,    0,    0,    0,    0,    0,    0,\n",
              "            0,    0,    0,    0,    0,    0,    0,    0,    0,    0,    0,\n",
              "            0,    0,    0,    0,    0,    0,    0,    0,    0,    0,    0,\n",
              "            0,    0,    0,    0,    0,    0,    0,    0,    0,    0,    0,\n",
              "            0,    0,    0,    0,    0,    0,    0,    0,    0,    0,    0,\n",
              "            0,    0,    0,    0,    0,    0,    0,    0,    0,    0,    0,\n",
              "            0,    0,    0,    0,    0,    0,    0,    0,    0,    0,    0,\n",
              "            0,    0,    0,    0,    0,    0,    0,    0,    0,    0,    0,\n",
              "            0,    0,    0,    0,    0,    0,    0,    0,    0,    0,    0,\n",
              "            0,    0,    0,    0,    0,    0,    0,    0,    0,    0,    0,\n",
              "            0,    0,    0,    0,    0,    0,    0,    0,    0,    0,    0,\n",
              "            0,    0,    0,    0,    0,    0,    0,    0,    0,    0,    0,\n",
              "            0,    0,    0,    0,    0,    0,    0,    0,    0,    0,    0,\n",
              "            0,    0,    0,    0,    0,    0,    0,    0,    0,    0,    0,\n",
              "            0,    0,    0,    0,    0,    0,    0,    0,    0,    0,    0,\n",
              "            0,    0,    0,    0,    0,    0,    0,    0,    0,    0,    0,\n",
              "            0,    0,    0,    0,    0,    0,    0,    0,    0,    0,    0,\n",
              "            0,    0,    0,    0,    0,    0,    0,    0,    0,    0,    0,\n",
              "            0,    0,    0,    0,    0,    0,    0,    0,    0,    0,    0,\n",
              "            0,    0,    0,    0,    0,    0,    0,    0,    0,    0,    0,\n",
              "            0,    0,    0,    0,    0,    0,    0,    0,    0,    0,    0,\n",
              "            0,    0,    0,    0,    0,    0,    0,    0,    0,    0,    0,\n",
              "            0,    0,    0,    0,    0,    0,    0,    0,    0,    0,    0,\n",
              "            0,    0,    0,    0,    0,    0,    0,    0,    0,    0,    0,\n",
              "            0,    0,    0,    0,    0,    0,    0,    0,    0,    0,    0,\n",
              "            0,    0,    0,    0,    0,    0,    0,    0,    0,    0,    0,\n",
              "            0,    0,    0,    0,    0,    0,    0,    0,    0,    0,    0,\n",
              "            0,    0,    0,    0,    0,    0,    0,    0,    0,    0,    0,\n",
              "            0,    0,    0,    0,    0,    0,    0,    0,    0,    0,    0,\n",
              "            0,    0,    0,    0,    0,    0,    0,    0,    0,    0,    0,\n",
              "            0,    0,    0,    0,    0,    0,    0,    0,    0,    0,    0,\n",
              "            0,    0,    0,    0,    0], dtype=int32),\n",
              "  array([0., 0., 0., 0., 0., 0., 0., 0., 0., 0., 0., 0., 0., 0., 0., 0., 0.,\n",
              "         0., 0., 0., 0., 0., 0., 0., 0., 0., 0., 1., 0., 0., 0., 0., 0., 0.,\n",
              "         0., 0., 0., 0., 0., 0., 0., 0., 0., 0., 0., 0., 0., 0., 0., 0., 0.,\n",
              "         0., 0., 0., 0., 0., 0., 0., 0., 0.], dtype=float32)],\n",
              " [array([1425, 7788, 3194, 5931, 2618, 5330, 4083, 1370, 6459, 7327,  862,\n",
              "          832,   54, 1425, 7086, 4196, 1170, 7044, 7204, 3194, 5937,  845,\n",
              "         7096,  821, 4832, 7096, 6844,   54, 5782, 6607, 1170, 7044, 7206,\n",
              "         1425, 6417,  845,  821, 3891, 6416, 5931, 2128, 1221, 6745, 7096,\n",
              "         4681, 6705, 5512, 6999,   54, 1425, 6417, 3891, 6416, 5931, 2618,\n",
              "         5330, 1574, 4207, 7318, 6705, 6063, 3224, 2270, 7096, 3881, 6999,\n",
              "          258, 5679, 4258, 6903, 4257, 7191, 7147, 3328, 3942, 7850, 1574,\n",
              "         4209, 1076, 6079, 1943, 6844, 5405, 7318,  258, 5475, 5155, 6903,\n",
              "         4257, 7191, 7167, 3330, 7096, 4272, 5439, 1801, 6122, 5703,   54,\n",
              "            0,    0,    0,    0,    0,    0,    0,    0,    0,    0,    0,\n",
              "            0,    0,    0,    0,    0,    0,    0,    0,    0,    0,    0,\n",
              "            0,    0,    0,    0,    0,    0,    0,    0,    0,    0,    0,\n",
              "            0,    0,    0,    0,    0,    0,    0,    0,    0,    0,    0,\n",
              "            0,    0,    0,    0,    0,    0,    0,    0,    0,    0,    0,\n",
              "            0,    0,    0,    0,    0,    0,    0,    0,    0,    0,    0,\n",
              "            0,    0,    0,    0,    0,    0,    0,    0,    0,    0,    0,\n",
              "            0,    0,    0,    0,    0,    0,    0,    0,    0,    0,    0,\n",
              "            0,    0,    0,    0,    0,    0,    0,    0,    0,    0,    0,\n",
              "            0,    0,    0,    0,    0,    0,    0,    0,    0,    0,    0,\n",
              "            0,    0,    0,    0,    0,    0,    0,    0,    0,    0,    0,\n",
              "            0,    0,    0,    0,    0,    0,    0,    0,    0,    0,    0,\n",
              "            0,    0,    0,    0,    0,    0,    0,    0,    0,    0,    0,\n",
              "            0,    0,    0,    0,    0,    0,    0,    0,    0,    0,    0,\n",
              "            0,    0,    0,    0,    0,    0,    0,    0,    0,    0,    0,\n",
              "            0,    0,    0,    0,    0,    0,    0,    0,    0,    0,    0,\n",
              "            0,    0,    0,    0,    0,    0,    0,    0,    0,    0,    0,\n",
              "            0,    0,    0,    0,    0,    0,    0,    0,    0,    0,    0,\n",
              "            0,    0,    0,    0,    0,    0,    0,    0,    0,    0,    0,\n",
              "            0,    0,    0,    0,    0,    0,    0,    0,    0,    0,    0,\n",
              "            0,    0,    0,    0,    0,    0,    0,    0,    0,    0,    0,\n",
              "            0,    0,    0,    0,    0,    0,    0,    0,    0,    0,    0,\n",
              "            0,    0,    0,    0,    0,    0,    0,    0,    0,    0,    0,\n",
              "            0,    0,    0,    0,    0,    0,    0,    0,    0,    0,    0,\n",
              "            0,    0,    0,    0,    0,    0,    0,    0,    0,    0,    0,\n",
              "            0,    0,    0,    0,    0,    0,    0,    0,    0,    0,    0,\n",
              "            0,    0,    0,    0,    0,    0,    0,    0,    0,    0,    0,\n",
              "            0,    0,    0,    0,    0,    0,    0,    0,    0,    0,    0,\n",
              "            0,    0,    0,    0,    0,    0,    0,    0,    0,    0,    0,\n",
              "            0,    0,    0,    0,    0,    0,    0,    0,    0,    0,    0,\n",
              "            0,    0,    0,    0,    0,    0,    0,    0,    0,    0,    0,\n",
              "            0,    0,    0,    0,    0,    0,    0,    0,    0,    0,    0,\n",
              "            0,    0,    0,    0,    0,    0,    0,    0,    0,    0,    0,\n",
              "            0,    0,    0,    0,    0,    0,    0,    0,    0,    0,    0,\n",
              "            0,    0,    0,    0,    0,    0,    0,    0,    0,    0,    0,\n",
              "            0,    0,    0,    0,    0,    0,    0,    0,    0,    0,    0,\n",
              "            0,    0,    0,    0,    0], dtype=int32),\n",
              "  array([0., 0., 0., 0., 0., 0., 0., 0., 0., 0., 0., 0., 0., 0., 0., 0., 0.,\n",
              "         0., 0., 0., 0., 0., 0., 0., 0., 0., 0., 1., 0., 0., 0., 0., 0., 0.,\n",
              "         0., 0., 0., 0., 0., 0., 0., 0., 0., 0., 0., 0., 0., 0., 0., 0., 0.,\n",
              "         0., 0., 0., 0., 0., 0., 0., 0., 0.], dtype=float32)]]"
            ]
          },
          "metadata": {
            "tags": []
          },
          "execution_count": 91
        }
      ]
    },
    {
      "cell_type": "code",
      "metadata": {
        "colab": {
          "base_uri": "https://localhost:8080/",
          "height": 0
        },
        "id": "r_XjCpz-1det",
        "outputId": "0f23737c-b722-4dec-f96f-67f4aa28e614"
      },
      "source": [
        "import random\n",
        "random.shuffle(tmp)\n",
        "tmp[:10]"
      ],
      "execution_count": 92,
      "outputs": [
        {
          "output_type": "execute_result",
          "data": {
            "text/plain": [
              "[[array([1370, 5102, 3501, 2443, 6903, 3803, 7794, 1549, 7096, 6844,   54,\n",
              "         6247, 1849, 1204, 1546, 6705, 5655, 6999,  258, 7094, 3224, 3818,\n",
              "         1810, 6198, 1370, 5102, 4930, 1282, 7096, 6844,   54, 6855, 5975,\n",
              "         5400, 4939, 3803, 2428, 4252, 2872, 3881, 6999,  258, 6854, 5568,\n",
              "         4998, 2421, 5761, 1562, 5931, 3890, 5933, 4966, 1198, 5839, 5439,\n",
              "           54, 6542, 5336, 7096, 1956, 1598, 6553, 2856, 6527, 7782, 6738,\n",
              "          905,  832, 6999,   54,    0,    0,    0,    0,    0,    0,    0,\n",
              "            0,    0,    0,    0,    0,    0,    0,    0,    0,    0,    0,\n",
              "            0,    0,    0,    0,    0,    0,    0,    0,    0,    0,    0,\n",
              "            0,    0,    0,    0,    0,    0,    0,    0,    0,    0,    0,\n",
              "            0,    0,    0,    0,    0,    0,    0,    0,    0,    0,    0,\n",
              "            0,    0,    0,    0,    0,    0,    0,    0,    0,    0,    0,\n",
              "            0,    0,    0,    0,    0,    0,    0,    0,    0,    0,    0,\n",
              "            0,    0,    0,    0,    0,    0,    0,    0,    0,    0,    0,\n",
              "            0,    0,    0,    0,    0,    0,    0,    0,    0,    0,    0,\n",
              "            0,    0,    0,    0,    0,    0,    0,    0,    0,    0,    0,\n",
              "            0,    0,    0,    0,    0,    0,    0,    0,    0,    0,    0,\n",
              "            0,    0,    0,    0,    0,    0,    0,    0,    0,    0,    0,\n",
              "            0,    0,    0,    0,    0,    0,    0,    0,    0,    0,    0,\n",
              "            0,    0,    0,    0,    0,    0,    0,    0,    0,    0,    0,\n",
              "            0,    0,    0,    0,    0,    0,    0,    0,    0,    0,    0,\n",
              "            0,    0,    0,    0,    0,    0,    0,    0,    0,    0,    0,\n",
              "            0,    0,    0,    0,    0,    0,    0,    0,    0,    0,    0,\n",
              "            0,    0,    0,    0,    0,    0,    0,    0,    0,    0,    0,\n",
              "            0,    0,    0,    0,    0,    0,    0,    0,    0,    0,    0,\n",
              "            0,    0,    0,    0,    0,    0,    0,    0,    0,    0,    0,\n",
              "            0,    0,    0,    0,    0,    0,    0,    0,    0,    0,    0,\n",
              "            0,    0,    0,    0,    0,    0,    0,    0,    0,    0,    0,\n",
              "            0,    0,    0,    0,    0,    0,    0,    0,    0,    0,    0,\n",
              "            0,    0,    0,    0,    0,    0,    0,    0,    0,    0,    0,\n",
              "            0,    0,    0,    0,    0,    0,    0,    0,    0,    0,    0,\n",
              "            0,    0,    0,    0,    0,    0,    0,    0,    0,    0,    0,\n",
              "            0,    0,    0,    0,    0,    0,    0,    0,    0,    0,    0,\n",
              "            0,    0,    0,    0,    0,    0,    0,    0,    0,    0,    0,\n",
              "            0,    0,    0,    0,    0,    0,    0,    0,    0,    0,    0,\n",
              "            0,    0,    0,    0,    0,    0,    0,    0,    0,    0,    0,\n",
              "            0,    0,    0,    0,    0,    0,    0,    0,    0,    0,    0,\n",
              "            0,    0,    0,    0,    0,    0,    0,    0,    0,    0,    0,\n",
              "            0,    0,    0,    0,    0,    0,    0,    0,    0,    0,    0,\n",
              "            0,    0,    0,    0,    0,    0,    0,    0,    0,    0,    0,\n",
              "            0,    0,    0,    0,    0,    0,    0,    0,    0,    0,    0,\n",
              "            0,    0,    0,    0,    0,    0,    0,    0,    0,    0,    0,\n",
              "            0,    0,    0,    0,    0,    0,    0,    0,    0,    0,    0,\n",
              "            0,    0,    0,    0,    0,    0,    0,    0,    0,    0,    0,\n",
              "            0,    0,    0,    0,    0,    0,    0,    0,    0,    0,    0,\n",
              "            0,    0,    0,    0,    0], dtype=int32),\n",
              "  array([0., 0., 0., 0., 0., 0., 0., 0., 0., 0., 0., 0., 0., 0., 0., 0., 0.,\n",
              "         0., 0., 0., 0., 0., 0., 0., 0., 0., 0., 0., 0., 0., 0., 0., 0., 0.,\n",
              "         0., 0., 0., 0., 0., 0., 0., 1., 0., 0., 0., 0., 0., 0., 0., 0., 0.,\n",
              "         0., 0., 0., 0., 0., 0., 0., 0., 0.], dtype=float32)],\n",
              " [array([3419, 4688, 7126, 7096, 3871, 6855,   54, 1917, 7096, 1615, 5801,\n",
              "         7848,   54, 6855, 5971, 3803, 6079, 1505, 6604, 5655, 2420, 6999,\n",
              "           54, 2110, 3818, 3854, 7074, 6604, 5655, 6999,  258, 5561, 7264,\n",
              "         6896,  758, 7828, 3340, 7078, 1493, 7289, 5330, 4593, 7828, 4252,\n",
              "         3166, 6827, 6855,   54, 1202, 5130, 7797, 2897, 7096, 1430, 6553,\n",
              "         2451, 7782, 5702,   54, 1493, 5814, 6079, 4249, 7872, 3340, 7096,\n",
              "         2705, 6371, 2451, 7850, 1615, 5801, 7782, 6604, 5512, 6999,   54,\n",
              "         3224, 4209, 2270, 7096, 3881, 6999,  258, 3129, 7086, 3942, 2049,\n",
              "         5405, 6855,   54, 3316, 7149, 5859, 3996, 5804, 7996, 3278, 6553,\n",
              "         1615, 5801, 7848,   54, 6542, 5336, 6371, 1493, 4249, 5330, 2452,\n",
              "         5850, 3316, 3889, 5859, 3278, 1404, 5798, 7782, 6604, 5512, 6999,\n",
              "           54,    0,    0,    0,    0,    0,    0,    0,    0,    0,    0,\n",
              "            0,    0,    0,    0,    0,    0,    0,    0,    0,    0,    0,\n",
              "            0,    0,    0,    0,    0,    0,    0,    0,    0,    0,    0,\n",
              "            0,    0,    0,    0,    0,    0,    0,    0,    0,    0,    0,\n",
              "            0,    0,    0,    0,    0,    0,    0,    0,    0,    0,    0,\n",
              "            0,    0,    0,    0,    0,    0,    0,    0,    0,    0,    0,\n",
              "            0,    0,    0,    0,    0,    0,    0,    0,    0,    0,    0,\n",
              "            0,    0,    0,    0,    0,    0,    0,    0,    0,    0,    0,\n",
              "            0,    0,    0,    0,    0,    0,    0,    0,    0,    0,    0,\n",
              "            0,    0,    0,    0,    0,    0,    0,    0,    0,    0,    0,\n",
              "            0,    0,    0,    0,    0,    0,    0,    0,    0,    0,    0,\n",
              "            0,    0,    0,    0,    0,    0,    0,    0,    0,    0,    0,\n",
              "            0,    0,    0,    0,    0,    0,    0,    0,    0,    0,    0,\n",
              "            0,    0,    0,    0,    0,    0,    0,    0,    0,    0,    0,\n",
              "            0,    0,    0,    0,    0,    0,    0,    0,    0,    0,    0,\n",
              "            0,    0,    0,    0,    0,    0,    0,    0,    0,    0,    0,\n",
              "            0,    0,    0,    0,    0,    0,    0,    0,    0,    0,    0,\n",
              "            0,    0,    0,    0,    0,    0,    0,    0,    0,    0,    0,\n",
              "            0,    0,    0,    0,    0,    0,    0,    0,    0,    0,    0,\n",
              "            0,    0,    0,    0,    0,    0,    0,    0,    0,    0,    0,\n",
              "            0,    0,    0,    0,    0,    0,    0,    0,    0,    0,    0,\n",
              "            0,    0,    0,    0,    0,    0,    0,    0,    0,    0,    0,\n",
              "            0,    0,    0,    0,    0,    0,    0,    0,    0,    0,    0,\n",
              "            0,    0,    0,    0,    0,    0,    0,    0,    0,    0,    0,\n",
              "            0,    0,    0,    0,    0,    0,    0,    0,    0,    0,    0,\n",
              "            0,    0,    0,    0,    0,    0,    0,    0,    0,    0,    0,\n",
              "            0,    0,    0,    0,    0,    0,    0,    0,    0,    0,    0,\n",
              "            0,    0,    0,    0,    0,    0,    0,    0,    0,    0,    0,\n",
              "            0,    0,    0,    0,    0,    0,    0,    0,    0,    0,    0,\n",
              "            0,    0,    0,    0,    0,    0,    0,    0,    0,    0,    0,\n",
              "            0,    0,    0,    0,    0,    0,    0,    0,    0,    0,    0,\n",
              "            0,    0,    0,    0,    0,    0,    0,    0,    0,    0,    0,\n",
              "            0,    0,    0,    0,    0,    0,    0,    0,    0,    0,    0,\n",
              "            0,    0,    0,    0,    0,    0,    0,    0,    0,    0,    0,\n",
              "            0,    0,    0,    0,    0], dtype=int32),\n",
              "  array([0., 0., 0., 0., 0., 0., 0., 0., 0., 0., 0., 0., 0., 0., 0., 0., 0.,\n",
              "         0., 1., 0., 0., 0., 0., 0., 0., 0., 0., 0., 0., 0., 0., 0., 0., 0.,\n",
              "         0., 0., 0., 0., 0., 0., 0., 0., 0., 0., 0., 0., 0., 0., 0., 0., 0.,\n",
              "         0., 0., 0., 0., 0., 0., 0., 0., 0.], dtype=float32)],\n",
              " [array([1434, 5209, 7088, 3175, 7276, 7318, 3151, 5156, 6896, 5112, 5330,\n",
              "         1370,   54, 7993, 6542, 7088, 3175, 7276, 7318, 3152, 5770, 2110,\n",
              "         3818, 3854, 7074, 6604, 5842,  862, 6957, 6999,  258, 6940, 6745,\n",
              "         7996, 3803, 7850, 2786, 1454, 5782, 5439, 5002, 2785, 5550, 7086,\n",
              "         3834, 5931, 6150,  763, 5330,   54, 6574, 5557, 3834, 5931, 6150,\n",
              "          763, 5338, 5770, 4102, 5112, 5330, 1407, 1931, 7782, 5405, 6857,\n",
              "           54, 1198, 5400, 1963, 6844,   54, 3817, 3367, 4955, 2355, 6018,\n",
              "         7096, 3278,   54, 7957, 5330, 3834, 3468, 4354, 7095, 1023, 6079,\n",
              "         5859, 3942, 3175, 7305, 7083, 4204, 5405, 5703,   54,    0,    0,\n",
              "            0,    0,    0,    0,    0,    0,    0,    0,    0,    0,    0,\n",
              "            0,    0,    0,    0,    0,    0,    0,    0,    0,    0,    0,\n",
              "            0,    0,    0,    0,    0,    0,    0,    0,    0,    0,    0,\n",
              "            0,    0,    0,    0,    0,    0,    0,    0,    0,    0,    0,\n",
              "            0,    0,    0,    0,    0,    0,    0,    0,    0,    0,    0,\n",
              "            0,    0,    0,    0,    0,    0,    0,    0,    0,    0,    0,\n",
              "            0,    0,    0,    0,    0,    0,    0,    0,    0,    0,    0,\n",
              "            0,    0,    0,    0,    0,    0,    0,    0,    0,    0,    0,\n",
              "            0,    0,    0,    0,    0,    0,    0,    0,    0,    0,    0,\n",
              "            0,    0,    0,    0,    0,    0,    0,    0,    0,    0,    0,\n",
              "            0,    0,    0,    0,    0,    0,    0,    0,    0,    0,    0,\n",
              "            0,    0,    0,    0,    0,    0,    0,    0,    0,    0,    0,\n",
              "            0,    0,    0,    0,    0,    0,    0,    0,    0,    0,    0,\n",
              "            0,    0,    0,    0,    0,    0,    0,    0,    0,    0,    0,\n",
              "            0,    0,    0,    0,    0,    0,    0,    0,    0,    0,    0,\n",
              "            0,    0,    0,    0,    0,    0,    0,    0,    0,    0,    0,\n",
              "            0,    0,    0,    0,    0,    0,    0,    0,    0,    0,    0,\n",
              "            0,    0,    0,    0,    0,    0,    0,    0,    0,    0,    0,\n",
              "            0,    0,    0,    0,    0,    0,    0,    0,    0,    0,    0,\n",
              "            0,    0,    0,    0,    0,    0,    0,    0,    0,    0,    0,\n",
              "            0,    0,    0,    0,    0,    0,    0,    0,    0,    0,    0,\n",
              "            0,    0,    0,    0,    0,    0,    0,    0,    0,    0,    0,\n",
              "            0,    0,    0,    0,    0,    0,    0,    0,    0,    0,    0,\n",
              "            0,    0,    0,    0,    0,    0,    0,    0,    0,    0,    0,\n",
              "            0,    0,    0,    0,    0,    0,    0,    0,    0,    0,    0,\n",
              "            0,    0,    0,    0,    0,    0,    0,    0,    0,    0,    0,\n",
              "            0,    0,    0,    0,    0,    0,    0,    0,    0,    0,    0,\n",
              "            0,    0,    0,    0,    0,    0,    0,    0,    0,    0,    0,\n",
              "            0,    0,    0,    0,    0,    0,    0,    0,    0,    0,    0,\n",
              "            0,    0,    0,    0,    0,    0,    0,    0,    0,    0,    0,\n",
              "            0,    0,    0,    0,    0,    0,    0,    0,    0,    0,    0,\n",
              "            0,    0,    0,    0,    0,    0,    0,    0,    0,    0,    0,\n",
              "            0,    0,    0,    0,    0,    0,    0,    0,    0,    0,    0,\n",
              "            0,    0,    0,    0,    0,    0,    0,    0,    0,    0,    0,\n",
              "            0,    0,    0,    0,    0,    0,    0,    0,    0,    0,    0,\n",
              "            0,    0,    0,    0,    0,    0,    0,    0,    0,    0,    0,\n",
              "            0,    0,    0,    0,    0], dtype=int32),\n",
              "  array([0., 0., 0., 0., 0., 0., 0., 0., 0., 0., 0., 0., 1., 0., 0., 0., 0.,\n",
              "         0., 0., 0., 0., 0., 0., 0., 0., 0., 0., 0., 0., 0., 0., 0., 0., 0.,\n",
              "         0., 0., 0., 0., 0., 0., 0., 0., 0., 0., 0., 0., 0., 0., 0., 0., 0.,\n",
              "         0., 0., 0., 0., 0., 0., 0., 0., 0.], dtype=float32)],\n",
              " [array([1435, 2586, 6022, 4626, 7848, 7350, 6629, 3882, 2049, 5405, 6855,\n",
              "           54, 6228, 6696, 2125, 6006, 3854, 5655, 6999,  258, 6498, 5940,\n",
              "         1407, 3059, 7794,  862, 5354, 6797,   54, 6247, 1849, 1204, 2705,\n",
              "         7782, 6705, 5655, 6999,  258, 5538, 5690, 1434, 4213, 7051, 5760,\n",
              "         4996, 2589, 3272,  905,  832, 6553,   54, 7323, 4983, 3868, 4252,\n",
              "         1530, 5330, 3871, 7083, 4204, 5405, 5703,   54,    0,    0,    0,\n",
              "            0,    0,    0,    0,    0,    0,    0,    0,    0,    0,    0,\n",
              "            0,    0,    0,    0,    0,    0,    0,    0,    0,    0,    0,\n",
              "            0,    0,    0,    0,    0,    0,    0,    0,    0,    0,    0,\n",
              "            0,    0,    0,    0,    0,    0,    0,    0,    0,    0,    0,\n",
              "            0,    0,    0,    0,    0,    0,    0,    0,    0,    0,    0,\n",
              "            0,    0,    0,    0,    0,    0,    0,    0,    0,    0,    0,\n",
              "            0,    0,    0,    0,    0,    0,    0,    0,    0,    0,    0,\n",
              "            0,    0,    0,    0,    0,    0,    0,    0,    0,    0,    0,\n",
              "            0,    0,    0,    0,    0,    0,    0,    0,    0,    0,    0,\n",
              "            0,    0,    0,    0,    0,    0,    0,    0,    0,    0,    0,\n",
              "            0,    0,    0,    0,    0,    0,    0,    0,    0,    0,    0,\n",
              "            0,    0,    0,    0,    0,    0,    0,    0,    0,    0,    0,\n",
              "            0,    0,    0,    0,    0,    0,    0,    0,    0,    0,    0,\n",
              "            0,    0,    0,    0,    0,    0,    0,    0,    0,    0,    0,\n",
              "            0,    0,    0,    0,    0,    0,    0,    0,    0,    0,    0,\n",
              "            0,    0,    0,    0,    0,    0,    0,    0,    0,    0,    0,\n",
              "            0,    0,    0,    0,    0,    0,    0,    0,    0,    0,    0,\n",
              "            0,    0,    0,    0,    0,    0,    0,    0,    0,    0,    0,\n",
              "            0,    0,    0,    0,    0,    0,    0,    0,    0,    0,    0,\n",
              "            0,    0,    0,    0,    0,    0,    0,    0,    0,    0,    0,\n",
              "            0,    0,    0,    0,    0,    0,    0,    0,    0,    0,    0,\n",
              "            0,    0,    0,    0,    0,    0,    0,    0,    0,    0,    0,\n",
              "            0,    0,    0,    0,    0,    0,    0,    0,    0,    0,    0,\n",
              "            0,    0,    0,    0,    0,    0,    0,    0,    0,    0,    0,\n",
              "            0,    0,    0,    0,    0,    0,    0,    0,    0,    0,    0,\n",
              "            0,    0,    0,    0,    0,    0,    0,    0,    0,    0,    0,\n",
              "            0,    0,    0,    0,    0,    0,    0,    0,    0,    0,    0,\n",
              "            0,    0,    0,    0,    0,    0,    0,    0,    0,    0,    0,\n",
              "            0,    0,    0,    0,    0,    0,    0,    0,    0,    0,    0,\n",
              "            0,    0,    0,    0,    0,    0,    0,    0,    0,    0,    0,\n",
              "            0,    0,    0,    0,    0,    0,    0,    0,    0,    0,    0,\n",
              "            0,    0,    0,    0,    0,    0,    0,    0,    0,    0,    0,\n",
              "            0,    0,    0,    0,    0,    0,    0,    0,    0,    0,    0,\n",
              "            0,    0,    0,    0,    0,    0,    0,    0,    0,    0,    0,\n",
              "            0,    0,    0,    0,    0,    0,    0,    0,    0,    0,    0,\n",
              "            0,    0,    0,    0,    0,    0,    0,    0,    0,    0,    0,\n",
              "            0,    0,    0,    0,    0,    0,    0,    0,    0,    0,    0,\n",
              "            0,    0,    0,    0,    0,    0,    0,    0,    0,    0,    0,\n",
              "            0,    0,    0,    0,    0,    0,    0,    0,    0,    0,    0,\n",
              "            0,    0,    0,    0,    0], dtype=int32),\n",
              "  array([0., 0., 0., 0., 0., 0., 0., 0., 0., 0., 0., 0., 0., 0., 0., 0., 0.,\n",
              "         0., 1., 0., 0., 0., 0., 0., 0., 0., 0., 0., 0., 0., 0., 0., 0., 0.,\n",
              "         0., 0., 0., 0., 0., 0., 0., 0., 0., 0., 0., 0., 0., 0., 0., 0., 0.,\n",
              "         0., 0., 0., 0., 0., 0., 0., 0., 0.], dtype=float32)],\n",
              " [array([3060, 7188,  517, 7555, 7555, 1868,   54, 3220, 5970, 7819,  258,\n",
              "         6534, 7088, 4196, 1698, 3907, 7996, 2773, 7848, 7276, 6705, 5405,\n",
              "         6857,  258, 5679, 3424, 3958, 7483, 5842, 4627, 5330, 3872,  517,\n",
              "            0, 5330, 3906, 7807, 2971, 7864, 5808,   54, 7096, 2692, 2346,\n",
              "         6724, 3567, 4998, 6386, 2872, 3860, 3818, 2095, 6884, 7096, 3881,\n",
              "         6999,  258, 5663, 1101, 6087, 7997, 5782, 5439, 2705, 7819, 2086,\n",
              "         7867,  517, 5330, 6553, 4360, 6745, 7078, 2579, 7852, 5405, 6855,\n",
              "           54, 7344, 6745, 7078, 2579, 7788, 2692, 1218, 7836, 2872, 3854,\n",
              "         5585, 2193, 6999,   54,    0,    0,    0,    0,    0,    0,    0,\n",
              "            0,    0,    0,    0,    0,    0,    0,    0,    0,    0,    0,\n",
              "            0,    0,    0,    0,    0,    0,    0,    0,    0,    0,    0,\n",
              "            0,    0,    0,    0,    0,    0,    0,    0,    0,    0,    0,\n",
              "            0,    0,    0,    0,    0,    0,    0,    0,    0,    0,    0,\n",
              "            0,    0,    0,    0,    0,    0,    0,    0,    0,    0,    0,\n",
              "            0,    0,    0,    0,    0,    0,    0,    0,    0,    0,    0,\n",
              "            0,    0,    0,    0,    0,    0,    0,    0,    0,    0,    0,\n",
              "            0,    0,    0,    0,    0,    0,    0,    0,    0,    0,    0,\n",
              "            0,    0,    0,    0,    0,    0,    0,    0,    0,    0,    0,\n",
              "            0,    0,    0,    0,    0,    0,    0,    0,    0,    0,    0,\n",
              "            0,    0,    0,    0,    0,    0,    0,    0,    0,    0,    0,\n",
              "            0,    0,    0,    0,    0,    0,    0,    0,    0,    0,    0,\n",
              "            0,    0,    0,    0,    0,    0,    0,    0,    0,    0,    0,\n",
              "            0,    0,    0,    0,    0,    0,    0,    0,    0,    0,    0,\n",
              "            0,    0,    0,    0,    0,    0,    0,    0,    0,    0,    0,\n",
              "            0,    0,    0,    0,    0,    0,    0,    0,    0,    0,    0,\n",
              "            0,    0,    0,    0,    0,    0,    0,    0,    0,    0,    0,\n",
              "            0,    0,    0,    0,    0,    0,    0,    0,    0,    0,    0,\n",
              "            0,    0,    0,    0,    0,    0,    0,    0,    0,    0,    0,\n",
              "            0,    0,    0,    0,    0,    0,    0,    0,    0,    0,    0,\n",
              "            0,    0,    0,    0,    0,    0,    0,    0,    0,    0,    0,\n",
              "            0,    0,    0,    0,    0,    0,    0,    0,    0,    0,    0,\n",
              "            0,    0,    0,    0,    0,    0,    0,    0,    0,    0,    0,\n",
              "            0,    0,    0,    0,    0,    0,    0,    0,    0,    0,    0,\n",
              "            0,    0,    0,    0,    0,    0,    0,    0,    0,    0,    0,\n",
              "            0,    0,    0,    0,    0,    0,    0,    0,    0,    0,    0,\n",
              "            0,    0,    0,    0,    0,    0,    0,    0,    0,    0,    0,\n",
              "            0,    0,    0,    0,    0,    0,    0,    0,    0,    0,    0,\n",
              "            0,    0,    0,    0,    0,    0,    0,    0,    0,    0,    0,\n",
              "            0,    0,    0,    0,    0,    0,    0,    0,    0,    0,    0,\n",
              "            0,    0,    0,    0,    0,    0,    0,    0,    0,    0,    0,\n",
              "            0,    0,    0,    0,    0,    0,    0,    0,    0,    0,    0,\n",
              "            0,    0,    0,    0,    0,    0,    0,    0,    0,    0,    0,\n",
              "            0,    0,    0,    0,    0,    0,    0,    0,    0,    0,    0,\n",
              "            0,    0,    0,    0,    0,    0,    0,    0,    0,    0,    0,\n",
              "            0,    0,    0,    0,    0,    0,    0,    0,    0,    0,    0,\n",
              "            0,    0,    0,    0,    0], dtype=int32),\n",
              "  array([0., 0., 0., 0., 0., 0., 0., 0., 0., 0., 0., 0., 0., 0., 0., 0., 0.,\n",
              "         0., 1., 0., 0., 0., 0., 0., 0., 0., 0., 0., 0., 0., 0., 0., 0., 0.,\n",
              "         0., 0., 0., 0., 0., 0., 0., 0., 0., 0., 0., 0., 0., 0., 0., 0., 0.,\n",
              "         0., 0., 0., 0., 0., 0., 0., 0., 0.], dtype=float32)],\n",
              " [array([3238, 1435, 4955, 3042, 1849, 4627, 6897, 4102, 2149, 6812, 7848,\n",
              "           54, 6855, 5971, 3803, 7123, 3907, 7996, 1961, 7848, 7276, 6705,\n",
              "         5405, 6857,  258, 5679, 2918, 7088, 1956, 1907, 6601, 6553, 4627,\n",
              "         3454, 6896, 4737, 7848, 6323, 6072, 6855,   54, 7489, 5495, 6897,\n",
              "         2149, 6812, 7828, 1917, 1849, 1101, 6079, 7018, 7788,  980, 6705,\n",
              "         5760, 5512, 6999,   54, 7489, 5495, 6897, 2579, 7788, 2801, 7589,\n",
              "         6443,  517, 7304, 5405, 6855,   54, 7489, 5495, 6897, 1918, 4012,\n",
              "         7807, 4924, 6705, 5760, 5512, 6999,   54,    0,    0,    0,    0,\n",
              "            0,    0,    0,    0,    0,    0,    0,    0,    0,    0,    0,\n",
              "            0,    0,    0,    0,    0,    0,    0,    0,    0,    0,    0,\n",
              "            0,    0,    0,    0,    0,    0,    0,    0,    0,    0,    0,\n",
              "            0,    0,    0,    0,    0,    0,    0,    0,    0,    0,    0,\n",
              "            0,    0,    0,    0,    0,    0,    0,    0,    0,    0,    0,\n",
              "            0,    0,    0,    0,    0,    0,    0,    0,    0,    0,    0,\n",
              "            0,    0,    0,    0,    0,    0,    0,    0,    0,    0,    0,\n",
              "            0,    0,    0,    0,    0,    0,    0,    0,    0,    0,    0,\n",
              "            0,    0,    0,    0,    0,    0,    0,    0,    0,    0,    0,\n",
              "            0,    0,    0,    0,    0,    0,    0,    0,    0,    0,    0,\n",
              "            0,    0,    0,    0,    0,    0,    0,    0,    0,    0,    0,\n",
              "            0,    0,    0,    0,    0,    0,    0,    0,    0,    0,    0,\n",
              "            0,    0,    0,    0,    0,    0,    0,    0,    0,    0,    0,\n",
              "            0,    0,    0,    0,    0,    0,    0,    0,    0,    0,    0,\n",
              "            0,    0,    0,    0,    0,    0,    0,    0,    0,    0,    0,\n",
              "            0,    0,    0,    0,    0,    0,    0,    0,    0,    0,    0,\n",
              "            0,    0,    0,    0,    0,    0,    0,    0,    0,    0,    0,\n",
              "            0,    0,    0,    0,    0,    0,    0,    0,    0,    0,    0,\n",
              "            0,    0,    0,    0,    0,    0,    0,    0,    0,    0,    0,\n",
              "            0,    0,    0,    0,    0,    0,    0,    0,    0,    0,    0,\n",
              "            0,    0,    0,    0,    0,    0,    0,    0,    0,    0,    0,\n",
              "            0,    0,    0,    0,    0,    0,    0,    0,    0,    0,    0,\n",
              "            0,    0,    0,    0,    0,    0,    0,    0,    0,    0,    0,\n",
              "            0,    0,    0,    0,    0,    0,    0,    0,    0,    0,    0,\n",
              "            0,    0,    0,    0,    0,    0,    0,    0,    0,    0,    0,\n",
              "            0,    0,    0,    0,    0,    0,    0,    0,    0,    0,    0,\n",
              "            0,    0,    0,    0,    0,    0,    0,    0,    0,    0,    0,\n",
              "            0,    0,    0,    0,    0,    0,    0,    0,    0,    0,    0,\n",
              "            0,    0,    0,    0,    0,    0,    0,    0,    0,    0,    0,\n",
              "            0,    0,    0,    0,    0,    0,    0,    0,    0,    0,    0,\n",
              "            0,    0,    0,    0,    0,    0,    0,    0,    0,    0,    0,\n",
              "            0,    0,    0,    0,    0,    0,    0,    0,    0,    0,    0,\n",
              "            0,    0,    0,    0,    0,    0,    0,    0,    0,    0,    0,\n",
              "            0,    0,    0,    0,    0,    0,    0,    0,    0,    0,    0,\n",
              "            0,    0,    0,    0,    0,    0,    0,    0,    0,    0,    0,\n",
              "            0,    0,    0,    0,    0,    0,    0,    0,    0,    0,    0,\n",
              "            0,    0,    0,    0,    0,    0,    0,    0,    0,    0,    0,\n",
              "            0,    0,    0,    0,    0], dtype=int32),\n",
              "  array([0., 0., 0., 0., 0., 0., 0., 0., 0., 0., 0., 0., 0., 0., 0., 0., 0.,\n",
              "         0., 0., 0., 0., 0., 0., 0., 0., 0., 0., 0., 0., 0., 0., 0., 0., 0.,\n",
              "         0., 0., 0., 0., 0., 0., 0., 0., 0., 0., 0., 1., 0., 0., 0., 0., 0.,\n",
              "         0., 0., 0., 0., 0., 0., 0., 0., 0.], dtype=float32)],\n",
              " [array([2387, 6664, 7767, 6750, 7088, 1618, 7850, 1458, 1632, 6668,   54,\n",
              "         6374, 6664, 7767, 6750, 7088, 1618, 7850, 1458, 1632, 6664, 6037,\n",
              "         7005, 6705, 5512, 6999,   54, 7096, 6040, 3817, 1618, 7828,  921,\n",
              "         4468, 7101, 1458, 2095, 6553, 7018, 6553, 2008, 5330, 4924,    0,\n",
              "         5400, 2339, 7848, 6323, 6072, 6855,   54, 5691, 6228, 2095, 6553,\n",
              "         7005, 6604, 5405, 6857,   54, 4301, 1100, 6797, 7318, 6604, 5655,\n",
              "         6999,  258, 7323, 7086, 1100, 6797, 7248, 6855,   54, 3093, 5591,\n",
              "         5760, 2387, 6664, 7767, 6750, 7107, 2606, 3168, 3060, 7188, 1907,\n",
              "         6441, 5889, 1282, 7112, 5771,   54, 6158, 7096, 1505, 6604, 5842,\n",
              "          905,  830, 5703,   54,    0,    0,    0,    0,    0,    0,    0,\n",
              "            0,    0,    0,    0,    0,    0,    0,    0,    0,    0,    0,\n",
              "            0,    0,    0,    0,    0,    0,    0,    0,    0,    0,    0,\n",
              "            0,    0,    0,    0,    0,    0,    0,    0,    0,    0,    0,\n",
              "            0,    0,    0,    0,    0,    0,    0,    0,    0,    0,    0,\n",
              "            0,    0,    0,    0,    0,    0,    0,    0,    0,    0,    0,\n",
              "            0,    0,    0,    0,    0,    0,    0,    0,    0,    0,    0,\n",
              "            0,    0,    0,    0,    0,    0,    0,    0,    0,    0,    0,\n",
              "            0,    0,    0,    0,    0,    0,    0,    0,    0,    0,    0,\n",
              "            0,    0,    0,    0,    0,    0,    0,    0,    0,    0,    0,\n",
              "            0,    0,    0,    0,    0,    0,    0,    0,    0,    0,    0,\n",
              "            0,    0,    0,    0,    0,    0,    0,    0,    0,    0,    0,\n",
              "            0,    0,    0,    0,    0,    0,    0,    0,    0,    0,    0,\n",
              "            0,    0,    0,    0,    0,    0,    0,    0,    0,    0,    0,\n",
              "            0,    0,    0,    0,    0,    0,    0,    0,    0,    0,    0,\n",
              "            0,    0,    0,    0,    0,    0,    0,    0,    0,    0,    0,\n",
              "            0,    0,    0,    0,    0,    0,    0,    0,    0,    0,    0,\n",
              "            0,    0,    0,    0,    0,    0,    0,    0,    0,    0,    0,\n",
              "            0,    0,    0,    0,    0,    0,    0,    0,    0,    0,    0,\n",
              "            0,    0,    0,    0,    0,    0,    0,    0,    0,    0,    0,\n",
              "            0,    0,    0,    0,    0,    0,    0,    0,    0,    0,    0,\n",
              "            0,    0,    0,    0,    0,    0,    0,    0,    0,    0,    0,\n",
              "            0,    0,    0,    0,    0,    0,    0,    0,    0,    0,    0,\n",
              "            0,    0,    0,    0,    0,    0,    0,    0,    0,    0,    0,\n",
              "            0,    0,    0,    0,    0,    0,    0,    0,    0,    0,    0,\n",
              "            0,    0,    0,    0,    0,    0,    0,    0,    0,    0,    0,\n",
              "            0,    0,    0,    0,    0,    0,    0,    0,    0,    0,    0,\n",
              "            0,    0,    0,    0,    0,    0,    0,    0,    0,    0,    0,\n",
              "            0,    0,    0,    0,    0,    0,    0,    0,    0,    0,    0,\n",
              "            0,    0,    0,    0,    0,    0,    0,    0,    0,    0,    0,\n",
              "            0,    0,    0,    0,    0,    0,    0,    0,    0,    0,    0,\n",
              "            0,    0,    0,    0,    0,    0,    0,    0,    0,    0,    0,\n",
              "            0,    0,    0,    0,    0,    0,    0,    0,    0,    0,    0,\n",
              "            0,    0,    0,    0,    0,    0,    0,    0,    0,    0,    0,\n",
              "            0,    0,    0,    0,    0,    0,    0,    0,    0,    0,    0,\n",
              "            0,    0,    0,    0,    0,    0,    0,    0,    0,    0,    0,\n",
              "            0,    0,    0,    0,    0], dtype=int32),\n",
              "  array([0., 0., 0., 0., 0., 0., 0., 0., 0., 0., 0., 0., 0., 0., 0., 1., 0.,\n",
              "         0., 0., 0., 0., 0., 0., 0., 0., 0., 0., 0., 0., 0., 0., 0., 0., 0.,\n",
              "         0., 0., 0., 0., 0., 0., 0., 0., 0., 0., 0., 0., 0., 0., 0., 0., 0.,\n",
              "         0., 0., 0., 0., 0., 0., 0., 0., 0.], dtype=float32)],\n",
              " [array([3395, 7354, 3376, 5341, 7086, 3177, 2888, 7088, 2232, 4297, 3252,\n",
              "         1768, 5859, 3156, 5761, 3886, 5628, 1916, 5152, 5474, 6896, 1390,\n",
              "          889, 2372, 4955, 6745, 7848, 4244, 5405, 6855,   54, 6637, 7088,\n",
              "         1927, 1925, 3731, 2468, 5612, 1916, 5152, 5474, 6896,  984, 1388,\n",
              "         6705, 5760,  921, 3011, 3084, 7096, 6705, 5655, 2355, 5703,   54,\n",
              "         7276, 6355, 2586, 2923, 6004, 1204, 1958, 7795, 5859, 4062, 3135,\n",
              "         1804,   54, 1805, 2923, 5760,  921, 4204, 7088,  517, 7621, 5850,\n",
              "           54, 6855, 5975, 5400, 4939, 3731, 4977, 6798, 5612, 1916, 5152,\n",
              "         5474, 6896, 3135, 1389, 1805, 2923, 5400, 4977, 2872, 3881, 6999,\n",
              "          258, 5679, 4358, 3395, 7354, 6896, 3715, 5010, 5405, 6855,   54,\n",
              "         4197, 7268, 4446, 5330, 6198, 1185, 5859, 4384, 6903, 1704, 3060,\n",
              "         6745, 7848, 7782, 5405, 7318,   54, 6956, 7354, 2468, 5468, 7095,\n",
              "         3714, 5330, 3546, 7784, 4888, 6122, 5573, 2193, 6999,   54,    0,\n",
              "            0,    0,    0,    0,    0,    0,    0,    0,    0,    0,    0,\n",
              "            0,    0,    0,    0,    0,    0,    0,    0,    0,    0,    0,\n",
              "            0,    0,    0,    0,    0,    0,    0,    0,    0,    0,    0,\n",
              "            0,    0,    0,    0,    0,    0,    0,    0,    0,    0,    0,\n",
              "            0,    0,    0,    0,    0,    0,    0,    0,    0,    0,    0,\n",
              "            0,    0,    0,    0,    0,    0,    0,    0,    0,    0,    0,\n",
              "            0,    0,    0,    0,    0,    0,    0,    0,    0,    0,    0,\n",
              "            0,    0,    0,    0,    0,    0,    0,    0,    0,    0,    0,\n",
              "            0,    0,    0,    0,    0,    0,    0,    0,    0,    0,    0,\n",
              "            0,    0,    0,    0,    0,    0,    0,    0,    0,    0,    0,\n",
              "            0,    0,    0,    0,    0,    0,    0,    0,    0,    0,    0,\n",
              "            0,    0,    0,    0,    0,    0,    0,    0,    0,    0,    0,\n",
              "            0,    0,    0,    0,    0,    0,    0,    0,    0,    0,    0,\n",
              "            0,    0,    0,    0,    0,    0,    0,    0,    0,    0,    0,\n",
              "            0,    0,    0,    0,    0,    0,    0,    0,    0,    0,    0,\n",
              "            0,    0,    0,    0,    0,    0,    0,    0,    0,    0,    0,\n",
              "            0,    0,    0,    0,    0,    0,    0,    0,    0,    0,    0,\n",
              "            0,    0,    0,    0,    0,    0,    0,    0,    0,    0,    0,\n",
              "            0,    0,    0,    0,    0,    0,    0,    0,    0,    0,    0,\n",
              "            0,    0,    0,    0,    0,    0,    0,    0,    0,    0,    0,\n",
              "            0,    0,    0,    0,    0,    0,    0,    0,    0,    0,    0,\n",
              "            0,    0,    0,    0,    0,    0,    0,    0,    0,    0,    0,\n",
              "            0,    0,    0,    0,    0,    0,    0,    0,    0,    0,    0,\n",
              "            0,    0,    0,    0,    0,    0,    0,    0,    0,    0,    0,\n",
              "            0,    0,    0,    0,    0,    0,    0,    0,    0,    0,    0,\n",
              "            0,    0,    0,    0,    0,    0,    0,    0,    0,    0,    0,\n",
              "            0,    0,    0,    0,    0,    0,    0,    0,    0,    0,    0,\n",
              "            0,    0,    0,    0,    0,    0,    0,    0,    0,    0,    0,\n",
              "            0,    0,    0,    0,    0,    0,    0,    0,    0,    0,    0,\n",
              "            0,    0,    0,    0,    0,    0,    0,    0,    0,    0,    0,\n",
              "            0,    0,    0,    0,    0,    0,    0,    0,    0,    0,    0,\n",
              "            0,    0,    0,    0,    0,    0,    0,    0,    0,    0,    0,\n",
              "            0,    0,    0,    0,    0], dtype=int32),\n",
              "  array([0., 0., 0., 0., 0., 0., 0., 0., 0., 0., 0., 0., 0., 0., 0., 0., 0.,\n",
              "         0., 0., 0., 0., 0., 0., 0., 0., 0., 0., 0., 0., 0., 0., 0., 0., 0.,\n",
              "         0., 0., 1., 0., 0., 0., 0., 0., 0., 0., 0., 0., 0., 0., 0., 0., 0.,\n",
              "         0., 0., 0., 0., 0., 0., 0., 0., 0.], dtype=float32)],\n",
              " [array([1434,  882, 6896, 1685, 2423, 5640, 6044, 5439, 3358, 5944, 5344,\n",
              "         1548, 1844, 5330, 1952,   54, 6228, 6696,  981, 3871, 5655, 6999,\n",
              "          258, 7464, 1741, 7925, 7953, 6896,  758, 7867,  834, 3514, 7848,\n",
              "         6364, 5771, 1434,  882, 5468, 4495, 7096, 1956, 1783, 7416, 7345,\n",
              "         5760,  911, 1545, 6855,   54, 5538, 6037, 6604, 5512, 6999,   54,\n",
              "         1917, 7096, 3135, 4204, 7074, 6604, 5405, 6857,   54, 7094, 1698,\n",
              "         3358, 5944, 5341, 1546, 5561, 4045, 4299, 6410, 6006,  882, 7088,\n",
              "         3568, 1700, 5837, 3367, 3514, 7852, 5405, 6855,   54, 5702,   54,\n",
              "          882, 7088, 3567, 1700, 3367, 3514, 7782, 6705, 5585, 2193, 6999,\n",
              "           54,    0,    0,    0,    0,    0,    0,    0,    0,    0,    0,\n",
              "            0,    0,    0,    0,    0,    0,    0,    0,    0,    0,    0,\n",
              "            0,    0,    0,    0,    0,    0,    0,    0,    0,    0,    0,\n",
              "            0,    0,    0,    0,    0,    0,    0,    0,    0,    0,    0,\n",
              "            0,    0,    0,    0,    0,    0,    0,    0,    0,    0,    0,\n",
              "            0,    0,    0,    0,    0,    0,    0,    0,    0,    0,    0,\n",
              "            0,    0,    0,    0,    0,    0,    0,    0,    0,    0,    0,\n",
              "            0,    0,    0,    0,    0,    0,    0,    0,    0,    0,    0,\n",
              "            0,    0,    0,    0,    0,    0,    0,    0,    0,    0,    0,\n",
              "            0,    0,    0,    0,    0,    0,    0,    0,    0,    0,    0,\n",
              "            0,    0,    0,    0,    0,    0,    0,    0,    0,    0,    0,\n",
              "            0,    0,    0,    0,    0,    0,    0,    0,    0,    0,    0,\n",
              "            0,    0,    0,    0,    0,    0,    0,    0,    0,    0,    0,\n",
              "            0,    0,    0,    0,    0,    0,    0,    0,    0,    0,    0,\n",
              "            0,    0,    0,    0,    0,    0,    0,    0,    0,    0,    0,\n",
              "            0,    0,    0,    0,    0,    0,    0,    0,    0,    0,    0,\n",
              "            0,    0,    0,    0,    0,    0,    0,    0,    0,    0,    0,\n",
              "            0,    0,    0,    0,    0,    0,    0,    0,    0,    0,    0,\n",
              "            0,    0,    0,    0,    0,    0,    0,    0,    0,    0,    0,\n",
              "            0,    0,    0,    0,    0,    0,    0,    0,    0,    0,    0,\n",
              "            0,    0,    0,    0,    0,    0,    0,    0,    0,    0,    0,\n",
              "            0,    0,    0,    0,    0,    0,    0,    0,    0,    0,    0,\n",
              "            0,    0,    0,    0,    0,    0,    0,    0,    0,    0,    0,\n",
              "            0,    0,    0,    0,    0,    0,    0,    0,    0,    0,    0,\n",
              "            0,    0,    0,    0,    0,    0,    0,    0,    0,    0,    0,\n",
              "            0,    0,    0,    0,    0,    0,    0,    0,    0,    0,    0,\n",
              "            0,    0,    0,    0,    0,    0,    0,    0,    0,    0,    0,\n",
              "            0,    0,    0,    0,    0,    0,    0,    0,    0,    0,    0,\n",
              "            0,    0,    0,    0,    0,    0,    0,    0,    0,    0,    0,\n",
              "            0,    0,    0,    0,    0,    0,    0,    0,    0,    0,    0,\n",
              "            0,    0,    0,    0,    0,    0,    0,    0,    0,    0,    0,\n",
              "            0,    0,    0,    0,    0,    0,    0,    0,    0,    0,    0,\n",
              "            0,    0,    0,    0,    0,    0,    0,    0,    0,    0,    0,\n",
              "            0,    0,    0,    0,    0,    0,    0,    0,    0,    0,    0,\n",
              "            0,    0,    0,    0,    0,    0,    0,    0,    0,    0,    0,\n",
              "            0,    0,    0,    0,    0,    0,    0,    0,    0,    0,    0,\n",
              "            0,    0,    0,    0,    0], dtype=int32),\n",
              "  array([0., 0., 0., 0., 0., 0., 0., 0., 0., 0., 0., 0., 0., 0., 0., 0., 0.,\n",
              "         0., 0., 0., 0., 0., 0., 0., 0., 0., 0., 0., 0., 0., 0., 0., 0., 0.,\n",
              "         0., 0., 0., 0., 0., 0., 0., 0., 0., 0., 1., 0., 0., 0., 0., 0., 0.,\n",
              "         0., 0., 0., 0., 0., 0., 0., 0., 0.], dtype=float32)],\n",
              " [array([3466, 1562, 5931,  950, 7805, 3135, 5793, 7126, 5591,  258, 1375,\n",
              "         3129, 1091, 3272, 5850, 1963, 6844,   54, 7276, 6355, 2585, 7095,\n",
              "         2781, 7941, 6896, 5112, 5330, 1370, 6705, 5405, 6857,   54, 6821,\n",
              "         6797, 6553, 4977, 4733, 5770, 1089, 4196, 1344, 7305, 7083, 4204,\n",
              "         5405, 6855,   54, 5666, 7095, 2959, 6559, 1849, 4396, 7316, 5655,\n",
              "         6705, 5405, 6857,   54, 7096, 7234, 6410, 1613, 5907, 7318, 3149,\n",
              "          517, 6618, 7342, 7784, 3714,  517, 7807, 4998,   54, 6498, 5939,\n",
              "          777, 6570, 6903, 3920, 6079, 7018, 7318, 6604, 7083, 4204, 5405,\n",
              "         5703,   54,    0,    0,    0,    0,    0,    0,    0,    0,    0,\n",
              "            0,    0,    0,    0,    0,    0,    0,    0,    0,    0,    0,\n",
              "            0,    0,    0,    0,    0,    0,    0,    0,    0,    0,    0,\n",
              "            0,    0,    0,    0,    0,    0,    0,    0,    0,    0,    0,\n",
              "            0,    0,    0,    0,    0,    0,    0,    0,    0,    0,    0,\n",
              "            0,    0,    0,    0,    0,    0,    0,    0,    0,    0,    0,\n",
              "            0,    0,    0,    0,    0,    0,    0,    0,    0,    0,    0,\n",
              "            0,    0,    0,    0,    0,    0,    0,    0,    0,    0,    0,\n",
              "            0,    0,    0,    0,    0,    0,    0,    0,    0,    0,    0,\n",
              "            0,    0,    0,    0,    0,    0,    0,    0,    0,    0,    0,\n",
              "            0,    0,    0,    0,    0,    0,    0,    0,    0,    0,    0,\n",
              "            0,    0,    0,    0,    0,    0,    0,    0,    0,    0,    0,\n",
              "            0,    0,    0,    0,    0,    0,    0,    0,    0,    0,    0,\n",
              "            0,    0,    0,    0,    0,    0,    0,    0,    0,    0,    0,\n",
              "            0,    0,    0,    0,    0,    0,    0,    0,    0,    0,    0,\n",
              "            0,    0,    0,    0,    0,    0,    0,    0,    0,    0,    0,\n",
              "            0,    0,    0,    0,    0,    0,    0,    0,    0,    0,    0,\n",
              "            0,    0,    0,    0,    0,    0,    0,    0,    0,    0,    0,\n",
              "            0,    0,    0,    0,    0,    0,    0,    0,    0,    0,    0,\n",
              "            0,    0,    0,    0,    0,    0,    0,    0,    0,    0,    0,\n",
              "            0,    0,    0,    0,    0,    0,    0,    0,    0,    0,    0,\n",
              "            0,    0,    0,    0,    0,    0,    0,    0,    0,    0,    0,\n",
              "            0,    0,    0,    0,    0,    0,    0,    0,    0,    0,    0,\n",
              "            0,    0,    0,    0,    0,    0,    0,    0,    0,    0,    0,\n",
              "            0,    0,    0,    0,    0,    0,    0,    0,    0,    0,    0,\n",
              "            0,    0,    0,    0,    0,    0,    0,    0,    0,    0,    0,\n",
              "            0,    0,    0,    0,    0,    0,    0,    0,    0,    0,    0,\n",
              "            0,    0,    0,    0,    0,    0,    0,    0,    0,    0,    0,\n",
              "            0,    0,    0,    0,    0,    0,    0,    0,    0,    0,    0,\n",
              "            0,    0,    0,    0,    0,    0,    0,    0,    0,    0,    0,\n",
              "            0,    0,    0,    0,    0,    0,    0,    0,    0,    0,    0,\n",
              "            0,    0,    0,    0,    0,    0,    0,    0,    0,    0,    0,\n",
              "            0,    0,    0,    0,    0,    0,    0,    0,    0,    0,    0,\n",
              "            0,    0,    0,    0,    0,    0,    0,    0,    0,    0,    0,\n",
              "            0,    0,    0,    0,    0,    0,    0,    0,    0,    0,    0,\n",
              "            0,    0,    0,    0,    0,    0,    0,    0,    0,    0,    0,\n",
              "            0,    0,    0,    0,    0,    0,    0,    0,    0,    0,    0,\n",
              "            0,    0,    0,    0,    0], dtype=int32),\n",
              "  array([0., 0., 0., 1., 0., 0., 0., 0., 0., 0., 0., 0., 0., 0., 0., 0., 0.,\n",
              "         0., 0., 0., 0., 0., 0., 0., 0., 0., 0., 0., 0., 0., 0., 0., 0., 0.,\n",
              "         0., 0., 0., 0., 0., 0., 0., 0., 0., 0., 0., 0., 0., 0., 0., 0., 0.,\n",
              "         0., 0., 0., 0., 0., 0., 0., 0., 0.], dtype=float32)]]"
            ]
          },
          "metadata": {
            "tags": []
          },
          "execution_count": 92
        }
      ]
    },
    {
      "cell_type": "code",
      "metadata": {
        "id": "HYgjMqGa1det"
      },
      "source": [
        "train_padded = [n[0] for n in tmp]\n",
        "train_labels = [n[1] for n in tmp]"
      ],
      "execution_count": 93,
      "outputs": []
    },
    {
      "cell_type": "code",
      "metadata": {
        "colab": {
          "base_uri": "https://localhost:8080/",
          "height": 0
        },
        "id": "XxwGYFN01det",
        "outputId": "5ff31829-809b-413e-c0de-07644815de99"
      },
      "source": [
        "# check\n",
        "train_padded[:10]"
      ],
      "execution_count": 94,
      "outputs": [
        {
          "output_type": "execute_result",
          "data": {
            "text/plain": [
              "[array([1370, 5102, 3501, 2443, 6903, 3803, 7794, 1549, 7096, 6844,   54,\n",
              "        6247, 1849, 1204, 1546, 6705, 5655, 6999,  258, 7094, 3224, 3818,\n",
              "        1810, 6198, 1370, 5102, 4930, 1282, 7096, 6844,   54, 6855, 5975,\n",
              "        5400, 4939, 3803, 2428, 4252, 2872, 3881, 6999,  258, 6854, 5568,\n",
              "        4998, 2421, 5761, 1562, 5931, 3890, 5933, 4966, 1198, 5839, 5439,\n",
              "          54, 6542, 5336, 7096, 1956, 1598, 6553, 2856, 6527, 7782, 6738,\n",
              "         905,  832, 6999,   54,    0,    0,    0,    0,    0,    0,    0,\n",
              "           0,    0,    0,    0,    0,    0,    0,    0,    0,    0,    0,\n",
              "           0,    0,    0,    0,    0,    0,    0,    0,    0,    0,    0,\n",
              "           0,    0,    0,    0,    0,    0,    0,    0,    0,    0,    0,\n",
              "           0,    0,    0,    0,    0,    0,    0,    0,    0,    0,    0,\n",
              "           0,    0,    0,    0,    0,    0,    0,    0,    0,    0,    0,\n",
              "           0,    0,    0,    0,    0,    0,    0,    0,    0,    0,    0,\n",
              "           0,    0,    0,    0,    0,    0,    0,    0,    0,    0,    0,\n",
              "           0,    0,    0,    0,    0,    0,    0,    0,    0,    0,    0,\n",
              "           0,    0,    0,    0,    0,    0,    0,    0,    0,    0,    0,\n",
              "           0,    0,    0,    0,    0,    0,    0,    0,    0,    0,    0,\n",
              "           0,    0,    0,    0,    0,    0,    0,    0,    0,    0,    0,\n",
              "           0,    0,    0,    0,    0,    0,    0,    0,    0,    0,    0,\n",
              "           0,    0,    0,    0,    0,    0,    0,    0,    0,    0,    0,\n",
              "           0,    0,    0,    0,    0,    0,    0,    0,    0,    0,    0,\n",
              "           0,    0,    0,    0,    0,    0,    0,    0,    0,    0,    0,\n",
              "           0,    0,    0,    0,    0,    0,    0,    0,    0,    0,    0,\n",
              "           0,    0,    0,    0,    0,    0,    0,    0,    0,    0,    0,\n",
              "           0,    0,    0,    0,    0,    0,    0,    0,    0,    0,    0,\n",
              "           0,    0,    0,    0,    0,    0,    0,    0,    0,    0,    0,\n",
              "           0,    0,    0,    0,    0,    0,    0,    0,    0,    0,    0,\n",
              "           0,    0,    0,    0,    0,    0,    0,    0,    0,    0,    0,\n",
              "           0,    0,    0,    0,    0,    0,    0,    0,    0,    0,    0,\n",
              "           0,    0,    0,    0,    0,    0,    0,    0,    0,    0,    0,\n",
              "           0,    0,    0,    0,    0,    0,    0,    0,    0,    0,    0,\n",
              "           0,    0,    0,    0,    0,    0,    0,    0,    0,    0,    0,\n",
              "           0,    0,    0,    0,    0,    0,    0,    0,    0,    0,    0,\n",
              "           0,    0,    0,    0,    0,    0,    0,    0,    0,    0,    0,\n",
              "           0,    0,    0,    0,    0,    0,    0,    0,    0,    0,    0,\n",
              "           0,    0,    0,    0,    0,    0,    0,    0,    0,    0,    0,\n",
              "           0,    0,    0,    0,    0,    0,    0,    0,    0,    0,    0,\n",
              "           0,    0,    0,    0,    0,    0,    0,    0,    0,    0,    0,\n",
              "           0,    0,    0,    0,    0,    0,    0,    0,    0,    0,    0,\n",
              "           0,    0,    0,    0,    0,    0,    0,    0,    0,    0,    0,\n",
              "           0,    0,    0,    0,    0,    0,    0,    0,    0,    0,    0,\n",
              "           0,    0,    0,    0,    0,    0,    0,    0,    0,    0,    0,\n",
              "           0,    0,    0,    0,    0,    0,    0,    0,    0,    0,    0,\n",
              "           0,    0,    0,    0,    0,    0,    0,    0,    0,    0,    0,\n",
              "           0,    0,    0,    0,    0,    0,    0,    0,    0,    0,    0,\n",
              "           0,    0,    0,    0,    0], dtype=int32),\n",
              " array([3419, 4688, 7126, 7096, 3871, 6855,   54, 1917, 7096, 1615, 5801,\n",
              "        7848,   54, 6855, 5971, 3803, 6079, 1505, 6604, 5655, 2420, 6999,\n",
              "          54, 2110, 3818, 3854, 7074, 6604, 5655, 6999,  258, 5561, 7264,\n",
              "        6896,  758, 7828, 3340, 7078, 1493, 7289, 5330, 4593, 7828, 4252,\n",
              "        3166, 6827, 6855,   54, 1202, 5130, 7797, 2897, 7096, 1430, 6553,\n",
              "        2451, 7782, 5702,   54, 1493, 5814, 6079, 4249, 7872, 3340, 7096,\n",
              "        2705, 6371, 2451, 7850, 1615, 5801, 7782, 6604, 5512, 6999,   54,\n",
              "        3224, 4209, 2270, 7096, 3881, 6999,  258, 3129, 7086, 3942, 2049,\n",
              "        5405, 6855,   54, 3316, 7149, 5859, 3996, 5804, 7996, 3278, 6553,\n",
              "        1615, 5801, 7848,   54, 6542, 5336, 6371, 1493, 4249, 5330, 2452,\n",
              "        5850, 3316, 3889, 5859, 3278, 1404, 5798, 7782, 6604, 5512, 6999,\n",
              "          54,    0,    0,    0,    0,    0,    0,    0,    0,    0,    0,\n",
              "           0,    0,    0,    0,    0,    0,    0,    0,    0,    0,    0,\n",
              "           0,    0,    0,    0,    0,    0,    0,    0,    0,    0,    0,\n",
              "           0,    0,    0,    0,    0,    0,    0,    0,    0,    0,    0,\n",
              "           0,    0,    0,    0,    0,    0,    0,    0,    0,    0,    0,\n",
              "           0,    0,    0,    0,    0,    0,    0,    0,    0,    0,    0,\n",
              "           0,    0,    0,    0,    0,    0,    0,    0,    0,    0,    0,\n",
              "           0,    0,    0,    0,    0,    0,    0,    0,    0,    0,    0,\n",
              "           0,    0,    0,    0,    0,    0,    0,    0,    0,    0,    0,\n",
              "           0,    0,    0,    0,    0,    0,    0,    0,    0,    0,    0,\n",
              "           0,    0,    0,    0,    0,    0,    0,    0,    0,    0,    0,\n",
              "           0,    0,    0,    0,    0,    0,    0,    0,    0,    0,    0,\n",
              "           0,    0,    0,    0,    0,    0,    0,    0,    0,    0,    0,\n",
              "           0,    0,    0,    0,    0,    0,    0,    0,    0,    0,    0,\n",
              "           0,    0,    0,    0,    0,    0,    0,    0,    0,    0,    0,\n",
              "           0,    0,    0,    0,    0,    0,    0,    0,    0,    0,    0,\n",
              "           0,    0,    0,    0,    0,    0,    0,    0,    0,    0,    0,\n",
              "           0,    0,    0,    0,    0,    0,    0,    0,    0,    0,    0,\n",
              "           0,    0,    0,    0,    0,    0,    0,    0,    0,    0,    0,\n",
              "           0,    0,    0,    0,    0,    0,    0,    0,    0,    0,    0,\n",
              "           0,    0,    0,    0,    0,    0,    0,    0,    0,    0,    0,\n",
              "           0,    0,    0,    0,    0,    0,    0,    0,    0,    0,    0,\n",
              "           0,    0,    0,    0,    0,    0,    0,    0,    0,    0,    0,\n",
              "           0,    0,    0,    0,    0,    0,    0,    0,    0,    0,    0,\n",
              "           0,    0,    0,    0,    0,    0,    0,    0,    0,    0,    0,\n",
              "           0,    0,    0,    0,    0,    0,    0,    0,    0,    0,    0,\n",
              "           0,    0,    0,    0,    0,    0,    0,    0,    0,    0,    0,\n",
              "           0,    0,    0,    0,    0,    0,    0,    0,    0,    0,    0,\n",
              "           0,    0,    0,    0,    0,    0,    0,    0,    0,    0,    0,\n",
              "           0,    0,    0,    0,    0,    0,    0,    0,    0,    0,    0,\n",
              "           0,    0,    0,    0,    0,    0,    0,    0,    0,    0,    0,\n",
              "           0,    0,    0,    0,    0,    0,    0,    0,    0,    0,    0,\n",
              "           0,    0,    0,    0,    0,    0,    0,    0,    0,    0,    0,\n",
              "           0,    0,    0,    0,    0,    0,    0,    0,    0,    0,    0,\n",
              "           0,    0,    0,    0,    0], dtype=int32),\n",
              " array([1434, 5209, 7088, 3175, 7276, 7318, 3151, 5156, 6896, 5112, 5330,\n",
              "        1370,   54, 7993, 6542, 7088, 3175, 7276, 7318, 3152, 5770, 2110,\n",
              "        3818, 3854, 7074, 6604, 5842,  862, 6957, 6999,  258, 6940, 6745,\n",
              "        7996, 3803, 7850, 2786, 1454, 5782, 5439, 5002, 2785, 5550, 7086,\n",
              "        3834, 5931, 6150,  763, 5330,   54, 6574, 5557, 3834, 5931, 6150,\n",
              "         763, 5338, 5770, 4102, 5112, 5330, 1407, 1931, 7782, 5405, 6857,\n",
              "          54, 1198, 5400, 1963, 6844,   54, 3817, 3367, 4955, 2355, 6018,\n",
              "        7096, 3278,   54, 7957, 5330, 3834, 3468, 4354, 7095, 1023, 6079,\n",
              "        5859, 3942, 3175, 7305, 7083, 4204, 5405, 5703,   54,    0,    0,\n",
              "           0,    0,    0,    0,    0,    0,    0,    0,    0,    0,    0,\n",
              "           0,    0,    0,    0,    0,    0,    0,    0,    0,    0,    0,\n",
              "           0,    0,    0,    0,    0,    0,    0,    0,    0,    0,    0,\n",
              "           0,    0,    0,    0,    0,    0,    0,    0,    0,    0,    0,\n",
              "           0,    0,    0,    0,    0,    0,    0,    0,    0,    0,    0,\n",
              "           0,    0,    0,    0,    0,    0,    0,    0,    0,    0,    0,\n",
              "           0,    0,    0,    0,    0,    0,    0,    0,    0,    0,    0,\n",
              "           0,    0,    0,    0,    0,    0,    0,    0,    0,    0,    0,\n",
              "           0,    0,    0,    0,    0,    0,    0,    0,    0,    0,    0,\n",
              "           0,    0,    0,    0,    0,    0,    0,    0,    0,    0,    0,\n",
              "           0,    0,    0,    0,    0,    0,    0,    0,    0,    0,    0,\n",
              "           0,    0,    0,    0,    0,    0,    0,    0,    0,    0,    0,\n",
              "           0,    0,    0,    0,    0,    0,    0,    0,    0,    0,    0,\n",
              "           0,    0,    0,    0,    0,    0,    0,    0,    0,    0,    0,\n",
              "           0,    0,    0,    0,    0,    0,    0,    0,    0,    0,    0,\n",
              "           0,    0,    0,    0,    0,    0,    0,    0,    0,    0,    0,\n",
              "           0,    0,    0,    0,    0,    0,    0,    0,    0,    0,    0,\n",
              "           0,    0,    0,    0,    0,    0,    0,    0,    0,    0,    0,\n",
              "           0,    0,    0,    0,    0,    0,    0,    0,    0,    0,    0,\n",
              "           0,    0,    0,    0,    0,    0,    0,    0,    0,    0,    0,\n",
              "           0,    0,    0,    0,    0,    0,    0,    0,    0,    0,    0,\n",
              "           0,    0,    0,    0,    0,    0,    0,    0,    0,    0,    0,\n",
              "           0,    0,    0,    0,    0,    0,    0,    0,    0,    0,    0,\n",
              "           0,    0,    0,    0,    0,    0,    0,    0,    0,    0,    0,\n",
              "           0,    0,    0,    0,    0,    0,    0,    0,    0,    0,    0,\n",
              "           0,    0,    0,    0,    0,    0,    0,    0,    0,    0,    0,\n",
              "           0,    0,    0,    0,    0,    0,    0,    0,    0,    0,    0,\n",
              "           0,    0,    0,    0,    0,    0,    0,    0,    0,    0,    0,\n",
              "           0,    0,    0,    0,    0,    0,    0,    0,    0,    0,    0,\n",
              "           0,    0,    0,    0,    0,    0,    0,    0,    0,    0,    0,\n",
              "           0,    0,    0,    0,    0,    0,    0,    0,    0,    0,    0,\n",
              "           0,    0,    0,    0,    0,    0,    0,    0,    0,    0,    0,\n",
              "           0,    0,    0,    0,    0,    0,    0,    0,    0,    0,    0,\n",
              "           0,    0,    0,    0,    0,    0,    0,    0,    0,    0,    0,\n",
              "           0,    0,    0,    0,    0,    0,    0,    0,    0,    0,    0,\n",
              "           0,    0,    0,    0,    0,    0,    0,    0,    0,    0,    0,\n",
              "           0,    0,    0,    0,    0], dtype=int32),\n",
              " array([1435, 2586, 6022, 4626, 7848, 7350, 6629, 3882, 2049, 5405, 6855,\n",
              "          54, 6228, 6696, 2125, 6006, 3854, 5655, 6999,  258, 6498, 5940,\n",
              "        1407, 3059, 7794,  862, 5354, 6797,   54, 6247, 1849, 1204, 2705,\n",
              "        7782, 6705, 5655, 6999,  258, 5538, 5690, 1434, 4213, 7051, 5760,\n",
              "        4996, 2589, 3272,  905,  832, 6553,   54, 7323, 4983, 3868, 4252,\n",
              "        1530, 5330, 3871, 7083, 4204, 5405, 5703,   54,    0,    0,    0,\n",
              "           0,    0,    0,    0,    0,    0,    0,    0,    0,    0,    0,\n",
              "           0,    0,    0,    0,    0,    0,    0,    0,    0,    0,    0,\n",
              "           0,    0,    0,    0,    0,    0,    0,    0,    0,    0,    0,\n",
              "           0,    0,    0,    0,    0,    0,    0,    0,    0,    0,    0,\n",
              "           0,    0,    0,    0,    0,    0,    0,    0,    0,    0,    0,\n",
              "           0,    0,    0,    0,    0,    0,    0,    0,    0,    0,    0,\n",
              "           0,    0,    0,    0,    0,    0,    0,    0,    0,    0,    0,\n",
              "           0,    0,    0,    0,    0,    0,    0,    0,    0,    0,    0,\n",
              "           0,    0,    0,    0,    0,    0,    0,    0,    0,    0,    0,\n",
              "           0,    0,    0,    0,    0,    0,    0,    0,    0,    0,    0,\n",
              "           0,    0,    0,    0,    0,    0,    0,    0,    0,    0,    0,\n",
              "           0,    0,    0,    0,    0,    0,    0,    0,    0,    0,    0,\n",
              "           0,    0,    0,    0,    0,    0,    0,    0,    0,    0,    0,\n",
              "           0,    0,    0,    0,    0,    0,    0,    0,    0,    0,    0,\n",
              "           0,    0,    0,    0,    0,    0,    0,    0,    0,    0,    0,\n",
              "           0,    0,    0,    0,    0,    0,    0,    0,    0,    0,    0,\n",
              "           0,    0,    0,    0,    0,    0,    0,    0,    0,    0,    0,\n",
              "           0,    0,    0,    0,    0,    0,    0,    0,    0,    0,    0,\n",
              "           0,    0,    0,    0,    0,    0,    0,    0,    0,    0,    0,\n",
              "           0,    0,    0,    0,    0,    0,    0,    0,    0,    0,    0,\n",
              "           0,    0,    0,    0,    0,    0,    0,    0,    0,    0,    0,\n",
              "           0,    0,    0,    0,    0,    0,    0,    0,    0,    0,    0,\n",
              "           0,    0,    0,    0,    0,    0,    0,    0,    0,    0,    0,\n",
              "           0,    0,    0,    0,    0,    0,    0,    0,    0,    0,    0,\n",
              "           0,    0,    0,    0,    0,    0,    0,    0,    0,    0,    0,\n",
              "           0,    0,    0,    0,    0,    0,    0,    0,    0,    0,    0,\n",
              "           0,    0,    0,    0,    0,    0,    0,    0,    0,    0,    0,\n",
              "           0,    0,    0,    0,    0,    0,    0,    0,    0,    0,    0,\n",
              "           0,    0,    0,    0,    0,    0,    0,    0,    0,    0,    0,\n",
              "           0,    0,    0,    0,    0,    0,    0,    0,    0,    0,    0,\n",
              "           0,    0,    0,    0,    0,    0,    0,    0,    0,    0,    0,\n",
              "           0,    0,    0,    0,    0,    0,    0,    0,    0,    0,    0,\n",
              "           0,    0,    0,    0,    0,    0,    0,    0,    0,    0,    0,\n",
              "           0,    0,    0,    0,    0,    0,    0,    0,    0,    0,    0,\n",
              "           0,    0,    0,    0,    0,    0,    0,    0,    0,    0,    0,\n",
              "           0,    0,    0,    0,    0,    0,    0,    0,    0,    0,    0,\n",
              "           0,    0,    0,    0,    0,    0,    0,    0,    0,    0,    0,\n",
              "           0,    0,    0,    0,    0,    0,    0,    0,    0,    0,    0,\n",
              "           0,    0,    0,    0,    0,    0,    0,    0,    0,    0,    0,\n",
              "           0,    0,    0,    0,    0], dtype=int32),\n",
              " array([3060, 7188,  517, 7555, 7555, 1868,   54, 3220, 5970, 7819,  258,\n",
              "        6534, 7088, 4196, 1698, 3907, 7996, 2773, 7848, 7276, 6705, 5405,\n",
              "        6857,  258, 5679, 3424, 3958, 7483, 5842, 4627, 5330, 3872,  517,\n",
              "           0, 5330, 3906, 7807, 2971, 7864, 5808,   54, 7096, 2692, 2346,\n",
              "        6724, 3567, 4998, 6386, 2872, 3860, 3818, 2095, 6884, 7096, 3881,\n",
              "        6999,  258, 5663, 1101, 6087, 7997, 5782, 5439, 2705, 7819, 2086,\n",
              "        7867,  517, 5330, 6553, 4360, 6745, 7078, 2579, 7852, 5405, 6855,\n",
              "          54, 7344, 6745, 7078, 2579, 7788, 2692, 1218, 7836, 2872, 3854,\n",
              "        5585, 2193, 6999,   54,    0,    0,    0,    0,    0,    0,    0,\n",
              "           0,    0,    0,    0,    0,    0,    0,    0,    0,    0,    0,\n",
              "           0,    0,    0,    0,    0,    0,    0,    0,    0,    0,    0,\n",
              "           0,    0,    0,    0,    0,    0,    0,    0,    0,    0,    0,\n",
              "           0,    0,    0,    0,    0,    0,    0,    0,    0,    0,    0,\n",
              "           0,    0,    0,    0,    0,    0,    0,    0,    0,    0,    0,\n",
              "           0,    0,    0,    0,    0,    0,    0,    0,    0,    0,    0,\n",
              "           0,    0,    0,    0,    0,    0,    0,    0,    0,    0,    0,\n",
              "           0,    0,    0,    0,    0,    0,    0,    0,    0,    0,    0,\n",
              "           0,    0,    0,    0,    0,    0,    0,    0,    0,    0,    0,\n",
              "           0,    0,    0,    0,    0,    0,    0,    0,    0,    0,    0,\n",
              "           0,    0,    0,    0,    0,    0,    0,    0,    0,    0,    0,\n",
              "           0,    0,    0,    0,    0,    0,    0,    0,    0,    0,    0,\n",
              "           0,    0,    0,    0,    0,    0,    0,    0,    0,    0,    0,\n",
              "           0,    0,    0,    0,    0,    0,    0,    0,    0,    0,    0,\n",
              "           0,    0,    0,    0,    0,    0,    0,    0,    0,    0,    0,\n",
              "           0,    0,    0,    0,    0,    0,    0,    0,    0,    0,    0,\n",
              "           0,    0,    0,    0,    0,    0,    0,    0,    0,    0,    0,\n",
              "           0,    0,    0,    0,    0,    0,    0,    0,    0,    0,    0,\n",
              "           0,    0,    0,    0,    0,    0,    0,    0,    0,    0,    0,\n",
              "           0,    0,    0,    0,    0,    0,    0,    0,    0,    0,    0,\n",
              "           0,    0,    0,    0,    0,    0,    0,    0,    0,    0,    0,\n",
              "           0,    0,    0,    0,    0,    0,    0,    0,    0,    0,    0,\n",
              "           0,    0,    0,    0,    0,    0,    0,    0,    0,    0,    0,\n",
              "           0,    0,    0,    0,    0,    0,    0,    0,    0,    0,    0,\n",
              "           0,    0,    0,    0,    0,    0,    0,    0,    0,    0,    0,\n",
              "           0,    0,    0,    0,    0,    0,    0,    0,    0,    0,    0,\n",
              "           0,    0,    0,    0,    0,    0,    0,    0,    0,    0,    0,\n",
              "           0,    0,    0,    0,    0,    0,    0,    0,    0,    0,    0,\n",
              "           0,    0,    0,    0,    0,    0,    0,    0,    0,    0,    0,\n",
              "           0,    0,    0,    0,    0,    0,    0,    0,    0,    0,    0,\n",
              "           0,    0,    0,    0,    0,    0,    0,    0,    0,    0,    0,\n",
              "           0,    0,    0,    0,    0,    0,    0,    0,    0,    0,    0,\n",
              "           0,    0,    0,    0,    0,    0,    0,    0,    0,    0,    0,\n",
              "           0,    0,    0,    0,    0,    0,    0,    0,    0,    0,    0,\n",
              "           0,    0,    0,    0,    0,    0,    0,    0,    0,    0,    0,\n",
              "           0,    0,    0,    0,    0,    0,    0,    0,    0,    0,    0,\n",
              "           0,    0,    0,    0,    0], dtype=int32),\n",
              " array([3238, 1435, 4955, 3042, 1849, 4627, 6897, 4102, 2149, 6812, 7848,\n",
              "          54, 6855, 5971, 3803, 7123, 3907, 7996, 1961, 7848, 7276, 6705,\n",
              "        5405, 6857,  258, 5679, 2918, 7088, 1956, 1907, 6601, 6553, 4627,\n",
              "        3454, 6896, 4737, 7848, 6323, 6072, 6855,   54, 7489, 5495, 6897,\n",
              "        2149, 6812, 7828, 1917, 1849, 1101, 6079, 7018, 7788,  980, 6705,\n",
              "        5760, 5512, 6999,   54, 7489, 5495, 6897, 2579, 7788, 2801, 7589,\n",
              "        6443,  517, 7304, 5405, 6855,   54, 7489, 5495, 6897, 1918, 4012,\n",
              "        7807, 4924, 6705, 5760, 5512, 6999,   54,    0,    0,    0,    0,\n",
              "           0,    0,    0,    0,    0,    0,    0,    0,    0,    0,    0,\n",
              "           0,    0,    0,    0,    0,    0,    0,    0,    0,    0,    0,\n",
              "           0,    0,    0,    0,    0,    0,    0,    0,    0,    0,    0,\n",
              "           0,    0,    0,    0,    0,    0,    0,    0,    0,    0,    0,\n",
              "           0,    0,    0,    0,    0,    0,    0,    0,    0,    0,    0,\n",
              "           0,    0,    0,    0,    0,    0,    0,    0,    0,    0,    0,\n",
              "           0,    0,    0,    0,    0,    0,    0,    0,    0,    0,    0,\n",
              "           0,    0,    0,    0,    0,    0,    0,    0,    0,    0,    0,\n",
              "           0,    0,    0,    0,    0,    0,    0,    0,    0,    0,    0,\n",
              "           0,    0,    0,    0,    0,    0,    0,    0,    0,    0,    0,\n",
              "           0,    0,    0,    0,    0,    0,    0,    0,    0,    0,    0,\n",
              "           0,    0,    0,    0,    0,    0,    0,    0,    0,    0,    0,\n",
              "           0,    0,    0,    0,    0,    0,    0,    0,    0,    0,    0,\n",
              "           0,    0,    0,    0,    0,    0,    0,    0,    0,    0,    0,\n",
              "           0,    0,    0,    0,    0,    0,    0,    0,    0,    0,    0,\n",
              "           0,    0,    0,    0,    0,    0,    0,    0,    0,    0,    0,\n",
              "           0,    0,    0,    0,    0,    0,    0,    0,    0,    0,    0,\n",
              "           0,    0,    0,    0,    0,    0,    0,    0,    0,    0,    0,\n",
              "           0,    0,    0,    0,    0,    0,    0,    0,    0,    0,    0,\n",
              "           0,    0,    0,    0,    0,    0,    0,    0,    0,    0,    0,\n",
              "           0,    0,    0,    0,    0,    0,    0,    0,    0,    0,    0,\n",
              "           0,    0,    0,    0,    0,    0,    0,    0,    0,    0,    0,\n",
              "           0,    0,    0,    0,    0,    0,    0,    0,    0,    0,    0,\n",
              "           0,    0,    0,    0,    0,    0,    0,    0,    0,    0,    0,\n",
              "           0,    0,    0,    0,    0,    0,    0,    0,    0,    0,    0,\n",
              "           0,    0,    0,    0,    0,    0,    0,    0,    0,    0,    0,\n",
              "           0,    0,    0,    0,    0,    0,    0,    0,    0,    0,    0,\n",
              "           0,    0,    0,    0,    0,    0,    0,    0,    0,    0,    0,\n",
              "           0,    0,    0,    0,    0,    0,    0,    0,    0,    0,    0,\n",
              "           0,    0,    0,    0,    0,    0,    0,    0,    0,    0,    0,\n",
              "           0,    0,    0,    0,    0,    0,    0,    0,    0,    0,    0,\n",
              "           0,    0,    0,    0,    0,    0,    0,    0,    0,    0,    0,\n",
              "           0,    0,    0,    0,    0,    0,    0,    0,    0,    0,    0,\n",
              "           0,    0,    0,    0,    0,    0,    0,    0,    0,    0,    0,\n",
              "           0,    0,    0,    0,    0,    0,    0,    0,    0,    0,    0,\n",
              "           0,    0,    0,    0,    0,    0,    0,    0,    0,    0,    0,\n",
              "           0,    0,    0,    0,    0,    0,    0,    0,    0,    0,    0,\n",
              "           0,    0,    0,    0,    0], dtype=int32),\n",
              " array([2387, 6664, 7767, 6750, 7088, 1618, 7850, 1458, 1632, 6668,   54,\n",
              "        6374, 6664, 7767, 6750, 7088, 1618, 7850, 1458, 1632, 6664, 6037,\n",
              "        7005, 6705, 5512, 6999,   54, 7096, 6040, 3817, 1618, 7828,  921,\n",
              "        4468, 7101, 1458, 2095, 6553, 7018, 6553, 2008, 5330, 4924,    0,\n",
              "        5400, 2339, 7848, 6323, 6072, 6855,   54, 5691, 6228, 2095, 6553,\n",
              "        7005, 6604, 5405, 6857,   54, 4301, 1100, 6797, 7318, 6604, 5655,\n",
              "        6999,  258, 7323, 7086, 1100, 6797, 7248, 6855,   54, 3093, 5591,\n",
              "        5760, 2387, 6664, 7767, 6750, 7107, 2606, 3168, 3060, 7188, 1907,\n",
              "        6441, 5889, 1282, 7112, 5771,   54, 6158, 7096, 1505, 6604, 5842,\n",
              "         905,  830, 5703,   54,    0,    0,    0,    0,    0,    0,    0,\n",
              "           0,    0,    0,    0,    0,    0,    0,    0,    0,    0,    0,\n",
              "           0,    0,    0,    0,    0,    0,    0,    0,    0,    0,    0,\n",
              "           0,    0,    0,    0,    0,    0,    0,    0,    0,    0,    0,\n",
              "           0,    0,    0,    0,    0,    0,    0,    0,    0,    0,    0,\n",
              "           0,    0,    0,    0,    0,    0,    0,    0,    0,    0,    0,\n",
              "           0,    0,    0,    0,    0,    0,    0,    0,    0,    0,    0,\n",
              "           0,    0,    0,    0,    0,    0,    0,    0,    0,    0,    0,\n",
              "           0,    0,    0,    0,    0,    0,    0,    0,    0,    0,    0,\n",
              "           0,    0,    0,    0,    0,    0,    0,    0,    0,    0,    0,\n",
              "           0,    0,    0,    0,    0,    0,    0,    0,    0,    0,    0,\n",
              "           0,    0,    0,    0,    0,    0,    0,    0,    0,    0,    0,\n",
              "           0,    0,    0,    0,    0,    0,    0,    0,    0,    0,    0,\n",
              "           0,    0,    0,    0,    0,    0,    0,    0,    0,    0,    0,\n",
              "           0,    0,    0,    0,    0,    0,    0,    0,    0,    0,    0,\n",
              "           0,    0,    0,    0,    0,    0,    0,    0,    0,    0,    0,\n",
              "           0,    0,    0,    0,    0,    0,    0,    0,    0,    0,    0,\n",
              "           0,    0,    0,    0,    0,    0,    0,    0,    0,    0,    0,\n",
              "           0,    0,    0,    0,    0,    0,    0,    0,    0,    0,    0,\n",
              "           0,    0,    0,    0,    0,    0,    0,    0,    0,    0,    0,\n",
              "           0,    0,    0,    0,    0,    0,    0,    0,    0,    0,    0,\n",
              "           0,    0,    0,    0,    0,    0,    0,    0,    0,    0,    0,\n",
              "           0,    0,    0,    0,    0,    0,    0,    0,    0,    0,    0,\n",
              "           0,    0,    0,    0,    0,    0,    0,    0,    0,    0,    0,\n",
              "           0,    0,    0,    0,    0,    0,    0,    0,    0,    0,    0,\n",
              "           0,    0,    0,    0,    0,    0,    0,    0,    0,    0,    0,\n",
              "           0,    0,    0,    0,    0,    0,    0,    0,    0,    0,    0,\n",
              "           0,    0,    0,    0,    0,    0,    0,    0,    0,    0,    0,\n",
              "           0,    0,    0,    0,    0,    0,    0,    0,    0,    0,    0,\n",
              "           0,    0,    0,    0,    0,    0,    0,    0,    0,    0,    0,\n",
              "           0,    0,    0,    0,    0,    0,    0,    0,    0,    0,    0,\n",
              "           0,    0,    0,    0,    0,    0,    0,    0,    0,    0,    0,\n",
              "           0,    0,    0,    0,    0,    0,    0,    0,    0,    0,    0,\n",
              "           0,    0,    0,    0,    0,    0,    0,    0,    0,    0,    0,\n",
              "           0,    0,    0,    0,    0,    0,    0,    0,    0,    0,    0,\n",
              "           0,    0,    0,    0,    0,    0,    0,    0,    0,    0,    0,\n",
              "           0,    0,    0,    0,    0], dtype=int32),\n",
              " array([3395, 7354, 3376, 5341, 7086, 3177, 2888, 7088, 2232, 4297, 3252,\n",
              "        1768, 5859, 3156, 5761, 3886, 5628, 1916, 5152, 5474, 6896, 1390,\n",
              "         889, 2372, 4955, 6745, 7848, 4244, 5405, 6855,   54, 6637, 7088,\n",
              "        1927, 1925, 3731, 2468, 5612, 1916, 5152, 5474, 6896,  984, 1388,\n",
              "        6705, 5760,  921, 3011, 3084, 7096, 6705, 5655, 2355, 5703,   54,\n",
              "        7276, 6355, 2586, 2923, 6004, 1204, 1958, 7795, 5859, 4062, 3135,\n",
              "        1804,   54, 1805, 2923, 5760,  921, 4204, 7088,  517, 7621, 5850,\n",
              "          54, 6855, 5975, 5400, 4939, 3731, 4977, 6798, 5612, 1916, 5152,\n",
              "        5474, 6896, 3135, 1389, 1805, 2923, 5400, 4977, 2872, 3881, 6999,\n",
              "         258, 5679, 4358, 3395, 7354, 6896, 3715, 5010, 5405, 6855,   54,\n",
              "        4197, 7268, 4446, 5330, 6198, 1185, 5859, 4384, 6903, 1704, 3060,\n",
              "        6745, 7848, 7782, 5405, 7318,   54, 6956, 7354, 2468, 5468, 7095,\n",
              "        3714, 5330, 3546, 7784, 4888, 6122, 5573, 2193, 6999,   54,    0,\n",
              "           0,    0,    0,    0,    0,    0,    0,    0,    0,    0,    0,\n",
              "           0,    0,    0,    0,    0,    0,    0,    0,    0,    0,    0,\n",
              "           0,    0,    0,    0,    0,    0,    0,    0,    0,    0,    0,\n",
              "           0,    0,    0,    0,    0,    0,    0,    0,    0,    0,    0,\n",
              "           0,    0,    0,    0,    0,    0,    0,    0,    0,    0,    0,\n",
              "           0,    0,    0,    0,    0,    0,    0,    0,    0,    0,    0,\n",
              "           0,    0,    0,    0,    0,    0,    0,    0,    0,    0,    0,\n",
              "           0,    0,    0,    0,    0,    0,    0,    0,    0,    0,    0,\n",
              "           0,    0,    0,    0,    0,    0,    0,    0,    0,    0,    0,\n",
              "           0,    0,    0,    0,    0,    0,    0,    0,    0,    0,    0,\n",
              "           0,    0,    0,    0,    0,    0,    0,    0,    0,    0,    0,\n",
              "           0,    0,    0,    0,    0,    0,    0,    0,    0,    0,    0,\n",
              "           0,    0,    0,    0,    0,    0,    0,    0,    0,    0,    0,\n",
              "           0,    0,    0,    0,    0,    0,    0,    0,    0,    0,    0,\n",
              "           0,    0,    0,    0,    0,    0,    0,    0,    0,    0,    0,\n",
              "           0,    0,    0,    0,    0,    0,    0,    0,    0,    0,    0,\n",
              "           0,    0,    0,    0,    0,    0,    0,    0,    0,    0,    0,\n",
              "           0,    0,    0,    0,    0,    0,    0,    0,    0,    0,    0,\n",
              "           0,    0,    0,    0,    0,    0,    0,    0,    0,    0,    0,\n",
              "           0,    0,    0,    0,    0,    0,    0,    0,    0,    0,    0,\n",
              "           0,    0,    0,    0,    0,    0,    0,    0,    0,    0,    0,\n",
              "           0,    0,    0,    0,    0,    0,    0,    0,    0,    0,    0,\n",
              "           0,    0,    0,    0,    0,    0,    0,    0,    0,    0,    0,\n",
              "           0,    0,    0,    0,    0,    0,    0,    0,    0,    0,    0,\n",
              "           0,    0,    0,    0,    0,    0,    0,    0,    0,    0,    0,\n",
              "           0,    0,    0,    0,    0,    0,    0,    0,    0,    0,    0,\n",
              "           0,    0,    0,    0,    0,    0,    0,    0,    0,    0,    0,\n",
              "           0,    0,    0,    0,    0,    0,    0,    0,    0,    0,    0,\n",
              "           0,    0,    0,    0,    0,    0,    0,    0,    0,    0,    0,\n",
              "           0,    0,    0,    0,    0,    0,    0,    0,    0,    0,    0,\n",
              "           0,    0,    0,    0,    0,    0,    0,    0,    0,    0,    0,\n",
              "           0,    0,    0,    0,    0,    0,    0,    0,    0,    0,    0,\n",
              "           0,    0,    0,    0,    0], dtype=int32),\n",
              " array([1434,  882, 6896, 1685, 2423, 5640, 6044, 5439, 3358, 5944, 5344,\n",
              "        1548, 1844, 5330, 1952,   54, 6228, 6696,  981, 3871, 5655, 6999,\n",
              "         258, 7464, 1741, 7925, 7953, 6896,  758, 7867,  834, 3514, 7848,\n",
              "        6364, 5771, 1434,  882, 5468, 4495, 7096, 1956, 1783, 7416, 7345,\n",
              "        5760,  911, 1545, 6855,   54, 5538, 6037, 6604, 5512, 6999,   54,\n",
              "        1917, 7096, 3135, 4204, 7074, 6604, 5405, 6857,   54, 7094, 1698,\n",
              "        3358, 5944, 5341, 1546, 5561, 4045, 4299, 6410, 6006,  882, 7088,\n",
              "        3568, 1700, 5837, 3367, 3514, 7852, 5405, 6855,   54, 5702,   54,\n",
              "         882, 7088, 3567, 1700, 3367, 3514, 7782, 6705, 5585, 2193, 6999,\n",
              "          54,    0,    0,    0,    0,    0,    0,    0,    0,    0,    0,\n",
              "           0,    0,    0,    0,    0,    0,    0,    0,    0,    0,    0,\n",
              "           0,    0,    0,    0,    0,    0,    0,    0,    0,    0,    0,\n",
              "           0,    0,    0,    0,    0,    0,    0,    0,    0,    0,    0,\n",
              "           0,    0,    0,    0,    0,    0,    0,    0,    0,    0,    0,\n",
              "           0,    0,    0,    0,    0,    0,    0,    0,    0,    0,    0,\n",
              "           0,    0,    0,    0,    0,    0,    0,    0,    0,    0,    0,\n",
              "           0,    0,    0,    0,    0,    0,    0,    0,    0,    0,    0,\n",
              "           0,    0,    0,    0,    0,    0,    0,    0,    0,    0,    0,\n",
              "           0,    0,    0,    0,    0,    0,    0,    0,    0,    0,    0,\n",
              "           0,    0,    0,    0,    0,    0,    0,    0,    0,    0,    0,\n",
              "           0,    0,    0,    0,    0,    0,    0,    0,    0,    0,    0,\n",
              "           0,    0,    0,    0,    0,    0,    0,    0,    0,    0,    0,\n",
              "           0,    0,    0,    0,    0,    0,    0,    0,    0,    0,    0,\n",
              "           0,    0,    0,    0,    0,    0,    0,    0,    0,    0,    0,\n",
              "           0,    0,    0,    0,    0,    0,    0,    0,    0,    0,    0,\n",
              "           0,    0,    0,    0,    0,    0,    0,    0,    0,    0,    0,\n",
              "           0,    0,    0,    0,    0,    0,    0,    0,    0,    0,    0,\n",
              "           0,    0,    0,    0,    0,    0,    0,    0,    0,    0,    0,\n",
              "           0,    0,    0,    0,    0,    0,    0,    0,    0,    0,    0,\n",
              "           0,    0,    0,    0,    0,    0,    0,    0,    0,    0,    0,\n",
              "           0,    0,    0,    0,    0,    0,    0,    0,    0,    0,    0,\n",
              "           0,    0,    0,    0,    0,    0,    0,    0,    0,    0,    0,\n",
              "           0,    0,    0,    0,    0,    0,    0,    0,    0,    0,    0,\n",
              "           0,    0,    0,    0,    0,    0,    0,    0,    0,    0,    0,\n",
              "           0,    0,    0,    0,    0,    0,    0,    0,    0,    0,    0,\n",
              "           0,    0,    0,    0,    0,    0,    0,    0,    0,    0,    0,\n",
              "           0,    0,    0,    0,    0,    0,    0,    0,    0,    0,    0,\n",
              "           0,    0,    0,    0,    0,    0,    0,    0,    0,    0,    0,\n",
              "           0,    0,    0,    0,    0,    0,    0,    0,    0,    0,    0,\n",
              "           0,    0,    0,    0,    0,    0,    0,    0,    0,    0,    0,\n",
              "           0,    0,    0,    0,    0,    0,    0,    0,    0,    0,    0,\n",
              "           0,    0,    0,    0,    0,    0,    0,    0,    0,    0,    0,\n",
              "           0,    0,    0,    0,    0,    0,    0,    0,    0,    0,    0,\n",
              "           0,    0,    0,    0,    0,    0,    0,    0,    0,    0,    0,\n",
              "           0,    0,    0,    0,    0,    0,    0,    0,    0,    0,    0,\n",
              "           0,    0,    0,    0,    0], dtype=int32),\n",
              " array([3466, 1562, 5931,  950, 7805, 3135, 5793, 7126, 5591,  258, 1375,\n",
              "        3129, 1091, 3272, 5850, 1963, 6844,   54, 7276, 6355, 2585, 7095,\n",
              "        2781, 7941, 6896, 5112, 5330, 1370, 6705, 5405, 6857,   54, 6821,\n",
              "        6797, 6553, 4977, 4733, 5770, 1089, 4196, 1344, 7305, 7083, 4204,\n",
              "        5405, 6855,   54, 5666, 7095, 2959, 6559, 1849, 4396, 7316, 5655,\n",
              "        6705, 5405, 6857,   54, 7096, 7234, 6410, 1613, 5907, 7318, 3149,\n",
              "         517, 6618, 7342, 7784, 3714,  517, 7807, 4998,   54, 6498, 5939,\n",
              "         777, 6570, 6903, 3920, 6079, 7018, 7318, 6604, 7083, 4204, 5405,\n",
              "        5703,   54,    0,    0,    0,    0,    0,    0,    0,    0,    0,\n",
              "           0,    0,    0,    0,    0,    0,    0,    0,    0,    0,    0,\n",
              "           0,    0,    0,    0,    0,    0,    0,    0,    0,    0,    0,\n",
              "           0,    0,    0,    0,    0,    0,    0,    0,    0,    0,    0,\n",
              "           0,    0,    0,    0,    0,    0,    0,    0,    0,    0,    0,\n",
              "           0,    0,    0,    0,    0,    0,    0,    0,    0,    0,    0,\n",
              "           0,    0,    0,    0,    0,    0,    0,    0,    0,    0,    0,\n",
              "           0,    0,    0,    0,    0,    0,    0,    0,    0,    0,    0,\n",
              "           0,    0,    0,    0,    0,    0,    0,    0,    0,    0,    0,\n",
              "           0,    0,    0,    0,    0,    0,    0,    0,    0,    0,    0,\n",
              "           0,    0,    0,    0,    0,    0,    0,    0,    0,    0,    0,\n",
              "           0,    0,    0,    0,    0,    0,    0,    0,    0,    0,    0,\n",
              "           0,    0,    0,    0,    0,    0,    0,    0,    0,    0,    0,\n",
              "           0,    0,    0,    0,    0,    0,    0,    0,    0,    0,    0,\n",
              "           0,    0,    0,    0,    0,    0,    0,    0,    0,    0,    0,\n",
              "           0,    0,    0,    0,    0,    0,    0,    0,    0,    0,    0,\n",
              "           0,    0,    0,    0,    0,    0,    0,    0,    0,    0,    0,\n",
              "           0,    0,    0,    0,    0,    0,    0,    0,    0,    0,    0,\n",
              "           0,    0,    0,    0,    0,    0,    0,    0,    0,    0,    0,\n",
              "           0,    0,    0,    0,    0,    0,    0,    0,    0,    0,    0,\n",
              "           0,    0,    0,    0,    0,    0,    0,    0,    0,    0,    0,\n",
              "           0,    0,    0,    0,    0,    0,    0,    0,    0,    0,    0,\n",
              "           0,    0,    0,    0,    0,    0,    0,    0,    0,    0,    0,\n",
              "           0,    0,    0,    0,    0,    0,    0,    0,    0,    0,    0,\n",
              "           0,    0,    0,    0,    0,    0,    0,    0,    0,    0,    0,\n",
              "           0,    0,    0,    0,    0,    0,    0,    0,    0,    0,    0,\n",
              "           0,    0,    0,    0,    0,    0,    0,    0,    0,    0,    0,\n",
              "           0,    0,    0,    0,    0,    0,    0,    0,    0,    0,    0,\n",
              "           0,    0,    0,    0,    0,    0,    0,    0,    0,    0,    0,\n",
              "           0,    0,    0,    0,    0,    0,    0,    0,    0,    0,    0,\n",
              "           0,    0,    0,    0,    0,    0,    0,    0,    0,    0,    0,\n",
              "           0,    0,    0,    0,    0,    0,    0,    0,    0,    0,    0,\n",
              "           0,    0,    0,    0,    0,    0,    0,    0,    0,    0,    0,\n",
              "           0,    0,    0,    0,    0,    0,    0,    0,    0,    0,    0,\n",
              "           0,    0,    0,    0,    0,    0,    0,    0,    0,    0,    0,\n",
              "           0,    0,    0,    0,    0,    0,    0,    0,    0,    0,    0,\n",
              "           0,    0,    0,    0,    0,    0,    0,    0,    0,    0,    0,\n",
              "           0,    0,    0,    0,    0], dtype=int32)]"
            ]
          },
          "metadata": {
            "tags": []
          },
          "execution_count": 94
        }
      ]
    },
    {
      "cell_type": "code",
      "metadata": {
        "scrolled": true,
        "colab": {
          "base_uri": "https://localhost:8080/",
          "height": 0
        },
        "id": "7hAo7dp91deu",
        "outputId": "6f0b8d66-953f-4388-9bcd-e3131d04b2ba"
      },
      "source": [
        "type(train_padded)"
      ],
      "execution_count": 95,
      "outputs": [
        {
          "output_type": "execute_result",
          "data": {
            "text/plain": [
              "list"
            ]
          },
          "metadata": {
            "tags": []
          },
          "execution_count": 95
        }
      ]
    },
    {
      "cell_type": "code",
      "metadata": {
        "scrolled": true,
        "colab": {
          "base_uri": "https://localhost:8080/",
          "height": 0
        },
        "id": "5NJK5B2-1deu",
        "outputId": "8031aab3-1432-4432-e773-759946175a62"
      },
      "source": [
        "train_labels[:10]"
      ],
      "execution_count": 96,
      "outputs": [
        {
          "output_type": "execute_result",
          "data": {
            "text/plain": [
              "[array([0., 0., 0., 0., 0., 0., 0., 0., 0., 0., 0., 0., 0., 0., 0., 0., 0.,\n",
              "        0., 0., 0., 0., 0., 0., 0., 0., 0., 0., 0., 0., 0., 0., 0., 0., 0.,\n",
              "        0., 0., 0., 0., 0., 0., 0., 1., 0., 0., 0., 0., 0., 0., 0., 0., 0.,\n",
              "        0., 0., 0., 0., 0., 0., 0., 0., 0.], dtype=float32),\n",
              " array([0., 0., 0., 0., 0., 0., 0., 0., 0., 0., 0., 0., 0., 0., 0., 0., 0.,\n",
              "        0., 1., 0., 0., 0., 0., 0., 0., 0., 0., 0., 0., 0., 0., 0., 0., 0.,\n",
              "        0., 0., 0., 0., 0., 0., 0., 0., 0., 0., 0., 0., 0., 0., 0., 0., 0.,\n",
              "        0., 0., 0., 0., 0., 0., 0., 0., 0.], dtype=float32),\n",
              " array([0., 0., 0., 0., 0., 0., 0., 0., 0., 0., 0., 0., 1., 0., 0., 0., 0.,\n",
              "        0., 0., 0., 0., 0., 0., 0., 0., 0., 0., 0., 0., 0., 0., 0., 0., 0.,\n",
              "        0., 0., 0., 0., 0., 0., 0., 0., 0., 0., 0., 0., 0., 0., 0., 0., 0.,\n",
              "        0., 0., 0., 0., 0., 0., 0., 0., 0.], dtype=float32),\n",
              " array([0., 0., 0., 0., 0., 0., 0., 0., 0., 0., 0., 0., 0., 0., 0., 0., 0.,\n",
              "        0., 1., 0., 0., 0., 0., 0., 0., 0., 0., 0., 0., 0., 0., 0., 0., 0.,\n",
              "        0., 0., 0., 0., 0., 0., 0., 0., 0., 0., 0., 0., 0., 0., 0., 0., 0.,\n",
              "        0., 0., 0., 0., 0., 0., 0., 0., 0.], dtype=float32),\n",
              " array([0., 0., 0., 0., 0., 0., 0., 0., 0., 0., 0., 0., 0., 0., 0., 0., 0.,\n",
              "        0., 1., 0., 0., 0., 0., 0., 0., 0., 0., 0., 0., 0., 0., 0., 0., 0.,\n",
              "        0., 0., 0., 0., 0., 0., 0., 0., 0., 0., 0., 0., 0., 0., 0., 0., 0.,\n",
              "        0., 0., 0., 0., 0., 0., 0., 0., 0.], dtype=float32),\n",
              " array([0., 0., 0., 0., 0., 0., 0., 0., 0., 0., 0., 0., 0., 0., 0., 0., 0.,\n",
              "        0., 0., 0., 0., 0., 0., 0., 0., 0., 0., 0., 0., 0., 0., 0., 0., 0.,\n",
              "        0., 0., 0., 0., 0., 0., 0., 0., 0., 0., 0., 1., 0., 0., 0., 0., 0.,\n",
              "        0., 0., 0., 0., 0., 0., 0., 0., 0.], dtype=float32),\n",
              " array([0., 0., 0., 0., 0., 0., 0., 0., 0., 0., 0., 0., 0., 0., 0., 1., 0.,\n",
              "        0., 0., 0., 0., 0., 0., 0., 0., 0., 0., 0., 0., 0., 0., 0., 0., 0.,\n",
              "        0., 0., 0., 0., 0., 0., 0., 0., 0., 0., 0., 0., 0., 0., 0., 0., 0.,\n",
              "        0., 0., 0., 0., 0., 0., 0., 0., 0.], dtype=float32),\n",
              " array([0., 0., 0., 0., 0., 0., 0., 0., 0., 0., 0., 0., 0., 0., 0., 0., 0.,\n",
              "        0., 0., 0., 0., 0., 0., 0., 0., 0., 0., 0., 0., 0., 0., 0., 0., 0.,\n",
              "        0., 0., 1., 0., 0., 0., 0., 0., 0., 0., 0., 0., 0., 0., 0., 0., 0.,\n",
              "        0., 0., 0., 0., 0., 0., 0., 0., 0.], dtype=float32),\n",
              " array([0., 0., 0., 0., 0., 0., 0., 0., 0., 0., 0., 0., 0., 0., 0., 0., 0.,\n",
              "        0., 0., 0., 0., 0., 0., 0., 0., 0., 0., 0., 0., 0., 0., 0., 0., 0.,\n",
              "        0., 0., 0., 0., 0., 0., 0., 0., 0., 0., 1., 0., 0., 0., 0., 0., 0.,\n",
              "        0., 0., 0., 0., 0., 0., 0., 0., 0.], dtype=float32),\n",
              " array([0., 0., 0., 1., 0., 0., 0., 0., 0., 0., 0., 0., 0., 0., 0., 0., 0.,\n",
              "        0., 0., 0., 0., 0., 0., 0., 0., 0., 0., 0., 0., 0., 0., 0., 0., 0.,\n",
              "        0., 0., 0., 0., 0., 0., 0., 0., 0., 0., 0., 0., 0., 0., 0., 0., 0.,\n",
              "        0., 0., 0., 0., 0., 0., 0., 0., 0.], dtype=float32)]"
            ]
          },
          "metadata": {
            "tags": []
          },
          "execution_count": 96
        }
      ]
    },
    {
      "cell_type": "code",
      "metadata": {
        "scrolled": false,
        "colab": {
          "base_uri": "https://localhost:8080/",
          "height": 192
        },
        "id": "oUBjeHh81deu",
        "outputId": "289d4700-c436-464a-b633-0ef70dc7ea49"
      },
      "source": [
        "# check\n",
        "print(train_labels.shape, validation_labels.shape)"
      ],
      "execution_count": 97,
      "outputs": [
        {
          "output_type": "error",
          "ename": "AttributeError",
          "evalue": "ignored",
          "traceback": [
            "\u001b[0;31m---------------------------------------------------------------------------\u001b[0m",
            "\u001b[0;31mAttributeError\u001b[0m                            Traceback (most recent call last)",
            "\u001b[0;32m<ipython-input-97-e9ab5e9842c0>\u001b[0m in \u001b[0;36m<module>\u001b[0;34m()\u001b[0m\n\u001b[1;32m      1\u001b[0m \u001b[0;31m# check\u001b[0m\u001b[0;34m\u001b[0m\u001b[0;34m\u001b[0m\u001b[0;34m\u001b[0m\u001b[0m\n\u001b[0;32m----> 2\u001b[0;31m \u001b[0mprint\u001b[0m\u001b[0;34m(\u001b[0m\u001b[0mtrain_labels\u001b[0m\u001b[0;34m.\u001b[0m\u001b[0mshape\u001b[0m\u001b[0;34m,\u001b[0m \u001b[0mvalidation_labels\u001b[0m\u001b[0;34m.\u001b[0m\u001b[0mshape\u001b[0m\u001b[0;34m)\u001b[0m\u001b[0;34m\u001b[0m\u001b[0;34m\u001b[0m\u001b[0m\n\u001b[0m",
            "\u001b[0;31mAttributeError\u001b[0m: 'list' object has no attribute 'shape'"
          ]
        }
      ]
    },
    {
      "cell_type": "code",
      "metadata": {
        "id": "63Pdnd1h1deu"
      },
      "source": [
        "## 대 분류"
      ],
      "execution_count": null,
      "outputs": []
    },
    {
      "cell_type": "code",
      "metadata": {
        "id": "PJgSVSlD1dev"
      },
      "source": [
        "tmp2 = [[x,y] for x, y in zip(train_padded, train_labels_large)]\n",
        "tmp2[:10]"
      ],
      "execution_count": null,
      "outputs": []
    },
    {
      "cell_type": "code",
      "metadata": {
        "colab": {
          "base_uri": "https://localhost:8080/",
          "height": 210
        },
        "id": "loMcekOe1dev",
        "outputId": "76ec7e8d-1c1a-434e-ec09-b097876fde99"
      },
      "source": [
        "import random\n",
        "random.shuffle(tmp2)\n",
        "tmp2[:10]"
      ],
      "execution_count": 98,
      "outputs": [
        {
          "output_type": "error",
          "ename": "NameError",
          "evalue": "ignored",
          "traceback": [
            "\u001b[0;31m---------------------------------------------------------------------------\u001b[0m",
            "\u001b[0;31mNameError\u001b[0m                                 Traceback (most recent call last)",
            "\u001b[0;32m<ipython-input-98-5f790d511e71>\u001b[0m in \u001b[0;36m<module>\u001b[0;34m()\u001b[0m\n\u001b[1;32m      1\u001b[0m \u001b[0;32mimport\u001b[0m \u001b[0mrandom\u001b[0m\u001b[0;34m\u001b[0m\u001b[0;34m\u001b[0m\u001b[0m\n\u001b[0;32m----> 2\u001b[0;31m \u001b[0mrandom\u001b[0m\u001b[0;34m.\u001b[0m\u001b[0mshuffle\u001b[0m\u001b[0;34m(\u001b[0m\u001b[0mtmp2\u001b[0m\u001b[0;34m)\u001b[0m\u001b[0;34m\u001b[0m\u001b[0;34m\u001b[0m\u001b[0m\n\u001b[0m\u001b[1;32m      3\u001b[0m \u001b[0mtmp2\u001b[0m\u001b[0;34m[\u001b[0m\u001b[0;34m:\u001b[0m\u001b[0;36m10\u001b[0m\u001b[0;34m]\u001b[0m\u001b[0;34m\u001b[0m\u001b[0;34m\u001b[0m\u001b[0m\n",
            "\u001b[0;31mNameError\u001b[0m: name 'tmp2' is not defined"
          ]
        }
      ]
    },
    {
      "cell_type": "code",
      "metadata": {
        "id": "7QXkE_Ir1dev"
      },
      "source": [
        "train_padded = [n[0] for n in tmp2]\n",
        "train_labels_large = [n[1] for n in tmp2]"
      ],
      "execution_count": null,
      "outputs": []
    },
    {
      "cell_type": "code",
      "metadata": {
        "colab": {
          "base_uri": "https://localhost:8080/",
          "height": 0
        },
        "id": "1I91BKZq1dew",
        "outputId": "488b72dd-7247-4d1d-f777-282ed0dbc5ba"
      },
      "source": [
        "# check\n",
        "train_padded[:10]"
      ],
      "execution_count": 99,
      "outputs": [
        {
          "output_type": "execute_result",
          "data": {
            "text/plain": [
              "[array([1370, 5102, 3501, 2443, 6903, 3803, 7794, 1549, 7096, 6844,   54,\n",
              "        6247, 1849, 1204, 1546, 6705, 5655, 6999,  258, 7094, 3224, 3818,\n",
              "        1810, 6198, 1370, 5102, 4930, 1282, 7096, 6844,   54, 6855, 5975,\n",
              "        5400, 4939, 3803, 2428, 4252, 2872, 3881, 6999,  258, 6854, 5568,\n",
              "        4998, 2421, 5761, 1562, 5931, 3890, 5933, 4966, 1198, 5839, 5439,\n",
              "          54, 6542, 5336, 7096, 1956, 1598, 6553, 2856, 6527, 7782, 6738,\n",
              "         905,  832, 6999,   54,    0,    0,    0,    0,    0,    0,    0,\n",
              "           0,    0,    0,    0,    0,    0,    0,    0,    0,    0,    0,\n",
              "           0,    0,    0,    0,    0,    0,    0,    0,    0,    0,    0,\n",
              "           0,    0,    0,    0,    0,    0,    0,    0,    0,    0,    0,\n",
              "           0,    0,    0,    0,    0,    0,    0,    0,    0,    0,    0,\n",
              "           0,    0,    0,    0,    0,    0,    0,    0,    0,    0,    0,\n",
              "           0,    0,    0,    0,    0,    0,    0,    0,    0,    0,    0,\n",
              "           0,    0,    0,    0,    0,    0,    0,    0,    0,    0,    0,\n",
              "           0,    0,    0,    0,    0,    0,    0,    0,    0,    0,    0,\n",
              "           0,    0,    0,    0,    0,    0,    0,    0,    0,    0,    0,\n",
              "           0,    0,    0,    0,    0,    0,    0,    0,    0,    0,    0,\n",
              "           0,    0,    0,    0,    0,    0,    0,    0,    0,    0,    0,\n",
              "           0,    0,    0,    0,    0,    0,    0,    0,    0,    0,    0,\n",
              "           0,    0,    0,    0,    0,    0,    0,    0,    0,    0,    0,\n",
              "           0,    0,    0,    0,    0,    0,    0,    0,    0,    0,    0,\n",
              "           0,    0,    0,    0,    0,    0,    0,    0,    0,    0,    0,\n",
              "           0,    0,    0,    0,    0,    0,    0,    0,    0,    0,    0,\n",
              "           0,    0,    0,    0,    0,    0,    0,    0,    0,    0,    0,\n",
              "           0,    0,    0,    0,    0,    0,    0,    0,    0,    0,    0,\n",
              "           0,    0,    0,    0,    0,    0,    0,    0,    0,    0,    0,\n",
              "           0,    0,    0,    0,    0,    0,    0,    0,    0,    0,    0,\n",
              "           0,    0,    0,    0,    0,    0,    0,    0,    0,    0,    0,\n",
              "           0,    0,    0,    0,    0,    0,    0,    0,    0,    0,    0,\n",
              "           0,    0,    0,    0,    0,    0,    0,    0,    0,    0,    0,\n",
              "           0,    0,    0,    0,    0,    0,    0,    0,    0,    0,    0,\n",
              "           0,    0,    0,    0,    0,    0,    0,    0,    0,    0,    0,\n",
              "           0,    0,    0,    0,    0,    0,    0,    0,    0,    0,    0,\n",
              "           0,    0,    0,    0,    0,    0,    0,    0,    0,    0,    0,\n",
              "           0,    0,    0,    0,    0,    0,    0,    0,    0,    0,    0,\n",
              "           0,    0,    0,    0,    0,    0,    0,    0,    0,    0,    0,\n",
              "           0,    0,    0,    0,    0,    0,    0,    0,    0,    0,    0,\n",
              "           0,    0,    0,    0,    0,    0,    0,    0,    0,    0,    0,\n",
              "           0,    0,    0,    0,    0,    0,    0,    0,    0,    0,    0,\n",
              "           0,    0,    0,    0,    0,    0,    0,    0,    0,    0,    0,\n",
              "           0,    0,    0,    0,    0,    0,    0,    0,    0,    0,    0,\n",
              "           0,    0,    0,    0,    0,    0,    0,    0,    0,    0,    0,\n",
              "           0,    0,    0,    0,    0,    0,    0,    0,    0,    0,    0,\n",
              "           0,    0,    0,    0,    0,    0,    0,    0,    0,    0,    0,\n",
              "           0,    0,    0,    0,    0,    0,    0,    0,    0,    0,    0,\n",
              "           0,    0,    0,    0,    0], dtype=int32),\n",
              " array([3419, 4688, 7126, 7096, 3871, 6855,   54, 1917, 7096, 1615, 5801,\n",
              "        7848,   54, 6855, 5971, 3803, 6079, 1505, 6604, 5655, 2420, 6999,\n",
              "          54, 2110, 3818, 3854, 7074, 6604, 5655, 6999,  258, 5561, 7264,\n",
              "        6896,  758, 7828, 3340, 7078, 1493, 7289, 5330, 4593, 7828, 4252,\n",
              "        3166, 6827, 6855,   54, 1202, 5130, 7797, 2897, 7096, 1430, 6553,\n",
              "        2451, 7782, 5702,   54, 1493, 5814, 6079, 4249, 7872, 3340, 7096,\n",
              "        2705, 6371, 2451, 7850, 1615, 5801, 7782, 6604, 5512, 6999,   54,\n",
              "        3224, 4209, 2270, 7096, 3881, 6999,  258, 3129, 7086, 3942, 2049,\n",
              "        5405, 6855,   54, 3316, 7149, 5859, 3996, 5804, 7996, 3278, 6553,\n",
              "        1615, 5801, 7848,   54, 6542, 5336, 6371, 1493, 4249, 5330, 2452,\n",
              "        5850, 3316, 3889, 5859, 3278, 1404, 5798, 7782, 6604, 5512, 6999,\n",
              "          54,    0,    0,    0,    0,    0,    0,    0,    0,    0,    0,\n",
              "           0,    0,    0,    0,    0,    0,    0,    0,    0,    0,    0,\n",
              "           0,    0,    0,    0,    0,    0,    0,    0,    0,    0,    0,\n",
              "           0,    0,    0,    0,    0,    0,    0,    0,    0,    0,    0,\n",
              "           0,    0,    0,    0,    0,    0,    0,    0,    0,    0,    0,\n",
              "           0,    0,    0,    0,    0,    0,    0,    0,    0,    0,    0,\n",
              "           0,    0,    0,    0,    0,    0,    0,    0,    0,    0,    0,\n",
              "           0,    0,    0,    0,    0,    0,    0,    0,    0,    0,    0,\n",
              "           0,    0,    0,    0,    0,    0,    0,    0,    0,    0,    0,\n",
              "           0,    0,    0,    0,    0,    0,    0,    0,    0,    0,    0,\n",
              "           0,    0,    0,    0,    0,    0,    0,    0,    0,    0,    0,\n",
              "           0,    0,    0,    0,    0,    0,    0,    0,    0,    0,    0,\n",
              "           0,    0,    0,    0,    0,    0,    0,    0,    0,    0,    0,\n",
              "           0,    0,    0,    0,    0,    0,    0,    0,    0,    0,    0,\n",
              "           0,    0,    0,    0,    0,    0,    0,    0,    0,    0,    0,\n",
              "           0,    0,    0,    0,    0,    0,    0,    0,    0,    0,    0,\n",
              "           0,    0,    0,    0,    0,    0,    0,    0,    0,    0,    0,\n",
              "           0,    0,    0,    0,    0,    0,    0,    0,    0,    0,    0,\n",
              "           0,    0,    0,    0,    0,    0,    0,    0,    0,    0,    0,\n",
              "           0,    0,    0,    0,    0,    0,    0,    0,    0,    0,    0,\n",
              "           0,    0,    0,    0,    0,    0,    0,    0,    0,    0,    0,\n",
              "           0,    0,    0,    0,    0,    0,    0,    0,    0,    0,    0,\n",
              "           0,    0,    0,    0,    0,    0,    0,    0,    0,    0,    0,\n",
              "           0,    0,    0,    0,    0,    0,    0,    0,    0,    0,    0,\n",
              "           0,    0,    0,    0,    0,    0,    0,    0,    0,    0,    0,\n",
              "           0,    0,    0,    0,    0,    0,    0,    0,    0,    0,    0,\n",
              "           0,    0,    0,    0,    0,    0,    0,    0,    0,    0,    0,\n",
              "           0,    0,    0,    0,    0,    0,    0,    0,    0,    0,    0,\n",
              "           0,    0,    0,    0,    0,    0,    0,    0,    0,    0,    0,\n",
              "           0,    0,    0,    0,    0,    0,    0,    0,    0,    0,    0,\n",
              "           0,    0,    0,    0,    0,    0,    0,    0,    0,    0,    0,\n",
              "           0,    0,    0,    0,    0,    0,    0,    0,    0,    0,    0,\n",
              "           0,    0,    0,    0,    0,    0,    0,    0,    0,    0,    0,\n",
              "           0,    0,    0,    0,    0,    0,    0,    0,    0,    0,    0,\n",
              "           0,    0,    0,    0,    0], dtype=int32),\n",
              " array([1434, 5209, 7088, 3175, 7276, 7318, 3151, 5156, 6896, 5112, 5330,\n",
              "        1370,   54, 7993, 6542, 7088, 3175, 7276, 7318, 3152, 5770, 2110,\n",
              "        3818, 3854, 7074, 6604, 5842,  862, 6957, 6999,  258, 6940, 6745,\n",
              "        7996, 3803, 7850, 2786, 1454, 5782, 5439, 5002, 2785, 5550, 7086,\n",
              "        3834, 5931, 6150,  763, 5330,   54, 6574, 5557, 3834, 5931, 6150,\n",
              "         763, 5338, 5770, 4102, 5112, 5330, 1407, 1931, 7782, 5405, 6857,\n",
              "          54, 1198, 5400, 1963, 6844,   54, 3817, 3367, 4955, 2355, 6018,\n",
              "        7096, 3278,   54, 7957, 5330, 3834, 3468, 4354, 7095, 1023, 6079,\n",
              "        5859, 3942, 3175, 7305, 7083, 4204, 5405, 5703,   54,    0,    0,\n",
              "           0,    0,    0,    0,    0,    0,    0,    0,    0,    0,    0,\n",
              "           0,    0,    0,    0,    0,    0,    0,    0,    0,    0,    0,\n",
              "           0,    0,    0,    0,    0,    0,    0,    0,    0,    0,    0,\n",
              "           0,    0,    0,    0,    0,    0,    0,    0,    0,    0,    0,\n",
              "           0,    0,    0,    0,    0,    0,    0,    0,    0,    0,    0,\n",
              "           0,    0,    0,    0,    0,    0,    0,    0,    0,    0,    0,\n",
              "           0,    0,    0,    0,    0,    0,    0,    0,    0,    0,    0,\n",
              "           0,    0,    0,    0,    0,    0,    0,    0,    0,    0,    0,\n",
              "           0,    0,    0,    0,    0,    0,    0,    0,    0,    0,    0,\n",
              "           0,    0,    0,    0,    0,    0,    0,    0,    0,    0,    0,\n",
              "           0,    0,    0,    0,    0,    0,    0,    0,    0,    0,    0,\n",
              "           0,    0,    0,    0,    0,    0,    0,    0,    0,    0,    0,\n",
              "           0,    0,    0,    0,    0,    0,    0,    0,    0,    0,    0,\n",
              "           0,    0,    0,    0,    0,    0,    0,    0,    0,    0,    0,\n",
              "           0,    0,    0,    0,    0,    0,    0,    0,    0,    0,    0,\n",
              "           0,    0,    0,    0,    0,    0,    0,    0,    0,    0,    0,\n",
              "           0,    0,    0,    0,    0,    0,    0,    0,    0,    0,    0,\n",
              "           0,    0,    0,    0,    0,    0,    0,    0,    0,    0,    0,\n",
              "           0,    0,    0,    0,    0,    0,    0,    0,    0,    0,    0,\n",
              "           0,    0,    0,    0,    0,    0,    0,    0,    0,    0,    0,\n",
              "           0,    0,    0,    0,    0,    0,    0,    0,    0,    0,    0,\n",
              "           0,    0,    0,    0,    0,    0,    0,    0,    0,    0,    0,\n",
              "           0,    0,    0,    0,    0,    0,    0,    0,    0,    0,    0,\n",
              "           0,    0,    0,    0,    0,    0,    0,    0,    0,    0,    0,\n",
              "           0,    0,    0,    0,    0,    0,    0,    0,    0,    0,    0,\n",
              "           0,    0,    0,    0,    0,    0,    0,    0,    0,    0,    0,\n",
              "           0,    0,    0,    0,    0,    0,    0,    0,    0,    0,    0,\n",
              "           0,    0,    0,    0,    0,    0,    0,    0,    0,    0,    0,\n",
              "           0,    0,    0,    0,    0,    0,    0,    0,    0,    0,    0,\n",
              "           0,    0,    0,    0,    0,    0,    0,    0,    0,    0,    0,\n",
              "           0,    0,    0,    0,    0,    0,    0,    0,    0,    0,    0,\n",
              "           0,    0,    0,    0,    0,    0,    0,    0,    0,    0,    0,\n",
              "           0,    0,    0,    0,    0,    0,    0,    0,    0,    0,    0,\n",
              "           0,    0,    0,    0,    0,    0,    0,    0,    0,    0,    0,\n",
              "           0,    0,    0,    0,    0,    0,    0,    0,    0,    0,    0,\n",
              "           0,    0,    0,    0,    0,    0,    0,    0,    0,    0,    0,\n",
              "           0,    0,    0,    0,    0], dtype=int32),\n",
              " array([1435, 2586, 6022, 4626, 7848, 7350, 6629, 3882, 2049, 5405, 6855,\n",
              "          54, 6228, 6696, 2125, 6006, 3854, 5655, 6999,  258, 6498, 5940,\n",
              "        1407, 3059, 7794,  862, 5354, 6797,   54, 6247, 1849, 1204, 2705,\n",
              "        7782, 6705, 5655, 6999,  258, 5538, 5690, 1434, 4213, 7051, 5760,\n",
              "        4996, 2589, 3272,  905,  832, 6553,   54, 7323, 4983, 3868, 4252,\n",
              "        1530, 5330, 3871, 7083, 4204, 5405, 5703,   54,    0,    0,    0,\n",
              "           0,    0,    0,    0,    0,    0,    0,    0,    0,    0,    0,\n",
              "           0,    0,    0,    0,    0,    0,    0,    0,    0,    0,    0,\n",
              "           0,    0,    0,    0,    0,    0,    0,    0,    0,    0,    0,\n",
              "           0,    0,    0,    0,    0,    0,    0,    0,    0,    0,    0,\n",
              "           0,    0,    0,    0,    0,    0,    0,    0,    0,    0,    0,\n",
              "           0,    0,    0,    0,    0,    0,    0,    0,    0,    0,    0,\n",
              "           0,    0,    0,    0,    0,    0,    0,    0,    0,    0,    0,\n",
              "           0,    0,    0,    0,    0,    0,    0,    0,    0,    0,    0,\n",
              "           0,    0,    0,    0,    0,    0,    0,    0,    0,    0,    0,\n",
              "           0,    0,    0,    0,    0,    0,    0,    0,    0,    0,    0,\n",
              "           0,    0,    0,    0,    0,    0,    0,    0,    0,    0,    0,\n",
              "           0,    0,    0,    0,    0,    0,    0,    0,    0,    0,    0,\n",
              "           0,    0,    0,    0,    0,    0,    0,    0,    0,    0,    0,\n",
              "           0,    0,    0,    0,    0,    0,    0,    0,    0,    0,    0,\n",
              "           0,    0,    0,    0,    0,    0,    0,    0,    0,    0,    0,\n",
              "           0,    0,    0,    0,    0,    0,    0,    0,    0,    0,    0,\n",
              "           0,    0,    0,    0,    0,    0,    0,    0,    0,    0,    0,\n",
              "           0,    0,    0,    0,    0,    0,    0,    0,    0,    0,    0,\n",
              "           0,    0,    0,    0,    0,    0,    0,    0,    0,    0,    0,\n",
              "           0,    0,    0,    0,    0,    0,    0,    0,    0,    0,    0,\n",
              "           0,    0,    0,    0,    0,    0,    0,    0,    0,    0,    0,\n",
              "           0,    0,    0,    0,    0,    0,    0,    0,    0,    0,    0,\n",
              "           0,    0,    0,    0,    0,    0,    0,    0,    0,    0,    0,\n",
              "           0,    0,    0,    0,    0,    0,    0,    0,    0,    0,    0,\n",
              "           0,    0,    0,    0,    0,    0,    0,    0,    0,    0,    0,\n",
              "           0,    0,    0,    0,    0,    0,    0,    0,    0,    0,    0,\n",
              "           0,    0,    0,    0,    0,    0,    0,    0,    0,    0,    0,\n",
              "           0,    0,    0,    0,    0,    0,    0,    0,    0,    0,    0,\n",
              "           0,    0,    0,    0,    0,    0,    0,    0,    0,    0,    0,\n",
              "           0,    0,    0,    0,    0,    0,    0,    0,    0,    0,    0,\n",
              "           0,    0,    0,    0,    0,    0,    0,    0,    0,    0,    0,\n",
              "           0,    0,    0,    0,    0,    0,    0,    0,    0,    0,    0,\n",
              "           0,    0,    0,    0,    0,    0,    0,    0,    0,    0,    0,\n",
              "           0,    0,    0,    0,    0,    0,    0,    0,    0,    0,    0,\n",
              "           0,    0,    0,    0,    0,    0,    0,    0,    0,    0,    0,\n",
              "           0,    0,    0,    0,    0,    0,    0,    0,    0,    0,    0,\n",
              "           0,    0,    0,    0,    0,    0,    0,    0,    0,    0,    0,\n",
              "           0,    0,    0,    0,    0,    0,    0,    0,    0,    0,    0,\n",
              "           0,    0,    0,    0,    0,    0,    0,    0,    0,    0,    0,\n",
              "           0,    0,    0,    0,    0], dtype=int32),\n",
              " array([3060, 7188,  517, 7555, 7555, 1868,   54, 3220, 5970, 7819,  258,\n",
              "        6534, 7088, 4196, 1698, 3907, 7996, 2773, 7848, 7276, 6705, 5405,\n",
              "        6857,  258, 5679, 3424, 3958, 7483, 5842, 4627, 5330, 3872,  517,\n",
              "           0, 5330, 3906, 7807, 2971, 7864, 5808,   54, 7096, 2692, 2346,\n",
              "        6724, 3567, 4998, 6386, 2872, 3860, 3818, 2095, 6884, 7096, 3881,\n",
              "        6999,  258, 5663, 1101, 6087, 7997, 5782, 5439, 2705, 7819, 2086,\n",
              "        7867,  517, 5330, 6553, 4360, 6745, 7078, 2579, 7852, 5405, 6855,\n",
              "          54, 7344, 6745, 7078, 2579, 7788, 2692, 1218, 7836, 2872, 3854,\n",
              "        5585, 2193, 6999,   54,    0,    0,    0,    0,    0,    0,    0,\n",
              "           0,    0,    0,    0,    0,    0,    0,    0,    0,    0,    0,\n",
              "           0,    0,    0,    0,    0,    0,    0,    0,    0,    0,    0,\n",
              "           0,    0,    0,    0,    0,    0,    0,    0,    0,    0,    0,\n",
              "           0,    0,    0,    0,    0,    0,    0,    0,    0,    0,    0,\n",
              "           0,    0,    0,    0,    0,    0,    0,    0,    0,    0,    0,\n",
              "           0,    0,    0,    0,    0,    0,    0,    0,    0,    0,    0,\n",
              "           0,    0,    0,    0,    0,    0,    0,    0,    0,    0,    0,\n",
              "           0,    0,    0,    0,    0,    0,    0,    0,    0,    0,    0,\n",
              "           0,    0,    0,    0,    0,    0,    0,    0,    0,    0,    0,\n",
              "           0,    0,    0,    0,    0,    0,    0,    0,    0,    0,    0,\n",
              "           0,    0,    0,    0,    0,    0,    0,    0,    0,    0,    0,\n",
              "           0,    0,    0,    0,    0,    0,    0,    0,    0,    0,    0,\n",
              "           0,    0,    0,    0,    0,    0,    0,    0,    0,    0,    0,\n",
              "           0,    0,    0,    0,    0,    0,    0,    0,    0,    0,    0,\n",
              "           0,    0,    0,    0,    0,    0,    0,    0,    0,    0,    0,\n",
              "           0,    0,    0,    0,    0,    0,    0,    0,    0,    0,    0,\n",
              "           0,    0,    0,    0,    0,    0,    0,    0,    0,    0,    0,\n",
              "           0,    0,    0,    0,    0,    0,    0,    0,    0,    0,    0,\n",
              "           0,    0,    0,    0,    0,    0,    0,    0,    0,    0,    0,\n",
              "           0,    0,    0,    0,    0,    0,    0,    0,    0,    0,    0,\n",
              "           0,    0,    0,    0,    0,    0,    0,    0,    0,    0,    0,\n",
              "           0,    0,    0,    0,    0,    0,    0,    0,    0,    0,    0,\n",
              "           0,    0,    0,    0,    0,    0,    0,    0,    0,    0,    0,\n",
              "           0,    0,    0,    0,    0,    0,    0,    0,    0,    0,    0,\n",
              "           0,    0,    0,    0,    0,    0,    0,    0,    0,    0,    0,\n",
              "           0,    0,    0,    0,    0,    0,    0,    0,    0,    0,    0,\n",
              "           0,    0,    0,    0,    0,    0,    0,    0,    0,    0,    0,\n",
              "           0,    0,    0,    0,    0,    0,    0,    0,    0,    0,    0,\n",
              "           0,    0,    0,    0,    0,    0,    0,    0,    0,    0,    0,\n",
              "           0,    0,    0,    0,    0,    0,    0,    0,    0,    0,    0,\n",
              "           0,    0,    0,    0,    0,    0,    0,    0,    0,    0,    0,\n",
              "           0,    0,    0,    0,    0,    0,    0,    0,    0,    0,    0,\n",
              "           0,    0,    0,    0,    0,    0,    0,    0,    0,    0,    0,\n",
              "           0,    0,    0,    0,    0,    0,    0,    0,    0,    0,    0,\n",
              "           0,    0,    0,    0,    0,    0,    0,    0,    0,    0,    0,\n",
              "           0,    0,    0,    0,    0,    0,    0,    0,    0,    0,    0,\n",
              "           0,    0,    0,    0,    0], dtype=int32),\n",
              " array([3238, 1435, 4955, 3042, 1849, 4627, 6897, 4102, 2149, 6812, 7848,\n",
              "          54, 6855, 5971, 3803, 7123, 3907, 7996, 1961, 7848, 7276, 6705,\n",
              "        5405, 6857,  258, 5679, 2918, 7088, 1956, 1907, 6601, 6553, 4627,\n",
              "        3454, 6896, 4737, 7848, 6323, 6072, 6855,   54, 7489, 5495, 6897,\n",
              "        2149, 6812, 7828, 1917, 1849, 1101, 6079, 7018, 7788,  980, 6705,\n",
              "        5760, 5512, 6999,   54, 7489, 5495, 6897, 2579, 7788, 2801, 7589,\n",
              "        6443,  517, 7304, 5405, 6855,   54, 7489, 5495, 6897, 1918, 4012,\n",
              "        7807, 4924, 6705, 5760, 5512, 6999,   54,    0,    0,    0,    0,\n",
              "           0,    0,    0,    0,    0,    0,    0,    0,    0,    0,    0,\n",
              "           0,    0,    0,    0,    0,    0,    0,    0,    0,    0,    0,\n",
              "           0,    0,    0,    0,    0,    0,    0,    0,    0,    0,    0,\n",
              "           0,    0,    0,    0,    0,    0,    0,    0,    0,    0,    0,\n",
              "           0,    0,    0,    0,    0,    0,    0,    0,    0,    0,    0,\n",
              "           0,    0,    0,    0,    0,    0,    0,    0,    0,    0,    0,\n",
              "           0,    0,    0,    0,    0,    0,    0,    0,    0,    0,    0,\n",
              "           0,    0,    0,    0,    0,    0,    0,    0,    0,    0,    0,\n",
              "           0,    0,    0,    0,    0,    0,    0,    0,    0,    0,    0,\n",
              "           0,    0,    0,    0,    0,    0,    0,    0,    0,    0,    0,\n",
              "           0,    0,    0,    0,    0,    0,    0,    0,    0,    0,    0,\n",
              "           0,    0,    0,    0,    0,    0,    0,    0,    0,    0,    0,\n",
              "           0,    0,    0,    0,    0,    0,    0,    0,    0,    0,    0,\n",
              "           0,    0,    0,    0,    0,    0,    0,    0,    0,    0,    0,\n",
              "           0,    0,    0,    0,    0,    0,    0,    0,    0,    0,    0,\n",
              "           0,    0,    0,    0,    0,    0,    0,    0,    0,    0,    0,\n",
              "           0,    0,    0,    0,    0,    0,    0,    0,    0,    0,    0,\n",
              "           0,    0,    0,    0,    0,    0,    0,    0,    0,    0,    0,\n",
              "           0,    0,    0,    0,    0,    0,    0,    0,    0,    0,    0,\n",
              "           0,    0,    0,    0,    0,    0,    0,    0,    0,    0,    0,\n",
              "           0,    0,    0,    0,    0,    0,    0,    0,    0,    0,    0,\n",
              "           0,    0,    0,    0,    0,    0,    0,    0,    0,    0,    0,\n",
              "           0,    0,    0,    0,    0,    0,    0,    0,    0,    0,    0,\n",
              "           0,    0,    0,    0,    0,    0,    0,    0,    0,    0,    0,\n",
              "           0,    0,    0,    0,    0,    0,    0,    0,    0,    0,    0,\n",
              "           0,    0,    0,    0,    0,    0,    0,    0,    0,    0,    0,\n",
              "           0,    0,    0,    0,    0,    0,    0,    0,    0,    0,    0,\n",
              "           0,    0,    0,    0,    0,    0,    0,    0,    0,    0,    0,\n",
              "           0,    0,    0,    0,    0,    0,    0,    0,    0,    0,    0,\n",
              "           0,    0,    0,    0,    0,    0,    0,    0,    0,    0,    0,\n",
              "           0,    0,    0,    0,    0,    0,    0,    0,    0,    0,    0,\n",
              "           0,    0,    0,    0,    0,    0,    0,    0,    0,    0,    0,\n",
              "           0,    0,    0,    0,    0,    0,    0,    0,    0,    0,    0,\n",
              "           0,    0,    0,    0,    0,    0,    0,    0,    0,    0,    0,\n",
              "           0,    0,    0,    0,    0,    0,    0,    0,    0,    0,    0,\n",
              "           0,    0,    0,    0,    0,    0,    0,    0,    0,    0,    0,\n",
              "           0,    0,    0,    0,    0,    0,    0,    0,    0,    0,    0,\n",
              "           0,    0,    0,    0,    0], dtype=int32),\n",
              " array([2387, 6664, 7767, 6750, 7088, 1618, 7850, 1458, 1632, 6668,   54,\n",
              "        6374, 6664, 7767, 6750, 7088, 1618, 7850, 1458, 1632, 6664, 6037,\n",
              "        7005, 6705, 5512, 6999,   54, 7096, 6040, 3817, 1618, 7828,  921,\n",
              "        4468, 7101, 1458, 2095, 6553, 7018, 6553, 2008, 5330, 4924,    0,\n",
              "        5400, 2339, 7848, 6323, 6072, 6855,   54, 5691, 6228, 2095, 6553,\n",
              "        7005, 6604, 5405, 6857,   54, 4301, 1100, 6797, 7318, 6604, 5655,\n",
              "        6999,  258, 7323, 7086, 1100, 6797, 7248, 6855,   54, 3093, 5591,\n",
              "        5760, 2387, 6664, 7767, 6750, 7107, 2606, 3168, 3060, 7188, 1907,\n",
              "        6441, 5889, 1282, 7112, 5771,   54, 6158, 7096, 1505, 6604, 5842,\n",
              "         905,  830, 5703,   54,    0,    0,    0,    0,    0,    0,    0,\n",
              "           0,    0,    0,    0,    0,    0,    0,    0,    0,    0,    0,\n",
              "           0,    0,    0,    0,    0,    0,    0,    0,    0,    0,    0,\n",
              "           0,    0,    0,    0,    0,    0,    0,    0,    0,    0,    0,\n",
              "           0,    0,    0,    0,    0,    0,    0,    0,    0,    0,    0,\n",
              "           0,    0,    0,    0,    0,    0,    0,    0,    0,    0,    0,\n",
              "           0,    0,    0,    0,    0,    0,    0,    0,    0,    0,    0,\n",
              "           0,    0,    0,    0,    0,    0,    0,    0,    0,    0,    0,\n",
              "           0,    0,    0,    0,    0,    0,    0,    0,    0,    0,    0,\n",
              "           0,    0,    0,    0,    0,    0,    0,    0,    0,    0,    0,\n",
              "           0,    0,    0,    0,    0,    0,    0,    0,    0,    0,    0,\n",
              "           0,    0,    0,    0,    0,    0,    0,    0,    0,    0,    0,\n",
              "           0,    0,    0,    0,    0,    0,    0,    0,    0,    0,    0,\n",
              "           0,    0,    0,    0,    0,    0,    0,    0,    0,    0,    0,\n",
              "           0,    0,    0,    0,    0,    0,    0,    0,    0,    0,    0,\n",
              "           0,    0,    0,    0,    0,    0,    0,    0,    0,    0,    0,\n",
              "           0,    0,    0,    0,    0,    0,    0,    0,    0,    0,    0,\n",
              "           0,    0,    0,    0,    0,    0,    0,    0,    0,    0,    0,\n",
              "           0,    0,    0,    0,    0,    0,    0,    0,    0,    0,    0,\n",
              "           0,    0,    0,    0,    0,    0,    0,    0,    0,    0,    0,\n",
              "           0,    0,    0,    0,    0,    0,    0,    0,    0,    0,    0,\n",
              "           0,    0,    0,    0,    0,    0,    0,    0,    0,    0,    0,\n",
              "           0,    0,    0,    0,    0,    0,    0,    0,    0,    0,    0,\n",
              "           0,    0,    0,    0,    0,    0,    0,    0,    0,    0,    0,\n",
              "           0,    0,    0,    0,    0,    0,    0,    0,    0,    0,    0,\n",
              "           0,    0,    0,    0,    0,    0,    0,    0,    0,    0,    0,\n",
              "           0,    0,    0,    0,    0,    0,    0,    0,    0,    0,    0,\n",
              "           0,    0,    0,    0,    0,    0,    0,    0,    0,    0,    0,\n",
              "           0,    0,    0,    0,    0,    0,    0,    0,    0,    0,    0,\n",
              "           0,    0,    0,    0,    0,    0,    0,    0,    0,    0,    0,\n",
              "           0,    0,    0,    0,    0,    0,    0,    0,    0,    0,    0,\n",
              "           0,    0,    0,    0,    0,    0,    0,    0,    0,    0,    0,\n",
              "           0,    0,    0,    0,    0,    0,    0,    0,    0,    0,    0,\n",
              "           0,    0,    0,    0,    0,    0,    0,    0,    0,    0,    0,\n",
              "           0,    0,    0,    0,    0,    0,    0,    0,    0,    0,    0,\n",
              "           0,    0,    0,    0,    0,    0,    0,    0,    0,    0,    0,\n",
              "           0,    0,    0,    0,    0], dtype=int32),\n",
              " array([3395, 7354, 3376, 5341, 7086, 3177, 2888, 7088, 2232, 4297, 3252,\n",
              "        1768, 5859, 3156, 5761, 3886, 5628, 1916, 5152, 5474, 6896, 1390,\n",
              "         889, 2372, 4955, 6745, 7848, 4244, 5405, 6855,   54, 6637, 7088,\n",
              "        1927, 1925, 3731, 2468, 5612, 1916, 5152, 5474, 6896,  984, 1388,\n",
              "        6705, 5760,  921, 3011, 3084, 7096, 6705, 5655, 2355, 5703,   54,\n",
              "        7276, 6355, 2586, 2923, 6004, 1204, 1958, 7795, 5859, 4062, 3135,\n",
              "        1804,   54, 1805, 2923, 5760,  921, 4204, 7088,  517, 7621, 5850,\n",
              "          54, 6855, 5975, 5400, 4939, 3731, 4977, 6798, 5612, 1916, 5152,\n",
              "        5474, 6896, 3135, 1389, 1805, 2923, 5400, 4977, 2872, 3881, 6999,\n",
              "         258, 5679, 4358, 3395, 7354, 6896, 3715, 5010, 5405, 6855,   54,\n",
              "        4197, 7268, 4446, 5330, 6198, 1185, 5859, 4384, 6903, 1704, 3060,\n",
              "        6745, 7848, 7782, 5405, 7318,   54, 6956, 7354, 2468, 5468, 7095,\n",
              "        3714, 5330, 3546, 7784, 4888, 6122, 5573, 2193, 6999,   54,    0,\n",
              "           0,    0,    0,    0,    0,    0,    0,    0,    0,    0,    0,\n",
              "           0,    0,    0,    0,    0,    0,    0,    0,    0,    0,    0,\n",
              "           0,    0,    0,    0,    0,    0,    0,    0,    0,    0,    0,\n",
              "           0,    0,    0,    0,    0,    0,    0,    0,    0,    0,    0,\n",
              "           0,    0,    0,    0,    0,    0,    0,    0,    0,    0,    0,\n",
              "           0,    0,    0,    0,    0,    0,    0,    0,    0,    0,    0,\n",
              "           0,    0,    0,    0,    0,    0,    0,    0,    0,    0,    0,\n",
              "           0,    0,    0,    0,    0,    0,    0,    0,    0,    0,    0,\n",
              "           0,    0,    0,    0,    0,    0,    0,    0,    0,    0,    0,\n",
              "           0,    0,    0,    0,    0,    0,    0,    0,    0,    0,    0,\n",
              "           0,    0,    0,    0,    0,    0,    0,    0,    0,    0,    0,\n",
              "           0,    0,    0,    0,    0,    0,    0,    0,    0,    0,    0,\n",
              "           0,    0,    0,    0,    0,    0,    0,    0,    0,    0,    0,\n",
              "           0,    0,    0,    0,    0,    0,    0,    0,    0,    0,    0,\n",
              "           0,    0,    0,    0,    0,    0,    0,    0,    0,    0,    0,\n",
              "           0,    0,    0,    0,    0,    0,    0,    0,    0,    0,    0,\n",
              "           0,    0,    0,    0,    0,    0,    0,    0,    0,    0,    0,\n",
              "           0,    0,    0,    0,    0,    0,    0,    0,    0,    0,    0,\n",
              "           0,    0,    0,    0,    0,    0,    0,    0,    0,    0,    0,\n",
              "           0,    0,    0,    0,    0,    0,    0,    0,    0,    0,    0,\n",
              "           0,    0,    0,    0,    0,    0,    0,    0,    0,    0,    0,\n",
              "           0,    0,    0,    0,    0,    0,    0,    0,    0,    0,    0,\n",
              "           0,    0,    0,    0,    0,    0,    0,    0,    0,    0,    0,\n",
              "           0,    0,    0,    0,    0,    0,    0,    0,    0,    0,    0,\n",
              "           0,    0,    0,    0,    0,    0,    0,    0,    0,    0,    0,\n",
              "           0,    0,    0,    0,    0,    0,    0,    0,    0,    0,    0,\n",
              "           0,    0,    0,    0,    0,    0,    0,    0,    0,    0,    0,\n",
              "           0,    0,    0,    0,    0,    0,    0,    0,    0,    0,    0,\n",
              "           0,    0,    0,    0,    0,    0,    0,    0,    0,    0,    0,\n",
              "           0,    0,    0,    0,    0,    0,    0,    0,    0,    0,    0,\n",
              "           0,    0,    0,    0,    0,    0,    0,    0,    0,    0,    0,\n",
              "           0,    0,    0,    0,    0,    0,    0,    0,    0,    0,    0,\n",
              "           0,    0,    0,    0,    0], dtype=int32),\n",
              " array([1434,  882, 6896, 1685, 2423, 5640, 6044, 5439, 3358, 5944, 5344,\n",
              "        1548, 1844, 5330, 1952,   54, 6228, 6696,  981, 3871, 5655, 6999,\n",
              "         258, 7464, 1741, 7925, 7953, 6896,  758, 7867,  834, 3514, 7848,\n",
              "        6364, 5771, 1434,  882, 5468, 4495, 7096, 1956, 1783, 7416, 7345,\n",
              "        5760,  911, 1545, 6855,   54, 5538, 6037, 6604, 5512, 6999,   54,\n",
              "        1917, 7096, 3135, 4204, 7074, 6604, 5405, 6857,   54, 7094, 1698,\n",
              "        3358, 5944, 5341, 1546, 5561, 4045, 4299, 6410, 6006,  882, 7088,\n",
              "        3568, 1700, 5837, 3367, 3514, 7852, 5405, 6855,   54, 5702,   54,\n",
              "         882, 7088, 3567, 1700, 3367, 3514, 7782, 6705, 5585, 2193, 6999,\n",
              "          54,    0,    0,    0,    0,    0,    0,    0,    0,    0,    0,\n",
              "           0,    0,    0,    0,    0,    0,    0,    0,    0,    0,    0,\n",
              "           0,    0,    0,    0,    0,    0,    0,    0,    0,    0,    0,\n",
              "           0,    0,    0,    0,    0,    0,    0,    0,    0,    0,    0,\n",
              "           0,    0,    0,    0,    0,    0,    0,    0,    0,    0,    0,\n",
              "           0,    0,    0,    0,    0,    0,    0,    0,    0,    0,    0,\n",
              "           0,    0,    0,    0,    0,    0,    0,    0,    0,    0,    0,\n",
              "           0,    0,    0,    0,    0,    0,    0,    0,    0,    0,    0,\n",
              "           0,    0,    0,    0,    0,    0,    0,    0,    0,    0,    0,\n",
              "           0,    0,    0,    0,    0,    0,    0,    0,    0,    0,    0,\n",
              "           0,    0,    0,    0,    0,    0,    0,    0,    0,    0,    0,\n",
              "           0,    0,    0,    0,    0,    0,    0,    0,    0,    0,    0,\n",
              "           0,    0,    0,    0,    0,    0,    0,    0,    0,    0,    0,\n",
              "           0,    0,    0,    0,    0,    0,    0,    0,    0,    0,    0,\n",
              "           0,    0,    0,    0,    0,    0,    0,    0,    0,    0,    0,\n",
              "           0,    0,    0,    0,    0,    0,    0,    0,    0,    0,    0,\n",
              "           0,    0,    0,    0,    0,    0,    0,    0,    0,    0,    0,\n",
              "           0,    0,    0,    0,    0,    0,    0,    0,    0,    0,    0,\n",
              "           0,    0,    0,    0,    0,    0,    0,    0,    0,    0,    0,\n",
              "           0,    0,    0,    0,    0,    0,    0,    0,    0,    0,    0,\n",
              "           0,    0,    0,    0,    0,    0,    0,    0,    0,    0,    0,\n",
              "           0,    0,    0,    0,    0,    0,    0,    0,    0,    0,    0,\n",
              "           0,    0,    0,    0,    0,    0,    0,    0,    0,    0,    0,\n",
              "           0,    0,    0,    0,    0,    0,    0,    0,    0,    0,    0,\n",
              "           0,    0,    0,    0,    0,    0,    0,    0,    0,    0,    0,\n",
              "           0,    0,    0,    0,    0,    0,    0,    0,    0,    0,    0,\n",
              "           0,    0,    0,    0,    0,    0,    0,    0,    0,    0,    0,\n",
              "           0,    0,    0,    0,    0,    0,    0,    0,    0,    0,    0,\n",
              "           0,    0,    0,    0,    0,    0,    0,    0,    0,    0,    0,\n",
              "           0,    0,    0,    0,    0,    0,    0,    0,    0,    0,    0,\n",
              "           0,    0,    0,    0,    0,    0,    0,    0,    0,    0,    0,\n",
              "           0,    0,    0,    0,    0,    0,    0,    0,    0,    0,    0,\n",
              "           0,    0,    0,    0,    0,    0,    0,    0,    0,    0,    0,\n",
              "           0,    0,    0,    0,    0,    0,    0,    0,    0,    0,    0,\n",
              "           0,    0,    0,    0,    0,    0,    0,    0,    0,    0,    0,\n",
              "           0,    0,    0,    0,    0,    0,    0,    0,    0,    0,    0,\n",
              "           0,    0,    0,    0,    0], dtype=int32),\n",
              " array([3466, 1562, 5931,  950, 7805, 3135, 5793, 7126, 5591,  258, 1375,\n",
              "        3129, 1091, 3272, 5850, 1963, 6844,   54, 7276, 6355, 2585, 7095,\n",
              "        2781, 7941, 6896, 5112, 5330, 1370, 6705, 5405, 6857,   54, 6821,\n",
              "        6797, 6553, 4977, 4733, 5770, 1089, 4196, 1344, 7305, 7083, 4204,\n",
              "        5405, 6855,   54, 5666, 7095, 2959, 6559, 1849, 4396, 7316, 5655,\n",
              "        6705, 5405, 6857,   54, 7096, 7234, 6410, 1613, 5907, 7318, 3149,\n",
              "         517, 6618, 7342, 7784, 3714,  517, 7807, 4998,   54, 6498, 5939,\n",
              "         777, 6570, 6903, 3920, 6079, 7018, 7318, 6604, 7083, 4204, 5405,\n",
              "        5703,   54,    0,    0,    0,    0,    0,    0,    0,    0,    0,\n",
              "           0,    0,    0,    0,    0,    0,    0,    0,    0,    0,    0,\n",
              "           0,    0,    0,    0,    0,    0,    0,    0,    0,    0,    0,\n",
              "           0,    0,    0,    0,    0,    0,    0,    0,    0,    0,    0,\n",
              "           0,    0,    0,    0,    0,    0,    0,    0,    0,    0,    0,\n",
              "           0,    0,    0,    0,    0,    0,    0,    0,    0,    0,    0,\n",
              "           0,    0,    0,    0,    0,    0,    0,    0,    0,    0,    0,\n",
              "           0,    0,    0,    0,    0,    0,    0,    0,    0,    0,    0,\n",
              "           0,    0,    0,    0,    0,    0,    0,    0,    0,    0,    0,\n",
              "           0,    0,    0,    0,    0,    0,    0,    0,    0,    0,    0,\n",
              "           0,    0,    0,    0,    0,    0,    0,    0,    0,    0,    0,\n",
              "           0,    0,    0,    0,    0,    0,    0,    0,    0,    0,    0,\n",
              "           0,    0,    0,    0,    0,    0,    0,    0,    0,    0,    0,\n",
              "           0,    0,    0,    0,    0,    0,    0,    0,    0,    0,    0,\n",
              "           0,    0,    0,    0,    0,    0,    0,    0,    0,    0,    0,\n",
              "           0,    0,    0,    0,    0,    0,    0,    0,    0,    0,    0,\n",
              "           0,    0,    0,    0,    0,    0,    0,    0,    0,    0,    0,\n",
              "           0,    0,    0,    0,    0,    0,    0,    0,    0,    0,    0,\n",
              "           0,    0,    0,    0,    0,    0,    0,    0,    0,    0,    0,\n",
              "           0,    0,    0,    0,    0,    0,    0,    0,    0,    0,    0,\n",
              "           0,    0,    0,    0,    0,    0,    0,    0,    0,    0,    0,\n",
              "           0,    0,    0,    0,    0,    0,    0,    0,    0,    0,    0,\n",
              "           0,    0,    0,    0,    0,    0,    0,    0,    0,    0,    0,\n",
              "           0,    0,    0,    0,    0,    0,    0,    0,    0,    0,    0,\n",
              "           0,    0,    0,    0,    0,    0,    0,    0,    0,    0,    0,\n",
              "           0,    0,    0,    0,    0,    0,    0,    0,    0,    0,    0,\n",
              "           0,    0,    0,    0,    0,    0,    0,    0,    0,    0,    0,\n",
              "           0,    0,    0,    0,    0,    0,    0,    0,    0,    0,    0,\n",
              "           0,    0,    0,    0,    0,    0,    0,    0,    0,    0,    0,\n",
              "           0,    0,    0,    0,    0,    0,    0,    0,    0,    0,    0,\n",
              "           0,    0,    0,    0,    0,    0,    0,    0,    0,    0,    0,\n",
              "           0,    0,    0,    0,    0,    0,    0,    0,    0,    0,    0,\n",
              "           0,    0,    0,    0,    0,    0,    0,    0,    0,    0,    0,\n",
              "           0,    0,    0,    0,    0,    0,    0,    0,    0,    0,    0,\n",
              "           0,    0,    0,    0,    0,    0,    0,    0,    0,    0,    0,\n",
              "           0,    0,    0,    0,    0,    0,    0,    0,    0,    0,    0,\n",
              "           0,    0,    0,    0,    0,    0,    0,    0,    0,    0,    0,\n",
              "           0,    0,    0,    0,    0], dtype=int32)]"
            ]
          },
          "metadata": {
            "tags": []
          },
          "execution_count": 99
        }
      ]
    },
    {
      "cell_type": "code",
      "metadata": {
        "colab": {
          "base_uri": "https://localhost:8080/",
          "height": 0
        },
        "id": "pS3OPX-H1dew",
        "outputId": "5a549a2a-e289-48fa-a5c7-7dc4bcb19728"
      },
      "source": [
        "type(train_padded)"
      ],
      "execution_count": 100,
      "outputs": [
        {
          "output_type": "execute_result",
          "data": {
            "text/plain": [
              "list"
            ]
          },
          "metadata": {
            "tags": []
          },
          "execution_count": 100
        }
      ]
    },
    {
      "cell_type": "code",
      "metadata": {
        "colab": {
          "base_uri": "https://localhost:8080/",
          "height": 0
        },
        "id": "C9Hc3KRO1dew",
        "outputId": "c5da764a-4d14-4e38-c511-45b328ff8dc8"
      },
      "source": [
        "train_labels_large[:10]"
      ],
      "execution_count": 101,
      "outputs": [
        {
          "output_type": "execute_result",
          "data": {
            "text/plain": [
              "array([[0., 0., 1., 0., 0., 0.],\n",
              "       [0., 0., 1., 0., 0., 0.],\n",
              "       [0., 0., 1., 0., 0., 0.],\n",
              "       [0., 0., 1., 0., 0., 0.],\n",
              "       [0., 0., 1., 0., 0., 0.],\n",
              "       [0., 0., 1., 0., 0., 0.],\n",
              "       [0., 0., 1., 0., 0., 0.],\n",
              "       [0., 0., 1., 0., 0., 0.],\n",
              "       [0., 0., 1., 0., 0., 0.],\n",
              "       [0., 0., 1., 0., 0., 0.]], dtype=float32)"
            ]
          },
          "metadata": {
            "tags": []
          },
          "execution_count": 101
        }
      ]
    },
    {
      "cell_type": "markdown",
      "metadata": {
        "id": "DOCRoNS_1dex"
      },
      "source": [
        "# 모델링"
      ]
    },
    {
      "cell_type": "code",
      "metadata": {
        "scrolled": true,
        "colab": {
          "base_uri": "https://localhost:8080/",
          "height": 0
        },
        "id": "T-AKgh-91dez",
        "outputId": "f2fd56fd-c16d-4067-b90b-037171f47dcc"
      },
      "source": [
        "## 사전 조정 (소 분류)\n",
        "\n",
        "train_input = np.array(train_padded)\n",
        "train_labels = np.array(train_labels)\n",
        "\n",
        "test_input = np.array(validation_padded)\n",
        "test_labels = np.array(validation_labels)\n",
        "\n",
        "\n",
        "\n",
        "print(train_input.shape, train_labels.shape, test_input.shape, test_labels.shape)"
      ],
      "execution_count": 103,
      "outputs": [
        {
          "output_type": "stream",
          "text": [
            "(15832, 500) (15832, 60) (1717, 500) (1717, 60)\n"
          ],
          "name": "stdout"
        }
      ]
    },
    {
      "cell_type": "code",
      "metadata": {
        "id": "NwjUMIxW1dez"
      },
      "source": [
        "##### 임포트\n",
        "from keras import optimizers, losses\n",
        "from keras.optimizers import Adam, SGD"
      ],
      "execution_count": 104,
      "outputs": []
    },
    {
      "cell_type": "code",
      "metadata": {
        "id": "IynBQhGQ1de5"
      },
      "source": [
        "vocab_size =8002\n",
        "embedding_dim = 64"
      ],
      "execution_count": 105,
      "outputs": []
    },
    {
      "cell_type": "code",
      "metadata": {
        "id": "1wBYEm7b1de5"
      },
      "source": [
        "##### 모델 4 -캐글 TCN\n",
        "# https://www.kaggle.com/abhiramanand/project-tcn\n",
        "\n",
        "\n",
        "####\n",
        "model = tf.keras.Sequential([\n",
        "    tf.keras.layers.Embedding(vocab_size, embedding_dim, input_length=max_len),\n",
        "    \n",
        "    #tf.keras.layers.Conv1D(filters=64, kernel_size=20,strides=10,padding='valid'), #kernel_size=10\n",
        "\n",
        "    tf.keras.layers.Conv1D(filters=1024, kernel_size=50,strides=1,padding='causal', activation='relu'), #kernel_size=100\n",
        "    \n",
        "    #tf.keras.layers.Dense(512, activation='relu'),\n",
        "    tf.keras.layers.Dense(64, activation='relu'),\n",
        "    #tf.keras.layers.Dense(512, activation='relu'),\n",
        "    \n",
        "    tf.keras.layers.GlobalAveragePooling1D(),\n",
        "    \n",
        "    \n",
        "    tf.keras.layers.Dense(60, activation='softmax')\n",
        "])"
      ],
      "execution_count": 106,
      "outputs": []
    },
    {
      "cell_type": "code",
      "metadata": {
        "id": "RWgClp891de5"
      },
      "source": [
        "#### 수정\n",
        "model = tf.keras.Sequential([\n",
        "    tf.keras.layers.Embedding(vocab_size, embedding_dim, input_length=max_len),\n",
        "    \n",
        "    #tf.keras.layers.Conv1D(filters=64, kernel_size=20,strides=10,padding='valid'), #kernel_size=10\n",
        "\n",
        "    tf.keras.layers.Conv1D(filters=60, kernel_size=20,strides=10,padding='causal', activation='relu'), #kernel_size=100\n",
        "    \n",
        "    #tf.keras.layers.Dense(512, activation='relu'),\n",
        "    tf.keras.layers.Dense(128, activation='relu'),\n",
        "    #tf.keras.layers.Dense(512, activation='relu'),\n",
        "    \n",
        "    tf.keras.layers.GlobalAveragePooling1D(),\n",
        "    \n",
        "    \n",
        "    tf.keras.layers.Dense(60, activation='softmax')\n",
        "])"
      ],
      "execution_count": 107,
      "outputs": []
    },
    {
      "cell_type": "code",
      "metadata": {
        "colab": {
          "base_uri": "https://localhost:8080/",
          "height": 0
        },
        "id": "kHdJHRtn1de6",
        "outputId": "84fa9de0-de79-45f7-d195-81f7d0fac53c"
      },
      "source": [
        "model.summary()"
      ],
      "execution_count": 108,
      "outputs": [
        {
          "output_type": "stream",
          "text": [
            "Model: \"sequential_1\"\n",
            "_________________________________________________________________\n",
            "Layer (type)                 Output Shape              Param #   \n",
            "=================================================================\n",
            "embedding_1 (Embedding)      (None, 500, 64)           512128    \n",
            "_________________________________________________________________\n",
            "conv1d_1 (Conv1D)            (None, 50, 60)            76860     \n",
            "_________________________________________________________________\n",
            "dense_2 (Dense)              (None, 50, 128)           7808      \n",
            "_________________________________________________________________\n",
            "global_average_pooling1d_1 ( (None, 128)               0         \n",
            "_________________________________________________________________\n",
            "dense_3 (Dense)              (None, 60)                7740      \n",
            "=================================================================\n",
            "Total params: 604,536\n",
            "Trainable params: 604,536\n",
            "Non-trainable params: 0\n",
            "_________________________________________________________________\n"
          ],
          "name": "stdout"
        }
      ]
    },
    {
      "cell_type": "code",
      "metadata": {
        "id": "CMFQzmtj1de6"
      },
      "source": [
        "# learing rate 옵션 (adam)\n",
        "\n",
        "#1) SGD\n",
        "#opt = optimizers.SGD(lr=0.003, momentum=0.0, decay=0.01, nesterov=False)\n",
        "\n",
        "#2) Adam\n",
        "opt = optimizers.Adam(lr=0.002, beta_1=0.9, beta_2=0.999, epsilon=None, decay=0.001, amsgrad=False) # learing rate 옵션\n",
        "\n",
        "#keras.losses.sparse_categorical_crossentropy(y_true, y_pred)\n",
        "model.compile(optimizer=opt, loss='categorical_crossentropy', metrics=['acc'])"
      ],
      "execution_count": 109,
      "outputs": []
    },
    {
      "cell_type": "code",
      "metadata": {
        "id": "DOOxwjan1de6"
      },
      "source": [
        "checkpoint_path = 'my_checkpoint.ckpt'\n",
        "checkpoint = ModelCheckpoint(checkpoint_path, \n",
        "                             save_weights_only=True, \n",
        "                             save_best_only=True, \n",
        "                             monitor='val_loss',\n",
        "                             verbose=1)"
      ],
      "execution_count": 110,
      "outputs": []
    },
    {
      "cell_type": "code",
      "metadata": {
        "scrolled": true,
        "colab": {
          "base_uri": "https://localhost:8080/",
          "height": 0
        },
        "id": "0Fvl9cB31de7",
        "outputId": "dedda4c1-7cbe-4a87-c970-e6b42c3a4394"
      },
      "source": [
        "# fit model\n",
        "num_epochs = 10\n",
        "\n",
        "history = model.fit(train_input, train_labels, \n",
        "                    validation_data = (test_input, test_labels),\n",
        "                    callbacks = [checkpoint],\n",
        "                    epochs=num_epochs)#, verbose=2) #validation_split=0.2)"
      ],
      "execution_count": 111,
      "outputs": [
        {
          "output_type": "stream",
          "text": [
            "Epoch 1/10\n",
            "495/495 [==============================] - 20s 38ms/step - loss: 4.0740 - acc: 0.0205 - val_loss: 3.8380 - val_acc: 0.0635\n",
            "\n",
            "Epoch 00001: val_loss improved from inf to 3.83799, saving model to my_checkpoint.ckpt\n",
            "Epoch 2/10\n",
            "495/495 [==============================] - 19s 38ms/step - loss: 3.5872 - acc: 0.1009 - val_loss: 3.4824 - val_acc: 0.1602\n",
            "\n",
            "Epoch 00002: val_loss improved from 3.83799 to 3.48242, saving model to my_checkpoint.ckpt\n",
            "Epoch 3/10\n",
            "495/495 [==============================] - 20s 41ms/step - loss: 3.0659 - acc: 0.2188 - val_loss: 3.4247 - val_acc: 0.1771\n",
            "\n",
            "Epoch 00003: val_loss improved from 3.48242 to 3.42466, saving model to my_checkpoint.ckpt\n",
            "Epoch 4/10\n",
            "495/495 [==============================] - 19s 39ms/step - loss: 2.7516 - acc: 0.2961 - val_loss: 3.4890 - val_acc: 0.1881\n",
            "\n",
            "Epoch 00004: val_loss did not improve from 3.42466\n",
            "Epoch 5/10\n",
            "495/495 [==============================] - 19s 38ms/step - loss: 2.4547 - acc: 0.3672 - val_loss: 3.6197 - val_acc: 0.1864\n",
            "\n",
            "Epoch 00005: val_loss did not improve from 3.42466\n",
            "Epoch 6/10\n",
            "495/495 [==============================] - 19s 38ms/step - loss: 2.2168 - acc: 0.4275 - val_loss: 3.8160 - val_acc: 0.1904\n",
            "\n",
            "Epoch 00006: val_loss did not improve from 3.42466\n",
            "Epoch 7/10\n",
            "495/495 [==============================] - 19s 39ms/step - loss: 1.9921 - acc: 0.4887 - val_loss: 4.0365 - val_acc: 0.1817\n",
            "\n",
            "Epoch 00007: val_loss did not improve from 3.42466\n",
            "Epoch 8/10\n",
            "495/495 [==============================] - 19s 38ms/step - loss: 1.8167 - acc: 0.5321 - val_loss: 4.2635 - val_acc: 0.1782\n",
            "\n",
            "Epoch 00008: val_loss did not improve from 3.42466\n",
            "Epoch 9/10\n",
            "495/495 [==============================] - 19s 39ms/step - loss: 1.6464 - acc: 0.5824 - val_loss: 4.5398 - val_acc: 0.1747\n",
            "\n",
            "Epoch 00009: val_loss did not improve from 3.42466\n",
            "Epoch 10/10\n",
            "495/495 [==============================] - 19s 38ms/step - loss: 1.4709 - acc: 0.6344 - val_loss: 4.7952 - val_acc: 0.1736\n",
            "\n",
            "Epoch 00010: val_loss did not improve from 3.42466\n"
          ],
          "name": "stdout"
        }
      ]
    },
    {
      "cell_type": "code",
      "metadata": {
        "colab": {
          "base_uri": "https://localhost:8080/",
          "height": 0
        },
        "id": "nltzW6161de7",
        "outputId": "d39302ce-1a2d-4d18-f776-ec1de1f6b744"
      },
      "source": [
        "model.load_weights(checkpoint_path) # 가중치 로드"
      ],
      "execution_count": 112,
      "outputs": [
        {
          "output_type": "execute_result",
          "data": {
            "text/plain": [
              "<tensorflow.python.training.tracking.util.CheckpointLoadStatus at 0x7f4bd6cd9390>"
            ]
          },
          "metadata": {
            "tags": []
          },
          "execution_count": 112
        }
      ]
    },
    {
      "cell_type": "code",
      "metadata": {
        "id": "h94Drr2g1de7"
      },
      "source": [
        ""
      ],
      "execution_count": 112,
      "outputs": []
    },
    {
      "cell_type": "code",
      "metadata": {
        "colab": {
          "base_uri": "https://localhost:8080/",
          "height": 0
        },
        "id": "0XGEUpN61de7",
        "outputId": "da24dfbb-5a18-486f-8aa8-248e6c887069"
      },
      "source": [
        "## 사전 조정 (대 분류)\n",
        "\n",
        "train_input = np.array(train_padded)\n",
        "train_labels_large = np.array(train_labels_large)\n",
        "\n",
        "test_input = np.array(validation_padded)\n",
        "test_labels_large = np.array(validation_labels_large)\n",
        "\n",
        "\n",
        "\n",
        "print(train_input.shape, train_labels_large.shape, test_input.shape, test_labels_large.shape)"
      ],
      "execution_count": 113,
      "outputs": [
        {
          "output_type": "stream",
          "text": [
            "(15832, 500) (15832, 6) (1717, 500) (1717, 6)\n"
          ],
          "name": "stdout"
        }
      ]
    },
    {
      "cell_type": "code",
      "metadata": {
        "id": "d-imRtTE1de7"
      },
      "source": [
        "## 대 분류 추가 학습"
      ],
      "execution_count": 114,
      "outputs": []
    },
    {
      "cell_type": "code",
      "metadata": {
        "id": "jeDzpFaR1de8"
      },
      "source": [
        "#### 수정 (대분류)\n",
        "model2 = tf.keras.Sequential([\n",
        "    tf.keras.layers.Embedding(vocab_size, embedding_dim, input_length=max_len),\n",
        "    \n",
        "    #tf.keras.layers.Conv1D(filters=64, kernel_size=20,strides=10,padding='valid'), #kernel_size=10\n",
        "\n",
        "    tf.keras.layers.Conv1D(filters=60, kernel_size=20,strides=10,padding='causal', activation='relu'), #kernel_size=100\n",
        "    \n",
        "    #tf.keras.layers.Dense(512, activation='relu'),\n",
        "    tf.keras.layers.Dense(128, activation='relu'),\n",
        "    #tf.keras.layers.Dense(512, activation='relu'),\n",
        "    \n",
        "    tf.keras.layers.GlobalAveragePooling1D(),\n",
        "    \n",
        "    \n",
        "    tf.keras.layers.Dense(6, activation='softmax')\n",
        "])"
      ],
      "execution_count": 115,
      "outputs": []
    },
    {
      "cell_type": "code",
      "metadata": {
        "id": "El9xD_w11de8"
      },
      "source": [
        "# learing rate 옵션 (adam)\n",
        "\n",
        "#1) SGD\n",
        "#opt = optimizers.SGD(lr=0.003, momentum=0.0, decay=0.01, nesterov=False)\n",
        "\n",
        "#2) Adam\n",
        "opt = optimizers.Adam(lr=0.002, beta_1=0.9, beta_2=0.999, epsilon=None, decay=0.001, amsgrad=False) # learing rate 옵션\n",
        "\n",
        "#keras.losses.sparse_categorical_crossentropy(y_true, y_pred)\n",
        "model2.compile(optimizer=opt, loss='categorical_crossentropy', metrics=['acc'])"
      ],
      "execution_count": 116,
      "outputs": []
    },
    {
      "cell_type": "code",
      "metadata": {
        "id": "updIr7CB1de9"
      },
      "source": [
        "#checkpoint_path = 'my_checkpoint.ckpt'\n",
        "checkpoint2 = ModelCheckpoint(checkpoint_path, \n",
        "                             save_weights_only=True, \n",
        "                             save_best_only=True, \n",
        "                             monitor='val_loss',\n",
        "                             verbose=1)"
      ],
      "execution_count": 117,
      "outputs": []
    },
    {
      "cell_type": "code",
      "metadata": {
        "id": "gSfdrg9t1de9"
      },
      "source": [
        ""
      ],
      "execution_count": 117,
      "outputs": []
    },
    {
      "cell_type": "code",
      "metadata": {
        "colab": {
          "base_uri": "https://localhost:8080/",
          "height": 0
        },
        "id": "7KFzmUzP1de9",
        "outputId": "180b2083-f890-4b09-9e74-d84d36af0bf8"
      },
      "source": [
        "# fit model\n",
        "num_epochs = 10\n",
        "\n",
        "history = model2.fit(train_input, train_labels_large, \n",
        "                    validation_data = (test_input, test_labels_large),\n",
        "                    callbacks = [checkpoint2],\n",
        "                    epochs=num_epochs)#, verbose=2) #validation_split=0.2)"
      ],
      "execution_count": 118,
      "outputs": [
        {
          "output_type": "stream",
          "text": [
            "Epoch 1/10\n",
            "495/495 [==============================] - 20s 38ms/step - loss: 1.7923 - acc: 0.1664 - val_loss: 1.7918 - val_acc: 0.1683\n",
            "\n",
            "Epoch 00001: val_loss improved from inf to 1.79176, saving model to my_checkpoint.ckpt\n",
            "Epoch 2/10\n",
            "495/495 [==============================] - 19s 38ms/step - loss: 1.7877 - acc: 0.1862 - val_loss: 1.8062 - val_acc: 0.1776\n",
            "\n",
            "Epoch 00002: val_loss did not improve from 1.79176\n",
            "Epoch 3/10\n",
            "495/495 [==============================] - 19s 38ms/step - loss: 1.4885 - acc: 0.4394 - val_loss: 2.0454 - val_acc: 0.1765\n",
            "\n",
            "Epoch 00003: val_loss did not improve from 1.79176\n",
            "Epoch 4/10\n",
            "495/495 [==============================] - 19s 38ms/step - loss: 0.9139 - acc: 0.6847 - val_loss: 2.6342 - val_acc: 0.1701\n",
            "\n",
            "Epoch 00004: val_loss did not improve from 1.79176\n",
            "Epoch 5/10\n",
            "495/495 [==============================] - 19s 38ms/step - loss: 0.5649 - acc: 0.8289 - val_loss: 3.1817 - val_acc: 0.1660\n",
            "\n",
            "Epoch 00005: val_loss did not improve from 1.79176\n",
            "Epoch 6/10\n",
            "495/495 [==============================] - 19s 39ms/step - loss: 0.3939 - acc: 0.8885 - val_loss: 3.7346 - val_acc: 0.1683\n",
            "\n",
            "Epoch 00006: val_loss did not improve from 1.79176\n",
            "Epoch 7/10\n",
            "495/495 [==============================] - 20s 40ms/step - loss: 0.2879 - acc: 0.9229 - val_loss: 4.0771 - val_acc: 0.1683\n",
            "\n",
            "Epoch 00007: val_loss did not improve from 1.79176\n",
            "Epoch 8/10\n",
            "495/495 [==============================] - 19s 38ms/step - loss: 0.2373 - acc: 0.9357 - val_loss: 4.2996 - val_acc: 0.1706\n",
            "\n",
            "Epoch 00008: val_loss did not improve from 1.79176\n",
            "Epoch 9/10\n",
            "495/495 [==============================] - 19s 38ms/step - loss: 0.2019 - acc: 0.9389 - val_loss: 4.5882 - val_acc: 0.1730\n",
            "\n",
            "Epoch 00009: val_loss did not improve from 1.79176\n",
            "Epoch 10/10\n",
            "495/495 [==============================] - 19s 39ms/step - loss: 0.1804 - acc: 0.9448 - val_loss: 4.6999 - val_acc: 0.1619\n",
            "\n",
            "Epoch 00010: val_loss did not improve from 1.79176\n"
          ],
          "name": "stdout"
        }
      ]
    },
    {
      "cell_type": "code",
      "metadata": {
        "id": "OjuHLyWZ1de-",
        "outputId": "9cb44a63-e803-40f3-fc37-4497b051a6d7"
      },
      "source": [
        "model2.load_weights(checkpoint_path) # 가중치 로드"
      ],
      "execution_count": null,
      "outputs": [
        {
          "output_type": "execute_result",
          "data": {
            "text/plain": [
              "<tensorflow.python.training.tracking.util.CheckpointLoadStatus at 0x7fd616d6cbb0>"
            ]
          },
          "metadata": {
            "tags": []
          },
          "execution_count": 579
        }
      ]
    },
    {
      "cell_type": "code",
      "metadata": {
        "id": "6E0ytD0Q1de-"
      },
      "source": [
        ""
      ],
      "execution_count": null,
      "outputs": []
    },
    {
      "cell_type": "code",
      "metadata": {
        "id": "RDdPOEPa1de-"
      },
      "source": [
        ""
      ],
      "execution_count": null,
      "outputs": []
    },
    {
      "cell_type": "code",
      "metadata": {
        "id": "EiFvmJBJ1de-"
      },
      "source": [
        "#### test 비공개 데이터 예측"
      ],
      "execution_count": null,
      "outputs": []
    },
    {
      "cell_type": "code",
      "metadata": {
        "id": "sYx14Wa41de_"
      },
      "source": [
        "pred = model.predict_proba(test_input)"
      ],
      "execution_count": null,
      "outputs": []
    },
    {
      "cell_type": "code",
      "metadata": {
        "id": "pa_ZRhoC1de_"
      },
      "source": [
        ""
      ],
      "execution_count": null,
      "outputs": []
    },
    {
      "cell_type": "code",
      "metadata": {
        "id": "wKPBpUuO1de_"
      },
      "source": [
        ""
      ],
      "execution_count": null,
      "outputs": []
    },
    {
      "cell_type": "code",
      "metadata": {
        "id": "k3vg1Au31de_"
      },
      "source": [
        ""
      ],
      "execution_count": null,
      "outputs": []
    },
    {
      "cell_type": "code",
      "metadata": {
        "id": "YrOTKlhF1de_"
      },
      "source": [
        ""
      ],
      "execution_count": null,
      "outputs": []
    }
  ]
}